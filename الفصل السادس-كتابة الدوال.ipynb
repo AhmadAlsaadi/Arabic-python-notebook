{
 "cells": [
  {
   "cell_type": "code",
   "execution_count": 1,
   "id": "5e81aa29",
   "metadata": {},
   "outputs": [
    {
     "data": {
      "text/html": [
       "<style type=\"text/css\">@import url('https://www.fontstatic.com/f=yassin,amiri-quran,basim-marah,b-compset');\n",
       "\n",
       "\n",
       ".title{\n",
       "direction: rtl;\n",
       "font-size:100px;\n",
       "padding-right: 15px;\n",
       "line-height:10px;\n",
       "font-family:basim-marah;\n",
       "\n",
       "}\n",
       "\n",
       ".arabic{\n",
       "direction:rtl;\n",
       "font-size:20px;\n",
       "line-height:40px;\n",
       "padding-right: 1cm;\n",
       "padding-left: 1cm;\n",
       "text-align:justify;\n",
       "font-family:amiri-quran;\n",
       "}\n",
       "\n",
       ".horizontal{\n",
       "height:2px;\n",
       "border:none;\n",
       "color:#333;\n",
       "background-color:#333;\n",
       "width:75%;\n",
       "}\n",
       ".jupyter-widgets{\n",
       "    font-size:20px;\n",
       "    direction:rtl;\n",
       "    margin-right:25px;\n",
       "    font-family:amiri-quran;\n",
       "        \n",
       "}\n",
       ".widget-radio-box input{\n",
       "    float:right;\n",
       "    direction:ltr;\n",
       "    margin: 0 calc( var(--jp-widgets-input-padding) * 2 ) 0 10px;\n",
       "    text-align:right;\n",
       "    height: 30px;\n",
       "}\n",
       ".widget-radio{\n",
       "    flex-direction: column;\n",
       "    width:unset;\n",
       "    \n",
       "}\n",
       ".widget-label{  \n",
       "    font-family:amiri-quran;\n",
       "    font-size:18px;\n",
       "    height: 40px;\n",
       "}\n",
       "\n",
       ".widget-radio-box label {\n",
       "    font-size:18px;\n",
       "    height: 30px;\n",
       "}\n",
       "\n",
       ".true-grade{\n",
       "    color:green;\n",
       "}\n",
       ".false-grade{\n",
       "    color:red;\n",
       "}\n",
       "label:lang(en){\n",
       "    direction:ltr;\n",
       "    text-align:right;\n",
       "}\n",
       ".s{\n",
       "    line-height:unset;\n",
       "    height:unset;\n",
       "}\n",
       ".CodeMirror-wrap {\n",
       "    font-size:16px;\n",
       "}\n",
       "\n",
       ".basic_table{\n",
       "    font-size:20px;\n",
       "    color:\"green\";\n",
       "}</style>"
      ],
      "text/plain": [
       "<IPython.core.display.HTML object>"
      ]
     },
     "execution_count": 1,
     "metadata": {},
     "output_type": "execute_result"
    }
   ],
   "source": [
    "import style\n",
    "style._set_css_style(\"custom.css\")"
   ]
  },
  {
   "cell_type": "markdown",
   "id": "35e84e09-27db-4382-91db-fa277c9da0c3",
   "metadata": {},
   "source": [
    "<div class=arabic>\n",
    "<hr class=horizontal>\n",
    "<center>\n",
    "<a id=\"chapter6\"></a>\n",
    "<h1 class=title>\n",
    "الفصل السادس : كتابة الدوال\n",
    "</h1>\n",
    "</center>\n",
    "<hr class=horizontal>\n",
    "</div>"
   ]
  },
  {
   "cell_type": "markdown",
   "id": "e82b7f66-d185-4134-9a06-30e65d6fbf5e",
   "metadata": {},
   "source": [
    "<div class=arabic>\n",
    "في هذا الفصل سوف نتطرق الى معرفة الدوال والتي هي عبارة عن أكود برمجية مستقلة يمكن استدعاءها متى واينما شاء المبرمج. الغرض الاساسي من استخدامها يكمن في تجزئة البرنامج الى اجزاء صغيرة تساعد المبرمج على عدم تكرار الأكواد داخل البرنامج وتسهل عليه عمليه اصلاح الاخطاء.\n",
    "</div>\n",
    "\n"
   ]
  },
  {
   "cell_type": "markdown",
   "id": "76f14c10-da24-4250-8ca8-c87f4e8ed642",
   "metadata": {},
   "source": [
    "<div class=arabic>\n",
    "\n",
    "<h2 class=title>\n",
    "أهداف الفصل\n",
    "</h2>\n",
    "عند اتمام هذا الفصل يجب ان يكون لديك المام بالآتي: \n",
    "\n",
    "<ol>\n",
    "<li> \n",
    "كيفية كتابة دالة وطريقة استدعائها. </li>\n",
    "<li>\n",
    "التعرف على أنواع مدخلات الدوال وكيفية استخدامها. </li>\n",
    "<li>\n",
    "التعرف على مخرجات الدوال.</li> \n",
    "    <li>\n",
    "    التعرف على طريقة الصحيحة لكتابة تعليقات ارشادية بكيفية استخدام الدوال.\n",
    "    </li>\n",
    "</ol>\n",
    "</div>"
   ]
  },
  {
   "cell_type": "markdown",
   "id": "b36e1ac0-b1a4-42a0-83df-ec4d2810a425",
   "metadata": {},
   "source": [
    "<div class=arabic>\n",
    "\n",
    "<h2 class=title>\n",
    "تعريف الدوال\n",
    "</h2>\n",
    "<div>"
   ]
  },
  {
   "cell_type": "markdown",
   "id": "30ba36c0-2842-4c1f-8392-c656db2a05e6",
   "metadata": {},
   "source": [
    "<div class=arabic>\n",
    "لكتابة دالة في بايثون نستخدم def في بداية السطر لتبليغ مفسر بايثون باننا نرغب في تعريف دالة جديدة ثم نتبعها باسم الدالة الذي ينتهي بقوسين يوضع بداخلهما مدخلات الدالة وفي نهاية السطر نكتب نقطتين فوق بعض كما في المثال التالي:\n",
    "</div>"
   ]
  },
  {
   "cell_type": "code",
   "execution_count": null,
   "id": "e6f6df88-9b72-4372-81bb-02113756fd56",
   "metadata": {},
   "outputs": [],
   "source": [
    "def function_name():\n",
    "    pass"
   ]
  },
  {
   "cell_type": "markdown",
   "id": "a79d9320-d458-4e3c-a603-646dbc0d6b15",
   "metadata": {},
   "source": [
    "<div class=arabic>لاحظ ان في الدالة السابقة كتبنا اسم الدالة ليكون function_name وبإمكانك ان تستخدم أي اسم آخر شريطة ان تنطبق عليه شروط كتابة اسم المتغيرات التي تعرفنا عليها في الفصل الثاني. كما اننا في المثال السابق لم نقم بوضع أي مدخلات داخل قوسي الدالة لأن ذلك الامر اختياري بحسب احتياج الدالة للمدخلات. وأخيراً فان كلمة   pass  وهي تعنى ان الدالة تم تعريفها فقط و لا تقوم بعمل اي شيء حتى الان. ولكي نجعل الدالة تقوم بعمل ما فإننا نقوم بكتابة الكود البرمجي ليحل محل كلمة  pass كما في المثال التالي:\n",
    " \n",
    "</div>"
   ]
  },
  {
   "cell_type": "code",
   "execution_count": null,
   "id": "d13ec31b-bca9-491d-bef3-e8a20d312f6e",
   "metadata": {},
   "outputs": [],
   "source": [
    "def hello():\n",
    "    print(\"hello I am inside a function\")"
   ]
  },
  {
   "cell_type": "markdown",
   "id": "0fab05d5-c7ed-434e-8fca-90c4a9393dca",
   "metadata": {},
   "source": [
    "<div class=arabic>\n",
    "لاحظ ايضا ان الكود البرمجي داخل الدالة يكتب بعد ترك مسافة على الاقل بقيمة حرف والمتعارف عليه في بايثون يتم ترك فراغ بمقدار اربعة احرف.جميع اسطر الكود البرمجي يجب ان تترك نفس الفراغ والا سوف يعطي مفسر بايثون اشعارا بوجود خطأ.<br> لا يتم تنفيذ الكود داخل الدالة الا بعد استدعائها وذلك بكتابة اسم الدالة متبوعا بقوسين بداخلهما مدخلات الدالة ان كان هناك مدخلات اما اذا لم يكن هناك مدخلات فيكتفى بكتابة قوسين فارغين كما في المثال التالي:\n",
    "</div>\n",
    "\n"
   ]
  },
  {
   "cell_type": "code",
   "execution_count": null,
   "id": "8ea51808-bee7-43ac-9338-10ba41e3c71c",
   "metadata": {},
   "outputs": [],
   "source": [
    "hello()"
   ]
  },
  {
   "cell_type": "markdown",
   "id": "3e74ee2f-1088-4e1f-9438-fb3e32078462",
   "metadata": {},
   "source": [
    "<div class=arabic>\n",
    "لذلك يمكن كتابة تعريف الدالة في اي مكان من البرنامج بشرط ان لا يسبق استدعاءها تعريفها عند كتابة البرنامج. لاحظ ايضا ان في الامثلة السابقة كتبنا قوسي الدالة فارغين لان الدالة لاتتطلب اي معلومات اضافية لتنفيذ الكود البرمجي داخلها.\n",
    "لنفرض الآن اننا نريد كتابة دالة اكثر ذكاء بحيث تقوم بالقاء التحية على اي شخص ندخل اسمه للداله. للقيام بهذه المهمة يمكن كتابة الدالة بالطريقة التالية:\n",
    "</div>\n",
    "\n"
   ]
  },
  {
   "cell_type": "code",
   "execution_count": null,
   "id": "53b0a4c4-9e9d-43a0-b07f-3af84901166c",
   "metadata": {},
   "outputs": [],
   "source": [
    "def hello(name):\n",
    "    print(\"Hello \"+name)"
   ]
  },
  {
   "cell_type": "markdown",
   "id": "b8662153-6a1e-4eff-abb6-2ebeea7190ee",
   "metadata": {},
   "source": [
    "<div class=arabic>\n",
    "لاحظ عند كتابتنا للدالة السابقة قمنا باعطاء اسم الشخص المراد القاء التحية عليه متغير اسميناه name ووضعناه داخل قوسي الدالة. ومن ثم استخدمنا هذا المتغير في كتابة امر الطباعة. يسمى هذه المتغير مدخل الدالة. وعند استدعاء الدالة ما علينا القيام به هو ادخال اسم المراد القاء التحية عليه كنص كما في المثال التالي:\n",
    " \n",
    "</div>\n",
    "\n"
   ]
  },
  {
   "cell_type": "code",
   "execution_count": null,
   "id": "c98d9a6a-3d2a-4da0-a6cd-43f2d3b16951",
   "metadata": {},
   "outputs": [],
   "source": [
    "hello(\"Ahmad\")\n",
    "hello(\"Ali\")\n",
    "hello(\"Sara\")"
   ]
  },
  {
   "cell_type": "markdown",
   "id": "79a6a83c-50f9-40ee-82f3-490a617b9335",
   "metadata": {},
   "source": [
    "<div class=arabic>\n",
    " كما يمكن كتابة دالة باكثر من مدخل يفصل بينها بفاصلة داخل قوسي الدالة كما في المثال التالي:\n",
    "</div>\n",
    "\n"
   ]
  },
  {
   "cell_type": "code",
   "execution_count": null,
   "id": "779d96b5-d4a0-4c1a-aecc-d9c6ed0ba248",
   "metadata": {},
   "outputs": [],
   "source": [
    "def addition(x,y):\n",
    "    print(\"مجموع الرقمين هو:\", x+y)\n",
    "\n",
    "addition(3,4)"
   ]
  },
  {
   "cell_type": "markdown",
   "id": "f3546a9f-bf84-4403-b2d8-b95e514118ff",
   "metadata": {},
   "source": [
    "<div class=arabic>\n",
    "يجب الاشارة ان مدخلات الدالة تنقسم الى قسمين. القسم الاول يسمى مدخلات الزامية بحيث انه متى تم كتابتها داخل قوسي الدالة عند تعريفها فان الدالة لايمكن استدعاءها الا بعد تزويدها بهذه المدخلات. والقسم الثاني يسمى مدخلات اختيارية. يحيث تعطى هذه المدخلات قيم افتراضية عند تعريف الدالة بستخدام علامة اليساوي \"=\". وعند استدعاء الدالة يمكن للمبرمج استبدال القيم الافتراضية بقيم جديدة والا قام مفسر بايثون باستخدام القيم الافتراضية اذا تم تجاهلها من قبل المبرمج وقت الاستدعاء.ولكي نوضح الفرق بين هذين االنوعين للننظر للمثال التالي:\n",
    "</div>\n",
    "\n"
   ]
  },
  {
   "cell_type": "code",
   "execution_count": null,
   "id": "53847626-5c41-4b7d-9b89-c532da77deab",
   "metadata": {},
   "outputs": [],
   "source": [
    "def addition(x,y=4):\n",
    "    print(x+y)"
   ]
  },
  {
   "cell_type": "markdown",
   "id": "ae357af1-34c7-4fe9-996d-9784a6861134",
   "metadata": {},
   "source": [
    "<div class=arabic>\n",
    "يعتبر المدخل x الزامي بينما المدخل y اختياري وذلك لاننا قمنا باعطائة قيمة افتراضية هي العدد 4.\n",
    "\n",
    "</div>"
   ]
  },
  {
   "cell_type": "markdown",
   "id": "0b4dedc6-308d-448f-99c5-e974386ad349",
   "metadata": {},
   "source": [
    "<div class=arabic>\n",
    "الان اذا اردنا ان نستدعى الدالة السابقة بدون مدخلات فان مفسر بايثون سوف يعطينا اشعارا بوجود خطأ كما في المثال التالي:\n",
    "</div>"
   ]
  },
  {
   "cell_type": "code",
   "execution_count": null,
   "id": "b73c2570-0cae-4c97-92e4-fc3ef7edc067",
   "metadata": {
    "scrolled": true
   },
   "outputs": [],
   "source": [
    "addition()"
   ]
  },
  {
   "cell_type": "markdown",
   "id": "2fb69f7d-1443-4668-8b6e-4eeabbaedba4",
   "metadata": {},
   "source": [
    "<div class=arabic>\n",
    "لنقوم الآن بااستخدام مدخل واحد لاستدعاء الدالة كما في المثال التالي:\n",
    "</div>"
   ]
  },
  {
   "cell_type": "code",
   "execution_count": null,
   "id": "89ee9b40-cbe6-43e8-82c4-538ff3bf041a",
   "metadata": {},
   "outputs": [],
   "source": [
    "addition(2)"
   ]
  },
  {
   "cell_type": "markdown",
   "id": "4624e36f-a181-4372-b737-2a2a46fefc9a",
   "metadata": {},
   "source": [
    "<div class=arabic>\n",
    "المدخل الذي استخدمناه في المثال السابق هو المدخل الالزامي والذي يمثل قيمة x اما المدخل الاختياري فقد قام مفسر بايثون باستخدام قيمته الافتراضية (4) عند اهملنا ادخاله وقت استدعائنا للدالة. اذا رغبنا في تغيير القيمة الافتراضية للمدخل y فاننا نقوم بادخال القيمة وقت استدعاء الدالة بعد ادخال قيمة x اولا كما في المثال التالي:\n",
    "</div>\n",
    "\n"
   ]
  },
  {
   "cell_type": "code",
   "execution_count": null,
   "id": "f3350242-6e6c-4b3b-a3c3-407ec6a49f93",
   "metadata": {},
   "outputs": [],
   "source": [
    "addition(2,9)"
   ]
  },
  {
   "cell_type": "markdown",
   "id": "521c990d-c3d0-462c-83c4-bd25e7f9e9e7",
   "metadata": {},
   "source": [
    "<div class=arabic>\n",
    "ان ترتيب ادخال قيم المدخلات عند استدعاء الدالة مهم جدا ففي المثال السابقة القيمة x اخذت القيمة 2 والقيمة y اخذت القيمة 9 وذلك بحسب الترتيب المتبع عند تعريف الدالة. يجب الاشارة الى انه اذا تم استخدام اسم المدخل عند استداعاء الدالة فان ترتيب المدخلات يصبح غير مهم كما في المثال التالي: \n",
    "</div>\n",
    "\n"
   ]
  },
  {
   "cell_type": "code",
   "execution_count": null,
   "id": "01b145a9-45c5-4fc1-bfcd-acd0c97771ed",
   "metadata": {},
   "outputs": [],
   "source": [
    "addition(y=8,x=1)"
   ]
  },
  {
   "cell_type": "markdown",
   "id": "42930c50-d32b-401b-b656-5e05f51995ae",
   "metadata": {},
   "source": [
    "<div class=arabic>\n",
    "ففي المثال السابق تم ادخال قيمة y قبل قيمة x ولكن مفسر بايثون تعرف على قيم كل مدخل عندما زودناه باسماء المدخلات لذلك اصبح ترتيب المدخلات غير مهم. يجب ان نشير الى ان مفسر بايثون لايسمح بتعريف دالة تحتوي على مدخلات الزامية ومدخلات اختيارية الا بترتيب معين. وهو البدء بالمتغيرات الالزامية اولا ثم المدخلات الاختيارية. وعند تعريف دالة بعكس ذلك فان مفسر بايثون يعطي اشعارا بوجود خطأ كما في المثال التالي:\n",
    "</div>\n",
    "\n"
   ]
  },
  {
   "cell_type": "code",
   "execution_count": null,
   "id": "93e93c3d-c070-41d8-9dd9-9984b3a7e0c2",
   "metadata": {},
   "outputs": [],
   "source": [
    "def addition(y=4,x):\n",
    "    print(x+y)"
   ]
  },
  {
   "cell_type": "markdown",
   "id": "c495fc26-e7e2-4f38-850a-76f73dbd45bf",
   "metadata": {},
   "source": [
    "<div class=arabic>\n",
    " لنفرض الان اننا لا نريد طباعة ما تقوم به الدالة على الشاشة ولكن فقط نريد ارجاع ناتج الدالة بيحث نستطيع كتابة امر الطباعة متى ما شئنا. لكي نقوم بهده المهمة لابد لنا من استخدام الامر return لاخبار الدالة بارجاع محصلة الكود البرمجي داخل الدالة كما في المثال التالي:\n",
    "</div>"
   ]
  },
  {
   "cell_type": "code",
   "execution_count": null,
   "id": "dd52dafd-dc6d-434f-bb18-30409d238593",
   "metadata": {},
   "outputs": [],
   "source": [
    "def addition(x,y):\n",
    "    return x+y\n",
    "\n",
    "sum=addition(3,7)"
   ]
  },
  {
   "cell_type": "markdown",
   "id": "28195bab-1248-483f-8702-e5e376318419",
   "metadata": {},
   "source": [
    "<div class=arabic>\n",
    "في المثال السابق تم اسناد ناتج الدالة الى المتغير sum. ولكي نتأكد ان العملية تمت بنجاح لنقوم بطباعة قيمة sum كما في المثال التالي:\n",
    "</div>\n",
    "\n"
   ]
  },
  {
   "cell_type": "code",
   "execution_count": null,
   "id": "0d7e9d80-37b0-4375-988a-7a9ac41f08f6",
   "metadata": {},
   "outputs": [],
   "source": [
    "print(sum)"
   ]
  },
  {
   "cell_type": "markdown",
   "id": "40386c2f-65bb-44f6-b4e3-8844dc6833a8",
   "metadata": {},
   "source": [
    "<div class=arabic>\n",
    "في حقيقة الامر ان الدالة دائما تقوم بارجاع محصلة حتى لو لم نكتب ما نريد ارجاعه بعد الامر return. فاذا لم نستخدم الامر  return فان الدالة تقوم بارجاع قيمة افتراضية هي None وتعني انه لم يتم ارجاع اي شئ. كما في المثال التالي:\n",
    "</div>\n",
    "\n"
   ]
  },
  {
   "cell_type": "code",
   "execution_count": null,
   "id": "de8707fb-88b5-49c8-8053-89d28bddcef6",
   "metadata": {},
   "outputs": [],
   "source": [
    "def addition(x,y):\n",
    "    z=x+y\n",
    "\n",
    "sum=addition(5,9)\n",
    "print(sum)"
   ]
  },
  {
   "cell_type": "markdown",
   "id": "fef7c53c-a808-4cf2-a77f-960bb523b662",
   "metadata": {},
   "source": [
    "<div class=arabic>\n",
    "    لاحظ ان الدالة السابقة قامت بجمع المدخلين واسناد النتيجة الى المتغير Z. وبما اننا لم نستخدم الامر return لارجاع قيمة المتغير z فان الدالة قامت بارجاع القيمة الافتراضية None. هذي النقطة تقودنا الى ما يسمى بمدى المتغيرات داخل الدوال. فالمتغير z في الدالة السابقة سوف يمسح من الذاكرة بمجرد الانتهاء من استدعاء الدالة لذلك تسمى هذه المتغيرات بالمتغيرات المحلية (local variables). اما المتغيرات التى تقع خارج الدوال فتسمى متغيرات عالمية (global variables) بحيث تحتفظ بقيمتها في اي مكان من البرنامج حتى في داخل الدوال كما في المثال التالي:\n",
    "</div>\n",
    "\n"
   ]
  },
  {
   "cell_type": "code",
   "execution_count": null,
   "id": "4d0376dc-710a-4beb-a29b-977d6c760bf6",
   "metadata": {},
   "outputs": [],
   "source": [
    "x=5\n",
    "def addition(y):\n",
    "    print(x+y)\n",
    "\n",
    "addition(4)"
   ]
  },
  {
   "cell_type": "markdown",
   "id": "3f39af9b-e1b0-4858-9105-b91ed9f9cbbb",
   "metadata": {},
   "source": [
    "<div class=arabic>\n",
    "لكن هناك امر مهم يجب ان تعرفه وهو اننا لايمكننا من تغيير قيم المتغيرات العالمية داخل الدوال الا بعد استخدام كلمة global قبل اسم المتغير المراد تغيير قيمته كما في المثال التالي:\n",
    "</div>\n",
    "\n"
   ]
  },
  {
   "cell_type": "code",
   "execution_count": null,
   "id": "7c2b3e09-780b-4e0b-83b5-631194249620",
   "metadata": {},
   "outputs": [],
   "source": [
    "x=5\n",
    "def change_x(y):\n",
    "    global x\n",
    "    x=y\n",
    "\n",
    "change_x(3)\n",
    "print(x)"
   ]
  },
  {
   "cell_type": "markdown",
   "id": "9ccf015b-7e0b-4ffd-821b-6b06a901892c",
   "metadata": {},
   "source": [
    "<div class=arabic>\n",
    "لاحظ ان كلمة global في المثال السابق ابلغت مفسر بايثون ان هذا المتغير عالمي ويجب الاحتفاظ بقيمته حتى بعد الانتهاء من مهمة الدالة. اما اذا لم نستخدم كلمة global فان مفسر بايثون سوف يفترض ان x متغير محلى وسوف يمحو قيمته من الذاكرة بعد الانتهاء منها ولا يحدث اي تغيير للمتغير العالمي كما في المثال التالي:\n",
    "</div>\n",
    "\n"
   ]
  },
  {
   "cell_type": "code",
   "execution_count": null,
   "id": "35043e27-b2ac-4538-9308-947ed1d46802",
   "metadata": {},
   "outputs": [],
   "source": [
    "x=5\n",
    "def change_x(y):\n",
    "    x=y\n",
    "\n",
    "change_x(4)\n",
    "print(x)"
   ]
  },
  {
   "cell_type": "markdown",
   "id": "9d4dc5df-dd75-48b8-b35d-36e5191636b0",
   "metadata": {},
   "source": [
    "<div class=arabic>\n",
    "ينص دليل بايثون الارشادي رقم PEP 8 الخاص بتوحيد طريقة تنسيق وكتابة الاكواد البرمجية وجعلها سهلة القراءة لكافة المبرمجين على انه يجب كتابة ملخص على شكل تعليق او ملاحظة في السطر الذي يتلو اسم الدالة بحيث يشير فيه المبرمج على الوظيفة التي تقوم بها الدالة كما في المثال التالي:\n",
    "</div>\n",
    "\n"
   ]
  },
  {
   "cell_type": "code",
   "execution_count": null,
   "id": "4d73c0b1-0cf0-4f61-95b9-2a2e15230aa6",
   "metadata": {},
   "outputs": [],
   "source": [
    "def add_two_numbers(x,y):\n",
    "    '''تقوم هذه الدالة بحساب مجموع الرقمين المدخلين وارجاع حاصل جمعها'''\n",
    "    return x+y"
   ]
  },
  {
   "cell_type": "markdown",
   "id": "f14f222e-60d1-460b-8d10-72a84307c753",
   "metadata": {},
   "source": [
    "<div class=arabic>\n",
    "يمكن التعرف على ملخص وظيفة الدالة اذا تم كتابته عند تعريف الدالة باستخدام الامر \"\\__doc__\" بعد كتابة اسم الدالة متبوعا بنقطة كما في المثال التالي:\n",
    "</div>"
   ]
  },
  {
   "cell_type": "code",
   "execution_count": null,
   "id": "fc8489a5-1eb7-4f38-826b-4e424e4548fe",
   "metadata": {},
   "outputs": [],
   "source": [
    "print(add_two_numbers.__doc__)"
   ]
  },
  {
   "cell_type": "markdown",
   "id": "3959c8c0-2f5d-478c-b2a9-0933c3f6d5de",
   "metadata": {},
   "source": [
    "<div class=arabic><h2 class=title>التعليقات الارشادية للدوال</h2></div>"
   ]
  },
  {
   "cell_type": "markdown",
   "id": "205e3c2e-a8c9-4d25-910a-e2a116f69cca",
   "metadata": {},
   "source": [
    "<div class=arabic>\n",
    "ان اول خطوة يقوم بها المبرمج لتسهيل فهم الدالة التي يقوم بإنشائها هي اختيار اسم مناسب لها بحيث يكون هذا الاسم عنوانا لما تقوم به الدالة. لكن في بعض الأحيان يتطلب الامر كتابة اسما طويلا للدالة فيصعب بذلك عملية استدعائها لذلك قد يكتفى بكتابة اسم مختصر للدالة ومن ثم يتم كتابة تعليق بداخلها لشرح طريقة عملها وما تقوم به من مهام. فنجد ان دليل بايثون الارشادي رقم PEP 8 الخاص بتوحيد طريقة تنسيق وكتابة الأكواد البرمجية وجعلها سهلة القراءة لكافة المبرمجين ينص على انه يجب كتابة ملخص على شكل تعليق او ملاحظة في السطر الذي يتلو اسم الدالة بحيث يشير فيه المبرمج على الوظيفة التي تقوم بها الدالة كما في المثال التالي:\n",
    "</div>"
   ]
  },
  {
   "cell_type": "code",
   "execution_count": null,
   "id": "1a7908b9-1dd8-46cd-83d4-9e17e990b55d",
   "metadata": {},
   "outputs": [],
   "source": [
    "def add_two_numbers(x,y):\n",
    "    '''تقوم هذه الدالة بحساب مجموع الرقمين المدخلين وارجاع حاصل جمعها'''\n",
    "    return x+y"
   ]
  },
  {
   "cell_type": "markdown",
   "id": "f00a6455-f1d4-433c-948c-908fbeca9aee",
   "metadata": {},
   "source": [
    "<div class=arabic>\n",
    "يمكن التعرف على ملخص وظيفة الدالة إذا تم كتابته عند تعريف الدالة باستخدام الامر \"__doc__\" بعد كتابة اسم الدالة متبوعا بنقطة كما في المثال التالي:\n",
    "</div>"
   ]
  },
  {
   "cell_type": "code",
   "execution_count": null,
   "id": "3ca14692-dad7-4fa9-9b03-ecc4a95d81b7",
   "metadata": {},
   "outputs": [],
   "source": [
    "def add_two_numbers(x,y):\n",
    "    '''تقوم هذه الدالة بحساب مجموع الرقمين المدخلين وارجاع حاصل جمعها'''\n",
    "    return x+y\n",
    "print(add_two_numbers.__doc__)"
   ]
  },
  {
   "cell_type": "markdown",
   "id": "0a2e55c8-5289-469c-a2af-d32970eabad2",
   "metadata": {},
   "source": [
    "<div class=arabic><h2 class=title>تمارين استكشافية</h2></div>"
   ]
  },
  {
   "cell_type": "markdown",
   "id": "9e460d8e-23e0-4c49-8746-07eb0800b1a9",
   "metadata": {},
   "source": [
    "<div class=arabic>\n",
    "    1.\tتعرف على التعليمات الارشادية للدالة ()len التي تعلمناها سابقاً؟\n",
    "</div>"
   ]
  },
  {
   "cell_type": "code",
   "execution_count": null,
   "id": "4e49915e-c690-422c-9be3-d750a8367be9",
   "metadata": {},
   "outputs": [],
   "source": []
  },
  {
   "cell_type": "markdown",
   "id": "245512e6-d63b-4907-9a9d-99a1ab3a1a6a",
   "metadata": {},
   "source": [
    "<div class=arabic>\n",
    "    1.\tتعرف على التعليمات الارشادية للدالة ()type ؟\n",
    "</div>"
   ]
  },
  {
   "cell_type": "code",
   "execution_count": null,
   "id": "f96f5943-5711-4e70-beea-725e0e0a90db",
   "metadata": {},
   "outputs": [],
   "source": []
  },
  {
   "cell_type": "markdown",
   "id": "81a60cf3-db1d-43d1-94c1-72117621c669",
   "metadata": {},
   "source": [
    "<div class=arabic>\n",
    "    1.\tتعرف على التعليمات الارشادية للدالة ()print ؟\n",
    "</div>"
   ]
  },
  {
   "cell_type": "code",
   "execution_count": null,
   "id": "c26c92ae-9b03-482b-b7ce-a9b6aafb8d1c",
   "metadata": {},
   "outputs": [],
   "source": []
  }
 ],
 "metadata": {
  "kernelspec": {
   "display_name": "Python 3 (ipykernel)",
   "language": "python",
   "name": "python3"
  },
  "language_info": {
   "codemirror_mode": {
    "name": "ipython",
    "version": 3
   },
   "file_extension": ".py",
   "mimetype": "text/x-python",
   "name": "python",
   "nbconvert_exporter": "python",
   "pygments_lexer": "ipython3",
   "version": "3.8.10"
  }
 },
 "nbformat": 4,
 "nbformat_minor": 5
}
