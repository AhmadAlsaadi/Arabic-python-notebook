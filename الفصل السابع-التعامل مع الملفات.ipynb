{
 "cells": [
  {
   "cell_type": "code",
   "execution_count": 1,
   "id": "d053b626",
   "metadata": {},
   "outputs": [
    {
     "data": {
      "text/html": [
       "<style type=\"text/css\">@import url('https://www.fontstatic.com/f=yassin,amiri-quran,basim-marah,b-compset');\n",
       "\n",
       "\n",
       "@font-face {\n",
       "  font-family: Arslan;\n",
       "  src: url(Arslan.ttf);\n",
       "}\n",
       "\n",
       ".title{\n",
       "direction: rtl;\n",
       "font-size:100px;\n",
       "padding-right: 15px;\n",
       "line-height:10px;\n",
       "font-family:basim-marah;\n",
       "}\n",
       "\n",
       "div.text_cell pre.CodeMirror-line {\n",
       "direction:rtl;\n",
       "font-size:20px;\n",
       "color:Blue;\n",
       "line-height:40px;\n",
       "padding-right: 1cm;\n",
       "padding-left: 1cm;\n",
       "text-align:justify;\n",
       "font-family:amiri-quran;\n",
       "}\n",
       ".rendered_html {\n",
       "direction:rtl;\n",
       "font-size:20px;\n",
       "line-height:40px;\n",
       "padding-right: 1cm;\n",
       "padding-left: 1cm;\n",
       "text-align:justify;\n",
       "font-family:amiri-quran;\n",
       "}\n",
       "\n",
       ".rendered_html p {\n",
       "direction:rtl;\n",
       "font-size:20px;\n",
       "line-height:40px;\n",
       "padding-right: 1cm;\n",
       "padding-left: 1cm;\n",
       "text-align:justify;\n",
       "font-family:amiri-quran;\n",
       "}\n",
       "\n",
       ".rendered_html h1{\n",
       "direction: rtl;\n",
       "font-size:200%;\n",
       "text-align:center;\n",
       "padding-right: 55px;\n",
       "font-family:Arslan;\n",
       "}\n",
       "\n",
       ".rendered_html h2{\n",
       "direction: rtl;\n",
       "font-size:171%;\n",
       "padding-right: 55px;\n",
       "line-height:10px;\n",
       "font-family:Arslan;\n",
       "}\n",
       "\n",
       ".rendered_html h3{\n",
       "direction: rtl;\n",
       "font-size:141%;\n",
       "padding-right: 55px;\n",
       "line-height:10px;\n",
       "font-family:Arslan;\n",
       "}\n",
       "\n",
       ".rendered_html ul {\n",
       "    list-style-type: none;\n",
       "}\n",
       "\n",
       ".rendered_html ul li:before {\n",
       "  content: '-';\n",
       "  position: absolute;\n",
       "  margin-right: -10px;\n",
       "}\n",
       "\n",
       ".arabic{\n",
       "direction:rtl;\n",
       "font-size:20px;\n",
       "line-height:40px;\n",
       "padding-right: 1cm;\n",
       "padding-left: 1cm;\n",
       "text-align:justify;\n",
       "font-family:amiri-quran;\n",
       "}\n",
       "\n",
       ".horizontal{\n",
       "height:2px;\n",
       "border:none;\n",
       "color:#333;\n",
       "background-color:#333;\n",
       "width:75%;\n",
       "}\n",
       ".jupyter-widgets{\n",
       "    font-size:20px;\n",
       "    direction:rtl;\n",
       "    margin-right:25px;\n",
       "    font-family:amiri-quran;\n",
       "        \n",
       "}\n",
       ".widget-radio-box input{\n",
       "    float:right;\n",
       "    direction:ltr;\n",
       "    margin: 0 calc( var(--jp-widgets-input-padding) * 2 ) 0 10px;\n",
       "    text-align:right;\n",
       "    height: 30px;\n",
       "}\n",
       ".widget-radio{\n",
       "    flex-direction: column;\n",
       "    width:unset;\n",
       "    \n",
       "}\n",
       ".widget-label{  \n",
       "    font-family:amiri-quran;\n",
       "    font-size:18px;\n",
       "    height: 40px;\n",
       "}\n",
       "\n",
       ".widget-radio-box label {\n",
       "    font-size:18px;\n",
       "    height: 30px;\n",
       "}\n",
       "\n",
       ".true-grade{\n",
       "    color:green;\n",
       "}\n",
       ".false-grade{\n",
       "    color:red;\n",
       "}\n",
       "label:lang(en){\n",
       "    direction:ltr;\n",
       "    text-align:right;\n",
       "}\n",
       ".s{\n",
       "    line-height:unset;\n",
       "    height:unset;\n",
       "}\n",
       ".CodeMirror-wrap {\n",
       "    font-size:16px;\n",
       "}\n",
       "\n",
       ".basic_table{\n",
       "    font-size:20px;\n",
       "    color:\"green\";\n",
       "}\n",
       "ol {\n",
       "    margin-right:25px;\n",
       "}\n",
       "\n",
       ".grid-container {\n",
       "  display: grid;\n",
       "  grid-template-columns: 50% 50%;\n",
       "  gap: 2px;\n",
       "  padding: 2px;\n",
       "}\n",
       "\n",
       ".grid-container > div {\n",
       "  text-align: center;\n",
       "  padding: 20px 0;\n",
       "  font-size: 20px;\n",
       "}</style>"
      ],
      "text/plain": [
       "<IPython.core.display.HTML object>"
      ]
     },
     "execution_count": 1,
     "metadata": {},
     "output_type": "execute_result"
    }
   ],
   "source": [
    "import style\n",
    "style._set_css_style(\"custom.css\")"
   ]
  },
  {
   "cell_type": "markdown",
   "id": "0f190687-6d30-4ac9-af7d-58dd922507e0",
   "metadata": {},
   "source": [
    "<div class=arabic>\n",
    "<hr class=horizontal>\n",
    "<center>\n",
    "<a id=\"chapter7\"></a>\n",
    "<h1 class=title>\n",
    "الفصل السابع : التعامل مع الملفات\n",
    "</h1>\n",
    "</center>\n",
    "<hr class=horizontal>\n",
    "</div>"
   ]
  },
  {
   "cell_type": "markdown",
   "id": "a7654846-71a1-406b-8f73-b5d60ef951df",
   "metadata": {},
   "source": [
    "<div class=arabic>\n",
    "إن جميع البرامج التي قمنا بكتابتها حتى الآن كانت تتطلب إدخال البيانات يدوياً داخل الكود البرمجي قبل تشغيله. وهذه الطريقة تعتبر بدائية الى حد ما وغير مفيدة خاصةً عندما نرغب في إدخال بيانات جديدة غير التي أدخلناها قبل تشغيل البرنامج. لذلك سوف نتطرق الى معرفة كيفية إدخال البيانات للبرنامج بشكل تفاعلي باستخدام الدالة ()input وكذلك طريقة التعامل مع الملفات من أجل قراءتها أو التعديل عليها وحفظ هذه التعديلات لاستخدامها لاحقاً بعد إغلاق البرنامج. \n",
    "</div>"
   ]
  },
  {
   "cell_type": "markdown",
   "id": "0d7e6f4a",
   "metadata": {},
   "source": [
    "<div class=arabic>\n",
    "\n",
    "## أهداف الفصل\n",
    "\n",
    "عند إتمام هذا الفصل يجب أن يكون لديك إلمام بالآتي: \n",
    "\n",
    "<ol>\n",
    "<li> \n",
    "معرفة كيفية استخدام الدالة  ()input من أجل إدخال البيانات للبرنامج بشكل تفاعلي.   </li>\n",
    "<li>\n",
    "التعرف على طريقة فتح الملفات النصية. </li>\n",
    "<li>\n",
    "التعرف على طريقة قراءة البيانات النصية.</li> \n",
    "    <li>\n",
    "    التعرف على طرق الكتابة والحفظ على ملف نصي.\n",
    "    </li>\n",
    "</ol>\n",
    "</div>"
   ]
  },
  {
   "cell_type": "markdown",
   "id": "37417469-9e23-4a0b-a903-8a02facb2231",
   "metadata": {},
   "source": [
    "<div class=arabic>\n",
    "\n",
    "<h2 class=title>\n",
    "إدخال البيانات بشكل تفاعلي\n",
    "</h2>\n",
    "</div>"
   ]
  },
  {
   "cell_type": "markdown",
   "id": "b9796fc1-8f58-43f4-b9cb-a6f12ad26317",
   "metadata": {},
   "source": [
    "<div class=arabic>\n",
    "    في لغة بايثون يتم تكمين مستخدمي البرنامج من إدخال بياناتهم بعد تشغيل البرنامج بغية معالجتها وتحليلها من خلال استخدام الدالة ()input كما في المثال التالي:\n",
    "</div>"
   ]
  },
  {
   "cell_type": "code",
   "execution_count": null,
   "id": "fb0995fc-c235-4950-8f90-1872d95e4cfa",
   "metadata": {},
   "outputs": [],
   "source": [
    "name=input(\"please enter your name: \")\n",
    "print(\"Hello \",name)"
   ]
  },
  {
   "cell_type": "markdown",
   "id": "626fdaf8-f531-480a-bca4-c186f4518bb0",
   "metadata": {},
   "source": [
    "<div class=arabic>\n",
    "فالتركيب اللغوي السابق يطلب من المستخدم بعد تشغيله للبرنامج أن يقوم بإدخال قيمة المتغير name وذلك من خلال كتابة ملاحظة أو رسالة يكتبها المبرمج بين قوسي الدالة ()input على شكل نص لترشد المستخدم الى ما يجب عمله. ويبقى البرنامج منتظراً للمستخدم حتى يدخل قيمة ويضغط على زر الإدخال ليكمل بعدها البرنامج تنفيذ ما تبقى من كود برمجي. \n",
    "</div>"
   ]
  },
  {
   "cell_type": "markdown",
   "id": "2de53593-e3f9-4b7b-ac31-f506604fa796",
   "metadata": {},
   "source": [
    "<div class=arabic>\n",
    "يجب ملاحظة أن كل ما يقوم بإدخاله المستخدم من بيانات في هذا التركيب اللغوي يتم التعامل معه على أنه نص. ويمكن التأكد من هذه المعلومة باستخدام الدالة ()type كما في المثال التالي:\n",
    "</div>"
   ]
  },
  {
   "cell_type": "code",
   "execution_count": null,
   "id": "96240198-f068-4a25-acf8-f9020e6e10bb",
   "metadata": {},
   "outputs": [],
   "source": [
    "num=input(\"Please enter a number: \")\n",
    "print(type(num))"
   ]
  },
  {
   "cell_type": "markdown",
   "id": "3a88a2a0-7d8e-4a67-a711-8db7046c3aac",
   "metadata": {},
   "source": [
    "<div class=arabic>\n",
    "لاحظ أنه بعد إدخال الرقم 10 والضغط على زر الإدخال طبع لنا البرنامج نوع البيان الذي أدخلناه وهو من النوع النصي “str”.\n",
    "وكمثال آخر لنفرض اننا نريد كتابة برنامج يطلب من المستخدم إدخال قيمتين x وy لكي يقوم بحساب حاصل جمعهما. فمن خلال تعلمنا للتركيب اللغوي السابق يمكن كتابة البرنامجع على النحو التالي: \n",
    "</div>"
   ]
  },
  {
   "cell_type": "code",
   "execution_count": 2,
   "id": "63ad44c0-6a47-409c-95bc-4f3ac6a137ef",
   "metadata": {},
   "outputs": [
    {
     "name": "stdout",
     "output_type": "stream",
     "text": [
      "please enter a value for x: 4\n",
      "please enter a value for y: 5\n",
      "The sum of x and y =  45\n"
     ]
    }
   ],
   "source": [
    "x=input(\"please enter a value for x: \")\n",
    "y=input(\"please enter a value for y: \")\n",
    "sum=x+y\n",
    "print(\"The sum of x and y = \",sum)"
   ]
  },
  {
   "cell_type": "markdown",
   "id": "0daff19d-7e32-4cf1-a87f-4184c0b2d818",
   "metadata": {},
   "source": [
    "<div class=arabic>\n",
    "عند تنفيذ البرنامج السابق وإدخال قيمة 5 للمتغير x وقيمة 9 للمتغير y نجد أن هناك مشكلة في البرنامج. فالبرنامج تعامل مع المدخلات على أنها سلسلة نصية وتمت عملية الجمع كما تعلمنا سابقا بتجميع النصوص مع بعضها البعض. يمكن حل هذه المشكلة بتحويل سلسلة النصوص المدخلة الى أرقام عشرية باستخدام الدالة ()float كما في المثال التالي: \n",
    "</div>"
   ]
  },
  {
   "cell_type": "code",
   "execution_count": 3,
   "id": "f7066e9c-ea88-44c1-bd87-8d10423df3aa",
   "metadata": {},
   "outputs": [
    {
     "name": "stdout",
     "output_type": "stream",
     "text": [
      "please enter a value for x: 4\n",
      "please enter a value for y: 5\n",
      "The sum of x and y =  9.0\n"
     ]
    }
   ],
   "source": [
    "x=input(\"please enter a value for x: \")\n",
    "y=input(\"please enter a value for y: \")\n",
    "sum=float(x)+float(y)\n",
    "print(\"The sum of x and y = \",sum)"
   ]
  },
  {
   "cell_type": "markdown",
   "id": "5ad7c103-6362-4fa6-8bb8-b904734ea937",
   "metadata": {},
   "source": [
    "<div class=arabic><h2 class=title>تمارين استكشافية</h2></div>"
   ]
  },
  {
   "cell_type": "markdown",
   "id": "f48582a7-a56b-40f6-ba5f-c91efd7c10e8",
   "metadata": {},
   "source": [
    "<div class=arabic>\n",
    "١- طور البرنامج السابق باستخدام حلقة  \n",
    "while بحيث تجعل البرنامج يسأل المستخدم بعد إجراء عملية الجمع عما إذا كان يرغب في إجراء عملية جمع أخرى أو يرغب في إنهاء البرنامج. فإذا كانت الإجابة بـ yes فعندها يقوم بإجراء عملية جمع أُخرى أما إذا كانت الإجابة بـ no فإن البرنامج يطبع رسالة \"Good by\"؟\n",
    "</div>"
   ]
  },
  {
   "cell_type": "code",
   "execution_count": null,
   "id": "c9b9ba29-fd7b-420d-a9d5-b266f5fca3e8",
   "metadata": {},
   "outputs": [],
   "source": []
  },
  {
   "cell_type": "markdown",
   "id": "069f8ed9-931d-45a5-bc6e-cb9d9fdac362",
   "metadata": {},
   "source": [
    "<div class=arabic>\n",
    "٢- قم بكتابة برنامج يطلب من المستخدم تخمين رقم سري أنت تختاره بين العددين 0 و 20 بحيث يقوم البرنامج بإرشاد المستخدم الي الرقم السري بكتابة تلميح في كل مرة يدخل فيها رقماً غير صحيح. فمثلا إذا أدخل المستخدم رقماً أقل من الرقم السري يظهر البرنامج رسالة تخبره بأن يختار رقماً أكبر والعكس صيحيح إذا كان الرقم المدخل أكبر من الرقم السري؟ عندما يصل المستخدم للرقم السري الصحيح يطبع البرنامج رسالة تفيد بذلك وينهي البرنامج؟\n",
    "</div>"
   ]
  },
  {
   "cell_type": "code",
   "execution_count": null,
   "id": "4ca98e05-b39e-4c6b-b610-09fb116737a8",
   "metadata": {},
   "outputs": [],
   "source": []
  },
  {
   "cell_type": "markdown",
   "id": "4c0529d8-519c-4003-bd8b-6eb352e3f15c",
   "metadata": {},
   "source": [
    "<div class=arabic>\n",
    "٣- طور البرنامج الموجود في تمرين رقم 2 بحيث يعطي البرنامج 3 محاولات فقط للمستخدم للوصول للرقم السري الصحيح؟\n",
    "</div>"
   ]
  },
  {
   "cell_type": "code",
   "execution_count": null,
   "id": "31642812-5fa8-4ef8-9c5c-32c0a3c33489",
   "metadata": {},
   "outputs": [],
   "source": []
  },
  {
   "cell_type": "markdown",
   "id": "e8bcf3e1",
   "metadata": {},
   "source": [
    "## فتح الملفات"
   ]
  },
  {
   "cell_type": "markdown",
   "id": "9b1de151-5a26-48c4-b6c8-764f8de81e6a",
   "metadata": {},
   "source": [
    "<div class=arabic>\n",
    "إن البرامج السابقة لم تكن تمكننا من إدخال البيانات بشكل آلي ولم تكن تمكننا من الإحتفاظ بمخرجات البرنامج بعد أن ينتهي البرنامج من تنفيذ الكود البرمجي. لذلك كان لا بد أن يوجد المبرمجين تركيباً لغوياً يمكننا من التعامل مع الملفات بغرض القراءة منها أو الكتابة عليها. وفي لغة بايثون نجد أن التعامل مع الملفات يتم من خلال استخدام الدالة ()open والتي يكون تركيبها اللغوي على النحو التالي:\n",
    "</div>"
   ]
  },
  {
   "cell_type": "code",
   "execution_count": null,
   "id": "1d911a12-0780-40f3-b74b-e65ee64c2f8e",
   "metadata": {},
   "outputs": [],
   "source": [
    "open(\"filename\",\"mode\",buffer)"
   ]
  },
  {
   "cell_type": "markdown",
   "id": "8f1ed693",
   "metadata": {},
   "source": [
    "حيث تحتوي الدالة على ثلاثة مدخلات أحدهم الزامي والآخران اختياريان وهي على النحو التالي:"
   ]
  },
  {
   "cell_type": "markdown",
   "id": "d4f74ebf",
   "metadata": {},
   "source": [
    "**filename** : مدخل إلزامي يمثل اسم الملف المطلوب التعامل معه. أذا لم يكن اسم الملف موجود في نفس المجلد الذي يتم من خلاله تشغيل البرنامج فلابد من تحديد\n",
    " مسار الملف حتى يتسنى للبرنامج الوصول للملف. كما يجب ملاحظة أن كتابة اسم و مسار الملف دائما ما يكون على هيئة نص أي بمعنى آخر يجب أن يكون بين علامتي تنصيص."
   ]
  },
  {
   "cell_type": "markdown",
   "id": "bf74a199",
   "metadata": {},
   "source": [
    "**Mode** : مدخل اختياري يمثل نوع العملية المراد تنفيذها على الملف.  وعند حذف قيمة هذا المدخل فإن القيمة الافتراضية التي سوف يعتمدها مفسر بايثون هي عملية القراءة \"r\". والجدول التالي يمثل العمليات الأكثر استخداما عند التعامل مع الملفات:"
   ]
  },
  {
   "cell_type": "markdown",
   "id": "df011de0",
   "metadata": {},
   "source": [
    "<div class=arabic>\n",
    "<table style=\"width:80%;font-size:16px\">\n",
    "    <tr>\n",
    "    <td><center>العملية</td>\n",
    "    <td><center>قراءة ملف</td>\n",
    "    <td><center>كتابة ملف</td>\n",
    "    <td>إضافة البيانات الى آخر الملف</td>\n",
    "    </tr>\n",
    "    <tr>\n",
    "        <td border=\"0\"><center>mode</td>\n",
    "        <td><center>\"r\"</td>\n",
    "        <td><center>\"w\"</td>\n",
    "        <td><center>\"a\"</td>\n",
    "    </tr>\n",
    "</table>\n",
    "</div>"
   ]
  },
  {
   "cell_type": "markdown",
   "id": "32938ed9",
   "metadata": {},
   "source": [
    "**buffer** : مدخل اختياري يمثل كمية البيانات التي يُراد قراءتها أو كتابتها الى الملف. وعند حذف هذه القيمة عند استخدام الدالة ()open فإن القيمة الافتراضية التي سوف يعتمدها مفسر بايثون هي قراءة كافة محتويات الملف."
   ]
  },
  {
   "cell_type": "markdown",
   "id": "f216f591-cca3-4b4d-b3bd-1096bc3835de",
   "metadata": {},
   "source": [
    "<div class=arabic>\n",
    "من خلال استخدام التركيب السابق يصبح لدينا كائن في ذاكرة الكمبيوتر فقط تم تحديد نوع العملية المراد عملها من خلاله اما اجراء عملية القراءة والكتابة الفعلية لا تتم الا باستخدام دوال خاصة بالقراءة والكتابة والتي سوف نتعرف عليها بشئ من التفصيل في الجزئية التالية.\n",
    "</div>\n"
   ]
  },
  {
   "cell_type": "markdown",
   "id": "5bed5c35",
   "metadata": {},
   "source": [
    "###  القراءة من الملفات"
   ]
  },
  {
   "cell_type": "markdown",
   "id": "92fff4f7-bac3-4811-9c4d-f36551ccf932",
   "metadata": {},
   "source": [
    "<div class=arabic>يحتوي مجلد الكتاب هذا على مجلد آخر اسمه data يحوي ملفا نصياً اسمه days.txt كتبت فيه مجموعة من البيانات النصية. لنقم بفتح الملف هذا وطباعة ما بداخله من بيانات من خلال كتابة الكود البرمجي التالي: </div>"
   ]
  },
  {
   "cell_type": "code",
   "execution_count": 5,
   "id": "9bdd24a6-c98a-4e53-9dfe-0cafc5c9351a",
   "metadata": {
    "jupyter": {
     "outputs_hidden": true
    }
   },
   "outputs": [
    {
     "name": "stdout",
     "output_type": "stream",
     "text": [
      "Sunday: go to school\n",
      "Monday: play football\n",
      "Tuesday: visit mam\n",
      "Friday: read a chapter from Quran.\n"
     ]
    }
   ],
   "source": [
    "file_name=open(\"data/days.txt\")\n",
    "data=file_name.read()\n",
    "print(data)\n",
    "file_name.close()"
   ]
  },
  {
   "cell_type": "markdown",
   "id": "7c364191-e33e-4083-875d-9fad80807774",
   "metadata": {},
   "source": [
    "<div class=arabic>عند تشغيل الكود السابق سوف يقوم مفسر بايثون بإنشاء كائن برمجي داخل الذاكرة يمثل قناة تواصل بين القرص الصلب الذي يحوي الملف ومفسر بايثون ويتم اسناد هذا الكائن للمتغير  file_name . لاحظ أننا احتجنا الى كتابة مسار الملف لأن الملف الذي نحن بصدده لا يقع في نفس مجلد الكتاب مباشرة وإنما يوجد في مجلد فرعي اسمه data . كما يجب ملاحظة أن مفسر بايثون تعرف على نوع العملية التي نريد القيام بها على الملف على الرغم من عدم تحديدها في مدخلات الدالة ()open وذلك لأن القيمة الافتراضية لنوع العملية mode هي عملية القراءة \"r\" كما أشرنا سابقاً. ومن ثم يقوم بتنفيذ  عملية قراءة محتيويات الملف من خلال الدالة ()read ويقوم بإسناد محتويات الملف للمتغير data وأخيراً يقوم بطباعة محتويات الملف من خلال الدالة  ()print وإغلاق الكائن البرمجي ومسحة من الذاكرة من خلال الدالة ()close. </div>"
   ]
  },
  {
   "cell_type": "markdown",
   "id": "2ea1a001-173e-450d-83ae-7a0d5ade42b6",
   "metadata": {},
   "source": [
    "<div class=arabic>\n",
    "كما يجب الإشارة الى أن هناك دوال أخرى تقوم بعملية القراءة من ملف ولكن بخصائص تختلف قليلاً عن الدالة ()read. فمثلاً يمكن استخدام الدالة ()readline لقراءة سطر واحد من الملف كما في المثال التالي:\n",
    "</div>"
   ]
  },
  {
   "cell_type": "code",
   "execution_count": 6,
   "id": "84aac109-27e7-40f5-8a95-6a8c81700286",
   "metadata": {},
   "outputs": [
    {
     "name": "stdout",
     "output_type": "stream",
     "text": [
      "Sunday: go to school\n",
      "\n"
     ]
    }
   ],
   "source": [
    "file=open(\"data/days.txt\")\n",
    "line=file.readline()\n",
    "print(line)"
   ]
  },
  {
   "cell_type": "markdown",
   "id": "d1f73cbd-1606-4a73-bc9b-5417d61f7462",
   "metadata": {},
   "source": [
    "<div class=arabic>\n",
    "كما يمكن قراءة الملف السابق بأكمله باستخدام الدالة ()readlines (لاحظ s الجمع للتفريق بين الدالة السابقة والدالة التي نحن بصددها الآن) بحيث يكون ناتج القراءة عبارة عن قائمة من البيانات كل بيان فيها يمثل محتوى كل سطر من الملف الذي تتم قراءته كما في المثال التالي:\n",
    "</div>"
   ]
  },
  {
   "cell_type": "code",
   "execution_count": 7,
   "id": "98331317-0f53-4ad1-92ee-91e40a4467c0",
   "metadata": {},
   "outputs": [
    {
     "name": "stdout",
     "output_type": "stream",
     "text": [
      "['Sunday: go to school\\n', 'Monday: play football\\n', 'Tuesday: visit mam\\n', 'Friday: read a chapter from Quran.']\n"
     ]
    }
   ],
   "source": [
    "file=open(\"data/days.txt\")\n",
    "lines=file.readlines()\n",
    "print(lines)"
   ]
  },
  {
   "cell_type": "markdown",
   "id": "036f96c1-7276-448b-b290-4fe635b909f8",
   "metadata": {},
   "source": [
    "<div class=arabic><h2 class=title>تمارين استكشافية</h2></div>"
   ]
  },
  {
   "cell_type": "markdown",
   "id": "32c6ea93-b40b-4469-b1d8-4fb521f59dd4",
   "metadata": {},
   "source": [
    "<div class=arabic>\n",
    "1.\tقم بكتابة برنامج يقرأ من ملف نصي اسمه numbers.txt موجود في نفس المجلد data ويحتوي على الأعداد من 1 الى 10 في السطر الأول و 11 الى 20 في السطر الثاني و 21 الى 30 في السطر الثالث. حاول أن تقرأ محتويات الملف باستخدام الدوال الثلاث السابقة وطباعتها على الشاشة؟\n",
    "</div>"
   ]
  },
  {
   "cell_type": "code",
   "execution_count": null,
   "id": "dd138e77-b1ae-4756-b2b8-1e557e9b856a",
   "metadata": {},
   "outputs": [],
   "source": []
  },
  {
   "cell_type": "markdown",
   "id": "79a2abc8-1eb0-45cc-992d-56fc62cbaf34",
   "metadata": {},
   "source": [
    "<div class=arabic>\n",
    "2.\tحاول التعرف على نوع البيانات الناتجة من عملية القراءة بالدوال الثلاث السابقة باستخدام الدالة ()type؟\n",
    "</div>"
   ]
  },
  {
   "cell_type": "code",
   "execution_count": null,
   "id": "d547174a-d46b-4072-a7e3-14f647471d45",
   "metadata": {},
   "outputs": [],
   "source": []
  },
  {
   "cell_type": "markdown",
   "id": "287e05b6-7c5f-4e4e-9ebd-31253f7a984d",
   "metadata": {},
   "source": [
    "<div class=arabic>\n",
    "    3.\tقم بفتح الملف countries.txt  من المجلد data ثم قم بقراءة الملف وطباعة جميع أسماء الدول الموجودة في الملف؟\n",
    "</div>"
   ]
  },
  {
   "cell_type": "code",
   "execution_count": null,
   "id": "34b8039b-d879-4a9b-a5b0-e5c6cf28808b",
   "metadata": {},
   "outputs": [],
   "source": []
  },
  {
   "cell_type": "markdown",
   "id": "a29cf26d-78b5-43a8-a33b-323b44ac5662",
   "metadata": {},
   "source": [
    "<div class=arabic>\n",
    "4.\tطور البرنامج في التمرين 3 بحيث يقوم بطباعة الدول التي يزيد عدد حروفها عن 10 احرف؟\n",
    "</div>"
   ]
  },
  {
   "cell_type": "code",
   "execution_count": null,
   "id": "b2e334fc-332d-496f-942a-25790a93459b",
   "metadata": {},
   "outputs": [],
   "source": []
  },
  {
   "cell_type": "markdown",
   "id": "003e8975-bba7-465f-ac3d-c355c52d1e5e",
   "metadata": {},
   "source": [
    "<div class=arabic>\n",
    "5.\tطور البرنامج في التمرين 3 بحيث يقوم بطباعة الدول التي يقل عدد حروفها عن 6 احرف؟\n",
    "</div>"
   ]
  },
  {
   "cell_type": "code",
   "execution_count": null,
   "id": "0655ede9-4af8-49ea-a71f-fe18bf8287c8",
   "metadata": {},
   "outputs": [],
   "source": []
  },
  {
   "cell_type": "markdown",
   "id": "4dbc1638",
   "metadata": {},
   "source": [
    "##  الكتابة الى الملفات"
   ]
  },
  {
   "cell_type": "markdown",
   "id": "1d90da48-25c2-4ff7-af03-241743dfea53",
   "metadata": {},
   "source": [
    "<div class=arabic>\n",
    "لنفرض الآن أننا نريد الكتابة على ملف ماذا بوسعنا أن نغير في الدالة ()open للقيام بهذه المهمة؟ \n",
    "في حقيقة الأمر إن الكتابة على ملف تتطلب فقط القيام بتغيير قيمة النمط (mode) الافتراضية في الدالة ()open والتي تمثل المدخل الثاني الذي يلي اسم الملف كما في المثال التالي:\n",
    "</div>"
   ]
  },
  {
   "cell_type": "code",
   "execution_count": null,
   "id": "960c32e2-7c36-4e35-95a8-2f77824170d5",
   "metadata": {},
   "outputs": [],
   "source": [
    "file=open(\"data/weeks.txt\",\"w\")"
   ]
  },
  {
   "cell_type": "markdown",
   "id": "90acb98f",
   "metadata": {},
   "source": [
    "<div class=arabic>\n",
    "عند كتابة \"w\" كمدخل ثاني في الدالة ()open فإن مفسر بايثون سوف يقوم بإنشاء كائن أرتباط للكتابة بدلاً من كائن إرتباط للقراءة. لكن يجب ملاحظة أن هناك اختلاف بسيط بين نمطي الكتابة والقراءة. فنمط الكتابة عند عدم وجود الملف المحدد فإن مفسر بايثون يقوم بإنشائه تلقائيا بينما نمط القراءة يعطي رسالة بوجود خطأ في حال عدم العثور على الملف. \n",
    "</div>"
   ]
  },
  {
   "cell_type": "markdown",
   "id": "0bb60f72-0457-4775-b7e9-15a37620ec8a",
   "metadata": {},
   "source": [
    "<div class=arabic>\n",
    "ودالة الكتابة في بايثون هي ()write. ويتم التعامل معها تقريباً بنفس الطريقة التي استخدمناها مع دالة القراءة كما هو موضح في المثال التالي:\n",
    "</div>"
   ]
  },
  {
   "cell_type": "code",
   "execution_count": null,
   "id": "2090fd52-6560-4011-befe-659c0d7ff149",
   "metadata": {},
   "outputs": [],
   "source": [
    "file=open(\"data/weeks.txt\",\"w\")\n",
    "file.write(\"1st week 2nd week 3rd week 4th week\")\n",
    "file.close()"
   ]
  },
  {
   "cell_type": "markdown",
   "id": "4ac2dd1f-0cb4-44e3-b027-5c8c431c4670",
   "metadata": {},
   "source": [
    "<div class=arabic>\n",
    "فبعد إنشاء كائن الإرتباط للكتابة  file نستخدم الدالة ()write لتنفيذ عملية الكتابة على الملف والتي هي هنا عبارة عن نص وضع بين قوسي الدالة ()write. ويمكن كذلك استخدام الدالة ()writelines وذلك لكتابة قائمة من البيانات كما في المثالين التاليين:\n",
    "</div>"
   ]
  },
  {
   "cell_type": "code",
   "execution_count": 8,
   "id": "635889d6",
   "metadata": {},
   "outputs": [],
   "source": [
    "file=open(\"data/greeting.txt\",\"w\")\n",
    "file.write(\"you reached good level in python\")\n",
    "file.close()"
   ]
  },
  {
   "cell_type": "code",
   "execution_count": 9,
   "id": "aee2b148-5148-45f0-8abc-8edd373593c8",
   "metadata": {},
   "outputs": [],
   "source": [
    "file=open(\"data/greeting.txt\",\"w\")\n",
    "file.writelines([\"Welcome \",\"to \", \"python \", \"world!\"])\n",
    "file.close()"
   ]
  },
  {
   "cell_type": "markdown",
   "id": "e7361812",
   "metadata": {},
   "source": [
    "<div class=arabic>\n",
    "يجب ملاحظة أن فتح ملف بغرض الكتابة عليه يختلف بحسب النمط المدخل. فالنمط \"w\" يعنى مسح محتويات الملف السابقة إن وجدت والكتابة على الملف من بدايته. أما إذا استخدمنا النمط \"a\" كمدخل ثاني في الدالة ()open فإن ذلك يعنى أن محتويات الملف السابقة لا يتم مسحها وإنما تتم الكتابة من حيث ما أنتهى محتوى الملف السابق. وهناك أنماط أخرى لا يسعنا الحديث عنها هنا ويمكن البحث عنها من خلال محركات البحث للاستزادة.\n",
    "</div>"
   ]
  },
  {
   "cell_type": "markdown",
   "id": "f2a77bdd-1c2c-452e-b7bd-9a97c39dd129",
   "metadata": {},
   "source": [
    "<div class=arabic><h2 class=title>تمارين استكشافية</h2></div>"
   ]
  },
  {
   "cell_type": "markdown",
   "id": "09c8b7a0-0676-4613-9c35-4451b54b5c3d",
   "metadata": {},
   "source": [
    "<div class=arabic>\n",
    "    １-\tلتأكد أن عمليتي الكتابة في المثالين السابقين تمتا بشكل صحيح. قم بتنفيذ كل كود ومن ثم قم بكتابة كود برمجي آخر يقوم بقراءة وطباعة ما تم كتابته؟\n",
    "</div>"
   ]
  },
  {
   "cell_type": "code",
   "execution_count": null,
   "id": "f11e2587-ec47-4096-a855-999aa398a903",
   "metadata": {},
   "outputs": [],
   "source": []
  },
  {
   "cell_type": "markdown",
   "id": "08f87007-3e4b-44af-bf95-afe5828320fb",
   "metadata": {},
   "source": [
    "<div class=arabic>\n",
    "２-\tقم بفتح الملف countries.txt  وحاول كتابة عدد الدول في نهاية الملف؟\n",
    "</div>"
   ]
  },
  {
   "cell_type": "code",
   "execution_count": null,
   "id": "ff3019a1-d420-40cb-ba8f-1401a7056872",
   "metadata": {},
   "outputs": [],
   "source": []
  },
  {
   "cell_type": "markdown",
   "id": "88e7d434-dba2-44e6-a463-5bee4c4b0b34",
   "metadata": {},
   "source": [
    "<div class=arabic>\n",
    "إن فتح ملف سواءً للقراءة أو الكتابة بالطريقة السابقة قد يسبب إشكالية في نفاذ جزء من مساحة الذاكرة وذلك لأن الملف الذي تم فتحه سوف يظل في ذاكرة الكمبيوتر حتى يتم إغلاقه. لذلك فإن استخدام الطريقة السابقة للتعامل مع الملفات يتطلب تنظيف الذاكرة بعد الإنتهاء من عملية القراءة أو الكتابة باستخدام الدالة ()close كما في المثال التالي:\n",
    "</div>"
   ]
  },
  {
   "cell_type": "code",
   "execution_count": null,
   "id": "e499b5da-3d96-4c2e-a2e1-1c644a4ed0d5",
   "metadata": {},
   "outputs": [],
   "source": [
    "file=open(\"data/weeks.txt\")\n",
    "content=file.read()\n",
    "print(content)\n",
    "file.close()"
   ]
  },
  {
   "cell_type": "markdown",
   "id": "610dc6b7-aa4a-4c6e-98c8-6b6a4c061c9c",
   "metadata": {},
   "source": [
    "<div class=arabic>\n",
    "ولتلافي نسيان إغلاق الملفات بعد الإنتهاء من إجراء العمليات عليها يمكن استخدام تركيب لغوي آخر في لغة بايثون يعتمد على استخدام البادئة with والذي من خلاله يقوم مفسر بايثون بإغلاق الملف المفتوح بمجرد الانتهاء من هذه المهمة كما في المثال التالي:\n",
    "</div>"
   ]
  },
  {
   "cell_type": "code",
   "execution_count": null,
   "id": "e82b22bc-b16c-45f8-b1d1-350ffd7e275d",
   "metadata": {},
   "outputs": [],
   "source": [
    "with open(\"data/weeks.txt\") as file:\n",
    "    content=file.read()\n",
    "    print(content)"
   ]
  },
  {
   "cell_type": "markdown",
   "id": "6afe4f80-de85-4c17-a621-f9fc382eab2d",
   "metadata": {},
   "source": [
    "<div class=arabic>\n",
    "لاحظ أن في المثال السابق تم استخدام الاتي:<br>\n",
    "•\tبدء التركيب اللغوي باستخدام كلمة with.<br>\n",
    "•\tاستخدام كلمة as لإسناد كائن الربط الى المتغير file.<br>\n",
    "•\tاستخدام النقطتين فوق بعض \":\" عند نهاية السطر الأول.<br>\n",
    "•\tترك مسافة في الأسطر التي تلي السطر الأول للقيام بالعمليات المطلوبة على الملف المفتوح.<br>\n",
    "•\tيتم اقفال كائن الإرتباط بعد الإنتهاء من آخر سطر في الأسطر المبدوءة بترك مسافة.\n",
    "</div>"
   ]
  },
  {
   "cell_type": "markdown",
   "id": "e775a815-8f14-4f03-82c5-32f1efd70e36",
   "metadata": {},
   "source": [
    "<div class=arabic><h2 class=title>تمارين استكشافية</h2></div>"
   ]
  },
  {
   "cell_type": "markdown",
   "id": "8064d075-72bc-4ffa-af66-6e3b013c2a3f",
   "metadata": {},
   "source": [
    "<div class=arabic>\n",
    "    １-\tقم بإعادة كتابة تمارين القراءة والكتابة السابقة باستخدام التركيب اللغوي with؟\n",
    "</div>"
   ]
  },
  {
   "cell_type": "code",
   "execution_count": null,
   "id": "df73d552",
   "metadata": {},
   "outputs": [],
   "source": []
  }
 ],
 "metadata": {
  "kernelspec": {
   "display_name": "Python 3 (ipykernel)",
   "language": "python",
   "name": "python3"
  },
  "language_info": {
   "codemirror_mode": {
    "name": "ipython",
    "version": 3
   },
   "file_extension": ".py",
   "mimetype": "text/x-python",
   "name": "python",
   "nbconvert_exporter": "python",
   "pygments_lexer": "ipython3",
   "version": "3.8.10"
  }
 },
 "nbformat": 4,
 "nbformat_minor": 5
}
