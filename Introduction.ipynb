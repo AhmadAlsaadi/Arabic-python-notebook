{
 "cells": [
  {
   "cell_type": "code",
   "execution_count": 1,
   "metadata": {},
   "outputs": [
    {
     "data": {
      "text/html": [
       "<style type=\"text/css\">@import url('https://www.fontstatic.com/f=yassin,amiri-quran,basim-marah,b-compset');\n",
       "\n",
       "\n",
       ".title{\n",
       "direction: rtl;\n",
       "font-size:100px;\n",
       "padding-right: 15px;\n",
       "line-height:10px;\n",
       "font-family:basim-marah;\n",
       "\n",
       "}\n",
       "\n",
       ".arabic{\n",
       "direction:rtl;\n",
       "font-size:20px;\n",
       "line-height:40px;\n",
       "padding-right: 1cm;\n",
       "padding-left: 1cm;\n",
       "text-align:justify;\n",
       "font-family:amiri-quran;\n",
       "}\n",
       "\n",
       ".horizontal{\n",
       "height:2px;\n",
       "border:none;\n",
       "color:#333;\n",
       "background-color:#333;\n",
       "width:75%;\n",
       "}\n",
       ".jupyter-widgets{\n",
       "    font-size:20px;\n",
       "    direction:rtl;\n",
       "    margin-right:25px;\n",
       "    font-family:amiri-quran;\n",
       "        \n",
       "}\n",
       ".widget-radio-box input{\n",
       "    float:right;\n",
       "    direction:ltr;\n",
       "    margin: 0 calc( var(--jp-widgets-input-padding) * 2 ) 0 10px;\n",
       "    text-align:right;\n",
       "    height: 30px;\n",
       "}\n",
       ".widget-radio{\n",
       "    flex-direction: column;\n",
       "    width:unset;\n",
       "    \n",
       "}\n",
       ".widget-label{  \n",
       "    font-family:amiri-quran;\n",
       "    font-size:18px;\n",
       "    height: 40px;\n",
       "}\n",
       "\n",
       ".widget-radio-box label {\n",
       "    font-size:18px;\n",
       "    height: 30px;\n",
       "}\n",
       "\n",
       ".true-grade{\n",
       "    color:green;\n",
       "}\n",
       ".false-grade{\n",
       "    color:red;\n",
       "}\n",
       "label:lang(en){\n",
       "    direction:ltr;\n",
       "    text-align:right;\n",
       "}\n",
       ".s{\n",
       "    line-height:unset;\n",
       "    height:unset;\n",
       "}\n",
       ".CodeMirror-wrap {\n",
       "    font-size:16px;\n",
       "}\n",
       "</style>"
      ],
      "text/plain": [
       "<IPython.core.display.HTML object>"
      ]
     },
     "execution_count": 1,
     "metadata": {},
     "output_type": "execute_result"
    }
   ],
   "source": [
    "from IPython.core.display import HTML\n",
    "\n",
    "def _set_css_style(css_file_path):\n",
    "   \"\"\"\n",
    "   Read the custom CSS file and load it into Jupyter.\n",
    "   Pass the file path to the CSS file.\n",
    "   \"\"\"\n",
    "\n",
    "   styles = open(css_file_path, \"r\").read()\n",
    "   s = '<style type=\"text/css\">%s</style>' % styles     \n",
    "   return HTML(s)\n",
    "_set_css_style(\"custom.css\")"
   ]
  },
  {
   "cell_type": "markdown",
   "metadata": {},
   "source": [
    "<div class=\"arabic\"><center>بسم الله الرحمن الرحيم</center></div>"
   ]
  },
  {
   "cell_type": "markdown",
   "metadata": {},
   "source": [
    "<img src=\"img/python.png\" style=\"width:200px;  margin:0px; transform:rotate(180deg)\" align=\"right\">"
   ]
  },
  {
   "cell_type": "markdown",
   "metadata": {},
   "source": [
    "<hr align=\"right\" width=\"300px\">\n",
    "<div class=arabic >\n",
    "    <h1 class=title align=\"center\" style=\"font-size:70px\" margin=\"0px\" padding=\"0px\">قرة العيون في تبسيط لغة بايثون</h1>\n",
    "</div>\n",
    "<hr align=\"left\" width=\"300px\">"
   ]
  },
  {
   "cell_type": "markdown",
   "metadata": {},
   "source": [
    "<img src=\"img/python.png\" style=\"width:200px;  margin:0px; transform:rotate(180deg)\" align=\"left\">"
   ]
  },
  {
   "cell_type": "markdown",
   "metadata": {},
   "source": [
    "<div class=arabic>\n",
    "<h2 class=title style=\"padding-right:15px;\">\n",
    "مقدمة\n",
    "</h2>\n",
    "</div>"
   ]
  },
  {
   "cell_type": "markdown",
   "metadata": {},
   "source": [
    "<div class=arabic>\n",
    "الحمد لله الذي تتم بفضله الصالحات واصلي وأسلم على خير البشر نبينا محمد صلى الله عليه وسلم وعلى آله وصحبه الطيبين الطاهرين. اما بعد:\n",
    "<br>\n",
    "فلقد لاحظت خلال فترة تعلمي للغة بايثون افتقار المكتبة العربية الى كتاب مكتمل يشرح مبادي هذه اللغة بشكل منظم وبسيط. فعقدت العزم على تأليف هذه الكتاب وذلك لما رايته من الأهمية بمكان ان يتعلم القارئ العربي هذه اللغة والتي أصبحت اللغة البرمجية المحبوبة لدي الكثير من العلماء والباحثين والمهندسين. فمعظم جامعات العالم اليوم أصبحت تدرسها لطلابها لانها لغة برمجية سهلة و قوية في نفس الوقت ويمكن استخدامها في مجالات عدة. لذلك اردت ان يكون هذا الكتاب لبنة أولى للمساهمة في تعليم هذه اللغة وحافزا الى تدريسها في مدارسنا الحكومية في مراحل مبكرة كالمتوسطة والثانوية مثلا وذلك لان الأجيال الحالية لديها شغف غير مسبوق  على التعرف على كل ماهو جديد في عالم التقنية وخصوصا الكمبيوترية منها. فكل ما يحتاجة هذا الجيل هو استخدام طريقة سهلة وشيقة تعرفهم بهذه اللغة وتعزز شغفهم بالتقنية  فيصبحوا قادرين على تعلمها والاستفادة منها دون مشقة او عناء. وبما ان هذا العمل بشري المصدر فانه لا يصل الى درجة الكمال لذلك ارجو ممن سنحت له الفرصة لقراءة هذا الكتاب ان يساهم في تحسين محتواه بارسال ملاحظاته الى ايميل المؤلف ahmad.alsaadi@uj.edu.sa\n",
    " الذي يعدكم على اخذها في عين الاعتبار متى ما سنحت الفرصة لاصدار طبعة جديدة لهذا الكتاب.\n",
    "</div>"
   ]
  },
  {
   "cell_type": "markdown",
   "metadata": {},
   "source": [
    "<div class=arabic>\n",
    "<br>\n",
    "<center>\n",
    "<h1 class=title>\n",
    "المحتويات\n",
    "</h1>\n",
    "</center>\n",
    "<hr class=horizontal>\n",
    "</div>"
   ]
  },
  {
   "cell_type": "markdown",
   "metadata": {},
   "source": [
    "<div class=arabic>\n",
    "<strong>\n",
    "الفصل الاول:\n",
    "</strong>\n",
    "<a href=\"#chapter1\">\n",
    "نبذة عن لغة بايثون\n",
    "</a>\n",
    "<br>\n",
    "<strong>\n",
    "الفصل الثاني:\n",
    "</strong>\n",
    "<a href=\"#chapter2\">\n",
    "المبادئ الاساسية للغة بايثون\n",
    "</a>\n",
    "<br>\n",
    "<strong>\n",
    "الفصل الثالث:\n",
    "</strong>\n",
    "<a href=\"#chapter3\">\n",
    "التعامل مع البيانات التجميعية\n",
    "</a>\n",
    "<br>\n",
    "<strong>\n",
    "الفصل الرابع:\n",
    "</strong>\n",
    "<a href=\"#chapter4\">\n",
    "اتخاذ القرارات\n",
    "</a>\n",
    "<br>\n",
    "<strong>\n",
    "الفصل الخامس:\n",
    "</strong>\n",
    "<a href=\"#chapter5\">\n",
    "حلقات التكرار\n",
    "</a>\n",
    "<br>\n",
    " <strong>\n",
    "الفصل السادس:\n",
    "</strong>\n",
    "<a href=\"#chapter6\">\n",
    "كتابة الدوال\n",
    "</a>\n",
    "<br>\n",
    "<strong>\n",
    "الفصل السابع:\n",
    "</strong>\n",
    "<a href=\"#chapter7\">\n",
    "التعامل مع الملفات\n",
    "</a>\n",
    "<br>\n",
    "<strong>\n",
    "الفصل الثامن:\n",
    "</strong>\n",
    "<a href=\"#chapter8\">\n",
    "التعامل مع المكتبات\n",
    "</a>\n",
    "<br>\n",
    "<strong>\n",
    "الفصل التاسع:\n",
    "</strong>\n",
    "<a href=\"#chapter9\">\n",
    "البرمجة الكائنية في بايثون\n",
    "</a>\n",
    "<br>\n",
    "<strong>\n",
    "الفصل العاشر:\n",
    "</strong>\n",
    "<a href=\"#chapter10\">\n",
    "برمجة واجهة المستخدم\n",
    "</a>\n",
    "<br>\n",
    "</div>"
   ]
  },
  {
   "cell_type": "markdown",
   "metadata": {},
   "source": [
    "<div class=arabic>\n",
    "<br>\n",
    "<center>\n",
    "<a id=\"chapter1\"></a>\n",
    "<h1 class=title>\n",
    "الفصل الاول : نبذة عن لغة بايثون\n",
    "</h1>\n",
    "</center>\n",
    "<hr class=horizontal>\n",
    "</div>"
   ]
  },
  {
   "cell_type": "markdown",
   "metadata": {},
   "source": [
    "<div class=arabic>    \n",
    "<h2 class=title>\n",
    "تعريف لغة بايثون\n",
    "</h2>\n",
    "بايثون  (python) لغة برمجية مفتوحة المصدر (open source) من المستوى العالي  (high level) سهلة التعلم يمكن الاعتماد عليها في كتابة الكثير من التطبيقات البرمجية القوية. وأكبر دليل على ذلك هو استخدام وكالة الارصاد الامريكية ناسا وشركتا قوقل وياهو وغيرها من الشركات الكبرى لهذه اللغة في بناء برامجهم المختلفة. \n",
    "</div>"
   ]
  },
  {
   "cell_type": "markdown",
   "metadata": {},
   "source": [
    "<div class=arabic>\n",
    "<h2 class=title>\n",
    "نشأة لغة بايثون\n",
    "</h2>\n",
    "كانت بدايات نشأة هذه اللغة في هولندا على يد شخص يدعي جويدو فان روزم\n",
    " (Guido van Rossum) في نهاية الثمانيات الميلادية من القرن العشرين. حيث تم الاعلان عنها في عام ١٩٩١م. كما يعتبر فتح مصدر هذه اللغة من اهم الاسباب التي ادت الى زيادة شهرتها من خلال تكوين مجتمع برمجي نشط حولها اسهم في  انشاء مكتبات كثيرة سهلت على المطورين الاخرين بناء تطبيقاتهم بسرعة و سهوله فائقة مقارنة باللغات البرمجية الأخرى. \n",
    "</div>"
   ]
  },
  {
   "cell_type": "markdown",
   "metadata": {},
   "source": [
    "<div class=arabic>\n",
    "<h2 class=title>\n",
    "مزايا لغة بايثون\n",
    "</h2>\n",
    "للغة بايثون مزايا عدة جعلت منها اللغة المفضلة الاولى لدى كثير من المبرمجين ومن بين اهم هذه المزايا نذكر:\n",
    "<br>\n",
    "<ol>\n",
    "<li>\n",
    "سهولة التراكيب اللغوية: فاكوادها البرمجية تكتب بطريقة قريبة جدا من اللغة الانجليزية. لذلك نجدها لا تشكل اي عائق امام أي مبرمج ان يفهم الأكواد المكتوبة من قبل مبرمجين اخرين عندما يستدعي الامر صيانة تلك الاكواد او تحديثها.\n",
    "<li>\n",
    "المرونة: يمكن تشغيل وتطوير البرامج المكتوبة بلغة بايثون على معظم انظمة التشغيل المعروفة. فالأكواد التي تم تطويرها على نظام ويندوز يمكن تشغيلها على نظام ماك ولينكس والعكس صحيح دون الحاجة الى اعادة بناء الأكواد (compiling).\n",
    "<li>\n",
    "كثرة المكتبات: يعتبر توفر المكتبات من اهم المزايا التي تقدمها اللغة للمبرمجين لتزيد من فعاليتهم في بناء التطبيقات. لذلك عند تنصيب اصدارة بايثون نجد انها تحتوي على مكتبات قياسية كثيرة بعضها يعتبر جزء لا يتجزأ من تراكيب اللغة كمكتبة الارقام والقوائم وبعضها الاخر يعمل على تسهيل التعامل مع انظمة التشغيل اما الجزء الاكبر من هذه المكتبات فهو اختياري يتم استيراده متى ما دعت الحاجة لذلك. كما ان هناك مكتبات اخري تحتاج الى تنصيب قبل ان يتمكن المبرمج من استيرادها واستخدامها في برنامجه. وهذه المكتبات مجانية ويمكن تحميلها وتنصيبها اما من الموقع الخاص بالمطورين لهذه المكتبة او من موقع  <a href=\"http://pypi.python.org \"> http://pypi.python.org </a>\n",
    " والذي يحتوي حتى وقت كتابة هذا الكتاب على 69478 مكتبة مجانية جاهزة يمكن استخدامها في بناء التطبيقات المختلقة.\n",
    "<li>\n",
    "التكامل مع لغات برمجية اخرى: يمكن استخدام بايثون كلغة مساندة تمكن المستخدم لبرنامج مكتوب بلغة سي (C) او سي بلس بلس (++C) مثلا من زيادة او تعديل خصائص ذلك البرنامج ليتناسب مع احتياج المستخدم. ومن أقرب الامثلة على ذلك هو استخدام لغة بايثون في برنامج فري كاد (FreeCAD) كلغة برمجة نصية للتحكم بكافة خصائص البرنامج ووظائفه.\n",
    "</ol>\n",
    "</div>"
   ]
  },
  {
   "cell_type": "markdown",
   "metadata": {},
   "source": [
    "<div class=arabic>\n",
    "<h2 class=title>\n",
    "اصدارات لغة بايثون\n",
    "</h2>\n",
    "هناك اصدارتان لبايثون. الإصدارة الأولى تعرف ببايثون 2 وهي الاقدم والاصدارة الاخرى تدعى بايثون 3 وهي الاحدث.\n",
    "</div>"
   ]
  },
  {
   "cell_type": "markdown",
   "metadata": {},
   "source": [
    "<div class=arabic>\n",
    "<h2 class=title>\n",
    "توزيعات بايثون\n",
    "</h2>\n",
    "بالاضافة الى التوزيعة الرسمية التي يمكن تحميلها من\n",
    " <a href=\"http://www.python.org\">www.python.org</a>\n",
    " هناك توزيعات اخري تأتي محملة بمكتبات ومدير ادارة مكتبات تهدف الى اراحة المستخدم من عناء تحميل المكتبات واضافتها للاصدارة الرسمية. معظم هذه التوزيعات تأتي على شكل اصدارة مجانية واصدارة تجارية.ومن بين هذه التوزيعات مايلي:\n",
    "<br>\n",
    "<ul>\n",
    "<li>\n",
    "توزيعة Anaconda: يمكن تحميل هذه التوزيعة من\n",
    " <a href=\"http://www.continuum.io\">www.continuum.io</a>\n",
    "  ويمكن تنصيب هذه التوزيعة على ويندوز وماك ولينكس. تحتوي التوزيعة على اكثر من 100 مكتبة و مدير ادارة مكتبات يدعى conda. كما يوجد لهذه التوزيعة اصدارة مصغرة تدعى miniconda واصدارات تجارية اخرى.\n",
    "<li>\n",
    "توزيعة Enthought Canopy: يمكن تحميل هذه التوزيعة من \n",
    "<a href=\"http://www.enthought.com/porducts/canopy\">www.enthought.com/products/canopy</a>\n",
    " . تأتي هذه التوزيعة باصدارة تجارية واصدارة مجانية لمدة سنه قابلة للتجديد للاكاديمين والطلاب و لكن بعد اجراء عملية التسجيل. تحتوي الاصدارة على مفسر بايثون 2 و اكثر من 450 مكتبة متخصصة للاغراض العلمية والتحليلية. كما ان عملية التسجيل تسمح للمستخدم بالاطلاع على الفيديوهات التعليمية المعمولة من قبل Enthought . \n",
    "<li>\n",
    "توزيعة ActivePython:\n",
    "\n",
    "</ul>\n",
    "</div>"
   ]
  },
  {
   "cell_type": "markdown",
   "metadata": {},
   "source": [
    "<div class=arabic>\n",
    "<h2 class=title>\n",
    "تنصيب بايثون\n",
    "</h2>\n",
    "بما ان ميكروسوفت ويندوز مازال اكثر انطمة التشغيل شيوعا وخاصة في الوطن العربي فاننا سنبدأ بشرح طريقة تنصيب مفسر لغة بايثون على هذا النظام اولا.\n",
    "\n",
    "\n",
    "<h3 class=title>\n",
    "تنصيب بايثون على نظام ويندوز:\n",
    "</h3>\n",
    "كما ذكرنا سابقا فان بايثون ياتي بتوزيعة رسمية من موقع  <a href=\"http://www.python.org\">www.python.org</a> وتوزيعات اخرى تحتوي على بعض الاضافات مثل  Anaconda و Canopy وغيرها من التوزيعات وفي هذا المقام فإننا سوف نقوم بشرح طريقة تنصيب مفسر بايثون 3 من الموقع الرسمي وكذلك توزيعة anaconda لشهرتها الواسعة بين العلماء والباحثين. واليك الخطوات التالية التي تساعدك على عمل ذلك   \n",
    "</div>"
   ]
  },
  {
   "cell_type": "markdown",
   "metadata": {},
   "source": [
    "<div class=arabic>\n",
    "  <h4 class=title>\n",
    "أولاً: تصيب اصدارة بايثون الرئيسية</h4>  \n",
    "</div>"
   ]
  },
  {
   "cell_type": "code",
   "execution_count": 2,
   "metadata": {},
   "outputs": [
    {
     "data": {
      "image/jpeg": "[encoded data removed]",
      "text/html": [
       "\n",
       "        <iframe\n",
       "            width=\"400\"\n",
       "            height=\"300\"\n",
       "            src=\"https://www.youtube.com/embed/Id_DbmP6PbI\"\n",
       "            frameborder=\"0\"\n",
       "            allowfullscreen\n",
       "        ></iframe>\n",
       "        "
      ],
      "text/plain": [
       "<IPython.lib.display.YouTubeVideo at 0x17ca20aaf70>"
      ]
     },
     "execution_count": 2,
     "metadata": {},
     "output_type": "execute_result"
    }
   ],
   "source": [
    "from IPython.lib.display import YouTubeVideo\n",
    "YouTubeVideo('Id_DbmP6PbI')"
   ]
  },
  {
   "cell_type": "markdown",
   "metadata": {},
   "source": [
    "<div class=arabic>\n",
    "  <h4 class=title>ثانياً: تصيب توزيعة Anaconda</h4>  \n",
    "</div>"
   ]
  },
  {
   "cell_type": "code",
   "execution_count": 3,
   "metadata": {},
   "outputs": [
    {
     "data": {
      "image/jpeg": "[encoded data removed]",
      "text/html": [
       "\n",
       "        <iframe\n",
       "            width=\"400\"\n",
       "            height=\"300\"\n",
       "            src=\"https://www.youtube.com/embed/lo77KeWG11g\"\n",
       "            frameborder=\"0\"\n",
       "            allowfullscreen\n",
       "        ></iframe>\n",
       "        "
      ],
      "text/plain": [
       "<IPython.lib.display.YouTubeVideo at 0x17ca21c5250>"
      ]
     },
     "execution_count": 3,
     "metadata": {},
     "output_type": "execute_result"
    }
   ],
   "source": [
    "from IPython.lib.display import YouTubeVideo\n",
    "YouTubeVideo('lo77KeWG11g')"
   ]
  },
  {
   "cell_type": "markdown",
   "metadata": {},
   "source": [
    "<div class=arabic> \n",
    "<h3 class=title>\n",
    "تنصيب بايثون على نظام ماك ولينكس:\n",
    "</h3>\n",
    "يأتي نظاما تشغيل ماك ولينكس وقد نصب عليهما مفسر بايثون ذو الاصدرة رقم 2. لكن هذه الاصدارة اصحبت قديمة ولا نريد ان نستخدمها في تعلمنا للغة بايثون هنا لذلك سوف نقوم بشرح طريقة تنصيب اصدارة بايثون 3 الأساسية و توزيعة Aanconda  على نظام الماك ولينكس كما يلي: \n",
    "</div>"
   ]
  },
  {
   "cell_type": "markdown",
   "metadata": {},
   "source": [
    "<div class=arabic>\n",
    "  <h4 class=title>اولاً: تصيب اصدارة بايثون الرئيسية على نظام ماك</h4>  \n",
    "</div>"
   ]
  },
  {
   "cell_type": "code",
   "execution_count": 4,
   "metadata": {},
   "outputs": [
    {
     "data": {
      "image/jpeg": "[encoded data removed]",
      "text/html": [
       "\n",
       "        <iframe\n",
       "            width=\"400\"\n",
       "            height=\"300\"\n",
       "            src=\"https://www.youtube.com/embed/0uEW-xEX3V0\"\n",
       "            frameborder=\"0\"\n",
       "            allowfullscreen\n",
       "        ></iframe>\n",
       "        "
      ],
      "text/plain": [
       "<IPython.lib.display.YouTubeVideo at 0x17ca21c55e0>"
      ]
     },
     "execution_count": 4,
     "metadata": {},
     "output_type": "execute_result"
    }
   ],
   "source": [
    "from IPython.lib.display import YouTubeVideo\n",
    "YouTubeVideo('0uEW-xEX3V0')"
   ]
  },
  {
   "cell_type": "markdown",
   "metadata": {},
   "source": [
    "<div class=arabic>\n",
    "  <h4 class=title>ثانياً: تصيب توزيعة Anaconda على نظام ماك</h4>  \n",
    "</div>"
   ]
  },
  {
   "cell_type": "code",
   "execution_count": 5,
   "metadata": {},
   "outputs": [
    {
     "data": {
      "text/html": [
       "\n",
       "        <iframe\n",
       "            width=\"400\"\n",
       "            height=\"300\"\n",
       "            src=\"https://www.youtube.com/embed/DbmP6PbI\"\n",
       "            frameborder=\"0\"\n",
       "            allowfullscreen\n",
       "        ></iframe>\n",
       "        "
      ],
      "text/plain": [
       "<IPython.lib.display.YouTubeVideo at 0x17ca20aaeb0>"
      ]
     },
     "execution_count": 5,
     "metadata": {},
     "output_type": "execute_result"
    }
   ],
   "source": [
    "from IPython.lib.display import YouTubeVideo\n",
    "YouTubeVideo('DbmP6PbI')"
   ]
  },
  {
   "cell_type": "markdown",
   "metadata": {},
   "source": [
    "<div class=arabic>\n",
    "  <h4 class=title>ثالثاً: تصيب اصدارة بايثون الرئيسية على نظام لينكس</h4>  \n",
    "</div>\n",
    "\n"
   ]
  },
  {
   "cell_type": "code",
   "execution_count": 6,
   "metadata": {},
   "outputs": [
    {
     "data": {
      "image/jpeg": "[encoded data removed]",
      "text/html": [
       "\n",
       "        <iframe\n",
       "            width=\"400\"\n",
       "            height=\"300\"\n",
       "            src=\"https://www.youtube.com/embed/w9F0bmxCD-0\"\n",
       "            frameborder=\"0\"\n",
       "            allowfullscreen\n",
       "        ></iframe>\n",
       "        "
      ],
      "text/plain": [
       "<IPython.lib.display.YouTubeVideo at 0x17ca221d0a0>"
      ]
     },
     "execution_count": 6,
     "metadata": {},
     "output_type": "execute_result"
    }
   ],
   "source": [
    "from IPython.lib.display import YouTubeVideo\n",
    "YouTubeVideo('w9F0bmxCD-0')"
   ]
  },
  {
   "cell_type": "markdown",
   "metadata": {},
   "source": [
    "<div class=arabic>\n",
    "  <h4 class=title>رابعاً: تصيب توزيعة Anaconda على نظام لينكس</h4>  \n",
    "</div>\n",
    "\n"
   ]
  },
  {
   "cell_type": "code",
   "execution_count": 7,
   "metadata": {},
   "outputs": [
    {
     "data": {
      "image/jpeg": "[encoded data removed]",
      "text/html": [
       "\n",
       "        <iframe\n",
       "            width=\"400\"\n",
       "            height=\"300\"\n",
       "            src=\"https://www.youtube.com/embed/0uEW-xEX3V0\"\n",
       "            frameborder=\"0\"\n",
       "            allowfullscreen\n",
       "        ></iframe>\n",
       "        "
      ],
      "text/plain": [
       "<IPython.lib.display.YouTubeVideo at 0x17ca221d370>"
      ]
     },
     "execution_count": 7,
     "metadata": {},
     "output_type": "execute_result"
    }
   ],
   "source": [
    "from IPython.lib.display import YouTubeVideo\n",
    "YouTubeVideo('0uEW-xEX3V0')"
   ]
  },
  {
   "cell_type": "markdown",
   "metadata": {},
   "source": [
    "<div class=arabic>\n",
    "<hr class=horizontal>\n",
    "<center>\n",
    "<a id=\"chapter2\"></a>\n",
    "<h1 class=title>\n",
    "الفصل الثاني : المبادئ الأساسية للغة بايثون\n",
    "</h1>\n",
    "</center>\n",
    "<hr class=horizontal>\n",
    "بعد ان تأكدنا من ان نظام التشغيل الذي نعمل عليه يحتوي على احدى اصدارات لغة بايثون 3 يمكننا الان ان نبدأ رحلة التعلم والتى اتمنى ان تكون حافلة بالمتعة والفائدة.\n",
    "<br>\n",
    "</div>"
   ]
  },
  {
   "cell_type": "markdown",
   "metadata": {},
   "source": [
    "<div class=arabic>\n",
    "\n",
    "<h2 class=title>\n",
    "أهداف الفصل\n",
    "</h2>\n",
    "عند اتمام هذا الفصل يجب ان يكون لديك المام بعدة مبادئ اساسية عن لغة بايثون والتي من اهمها:\n",
    "\n",
    "<ol>\n",
    "<li> \n",
    "طريقة كتابة المتغيرات\n",
    "</li>\n",
    "<li>\n",
    "طريقة تدوين الملاحظات على الكود البرمجي\n",
    "</li>\n",
    "<li>\n",
    "كيفية طباعة نص على شاشة الكمبيوتر\n",
    "</li>\n",
    "\n",
    "<li>\n",
    "الفرق بين استخدام الاحرف الصغيرة والكبيرة في كتابة الكود البرمجي.\n",
    "</li>\n",
    "<li>\n",
    "اجراء العمليات الحسابية الاساسية\n",
    "</li>\n",
    "<li>\n",
    " انواع البيانات الاساسية في لغة بايثون.\n",
    "</li>\n",
    "<li>\n",
    "القاعدة التي تحكم عدد المسافات الفارغة المتروكة قبل بداية كل سطر برمجي\n",
    "\n",
    "</li>\n",
    "</ol>\n",
    "</div>"
   ]
  },
  {
   "cell_type": "markdown",
   "metadata": {},
   "source": [
    "<div class=arabic>\n",
    "<h2 class=title>\n",
    "المتغيرات\n",
    "</h2>\n",
    "المتغيرات هي اسماء تستخدم للدلالة على قيم بيانات موجودة في ذاكرة الكمبيوتر. واستخدام المتغيرات في كتابة الاكواد البرمجية ذو اهمية قصوى بحيث لا يكاد يخلو برنامج من وجود متغير واحد او اكثر وذلك لانها تسهل على المبرمج تذكر البيانات باسماء يسهل حفظها بدلا من استخدام قيم البيانات ذاتها. لاسناد قيمة الى متغير فاننا نختار اسما مناسب للمتغير ومن ثم نضع علامة اليساوي واخيرا نضع القيمة المراد اسنادها للمتغير كما في المثال التالي:\n",
    "</div>"
   ]
  },
  {
   "cell_type": "code",
   "execution_count": 8,
   "metadata": {},
   "outputs": [],
   "source": [
    "x=5"
   ]
  },
  {
   "cell_type": "markdown",
   "metadata": {},
   "source": [
    "<div class=arabic>\n",
    "في المثال السابق علامة اليساوي تمسى معامل الاسناد. لذلك يصبح الان بمقدورنا استخدام x عوضا عن القيمة 5 في اي عمليات حسابية.  كما يجب التنويه الى ان قيمة x قابلة للتغيير. فعند تكرار المثال السابق باستخدام القيمة 10 فان  x اﻵن تصبح تشير للقيمة 10 عوضا عن القيمة 5 كما في المثال التالي:\n",
    "</div>\n",
    "\n"
   ]
  },
  {
   "cell_type": "code",
   "execution_count": 9,
   "metadata": {},
   "outputs": [
    {
     "data": {
      "text/plain": [
       "10"
      ]
     },
     "execution_count": 9,
     "metadata": {},
     "output_type": "execute_result"
    }
   ],
   "source": [
    "x=5\n",
    "x=10\n",
    "x"
   ]
  },
  {
   "cell_type": "markdown",
   "metadata": {},
   "source": [
    "<div class=arabic>\n",
    "<h3 class=title>\n",
    "القواعد التي تحكم كتابة اسماء المتغيرات\n",
    "</h3>    \n",
    "ان لغة بايثون تتطلب التقيد بقواعد  اساسية عند كتابة أسماء المتغيرات وتتلخص هذه القواعد فيما يلي:   \n",
    "</div>"
   ]
  },
  {
   "cell_type": "markdown",
   "metadata": {},
   "source": [
    "<div class=arabic>\n",
    "اولاً: لا يمكن استخدام اي رمز في كتابة المتغيرات عدا الاحرف والارقام والشرطة السفلية. كما في الامثلة التالية \n",
    "</div>"
   ]
  },
  {
   "cell_type": "code",
   "execution_count": 10,
   "metadata": {},
   "outputs": [],
   "source": [
    "y_2=5"
   ]
  },
  {
   "cell_type": "code",
   "execution_count": 11,
   "metadata": {},
   "outputs": [
    {
     "ename": "SyntaxError",
     "evalue": "invalid syntax (<ipython-input-11-332566a9f668>, line 1)",
     "output_type": "error",
     "traceback": [
      "\u001b[1;36m  File \u001b[1;32m\"<ipython-input-11-332566a9f668>\"\u001b[1;36m, line \u001b[1;32m1\u001b[0m\n\u001b[1;33m    y$=\"Saeed\"\u001b[0m\n\u001b[1;37m     ^\u001b[0m\n\u001b[1;31mSyntaxError\u001b[0m\u001b[1;31m:\u001b[0m invalid syntax\n"
     ]
    }
   ],
   "source": [
    "y$=\"Saeed\""
   ]
  },
  {
   "cell_type": "code",
   "execution_count": null,
   "metadata": {},
   "outputs": [],
   "source": [
    "y&=\"Waleed\""
   ]
  },
  {
   "cell_type": "markdown",
   "metadata": {},
   "source": [
    "<div class=arabic>\n",
    "لاحظ انه عند استخدامنا للرمزين $ و & كجزء من اسم المتغير فان مفسر بايثون اعطانا رسالة بوجود خطأ في التركيب اللغوي  \"Invalid syntax\"    \n",
    "</div>"
   ]
  },
  {
   "cell_type": "markdown",
   "metadata": {},
   "source": [
    "<div class=arabic>\n",
    "    ثانياً: المتغيرات يجب ان تبدأ بحرف او شرطة سفلية. عدا ذلك فان مفسر بايثون يعطي رسالة بوجود خطأ. وهذه بعض الامثلة على هذه القاعدة:\n",
    "</div>"
   ]
  },
  {
   "cell_type": "code",
   "execution_count": null,
   "metadata": {},
   "outputs": [],
   "source": [
    "number=20"
   ]
  },
  {
   "cell_type": "code",
   "execution_count": null,
   "metadata": {},
   "outputs": [],
   "source": [
    "_number=30"
   ]
  },
  {
   "cell_type": "code",
   "execution_count": null,
   "metadata": {},
   "outputs": [],
   "source": [
    "2y=5"
   ]
  },
  {
   "cell_type": "markdown",
   "metadata": {},
   "source": [
    "<div class=arabic>\n",
    "لاحظ ان في المثال الاخير حاولنا كتابة متغير يبدأ اسمه برقم 2 لكن مفسر بايثون رفض ذلك واعطانا رسالة تفيد بوجد خطأ في التركيب اللغوي \"invalid syntax\"    \n",
    "</div>"
   ]
  },
  {
   "cell_type": "markdown",
   "metadata": {},
   "source": [
    "<div class=arabic>\n",
    "ثالثاً: يمكن استخدام الارقام في كتابة أسماء المتغيرات ولكن لايمكن استخدامها في بداية الاسم كما في الامثلة التالية:\n",
    "</div>"
   ]
  },
  {
   "cell_type": "code",
   "execution_count": null,
   "metadata": {},
   "outputs": [],
   "source": [
    "number2=7"
   ]
  },
  {
   "cell_type": "code",
   "execution_count": null,
   "metadata": {},
   "outputs": [],
   "source": [
    "one2one=1"
   ]
  },
  {
   "cell_type": "markdown",
   "metadata": {},
   "source": [
    "<div class=arabic>\n",
    "رابعاً: أسماء المتغيرات يمكن ان تكون حرف كما وضحنا سابقا بالمتغير x او كلمة كما وضحنا ذلك بالمتغير name او مجموعة كلمات مربوطة بشرطة سفلية كما في المثال التالي:\n",
    "</div>"
   ]
  },
  {
   "cell_type": "code",
   "execution_count": null,
   "metadata": {},
   "outputs": [],
   "source": [
    "student_number=1234"
   ]
  },
  {
   "cell_type": "code",
   "execution_count": null,
   "metadata": {},
   "outputs": [],
   "source": [
    "tag number= 444"
   ]
  },
  {
   "cell_type": "markdown",
   "metadata": {},
   "source": [
    "<div class=arabic>\n",
    "لاحظ انه عندما حاولنا كتابة اسم المتغير من كلمتين بترك فراغ يين الكلمتين رفض مفسر بايثون هذه العملية واعطانا رسالة مشابه للرسالة السابقة تفيد بوجود خطأ في التركيب اللغوي\n",
    "</div>"
   ]
  },
  {
   "cell_type": "markdown",
   "metadata": {},
   "source": [
    "<div class=arabic>\n",
    "خامساً: أسماء المتغيرات يجب ان لا تكون احد الكلمات المستخدمة في التركيب اللغوي للغة بايثون والجدول التالي يبين الكلمات المحجوزة من قبل لغة بايثون:\n",
    "</div>"
   ]
  },
  {
   "cell_type": "markdown",
   "metadata": {},
   "source": [
    "<table style=\"font-size:20px; color:green\">\n",
    "  <tr>\n",
    "    <td>and</td>\n",
    "    <td>as</td>\n",
    "    <td>assert</td>\n",
    "    <td>break</td>\n",
    "    <td>class</td>\n",
    "    <td>continue</td>\n",
    "  </tr>\n",
    "  <tr>\n",
    "    <td>def</td>\n",
    "    <td>del</td>\n",
    "    <td>elif</td>\n",
    "    <td>else</td>\n",
    "    <td>except</td>\n",
    "    <td>exec</td>\n",
    "  </tr>\n",
    "  <tr>\n",
    "    <td>finally</td>\n",
    "    <td>for</td>\n",
    "    <td>from</td>\n",
    "    <td>global</td>\n",
    "    <td>if</td>\n",
    "    <td>import</td>\n",
    "    \n",
    "  </tr>\n",
    " <tr>\n",
    "    <td>in</td>\n",
    "    <td>is</td>\n",
    "    <td>lambda</td>\n",
    "    <td>not</td>\n",
    "    <td>or</td>\n",
    "    <td>pass</td>\n",
    "  </tr>\n",
    " <tr>\n",
    "    <td>print</td>\n",
    "    <td>raise</td>\n",
    "    <td>return</td>\n",
    "    <td>try</td>\n",
    "    <td>while</td>\n",
    "     <td>whith</td>\n",
    "  </tr>\n",
    "  <tr>\n",
    "      <td>yield</td>\n",
    "  </tr>\n",
    "</table> "
   ]
  },
  {
   "cell_type": "markdown",
   "metadata": {},
   "source": [
    "<div class=arabic>\n",
    "المثال التالي يلخص القواعد السابقة:\n",
    "</div>"
   ]
  },
  {
   "cell_type": "code",
   "execution_count": null,
   "metadata": {},
   "outputs": [],
   "source": [
    "pass=45"
   ]
  },
  {
   "cell_type": "markdown",
   "metadata": {},
   "source": [
    "<div class=arabic>\n",
    "لاحظ عند استخدامنا لكلمة pass وهي كلمة مججوزة تستخدم في التركيب اللغوي للغة بايثون والتي سوف نتعرف على طريقة استخدامها لاحقا اعطانا مفسر بايثون رسالة بوجود خطأ في التركيب اللغوي   \n",
    "</div>"
   ]
  },
  {
   "cell_type": "markdown",
   "metadata": {},
   "source": [
    "<div class=arabic>\n",
    "<b>تمرين:</b>\n",
    "اسند القيمة 100 للمتغير n. في سطر ثاني قم بتغير قيمة n الى القيمة 50. في سطر ثالث حاول ان تعرف القيمة النهائية للمتغير n ؟\n",
    "</div>"
   ]
  },
  {
   "cell_type": "code",
   "execution_count": null,
   "metadata": {},
   "outputs": [],
   "source": [
    "n=100\n",
    "n=50\n",
    "n"
   ]
  },
  {
   "cell_type": "markdown",
   "metadata": {},
   "source": [
    "<div class=arabic>\n",
    "<h2 class=title>\n",
    "تدوين الملاحظات\n",
    "</h2>\n",
    "تسمح لغة بايثون كغيرها من لغات البرمجة الاخرى بان يكتب المبرمج ملاحظاته داخل الكود البرمجي من اجل ان تساعدة على تذكر وظيفة الكود البرمجي او من اجل اعطاء شروحات وافيه للمبرمجين الاخرين الذين قد يعملون على صيانة وتطوير الكود البرمجي في المستقبل. ويمكن كتابة ملاحظة من سطر واحد في اي مكان من الكود البرمجي ولكن بعد ان يسبق الملاحظة علامة هاش تاق \n",
    "(#). فعند كتابة علامة (#) في بداية السطر فان بايثون يعتبر جميع محتويات هذا السطر ملاحظات للمستخدم وليست كود برمجي كما موضح في المثال التالي:\n",
    "</div>"
   ]
  },
  {
   "cell_type": "code",
   "execution_count": null,
   "metadata": {},
   "outputs": [],
   "source": [
    "# ملاحظات وتعليقات على الكود تكتب هنا\n",
    "x=10  "
   ]
  },
  {
   "cell_type": "markdown",
   "metadata": {},
   "source": [
    "<div class=arabic>\n",
    "كما يمكن للمبرمج ان يدون ملاحظاته باستخدام علامة (#) بعد ان كتب سطر من الكود البرمجي كما في المثال التالي: \n",
    "</div>\n",
    "\n"
   ]
  },
  {
   "cell_type": "code",
   "execution_count": null,
   "metadata": {},
   "outputs": [],
   "source": [
    "x=10  # ملاحظات وتعليقات على الكود البرمجي تكتب هنا"
   ]
  },
  {
   "cell_type": "markdown",
   "metadata": {},
   "source": [
    "<div class=arabic>\n",
    "فمفسر بايثون هنا يتعامل مع الجزء الذي يسبق علامة (#) على انه كود برمجي يتحاج الى تفسير والجزء الذي يقع بعد علامة (#) يعتبره ملاحظات وتعليقات للمبرمج لاتحتاج الى تفسير فيتجاهلها.\n",
    "</div>\n",
    "\n"
   ]
  },
  {
   "cell_type": "markdown",
   "metadata": {},
   "source": [
    "<div class=arabic>\n",
    "كما يمكن كتابة ملاحظة متعددة السطور باستخادام علامة التنصيص الثلاثية كما في المثال التالي:\n",
    "</div>"
   ]
  },
  {
   "cell_type": "code",
   "execution_count": null,
   "metadata": {},
   "outputs": [],
   "source": [
    "\"\"\"\n",
    "تعليقات وملاحظات\n",
    "تعليقات وملاحظات\n",
    "تعليقات وملاحظات\n",
    "\"\"\"\n",
    "\n",
    "x=10"
   ]
  },
  {
   "cell_type": "markdown",
   "metadata": {},
   "source": [
    "<div class=arabic>\n",
    "وسوف نتحدث بشىئ من التفصيل عن انواع علامات التنصيص واستخداماتها ولكن ليس الان بل عند بدء الحديث عن البيانات النصية.\n",
    "</div>\n",
    "\n"
   ]
  },
  {
   "cell_type": "markdown",
   "metadata": {},
   "source": [
    "<div class=arabic>\n",
    "<h2 class=title>\n",
    "الطباعة على شاشة الكمبيوتر\n",
    "</h2>\n",
    "ان من المعتاد عند تعلم اي لغة برمجة جديدة ان يتم البدء بتعلم كيفية الطباعة على شاشة الكمبيوتر و ذلك لانها تعتبر وظيفة  اساسية في جميع لغات البرمجة.ونحن سوف نسير على هذا العرف هنا على الرغم من تأخيرنا له قليلا. فامر الطباعة على الشاشة في بايثون يكون باسيتخدام الدالة\n",
    "()<font color=\"green\">print</font>\n",
    "متبوعا بما يراد طباعته داخل قوسي الدالة. وبما اننا في بداية المشوار ولم نتطرق لمفوهم المتغيرات فسوف نبدأ بطباعة قيم رقمية اولا. فالسطر البرمجي  التالي يقوم بطباعة القيمة 5 على الشاشة:\n",
    "<div>\n",
    "\n"
   ]
  },
  {
   "cell_type": "code",
   "execution_count": null,
   "metadata": {},
   "outputs": [],
   "source": [
    "print(5)"
   ]
  },
  {
   "cell_type": "markdown",
   "metadata": {},
   "source": [
    "<div class=arabic>\n",
    "تمرين: قم باسناد القيمة 25 للمتغير m وفي سطر ثاني قم بطباعة قمية m؟\n",
    "</div>"
   ]
  },
  {
   "cell_type": "code",
   "execution_count": null,
   "metadata": {},
   "outputs": [],
   "source": [
    "m=25\n",
    "print(m)"
   ]
  },
  {
   "cell_type": "markdown",
   "metadata": {},
   "source": [
    "<div class=arabic>\n",
    "<h2 class=title>\n",
    "الاحرف الكبيرة و\n",
    "الاحرف الصغيرة\n",
    "</h2>\n",
    "</div>"
   ]
  },
  {
   "cell_type": "markdown",
   "metadata": {},
   "source": [
    "<div class=arabic>\n",
    "لغتنا العربية الجميلة لاتحوي على مفهوم الحروف الصغيرة والكبيرة بعكس ما هو موجود في اللغة الانجليزية. وبما ان لغة بايثون مكتوبة باللغة الانجليزية فان هذه اللغة تهتم بما اذا كان الكود البرمجي او جزء منه مكتوب بالاحرف الصغيرة او الكبيرة. فالمتغير   b يتعامل معه مفسر بايثون على انه مختلف عن B. فعندما نسند القيمة 5 مثلا للمتغير b فان اسناد القيمة 10 للمتغير B لا يغير من قيمة b لان مفسر بايثون يتعامل معهما على انهما متغيرين مختلفين كما في المثال التالي:\n",
    "</div>"
   ]
  },
  {
   "cell_type": "code",
   "execution_count": null,
   "metadata": {},
   "outputs": [],
   "source": [
    "b=5\n",
    "B=10\n",
    "print(b)\n",
    "print(B)"
   ]
  },
  {
   "cell_type": "markdown",
   "metadata": {},
   "source": [
    "<div class=arabic>\n",
    "<h2 class=title>\n",
    "العمليات الحسابية\n",
    "</h2>\n",
    "\n",
    "<h3 class=title>\n",
    "   اجراء العمليات الحسابية الاساسية\n",
    "</h3>\n",
    "كما هو المعتاد مع لغات البرمجة الاخرى فان العمليات الحسابية الاساسية يمكن القيام بها من اليسار الي اليمين \n",
    "    باستخدام الرموز الاتية:\n",
    "\n",
    "<br>\n",
    "اولاً: تسخدم العلامة \"+\" لاجراء عمليات الجمع\n",
    "<br>\n",
    "مثال:\n",
    "</div>\n",
    "\n"
   ]
  },
  {
   "cell_type": "code",
   "execution_count": null,
   "metadata": {},
   "outputs": [],
   "source": [
    "3+4"
   ]
  },
  {
   "cell_type": "markdown",
   "metadata": {},
   "source": [
    "<div class=arabic>\n",
    "ثانياً: تسخدم علامة \"-\" (الشرطة الاعتيادية وليست السفلية) لاجراء عمليات الطرح\n",
    "<br>\n",
    "مثال:\n",
    "</div>"
   ]
  },
  {
   "cell_type": "code",
   "execution_count": null,
   "metadata": {},
   "outputs": [],
   "source": [
    "7-5"
   ]
  },
  {
   "cell_type": "markdown",
   "metadata": {},
   "source": [
    "<div class=arabic>\n",
    "ثالثاً: استخدام علامة النجمة \"*\" لاجراء عمليات الضرب\n",
    "<br>\n",
    "مثال:\n",
    "</div>"
   ]
  },
  {
   "cell_type": "code",
   "execution_count": null,
   "metadata": {},
   "outputs": [],
   "source": [
    "2*3"
   ]
  },
  {
   "cell_type": "markdown",
   "metadata": {},
   "source": [
    "<div class=arabic>\n",
    "رابعاً: تستخدم الشرطة المائلة \"/\" لاجراء عمليات القسمة\n",
    "<br>\n",
    "مثال:\n",
    "</div>"
   ]
  },
  {
   "cell_type": "code",
   "execution_count": null,
   "metadata": {},
   "outputs": [],
   "source": [
    "5/3"
   ]
  },
  {
   "cell_type": "markdown",
   "metadata": {},
   "source": [
    "<div class=arabic>\n",
    "خامساً: تستخدم النجمتين \"**\" لرفع قيمة عدد لقوة معينه\n",
    "<br>\n",
    "مثال:\n",
    "</div>"
   ]
  },
  {
   "cell_type": "code",
   "execution_count": null,
   "metadata": {},
   "outputs": [],
   "source": [
    "3**2"
   ]
  },
  {
   "cell_type": "markdown",
   "metadata": {},
   "source": [
    "<div class=arabic>\n",
    "في المثال السابق تم رفع قيمة العدد 3 للقوة او الاس 2\n",
    "\n",
    "</div>"
   ]
  },
  {
   "cell_type": "markdown",
   "metadata": {},
   "source": [
    "<div class=arabic>\n",
    "سادساً: تستخدم الشرطتين المائلتين \"//\" لحساب ناتج القسمة بعد اهمال الباقي \n",
    "<br>\n",
    "مثال:\n",
    "</div>"
   ]
  },
  {
   "cell_type": "code",
   "execution_count": null,
   "metadata": {},
   "outputs": [],
   "source": [
    "11//3"
   ]
  },
  {
   "cell_type": "markdown",
   "metadata": {},
   "source": [
    "<div class=arabic>\n",
    "    سابعاً: تستخدم علامة النسبة المئوية \"%\" لحساب باقي القسمة\n",
    "<br>\n",
    "مثال:\n",
    "</div>"
   ]
  },
  {
   "cell_type": "code",
   "execution_count": null,
   "metadata": {},
   "outputs": [],
   "source": [
    "7%3"
   ]
  },
  {
   "cell_type": "markdown",
   "metadata": {},
   "source": [
    "<div class=arabic>\n",
    "بالنسبة لعملية القسمة فان هناك اختلاف بسيط بين اصدارة بايثون 2 و 3 يجب التنبه عليه. فعند اجراء عملية القسمة في اصدارة بايثون 2 على اعداد طبيعية فان ناتج القسمة يكون عدد طبيعي. بمعنى انه اذا اردنا قسمة العدد 3 على العدد 2 مثلا فان ناتج القسمة يكون 1 وليس 1.5\n",
    "هذه المشكله غير موجوده في اصدارة بايثون 3.\n",
    "ولتصحيح هذه المشكلة لمن يستخدمون الاصدار 2 يمكنهم استخدام الاعداد الصحيحة في عملية القسمة سواء في البسط او المقام او كليهما.\n",
    "</div>"
   ]
  },
  {
   "cell_type": "markdown",
   "metadata": {},
   "source": [
    "<div class=arabic>\n",
    "<h3 class=title>\n",
    "قواعد الاسبقية في تنفيذ العمليات الحسابية\n",
    "</h3>\n",
    "كما هو متعارف عليه في علم الرياضيات فان عمليتي القسمة والضرب تسبق كلا من عمليتي الطرح والجمع وعملية الاس تسبق عمليتي الضرب والجمع الا اذا استخدمت الاقواس لتحديد اسبقية العمليات الحسابية. وهذه امثلة  توضح هذا المفهوم:\n",
    "</div>"
   ]
  },
  {
   "cell_type": "code",
   "execution_count": null,
   "metadata": {},
   "outputs": [],
   "source": [
    "3+4*2"
   ]
  },
  {
   "cell_type": "markdown",
   "metadata": {},
   "source": [
    "<div class=arabic>\n",
    "    لاحظ ان عملية الضرب تم القيام بها قبل اجراء عملية الجمع لذلك تم الحصول على الناتج 11 بدلا من 14\n",
    "</div>"
   ]
  },
  {
   "cell_type": "code",
   "execution_count": null,
   "metadata": {},
   "outputs": [],
   "source": [
    "10/2-1 "
   ]
  },
  {
   "cell_type": "code",
   "execution_count": null,
   "metadata": {},
   "outputs": [],
   "source": [
    "10**2/5+4"
   ]
  },
  {
   "cell_type": "code",
   "execution_count": null,
   "metadata": {},
   "outputs": [],
   "source": [
    "(3+4)*2 "
   ]
  },
  {
   "cell_type": "code",
   "execution_count": null,
   "metadata": {},
   "outputs": [],
   "source": [
    "15/(6-3)"
   ]
  },
  {
   "cell_type": "markdown",
   "metadata": {},
   "source": [
    "<div class=arabic>\n",
    "<h2 class=title>\n",
    "أنواع البيانات\n",
    "</h2>\n",
    "تنقسم البيانات الأساسية في لغة بايثون الي ثلاثة اقسام رئيسية وهي البيانات العددية والبيانات النصية والبيانات المنطقية. وسوف نقوم في هذه الجزئية من الفصل بإعطاء شيء من التفصيل عن كل نوع من هذه الانواع:\n",
    "</div>"
   ]
  },
  {
   "cell_type": "markdown",
   "metadata": {},
   "source": [
    "<div class=arabic>\n",
    "    <h3 class=title>البيانات العددية</h3>\n",
    "</div>"
   ]
  },
  {
   "cell_type": "markdown",
   "metadata": {},
   "source": [
    "<div class=arabic>\n",
    "تنقسم البيانات العددية الى ثلاثة اقسام رئيسية:\n",
    "</div>"
   ]
  },
  {
   "cell_type": "markdown",
   "metadata": {},
   "source": [
    "<div class=arabic>\n",
    "اولاَ: الاعداد الصحيحة (Integers) او بشكل مختصر int وهي الاعداد التي تعبر عن عدم التجزئة وتشمل الاعداد الموجبة والسالبة والصفر\n",
    "{ 3 , 2 , 1 , 0 , 1- , 2- , 3- }\n",
    "</div>"
   ]
  },
  {
   "cell_type": "markdown",
   "metadata": {},
   "source": [
    "<div class=arabic>\n",
    "ثانياً: الأعداد العائمة (float) او العشرية وهي الاعداد التي تحتوي على فاصلة عشرية سواء كانت موجبة او سالبة. يجب ملاحظة ان العدد 5 يعتبر عدد صحيح  integer وبمجرد وضع فاصلة عشرية بعد هذا الرقم  ليصبح .5 فان العدد الان يعتبر عدد عشري  float وليس عدد صحيح ويمكن التأكد من ذلك من خلال استخدام الدالة ()type كما في المثال التالي:\n",
    "</div>"
   ]
  },
  {
   "cell_type": "code",
   "execution_count": null,
   "metadata": {},
   "outputs": [],
   "source": [
    "type(5)"
   ]
  },
  {
   "cell_type": "code",
   "execution_count": null,
   "metadata": {},
   "outputs": [],
   "source": [
    "type(5.)"
   ]
  },
  {
   "cell_type": "markdown",
   "metadata": {},
   "source": [
    "<div class=arabic>\n",
    "ثالثاً: الاعداد المركبة (complex numbers) وهي الاعداد التي تحتوي على اعداد حقيقية واعداد خيالية فمثلا العدد 2+3j يعتبر عدد مركب يتكون من جزء صحيح وهو العدد 2 وجزء خيالي هو العدد 3 ويمثل الحرف j الجذر التربيعي للعدد -1 حيث يكتب في لغة بايثون بالطريقة التالية:\n",
    "</div>"
   ]
  },
  {
   "cell_type": "code",
   "execution_count": null,
   "metadata": {},
   "outputs": [],
   "source": [
    "2+3j"
   ]
  },
  {
   "cell_type": "code",
   "execution_count": null,
   "metadata": {},
   "outputs": [],
   "source": [
    "type(2+3j)"
   ]
  },
  {
   "cell_type": "markdown",
   "metadata": {},
   "source": [
    "<div class=arabic>\n",
    "<h3 class=title>\n",
    "البيانات المنطقية\n",
    "</h3>\n",
    "</div>\n",
    "\n"
   ]
  },
  {
   "cell_type": "markdown",
   "metadata": {},
   "source": [
    "<div class=arabic>\n",
    "البيانات المنطقية هي البيانات التي تحوى احدى القيمتين صح\n",
    "<font color=\"green\">True</font>\n",
    " أو خطأ\n",
    " <font color=\"green\">False</font>\n",
    ". لاحظ ان هاتين القيمتين تبتدأ بحرف كبير في لغة بايثون. وهناك عمليات مقارنة كثير تنتج عنها احدى  هاتين القيمتين. فعملية مقارنة التساوي بين قيمتين في بايثون تستخدم علامتي يساوي متتابعتين \"==\" فعند مقارنة عددين مثلا فاننا نكتبهما بالشكل التالي:\n",
    "</div>\n",
    "\n"
   ]
  },
  {
   "cell_type": "code",
   "execution_count": null,
   "metadata": {},
   "outputs": [],
   "source": [
    "5==4"
   ]
  },
  {
   "cell_type": "markdown",
   "metadata": {},
   "source": [
    "<div class=arabic>\n",
    "لاحظ ان عدم تساوي القيمتين في المثال السابق ادى الى حصولنا على القيمة False اي خطأ. اما اذا كانت القيمتين متساويتين فان الناتج يكون \"True\" اي صحيح كما في المثال التالي:\n",
    "</div>"
   ]
  },
  {
   "cell_type": "code",
   "execution_count": null,
   "metadata": {},
   "outputs": [],
   "source": [
    "15==15"
   ]
  },
  {
   "cell_type": "markdown",
   "metadata": {},
   "source": [
    "<div class=arabic>\n",
    "يجب الاشارة الى ان القيمة المنطقية True تمثل 1 في الاعداد الصحيحة. والقيمة المنطقية False تمثل 0 في الاعداد الصحية ويمكن التأكد من ذلك من خلال المثال التالي:\n",
    "</div>"
   ]
  },
  {
   "cell_type": "code",
   "execution_count": null,
   "metadata": {},
   "outputs": [],
   "source": [
    "True==1"
   ]
  },
  {
   "cell_type": "code",
   "execution_count": null,
   "metadata": {},
   "outputs": [],
   "source": [
    "False==0"
   ]
  },
  {
   "cell_type": "markdown",
   "metadata": {},
   "source": [
    "<div class=arabic>\n",
    "<h3 class=title>\n",
    "البيانات النصية\n",
    "</h3>\n",
    "</div>"
   ]
  },
  {
   "cell_type": "markdown",
   "metadata": {},
   "source": [
    "<div class=arabic>\n",
    "كل ما يكتب بين علامتى تنصيص سواء كانت احادية\n",
    "('z') \n",
    "او ثنائية\n",
    "(\"z\") \n",
    "او ثلاثية\n",
    "('''z''')\n",
    " يطلق عليه بيان نصي string أو بشكل مختصر str. فالقيمة \"123\" يتعامل معها بايثون على انها سلسلة من الرموز النصية الرقمية مختلفة عن القيمة العددية 123. ويمكن التأكد من ذلك باستخدام الدالة \n",
    "()<font color=\"green\">type</font>\n",
    " كما في المثال التالي:\n",
    "\n",
    "\n",
    "</div>\n",
    "\n"
   ]
  },
  {
   "cell_type": "code",
   "execution_count": null,
   "metadata": {},
   "outputs": [],
   "source": [
    "x=\"123\"\n",
    "type(x)"
   ]
  },
  {
   "cell_type": "code",
   "execution_count": null,
   "metadata": {},
   "outputs": [],
   "source": [
    "\"123\"==123"
   ]
  },
  {
   "cell_type": "markdown",
   "metadata": {},
   "source": [
    "<div class=arabic>\n",
    "وهناك عدة قواعد يجب اتباعها عند كتابة البيانات النصيية والتي يمكن تلخيصها في النقاط التالية:\n",
    "</div>"
   ]
  },
  {
   "cell_type": "markdown",
   "metadata": {},
   "source": [
    "<div class=arabic>\n",
    "اولاً: علامتي التنصيص لكل بيان نصي يجب ان تكون من نفس النوع. فعند البدء بعلامة تنصيص احادية يجب ان ينتهي البيان النصي بعلامة تنصيص احادية وكذلك الحال مع علامة التنصيص الثنائية والثلاثية كما في المثال التالي:\n",
    "</div>\n",
    "\n"
   ]
  },
  {
   "cell_type": "code",
   "execution_count": null,
   "metadata": {},
   "outputs": [],
   "source": [
    "student_name='Ahmad'\n",
    "student_name=\"Ali\"\n",
    "student_name='''Hassan'''"
   ]
  },
  {
   "cell_type": "markdown",
   "metadata": {},
   "source": [
    "<div class=arabic>\n",
    "لاحظ انه عندما نقوم باستخدام علامتي تنصيص مختلفة فان ذلك سوف يجعل مفسر لغة بايثون يظهر رسالة تفيد بوجود خطأ كما في المثال التالي:\n",
    "</div>\n",
    "\n"
   ]
  },
  {
   "cell_type": "code",
   "execution_count": null,
   "metadata": {},
   "outputs": [],
   "source": [
    "'welcome to python\""
   ]
  },
  {
   "cell_type": "markdown",
   "metadata": {},
   "source": [
    "<div class=arabic>\n",
    "ثانياً: علامة التنصيص الاحادية والثنائية تستخدم لكاتبة نصوص من سطر واحد بينما علامة التنصيص الثلاثية تسمح بطباعة اكثر من سطر. فعند استخدام علامة التنصيص الاحادية والثنائية لطباعة بيان نصي متعدد السطور فان مفسر بايثون يظهر لنا رسالة تفيد بوجود خطأ كما في المثالين التاليين:\n",
    "</div>\n",
    "\n"
   ]
  },
  {
   "cell_type": "code",
   "execution_count": null,
   "metadata": {},
   "outputs": [],
   "source": [
    "print('welcome\n",
    "      to \n",
    "      python')"
   ]
  },
  {
   "cell_type": "code",
   "execution_count": null,
   "metadata": {},
   "outputs": [],
   "source": [
    "print(\"welcome\n",
    "      to \n",
    "      python\")"
   ]
  },
  {
   "cell_type": "markdown",
   "metadata": {},
   "source": [
    "<div class=arabic>\n",
    "اما عند استخدام علامة التنصيص الثلاثية فان مفسر بايثون يتم عملية الطباعة بدون اظهار اي رسالة خطأ كما في المثال التالي:\n",
    "</div>\n",
    "\n"
   ]
  },
  {
   "cell_type": "code",
   "execution_count": null,
   "metadata": {},
   "outputs": [],
   "source": [
    "print('''welcome\n",
    "to \n",
    "python\n",
    "''')"
   ]
  },
  {
   "cell_type": "markdown",
   "metadata": {},
   "source": [
    "<div class=arabic>\n",
    "ثالثاً: يمكن استخدام رمز التجاهل \"\\\" في نهاية كل سطر لتمكين علامة التنصيص الاحادية والثنائية من طباعة اكثر من سطر على الشاشة. لكن هناك فرق بين الطريقتين فعلامة التنصيص الثلاثية تبقي البيان النصي كما كتب من ناحية تعدد السطور بينما استخدام رمز التجاهل يقوم بكتابة البيان النصي كسطر واحد كما في المثالين التاليين:\n",
    "</div>\n",
    "\n"
   ]
  },
  {
   "cell_type": "code",
   "execution_count": null,
   "metadata": {},
   "outputs": [],
   "source": [
    "print ('welcome \\\n",
    "to \\\n",
    "python')\n",
    "\n",
    "print(\"welcome \\\n",
    "to \\\n",
    "python\")"
   ]
  },
  {
   "cell_type": "code",
   "execution_count": null,
   "metadata": {},
   "outputs": [],
   "source": [
    "print('''welcome\n",
    "to \n",
    "python''')"
   ]
  },
  {
   "cell_type": "markdown",
   "metadata": {},
   "source": [
    "<div class=arabic>\n",
    "رابعاً: يمكن استخدام علامة تنصيص او اكثر داخل علامتي تنصيص اخرى ولكن بعد التأكد من ان علامة التنصيص الداخلية مختلفة عن علامة التنصيص المستخدمة في بداية ونهاية النص.\n",
    "</div>"
   ]
  },
  {
   "cell_type": "code",
   "execution_count": null,
   "metadata": {},
   "outputs": [],
   "source": [
    "print('They \"like\" python')\n",
    "print(\"My brother's car is quite old\")"
   ]
  },
  {
   "cell_type": "markdown",
   "metadata": {},
   "source": [
    "<div class=arabic>\n",
    "    خامساً: يمكن استخدام رمز التجاهل المشار اليه سابقا لاداء نفس الوظيفة اذا كانت علامة التنصيص الداخلية مشابهة لعلامتي التنصيص الخارجية. كما ماهو موضح في الامثلة التالية:\n",
    "</div>"
   ]
  },
  {
   "cell_type": "code",
   "execution_count": null,
   "metadata": {},
   "outputs": [],
   "source": [
    "print('They \\'like\\' python')\n",
    "print('My brother\\'s car is quite old')"
   ]
  },
  {
   "cell_type": "markdown",
   "metadata": {},
   "source": [
    "<div class=arabic>\n",
    "وهناك علامات تجاهل أخرى خاصة تؤدي وظائف خاصة فمثلا t\\ يعتبرها مفسر بايثون على انها حقل فارغ مكون من اربع مسافات كما في المثال التالي:\n",
    "</div>"
   ]
  },
  {
   "cell_type": "code",
   "execution_count": null,
   "metadata": {},
   "outputs": [],
   "source": [
    "print(\"1\\t2\\t3\\t4\")"
   ]
  },
  {
   "cell_type": "markdown",
   "metadata": {},
   "source": [
    "<div class=arabic>\n",
    "فمفسر بايثون في المثال السابق قام بتحويل كل زمر تجاهل t\\ الى حقل فارغ مكون من اربع مسافات. وكذلك الامر مع رمز التجاهل n\\ فانه يخبر مفسر بايثون بالنزول الى سطر جديد كما في المثال التالي:\n",
    "</div>"
   ]
  },
  {
   "cell_type": "code",
   "execution_count": null,
   "metadata": {},
   "outputs": [],
   "source": [
    "print(\"1\\n2\\n3\\n4\")"
   ]
  },
  {
   "cell_type": "markdown",
   "metadata": {},
   "source": [
    "<div class=arabic>\n",
    "اما اذا اردنا ان نخبر مفسر بايثون بأن يتجاهل جميع رموز التجاهل الموجودة في النص فإننا نسبق النص بالحرف r ليخبر مفسر بايثون ان هذا النص لا يحتاج الى تفسير الرموز بداخله كما في المثال التالي:\n",
    "</div>"
   ]
  },
  {
   "cell_type": "code",
   "execution_count": null,
   "metadata": {},
   "outputs": [],
   "source": [
    "print(r\"1\\t2\\t3\\t4\")"
   ]
  },
  {
   "cell_type": "markdown",
   "metadata": {},
   "source": [
    "<div class=arabic>\n",
    "كما يجب الإشارة الى ان البيانات النصية ليس لها حد في قيمها فممكن ان تتكون من سلسلة من الحروف والأرقام والرموز بقدر ما تستوعبه ذاكرة كمبيوتر المستخدم. ويكمن كذلك ان يكون البيان النصي فارغاً كما في المثال التالي:\n",
    "</div>"
   ]
  },
  {
   "cell_type": "code",
   "execution_count": null,
   "metadata": {},
   "outputs": [],
   "source": [
    "x=\"\""
   ]
  },
  {
   "cell_type": "markdown",
   "metadata": {},
   "source": [
    "<div class=arabic>\n",
    "يجب الاشارة الى انه في معظم لغات البرمجة المعروفه لا يمكن استخدام المتغيرات الا بعد تعريفها مسبقا وذلك بتحديد نوع البيانات التي تشير اليه هذه المتغيرات. لكن الامر مختلف تماما في لغة بايثون. فالمبرمج لا يحتاج الى تعريف المتغيرات قبل استخدامها كما تعلمنا سابقا عن كيفية اسناد قيمة لمتغير. لذلك يطلق على لغة بايثون بانها ديناميكية لانها تقوم بتحديد نوع المتغيرات ذاتيا من خلال التعرف على نوع البيانات المستخدمة مع كل متغير. وهذه الخاصية تعطي المبرمج بلغة بايثون سهوله وسرعة غير مسبوقة في كتابة الاكواد البرمجية. والدالة ()type التي استخدمناها سابقا كفيلة بتوضيح هذه النقطة من خلال المثال التالي:\n",
    "</div>"
   ]
  },
  {
   "cell_type": "code",
   "execution_count": null,
   "metadata": {},
   "outputs": [],
   "source": [
    "x=5\n",
    "type(x)"
   ]
  },
  {
   "cell_type": "markdown",
   "metadata": {},
   "source": [
    "<div class=arabic>\n",
    "<h2 class=title>\n",
    "ترك مسافات\n",
    "</h2>\n",
    "في حين ان لغات البرمجة الاخرى تستخدم مصطلحات واقواس لتحديد بداية ونهاية الاجزاء  الداخلية للكود البرمجي فان لغة بايثون تتبع نظام ترك المسافات عند بداية كتابة السطر البرمجي لاداء نفس المهمة. فلغة جافا تستخدم الاقواس لتحديد جزئية الكود الداخلي و علاقته ببقية الاجزاء كما في المثال التالي:\n",
    "</div>"
   ]
  },
  {
   "cell_type": "raw",
   "metadata": {},
   "source": [
    "public class HelloWorld {\n",
    "   public static void main(String[] args) {\n",
    "   \n",
    "      System.out.println(\"Hello, World\");\n",
    "   }\n",
    "}"
   ]
  },
  {
   "cell_type": "markdown",
   "metadata": {},
   "source": [
    "<div class=arabic>\n",
    "بينما لغة بايثون تعمد الى ترك مسافة عند بداية كتابة الجزء الداخلى للكود لتجديد مداه وعلاقتة بالاجزاء الاخرى كما في المثال التالي:\n",
    "</div>"
   ]
  },
  {
   "cell_type": "code",
   "execution_count": null,
   "metadata": {},
   "outputs": [],
   "source": [
    "for i in [1,2,3,4]:\n",
    "    print (i)"
   ]
  },
  {
   "cell_type": "markdown",
   "metadata": {},
   "source": [
    "<div class=arabic>\n",
    "ليس من المهم ان تفهم وظيفة الكود البرمجي السابق الان لاننا سوف نتطرق اليه في وقت لاحق ولكن المهم ان تعرف ان لغة بايثون تهتم بترك مسافات عند بداية كتابة الاسطر البرمجية لتحديد الاجزاء الداخلية من الكود.فعند كتابة برنامج من سطر واحد مثلا فان ترك اي مسافة قبل بداية السطر البرمجي يجعل مفسر بايثون يرفض التركيب اللغوي و يظهر رسالة تبين سبب المشكلة هو ترك مسافة عند بداية كتابة السطر البرمجي في موضع لايستدعي ترك اي مسافة. لكن ترك مسافة في اي موضع اخى من السطر ليس له اي تأثير على التركيب اللغوي. كما يجب الاشارة الى ان ترك اسطر فارغة بين اسطر الكود البرمجي ليس له اي تأثير يذكر ايضا. سوف نعاود الحديث عن ترك المسافات عندما نبدأ الحديث عن الحلقات التكرارية والدوال في بايثون حيث تستدعى الحاجة للحديث عن ترك مسافات عند كتابة هذه التراكيب اللغوية.\n",
    "\n",
    "</div>\n",
    "\n"
   ]
  },
  {
   "cell_type": "markdown",
   "metadata": {},
   "source": [
    "<div class=arabic>\n",
    "    <br>\n",
    "    <h2 class=title>ملخص الفصل</h2>\n",
    "    <br>\n",
    "</div>"
   ]
  },
  {
   "cell_type": "markdown",
   "metadata": {},
   "source": [
    "<div class=arabic><h2 class=title>اسئلة استيعابية</h2></div>"
   ]
  },
  {
   "cell_type": "markdown",
   "metadata": {},
   "source": [
    "<div class=arabic>\n",
    "1- ما هو اقصى عدد من الاحرف والأرقام يمكن استخدامه في كتابة اسماء المتغيرات؟\n",
    "</div>"
   ]
  },
  {
   "cell_type": "markdown",
   "metadata": {},
   "source": []
  },
  {
   "cell_type": "markdown",
   "metadata": {},
   "source": [
    "<div class=arabic>\n",
    "2-  صح ام خطأ؟ لا يفرق مفسر بايثون في تعامله مع الكود البرمجي بين الاحرف الكبيرة والصغيرة.\n",
    "</div>"
   ]
  },
  {
   "cell_type": "markdown",
   "metadata": {},
   "source": []
  },
  {
   "cell_type": "markdown",
   "metadata": {},
   "source": [
    "<div class=arabic>\n",
    "3-كيف تكتب في بايثون العملية الرياضية x مرفوعا للقوة y؟\n",
    "</div>"
   ]
  },
  {
   "cell_type": "code",
   "execution_count": null,
   "metadata": {},
   "outputs": [],
   "source": []
  },
  {
   "cell_type": "markdown",
   "metadata": {},
   "source": [
    "<div class=arabic>\n",
    "4-ماهو ناتج العملية الرياضية 3%22؟\n",
    "</div>"
   ]
  },
  {
   "cell_type": "code",
   "execution_count": null,
   "metadata": {},
   "outputs": [],
   "source": []
  },
  {
   "cell_type": "markdown",
   "metadata": {},
   "source": [
    "<div class=arabic>\n",
    "5-ماهو ناتج العملية الرياضية 3**1*3؟\n",
    "</div>"
   ]
  },
  {
   "cell_type": "code",
   "execution_count": null,
   "metadata": {},
   "outputs": [],
   "source": []
  },
  {
   "cell_type": "markdown",
   "metadata": {},
   "source": [
    "<div class=arabic>\n",
    "6-اي من الاسماء التالية يمكن استخدامه كاسم متغير [\"in\",\"it\",\"on\",\"__init\"]؟\n",
    "</div>"
   ]
  },
  {
   "cell_type": "markdown",
   "metadata": {},
   "source": []
  },
  {
   "cell_type": "markdown",
   "metadata": {},
   "source": [
    "<div class=arabic>\n",
    "<hr class=horizontal>\n",
    "<center>\n",
    "<a id=\"chapter3\"></a>\n",
    "<h1 class=title>\n",
    "الفصل الثالث : التعامل مع البيانات التجميعية \n",
    "    <br>\n",
    "    (Collection Data)\n",
    "</h1>\n",
    "</center>\n",
    "<hr class=horizontal>\n",
    "</div>"
   ]
  },
  {
   "cell_type": "markdown",
   "metadata": {},
   "source": [
    "<div class=arabic>\n",
    "في الفصل السابق تعلمنا كيفية التعامل مع البيانات الأساسية وكان كل بيان من تلك البيانات يمثل معلومة مستقلة بذاتها. اما في هذا الفصل فسوف نوسع مفهوم البيانات الى نطاق أوسع بحيث يتم ترتيب هذه البيانات الأساسية بطريقة خاصة في مجموعات فتصبح هذه البيانات مستقلة بذاتها. \n",
    "\n",
    "</div>"
   ]
  },
  {
   "cell_type": "markdown",
   "metadata": {},
   "source": [
    "<div class=arabic>\n",
    "\n",
    "<h2 class=title>\n",
    "أهداف الفصل\n",
    "</h2>\n",
    "عند اتمام هذا الفصل يجب ان يكون لديك المام بالآتي: \n",
    "\n",
    "<ol>\n",
    "<li> \n",
    "التعرف على البيانات التجمعية وأنواعها الرئيسية. \n",
    "</li>\n",
    "<li>\n",
    "معرفة التعامل مع الانواع الأساسية للبيانات التجميعية.\n",
    "</li>\n",
    "<li>\n",
    "التمييز بين الانواع الأساسية للبيانات التجميعية من خلال معرفة خصائص كل نوع.\n",
    "</li>\n",
    "\n",
    "<li>\n",
    "التوسع في معرفة البيانات النصية وكيفية التعامل معها. \n",
    "</li>\n",
    "</ol>\n",
    "</div>"
   ]
  },
  {
   "cell_type": "markdown",
   "metadata": {},
   "source": [
    "<div class=arabic><h2 class=title>تعريف البيانات التحميعية</h2></div>"
   ]
  },
  {
   "cell_type": "markdown",
   "metadata": {},
   "source": [
    "<div class=arabic>\n",
    "المقصود بالبيانات التجميعية في لغة بايثون هي بيانات أساسية (سواء كانت عددية او نصية او منطقية) اندرجت تحت مجموعة لها خصائص معينه ومحددة فأصبحت بيانات مستقلة بذاتها يتعامل معها مفسر بايثون بطريقة خاصة. وتنقسم هذه البيانات التجميعية الى أربعة أنواع رئيسية:\n",
    "</div>"
   ]
  },
  {
   "cell_type": "markdown",
   "metadata": {},
   "source": [
    "<div class=arabic>\n",
    "    <ol>\n",
    "        <li>القوائم (lists)</li>\n",
    "        <li>الصفوف (tuples)</li>\n",
    "        <li>القواميس (dictionaries)</li>\n",
    "         <li>المجموعات (sets)</li>\n",
    "    </ol>\n",
    "</div>"
   ]
  },
  {
   "cell_type": "markdown",
   "metadata": {},
   "source": [
    "<div class=arabic><h2 class=title>القوائم</h2></div>"
   ]
  },
  {
   "cell_type": "markdown",
   "metadata": {},
   "source": [
    "<div class=arabic>\n",
    "القوائم في لغة بايثون هي عبارة عن مجموعة من البيانات التي يشار اليها بمتغير واحد. وهي تعتبر وسيلة سهلة لتخزين البيانات قبل معالجتها اوتحليلها. ببساطة هي سلسلة من البيانات توضع بين قوسين مربعين يفصل بين كل بيان واخر بفاصلة كما في المثال التالي:\n",
    "</div>\n",
    "\n"
   ]
  },
  {
   "cell_type": "code",
   "execution_count": null,
   "metadata": {},
   "outputs": [],
   "source": [
    "months=['Jan','Feb','Mar','Apr','Jun','jul','Aug','Sep','Oct','Nov','Dec']"
   ]
  },
  {
   "cell_type": "markdown",
   "metadata": {},
   "source": [
    "<div class=arabic>\n",
    "كما يمكن انشاء قائمة فارغة باكثر من طريقة. فمثلا يمكن انشاء قائمة فارغة باستخدام قوسين مربعين فارغين بعد اسم المتغير كما في المثال التالي:\n",
    "</div>\n",
    "\n"
   ]
  },
  {
   "cell_type": "code",
   "execution_count": null,
   "metadata": {},
   "outputs": [],
   "source": [
    "list1=[]"
   ]
  },
  {
   "cell_type": "markdown",
   "metadata": {},
   "source": [
    "<div class=arabic>\n",
    "كما يمكن انشاء قائمة فارغة باستخدام الدالة\n",
    "()<font color=\"green\">list</font>\n",
    " كما في المثال التالي:\n",
    "</div>\n",
    "\n"
   ]
  },
  {
   "cell_type": "code",
   "execution_count": null,
   "metadata": {},
   "outputs": [],
   "source": [
    "mylist=list()"
   ]
  },
  {
   "cell_type": "markdown",
   "metadata": {},
   "source": [
    "<div class=arabic>\n",
    " لاضافة بيانات لقائمة قارغة او قائمة تحتوي على بيانات سابقة يمكن استخدام الامر \n",
    "()<font color=\"green\">append</font>\n",
    " بحيث يكون البيان المضاف دائما في اخر القائمة كما في المثال التالي:\n",
    "</div>\n",
    "\n"
   ]
  },
  {
   "cell_type": "code",
   "execution_count": 1,
   "metadata": {},
   "outputs": [
    {
     "data": {
      "text/plain": [
       "['Sunday', 'Monday', 'Tuesday']"
      ]
     },
     "execution_count": 1,
     "metadata": {},
     "output_type": "execute_result"
    }
   ],
   "source": [
    "list1=[]\n",
    "list1.append('Sunday')\n",
    "list1.append('Monday')\n",
    "list1.append('Tuesday')\n",
    "list1"
   ]
  },
  {
   "cell_type": "markdown",
   "metadata": {},
   "source": [
    "<div class=arabic>\n",
    "لاحظ استخدام النقطة بعد اسم القائمة لتنفيذ الامر. فهي تعنى قم باضافة القيمة \"Sunday\" مثلا لللقائمة list1.\n",
    "\n",
    "</div>\n",
    "\n"
   ]
  },
  {
   "cell_type": "markdown",
   "metadata": {},
   "source": [
    "<div class=arabic>\n",
    "كما يجب التنويه الى ان القوائم يمكن ان تحتوي على اكثر من نوع من البيانات فالقائمة التالية تحتوي على بيانات نصية وبيانات عددية وبيانات منطقية:\n",
    "</div>"
   ]
  },
  {
   "cell_type": "code",
   "execution_count": 3,
   "metadata": {},
   "outputs": [],
   "source": [
    "list2=['Ahmad',1990,True,23.5]"
   ]
  },
  {
   "cell_type": "markdown",
   "metadata": {},
   "source": [
    "<div class=arabic>\n",
    "يتم الاشارة الى مكان البيانات في القائمة بارقام صحيحة تسمى Index تبدا من الصفر. فالقائمة السابقة يشار الى القيمة الاولى فيها بالرقم 0 والقيمة الثانية بالرقم 1 وهكذا الى نهاية القيم في القائمة.\n",
    "</div>\n",
    "\n"
   ]
  },
  {
   "cell_type": "markdown",
   "metadata": {},
   "source": [
    "<table style=\"width:80%\">\n",
    "  \n",
    "  <tr>\n",
    "    <td border=\"0\"><center>مؤشر القيمة</td>\n",
    "    <td><center>0</td>\n",
    "    <td><center>1</td>\n",
    "    <td><center>2</td>\n",
    "    <td><center>3</td>\n",
    "  </tr>\n",
    "  <tr>\n",
    "    <td><center>القيمة</td>\n",
    "    <td><center>\"Ahmad</td>\n",
    "    <td><center>1990</td>\n",
    "    <td><center>True</td>\n",
    "    <td><center>23.5</td>\n",
    "  </tr>\n",
    "  \n",
    "</table> "
   ]
  },
  {
   "cell_type": "markdown",
   "metadata": {},
   "source": [
    "<div class=arabic>\n",
    "وللحصول على قيمة معينة من قائمة فاننا نقوم بكتابة اسم القائمة متبوعا بقوسين مربعين يوضع بينها رقم مؤشر القيمة. فعلى سبيل المثال عندما نريد القيمة الاولى من قائمة list2 السابقة فاننا نكتب الكود التالي:\n",
    "</div>\n",
    "\n"
   ]
  },
  {
   "cell_type": "code",
   "execution_count": 4,
   "metadata": {},
   "outputs": [
    {
     "data": {
      "text/plain": [
       "'Ahmad'"
      ]
     },
     "execution_count": 4,
     "metadata": {},
     "output_type": "execute_result"
    }
   ],
   "source": [
    "list2[0]"
   ]
  },
  {
   "cell_type": "markdown",
   "metadata": {},
   "source": [
    "<div class=arabic>\n",
    "وعندما نريد القيمة الثالثة مثلا فاننا نكتب الامر التالي:\n",
    "</div>"
   ]
  },
  {
   "cell_type": "code",
   "execution_count": 5,
   "metadata": {},
   "outputs": [
    {
     "data": {
      "text/plain": [
       "True"
      ]
     },
     "execution_count": 5,
     "metadata": {},
     "output_type": "execute_result"
    }
   ],
   "source": [
    "list2[2]"
   ]
  },
  {
   "cell_type": "markdown",
   "metadata": {},
   "source": [
    "<div class=arabic>\n",
    "كما يمكن الاشارة الى القيم في قائمة من اليمين الى اليسار او بمعنى اخر من اخر قيمة في القائمة. وللقيام بذلك نقوم باستخدم مؤشر سالب بين القوسين المربعين كما هو موضح في الجدول التالي:\n",
    "</div>\n",
    "\n"
   ]
  },
  {
   "cell_type": "markdown",
   "metadata": {},
   "source": [
    "<table style=\"width:80%\">\n",
    "  \n",
    "  <tr>\n",
    "    <td border=\"0\"><center>مؤشر القيمة</td>\n",
    "    <td><center>-4</td>\n",
    "    <td><center>-3</td>\n",
    "    <td><center>-2</td>\n",
    "    <td><center>-1</td>\n",
    "  </tr>\n",
    "  <tr>\n",
    "    <td><center>القيمة</td>\n",
    "    <td><center>\"Ahmad</td>\n",
    "    <td><center>1990</td>\n",
    "    <td><center>True</td>\n",
    "    <td><center>23.5</td>\n",
    "  </tr>\n",
    "  \n",
    "</table> "
   ]
  },
  {
   "cell_type": "markdown",
   "metadata": {},
   "source": [
    "<div class=arabic>\n",
    " فللحصول على أخر قيمة في القائمة list2 السابقة نكتب الامر التالي:\n",
    "</div>"
   ]
  },
  {
   "cell_type": "code",
   "execution_count": 6,
   "metadata": {},
   "outputs": [
    {
     "data": {
      "text/plain": [
       "23.5"
      ]
     },
     "execution_count": 6,
     "metadata": {},
     "output_type": "execute_result"
    }
   ],
   "source": [
    "list2[-1]"
   ]
  },
  {
   "cell_type": "markdown",
   "metadata": {},
   "source": [
    "<div class=arabic>\n",
    "للحصول على القيمة قبل الاخيره في قائمة فاننا نستخدم الموشر 2- داخل القوسين المربعين و 3- للقيمة التي بعدها وهكذا لباقي القيم في القائمة.\n",
    "</div>\n",
    "\n"
   ]
  },
  {
   "cell_type": "markdown",
   "metadata": {},
   "source": [
    "<div class=arabic>\n",
    "كما يمكننا ان نغير قيم البيانات داخل قائمة باستخدام معامل الاسناد (=) كما في المثال التالي:\n",
    "</div>"
   ]
  },
  {
   "cell_type": "code",
   "execution_count": 12,
   "metadata": {},
   "outputs": [
    {
     "data": {
      "text/plain": [
       "['Omar', 1990, True, 23.5]"
      ]
     },
     "execution_count": 12,
     "metadata": {},
     "output_type": "execute_result"
    }
   ],
   "source": [
    "Ahmad=5\n",
    "list2=[Ahmad,1990,True,23.5]\n",
    "list2[0]=\"Omar\"\n",
    "list2"
   ]
  },
  {
   "cell_type": "markdown",
   "metadata": {},
   "source": [
    "<div class=arabic>\n",
    "ولمعرفة مؤشر بيان ما داخل قائمة فإننا نستخدم الدالة ()index بحيث نضع البيان المراد معرفة مؤشره داخل قوسي الدالة كما في المثال التالي:\n",
    "</div>"
   ]
  },
  {
   "cell_type": "code",
   "execution_count": 13,
   "metadata": {},
   "outputs": [
    {
     "data": {
      "text/plain": [
       "1"
      ]
     },
     "execution_count": 13,
     "metadata": {},
     "output_type": "execute_result"
    }
   ],
   "source": [
    "list2=[\"Ahmad\",1990,True,23.5]\n",
    "list2.index(1990)"
   ]
  },
  {
   "cell_type": "markdown",
   "metadata": {},
   "source": [
    "<div class=arabic>\n",
    "ولمعرفة عدد البيانات في قائمة فإننا نستخدم الدالة ()len كما في المثال التالي:\n",
    "</div>"
   ]
  },
  {
   "cell_type": "code",
   "execution_count": 16,
   "metadata": {},
   "outputs": [
    {
     "data": {
      "text/plain": [
       "5"
      ]
     },
     "execution_count": 16,
     "metadata": {},
     "output_type": "execute_result"
    }
   ],
   "source": [
    "list2=['Ahmad', 1990, 'Hello', True, 23.5]\n",
    "len(list2)"
   ]
  },
  {
   "cell_type": "markdown",
   "metadata": {},
   "source": [
    "<div class=arabic>\n",
    "في مثال سابق تعلمنا كيف نضيف بيان الى قائمة باستخدام الامر ()append وعلمنا ان هذا الامر يقوم بإضافة البيان الى اخر القائمة. لكن ماذا لو أردنا ان نضيف بياناً في مكان معين من قائمة. لأداء هذه المهمة نستخدم الامر ()insert وكيفية استخدام هذا الامر يتطلب أولا ادخال مؤشر البيان داخل القائمة التي سوف يحتلها البيان المراد إدخاله ومن ثم قيمة البيان كما هو موضح في المثال التالي:\n",
    "</div>"
   ]
  },
  {
   "cell_type": "code",
   "execution_count": 17,
   "metadata": {},
   "outputs": [
    {
     "data": {
      "text/plain": [
       "['Ahmad', 1990, 'Hello', True, 23.5]"
      ]
     },
     "execution_count": 17,
     "metadata": {},
     "output_type": "execute_result"
    }
   ],
   "source": [
    "list2=['Ahmad', 1990, True, 23.5]\n",
    "list2.insert(2,\"Hello\")\n",
    "list2"
   ]
  },
  {
   "cell_type": "markdown",
   "metadata": {},
   "source": [
    "<div class=arabic>\n",
    "ولإزالة بيان من قائمة فان هناك عدة دوال تساعدنا على القيام بذلك بطرق مختلفة. فعندما نريد إزالة اخر بيان في قائمة فإننا نستخدم الدالة ()pop كما في المثال التالي:\n",
    "</div>"
   ]
  },
  {
   "cell_type": "code",
   "execution_count": 23,
   "metadata": {},
   "outputs": [
    {
     "data": {
      "text/plain": [
       "['Ahmad', 1990, 'Hello', True]"
      ]
     },
     "execution_count": 23,
     "metadata": {},
     "output_type": "execute_result"
    }
   ],
   "source": [
    "list2=['Ahmad', 1990, 'Hello', True, 23.5]\n",
    "item_removed=list2.pop()\n",
    "list2"
   ]
  },
  {
   "cell_type": "code",
   "execution_count": 24,
   "metadata": {},
   "outputs": [
    {
     "data": {
      "text/plain": [
       "23.5"
      ]
     },
     "execution_count": 24,
     "metadata": {},
     "output_type": "execute_result"
    }
   ],
   "source": [
    "item_removed"
   ]
  },
  {
   "cell_type": "markdown",
   "metadata": {},
   "source": [
    "<div class=arabic>\n",
    "هنا الدالة ()pop قامت بحذف اخر بيان من القائمة وارجعت البيان الذي تم حذفه بحيث اصبح بإمكاننا اسناد ما تم حذفه الى متغير كما فعلنا في المثال السابق\n",
    "</div>"
   ]
  },
  {
   "cell_type": "markdown",
   "metadata": {},
   "source": [
    "<div class=arabic>\n",
    "وكذلك يمكن إزالة عنصر معين من القائمة باستخدام الدالة ()remove وذلك بتحديد البيان المراد حذفه كما في المثال التالي:\n",
    "</div>"
   ]
  },
  {
   "cell_type": "code",
   "execution_count": 20,
   "metadata": {},
   "outputs": [
    {
     "data": {
      "text/plain": [
       "[1990, 'Hello']"
      ]
     },
     "execution_count": 20,
     "metadata": {},
     "output_type": "execute_result"
    }
   ],
   "source": [
    "list2=['Ahmad', 1990, 'Hello']\n",
    "item_removed=list2.remove(\"Ahmad\")\n",
    "list2"
   ]
  },
  {
   "cell_type": "code",
   "execution_count": 22,
   "metadata": {},
   "outputs": [],
   "source": [
    "item_removed"
   ]
  },
  {
   "cell_type": "markdown",
   "metadata": {},
   "source": [
    "<div class=arabic>\n",
    "لاحظ ان الدالة ()remove لم تقم بارجاع البيان الذي تم حذفه كما هو الحال مع الدلة ()pop.\n",
    "</div>"
   ]
  },
  {
   "cell_type": "markdown",
   "metadata": {},
   "source": [
    "<div class=arabic>\n",
    "كما انه بالإمكان استخدام الامر del لإزالة البيان المراد كما في المثال التالي:\n",
    "</div>"
   ]
  },
  {
   "cell_type": "code",
   "execution_count": 25,
   "metadata": {},
   "outputs": [
    {
     "data": {
      "text/plain": [
       "['Ahmad', 'Hello', True, 23.5]"
      ]
     },
     "execution_count": 25,
     "metadata": {},
     "output_type": "execute_result"
    }
   ],
   "source": [
    "list2=['Ahmad', 1990, 'Hello', True, 23.5]\n",
    "del list2[1]\n",
    "list2"
   ]
  },
  {
   "cell_type": "markdown",
   "metadata": {},
   "source": [
    "<div class=arabic>\n",
    "وأخيرا يمكن افراغ القائمة من البيانات بالكامل باستخدام الدالة ()clear بعد اسم القائمة كما في المثال التالي:\n",
    "</div>"
   ]
  },
  {
   "cell_type": "code",
   "execution_count": 26,
   "metadata": {},
   "outputs": [
    {
     "data": {
      "text/plain": [
       "[]"
      ]
     },
     "execution_count": 26,
     "metadata": {},
     "output_type": "execute_result"
    }
   ],
   "source": [
    "list2=['Ahmad', 'Hello', True, 23.5]\n",
    "list2.clear()\n",
    "list2"
   ]
  },
  {
   "cell_type": "markdown",
   "metadata": {},
   "source": [
    "<div class=arabic>\n",
    "يجب ملاحظة ان القائمة تسمح بتكرار العناصر بمعنى انه يمكن تخزين نفس البيان في قائمة اكثر من مرة كما في المثال التالي:\n",
    "</div>"
   ]
  },
  {
   "cell_type": "code",
   "execution_count": 27,
   "metadata": {},
   "outputs": [
    {
     "data": {
      "text/plain": [
       "['hello', 'hello', 'hello']"
      ]
     },
     "execution_count": 27,
     "metadata": {},
     "output_type": "execute_result"
    }
   ],
   "source": [
    "greatings=[\"hello\",\"hello\",\"hello\"]\n",
    "greatings"
   ]
  },
  {
   "cell_type": "markdown",
   "metadata": {},
   "source": [
    "<div class=arabic>\n",
    "ولمعرفة عدد العناصر المكررة في قائمة نستخدم الدالة ()count بعد تحديد البيان المراد معرفة عدد مرات تكراره كما في المثال التالي:\n",
    "</div>"
   ]
  },
  {
   "cell_type": "code",
   "execution_count": 28,
   "metadata": {},
   "outputs": [
    {
     "data": {
      "text/plain": [
       "3"
      ]
     },
     "execution_count": 28,
     "metadata": {},
     "output_type": "execute_result"
    }
   ],
   "source": [
    "greatings=['hello', 'hello', 'hello', 'Hi', 'Hi']\n",
    "greatings.count(\"hello\")"
   ]
  },
  {
   "cell_type": "code",
   "execution_count": 29,
   "metadata": {},
   "outputs": [
    {
     "data": {
      "text/plain": [
       "2"
      ]
     },
     "execution_count": 29,
     "metadata": {},
     "output_type": "execute_result"
    }
   ],
   "source": [
    "greatings=['hello', 'hello', 'hello', 'Hi', 'Hi']\n",
    "greatings.count(\"Hi\")"
   ]
  },
  {
   "cell_type": "code",
   "execution_count": 30,
   "metadata": {},
   "outputs": [
    {
     "data": {
      "text/plain": [
       "0"
      ]
     },
     "execution_count": 30,
     "metadata": {},
     "output_type": "execute_result"
    }
   ],
   "source": [
    "greatings=['hello', 'hello', 'hello', 'Hi', 'Hi']\n",
    "greatings.count(\"bye\")"
   ]
  },
  {
   "cell_type": "markdown",
   "metadata": {},
   "source": [
    "<div class=arabic>\n",
    "في مثال سابق تعلمنا كيف نستخدم الدالة ()append لإضافة بيان واحد الى اخر القائمة. ولان نريد ان نوسع معرفتنا بهذه الدالة ونتعرف على ان هذه الدالة باستطاعتها إضافة قائمة الى اخر القائمة بحيث تظهر القائمة كقائمة جزئية داخل قائمة رئيسية كما في المثال التالي:\n",
    "</div>"
   ]
  },
  {
   "cell_type": "code",
   "execution_count": 31,
   "metadata": {},
   "outputs": [
    {
     "data": {
      "text/plain": [
       "[1, 2, 3, 4, ['a', 'b', 'c']]"
      ]
     },
     "execution_count": 31,
     "metadata": {},
     "output_type": "execute_result"
    }
   ],
   "source": [
    "numbers=[1,2,3,4]\n",
    "numbers.append(['a','b','c'])\n",
    "numbers"
   ]
  },
  {
   "cell_type": "markdown",
   "metadata": {},
   "source": [
    "<div class=arabic>\n",
    "لاحظ ان القائمة الرئيسية هي القائمة التي تسبق ()append والقائمة الفرعية هي التي بداخل قوسي ()append. لكن ماذا لو أردنا ان ندمج عناصر القائمة الفرعية مع عناصر القائمة الرئيسية بحيث تصبح كأنها قائمة رئيسية واحدة. للقيام بذلك يمكننا استخدام علامة الجمع بين القائمتين كما في المثال التالي:\n",
    "</div>"
   ]
  },
  {
   "cell_type": "code",
   "execution_count": 2,
   "metadata": {},
   "outputs": [
    {
     "data": {
      "text/plain": [
       "[1, 2, 3, 4, 'a', 'b', 'c']"
      ]
     },
     "execution_count": 2,
     "metadata": {},
     "output_type": "execute_result"
    }
   ],
   "source": [
    "numbers=[1, 2, 3, 4]\n",
    "list3=numbers+['a','b','c']\n",
    "list3"
   ]
  },
  {
   "cell_type": "code",
   "execution_count": 4,
   "metadata": {},
   "outputs": [
    {
     "data": {
      "text/plain": [
       "['a', 'b', 'c', 1, 2, 3, 4]"
      ]
     },
     "execution_count": 4,
     "metadata": {},
     "output_type": "execute_result"
    }
   ],
   "source": [
    "numbers=[1, 2, 3, 4]\n",
    "list3=['a','b','c']+numbers\n",
    "list3"
   ]
  },
  {
   "cell_type": "markdown",
   "metadata": {},
   "source": [
    "<div class=arabic>\n",
    "لاحظ ان ترتيب البيانات يعتمد على الطريقة التي تمت بها عملية الجمع السابقة.\n",
    "</div>"
   ]
  },
  {
   "cell_type": "markdown",
   "metadata": {},
   "source": [
    "<div class=arabic>\n",
    "كما يمكننا ان نستخدم الدالة ()extend لأداء نفس المهمة بحيث نضع القائمة الفرعية المراد دمجها داخل قوسي الدالة كما في المثال التالي:\n",
    "</div>"
   ]
  },
  {
   "cell_type": "code",
   "execution_count": 39,
   "metadata": {},
   "outputs": [
    {
     "data": {
      "text/plain": [
       "[1, 2, 3, 4, 'a', 'b', 'c']"
      ]
     },
     "execution_count": 39,
     "metadata": {},
     "output_type": "execute_result"
    }
   ],
   "source": [
    "numbers=[1,2,3,4]\n",
    "numbers.extend(['a','b','c'])\n",
    "numbers"
   ]
  },
  {
   "cell_type": "markdown",
   "metadata": {},
   "source": [
    "<div class=arabic>\n",
    "يمكن اجراء عملية ضرب على قائمة فتكون النتيجة كالتالي:\n",
    "</div>"
   ]
  },
  {
   "cell_type": "code",
   "execution_count": 43,
   "metadata": {},
   "outputs": [
    {
     "data": {
      "text/plain": [
       "[1, 2, 3, 1, 2, 3, 1, 2, 3, 1, 2, 3]"
      ]
     },
     "execution_count": 43,
     "metadata": {},
     "output_type": "execute_result"
    }
   ],
   "source": [
    "[1,2,3]*4"
   ]
  },
  {
   "cell_type": "markdown",
   "metadata": {},
   "source": [
    "<div class=arabic>\n",
    "لاحظ ان عملية الضرب هنا هي مجرد تكرار للبيانات داخل القائمة.\n",
    "</div>"
   ]
  },
  {
   "cell_type": "markdown",
   "metadata": {},
   "source": [
    "<div class=arabic>\n",
    "ويمكن عكس ترتيب البيانات في قائمة باستخدام الدالة ()reverse كما في المثال التالي:\n",
    "</div>"
   ]
  },
  {
   "cell_type": "code",
   "execution_count": 44,
   "metadata": {},
   "outputs": [
    {
     "data": {
      "text/plain": [
       "['c', 'b', 'a', 4, 3, 2, 1]"
      ]
     },
     "execution_count": 44,
     "metadata": {},
     "output_type": "execute_result"
    }
   ],
   "source": [
    "numbers=[1, 2, 3, 4, 'a', 'b', 'c']\n",
    "numbers.reverse()\n",
    "numbers"
   ]
  },
  {
   "cell_type": "markdown",
   "metadata": {},
   "source": [
    "<div class=arabic>\n",
    "ولإعادة ترتيب البيانات داخل قائمة فإننا نستخدم الدالة ()sort بحيث تقوم هذه الدالة بترتيب البيانات تصاعديا بشكل تلقائي على حسب ترتيب الحروف الابجدية او الاعداد كما في المثال التالي:\n",
    "</div>"
   ]
  },
  {
   "cell_type": "code",
   "execution_count": 47,
   "metadata": {},
   "outputs": [
    {
     "data": {
      "text/plain": [
       "['BMW', 'Ford', 'Volvo']"
      ]
     },
     "execution_count": 47,
     "metadata": {},
     "output_type": "execute_result"
    }
   ],
   "source": [
    "cars = ['Ford', 'BMW', 'Volvo']\n",
    "cars.sort()\n",
    "cars"
   ]
  },
  {
   "cell_type": "markdown",
   "metadata": {},
   "source": [
    "<div class=arabic>\n",
    "لاحظ ان في المثال السابق تم اعادة ترتيب البيانات على نفس القائمة الاصلية cars. ولاجراء عملية اعادة الترتيب في قائمة جديدة بحيث تبقى القائمة الاصلية كما هي نستخدم الدالة ()sorted كما في المثال التالي:\n",
    "</div>"
   ]
  },
  {
   "cell_type": "code",
   "execution_count": 11,
   "metadata": {},
   "outputs": [
    {
     "name": "stdout",
     "output_type": "stream",
     "text": [
      "Original list:  ['Ford', 'BMW', 'Volvo']\n",
      "Sorted list:  ['BMW', 'Ford', 'Volvo']\n"
     ]
    }
   ],
   "source": [
    "cars=[\"Ford\",\"BMW\",\"Volvo\"]\n",
    "cars2=sorted(cars)\n",
    "print('Original list: ',cars)\n",
    "print('Sorted list: ',cars2)"
   ]
  },
  {
   "cell_type": "markdown",
   "metadata": {},
   "source": [
    "<div class=arabic>\n",
    "ولعكس الترتيب بحيث يكون تنازليا نستخدم الخيار reverse=True داخل قوسي الدالتين السابقتين كما في المثالين التاليين:\n",
    "</div>"
   ]
  },
  {
   "cell_type": "code",
   "execution_count": 48,
   "metadata": {},
   "outputs": [
    {
     "data": {
      "text/plain": [
       "['Volvo', 'Ford', 'BMW']"
      ]
     },
     "execution_count": 48,
     "metadata": {},
     "output_type": "execute_result"
    }
   ],
   "source": [
    "cars = ['Ford', 'BMW', 'Volvo']\n",
    "cars.sort(reverse=True)\n",
    "cars"
   ]
  },
  {
   "cell_type": "code",
   "execution_count": 13,
   "metadata": {},
   "outputs": [
    {
     "data": {
      "text/plain": [
       "['Volvo', 'Ford', 'BMW']"
      ]
     },
     "execution_count": 13,
     "metadata": {},
     "output_type": "execute_result"
    }
   ],
   "source": [
    "cars = ['Ford', 'BMW', 'Volvo']\n",
    "cars2=sorted(cars,reverse=True)\n",
    "cars2"
   ]
  },
  {
   "cell_type": "markdown",
   "metadata": {},
   "source": [
    "<div class=arabic>\n",
    "ويمكن أيضا تحدد طريقة الترتيب بحسب الكيفية التي نرغب بها ولكن هذه الخاصية متقدمة قليلا ولا نستطيع الحديث عنها هنا الان.\n",
    "</div>"
   ]
  },
  {
   "cell_type": "markdown",
   "metadata": {},
   "source": [
    "<div class=arabic>\n",
    "ولمعرفة ما اذا كان بيان معين موجود في قائمة فإننا نستخدم in بين البيان المراد البحث عنه واسم القائمة ليكون معنى التركيب اللغوي \"هل البيان x موجود في القائمة y\" فيكون ناتج العملية اما بصح True او خطأ False كما في المثال التالي:\n",
    "</div>"
   ]
  },
  {
   "cell_type": "code",
   "execution_count": 49,
   "metadata": {},
   "outputs": [
    {
     "data": {
      "text/plain": [
       "True"
      ]
     },
     "execution_count": 49,
     "metadata": {},
     "output_type": "execute_result"
    }
   ],
   "source": [
    "colors=['green','red','blue']\n",
    "'green' in colors"
   ]
  },
  {
   "cell_type": "code",
   "execution_count": 50,
   "metadata": {},
   "outputs": [
    {
     "data": {
      "text/plain": [
       "False"
      ]
     },
     "execution_count": 50,
     "metadata": {},
     "output_type": "execute_result"
    }
   ],
   "source": [
    "colors=['green','red','blue']\n",
    "'yellow' in colors"
   ]
  },
  {
   "cell_type": "markdown",
   "metadata": {},
   "source": [
    "<div class=arabic>\n",
    "ولعمل نسخه من القائمة نستخدم الدالة ()copy كما في المثال التالي:\n",
    "</div>"
   ]
  },
  {
   "cell_type": "code",
   "execution_count": 51,
   "metadata": {},
   "outputs": [
    {
     "data": {
      "text/plain": [
       "['Ford', 'BMW', 'Volvo']"
      ]
     },
     "execution_count": 51,
     "metadata": {},
     "output_type": "execute_result"
    }
   ],
   "source": [
    "cars = ['Ford', 'BMW', 'Volvo']\n",
    "cars2=cars.copy()\n",
    "cars2"
   ]
  },
  {
   "cell_type": "markdown",
   "metadata": {},
   "source": [
    "<div class=arabic>\n",
    "قد يتبادر الى الاذهان ان عملية النسخ باستخدام الدالة ()copy غير ضرورية لان اجراء عملية اسناد قائمة لمتغير جديد سوف تفي بالغرض كما في المثال التالي:\n",
    "</div>"
   ]
  },
  {
   "cell_type": "code",
   "execution_count": 52,
   "metadata": {},
   "outputs": [
    {
     "data": {
      "text/plain": [
       "['Ford', 'BMW', 'Volvo']"
      ]
     },
     "execution_count": 52,
     "metadata": {},
     "output_type": "execute_result"
    }
   ],
   "source": [
    "cars = ['Ford', 'BMW', 'Volvo']\n",
    "cars2=cars\n",
    "cars2"
   ]
  },
  {
   "cell_type": "markdown",
   "metadata": {},
   "source": [
    "<div class=arabic>\n",
    "لكن في حقيقة الامر هناك اختلاف جوهري بين استخدام الدالة ()copy وعملية الاسناد. فعملية الاسناد لا تعني تكوين قائمة مستقلة عن القائمة الاولى. بل ان اجراء أي تغيير في أي متغير سوف يؤثر على القائمة الاخرى كما في المثال التالي:\n",
    "</div>"
   ]
  },
  {
   "cell_type": "code",
   "execution_count": 14,
   "metadata": {},
   "outputs": [
    {
     "name": "stdout",
     "output_type": "stream",
     "text": [
      "['Ford', 'BMW', 'Volvo', 'GMC']\n",
      "['Ford', 'BMW', 'Volvo', 'GMC']\n"
     ]
    }
   ],
   "source": [
    "cars = ['Ford', 'BMW', 'Volvo']\n",
    "cars2=cars # عملية الاسناد الى متغير جديد\n",
    "cars.append(\"GMC\")\n",
    "print(cars)\n",
    "print(cars2)"
   ]
  },
  {
   "cell_type": "markdown",
   "metadata": {},
   "source": [
    "<div class=arabic>\n",
    "لاحظ انه عند إضافة بيان الى القائمة cars تم احداث نفس التغيير في المتغير cars2 ايضاً. وذلك لأنه في حقيقة الامر لا يوجد قائمتين في ذاكرة الكمبيوتر أصلا. ان ذاكرة الكمبيوتر تحتفظ بقائمة واحدة فقط وعملية الاسناد قامت فقط بتكوين متغير يشير الى نفس القائمة كما في الشكل التالي:\n",
    "</div>"
   ]
  },
  {
   "cell_type": "markdown",
   "metadata": {},
   "source": [
    "<img src=\"img/ref.png\">"
   ]
  },
  {
   "cell_type": "markdown",
   "metadata": {},
   "source": [
    "<div class=arabic>\n",
    "اما عملية النسخ بالدالة ()copy فانها تقوم بإنشاء قائمة مستقلة عن القائمة الاولى في داكرة الكمبيوتر كما في الشكل التالي:\n",
    "</div>"
   ]
  },
  {
   "cell_type": "markdown",
   "metadata": {},
   "source": [
    "<img src=\"img/copy.png\">"
   ]
  },
  {
   "cell_type": "markdown",
   "metadata": {},
   "source": [
    "<div class=arabic>\n",
    "اعادة كتابة المثال السابق باستخدام الدالة ()copy يثبت صحة هذه المعلومة كما يلي:\n",
    "</div>"
   ]
  },
  {
   "cell_type": "code",
   "execution_count": 15,
   "metadata": {},
   "outputs": [
    {
     "name": "stdout",
     "output_type": "stream",
     "text": [
      "['Ford', 'BMW', 'Volvo', 'GMC']\n",
      "['Ford', 'BMW', 'Volvo']\n"
     ]
    }
   ],
   "source": [
    "cars = ['Ford', 'BMW', 'Volvo']\n",
    "cars2=cars.copy() # عمل نسخة من القائمة\n",
    "cars.append(\"GMC\")\n",
    "print(cars)\n",
    "print(cars2)"
   ]
  },
  {
   "cell_type": "markdown",
   "metadata": {},
   "source": [
    "<div class=arabic>\n",
    "لذلك عند اجراء تغيير على القائمة التي نسخت بالدالة ()copy فان هذا التغيير لا يؤثر على القائمة الاصلية والعكس صحيح اي ان التغيير في القائمة الاصلية بعد عملية النسخ فانه لا يؤثر على القائمة المنسوخة كما في المثال التالي:\n",
    "</div>"
   ]
  },
  {
   "cell_type": "code",
   "execution_count": 16,
   "metadata": {},
   "outputs": [
    {
     "name": "stdout",
     "output_type": "stream",
     "text": [
      "['Ford', 'BMW', 'Volvo', [1, 2, 3]]\n",
      "['Ford', 'BMW', 'Volvo']\n"
     ]
    }
   ],
   "source": [
    "cars = ['Ford', 'BMW', 'Volvo']\n",
    "cars2=cars.copy() # عملية النسخ\n",
    "cars.append([1,2,3]) # عملية التغيير على القائمة الاصلية\n",
    "print(cars)\n",
    "print(cars2)"
   ]
  },
  {
   "cell_type": "markdown",
   "metadata": {},
   "source": [
    "<div class=arabic>\n",
    "ويمكن الحصول على نفس وظيفة النسخ بالدالة ()copy باستخدام دالة تعريف القائمة ()list التي ذكرناها في بداية الفصل كما في المثال التالي:\n",
    "</div>"
   ]
  },
  {
   "cell_type": "code",
   "execution_count": 17,
   "metadata": {},
   "outputs": [
    {
     "name": "stdout",
     "output_type": "stream",
     "text": [
      "[1, 2, 3, 4]\n",
      "[1, 2, 3]\n"
     ]
    }
   ],
   "source": [
    "numbers=[1,2,3,4]\n",
    "numbers2=list(numbers)\n",
    "numbers2.pop()\n",
    "print(numbers)\n",
    "print(numbers2)"
   ]
  },
  {
   "cell_type": "markdown",
   "metadata": {},
   "source": [
    "<div class=arabic>\n",
    "ويمكن تجزئة قائمة (list slicing) الى قوائم أصغر بعدة طرق.  فمثلا اذا اردنا اخذ الثلاثة البيانات الاولى من القائمة <br>[ ‘a’ , ’b’ , ’c’ , ’d’ , ’e’ , ’f’’ , ’g’ ] فإننا نقوم بالتالي:\n",
    "</div>"
   ]
  },
  {
   "cell_type": "code",
   "execution_count": 55,
   "metadata": {},
   "outputs": [
    {
     "data": {
      "text/plain": [
       "['a', 'b', 'c']"
      ]
     },
     "execution_count": 55,
     "metadata": {},
     "output_type": "execute_result"
    }
   ],
   "source": [
    "letters=['a','b','c','d','e','f','g']\n",
    "letters[0:3]"
   ]
  },
  {
   "cell_type": "markdown",
   "metadata": {},
   "source": [
    "<div class=arabic>\n",
    "ما قمنا به في المثال السابق هو اننا استخدمنا مؤشر البيان الذي نريد ان تبتدأ به القائمة الجزئية داخل قوسين مربعين ثم وضعنا نقطتين فوق بعض (:) ثم وضعنا مؤشر اخر بيان لا نريد ان يكون في القائمة الجزئية. ففي المثال السابق اول بيان نريده في القائمة الجزئية هو ‘a’ ومؤشره 0 واخر بيان لا نريده ان يكون في القائمة الجزئية هو ‘d’ ومؤشره هو 3 . لذلك حصلنا على القائمة الجزئية [ ‘a’ , ’b’ , ’c’ ] . ويكمن الحصول على نفس المهمة بترك مؤشر البيان الذي سوف تبتدأ به القائمة الجزئية فارغ لأن مفسر بايثون سوف يفترض انك تريد ان تبتدأ القائمة الجزئية من بداية القائمة الرئيسية كما في المثال التالي:\n",
    "</div>"
   ]
  },
  {
   "cell_type": "code",
   "execution_count": 56,
   "metadata": {},
   "outputs": [
    {
     "data": {
      "text/plain": [
       "['a', 'b', 'c']"
      ]
     },
     "execution_count": 56,
     "metadata": {},
     "output_type": "execute_result"
    }
   ],
   "source": [
    "letters=['a','b','c','d','e','f','g']\n",
    "letters[:3]"
   ]
  },
  {
   "cell_type": "markdown",
   "metadata": {},
   "source": [
    "<div class=arabic>\n",
    "وللحصول على قائمة جزئية تبتدأ مثلاً من الحرف ‘e’ وتنتهي باخر بيان في القائمة السابقة نكتفي بتحديد مؤشر العدد الذي نريد ان تبتدأ به القائمة الجزئية ونترك المؤشر الاخر فارغ لأن مفسر بايثون يفترض انك تريد بقية البيانات في القائمة الرئيسية كما في المثال التالي:\n",
    "</div>"
   ]
  },
  {
   "cell_type": "code",
   "execution_count": 31,
   "metadata": {},
   "outputs": [
    {
     "data": {
      "text/plain": [
       "['e', 'f', 'g']"
      ]
     },
     "execution_count": 31,
     "metadata": {},
     "output_type": "execute_result"
    }
   ],
   "source": [
    "letters=['a','b','c','d','e','f','g']\n",
    "letters[4:]"
   ]
  },
  {
   "cell_type": "markdown",
   "metadata": {},
   "source": [
    "<div class=arabic>\n",
    "كما يمكن فك القائمة الى متغيرات اعتيادية باسخدام متغير واحد لكل بيان موجود في القائمة كما في المثال التالي:\n",
    "</div>"
   ]
  },
  {
   "cell_type": "code",
   "execution_count": 32,
   "metadata": {},
   "outputs": [
    {
     "name": "stdout",
     "output_type": "stream",
     "text": [
      "1\n",
      "2\n",
      "3\n"
     ]
    }
   ],
   "source": [
    "numbers=[1,2,3]\n",
    "a,b,c=numbers\n",
    "print(a)\n",
    "print(b)\n",
    "print(c)"
   ]
  },
  {
   "cell_type": "markdown",
   "metadata": {},
   "source": [
    "<div class=arabic>\n",
    "في حال استخدامنا لمتغيرات اقل او اكثر من عدد البيانات الموجودة في القائمة فان مفسر بايثون يعطينا رسالة بوجود خطا في الكود البرمجي يفيد بأن عدد القيم في القائمة اكثر او اقل من عدد المتغيرات المعطى كما في المثاليين التاليين:\n",
    "</div>   "
   ]
  },
  {
   "cell_type": "code",
   "execution_count": 33,
   "metadata": {
    "scrolled": true
   },
   "outputs": [
    {
     "ename": "ValueError",
     "evalue": "too many values to unpack (expected 2)",
     "output_type": "error",
     "traceback": [
      "\u001b[1;31m---------------------------------------------------------------------------\u001b[0m",
      "\u001b[1;31mValueError\u001b[0m                                Traceback (most recent call last)",
      "\u001b[1;32m<ipython-input-33-bddb2bde1de6>\u001b[0m in \u001b[0;36m<module>\u001b[1;34m\u001b[0m\n\u001b[0;32m      1\u001b[0m \u001b[0mnumbers\u001b[0m\u001b[1;33m=\u001b[0m\u001b[1;33m[\u001b[0m\u001b[1;36m1\u001b[0m\u001b[1;33m,\u001b[0m\u001b[1;36m2\u001b[0m\u001b[1;33m,\u001b[0m\u001b[1;36m3\u001b[0m\u001b[1;33m]\u001b[0m\u001b[1;33m\u001b[0m\u001b[1;33m\u001b[0m\u001b[0m\n\u001b[1;32m----> 2\u001b[1;33m \u001b[0ma\u001b[0m\u001b[1;33m,\u001b[0m\u001b[0mb\u001b[0m\u001b[1;33m=\u001b[0m\u001b[0mnumbers\u001b[0m\u001b[1;33m\u001b[0m\u001b[1;33m\u001b[0m\u001b[0m\n\u001b[0m",
      "\u001b[1;31mValueError\u001b[0m: too many values to unpack (expected 2)"
     ]
    }
   ],
   "source": [
    "numbers=[1,2,3]\n",
    "a,b=numbers"
   ]
  },
  {
   "cell_type": "code",
   "execution_count": 35,
   "metadata": {},
   "outputs": [
    {
     "ename": "ValueError",
     "evalue": "not enough values to unpack (expected 3, got 2)",
     "output_type": "error",
     "traceback": [
      "\u001b[1;31m---------------------------------------------------------------------------\u001b[0m",
      "\u001b[1;31mValueError\u001b[0m                                Traceback (most recent call last)",
      "\u001b[1;32m<ipython-input-35-601f2d2f10ae>\u001b[0m in \u001b[0;36m<module>\u001b[1;34m\u001b[0m\n\u001b[0;32m      1\u001b[0m \u001b[0mnumbers\u001b[0m\u001b[1;33m=\u001b[0m\u001b[1;33m[\u001b[0m\u001b[1;36m1\u001b[0m\u001b[1;33m,\u001b[0m\u001b[1;36m2\u001b[0m\u001b[1;33m]\u001b[0m\u001b[1;33m\u001b[0m\u001b[1;33m\u001b[0m\u001b[0m\n\u001b[1;32m----> 2\u001b[1;33m \u001b[0ma\u001b[0m\u001b[1;33m,\u001b[0m\u001b[0mb\u001b[0m\u001b[1;33m,\u001b[0m\u001b[0mc\u001b[0m \u001b[1;33m=\u001b[0m \u001b[0mnumbers\u001b[0m\u001b[1;33m\u001b[0m\u001b[1;33m\u001b[0m\u001b[0m\n\u001b[0m",
      "\u001b[1;31mValueError\u001b[0m: not enough values to unpack (expected 3, got 2)"
     ]
    }
   ],
   "source": [
    "numbers=[1,2]\n",
    "a,b,c = numbers"
   ]
  },
  {
   "cell_type": "markdown",
   "metadata": {},
   "source": [
    "<div class=arabic>\n",
    "يمكن تلافي اخطاء الفك السابقة باستخدام علامة النجمة قبل المتغير الاخير كما في المثال التالي:\n",
    "</div>"
   ]
  },
  {
   "cell_type": "code",
   "execution_count": 36,
   "metadata": {},
   "outputs": [
    {
     "name": "stdout",
     "output_type": "stream",
     "text": [
      "1\n",
      "[2, 3]\n"
     ]
    }
   ],
   "source": [
    "numbers=[1,2,3]\n",
    "a,*b=numbers\n",
    "print(a)\n",
    "print(b)"
   ]
  },
  {
   "cell_type": "markdown",
   "metadata": {},
   "source": [
    "<div class=arabic>\n",
    "على الرغم من ان عدد البيانات في القائمة اكثر من عدد المتغيرات المعطاه في المثال السابق الا ان استخدام النجمة قبل المتغير b اعطى تعليمات لمفسر بايثون بان يسند كل ما تبقى من بيانات في القائمة للمتغير b فتكون لدينا قائمة مكونه عنصرين اسندت للتمتغير b بينما تم فك البيان الاول وتم اسناده للمتغير a.\n",
    "</div>"
   ]
  },
  {
   "cell_type": "markdown",
   "metadata": {},
   "source": [
    "<div class=arabic>\n",
    "في الحالة التي يكون فيها عدد المتغيرات اكثر من عدد البيانات الموجودة في قائمة فان استخدام النجمة مع المتغير c يعطى تعليمات الى مفسر بايثون بان يضع كل ما تبقى من بيانات في هذا المتغير. وبما ان عمليه الفك لا تبقى شي للمتغير c فان مفسر بايثون سوف يسند للمغير c قائمة فارغة كما في المثال التالي:\n",
    "</div>"
   ]
  },
  {
   "cell_type": "code",
   "execution_count": 38,
   "metadata": {},
   "outputs": [
    {
     "name": "stdout",
     "output_type": "stream",
     "text": [
      "1\n",
      "2\n",
      "[]\n"
     ]
    }
   ],
   "source": [
    "numbers=[1,2]\n",
    "a,b,*c=numbers\n",
    "print(a)\n",
    "print(b)\n",
    "print(c)"
   ]
  },
  {
   "cell_type": "markdown",
   "metadata": {},
   "source": [
    "<div class=arabic><h2 class=title>أنشطة استكشافية</h2></div>"
   ]
  },
  {
   "cell_type": "markdown",
   "metadata": {},
   "source": [
    "<div class=arabic>\n",
    "١-استكشف ماذا ينتج عن استخدام [:]letters للقائمة السابقة؟\n",
    "</div>"
   ]
  },
  {
   "cell_type": "code",
   "execution_count": 65,
   "metadata": {},
   "outputs": [
    {
     "data": {
      "text/plain": [
       "'f'"
      ]
     },
     "execution_count": 65,
     "metadata": {},
     "output_type": "execute_result"
    }
   ],
   "source": [
    "letters[-2]"
   ]
  },
  {
   "cell_type": "markdown",
   "metadata": {},
   "source": [
    "<div class=arabic>\n",
    "٢- استكشف ماذا ينتج عن استخدام letters[2:-2] للقائمة السابقة؟\n",
    "</div>"
   ]
  },
  {
   "cell_type": "code",
   "execution_count": 66,
   "metadata": {},
   "outputs": [
    {
     "data": {
      "text/plain": [
       "['c', 'd', 'e']"
      ]
     },
     "execution_count": 66,
     "metadata": {},
     "output_type": "execute_result"
    }
   ],
   "source": [
    "letters[2:-2]"
   ]
  },
  {
   "cell_type": "markdown",
   "metadata": {},
   "source": [
    "<div class=arabic>\n",
    "٣-استكشف ماذا ينتج عن استخدام [::]letters للقائمة السابقة باسناد الناتج الى المتغير letters2 وتعرف على ما اذا كانت عملية التجزئة تقوم بعملية التغيير على نفس القائمة الاصلية ام انها تقوم بعمل نسخة مستقلة عنها؟ \n",
    "</div>"
   ]
  },
  {
   "cell_type": "code",
   "execution_count": null,
   "metadata": {},
   "outputs": [],
   "source": []
  },
  {
   "cell_type": "markdown",
   "metadata": {},
   "source": [
    "<div class=arabic>\n",
    "\n",
    "</div>"
   ]
  },
  {
   "cell_type": "markdown",
   "metadata": {},
   "source": [
    "<div class=arabic>\n",
    "٤-استكشف ماذا ينتج عن استخدام letters[::-1] للقائمة السابقة؟ حاول تتذكر أي دالة من الدوال التي تعلمناها سابقا تقوم بنفس المهمة؟\n",
    "</div>"
   ]
  },
  {
   "cell_type": "code",
   "execution_count": 72,
   "metadata": {},
   "outputs": [
    {
     "data": {
      "text/plain": [
       "['g', 'f', 'e', 'd', 'c', 'b', 'a']"
      ]
     },
     "execution_count": 72,
     "metadata": {},
     "output_type": "execute_result"
    }
   ],
   "source": [
    "letters[::-1]"
   ]
  },
  {
   "cell_type": "markdown",
   "metadata": {},
   "source": [
    "<div class=arabic>\n",
    "٥-استكشف ماذا ينتج عن استخدام letters[::1] للقائمة السابقة؟\n",
    "</div>"
   ]
  },
  {
   "cell_type": "code",
   "execution_count": 73,
   "metadata": {},
   "outputs": [
    {
     "data": {
      "text/plain": [
       "['a', 'b', 'c', 'd', 'e', 'f', 'g']"
      ]
     },
     "execution_count": 73,
     "metadata": {},
     "output_type": "execute_result"
    }
   ],
   "source": [
    "letters[::1]"
   ]
  },
  {
   "cell_type": "markdown",
   "metadata": {},
   "source": [
    "<div class=arabic>\n",
    "٦-استكشف ماذا ينتج عن استخدام letters[::2] للقائمة السابقة؟\n",
    "</div>"
   ]
  },
  {
   "cell_type": "code",
   "execution_count": null,
   "metadata": {},
   "outputs": [],
   "source": []
  },
  {
   "cell_type": "markdown",
   "metadata": {},
   "source": [
    "<div class=arabic>\n",
    "7-استكشف كيف يتم فك القائمة السابقة الى ثلاث متغيرات المتغير الاول يشير القيمة الاولى من القائمة والمتغير الثاني يشير الى كل عناصر القائمة ماعد القيمة الاخيرة والمتغير الثالث يشير الى آخر قيمة في القائمة letters[::2] ؟\n",
    "</div>"
   ]
  },
  {
   "cell_type": "code",
   "execution_count": null,
   "metadata": {},
   "outputs": [],
   "source": []
  },
  {
   "cell_type": "markdown",
   "metadata": {},
   "source": [
    "<div class=arabic>\n",
    "8-جرب استخدام الامر ()dir واضعا بين قوسيه اسما لقائمة و تعرف على الدوال التي يمكن استخدامها مع هذه القائمة؟ \n",
    "</div>"
   ]
  },
  {
   "cell_type": "code",
   "execution_count": null,
   "metadata": {},
   "outputs": [],
   "source": []
  },
  {
   "cell_type": "markdown",
   "metadata": {},
   "source": [
    "<div class=arabic><h2 class=title>الصفوف (tuples)</h2></div>"
   ]
  },
  {
   "cell_type": "markdown",
   "metadata": {},
   "source": [
    "<div class=arabic>\n",
    "الصفوف في لغة بايثون هي عبارة عن مجموعة من البيانات غير قابلة للتغيير توضع بين قوسين منحنيين يفصل بين كل بيان وآخر بفاصلة ويشار اليها بمتغير واحد كما في المثال التالي:\n",
    "</div>"
   ]
  },
  {
   "cell_type": "code",
   "execution_count": null,
   "metadata": {},
   "outputs": [],
   "source": [
    "fruits=(\"banana\",\"orange\",\"apple\")\n",
    "numbers=(1,2,3,4)\n",
    "values=(True,False,False,True)"
   ]
  },
  {
   "cell_type": "markdown",
   "metadata": {},
   "source": [
    "<div class=arabic>\n",
    "حتى لو لم نكتب القوسين المنحنيين عند كتابتنا للبيانات التي تم فصلها عن بعض بفاصله فان مفسر بايثون سوف يفترض انك تريد كتابة صف من البيانات ويظهر لك النتيجة بقوسين منحنيين كما في المثال التالي:\n",
    "</div>"
   ]
  },
  {
   "cell_type": "code",
   "execution_count": 18,
   "metadata": {},
   "outputs": [
    {
     "data": {
      "text/plain": [
       "('blue', 'red', 'orange')"
      ]
     },
     "execution_count": 18,
     "metadata": {},
     "output_type": "execute_result"
    }
   ],
   "source": [
    "colors='blue','red','orange'\n",
    "colors"
   ]
  },
  {
   "cell_type": "markdown",
   "metadata": {},
   "source": [
    "<div class=arabic>\n",
    "ويمكن انشاء صف من قائمة باستخدام الدالة ()tuple و قائمة من صف باستخدام الدالة ()list كما في المثالين التاليين:\n",
    "</div>"
   ]
  },
  {
   "cell_type": "code",
   "execution_count": 28,
   "metadata": {},
   "outputs": [
    {
     "data": {
      "text/plain": [
       "tuple"
      ]
     },
     "execution_count": 28,
     "metadata": {},
     "output_type": "execute_result"
    }
   ],
   "source": [
    "colors=[\"red\",\"yellow\",\"blue\"]\n",
    "mytuple=tuple(colors)\n",
    "type(mytuple)"
   ]
  },
  {
   "cell_type": "code",
   "execution_count": 29,
   "metadata": {},
   "outputs": [
    {
     "data": {
      "text/plain": [
       "list"
      ]
     },
     "execution_count": 29,
     "metadata": {},
     "output_type": "execute_result"
    }
   ],
   "source": [
    "numbers=(1,2,3,4)\n",
    "mylist=list(numbers)\n",
    "type(mylist)"
   ]
  },
  {
   "cell_type": "markdown",
   "metadata": {},
   "source": [
    "<div class=arabic>\n",
    "  كما يجب ملاحظة ان كتابة صف من بيان واحد لا يمكن القيام به الا بعد ان نضيف فاصلة بعد البيان سواء استخدمنا القوسين او لم نستخدمها وذلك لان مفسر بايثون سوف يعتقد ان المبرمج يريد تكوين متغير اعتيادي وليس صف كما في المثال التالي:  \n",
    "<div>"
   ]
  },
  {
   "cell_type": "code",
   "execution_count": 24,
   "metadata": {},
   "outputs": [
    {
     "name": "stdout",
     "output_type": "stream",
     "text": [
      "<class 'str'>\n",
      "<class 'int'>\n"
     ]
    }
   ],
   "source": [
    "colors=\"blue\"\n",
    "numbers=(1)\n",
    "print(type(colors))\n",
    "print(type(numbers))"
   ]
  },
  {
   "cell_type": "code",
   "execution_count": 26,
   "metadata": {},
   "outputs": [
    {
     "name": "stdout",
     "output_type": "stream",
     "text": [
      "<class 'tuple'>\n",
      "<class 'tuple'>\n"
     ]
    }
   ],
   "source": [
    "colors=\"blue\",\n",
    "numbers=(1,)\n",
    "print(type(colors))\n",
    "print(type(numbers))"
   ]
  },
  {
   "cell_type": "markdown",
   "metadata": {},
   "source": [
    "<div class=arabic>\n",
    "وللحصول على صف فارغ يمكننا ان نستخدم الطريقة التالية:\n",
    "</div>"
   ]
  },
  {
   "cell_type": "code",
   "execution_count": null,
   "metadata": {},
   "outputs": [],
   "source": [
    "houses=()"
   ]
  },
  {
   "cell_type": "markdown",
   "metadata": {},
   "source": [
    "<div class=arabic>\n",
    "وكما هو الحال في القوائم فان البيانات في الصفوف يتم الحصول عليها بتحديد مؤشر البيان داخل قوسين مربعين بعد اسم متغير الصف كما في المثال التالي:\n",
    "</div>"
   ]
  },
  {
   "cell_type": "code",
   "execution_count": null,
   "metadata": {},
   "outputs": [],
   "source": [
    "fruits=(\"banana\",\"orange\",\"apple\")\n",
    "fruits[0]"
   ]
  },
  {
   "cell_type": "code",
   "execution_count": null,
   "metadata": {},
   "outputs": [],
   "source": [
    "fruits[2]"
   ]
  },
  {
   "cell_type": "markdown",
   "metadata": {},
   "source": [
    "<div class=arabic>\n",
    "وكذلك عملية تجزئة الصفوف تتم بنفس الطريقة التي تعلمناها في تجزئة القوائم كما في المثال التالي:\n",
    "</div>"
   ]
  },
  {
   "cell_type": "code",
   "execution_count": null,
   "metadata": {},
   "outputs": [],
   "source": [
    "colors=('red','green','blue','yellow','orange')\n",
    "colors[2:4]"
   ]
  },
  {
   "cell_type": "code",
   "execution_count": null,
   "metadata": {},
   "outputs": [],
   "source": [
    "colors[:4]"
   ]
  },
  {
   "cell_type": "code",
   "execution_count": null,
   "metadata": {},
   "outputs": [],
   "source": [
    "colors[:]"
   ]
  },
  {
   "cell_type": "markdown",
   "metadata": {},
   "source": [
    "<div class=arabic>\n",
    "وكذلك عملية الجمع والضرب بين صفين تتم بنفس الطريقة التي تعلمناها مع القوائم كما في المثال التالي:\n",
    "</div>"
   ]
  },
  {
   "cell_type": "code",
   "execution_count": null,
   "metadata": {},
   "outputs": [],
   "source": [
    "colors=('red','green','blue','yellow','orange')\n",
    "colors+(1,2,3)"
   ]
  },
  {
   "cell_type": "code",
   "execution_count": null,
   "metadata": {},
   "outputs": [],
   "source": [
    "letters=('a','b','c')\n",
    "letters*3"
   ]
  },
  {
   "cell_type": "markdown",
   "metadata": {},
   "source": [
    "<div class=arabic>\n",
    "بشكل مشابه للقوائم يمكن معرفة عدد البيانات في صف باستخدام الدالة len() كما في المثال التالي:\n",
    "</div>"
   ]
  },
  {
   "cell_type": "code",
   "execution_count": null,
   "metadata": {},
   "outputs": [],
   "source": [
    "colors=('red','green','blue','yellow','orange')\n",
    "len(colors)"
   ]
  },
  {
   "cell_type": "markdown",
   "metadata": {},
   "source": [
    "<div class=arabic>\n",
    "وللسؤال عما إذا كان بيان ما موجود في صف فإننا نتبع نفس الطريقة المستخدمة مع القوائم باستخدام in كما في المثال التالي:\n",
    "</div>"
   ]
  },
  {
   "cell_type": "code",
   "execution_count": null,
   "metadata": {},
   "outputs": [],
   "source": [
    "colors=('red','green','blue','yellow','orange')\n",
    "'blue' in colors"
   ]
  },
  {
   "cell_type": "code",
   "execution_count": null,
   "metadata": {},
   "outputs": [],
   "source": [
    "'pink' in colors"
   ]
  },
  {
   "cell_type": "markdown",
   "metadata": {},
   "source": [
    "<div class=arabic>من خلال ماسبق لاحظت ان الصفوف تشبه القوائم بشكل كبير ولكن هناك فرق جوهري بين الاثنين وهو ان البيانات في الصفوف لا يمكن تغييرها ولو حاولنا ذلك نجد ان مفسر بايثون يعطينا رسالة بوجود خطأ مفاده ان الصفوف غير قابلة للتغيير immutable كما في المثال التالي: </div>"
   ]
  },
  {
   "cell_type": "code",
   "execution_count": 19,
   "metadata": {},
   "outputs": [
    {
     "ename": "TypeError",
     "evalue": "'tuple' object does not support item assignment",
     "output_type": "error",
     "traceback": [
      "\u001b[1;31m---------------------------------------------------------------------------\u001b[0m",
      "\u001b[1;31mTypeError\u001b[0m                                 Traceback (most recent call last)",
      "\u001b[1;32m<ipython-input-19-21c8b38f8bf8>\u001b[0m in \u001b[0;36m<module>\u001b[1;34m\u001b[0m\n\u001b[0;32m      1\u001b[0m \u001b[0mfruits\u001b[0m\u001b[1;33m=\u001b[0m\u001b[1;33m(\u001b[0m\u001b[1;34m\"banana\"\u001b[0m\u001b[1;33m,\u001b[0m\u001b[1;34m\"orange\"\u001b[0m\u001b[1;33m,\u001b[0m\u001b[1;34m\"apple\"\u001b[0m\u001b[1;33m)\u001b[0m\u001b[1;33m\u001b[0m\u001b[1;33m\u001b[0m\u001b[0m\n\u001b[1;32m----> 2\u001b[1;33m \u001b[0mfruits\u001b[0m\u001b[1;33m[\u001b[0m\u001b[1;36m0\u001b[0m\u001b[1;33m]\u001b[0m\u001b[1;33m=\u001b[0m\u001b[1;34m\"grapes\"\u001b[0m\u001b[1;33m\u001b[0m\u001b[1;33m\u001b[0m\u001b[0m\n\u001b[0m",
      "\u001b[1;31mTypeError\u001b[0m: 'tuple' object does not support item assignment"
     ]
    }
   ],
   "source": [
    "fruits=(\"banana\",\"orange\",\"apple\")\n",
    "fruits[0]=\"grapes\""
   ]
  },
  {
   "cell_type": "markdown",
   "metadata": {},
   "source": [
    "<div class=arabic>\n",
    "يتم التعامل مع فك الصفوف الى متغيرات بنفس الطريقة التى تعلمناها فيما يخص القوائم كما في الامثلة التالية:\n",
    "</div>"
   ]
  },
  {
   "cell_type": "code",
   "execution_count": 40,
   "metadata": {},
   "outputs": [
    {
     "name": "stdout",
     "output_type": "stream",
     "text": [
      "1\n",
      "[2, 3, 4]\n"
     ]
    }
   ],
   "source": [
    "numbers=(1,2,3,4)\n",
    "a,*b=numbers\n",
    "print(a)\n",
    "print(b)"
   ]
  },
  {
   "cell_type": "code",
   "execution_count": 41,
   "metadata": {},
   "outputs": [
    {
     "name": "stdout",
     "output_type": "stream",
     "text": [
      "1\n",
      "2\n",
      "[]\n"
     ]
    }
   ],
   "source": [
    "numbers=(1,2)\n",
    "a,b,*c=numbers\n",
    "print(a)\n",
    "print(b)\n",
    "print(c)"
   ]
  },
  {
   "cell_type": "code",
   "execution_count": 42,
   "metadata": {},
   "outputs": [
    {
     "name": "stdout",
     "output_type": "stream",
     "text": [
      "1\n",
      "[2, 3, 4, 5]\n",
      "6\n"
     ]
    }
   ],
   "source": [
    "numbers=(1,2,3,4,5,6)\n",
    "a,*b,c=numbers\n",
    "print(a)\n",
    "print(b)\n",
    "print(c)"
   ]
  },
  {
   "cell_type": "markdown",
   "metadata": {},
   "source": [
    "<div class=arabic><h2 class=title>أنشطة استكشافية</h2></div>"
   ]
  },
  {
   "cell_type": "markdown",
   "metadata": {},
   "source": [
    "<div class=arabic>\n",
    "١-حاول ان تستخدم احد الدوال التي استخدمناها مع القوائم لاحداث تغيير على صف كاستخدام الدالة ()remove او ()append مثلا ماذا تلاحظ ولماذا؟\n",
    "</div>"
   ]
  },
  {
   "cell_type": "code",
   "execution_count": null,
   "metadata": {},
   "outputs": [],
   "source": []
  },
  {
   "cell_type": "markdown",
   "metadata": {},
   "source": [
    "<div class=arabic>\n",
    "٢-حاول ان تستخدم الدوال التي لا تحدث تعديلا على بيانات الصف كالدالة ()count و الدالة ()index ماذا تلاحظ؟\n",
    "</div>"
   ]
  },
  {
   "cell_type": "code",
   "execution_count": null,
   "metadata": {},
   "outputs": [],
   "source": []
  },
  {
   "cell_type": "markdown",
   "metadata": {},
   "source": [
    "<div class=arabic>\n",
    "٣-جرب استخدام الامر del على صف ماذا تلاحظ؟\n",
    "</div>"
   ]
  },
  {
   "cell_type": "code",
   "execution_count": null,
   "metadata": {},
   "outputs": [],
   "source": []
  },
  {
   "cell_type": "markdown",
   "metadata": {},
   "source": [
    "<div class=arabic>\n",
    "٤-جرب استخدام الامر ()dir واضعا بين قوسيه اسما لصف و تعرف على الدوال التي يمكن استخدامها مع الصف؟ \n",
    "</div>"
   ]
  },
  {
   "cell_type": "markdown",
   "metadata": {},
   "source": [
    "<div class=arabic><h2 class=title>القواميس(dictionaries)</h2></div>"
   ]
  },
  {
   "cell_type": "markdown",
   "metadata": {},
   "source": [
    "<div class=arabic>\n",
    "القواميس عبارة عن مجموعة من البيانات توضع بين قوسين متعرجين ويفصل بين كل بيان واخر بفاصلة بحيث يتكون كل بيان من جزأين. الجزء الاول يسمى المفتاح (key) والجزء الاخر يسمى القيمة (value) ويفصل بين المفتاح والقيمة بنقطتين فوق بعض كما في المثال التالي:\n",
    "</div>"
   ]
  },
  {
   "cell_type": "code",
   "execution_count": null,
   "metadata": {},
   "outputs": [],
   "source": [
    "info={'name':'Hassan','Age':22,'Job':'student'}"
   ]
  },
  {
   "cell_type": "markdown",
   "metadata": {},
   "source": [
    "<div class=arabic>\n",
    "المفتاح في القاموس يجب ان يكون مميزا عن غيره من المفاتيح وإذا حاولنا كتابة قاموس يحتوي على مفتاحين متشابهين فان القيمة الاولى سوف يتم حذفها وتبقى القيمة الأخيرة داخل القاموس كما في المثال التالي:\n",
    "</div>"
   ]
  },
  {
   "cell_type": "code",
   "execution_count": null,
   "metadata": {},
   "outputs": [],
   "source": [
    "info={'name':'Ali','Age':22,'Job':'student','name':'Waleed'}\n",
    "info"
   ]
  },
  {
   "cell_type": "markdown",
   "metadata": {},
   "source": [
    "<div class=arabic>\n",
    "اما قيم القاموس فيمكن ان تتشابه ولا يعترض مفسر بايثون على تشابه القيم طالما المفاتيح مختلفة كما في المثال التالي:    \n",
    "</div>"
   ]
  },
  {
   "cell_type": "code",
   "execution_count": null,
   "metadata": {},
   "outputs": [],
   "source": [
    "example={1:'odd',2:'even',3:'odd'}\n",
    "example"
   ]
  },
  {
   "cell_type": "markdown",
   "metadata": {},
   "source": [
    "<div class=arabic>\n",
    "مفاتيح القاموس يجب ان تكون بيانات غير قابلة للتغير فيمكن ان تكون نصا او رقما او صفا ولكن لا يمكن ان تكون قائمة كما في المثال التالي:\n",
    "</div>"
   ]
  },
  {
   "cell_type": "code",
   "execution_count": 43,
   "metadata": {},
   "outputs": [
    {
     "data": {
      "text/plain": [
       "{23: 'number', 'Hello': 'string', (1, 2, 3): 'tuples'}"
      ]
     },
     "execution_count": 43,
     "metadata": {},
     "output_type": "execute_result"
    }
   ],
   "source": [
    "keys_types={23:'number','Hello':'string',(1,2,3):'tuples'}\n",
    "keys_types"
   ]
  },
  {
   "cell_type": "code",
   "execution_count": 44,
   "metadata": {},
   "outputs": [
    {
     "ename": "TypeError",
     "evalue": "unhashable type: 'list'",
     "output_type": "error",
     "traceback": [
      "\u001b[1;31m---------------------------------------------------------------------------\u001b[0m",
      "\u001b[1;31mTypeError\u001b[0m                                 Traceback (most recent call last)",
      "\u001b[1;32m<ipython-input-44-db53f0ebaa33>\u001b[0m in \u001b[0;36m<module>\u001b[1;34m\u001b[0m\n\u001b[1;32m----> 1\u001b[1;33m \u001b[0mlist_dict\u001b[0m\u001b[1;33m=\u001b[0m\u001b[1;33m{\u001b[0m\u001b[1;33m[\u001b[0m\u001b[1;36m1\u001b[0m\u001b[1;33m,\u001b[0m\u001b[1;36m2\u001b[0m\u001b[1;33m]\u001b[0m\u001b[1;33m:\u001b[0m\u001b[1;34m'list'\u001b[0m\u001b[1;33m}\u001b[0m\u001b[1;33m\u001b[0m\u001b[1;33m\u001b[0m\u001b[0m\n\u001b[0m",
      "\u001b[1;31mTypeError\u001b[0m: unhashable type: 'list'"
     ]
    }
   ],
   "source": [
    "list_dict={[1,2]:'list'}"
   ]
  },
  {
   "cell_type": "markdown",
   "metadata": {},
   "source": [
    "<div class=arabic>\n",
    "لاحظ انه عندما استخدمنا القائمة كمفتاح في القاموس اظهر لنا مفسر بايثون رسالة بوجود خطأ من النوع TypeError والذي يفيد بوجود خطأ في نوعية البيانات المستخدمة.\n",
    "ويمكن كتابة قاموس فارغ بإحدى الطريقتين التاليتين:\n",
    "\n",
    "</div>"
   ]
  },
  {
   "cell_type": "code",
   "execution_count": null,
   "metadata": {},
   "outputs": [],
   "source": [
    "info={}"
   ]
  },
  {
   "cell_type": "code",
   "execution_count": null,
   "metadata": {},
   "outputs": [],
   "source": [
    "info2=dict()"
   ]
  },
  {
   "cell_type": "markdown",
   "metadata": {},
   "source": [
    "<div class=arabic>\n",
    "ويمكن الحصول على قيمة لمفتاح ما في قاموس باستخدام قوسين مربعين توضع بعد اسم القاموس ويكتب داخلها اسم المفتاح كما في المثال التالي:\n",
    "</div>"
   ]
  },
  {
   "cell_type": "code",
   "execution_count": null,
   "metadata": {},
   "outputs": [],
   "source": [
    "info={'name':'Ahmad','Age':22,'Job':'student'}\n",
    "info['Age']"
   ]
  },
  {
   "cell_type": "code",
   "execution_count": null,
   "metadata": {},
   "outputs": [],
   "source": [
    "info[\"name\"]"
   ]
  },
  {
   "cell_type": "markdown",
   "metadata": {},
   "source": [
    "<div class=arabic>\n",
    "وعند استخدام التركيب اللغوي السابق للحصول على قيمة مفتاح غير موجود في القاموس فان محرر بايثون يعطينا رسالة بوجود خطأ من النوع KeyError كما في المثال التالي:\n",
    "</div>"
   ]
  },
  {
   "cell_type": "code",
   "execution_count": null,
   "metadata": {},
   "outputs": [],
   "source": [
    "info={'name':'Ahmad','Age':22,'Job':'student'}\n",
    "info['birth_date']"
   ]
  },
  {
   "cell_type": "markdown",
   "metadata": {},
   "source": [
    "<div class=arabic>\n",
    "ويمكن استخدام الدالة ()get للحصول على قيمة مفتاح في قاموس كما في المثال التالي:\n",
    "</div>"
   ]
  },
  {
   "cell_type": "code",
   "execution_count": null,
   "metadata": {},
   "outputs": [],
   "source": [
    "info={'name':'Ahmad','Age':22,'Job':'student'}\n",
    "info.get('name')"
   ]
  },
  {
   "cell_type": "markdown",
   "metadata": {},
   "source": [
    "<div class=arabic>\n",
    "الفرق بين استخدام القوسين المربعين واستخدام الدالة ()get في الحصول على قيمة مفتاح في قاموس هو ان الدالة ()get لا تعطينا رسالة بوجود خطأ عندما يكون المفتاح غير موجود في القاموس كما في المثال التالي:\n",
    "</div>"
   ]
  },
  {
   "cell_type": "code",
   "execution_count": null,
   "metadata": {},
   "outputs": [],
   "source": [
    "info={'name':'Ahmad','Age':22,'Job':'student'}\n",
    "info.get('birth_date')"
   ]
  },
  {
   "cell_type": "markdown",
   "metadata": {},
   "source": [
    "<div class=arabic>\n",
    "القواميس مثل القوائم يمكن تعديل البيانات الموجودة بداخلها فمثلا إذا أردنا تعديل قيمة المفتاح “Age” في القاموس السابق فإننا نقوم بالآتي:\n",
    "</div>"
   ]
  },
  {
   "cell_type": "code",
   "execution_count": null,
   "metadata": {},
   "outputs": [],
   "source": [
    "info={'name':'Ahmad','Age':22,'Job':'student'}\n",
    "info['Age']=40\n",
    "info\n"
   ]
  },
  {
   "cell_type": "markdown",
   "metadata": {},
   "source": [
    "<div class=arabic>\n",
    "كما يمكن إضافة بيانات جديدة الى قاموس بالطريقة التالية:\n",
    "</div>"
   ]
  },
  {
   "cell_type": "code",
   "execution_count": null,
   "metadata": {},
   "outputs": [],
   "source": [
    "info={'name':'Ahmad','Age':22,'Job':'student'}\n",
    "info['car']='Ford'\n",
    "info"
   ]
  },
  {
   "cell_type": "markdown",
   "metadata": {},
   "source": [
    "<div class=arabic>\n",
    "لمعرفة عدد البيانات في قاموس فاننا نستخدم الدالة ()len كما فعلنا في القوائم والصفوف:\n",
    "</div>"
   ]
  },
  {
   "cell_type": "code",
   "execution_count": null,
   "metadata": {},
   "outputs": [],
   "source": [
    "info={'name':'Ahmad','Age':22,'Job':'student'}\n",
    "len(info)"
   ]
  },
  {
   "cell_type": "markdown",
   "metadata": {},
   "source": [
    "<div class=arabic>ولمعرفة ما اذا كان هناك بيان ما موجود في قاموس فاننا نستخدم in كما تعلمنا سابقا في القوائم والصفوف:</div>"
   ]
  },
  {
   "cell_type": "code",
   "execution_count": null,
   "metadata": {},
   "outputs": [],
   "source": [
    "info={'name':'Ahmad','Age':22,'Job':'student'}\n",
    "'Age' in info"
   ]
  },
  {
   "cell_type": "code",
   "execution_count": null,
   "metadata": {},
   "outputs": [],
   "source": [
    "'car' in info"
   ]
  },
  {
   "cell_type": "markdown",
   "metadata": {},
   "source": [
    "<div class=arabic>\n",
    "لحذف بيان من قاموس فإننا نستخدم الامر del كما فعلنا في القوائم:\n",
    "</div>"
   ]
  },
  {
   "cell_type": "code",
   "execution_count": null,
   "metadata": {},
   "outputs": [],
   "source": [
    "info={'name':'Ahmad','Age':22,'Job':'student'}\n",
    "del info['Job']"
   ]
  },
  {
   "cell_type": "markdown",
   "metadata": {},
   "source": [
    "<div class=arabic>\n",
    "كما يمكن استخدام الدالة ()pop لاداء نفس المهمة مع امكانية ارجاع قيمة المفتاح المحذوف واضافته لمتغير لاستخدامه في عمليات اخرى كما في المثال التالي:\n",
    "</div>"
   ]
  },
  {
   "cell_type": "code",
   "execution_count": 51,
   "metadata": {},
   "outputs": [
    {
     "name": "stdout",
     "output_type": "stream",
     "text": [
      "{'Age': 22, 'Job': 'student'}\n"
     ]
    }
   ],
   "source": [
    "info={'name':'Ahmad','Age':22,'Job':'student'}\n",
    "removed_item=info.pop(\"name\")\n",
    "print(info)"
   ]
  },
  {
   "cell_type": "code",
   "execution_count": 52,
   "metadata": {},
   "outputs": [
    {
     "data": {
      "text/plain": [
       "'Ahmad'"
      ]
     },
     "execution_count": 52,
     "metadata": {},
     "output_type": "execute_result"
    }
   ],
   "source": [
    "removed_item"
   ]
  },
  {
   "cell_type": "markdown",
   "metadata": {},
   "source": [
    "<div class=arabic>\n",
    "    كما يمكن استخدام الدالة ()popitem لحذف اخر بيان تم اضافته للقاموس مع امكانية ارجاع المفتاح المحذوف وقيمته لاستخدامهما في عمليات اخرى كما في المثال التالي:\n",
    "</div>"
   ]
  },
  {
   "cell_type": "code",
   "execution_count": 54,
   "metadata": {},
   "outputs": [
    {
     "name": "stdout",
     "output_type": "stream",
     "text": [
      "{'name': 'Ahmad', 'Age': 22}\n",
      "('Job', 'student')\n"
     ]
    }
   ],
   "source": [
    "info={'name':'Ahmad','Age':22,'Job':'student'}\n",
    "removed_item=info.popitem()\n",
    "print(info)\n",
    "print(removed_item)"
   ]
  },
  {
   "cell_type": "markdown",
   "metadata": {},
   "source": [
    "<div class=arabic>\n",
    "ولتفريغ القاموس من البيانات بالكامل نستخدم الدالة ()clear كما في المثال التالي:\n",
    "</div>"
   ]
  },
  {
   "cell_type": "code",
   "execution_count": null,
   "metadata": {},
   "outputs": [],
   "source": [
    "info={'name':'Ahmad','Age':22}\n",
    "info.clear()\n",
    "info"
   ]
  },
  {
   "cell_type": "markdown",
   "metadata": {},
   "source": [
    "<div class=arabic>\n",
    "ولمعرفة كافة المفاتيح في قاموس ما نستخدم الدالة ()keys كما في المثال التالي:\n",
    "</div>"
   ]
  },
  {
   "cell_type": "code",
   "execution_count": null,
   "metadata": {},
   "outputs": [],
   "source": [
    "info={'name': 'Ahmad', 'Age': 22, 'Job': 'student'}\n",
    "info.keys()"
   ]
  },
  {
   "cell_type": "markdown",
   "metadata": {},
   "source": [
    "<div class=arabic>\n",
    "ولمعرفة كافة القيم في القاموس نستخدم الدالة ()values كما في المثال التالي:\n",
    "</div>"
   ]
  },
  {
   "cell_type": "code",
   "execution_count": null,
   "metadata": {},
   "outputs": [],
   "source": [
    "info={'name': 'Ahmad', 'Age': 22, 'Job': 'student'}\n",
    "info.values()"
   ]
  },
  {
   "cell_type": "markdown",
   "metadata": {},
   "source": [
    "<div class=arabic>\n",
    "ولدمج بيانات قاموسين نستخدم الدالة ()update كما في المثال التالي:\n",
    "</div>"
   ]
  },
  {
   "cell_type": "code",
   "execution_count": null,
   "metadata": {},
   "outputs": [],
   "source": [
    "info={'name': 'Ahmad', 'Age': 22, 'Job': 'student'}\n",
    "info2={'title':'Mr','phone':'00000'}\n",
    "info.update(info2)\n",
    "info "
   ]
  },
  {
   "cell_type": "markdown",
   "metadata": {},
   "source": [
    "<div class=arabic>\n",
    "لاحظ ان القاموس الذي يسبق الدالة هو القاموس الأساسي والقاموس الذي بداخل قوسي الدالة هو القاموس الذي تم دمج البيانات منه. يجب ملاحظ ان بالإمكان وضع قاموس فرعي داخل قاموس رئيسي كما يلي:\n",
    "</div>"
   ]
  },
  {
   "cell_type": "code",
   "execution_count": null,
   "metadata": {},
   "outputs": [],
   "source": [
    "info={'name': 'Ahmad', 'Age': 22, 'Job': 'student'}\n",
    "info2={'title':'Mr','phone':'00000'}\n",
    "info['more_data']=info2\n",
    "info"
   ]
  },
  {
   "cell_type": "markdown",
   "metadata": {},
   "source": [
    "<div class=arabic>\n",
    "في المثال السابق تم إضافة القاموس الفرعي باستخدام مفتاح جديد اسميناه more_data كما تعلمنا سابقا عن كيفية إضافة بيان جديد الى قاموس.\n",
    "</div>"
   ]
  },
  {
   "cell_type": "markdown",
   "metadata": {},
   "source": [
    "<div class=arabic>\n",
    "ويمكن استخدام الدالة ()items لعرض جميع البيانات في قاموس كقائمة كل بيان يظهر كصف مكون من مفتاح وقيمة كما في المثال التالي:\n",
    "</div>"
   ]
  },
  {
   "cell_type": "code",
   "execution_count": 45,
   "metadata": {},
   "outputs": [
    {
     "data": {
      "text/plain": [
       "dict_items([('name', 'Ahmad'), ('Age', 22), ('Job', 'student')])"
      ]
     },
     "execution_count": 45,
     "metadata": {},
     "output_type": "execute_result"
    }
   ],
   "source": [
    "info={'name': 'Ahmad', 'Age': 22, 'Job': 'student'}\n",
    "info.items()"
   ]
  },
  {
   "cell_type": "markdown",
   "metadata": {},
   "source": [
    "<div class=arabic>\n",
    "كل ما ينطبق على القوائم من عمليات النسخ يمكن تطبيقة على القواميس كما في المثالين التاليين:\n",
    "</div>"
   ]
  },
  {
   "cell_type": "code",
   "execution_count": 46,
   "metadata": {},
   "outputs": [
    {
     "name": "stdout",
     "output_type": "stream",
     "text": [
      "{'name': 'Ford', 'model': 2015, 'color': 'white', 'milage': 100000}\n",
      "{'name': 'Ford', 'model': 2015, 'color': 'white', 'milage': 100000}\n"
     ]
    }
   ],
   "source": [
    "cars={\"name\":\"Ford\", \"model\":2015, \"color\":\"white\"}\n",
    "cars2=cars\n",
    "cars2[\"milage\"]=100000\n",
    "print(cars)\n",
    "print(cars2)"
   ]
  },
  {
   "cell_type": "code",
   "execution_count": 47,
   "metadata": {},
   "outputs": [
    {
     "name": "stdout",
     "output_type": "stream",
     "text": [
      "{'name': 'Ford', 'model': 2015, 'color': 'white'}\n",
      "{'name': 'Ford', 'model': 2015, 'color': 'white', 'milage': 100000}\n"
     ]
    }
   ],
   "source": [
    "cars={\"name\":\"Ford\", \"model\":2015, \"color\":\"white\"}\n",
    "cars2=cars.copy()\n",
    "cars2[\"milage\"]=100000\n",
    "print(cars)\n",
    "print(cars2)"
   ]
  },
  {
   "cell_type": "code",
   "execution_count": 49,
   "metadata": {},
   "outputs": [
    {
     "name": "stdout",
     "output_type": "stream",
     "text": [
      "{'name': 'Ford', 'model': 2015, 'color': 'white'}\n",
      "{'name': 'Ford', 'model': 2015, 'color': 'white', 'milage': 100000}\n"
     ]
    }
   ],
   "source": [
    "cars={\"name\":\"Ford\", \"model\":2015, \"color\":\"white\"}\n",
    "cars2=dict(cars)\n",
    "cars2[\"milage\"]=100000\n",
    "print(cars)\n",
    "print(cars2)"
   ]
  },
  {
   "cell_type": "markdown",
   "metadata": {},
   "source": [
    "<div class=arabic><h2 class=title>تمارين استكشافية</h2></div>"
   ]
  },
  {
   "cell_type": "markdown",
   "metadata": {},
   "source": [
    "<div class=arabic>\n",
    "١- استكشف ماذا كان عمليات الضرب والجمع التي قمنا بها مع القوائم يمكن استخدامها مع القواميس؟\n",
    "</div>"
   ]
  },
  {
   "cell_type": "code",
   "execution_count": null,
   "metadata": {},
   "outputs": [],
   "source": []
  },
  {
   "cell_type": "markdown",
   "metadata": {},
   "source": [
    "<div class=arabic>\n",
    "٢-جرب استخدام الامر ()dir واضعا بين قوسيه اسما لقاموس و تعرف على الدوال التي يمكن استخدامها مع القاموس؟ \n",
    "</div>"
   ]
  },
  {
   "cell_type": "code",
   "execution_count": null,
   "metadata": {},
   "outputs": [],
   "source": []
  },
  {
   "cell_type": "markdown",
   "metadata": {},
   "source": [
    "<div class=arabic>\n",
    "٣- استكشف الية عمل الدالة ()popitem على القاموس؟\n",
    "</div>"
   ]
  },
  {
   "cell_type": "code",
   "execution_count": null,
   "metadata": {},
   "outputs": [],
   "source": []
  },
  {
   "cell_type": "markdown",
   "metadata": {},
   "source": [
    "<div class=arabic>٤- استخدم الدالة ()help واضعاً بين قوسيها اسما لدالة تعمل عملا ما على القاموس محاولاً معرفة كيفية عمل تلك الدالة؟ تلميح: يجب كتابة اسم قاموس مفصولا بنقطة بينه وبين الدالة المراد معرفة معلومات عنها بدون كتابة قوسيها داخل قوسي الدالة ()help.</div>"
   ]
  },
  {
   "cell_type": "code",
   "execution_count": null,
   "metadata": {},
   "outputs": [],
   "source": []
  },
  {
   "cell_type": "markdown",
   "metadata": {},
   "source": [
    "<div class=arabic><h2 class=title>المجموعات (sets)</h2></div>"
   ]
  },
  {
   "cell_type": "markdown",
   "metadata": {},
   "source": [
    "<div class=arabic>\n",
    "المجموعات في لغة بايثون هي عبارة عن تجمع لبيانات غير قابلة للتكرار توضع بين قوسين متعرجين {} يفصل بين كل بيان واخر بفاصلة ويشار اليها بمتغير واحد كما في المثال التالي:\n",
    "</div>"
   ]
  },
  {
   "cell_type": "code",
   "execution_count": 55,
   "metadata": {},
   "outputs": [
    {
     "name": "stdout",
     "output_type": "stream",
     "text": [
      "{1, 2, 3, 4}\n"
     ]
    },
    {
     "data": {
      "text/plain": [
       "{1, 2, 3, 4}"
      ]
     },
     "execution_count": 55,
     "metadata": {},
     "output_type": "execute_result"
    }
   ],
   "source": [
    "numbers={1,2,3,4,1,3}\n",
    "print(numbers)\n",
    "{1, 2, 3, 4}"
   ]
  },
  {
   "cell_type": "markdown",
   "metadata": {},
   "source": [
    "<div class=arabic>\n",
    "لاحظ في المثال السابق اننا حاولنا تكوين مجموعة بيانات متكررة لكن محرر بايثون حذف البيانات المتكررة من المجموعة لان المجموعات في بايثون لا تسمح بتكرار البيانات المتشابهة. لاحظ أيضا التشابه بين المجموعات والقواميس من حيث الاقواس. الاختلاف بين القواميس والمجموعات يكمن في طريقة كتابة البيانات فالقواميس كل بيان يتكون من مفتاح وقيمة مفصولين بنقطتين فوق بعض اما المجموعات فهي بيانات اعتيادية. \n",
    "</div>"
   ]
  },
  {
   "cell_type": "markdown",
   "metadata": {},
   "source": [
    "<div class=arabic>\n",
    "ويمكن انشاء مجموعة اما بالطريقة التي استخدمناها في المثال السابق او باستخدام الدالة set() وإدخال قائمة من البيانات داخل قوسي الدالة كما في المثال التالي:\n",
    "</div>"
   ]
  },
  {
   "cell_type": "code",
   "execution_count": null,
   "metadata": {},
   "outputs": [],
   "source": [
    "letters=set(['a','b','c'])\n",
    "letters"
   ]
  },
  {
   "cell_type": "markdown",
   "metadata": {},
   "source": [
    "<div class=arabic>\n",
    "واذا اردنا ان ننشئ مجموعة فارغة فإننا لا نستطيع ان نستخدم قوسين فارغين لأن هذا التركيب اللغوي محجوز للقواميس ولكن بوسعنا ان نستخدم الدالة set() بدون ان ندخل أي شيء بين قوسيها كما في المثال التالي:\n",
    "</div>"
   ]
  },
  {
   "cell_type": "code",
   "execution_count": null,
   "metadata": {},
   "outputs": [],
   "source": [
    "numbers={}   #استخدام القوسين المتعرجين محجوز للقواميس\n",
    "type(numbers)"
   ]
  },
  {
   "cell_type": "code",
   "execution_count": null,
   "metadata": {},
   "outputs": [],
   "source": [
    "letters=set()\n",
    "letters"
   ]
  },
  {
   "cell_type": "markdown",
   "metadata": {},
   "source": [
    "<div class=arabic>\n",
    "ولإضافة بيان الي مجموعة فارغة او مجموعة محتوية على بيانات سابقة نستخدم الدالة ()add كما في المثال التالي:\n",
    "</div>"
   ]
  },
  {
   "cell_type": "code",
   "execution_count": null,
   "metadata": {},
   "outputs": [],
   "source": [
    "letters=set()\n",
    "letters.add('Ahmad')\n",
    "letters.add('Waleed')\n",
    "letters"
   ]
  },
  {
   "cell_type": "markdown",
   "metadata": {},
   "source": [
    "<div class=arabic>\n",
    "لاحظ ان ترتيب البيانات في المجموعات ليس بالضرورة ان يكون بنفس الترتيب الذي ادخلنا فيه البيانات وذلك لان المجموعات لا تستخدم مؤشر البيانات للإشارة الى البيانات بداخلها واذا حاولنا القيام بذلك فان مفسر بايثون سوف يظهر لنا رسالة تفيد بان المجموعات لا تستخدم مؤشر البيانات كما في المثال التالي:\n",
    "</div>"
   ]
  },
  {
   "cell_type": "code",
   "execution_count": null,
   "metadata": {},
   "outputs": [],
   "source": [
    "letters={'Hassan', 'Ahmad', 'Waleed'}\n",
    "letters[1]"
   ]
  },
  {
   "cell_type": "markdown",
   "metadata": {},
   "source": [
    "<div class=arabic>\n",
    "ولاضافة مجموعة الى مجموعة اخرى نستخدم الدالة ()update كما في المثال التالي:\n",
    "</div>"
   ]
  },
  {
   "cell_type": "code",
   "execution_count": 60,
   "metadata": {},
   "outputs": [
    {
     "name": "stdout",
     "output_type": "stream",
     "text": [
      "{1, 2, 3, 4, 5, 7}\n"
     ]
    }
   ],
   "source": [
    "set_A={1,2,3,4}\n",
    "set_B={1,2,5,7}\n",
    "set_A.update(set_B)\n",
    "print(set_A)"
   ]
  },
  {
   "cell_type": "markdown",
   "metadata": {},
   "source": [
    "<div class=arabic>\n",
    "لاحظ ان عملية الترتيب في المثال السابق مهمة فالدالة ()update تضيف بيانات المجموعة set_B الى بيانات المجموعة set_A اذا كانت غير موجودة مسبقا فيها.\n",
    "</div>"
   ]
  },
  {
   "cell_type": "markdown",
   "metadata": {},
   "source": [
    "<div class=arabic>\n",
    "ولحذف بيان من مجموعة هناك عدة خيارات لاداء هذه المهمة. فيمكن استخدم الدالة  ()remove كما في المثال التالي:\n",
    "</div>"
   ]
  },
  {
   "cell_type": "code",
   "execution_count": null,
   "metadata": {},
   "outputs": [],
   "source": [
    "letters={'Hassan', 'Ahmad', 'Waleed'}\n",
    "letters.remove('Ahmad')\n",
    "letters"
   ]
  },
  {
   "cell_type": "markdown",
   "metadata": {},
   "source": [
    "<div class=arabic>\n",
    "ويمكن ايضا استخدام الدالة ()discard لحذف بيان من مجموعة كما في المثال التالي:\n",
    "</div>"
   ]
  },
  {
   "cell_type": "code",
   "execution_count": null,
   "metadata": {},
   "outputs": [],
   "source": [
    "letters={2, (3, 4), 'Hassan', 'Waleed'}\n",
    "letters.discard(2)\n",
    "letters"
   ]
  },
  {
   "cell_type": "markdown",
   "metadata": {},
   "source": [
    "<div class=arabic>\n",
    "الفرق بين استخدام الدالة ()remove والدالة ()discard هو ان الدالة ()discard لا تعطينا رسالة بوجود خطأ عندما نطلب حذف بيان ليس موجود داخل مجموعة اما الدالة ()remove فسوف تظهر لنا رسالة خطأ KeyError عند عندم وجود البيان داخل المجموعة كما في المثال التالي:\n",
    "</div>"
   ]
  },
  {
   "cell_type": "code",
   "execution_count": null,
   "metadata": {},
   "outputs": [],
   "source": [
    "letters={(3, 4), 'Hassan', 'Waleed'}\n",
    "letters.discard('Ahmad')  # لم تظهر لنا أي رسالة رغم ان البيان غير موجود"
   ]
  },
  {
   "cell_type": "code",
   "execution_count": null,
   "metadata": {},
   "outputs": [],
   "source": [
    "letters.remove('Ahmad')"
   ]
  },
  {
   "cell_type": "markdown",
   "metadata": {},
   "source": [
    "<div class=arabic>\n",
    "كما يمكن أيضا استخدام الدالة ()pop لحذف بيان عشوائي من مجموعة كما في المثال التالي:\n",
    "</div>"
   ]
  },
  {
   "cell_type": "code",
   "execution_count": null,
   "metadata": {},
   "outputs": [],
   "source": [
    "letters={(3, 4), 'Hassan', 'Waleed'}\n",
    "letters.pop()"
   ]
  },
  {
   "cell_type": "markdown",
   "metadata": {},
   "source": [
    "<div class=arabic>لاحظ ان البيان الذي يتم حذفه ليس بالضرورة ان يكون في اخر المجموعة كما هو الحال في القوائم وانما يتم اختياره بشكل عشوائي كما حصل في المثال السابق حيث تم حذف بيان من وسط المجموعة وليس من اخرها.</div>"
   ]
  },
  {
   "cell_type": "markdown",
   "metadata": {},
   "source": [
    "<div class=arabic>\n",
    "كما يمكن استخدام الدالة ()clear كما فعلنا بالقوائم والصفوف لحذف جميع البيانات من مجموعة كما في المثال التالي:\n",
    "</div>"
   ]
  },
  {
   "cell_type": "code",
   "execution_count": null,
   "metadata": {},
   "outputs": [],
   "source": [
    "letters={'Hassan', 'Waleed'}\n",
    "letters.clear()\n",
    "letters"
   ]
  },
  {
   "cell_type": "markdown",
   "metadata": {},
   "source": [
    "<div class=arabic>\n",
    "ذكرنا سابقا اننا نستطيع إضافة بيان الى مجموعة وكذلك باستطاعتنا حذفه لكن ليس باستطاعتنا إعادة تعيين قيم البيانات داخل المجموعات كما كنا نفعل بالبيانات داخل القوائم. لذلك يجب ان تكون البيانات المدخلة للمجموعة غير قابلة لإعادة التعيين كالبيانات النصية والصفوف والأرقام. وإذا حاولنا إضافة بيان قابل للتغيير كالقوائم مثلا فان بايثون يظهر لنا رسالة بوجود خطأ كما في المثال التالي:\n",
    "</div>"
   ]
  },
  {
   "cell_type": "code",
   "execution_count": null,
   "metadata": {},
   "outputs": [],
   "source": [
    "letters={'Hassan', 'Waleed'}\n",
    "letters.add(2)\n",
    "letters.add((3,4))\n",
    "letters"
   ]
  },
  {
   "cell_type": "code",
   "execution_count": null,
   "metadata": {},
   "outputs": [],
   "source": [
    "letters.add([2,4,6])"
   ]
  },
  {
   "cell_type": "markdown",
   "metadata": {},
   "source": [
    "<div class=arabic>\n",
    "ويكمن التعرف على ما اذا كان هناك بيان موجود في مجموعة باستخدام الامر in كما فعلنا سابقا في القوائم والصفوف وهذا مثال عليه هنا:\n",
    "</div>"
   ]
  },
  {
   "cell_type": "code",
   "execution_count": null,
   "metadata": {},
   "outputs": [],
   "source": [
    "set_1={1,2,'a','b'}\n",
    "1 in set_1"
   ]
  },
  {
   "cell_type": "code",
   "execution_count": null,
   "metadata": {},
   "outputs": [],
   "source": [
    "3 in set_1"
   ]
  },
  {
   "cell_type": "markdown",
   "metadata": {},
   "source": [
    "<div class=arabic>\n",
    "ويمكن اجراء عملية التقاطع بين مجموعتين للحصول على جميع البيانات الموجودة في كلا المجموعتين بعد حذف التكرار باستخدام الدالة ()union كما في المثال التالي:\n",
    "</div>"
   ]
  },
  {
   "cell_type": "code",
   "execution_count": null,
   "metadata": {},
   "outputs": [],
   "source": [
    "set_1={1,2,'a','b'}\n",
    "set_2={'c','d',1,2}\n",
    "set_1.union(set_2)"
   ]
  },
  {
   "cell_type": "markdown",
   "metadata": {},
   "source": [
    "<div class=arabic>\n",
    "اما اذا اردنا ان نحصل على البيانات المتشابهة فقط فاننا نستخدم الدالة ()intersection كما في المثال التالي:\n",
    "</div>"
   ]
  },
  {
   "cell_type": "code",
   "execution_count": 65,
   "metadata": {},
   "outputs": [
    {
     "data": {
      "text/plain": [
       "{1, 2}"
      ]
     },
     "execution_count": 65,
     "metadata": {},
     "output_type": "execute_result"
    }
   ],
   "source": [
    "set_1={1,2,'a','b'}\n",
    "set_2={'c','d',1,2}\n",
    "set_1.intersection(set_2)"
   ]
  },
  {
   "cell_type": "markdown",
   "metadata": {},
   "source": [
    "<div class=arabic>\n",
    "وللحصول على البيانات الموجود في مجموعة شريطة ان هذا البيانات غير موجودة في مجموعة ثانية نستخدم الدالة ()difference كما في المثال التالي:\n",
    "</div>"
   ]
  },
  {
   "cell_type": "code",
   "execution_count": null,
   "metadata": {},
   "outputs": [],
   "source": [
    "set_1={1,2,'a','b'}\n",
    "set_2={'c','d',1,2}\n",
    "set_1.difference(set_2)"
   ]
  },
  {
   "cell_type": "markdown",
   "metadata": {},
   "source": [
    "<div class=arabic>\n",
    "وللحصول على جميع البيانات داخل مجموعتين بعد حذف العناصر المتشابهة نستخدم الدالة ()symmetric_difference كما في المثال التالي:\n",
    "</div>"
   ]
  },
  {
   "cell_type": "code",
   "execution_count": 66,
   "metadata": {},
   "outputs": [
    {
     "data": {
      "text/plain": [
       "{'a', 'b', 'c', 'd'}"
      ]
     },
     "execution_count": 66,
     "metadata": {},
     "output_type": "execute_result"
    }
   ],
   "source": [
    "set_1={1,2,'a','b'}\n",
    "set_2={'c','d',1,2}\n",
    "set_1.symmetric_difference(set_2)"
   ]
  },
  {
   "cell_type": "markdown",
   "metadata": {},
   "source": [
    "<div class=arabic>\n",
    "لاحظ ان جميع الدوال الاربعة السابقة تقوم بتكون مجموعة جديد لاحداث التغيير لا تغير في المجموعات الاصلية ولتأكد من ذلك يمكن ملاحظة ناتج الامثلة التالية:\n",
    "</div>"
   ]
  },
  {
   "cell_type": "code",
   "execution_count": 67,
   "metadata": {
    "scrolled": true
   },
   "outputs": [
    {
     "name": "stdout",
     "output_type": "stream",
     "text": [
      "{1, 2, 'b', 'd', 'c', 'a'}\n",
      "{1, 2, 'a', 'b'}\n",
      "{'d', 1, 'c', 2}\n"
     ]
    }
   ],
   "source": [
    "set_1={1,2,'a','b'}\n",
    "set_2={'c','d',1,2}\n",
    "result=set_1.union(set_2)\n",
    "print(result)\n",
    "print(set_1)\n",
    "print(set_2)"
   ]
  },
  {
   "cell_type": "code",
   "execution_count": 68,
   "metadata": {},
   "outputs": [
    {
     "name": "stdout",
     "output_type": "stream",
     "text": [
      "{1, 2}\n",
      "{1, 2, 'a', 'b'}\n",
      "{'d', 1, 'c', 2}\n"
     ]
    }
   ],
   "source": [
    "set_1={1,2,'a','b'}\n",
    "set_2={'c','d',1,2}\n",
    "result=set_1.intersection(set_2)\n",
    "print(result)\n",
    "print(set_1)\n",
    "print(set_2)"
   ]
  },
  {
   "cell_type": "code",
   "execution_count": 69,
   "metadata": {},
   "outputs": [
    {
     "name": "stdout",
     "output_type": "stream",
     "text": [
      "{'a', 'b'}\n",
      "{1, 2, 'a', 'b'}\n",
      "{'d', 1, 'c', 2}\n"
     ]
    }
   ],
   "source": [
    "set_1={1,2,'a','b'}\n",
    "set_2={'c','d',1,2}\n",
    "result=set_1.difference(set_2)\n",
    "print(result)\n",
    "print(set_1)\n",
    "print(set_2)"
   ]
  },
  {
   "cell_type": "code",
   "execution_count": 71,
   "metadata": {},
   "outputs": [
    {
     "name": "stdout",
     "output_type": "stream",
     "text": [
      "{'a', 'b', 'd', 'c'}\n",
      "{1, 2, 'a', 'b'}\n",
      "{'d', 1, 'c', 2}\n"
     ]
    }
   ],
   "source": [
    "set_1={1,2,'a','b'}\n",
    "set_2={'c','d',1,2}\n",
    "result=set_1.symmetric_difference(set_2)\n",
    "print(result)\n",
    "print(set_1)\n",
    "print(set_2)"
   ]
  },
  {
   "cell_type": "markdown",
   "metadata": {},
   "source": [
    "<div class=arabic>\n",
    "ولاحداث تغيير مباشر في المجموعة الاصلية نستخدم الدوال التالية:\n",
    "<ul><li>\n",
    "    ()intersection_update</li> \n",
    "    <li>()difference_update </li>\n",
    "    <li>()symmetric_difference_update </li>\n",
    "    بدلا من الدوال السابقة للقيام بهذه المهمة كما في الامثلة التالية:\n",
    "</div>"
   ]
  },
  {
   "cell_type": "code",
   "execution_count": 74,
   "metadata": {},
   "outputs": [
    {
     "name": "stdout",
     "output_type": "stream",
     "text": [
      "{1, 2}\n",
      "{'d', 1, 'c', 2}\n"
     ]
    }
   ],
   "source": [
    "set_1={1,2,'a','b'}\n",
    "set_2={'c','d',1,2}\n",
    "set_1.intersection_update(set_2)\n",
    "print(set_1)\n",
    "print(set_2)"
   ]
  },
  {
   "cell_type": "code",
   "execution_count": 76,
   "metadata": {},
   "outputs": [
    {
     "name": "stdout",
     "output_type": "stream",
     "text": [
      "{'a', 'b'}\n",
      "{'d', 1, 'c', 2}\n"
     ]
    }
   ],
   "source": [
    "set_1={1,2,'a','b'}\n",
    "set_2={'c','d',1,2}\n",
    "result=set_1.difference_update(set_2)\n",
    "print(set_1)\n",
    "print(set_2)"
   ]
  },
  {
   "cell_type": "code",
   "execution_count": null,
   "metadata": {},
   "outputs": [],
   "source": [
    "set_1={1,2,'a','b'}\n",
    "set_2={'c','d',1,2}\n",
    "result=set_1.symmetric_difference_update(set_2)\n",
    "print(set_1)\n",
    "print(set_2)"
   ]
  },
  {
   "cell_type": "markdown",
   "metadata": {},
   "source": [
    "<div class=arabic>\n",
    "كما يمكن استخدام الدالة ()issubset للسؤال عن ما اذا كانت مجموعة ما هي مجموعة جزئية من مجموعة أخرى كما في المثال التالي:\n",
    "</div>"
   ]
  },
  {
   "cell_type": "code",
   "execution_count": 84,
   "metadata": {},
   "outputs": [
    {
     "data": {
      "text/plain": [
       "True"
      ]
     },
     "execution_count": 84,
     "metadata": {},
     "output_type": "execute_result"
    }
   ],
   "source": [
    "set_1={1,2,'a','b'}\n",
    "set_2={1, 'd', 2, 'c'}\n",
    "set_3={'a','b'}\n",
    "set_3.issubset(set_1)"
   ]
  },
  {
   "cell_type": "code",
   "execution_count": null,
   "metadata": {},
   "outputs": [],
   "source": [
    "set_2.issubset(set_1)"
   ]
  },
  {
   "cell_type": "markdown",
   "metadata": {},
   "source": [
    "<div class=arabic>\n",
    "كما يمكن استخدام الدالة ()issuperset للسؤال عن ما اذا كانت مجموعة ما هي مجموعة مشتملة على جميع بيانات مجموعة أخرى كما في المثال التالي:\n",
    "</div>"
   ]
  },
  {
   "cell_type": "code",
   "execution_count": 85,
   "metadata": {},
   "outputs": [
    {
     "data": {
      "text/plain": [
       "True"
      ]
     },
     "execution_count": 85,
     "metadata": {},
     "output_type": "execute_result"
    }
   ],
   "source": [
    "set_1={1,2,'a','b'}\n",
    "set_2={1, 'd', 2, 'c'}\n",
    "set_3={'a','b'}\n",
    "set_1.issuperset(set_3)"
   ]
  },
  {
   "cell_type": "code",
   "execution_count": 86,
   "metadata": {},
   "outputs": [
    {
     "data": {
      "text/plain": [
       "False"
      ]
     },
     "execution_count": 86,
     "metadata": {},
     "output_type": "execute_result"
    }
   ],
   "source": [
    "set_2.issuperset(set_1)"
   ]
  },
  {
   "cell_type": "markdown",
   "metadata": {},
   "source": [
    "<div class=arabic>\n",
    "كما يمكن استخدام الدالة ()isdisjoint للسؤال عن ما اذا كانت مجموعة ما منفصلة عن مجموعة أخرى كما في المثال التالي:\n",
    "</div>"
   ]
  },
  {
   "cell_type": "code",
   "execution_count": 87,
   "metadata": {},
   "outputs": [
    {
     "data": {
      "text/plain": [
       "True"
      ]
     },
     "execution_count": 87,
     "metadata": {},
     "output_type": "execute_result"
    }
   ],
   "source": [
    "set_1={1,2,'a','b'}\n",
    "set_2={1, 'd', 2, 'c'}\n",
    "set_3={'c','d'}\n",
    "set_1.isdisjoint(set_3)"
   ]
  },
  {
   "cell_type": "code",
   "execution_count": 83,
   "metadata": {},
   "outputs": [
    {
     "data": {
      "text/plain": [
       "False"
      ]
     },
     "execution_count": 83,
     "metadata": {},
     "output_type": "execute_result"
    }
   ],
   "source": [
    "set_1.isdisjoint(set_2)"
   ]
  },
  {
   "cell_type": "markdown",
   "metadata": {},
   "source": [
    "<div class=arabic>\n",
    "كل ما ينطبق على القوائم من عمليات النسخ يمكن تطبيقه على المجموعات.\n",
    "</div>"
   ]
  },
  {
   "cell_type": "code",
   "execution_count": 93,
   "metadata": {
    "scrolled": true
   },
   "outputs": [
    {
     "name": "stdout",
     "output_type": "stream",
     "text": [
      "{100000, 'Ford', 'white', 2015}\n",
      "{100000, 'Ford', 'white', 2015}\n"
     ]
    }
   ],
   "source": [
    "cars={\"Ford\", 2015, \"white\"}\n",
    "cars2=cars\n",
    "cars2.add(100000)\n",
    "print(cars)\n",
    "print(cars2)"
   ]
  },
  {
   "cell_type": "code",
   "execution_count": 94,
   "metadata": {},
   "outputs": [
    {
     "name": "stdout",
     "output_type": "stream",
     "text": [
      "{'Ford', 'white', 2015}\n",
      "{100000, 'Ford', 'white', 2015}\n"
     ]
    }
   ],
   "source": [
    "cars={\"Ford\", 2015, \"white\"}\n",
    "cars2=cars.copy()\n",
    "cars2.add(100000)\n",
    "print(cars)\n",
    "print(cars2)"
   ]
  },
  {
   "cell_type": "code",
   "execution_count": 95,
   "metadata": {},
   "outputs": [
    {
     "name": "stdout",
     "output_type": "stream",
     "text": [
      "{'Ford', 'white', 2015}\n",
      "{100000, 'Ford', 'white', 2015}\n"
     ]
    }
   ],
   "source": [
    "cars={\"Ford\", 2015, \"white\"}\n",
    "cars2=set(cars)\n",
    "cars2.add(100000)\n",
    "print(cars)\n",
    "print(cars2)"
   ]
  },
  {
   "cell_type": "markdown",
   "metadata": {},
   "source": [
    "<div class=arabic>\n",
    "    وهناك ما يدعى بالمجموعة المجمدة frozenset والتي لا تسمح بتغيير باجراء اي تغيير عليها. فعند محالة اضافة عنصر لهذه المجموعة المجمدة فان مفسر بايثون يعطي رسالة خطأ تفيد بعدم قابلية المجموعة المجمدة للاضافة كما في المثال التالي:\n",
    "</div>"
   ]
  },
  {
   "cell_type": "code",
   "execution_count": 90,
   "metadata": {},
   "outputs": [
    {
     "data": {
      "text/plain": [
       "frozenset"
      ]
     },
     "execution_count": 90,
     "metadata": {},
     "output_type": "execute_result"
    }
   ],
   "source": [
    "set_A=frozenset([1,2,4])\n",
    "type(set_A)"
   ]
  },
  {
   "cell_type": "code",
   "execution_count": 91,
   "metadata": {},
   "outputs": [
    {
     "ename": "AttributeError",
     "evalue": "'frozenset' object has no attribute 'add'",
     "output_type": "error",
     "traceback": [
      "\u001b[1;31m---------------------------------------------------------------------------\u001b[0m",
      "\u001b[1;31mAttributeError\u001b[0m                            Traceback (most recent call last)",
      "\u001b[1;32m<ipython-input-91-668bb058d8d1>\u001b[0m in \u001b[0;36m<module>\u001b[1;34m\u001b[0m\n\u001b[1;32m----> 1\u001b[1;33m \u001b[0mset_A\u001b[0m\u001b[1;33m.\u001b[0m\u001b[0madd\u001b[0m\u001b[1;33m(\u001b[0m\u001b[1;36m7\u001b[0m\u001b[1;33m)\u001b[0m\u001b[1;33m\u001b[0m\u001b[1;33m\u001b[0m\u001b[0m\n\u001b[0m",
      "\u001b[1;31mAttributeError\u001b[0m: 'frozenset' object has no attribute 'add'"
     ]
    }
   ],
   "source": [
    "set_A.add(7)"
   ]
  },
  {
   "cell_type": "code",
   "execution_count": 92,
   "metadata": {},
   "outputs": [
    {
     "ename": "AttributeError",
     "evalue": "'frozenset' object has no attribute 'remove'",
     "output_type": "error",
     "traceback": [
      "\u001b[1;31m---------------------------------------------------------------------------\u001b[0m",
      "\u001b[1;31mAttributeError\u001b[0m                            Traceback (most recent call last)",
      "\u001b[1;32m<ipython-input-92-fbc3763ca867>\u001b[0m in \u001b[0;36m<module>\u001b[1;34m\u001b[0m\n\u001b[1;32m----> 1\u001b[1;33m \u001b[0mset_A\u001b[0m\u001b[1;33m.\u001b[0m\u001b[0mremove\u001b[0m\u001b[1;33m(\u001b[0m\u001b[1;36m1\u001b[0m\u001b[1;33m)\u001b[0m\u001b[1;33m\u001b[0m\u001b[1;33m\u001b[0m\u001b[0m\n\u001b[0m",
      "\u001b[1;31mAttributeError\u001b[0m: 'frozenset' object has no attribute 'remove'"
     ]
    }
   ],
   "source": [
    "set_A.remove(1)"
   ]
  },
  {
   "cell_type": "markdown",
   "metadata": {},
   "source": [
    "<div class=arabic><h2 class=title>تمارين استكشافية</h2></div>"
   ]
  },
  {
   "cell_type": "markdown",
   "metadata": {},
   "source": [
    "<div class=arabic>\n",
    "١- استخدم الدالة ()pop لحذف بيان عشوائي من مجموعة فارغة؟ ماذا تلاحظ؟\n",
    "</div>"
   ]
  },
  {
   "cell_type": "code",
   "execution_count": null,
   "metadata": {},
   "outputs": [],
   "source": []
  },
  {
   "cell_type": "markdown",
   "metadata": {},
   "source": [
    "<div class=arabic>\n",
    "٢- استكشف إمكانية إضافة مجموعة الى مجموعة ؟\n",
    "</div>"
   ]
  },
  {
   "cell_type": "code",
   "execution_count": null,
   "metadata": {},
   "outputs": [],
   "source": []
  },
  {
   "cell_type": "markdown",
   "metadata": {},
   "source": [
    "<div class=arabic>\n",
    "٣- استخدم محموعتين للتعرف على الفرق بين استخدم set_1.difference(set_2) واستخدام set_2.difference(set_1) ؟\n",
    "</div>"
   ]
  },
  {
   "cell_type": "code",
   "execution_count": null,
   "metadata": {},
   "outputs": [],
   "source": []
  },
  {
   "cell_type": "markdown",
   "metadata": {},
   "source": [
    "<div class=arabic>\n",
    "٤- ١ستخدم مجموعتين للتعرف على الفرق بين استخدام الدالة ()union والدالة ()symmetric_difference؟ \n",
    "</div>"
   ]
  },
  {
   "cell_type": "code",
   "execution_count": null,
   "metadata": {},
   "outputs": [],
   "source": []
  },
  {
   "cell_type": "markdown",
   "metadata": {},
   "source": [
    "<div class=arabic>\n",
    "٥- جرب استخدام الامر ()dir واضعا بين قوسيه اسما لمجموعة و تعرف على الدوال التي يمكن استخدامها مع المجموعة؟ \n",
    "</div>"
   ]
  },
  {
   "cell_type": "code",
   "execution_count": null,
   "metadata": {},
   "outputs": [],
   "source": []
  },
  {
   "cell_type": "markdown",
   "metadata": {},
   "source": [
    "<div class=arabic><h2 class=title>البيانات النصية (String)</h2></div>"
   ]
  },
  {
   "cell_type": "markdown",
   "metadata": {},
   "source": [
    "<div class=arabic>\n",
    "تعرفنا في الفصل الثاني على بعض اساسيات البيانات النصية واجلنا جزء من هذه الأساسيات\n",
    " الى حين التعرف على مفهوم القوائم في بايثون  والذي قمنا به في بداية هذا الفصل والان سوف نكمل ما بدأناه من اساسيات البيانات النصية فنتعرف على بعض العمليات التي يمكن اجراؤها عليها وطريقة تجزئتها وتهيئتها للطباعة. \n",
    "\n",
    "</div>"
   ]
  },
  {
   "cell_type": "markdown",
   "metadata": {},
   "source": [
    "<div class=arabic>\n",
    "على الرغم من البيانات النصية هي أحد النوع البيانات الرئيسية في بايثون الا انه يمكن اعتبارها بيانات تجميعية بحيث يمكن التعامل معها بنفس الطريقة التي تعاملنا بها مع القوائم. فيمكن انشاء نص فارغ باستخدام أحد أنواع علامات التنصيص التي تعلمناها سابقا كما في المثال التالي:\n",
    "</div>"
   ]
  },
  {
   "cell_type": "code",
   "execution_count": null,
   "metadata": {},
   "outputs": [],
   "source": [
    "text=''"
   ]
  },
  {
   "cell_type": "code",
   "execution_count": null,
   "metadata": {},
   "outputs": [],
   "source": [
    "text=\"\""
   ]
  },
  {
   "cell_type": "code",
   "execution_count": null,
   "metadata": {},
   "outputs": [],
   "source": [
    "text=''''''"
   ]
  },
  {
   "cell_type": "markdown",
   "metadata": {},
   "source": [
    "<div class=arabic>\n",
    "ولمعرفة عدد سلسلة الحروف الموجودة في النص “Hello python” نقوم باستخدام الدالة ()len كما في المثال التالي:\n",
    "</div>"
   ]
  },
  {
   "cell_type": "code",
   "execution_count": null,
   "metadata": {},
   "outputs": [],
   "source": [
    "len(\"Hello python\")"
   ]
  },
  {
   "cell_type": "markdown",
   "metadata": {},
   "source": [
    "<div class=arabic>\n",
    "كما يمكن تجزئة النص بنفس الطريقة التي تعلمناها عن القوائم كما يلي:\n",
    "</div>"
   ]
  },
  {
   "cell_type": "code",
   "execution_count": null,
   "metadata": {},
   "outputs": [],
   "source": [
    "text=\"Hello python\"\n",
    "text[0]"
   ]
  },
  {
   "cell_type": "code",
   "execution_count": null,
   "metadata": {},
   "outputs": [],
   "source": [
    "text[-1]"
   ]
  },
  {
   "cell_type": "code",
   "execution_count": null,
   "metadata": {},
   "outputs": [],
   "source": [
    "text[6:8]"
   ]
  },
  {
   "cell_type": "markdown",
   "metadata": {},
   "source": [
    "<div class=arabic>\n",
    "ويمكن دمج البيانات النصية باستخدام علامة الجمع كما في المثال التالي:\n",
    "</div>"
   ]
  },
  {
   "cell_type": "code",
   "execution_count": null,
   "metadata": {},
   "outputs": [],
   "source": [
    "name=\"Ahmad\"\n",
    "txt=\"Hello\"\n",
    "space=\" \"\n",
    "txt+space+name"
   ]
  },
  {
   "cell_type": "markdown",
   "metadata": {},
   "source": [
    "<div class=arabic>\n",
    "وكذلك يمكن استخدام الدالة ()join للقيام بنفس المهمة كما في المثال التالي:\n",
    "</div>"
   ]
  },
  {
   "cell_type": "code",
   "execution_count": null,
   "metadata": {},
   "outputs": [],
   "source": [
    "name=\"Ahmad\"\n",
    "txt=\"Hello\"\n",
    "\" \".join([txt,name])"
   ]
  },
  {
   "cell_type": "markdown",
   "metadata": {},
   "source": [
    "<div class=arabic>\n",
    "لاحظ اننا في المثال السابق استخدمنا الدالة ()join مسبوقة بفراغ موجود بين علامتي التنصيص ليكون رابطاً لعناصر القائمة الموجود داخل قوسي الدالة. كما يجب ملاحظة انه يمكن استخدام أي رابط اخر نرغب فيه فمثلا لو أردنا استخدام الشرطة السفلية فإننا نكتب المثال السابق كالتالي:\n",
    "</div>"
   ]
  },
  {
   "cell_type": "code",
   "execution_count": null,
   "metadata": {},
   "outputs": [],
   "source": [
    "\"_\".join([txt,name])"
   ]
  },
  {
   "cell_type": "code",
   "execution_count": null,
   "metadata": {},
   "outputs": [],
   "source": [
    "\".\".join([txt,name])"
   ]
  },
  {
   "cell_type": "markdown",
   "metadata": {},
   "source": [
    "<div class=arabic>\n",
    "ويمكن استخدام الدالة ()count كما فلعنا مع القوائم لمعرفة عدد تكرار حرف او جزء من نص في بيان نصي كما في المثال التالي:\n",
    "</div>"
   ]
  },
  {
   "cell_type": "code",
   "execution_count": null,
   "metadata": {},
   "outputs": [],
   "source": [
    "text=\"Hello python\"\n",
    "text.count(\"l\")"
   ]
  },
  {
   "cell_type": "code",
   "execution_count": null,
   "metadata": {},
   "outputs": [],
   "source": [
    "text.count(\"p\")"
   ]
  },
  {
   "cell_type": "code",
   "execution_count": null,
   "metadata": {},
   "outputs": [],
   "source": [
    "text.count(\"P\")"
   ]
  },
  {
   "cell_type": "markdown",
   "metadata": {},
   "source": [
    "<div class=arabic>\n",
    "وكذلك يمكن استخدام الدالة ()index لمعرفة مؤشر أول ظهور لحرف او جزء من نص داخل بيان نصي كما يلي:\n",
    "</div>"
   ]
  },
  {
   "cell_type": "code",
   "execution_count": null,
   "metadata": {},
   "outputs": [],
   "source": [
    "text=\"Hello python\"\n",
    "text.index(\"H\")"
   ]
  },
  {
   "cell_type": "code",
   "execution_count": null,
   "metadata": {},
   "outputs": [],
   "source": [
    "text.index(\"n\")"
   ]
  },
  {
   "cell_type": "code",
   "execution_count": null,
   "metadata": {},
   "outputs": [],
   "source": [
    "text.index(\"py\")"
   ]
  },
  {
   "cell_type": "markdown",
   "metadata": {},
   "source": [
    "<div class=arabic><h2 class=title>تمارين استكشافية</h2></div>"
   ]
  },
  {
   "cell_type": "markdown",
   "metadata": {},
   "source": [
    "<div class=arabic>\n",
    "1- اكتب متغيرا وليكن name واجعل قيمته أي اسم تختاره وليكن “Ali” حاول ان تطبع العبارة “Hello name” باستخدام الدالة ()print؟ ماذا تلاحظ؟ هل قام بايثون باستخدام قيمة name عند اجراء عملية الطباعة؟ اذا كانت الإجابة بلا فما السبب في رأيك؟ \n",
    "</div>"
   ]
  },
  {
   "cell_type": "code",
   "execution_count": null,
   "metadata": {},
   "outputs": [],
   "source": []
  },
  {
   "cell_type": "markdown",
   "metadata": {},
   "source": [
    "<div class=arabic>\n",
    "ان وجود اسم متغير داخل علامة تنصيص لا يعتبره بايثون على انه متغير وانما يتعامل معه على انه نص كأي نص اخر. ولكي نجعل بايثون يستخدم قيمة متغير دخال علامة تنصيص فان هناك عدة حيل في بايثون تمكنا من القيام بذلك. اول هذه الحيل هي استخدام النسبة المئوية دخال النص متبوعة بنوع البيان المراد إدخاله وهو أسلوب قديم تم استيراده من لغة C كما في المثال التالي:\n",
    "</div>"
   ]
  },
  {
   "cell_type": "code",
   "execution_count": null,
   "metadata": {},
   "outputs": [],
   "source": [
    "name=\"Hassan\"\n",
    "greating = \"Hello, %s\" % name\n",
    "print(greating)"
   ]
  },
  {
   "cell_type": "markdown",
   "metadata": {},
   "source": [
    "<div class=arabic>\n",
    "لاحظ ان علامة النسبة المئوية استخدمت لتحديد مكان ادخال قيمة المتغير وحرف s استخدم للدلالة على نوع القيمة التي يحتويها المتغير والذي تم وضعه بعد النص مفصول عنه بعلامة النسبة المئوية.\n",
    "كما يمكن استخدام هذه الطريقة لإدخال قيم متغيرات رقمية كما في المثال التالي:\n",
    "\n",
    "</div>"
   ]
  },
  {
   "cell_type": "code",
   "execution_count": null,
   "metadata": {},
   "outputs": [],
   "source": [
    "speed = 120\n",
    "print(\"You exceeded the speed limit of %d km/hour\" % speed)"
   ]
  },
  {
   "cell_type": "code",
   "execution_count": null,
   "metadata": {},
   "outputs": [],
   "source": [
    "print(\"You exceeded the speed limit of %f km/hour\" % speed)"
   ]
  },
  {
   "cell_type": "code",
   "execution_count": null,
   "metadata": {},
   "outputs": [],
   "source": [
    "print(\"You exceeded the speed limit of %5.2f km/hour\" % speed)"
   ]
  },
  {
   "cell_type": "markdown",
   "metadata": {},
   "source": [
    "<div class=arabic>\n",
    "لاحظ في المثال السابق ان الحرف d يستخدم للدلالة على الاعداد الصحيحة بينما الحرف f يدل على استخدام الاعداد العشرية. كما يجب ملاحظة ان عدد الخانات الرقمية يمكن التحكم فيه بتحديد عدد الخانات الكلي وعدد الأجزاء العشرية كما موضح في المثال الأخير.\n",
    "</div>"
   ]
  },
  {
   "cell_type": "markdown",
   "metadata": {},
   "source": [
    "<div class=arabic>\n",
    "ويمكن ادخال قيم أكثر من متغير سواء كانت عدديا أو نصيا كما في المثال التالي: \n",
    "</div>"
   ]
  },
  {
   "cell_type": "code",
   "execution_count": null,
   "metadata": {},
   "outputs": [],
   "source": [
    "name=\"Ahmad\"\n",
    "speed=120\n",
    "fine=300\n",
    "print(\"Dear %s, You violated the speed limit of %d. You have to pay %5.2f Riyals\" % (name,speed,fine))"
   ]
  },
  {
   "cell_type": "markdown",
   "metadata": {},
   "source": [
    "<div class=arabic>\n",
    "لاحظ استخدامنا للصف في المثال السابق بعد علامة النسبة المئوية ولاحظ اهمية الترتيب للبيانات داخل الصف لتوظيفها بشكل مناسب داخل النص.\n",
    "</div>"
   ]
  },
  {
   "cell_type": "markdown",
   "metadata": {},
   "source": [
    "<div class=arabic>\n",
    "وهناك طريقة حديثة للقيام بنفس المهام السابقة وذلك باستخدام الدالة ()format كما في المثال التالي:\n",
    "</div>"
   ]
  },
  {
   "cell_type": "code",
   "execution_count": null,
   "metadata": {},
   "outputs": [],
   "source": [
    "name=\"Ahmad\"\n",
    "speed=120\n",
    "fine=300\n",
    "print(\"Dear {}, You violated the speed limit of {} km/hr. You have to pay {} Riyals\".format(name,speed,fine))"
   ]
  },
  {
   "cell_type": "markdown",
   "metadata": {},
   "source": [
    "<div class=arabic>\n",
    "وترتيب المتغيرات بين قوسي الدالة ()format يجب مراعاته أيضا هنا الا اذا كتبنا اسم المتغيرات بين القوسين المتعرجين او استخدمنا مؤشر ترتيب المتغير كما في المثالين التاليين:\n",
    "</div>"
   ]
  },
  {
   "cell_type": "code",
   "execution_count": null,
   "metadata": {},
   "outputs": [],
   "source": [
    "print(\"Dear {2}, You violated the speed limit of {0} km/hr. You have to pay {1} Riyals\".format(speed,fine,name))"
   ]
  },
  {
   "cell_type": "code",
   "execution_count": null,
   "metadata": {},
   "outputs": [],
   "source": [
    "print(\"Dear {name}, You violated the speed limit of {speed} km/hr.\\\n",
    "You have to pay {fine} Riyals\".format(speed=speed,fine=fine,name=name))"
   ]
  },
  {
   "cell_type": "markdown",
   "metadata": {},
   "source": [
    "<div class=arabic>\n",
    "وفي اصدارة بايثون 3.6 وما بعدها تم إضافة طريقة أخرى لتهيئة النصوص تسمى literal formatting وهي تشبه الى حد كبير استخدام الدالة ()format كما هو موضح في المثال التالي:\n",
    "</div>"
   ]
  },
  {
   "cell_type": "code",
   "execution_count": null,
   "metadata": {},
   "outputs": [],
   "source": [
    "print(f\"Dear {name}, You violated the speed limit of {speed} km/hr. You have to pay {fine} Riyals\")"
   ]
  },
  {
   "cell_type": "markdown",
   "metadata": {},
   "source": [
    "<div class=arabic>\n",
    "فكل ما تحتاجه عند استخدام هذه الطريقة هو إضافة حرف f قبل النص وكتابة أسماء المتغيرات التي تريد التعويض بقيمها داخل قوسين متعرجين فقظ.\n",
    "</div>"
   ]
  },
  {
   "cell_type": "markdown",
   "metadata": {},
   "source": [
    "<div class=arabic>\n",
    "لتجزئة نص الي بيانات نصية صغيرة داخل قائمة يمكن استخدام الدالة ()split كما في المثال التالي:\n",
    "</div>"
   ]
  },
  {
   "cell_type": "code",
   "execution_count": null,
   "metadata": {},
   "outputs": [],
   "source": [
    "text=\"one two three four five six seven\"\n",
    "text.split(\" \")"
   ]
  },
  {
   "cell_type": "code",
   "execution_count": null,
   "metadata": {},
   "outputs": [],
   "source": [
    "colors=\"yellow,green,blue,red,white,black\"\n",
    "colors.split(\",\")"
   ]
  },
  {
   "cell_type": "markdown",
   "metadata": {},
   "source": [
    "<div class=arabic>\n",
    "لاحظ اننا ستخدمنا في المثال السابق الفراغ والفاصلة لتخبر مفسر بايثون بأماكن فصل النص ووضعنا هاتين العلامتين داخل علامة تنصيص بين قوسي الدالة ()split.\n",
    "</div>"
   ]
  },
  {
   "cell_type": "markdown",
   "metadata": {},
   "source": [
    "<div class=arabic>\n",
    "ويمكن تحويل النص الى حروف كبير او صغيرة باستخدام الدالتين ()upper و ()lower على التوالي كما في المثال التالي:\n",
    "</div>"
   ]
  },
  {
   "cell_type": "code",
   "execution_count": null,
   "metadata": {},
   "outputs": [],
   "source": [
    "colors=\"yellow,green,blue,red,white,black\"\n",
    "colors.upper()"
   ]
  },
  {
   "cell_type": "code",
   "execution_count": null,
   "metadata": {},
   "outputs": [],
   "source": [
    "numbers=\"ONE TWO THREE FOUR\"\n",
    "numbers.lower()"
   ]
  },
  {
   "cell_type": "markdown",
   "metadata": {},
   "source": [
    "<div class=arabic>\n",
    "كما يمكن إزالة الفراغات الموجود في بداية النص ونهايته باستخدام الدالة ()strip كما في المثال التالي:\n",
    "</div>"
   ]
  },
  {
   "cell_type": "code",
   "execution_count": null,
   "metadata": {},
   "outputs": [],
   "source": [
    "text=\"     Hello python       \"\n",
    "text.strip()"
   ]
  },
  {
   "cell_type": "markdown",
   "metadata": {},
   "source": [
    "<div class=arabic>\n",
    "كما يمكننا أيضا استبدال حرف او جزء من نص باخر باستخدام الدالة ()replace كما في المثال التالي:\n",
    "</div>"
   ]
  },
  {
   "cell_type": "code",
   "execution_count": null,
   "metadata": {},
   "outputs": [],
   "source": [
    "text=\"Hello python\"\n",
    "text.replace('l','s')"
   ]
  },
  {
   "cell_type": "markdown",
   "metadata": {},
   "source": [
    "<div class=arabic>\n",
    "ونختم هذا الفصل بان نخبرك ان البيانات النصية تختلف عن القوائم في انها غير قابلة للتغيير immutable. بمعنى ان ما قمنا به في الأمثلة السابقة من تعديلات على النص لم يكمن بالفعل على نفس النص وانما قام مفسر بايثون بإنشاء بيان نصي جديد يحتوي على التعديلات التي قمنا بها وقام بطباعتها على الشاشة بينما البيان الأصلي لم يتغير وسف نثبت لك ذلك في المثال التالي:\n",
    "</div>"
   ]
  },
  {
   "cell_type": "code",
   "execution_count": null,
   "metadata": {},
   "outputs": [],
   "source": [
    "numbers=\"one two three four\"\n",
    "numbers.upper()"
   ]
  },
  {
   "cell_type": "code",
   "execution_count": null,
   "metadata": {},
   "outputs": [],
   "source": [
    "numbers"
   ]
  },
  {
   "cell_type": "markdown",
   "metadata": {},
   "source": [
    "<div class=arabic>\n",
    "    لاحظ انه عندما قمنا بتحويل النص numbers الى حروف كبيرة قام بايثون بانشاء متغير مؤقت وطبع النص بعد التعديل على الشاشة. ولكن عندما طلبنا من بايثون طباعة النص الأصلي فان النص مازال كما هو بحروفه الصغيرة. هذا الخاصية لا تنطبق على القوائم. فعندما نقوم بالتعديل على القوائم فان بايثون يجري عملية التعديل على القائمة الاصلية كما في المثال التالي:\n",
    "</div>"
   ]
  },
  {
   "cell_type": "code",
   "execution_count": null,
   "metadata": {},
   "outputs": [],
   "source": [
    "numbers=[\"one\",\"two\",\"three\",\"four\"]\n",
    "numbers.pop()\n",
    "numbers"
   ]
  },
  {
   "cell_type": "markdown",
   "metadata": {},
   "source": [
    "<div class=arabic>\n",
    "لاحظ انه عندما حذفنا البيان الأخير من القائمة numbers باستخدام الدالة ()pop قام بايثون بحذف البيان من القائمة الاصلية. \n",
    "</div>"
   ]
  },
  {
   "cell_type": "markdown",
   "metadata": {},
   "source": [
    "<div class=arabic><h2 class=title>\n",
    "ملخص الفصل\n",
    "</h2</div>"
   ]
  },
  {
   "cell_type": "markdown",
   "metadata": {},
   "source": []
  },
  {
   "cell_type": "markdown",
   "metadata": {},
   "source": [
    "<div class=arabic><h2 class=title>اسئلة استيعابية</h2></div>"
   ]
  },
  {
   "cell_type": "markdown",
   "metadata": {},
   "source": []
  },
  {
   "cell_type": "markdown",
   "metadata": {},
   "source": [
    "<div class=arabic>\n",
    "<hr class=horizontal>\n",
    "<center>\n",
    "<a id=\"chapter4\"></a>\n",
    "<h1 class=title>\n",
    "الفصل الرابع : اتخاذ القرارات\n",
    "</h1>\n",
    "</center>\n",
    "<hr class=horizontal>\n",
    "</div>"
   ]
  },
  {
   "cell_type": "markdown",
   "metadata": {},
   "source": [
    "<div class=arabic>\n",
    "ان من الاشياء الجميلة في لغة البرمجة ان المبرمج يستطيع ان يعطي الكمبيوتر قدرة على التفكير \"ان صح التعبير\" والتي من خلالها يستطيع الكمبيوتراتخاذ قراراته. لكن في حقيقة الامر هذه القرارات ماهي الا شروط  يفرضها المبرمج على البرنامج ليحقق مبتغاه. في هذا الفصل سوف نتحدث عن كيفية اتخاذ القرارات في بايثون باستخدام اداة الشرط if.\n",
    "<div>\n",
    "\n"
   ]
  },
  {
   "cell_type": "markdown",
   "metadata": {},
   "source": [
    "<div class=arabic>\n",
    "\n",
    "<h2 class=title>\n",
    "أهداف الفصل\n",
    "</h2>\n",
    "عند اتمام هذا الفصل يجب ان يكون لديك المام بالآتي: \n",
    "\n",
    "<ol>\n",
    "<li> \n",
    "التعرف على كيفية استخدام أداة الشرط if \n",
    "</li>\n",
    "<li>\n",
    "التعرف على كيفية استخدام else و elif مع أداة الشرط if.\n",
    "</li>\n",
    "<li>\n",
    "التعرف على طريقة كتابة أداة شرط داخل أداة شرط أخرى.\n",
    "</li>   \n",
    "</ol>\n",
    "</div>"
   ]
  },
  {
   "cell_type": "markdown",
   "metadata": {},
   "source": [
    "<div class=arabic>\n",
    "\n",
    "<h2 class=title>\n",
    "التركيب اللغوي\n",
    "</h2>\n",
    "</div>"
   ]
  },
  {
   "cell_type": "markdown",
   "metadata": {},
   "source": [
    "<div class=arabic>\n",
    "التركيب اللغوي في بايثون هنا مشابه لغيره من لغات البرمجة. فهو يهدف في المقام الاول الى التحكم في سير تنيفذ البرنامج بوضع شروط يفرضها المبرمج حين كتابته للكود البرمجي على البرنامج بحيث تكون نتائح هذه الشروط احدى قيمتين صح او خطأ. في حال الحصول على القيمة صح من عملية التحقق من الشرط يقوم مفسر بايثون بتنفيذ اوامر يحددها له المبرمج اما في حال الحصول على القيمة خطأ فان بايثون يتخطأ الاوامر التي يتطلب تنفيذها تحقق الشرط كما هو موضح في الشكل ادناه.  \n",
    "</div>"
   ]
  },
  {
   "cell_type": "markdown",
   "metadata": {},
   "source": [
    "<img src=\"img/if.png\" width=250>"
   ]
  },
  {
   "cell_type": "markdown",
   "metadata": {},
   "source": [
    "<div class=arabic>\n",
    "يبتدتئ التركيب اللغوي لأتخاذ القرارات بكلمة if متبوعا بالشرط المراد التأكد منه ومن ثم وضع نقطتين فوق بعض في نهاية السطر كما في المثال التالي:\n",
    "</div>"
   ]
  },
  {
   "cell_type": "code",
   "execution_count": null,
   "metadata": {},
   "outputs": [],
   "source": [
    "name=\"Ahmad\"\n",
    "if len(name)<10:print(name)"
   ]
  },
  {
   "cell_type": "markdown",
   "metadata": {},
   "source": [
    "<div class=arabic>\n",
    "ففي المثال السابق يتم التحقق من صحة كون عدد الاحرف الموجودة في كلمة “Ahmad” اصغر من العدد 10 . فاذا كانت العبارة صحيحة فان مفسر بايثون يقوم بتنفيذ العبارة التي تتلو النقطتين فقوق بعض. اما إذا كانت العبارة خاطئة فان مفسر بايثون يتجاهل تنفيذ العبارة التي تتلو النقطتين فوق بعض. وبما ان هذه العبارة صحيحة فانه يتم تنفيذ الكود (print(name الذي يتلو النقطتين فوق بعض.\n",
    " ان كتابة العبارة المراد تنفيذها بعد تحقق الشرط يفضل ان تكون في سطر مستقل بدلا من ان تكون في نفس السطر ولكن إذا جعلت في سطر مستقل فانه يتوجب ترك مسافة بمقدار حرف واحد على الأقل في بداية السطر الجديد (بفضل ترك مسافة بمقدار أربعة أحرف كما هو متعارف عليه بين مبرمجي بايثون) لكي يتمكن مفسر بايثون من التفرقة بين العبارة المشروطة والعبارة الاعتيادية التي قد تقع بعدها كما في المثال التالي:\n",
    "\n",
    "</div>\n",
    "\n"
   ]
  },
  {
   "cell_type": "code",
   "execution_count": null,
   "metadata": {},
   "outputs": [],
   "source": [
    "name=\"Ahmad\"\n",
    "if len(name)<10:\n",
    "    print(name)    #عبارة يتطلب تنفيذها تحقق شرط الجملة الشرطية\n",
    "x=5                #عبارة غير داخلة في الجملة الشرطية\n",
    "print(x)           #عبارة غير داخلة في الجملة الشرطية "
   ]
  },
  {
   "cell_type": "markdown",
   "metadata": {},
   "source": [
    "<div class=arabic>\n",
    "لاحظ في المثال السابقة ان ترك مسافة في العبارة المشروطة كان ضروري لتمكين مفسر بايثون من التفرقة بين العبارة الشرطية وما يليها من عبارات أخرى غير مرتبطة بالجملة الشرطية. لذلك كل العبارات التي يتطلب تنفيذها تحقق الشرط يجب ان تترك مسافة في بداية السطر وتكون هذه المسافة هي نفسها لجميع العبارات التي تتطلب تحقق الشرط. المثال التالي يوضح تنفيذ أكثر من عبارة تتطلب تحقق شرط معين:\n",
    "</div>"
   ]
  },
  {
   "cell_type": "code",
   "execution_count": null,
   "metadata": {},
   "outputs": [],
   "source": [
    "name=\"Ahmad\"\n",
    "if len(name)<10:\n",
    "    \n",
    "    print(name)         #عبارة يتطلب تنفيذها تحقق شرط الجملة الشرطية لاحظ تساوي المسافات المتروكة\n",
    "    print(len(name))    #عبارة يتطلب تنفيذها تحقق شرط الجملة الشرطية لاحظ تساوي المسافات المتروكة\n",
    "    y=0                 #عبارة يتطلب تنفيذها تحقق شرط الجملة الشرطية لاحظ تساوي المسافات المتروكة\n",
    "\n",
    "x=7                     #عبارة غير داخلة في الجملة الشرطية لاحظ بداية كتابتها من اول السطر\n",
    "print(x)                #عبارة غير داخلة في الجملة الشرطية لاحظ بداية كتابتها من اول السطر"
   ]
  },
  {
   "cell_type": "markdown",
   "metadata": {},
   "source": [
    "<div class=arabic><h2 class=title>تمارين استكشافية</h2></div>"
   ]
  },
  {
   "cell_type": "markdown",
   "metadata": {},
   "source": [
    "<div class=arabic>\n",
    "١-قم بكتابة المثال السابق واجعل واحدة من العبارات المشروطة تبتدأ بعدد مختلف من الفراغات عن العبارتين الأخريين ماذا تلاحظ؟</div>"
   ]
  },
  {
   "cell_type": "code",
   "execution_count": null,
   "metadata": {},
   "outputs": [],
   "source": []
  },
  {
   "cell_type": "markdown",
   "metadata": {},
   "source": [
    "<div class=arabic>\n",
    "٢- قم بكتابة جملة شرطية للتعرف على ما اذا كان العدد 6 موجود في القائمة [1,2,3,4] بحيث يقوم بطباعة هذا الرقم اذا كان الرقم موجود فعلا؟ ماذا تلاحظ؟\n",
    "</div>"
   ]
  },
  {
   "cell_type": "code",
   "execution_count": null,
   "metadata": {},
   "outputs": [],
   "source": []
  },
  {
   "cell_type": "markdown",
   "metadata": {},
   "source": [
    "<img src=\"img/ifelse.png\" width=300>"
   ]
  },
  {
   "cell_type": "markdown",
   "metadata": {},
   "source": [
    "<div class=arabic>\n",
    "لنرفض اننا نريد ان نقوم بعمل ما إذا تحقق شرط معين ونقوم بعمل اخر إذا لم يتحقق الشرط.  للقيام بهذه المهمة نحتاج الى استخدام else في الجملة الشرطية لتخبر بايثون بالمراد فعله في حين عدم تحقق الشرط المطلوب كما هو موضح في المثال التالي:</div>"
   ]
  },
  {
   "cell_type": "code",
   "execution_count": null,
   "metadata": {},
   "outputs": [],
   "source": [
    "name=\"Ahmad\"\n",
    "if len(name)<4:\n",
    "    print(name)\n",
    "    print(len(name))\n",
    "    y=0\n",
    "else:\n",
    "    print(\"the name is greater than 4 letters\")"
   ]
  },
  {
   "cell_type": "markdown",
   "metadata": {},
   "source": [
    "<div class=arabic>\n",
    "لاحظ ان else تخضع لجميع شروط الجملة الشرطية السابقة من حيث انها تنتهي بنقطتين ويتوجب ترك مسافة في بداية العبارات التي يتطلب تنفيذها عدم تحقق الشرط.\n",
    "</div>"
   ]
  },
  {
   "cell_type": "markdown",
   "metadata": {},
   "source": [
    "<div class=arabic><h2 class=title>تمارين استكشافية</h2></div>"
   ]
  },
  {
   "cell_type": "markdown",
   "metadata": {},
   "source": [
    "<div class=arabic>\n",
    "قم بكتابة جملة شرطية للتعرف على ما اذا كان العدد 6 موجود في القائمة [1,2,3,4] بحيث يقوم بطباعة هذا الرقم اذا كان الرقم موجود فعلا؟ واذا لم يكن موجودا اطبع عبارة تفيد ان الرقم غير موجود؟\n",
    "</div>"
   ]
  },
  {
   "cell_type": "code",
   "execution_count": null,
   "metadata": {},
   "outputs": [],
   "source": []
  },
  {
   "cell_type": "markdown",
   "metadata": {},
   "source": [
    "<div class=arabic>\n",
    "لنفرض اننا نريد ان نتحقق من توفر شرطين قبل ان نقوم بعمل ما ونقوم بعمل آخر في حال عدم توفر الشرطين. ماذا بإمكاننا ان نصنع في هذه الحالة؟ هناك حلول كثيرة فمنها مثلا ان نستخدم الجملة الشرطية if…else للتحقق من الشرط الاول والثاني باستخدام أداة الربط المنطقي and وفي حال عدم تحقق الشرطين يتم تنفيذ العبارة التي تلي else كما في المثال التالي:\n",
    "</div>"
   ]
  },
  {
   "cell_type": "code",
   "execution_count": null,
   "metadata": {},
   "outputs": [],
   "source": [
    "name=\"Ahmad\"\n",
    "if len(name)<10 and name==\"Ahmad\":\n",
    "    print(name)\n",
    "else:\n",
    "    print(\"the name is wrong or big\")"
   ]
  },
  {
   "cell_type": "markdown",
   "metadata": {},
   "source": [
    "<div class=arabic>\n",
    "كما يمكن القيام بنفس المهمة باستخدام الجملة الشرطية البسيطة if للتحقق من الشرط الاول ومن ثم التحقق من الشرطة الثاني باستخدام الجملة الشرطية if … else كما في المثال التالي:\n",
    "</div>"
   ]
  },
  {
   "cell_type": "code",
   "execution_count": null,
   "metadata": {},
   "outputs": [],
   "source": [
    "name=\"Ahmad\"\n",
    "if len(name)<10:\n",
    "    if name==\"Ahmad\":\n",
    "        print(name)\n",
    "    else:\n",
    "        print(\"the name is wrong or big\")"
   ]
  },
  {
   "cell_type": "markdown",
   "metadata": {},
   "source": [
    "<div class=arabic>\n",
    "في المثال الاخير هذا النوع من الاستخدام للأدوات الشرطية يسمى الأدوات الشرطية الفرعية. بحيث يتم استخدام أداة شرطية داخل أداة شرطية أخرى.  \n",
    "ويمكن استخدام التركيب elif للتحقق من شرط اخر في حال عدم تحقق شرط سابق كما في المثال التالي:\n",
    "\n",
    "</div>"
   ]
  },
  {
   "cell_type": "code",
   "execution_count": null,
   "metadata": {},
   "outputs": [],
   "source": [
    "name=\"Ahmad\"\n",
    "if len(name)>10:\n",
    "    print(name)\n",
    "elif name==\"Ahmad\":\n",
    "    print(name)\n",
    "else:\n",
    "    print(\"the name is wrong or big\")"
   ]
  },
  {
   "cell_type": "markdown",
   "metadata": {},
   "source": [
    "<div class=arabic>\n",
    "يجب الاشارة الى ان بايثون يعتبر القيمة صفر او القيمة النصية الفارغة او قيمة None كقيمة خاطئة في حال استخدامها مع if  كما في المثال التالي:\n",
    "</div>"
   ]
  },
  {
   "cell_type": "code",
   "execution_count": null,
   "metadata": {},
   "outputs": [],
   "source": [
    "balance=0\n",
    "if balance:\n",
    "    print(balance)\n",
    "else:\n",
    "    print(\"No money in your balance\")"
   ]
  },
  {
   "cell_type": "code",
   "execution_count": null,
   "metadata": {},
   "outputs": [],
   "source": [
    "name=\"\"\n",
    "if name:\n",
    "    print(name)\n",
    "else:\n",
    "    print(\"please enter valid name\")"
   ]
  },
  {
   "cell_type": "code",
   "execution_count": 12,
   "metadata": {},
   "outputs": [
    {
     "name": "stdout",
     "output_type": "stream",
     "text": [
      "the value is None\n"
     ]
    }
   ],
   "source": [
    "value=None\n",
    "if value:\n",
    "    print(value)\n",
    "else:\n",
    "    print(\"the value is None\")"
   ]
  },
  {
   "cell_type": "markdown",
   "metadata": {},
   "source": [
    "<div class=arabic>\n",
    "كما ان بايثون يعتبر اي قيمة عددية غير الصفر او اي بيان نصي يحتوي على حرف او اكثر قيمة صحيحة عند التعامل بها مع اداة الشرط كما في الامثلة التالية:\n",
    "</div>"
   ]
  },
  {
   "cell_type": "code",
   "execution_count": 13,
   "metadata": {},
   "outputs": [
    {
     "name": "stdout",
     "output_type": "stream",
     "text": [
      "253\n"
     ]
    }
   ],
   "source": [
    "balance=253\n",
    "if balance:\n",
    "    print(balance)\n",
    "else:\n",
    "     print(\"No money in your balance\")"
   ]
  },
  {
   "cell_type": "code",
   "execution_count": 14,
   "metadata": {},
   "outputs": [
    {
     "name": "stdout",
     "output_type": "stream",
     "text": [
      "Ayman\n"
     ]
    }
   ],
   "source": [
    "name=\"Ayman\"\n",
    "if name:\n",
    "    print(name)\n",
    "else:\n",
    "    print(\"please enter valid name\")"
   ]
  },
  {
   "cell_type": "code",
   "execution_count": 15,
   "metadata": {},
   "outputs": [
    {
     "name": "stdout",
     "output_type": "stream",
     "text": [
      "(1, 2, 3, 4)\n"
     ]
    }
   ],
   "source": [
    "value=(1,2,3,4)\n",
    "if value:\n",
    "    print(value)\n",
    "else:\n",
    "    print(\"the value is None\")"
   ]
  },
  {
   "cell_type": "markdown",
   "metadata": {},
   "source": [
    "<div class=arabic>\n",
    "<hr class=horizontal>\n",
    "<center>\n",
    "<a id=\"chapter5\"></a>\n",
    "<h1 class=title>\n",
    "الفصل الخامس : حلقات التكرار\n",
    "</h1>\n",
    "</center>\n",
    "<hr class=horizontal>\n",
    "</div>"
   ]
  },
  {
   "cell_type": "markdown",
   "metadata": {},
   "source": [
    "<div class=arabic>\n",
    "ان من اكثر بواعث الملل  ان يضطر الانسان الى اداء الاعمال ذاتها مرارا وتكرارا. وذلك لانه يرى في هذه الاعمال هدرا لوقته وجهده. فنجده قد بدأ بتحرير نفسه من قيود هذه الاعمال  باسنادها الى الات من صنعة. ومن اشهر الالات التى اعتمد عليها لاداء هذا الغرض جهاز الكمبيوتر. ونجد ان حلقات التكرار المسوؤلة عن اعداد المهام المتكررة قد اصبحت جزء رئيسي وجوهري من اجزاء معظم لغات البرمجة المشهور. وفي لغة بايثون يتم عمل المهام المتكررة بواسطة تركيبين لغويين اساسين هما حلقة for وحلقة while واللتان تعتبران المحواران الرئيسيان لهذه الفصل.  \n",
    "</div>\n",
    "\n"
   ]
  },
  {
   "cell_type": "markdown",
   "metadata": {},
   "source": [
    "<div class=arabic>\n",
    "\n",
    "<h2 class=title>\n",
    "أهداف الفصل\n",
    "</h2>\n",
    "عند اتمام هذا الفصل يجب ان يكون لديك المام بالآتي: \n",
    "\n",
    "<ol>\n",
    "<li> \n",
    "التعرف على كيفية استخدام حلقة التكرار for. \n",
    "</li>\n",
    "<li>\n",
    "التعرف على كيفية استخدام حلقة التكرار while.\n",
    "</li>\n",
    "<li>\n",
    "التعرف على مواضع التشابه والاختلاف بين مهام كل حلقة.\n",
    "</li>   \n",
    "</ol>\n",
    "</div>"
   ]
  },
  {
   "cell_type": "markdown",
   "metadata": {},
   "source": [
    "<div class=arabic>\n",
    "<h2 class=title>\n",
    " أولا: حلقة\n",
    "<font color=green>for</font>\n",
    "</h2>\n",
    "</div>"
   ]
  },
  {
   "cell_type": "markdown",
   "metadata": {},
   "source": [
    "<div class=arabic>\n",
    "تستخدم حلقة for التكرارية عندما يراد اداء مهمة ما عددأ معلوما من المرات. وافضل طريقة لتفصيل التركيب اللغوي لهذه الحلقة هي اعطاء امثله توضح طريقة عملها فالمثال التالي يقوم بطباعة احرف كلمة بايثون واحدا تلو الاخر:\n",
    "</div>\n",
    "\n"
   ]
  },
  {
   "cell_type": "code",
   "execution_count": 16,
   "metadata": {},
   "outputs": [
    {
     "name": "stdout",
     "output_type": "stream",
     "text": [
      "p\n",
      "y\n",
      "t\n",
      "h\n",
      "o\n",
      "n\n"
     ]
    }
   ],
   "source": [
    "for x in \"python\":        #  عدد مرات التكرار يحدد هنا بعدد احرف كلمة بايثون\n",
    "    print(x)              # المهمة التي يراد تكرارها تكتب هنا\n",
    "                          # لاحظ الفراغ الذي ترك في بداية السطر "
   ]
  },
  {
   "cell_type": "markdown",
   "metadata": {},
   "source": [
    "<div class=arabic>\n",
    "من المثال السابق يمكن ملاحظة الاتي :<br>\n",
    "<ol>\n",
    "<li>\n",
    "تبدأ الحلقة بكلمة for.\n",
    "</li>\n",
    "<li>\n",
    "ينتهي السطر الاول من الحلقة بنقطتين فوق بعض \":\". ويعتبر نسيان كتابة النقطتين من اشهر الاخطاء التي يقع فيها المبرمجين المبتدئين في لغة بايثون. لذلك احرص على تذكرها جيدا.\n",
    "</li>\n",
    "<li>\n",
    "لاعلام بايثون بالمهمة التي يراد تكرارها يترك فراغ في بداية السطر  بمقدار حرف واحد على الاقل  (Indentation). ومن المتعارف عليه في لغة بايثون ان يترك فراغ بمقدار 4 احرف.\n",
    "</li>\n",
    "<li>\n",
    "يمكن كتابة المعنى الحرفي للتركيب اللغوي السابق كالاتي: \"لكل حرف يرمز اليها بالمتغير x موجودة في البيان النصي \"python\" قم بطباعة قيمة x على الشاشة.    \n",
    "</li>\n",
    "<li>\n",
    "اسم المتغير هنا اختياري فيمكننا ان نستبدله باي متغير نحب فيمكننا مثلا ان نسميه letter فنحصل على نفس النتيجة كما في المثال التالي:\n",
    "</li>\n",
    "</ol>\n",
    "</div>"
   ]
  },
  {
   "cell_type": "code",
   "execution_count": 17,
   "metadata": {},
   "outputs": [
    {
     "name": "stdout",
     "output_type": "stream",
     "text": [
      "p\n",
      "y\n",
      "t\n",
      "h\n",
      "o\n",
      "n\n"
     ]
    }
   ],
   "source": [
    "for letter in \"python\":        # عدد مرات التكرار يحدد هنا\n",
    "    print(letter)              # المهمة التي يراد تكرارها تكتب هنا\n",
    "                          # لاحظ الفراغ الذي ترك في بداية السطر "
   ]
  },
  {
   "cell_type": "markdown",
   "metadata": {},
   "source": [
    "<div class=arabic>\n",
    "اذا اردنا ان نكرر اكثر من مهمة فانه يجب مراعاة ان يكون عدد الفراغات المتروكة في بداية سطر كل مهمة متساويا كما في المثال التالي: \n",
    "</div>\n",
    "\n"
   ]
  },
  {
   "cell_type": "code",
   "execution_count": 18,
   "metadata": {},
   "outputs": [
    {
     "name": "stdout",
     "output_type": "stream",
     "text": [
      "c\n",
      "c\n",
      "a\n",
      "a\n",
      "r\n",
      "r\n"
     ]
    }
   ],
   "source": [
    "for i in \"car\":        \n",
    "    print(i)\n",
    "    print(i)"
   ]
  },
  {
   "cell_type": "markdown",
   "metadata": {},
   "source": [
    "<div class=arabic>\n",
    " عند اختلاف عدد المسافات المتروكة في بداية سطر كل مهمة فان بايثون يعطي ملاحظة على وجود خطأ كما في المثال التالي:\n",
    "</div>"
   ]
  },
  {
   "cell_type": "code",
   "execution_count": 19,
   "metadata": {},
   "outputs": [
    {
     "ename": "IndentationError",
     "evalue": "unexpected indent (<ipython-input-19-b5f35a2409c9>, line 3)",
     "output_type": "error",
     "traceback": [
      "\u001b[1;36m  File \u001b[1;32m\"<ipython-input-19-b5f35a2409c9>\"\u001b[1;36m, line \u001b[1;32m3\u001b[0m\n\u001b[1;33m    print(i)\u001b[0m\n\u001b[1;37m    ^\u001b[0m\n\u001b[1;31mIndentationError\u001b[0m\u001b[1;31m:\u001b[0m unexpected indent\n"
     ]
    }
   ],
   "source": [
    "for letter in \"car\":        \n",
    "  print(i)\n",
    "    print(i)"
   ]
  },
  {
   "cell_type": "markdown",
   "metadata": {},
   "source": [
    "<div class=arabic>\n",
    "في المثال السابق استخدمنا عدد الاحرف الموجودة في بيان نصي لتحديد عدد مرات التكرار. وهذه الطريقة ليست الوحيدة لتحديد عدد مرات التكرار فهناك البيانات التجميعية التي ذكرناها في الفصل الثالث يمكن ان نستخدمها ايضا لتحديد عدد مرات التكرار. فالبيانات الموجودة في قائمة يمكن ان تستخدم لتحديد عدد مرات التكرار كما في المثال التالي:\n",
    "</div>"
   ]
  },
  {
   "cell_type": "code",
   "execution_count": null,
   "metadata": {},
   "outputs": [],
   "source": [
    "students=['Ali','Ahmad','Hind','Omar']\n",
    "for name in students:\n",
    "    print(name)"
   ]
  },
  {
   "cell_type": "markdown",
   "metadata": {},
   "source": [
    "<div class=arabic>\n",
    "لاحظ اننا استخدمنا اسم المتغير هنا ليكون name وكان بامكاننا ان نستخدم اي اسم اخر فالعملية هنا اختيارية بحته.\n",
    "</div>\n",
    "\n"
   ]
  },
  {
   "cell_type": "markdown",
   "metadata": {},
   "source": [
    "<div class=arabic>\n",
    "وكذلك الصفوف يمكن ان تستخدام لاجراء عمليات التكرار المحدد كما في المثال التالي:\n",
    "</div>"
   ]
  },
  {
   "cell_type": "code",
   "execution_count": null,
   "metadata": {},
   "outputs": [],
   "source": [
    "for number in (1,2,3):        #استخدام الصفوف لإجراء عملية التكرار على عناصرها\n",
    "    print(number)"
   ]
  },
  {
   "cell_type": "markdown",
   "metadata": {},
   "source": [
    "<div class=arabic>\n",
    "تعلمنا في الفصل الثالث ايضا ان الدالتان ()keys و ()value عند استخدامها مع القواميس تعطي قائمة بالمفاتيح والقيم لذلك يمكن اجراء علميات التكرار عليها كما يلي:\n",
    "</div>"
   ]
  },
  {
   "cell_type": "code",
   "execution_count": null,
   "metadata": {},
   "outputs": [],
   "source": [
    "d={1:\"a\",2:\"b\",3:\"c\"}\n",
    "print(d.values())\n",
    "print(d.keys())"
   ]
  },
  {
   "cell_type": "code",
   "execution_count": null,
   "metadata": {},
   "outputs": [],
   "source": [
    "for value in d.values():\n",
    "    print(value)"
   ]
  },
  {
   "cell_type": "code",
   "execution_count": null,
   "metadata": {},
   "outputs": [],
   "source": [
    "for key in d.keys():\n",
    "    print(key)"
   ]
  },
  {
   "cell_type": "markdown",
   "metadata": {},
   "source": [
    "<div class=arabic>\n",
    "كما يمكن استخدام الدالة ()range لتحديد عدد مرات التكرار وذلك لانها تقوم بانشاء قائمة من اعداد صحيحة كما في المثال التالي:\n",
    "</div>\n",
    "\n"
   ]
  },
  {
   "cell_type": "code",
   "execution_count": null,
   "metadata": {},
   "outputs": [],
   "source": [
    "for number in range(5):\n",
    "    print(number)"
   ]
  },
  {
   "cell_type": "markdown",
   "metadata": {},
   "source": [
    "<div class=arabic>\n",
    "فالدالة ()range في الاصل تاخد ثلاث قيم من الاعداد الصحيحة اثنان منها اختياريان يمكن حذفهما كما في المثال السابق و الثالث متطلب اساسي لانه يحدد الرقم الذي يجب ان تقف عنده قيم القائمة. فالعددان الاختياريان هما العددان الذان يحددان بداية القيمة التى تبدأ عندها القائمة والاخر يحدد عدد الخطوات التى تكون بين  قيم القائمة. \n",
    "<br>\n",
    "<br>\n",
    "</div>"
   ]
  },
  {
   "cell_type": "markdown",
   "metadata": {},
   "source": [
    "<img src=\"img/range.png\">"
   ]
  },
  {
   "cell_type": "markdown",
   "metadata": {},
   "source": [
    "<div class=arabic>\n",
    "    <br>\n",
    "    فعند حذف القيم الاختيارية يفترض بايثون انك تريد قائمة من اعداد صحيحة تبدأ من الصفر وتزيد بمقدار العدد 1.\n",
    "فالمثال السابق قام بايثون بانتاج قائمة من الاعداد الصحيحة بدأت من الصفر وتزايدت بمقدار 1 وتوقفت قبل الرقم 5. لاحظ ان العدد الذي يحدد توقف القائمة لايكون مشمولا في القائمة. ويمكن استخدام الدالة ()range بثلاث قيم كما في المثال التالي:   \n",
    "</div>"
   ]
  },
  {
   "cell_type": "code",
   "execution_count": null,
   "metadata": {},
   "outputs": [],
   "source": [
    "for number in range(4,10,2):\n",
    "    print(number)"
   ]
  },
  {
   "cell_type": "markdown",
   "metadata": {},
   "source": [
    "<div class=arabic>\n",
    "فالقائمة السابقة بدأت بالعدد 4 و انتهت قبل العدد 10 وكان عدد الخطوات بمقدار 2.<br>كما يمكن ان يكون عدد الخطوات ذو قيمة سالبة لذلك يجب ان تكون قيمة البداية اكبر من النهاية كما في المثال التالي:\n",
    "</div>\n",
    "\n"
   ]
  },
  {
   "cell_type": "code",
   "execution_count": null,
   "metadata": {},
   "outputs": [],
   "source": [
    "for number in range(16,6,-3):\n",
    "    print(number)"
   ]
  },
  {
   "cell_type": "markdown",
   "metadata": {},
   "source": [
    "<div class=arabic>\n",
    "عند استخدام قيمتين في الدالة ()range فان بايثون يفترض ان القيمة التي حذفت هي قيمة عدد الخطوات كما في المثال التالي:\n",
    "</div>\n",
    "\n"
   ]
  },
  {
   "cell_type": "code",
   "execution_count": null,
   "metadata": {},
   "outputs": [],
   "source": [
    "for x in range(2,5):\n",
    "    print(x)"
   ]
  },
  {
   "cell_type": "markdown",
   "metadata": {},
   "source": [
    "<div class=arabic><h2 class=title>تمارين استكشافية</h2></div>"
   ]
  },
  {
   "cell_type": "markdown",
   "metadata": {},
   "source": [
    "<div class=arabic>\n",
    "١- اكتب برانامج يقوم بطباعة الأرقام من 0 الي 10 ؟\n",
    "</div>"
   ]
  },
  {
   "cell_type": "code",
   "execution_count": null,
   "metadata": {},
   "outputs": [],
   "source": []
  },
  {
   "cell_type": "markdown",
   "metadata": {},
   "source": [
    "<div class=arabic>\n",
    "٢- اكتب برنامج يقوم بطباعة الاعداد الزوجية من 50 الى 100 ؟\n",
    "</div>"
   ]
  },
  {
   "cell_type": "code",
   "execution_count": null,
   "metadata": {},
   "outputs": [],
   "source": []
  },
  {
   "cell_type": "markdown",
   "metadata": {},
   "source": [
    "<div class=arabic>\n",
    "٣- اكتب برنامج يقوم بجمع الاعداد من 1 الى 100 ؟\n",
    "</div>"
   ]
  },
  {
   "cell_type": "code",
   "execution_count": null,
   "metadata": {},
   "outputs": [],
   "source": []
  },
  {
   "cell_type": "markdown",
   "metadata": {},
   "source": [
    "<div class=arabic>\n",
    "٤- اكتب برنامج يقوم بطباعة كلمة “Hello” معكوسة؟\n",
    "</div>"
   ]
  },
  {
   "cell_type": "code",
   "execution_count": null,
   "metadata": {},
   "outputs": [],
   "source": []
  },
  {
   "cell_type": "markdown",
   "metadata": {},
   "source": [
    "<div class=arabic>\n",
    "٥- اكتب برنامج يقوم بطباعة الاعداد تنازلياً من 20 الي 0 ؟\n",
    "</div>"
   ]
  },
  {
   "cell_type": "code",
   "execution_count": null,
   "metadata": {},
   "outputs": [],
   "source": []
  },
  {
   "cell_type": "markdown",
   "metadata": {},
   "source": [
    "<div class=arabic>\n",
    "<h2 class=title>\n",
    " ثانيا: حلقة\n",
    "<font color=green>while</font>\n",
    "</h2>\n",
    "</div>"
   ]
  },
  {
   "cell_type": "markdown",
   "metadata": {},
   "source": [
    "<div class=arabic>\n",
    "الحلقة التكرارية while تستخدم عندما يكون عدد مرات التكرار التي يريد المبرمج القيام بها غير معروفه مسبقا. لذلك تستخدم هذه الحلقة التكرارية عندما نريد ان نقوم بعمليات تكرار غير منتهية او عندما لا يتم معرفة إمكانية الخروج من الحلقة التكرارية الا بعد اجراء بعض العمليات داخل الحلقة التكرارية. ويكون التركيب اللغوي لهذه الحلقة مشابها لحد ما لحلقة for كما في المثال التالي:\n",
    "</div>"
   ]
  },
  {
   "cell_type": "code",
   "execution_count": null,
   "metadata": {},
   "outputs": [],
   "source": [
    "a=1\n",
    "while a<10:\n",
    "    print(a)\n",
    "    a=a+2  "
   ]
  },
  {
   "cell_type": "markdown",
   "metadata": {},
   "source": [
    "<div class=arabic>\n",
    "من المثال السابق يتضح الاتي:\n",
    "</div>"
   ]
  },
  {
   "cell_type": "markdown",
   "metadata": {},
   "source": [
    "<div class=arabic>\n",
    "<ol>\n",
    "    <li>\n",
    "    تبدأ حلقة التكرار بكلمة while.\n",
    "    </li>\n",
    "    <li>\n",
    "    استمرارية حلقة التكرار يكون محكوماً بالشرط الذي يتلو كلمة while.\n",
    "    </li>\n",
    "    <li>\n",
    "    ينتهي السطر الاول من الحلقة بنقطتين فوق بعض \":\".\n",
    "    </li>\n",
    "    <li>\n",
    "    يترك مسافة بمقدار حرف واحد على الأقل (Indentation) قبل كتابة الاوامر التي يراد تكرارها.  ومن المتعارف عليه في لغة بايثون ان يترك فراغ بمقدار 4 احرف.\n",
    "    </li>\n",
    "</ol>\n",
    "</div>"
   ]
  },
  {
   "cell_type": "markdown",
   "metadata": {},
   "source": [
    "<div class=arabic>\n",
    "يمكن كتابة المعنى الحرفي للمثال السابق على النحو التالي: \"طالما قيمة a اقل من 10 فقم بتكرار عملية طباعة a.\"\n",
    "    <br>\n",
    "    وبما ان قيمة a  تزيد داخل حلقة التكرار بمقدار 2 في كل مره فان طباعة a سوف تتكرر بحسب شرط الحلقة التكرارية وهو ان قيمة a لابد ان تكون اقل من 10. تمعن في الشكل التالي لفهم ما يقوم به مفسر بايثون داخل حلقة while. \n",
    "</div>"
   ]
  },
  {
   "cell_type": "markdown",
   "metadata": {},
   "source": [
    "<img src=\"https://blog.penjee.com/wp-content/uploads/2015/03/while-loop-animation-python.gif\">"
   ]
  },
  {
   "cell_type": "markdown",
   "metadata": {},
   "source": [
    "<div class=arabic>\n",
    "<hr class=horizontal>\n",
    "<center>\n",
    "<a id=\"chapter6\"></a>\n",
    "<h1 class=title>\n",
    "الفصل السادس : كتابة الدوال\n",
    "</h1>\n",
    "</center>\n",
    "<hr class=horizontal>\n",
    "</div>"
   ]
  },
  {
   "cell_type": "markdown",
   "metadata": {},
   "source": [
    "<div class=arabic>\n",
    "في هذا الفصل سوف نتطرق الى معرفة الدوال والتي هي عبارة عن أكود برمجية مستقلة يمكن استدعاءها متى واينما شاء المبرمج. الغرض الاساسي من استخدامها يكمن في تجزئة البرنامج الى اجزاء صغيرة تساعد المبرمج على عدم تكرار الأكواد داخل البرنامج وتسهل عليه عمليه اصلاح الاخطاء.\n",
    "</div>\n",
    "\n"
   ]
  },
  {
   "cell_type": "markdown",
   "metadata": {},
   "source": [
    "<div class=arabic>\n",
    "\n",
    "<h2 class=title>\n",
    "أهداف الفصل\n",
    "</h2>\n",
    "عند اتمام هذا الفصل يجب ان يكون لديك المام بالآتي: \n",
    "\n",
    "<ol>\n",
    "<li> \n",
    "كيفية كتابة دالة وطريقة استدعائها. </li>\n",
    "<li>\n",
    "التعرف على أنواع مدخلات الدوال وكيفية استخدامها. </li>\n",
    "<li>\n",
    "التعرف على مخرجات الدوال.</li> \n",
    "    <li>\n",
    "    التعرف على طريقة الصحيحة لكتابة تعليقات ارشادية بكيفية استخدام الدوال.\n",
    "    </li>\n",
    "</ol>\n",
    "</div>"
   ]
  },
  {
   "cell_type": "markdown",
   "metadata": {},
   "source": [
    "<div class=arabic>\n",
    "\n",
    "<h2 class=title>\n",
    "تعريف الدوال\n",
    "</h2>\n",
    "<div>"
   ]
  },
  {
   "cell_type": "markdown",
   "metadata": {},
   "source": [
    "<div class=arabic>\n",
    "لكتابة دالة في بايثون نستخدم def في بداية السطر لتبليغ مفسر بايثون باننا نرغب في تعريف دالة جديدة ثم نتبعها باسم الدالة الذي ينتهي بقوسين يوضع بداخلهما مدخلات الدالة وفي نهاية السطر نكتب نقطتين فوق بعض كما في المثال التالي:\n",
    "</div>"
   ]
  },
  {
   "cell_type": "code",
   "execution_count": null,
   "metadata": {},
   "outputs": [],
   "source": [
    "def function_name():\n",
    "    pass"
   ]
  },
  {
   "cell_type": "markdown",
   "metadata": {},
   "source": [
    "<div class=arabic>لاحظ ان في الدالة السابقة كتبنا اسم الدالة ليكون function_name وبإمكانك ان تستخدم أي اسم آخر شريطة ان تنطبق عليه شروط كتابة اسم المتغيرات التي تعرفنا عليها في الفصل الثاني. كما اننا في المثال السابق لم نقم بوضع أي مدخلات داخل قوسي الدالة لأن ذلك الامر اختياري بحسب احتياج الدالة للمدخلات. وأخيراً فان كلمة   pass  وهي تعنى ان الدالة تم تعريفها فقط و لا تقوم بعمل اي شيء حتى الان. ولكي نجعل الدالة تقوم بعمل ما فإننا نقوم بكتابة الكود البرمجي ليحل محل كلمة  pass كما في المثال التالي:\n",
    " \n",
    "</div>"
   ]
  },
  {
   "cell_type": "code",
   "execution_count": null,
   "metadata": {},
   "outputs": [],
   "source": [
    "def hello():\n",
    "    print(\"hello I am inside a function\")"
   ]
  },
  {
   "cell_type": "markdown",
   "metadata": {},
   "source": [
    "<div class=arabic>\n",
    "لاحظ ايضا ان الكود البرمجي داخل الدالة يكتب بعد ترك مسافة على الاقل بقيمة حرف والمتعارف عليه في بايثون يتم ترك فراغ بمقدار اربعة احرف.جميع اسطر الكود البرمجي يجب ان تترك نفس الفراغ والا سوف يعطي مفسر بايثون اشعارا بوجود خطأ.<br> لا يتم تنفيذ الكود داخل الدالة الا بعد استدعائها وذلك بكتابة اسم الدالة متبوعا بقوسين بداخلهما مدخلات الدالة ان كان هناك مدخلات اما اذا لم يكن هناك مدخلات فيكتفى بكتابة قوسين فارغين كما في المثال التالي:\n",
    "</div>\n",
    "\n"
   ]
  },
  {
   "cell_type": "code",
   "execution_count": null,
   "metadata": {},
   "outputs": [],
   "source": [
    "hello()"
   ]
  },
  {
   "cell_type": "markdown",
   "metadata": {},
   "source": [
    "<div class=arabic>\n",
    "لذلك يمكن كتابة تعريف الدالة في اي مكان من البرنامج بشرط ان لا يسبق استدعاءها تعريفها عند كتابة البرنامج. لاحظ ايضا ان في الامثلة السابقة كتبنا قوسي الدالة فارغين لان الدالة لاتتطلب اي معلومات اضافية لتنفيذ الكود البرمجي داخلها.\n",
    "لنفرض الآن اننا نريد كتابة دالة اكثر ذكاء بحيث تقوم بالقاء التحية على اي شخص ندخل اسمه للداله. للقيام بهذه المهمة يمكن كتابة الدالة بالطريقة التالية:\n",
    "</div>\n",
    "\n"
   ]
  },
  {
   "cell_type": "code",
   "execution_count": null,
   "metadata": {},
   "outputs": [],
   "source": [
    "def hello(name):\n",
    "    print(\"Hello \"+name)"
   ]
  },
  {
   "cell_type": "markdown",
   "metadata": {},
   "source": [
    "<div class=arabic>\n",
    "لاحظ عند كتابتنا للدالة السابقة قمنا باعطاء اسم الشخص المراد القاء التحية عليه متغير اسميناه name ووضعناه داخل قوسي الدالة. ومن ثم استخدمنا هذا المتغير في كتابة امر الطباعة. يسمى هذه المتغير مدخل الدالة. وعند استدعاء الدالة ما علينا القيام به هو ادخال اسم المراد القاء التحية عليه كنص كما في المثال التالي:\n",
    " \n",
    "</div>\n",
    "\n"
   ]
  },
  {
   "cell_type": "code",
   "execution_count": null,
   "metadata": {},
   "outputs": [],
   "source": [
    "hello(\"Ahmad\")\n",
    "hello(\"Ali\")\n",
    "hello(\"Sara\")"
   ]
  },
  {
   "cell_type": "markdown",
   "metadata": {},
   "source": [
    "<div class=arabic>\n",
    " كما يمكن كتابة دالة باكثر من مدخل يفصل بينها بفاصلة داخل قوسي الدالة كما في المثال التالي:\n",
    "</div>\n",
    "\n"
   ]
  },
  {
   "cell_type": "code",
   "execution_count": null,
   "metadata": {},
   "outputs": [],
   "source": [
    "def addition(x,y):\n",
    "    print(\"مجموع الرقمين هو:\", x+y)\n",
    "\n",
    "addition(3,4)"
   ]
  },
  {
   "cell_type": "markdown",
   "metadata": {},
   "source": [
    "<div class=arabic>\n",
    "يجب الاشارة ان مدخلات الدالة تنقسم الى قسمين. القسم الاول يسمى مدخلات الزامية بحيث انه متى تم كتابتها داخل قوسي الدالة عند تعريفها فان الدالة لايمكن استدعاءها الا بعد تزويدها بهذه المدخلات. والقسم الثاني يسمى مدخلات اختيارية. يحيث تعطى هذه المدخلات قيم افتراضية عند تعريف الدالة بستخدام علامة اليساوي \"=\". وعند استدعاء الدالة يمكن للمبرمج استبدال القيم الافتراضية بقيم جديدة والا قام مفسر بايثون باستخدام القيم الافتراضية اذا تم تجاهلها من قبل المبرمج وقت الاستدعاء.ولكي نوضح الفرق بين هذين االنوعين للننظر للمثال التالي:\n",
    "</div>\n",
    "\n"
   ]
  },
  {
   "cell_type": "code",
   "execution_count": null,
   "metadata": {},
   "outputs": [],
   "source": [
    "def addition(x,y=4):\n",
    "    print(x+y)"
   ]
  },
  {
   "cell_type": "markdown",
   "metadata": {},
   "source": [
    "<div class=arabic>\n",
    "يعتبر المدخل x الزامي بينما المدخل y اختياري وذلك لاننا قمنا باعطائة قيمة افتراضية هي العدد 4.\n",
    "\n",
    "</div>"
   ]
  },
  {
   "cell_type": "markdown",
   "metadata": {},
   "source": [
    "<div class=arabic>\n",
    "الان اذا اردنا ان نستدعى الدالة السابقة بدون مدخلات فان مفسر بايثون سوف يعطينا اشعارا بوجود خطأ كما في المثال التالي:\n",
    "</div>"
   ]
  },
  {
   "cell_type": "code",
   "execution_count": null,
   "metadata": {
    "scrolled": true
   },
   "outputs": [],
   "source": [
    "addition()"
   ]
  },
  {
   "cell_type": "markdown",
   "metadata": {},
   "source": [
    "<div class=arabic>\n",
    "لنقوم الآن بااستخدام مدخل واحد لاستدعاء الدالة كما في المثال التالي:\n",
    "</div>"
   ]
  },
  {
   "cell_type": "code",
   "execution_count": null,
   "metadata": {},
   "outputs": [],
   "source": [
    "addition(2)"
   ]
  },
  {
   "cell_type": "markdown",
   "metadata": {},
   "source": [
    "<div class=arabic>\n",
    "المدخل الذي استخدمناه في المثال السابق هو المدخل الالزامي والذي يمثل قيمة x اما المدخل الاختياري فقد قام مفسر بايثون باستخدام قيمته الافتراضية (4) عند اهملنا ادخاله وقت استدعائنا للدالة. اذا رغبنا في تغيير القيمة الافتراضية للمدخل y فاننا نقوم بادخال القيمة وقت استدعاء الدالة بعد ادخال قيمة x اولا كما في المثال التالي:\n",
    "</div>\n",
    "\n"
   ]
  },
  {
   "cell_type": "code",
   "execution_count": null,
   "metadata": {},
   "outputs": [],
   "source": [
    "addition(2,9)"
   ]
  },
  {
   "cell_type": "markdown",
   "metadata": {},
   "source": [
    "<div class=arabic>\n",
    "ان ترتيب ادخال قيم المدخلات عند استدعاء الدالة مهم جدا ففي المثال السابقة القيمة x اخذت القيمة 2 والقيمة y اخذت القيمة 9 وذلك بحسب الترتيب المتبع عند تعريف الدالة. يجب الاشارة الى انه اذا تم استخدام اسم المدخل عند استداعاء الدالة فان ترتيب المدخلات يصبح غير مهم كما في المثال التالي: \n",
    "</div>\n",
    "\n"
   ]
  },
  {
   "cell_type": "code",
   "execution_count": null,
   "metadata": {},
   "outputs": [],
   "source": [
    "addition(y=8,x=1)"
   ]
  },
  {
   "cell_type": "markdown",
   "metadata": {},
   "source": [
    "<div class=arabic>\n",
    "ففي المثال السابق تم ادخال قيمة y قبل قيمة x ولكن مفسر بايثون تعرف على قيم كل مدخل عندما زودناه باسماء المدخلات لذلك اصبح ترتيب المدخلات غير مهم. يجب ان نشير الى ان مفسر بايثون لايسمح بتعريف دالة تحتوي على مدخلات الزامية ومدخلات اختيارية الا بترتيب معين. وهو البدء بالمتغيرات الالزامية اولا ثم المدخلات الاختيارية. وعند تعريف دالة بعكس ذلك فان مفسر بايثون يعطي اشعارا بوجود خطأ كما في المثال التالي:\n",
    "</div>\n",
    "\n"
   ]
  },
  {
   "cell_type": "code",
   "execution_count": null,
   "metadata": {},
   "outputs": [],
   "source": [
    "def addition(y=4,x):\n",
    "    print(x+y)"
   ]
  },
  {
   "cell_type": "markdown",
   "metadata": {},
   "source": [
    "<div class=arabic>\n",
    " لنفرض الان اننا لا نريد طباعة ما تقوم به الدالة على الشاشة ولكن فقط نريد ارجاع ناتج الدالة بيحث نستطيع كتابة امر الطباعة متى ما شئنا. لكي نقوم بهده المهمة لابد لنا من استخدام الامر return لاخبار الدالة بارجاع محصلة الكود البرمجي داخل الدالة كما في المثال التالي:\n",
    "</div>"
   ]
  },
  {
   "cell_type": "code",
   "execution_count": null,
   "metadata": {},
   "outputs": [],
   "source": [
    "def addition(x,y):\n",
    "    return x+y\n",
    "\n",
    "sum=addition(3,7)"
   ]
  },
  {
   "cell_type": "markdown",
   "metadata": {},
   "source": [
    "<div class=arabic>\n",
    "في المثال السابق تم اسناد ناتج الدالة الى المتغير sum. ولكي نتأكد ان العملية تمت بنجاح لنقوم بطباعة قيمة sum كما في المثال التالي:\n",
    "</div>\n",
    "\n"
   ]
  },
  {
   "cell_type": "code",
   "execution_count": null,
   "metadata": {},
   "outputs": [],
   "source": [
    "print(sum)"
   ]
  },
  {
   "cell_type": "markdown",
   "metadata": {},
   "source": [
    "<div class=arabic>\n",
    "في حقيقة الامر ان الدالة دائما تقوم بارجاع محصلة حتى لو لم نكتب ما نريد ارجاعه بعد الامر return. فاذا لم نستخدم الامر  return فان الدالة تقوم بارجاع قيمة افتراضية هي None وتعني انه لم يتم ارجاع اي شئ. كما في المثال التالي:\n",
    "</div>\n",
    "\n"
   ]
  },
  {
   "cell_type": "code",
   "execution_count": null,
   "metadata": {},
   "outputs": [],
   "source": [
    "def addition(x,y):\n",
    "    z=x+y\n",
    "\n",
    "sum=addition(5,9)\n",
    "print(sum)"
   ]
  },
  {
   "cell_type": "markdown",
   "metadata": {},
   "source": [
    "<div class=arabic>\n",
    "    لاحظ ان الدالة السابقة قامت بجمع المدخلين واسناد النتيجة الى المتغير Z. وبما اننا لم نستخدم الامر return لارجاع قيمة المتغير z فان الدالة قامت بارجاع القيمة الافتراضية None. هذي النقطة تقودنا الى ما يسمى بمدى المتغيرات داخل الدوال. فالمتغير z في الدالة السابقة سوف يمسح من الذاكرة بمجرد الانتهاء من استدعاء الدالة لذلك تسمى هذه المتغيرات بالمتغيرات المحلية (local variables). اما المتغيرات التى تقع خارج الدوال فتسمى متغيرات عالمية (global variables) بحيث تحتفظ بقيمتها في اي مكان من البرنامج حتى في داخل الدوال كما في المثال التالي:\n",
    "</div>\n",
    "\n"
   ]
  },
  {
   "cell_type": "code",
   "execution_count": null,
   "metadata": {},
   "outputs": [],
   "source": [
    "x=5\n",
    "def addition(y):\n",
    "    print(x+y)\n",
    "\n",
    "addition(4)"
   ]
  },
  {
   "cell_type": "markdown",
   "metadata": {},
   "source": [
    "<div class=arabic>\n",
    "لكن هناك امر مهم يجب ان تعرفه وهو اننا لايمكننا من تغيير قيم المتغيرات العالمية داخل الدوال الا بعد استخدام كلمة global قبل اسم المتغير المراد تغيير قيمته كما في المثال التالي:\n",
    "</div>\n",
    "\n"
   ]
  },
  {
   "cell_type": "code",
   "execution_count": null,
   "metadata": {},
   "outputs": [],
   "source": [
    "x=5\n",
    "def change_x(y):\n",
    "    global x\n",
    "    x=y\n",
    "\n",
    "change_x(3)\n",
    "print(x)"
   ]
  },
  {
   "cell_type": "markdown",
   "metadata": {},
   "source": [
    "<div class=arabic>\n",
    "لاحظ ان كلمة global في المثال السابق ابلغت مفسر بايثون ان هذا المتغير عالمي ويجب الاحتفاظ بقيمته حتى بعد الانتهاء من مهمة الدالة. اما اذا لم نستخدم كلمة global فان مفسر بايثون سوف يفترض ان x متغير محلى وسوف يمحو قيمته من الذاكرة بعد الانتهاء منها ولا يحدث اي تغيير للمتغير العالمي كما في المثال التالي:\n",
    "</div>\n",
    "\n"
   ]
  },
  {
   "cell_type": "code",
   "execution_count": null,
   "metadata": {},
   "outputs": [],
   "source": [
    "x=5\n",
    "def change_x(y):\n",
    "    x=y\n",
    "\n",
    "change_x(4)\n",
    "print(x)"
   ]
  },
  {
   "cell_type": "markdown",
   "metadata": {},
   "source": [
    "<div class=arabic>\n",
    "ينص دليل بايثون الارشادي رقم PEP 8 الخاص بتوحيد طريقة تنسيق وكتابة الاكواد البرمجية وجعلها سهلة القراءة لكافة المبرمجين على انه يجب كتابة ملخص على شكل تعليق او ملاحظة في السطر الذي يتلو اسم الدالة بحيث يشير فيه المبرمج على الوظيفة التي تقوم بها الدالة كما في المثال التالي:\n",
    "</div>\n",
    "\n"
   ]
  },
  {
   "cell_type": "code",
   "execution_count": null,
   "metadata": {},
   "outputs": [],
   "source": [
    "def add_two_numbers(x,y):\n",
    "    '''تقوم هذه الدالة بحساب مجموع الرقمين المدخلين وارجاع حاصل جمعها'''\n",
    "    return x+y"
   ]
  },
  {
   "cell_type": "markdown",
   "metadata": {},
   "source": [
    "<div class=arabic>\n",
    "يمكن التعرف على ملخص وظيفة الدالة اذا تم كتابته عند تعريف الدالة باستخدام الامر \"\\__doc__\" بعد كتابة اسم الدالة متبوعا بنقطة كما في المثال التالي:\n",
    "</div>"
   ]
  },
  {
   "cell_type": "code",
   "execution_count": null,
   "metadata": {},
   "outputs": [],
   "source": [
    "print(add_two_numbers.__doc__)"
   ]
  },
  {
   "cell_type": "markdown",
   "metadata": {},
   "source": [
    "<div class=arabic><h2 class=title>التعليقات الارشادية للدوال</h2></div>"
   ]
  },
  {
   "cell_type": "markdown",
   "metadata": {},
   "source": [
    "<div class=arabic>\n",
    "ان اول خطوة يقوم بها المبرمج لتسهيل فهم الدالة التي يقوم بإنشائها هي اختيار اسم مناسب لها بحيث يكون هذا الاسم عنوانا لما تقوم به الدالة. لكن في بعض الأحيان يتطلب الامر كتابة اسما طويلا للدالة فيصعب بذلك عملية استدعائها لذلك قد يكتفى بكتابة اسم مختصر للدالة ومن ثم يتم كتابة تعليق بداخلها لشرح طريقة عملها وما تقوم به من مهام. فنجد ان دليل بايثون الارشادي رقم PEP 8 الخاص بتوحيد طريقة تنسيق وكتابة الأكواد البرمجية وجعلها سهلة القراءة لكافة المبرمجين ينص على انه يجب كتابة ملخص على شكل تعليق او ملاحظة في السطر الذي يتلو اسم الدالة بحيث يشير فيه المبرمج على الوظيفة التي تقوم بها الدالة كما في المثال التالي:\n",
    "</div>"
   ]
  },
  {
   "cell_type": "code",
   "execution_count": 68,
   "metadata": {},
   "outputs": [],
   "source": [
    "def add_two_numbers(x,y):\n",
    "    '''تقوم هذه الدالة بحساب مجموع الرقمين المدخلين وارجاع حاصل جمعها'''\n",
    "    return x+y"
   ]
  },
  {
   "cell_type": "markdown",
   "metadata": {},
   "source": [
    "<div class=arabic>\n",
    "يمكن التعرف على ملخص وظيفة الدالة إذا تم كتابته عند تعريف الدالة باستخدام الامر \"__doc__\" بعد كتابة اسم الدالة متبوعا بنقطة كما في المثال التالي:\n",
    "</div>"
   ]
  },
  {
   "cell_type": "code",
   "execution_count": 69,
   "metadata": {},
   "outputs": [
    {
     "name": "stdout",
     "output_type": "stream",
     "text": [
      "تقوم هذه الدالة بحساب مجموع الرقمين المدخلين وارجاع حاصل جمعها\n"
     ]
    }
   ],
   "source": [
    "def add_two_numbers(x,y):\n",
    "    '''تقوم هذه الدالة بحساب مجموع الرقمين المدخلين وارجاع حاصل جمعها'''\n",
    "    return x+y\n",
    "print(add_two_numbers.__doc__)"
   ]
  },
  {
   "cell_type": "markdown",
   "metadata": {},
   "source": [
    "<div class=arabic><h2 class=title>تمارين استكشافية</h2></div>"
   ]
  },
  {
   "cell_type": "markdown",
   "metadata": {},
   "source": [
    "<div class=arabic>\n",
    "    1.\tتعرف على التعليمات الارشادية للدالة ()len التي تعلمناها سابقاً؟\n",
    "</div>"
   ]
  },
  {
   "cell_type": "code",
   "execution_count": null,
   "metadata": {},
   "outputs": [],
   "source": []
  },
  {
   "cell_type": "markdown",
   "metadata": {},
   "source": [
    "<div class=arabic>\n",
    "    1.\tتعرف على التعليمات الارشادية للدالة ()type ؟\n",
    "</div>"
   ]
  },
  {
   "cell_type": "code",
   "execution_count": null,
   "metadata": {},
   "outputs": [],
   "source": []
  },
  {
   "cell_type": "markdown",
   "metadata": {},
   "source": [
    "<div class=arabic>\n",
    "    1.\tتعرف على التعليمات الارشادية للدالة ()print ؟\n",
    "</div>"
   ]
  },
  {
   "cell_type": "code",
   "execution_count": null,
   "metadata": {},
   "outputs": [],
   "source": []
  },
  {
   "cell_type": "code",
   "execution_count": null,
   "metadata": {},
   "outputs": [],
   "source": []
  },
  {
   "cell_type": "code",
   "execution_count": null,
   "metadata": {},
   "outputs": [],
   "source": []
  },
  {
   "cell_type": "code",
   "execution_count": null,
   "metadata": {},
   "outputs": [],
   "source": []
  },
  {
   "cell_type": "markdown",
   "metadata": {},
   "source": [
    "<div class=arabic>\n",
    "<hr class=horizontal>\n",
    "<center>\n",
    "<a id=\"chapter7\"></a>\n",
    "<h1 class=title>\n",
    "الفصل السابع : التعامل مع الملفات\n",
    "</h1>\n",
    "</center>\n",
    "<hr class=horizontal>\n",
    "</div>"
   ]
  },
  {
   "cell_type": "markdown",
   "metadata": {},
   "source": [
    "<div class=arabic>\n",
    "ان جميع البرامج التي قمنا بكتابتها حتى الان كانت تتطلب ادخال البيانات يدويا داخل الكود البرمجي قبل تشغيله. وهذه الطريقة تعتبر بدائية الى حد ما وغير مفيدة خاصة عندما نرغب في ادخال بيانات جديدة غير التي ادخلناها قبل تشغيل البرنامج. لذلك سوف نتطرق الى معرفة كيفية ادخال البيانات للبرنامج بشكل تفاعلي باستخدام الدالة ()input وكذلك طريقة التعامل مع الملفات من اجل قراءتها او من اجل التعديل عليها وحفظ التعديلات التي اجريت عليها لاستخدامها لاحقا بعد اغلاق البرنامج. \n",
    "</div>"
   ]
  },
  {
   "cell_type": "markdown",
   "metadata": {},
   "source": [
    "<div class=arabic>\n",
    "\n",
    "<h2 class=title>\n",
    "أهداف الفصل\n",
    "</h2>\n",
    "عند اتمام هذا الفصل يجب ان يكون لديك المام بالآتي: \n",
    "\n",
    "<ol>\n",
    "<li> \n",
    "معرفة كيفية استخدام الدالة  ()input من اجل ادخال البيانات للبرنامج بشكل تفاعلي.   </li>\n",
    "<li>\n",
    "التعرف على طريقة فتح الملفات النصية. </li>\n",
    "<li>\n",
    "التعرف على طريقة قراءة البيانات النصية.</li> \n",
    "    <li>\n",
    "    التعرف على طرق الكتابة والحفظ على ملف نصي.\n",
    "    </li>\n",
    "</ol>\n",
    "</div>"
   ]
  },
  {
   "cell_type": "markdown",
   "metadata": {},
   "source": [
    "<div class=arabic>\n",
    "\n",
    "<h2 class=title>\n",
    "ادخال البيانات بشكل تفاعلي\n",
    "</h2>\n",
    "</div>"
   ]
  },
  {
   "cell_type": "markdown",
   "metadata": {},
   "source": [
    "<div class=arabic>\n",
    "    في لغة بايثون يتم تكمين مستخدمي البرنامج من ادخال بياناتهم بعد تشغيل البرنامج بغية معالجتها وتحليلها من خلال استخدام الدالة ()input كما في المثال التالي:\n",
    "</div>"
   ]
  },
  {
   "cell_type": "code",
   "execution_count": null,
   "metadata": {},
   "outputs": [],
   "source": [
    "name=input(\"please enter your name: \")\n",
    "print(\"Hello \",name)"
   ]
  },
  {
   "cell_type": "markdown",
   "metadata": {},
   "source": [
    "<div class=arabic>\n",
    "فالتركيب اللغوي السابق يطلب من المستخدم بعد تشغيله للبرنامج ان يقوم بإدخال قيمة المتغير name وذلك من خلال كتابة ملاحظة او رسالة يكتبها المبرمج بين قوسي الدالة ()input على شكل نص لترشد المستخدم الى ما يجب عمله. ويبقى البرنامج منتظراً للمستخدم حتى يدخل قيمة ويضغط على زر الادخال ليكمل بعدها البرنامج تنفيذ ما تبقى من كود برمجي. \n",
    "</div>"
   ]
  },
  {
   "cell_type": "markdown",
   "metadata": {},
   "source": [
    "<div class=arabic>\n",
    "يجب ملاحظة ان كل ما يقوم بإدخاله المستخدم من بيانات في هذا التركيب اللغوي يتم التعامل معه كسلسلة نصية. ويمكن التأكد من هذه المعلومة باستخدام الدالة ()type كما في المثال التالي:\n",
    "</div>"
   ]
  },
  {
   "cell_type": "code",
   "execution_count": 55,
   "metadata": {},
   "outputs": [
    {
     "name": "stdout",
     "output_type": "stream",
     "text": [
      "Please enter a number: 10\n",
      "<class 'str'>\n"
     ]
    }
   ],
   "source": [
    "num=input(\"Please enter a number: \")\n",
    "print(type(num))"
   ]
  },
  {
   "cell_type": "markdown",
   "metadata": {},
   "source": [
    "<div class=arabic>\n",
    "لاحظ انه بعد ادخال الرقم 10 والضغط على زر الادخال طبع لنا البرنامج نوع البيان الذي ادخلناه وهو من النوع النصي “str”.\n",
    "وكمثال آخر لنفرض اننا نريد كتابة برنامج يطلب من المستخدم ادخال قيمة رقمين x وy  لكي يقوم بحساب حاصل جمعهما. فمن خلال تعلمنا للتركيب اللغوي السابق يمكن كتابة البرنامج \n",
    "</div>"
   ]
  },
  {
   "cell_type": "code",
   "execution_count": 56,
   "metadata": {},
   "outputs": [
    {
     "name": "stdout",
     "output_type": "stream",
     "text": [
      "please enter a value for x: 5\n",
      "please enter a value for y: 9\n",
      "The sum of x and y =  59\n"
     ]
    }
   ],
   "source": [
    "x=input(\"please enter a value for x: \")\n",
    "y=input(\"please enter a value for y: \")\n",
    "sum=x+y\n",
    "print(\"The sum of x and y = \",sum)"
   ]
  },
  {
   "cell_type": "markdown",
   "metadata": {},
   "source": [
    "<div class=arabic>\n",
    "عند تنفيذ البرنامج السابق وإدخال قيمة 5 للمتغير x وقيمة 9 للمتغير y نجد ان هناك مشكلة في البرنامج. فالبرنامج تعامل مع المدخلات على انها سلسلة نصية وتمت عملية الجمع كما تعلمنا سابقا بتجميع النصوص مع بعضها البعض. يمكن حل المشكلة هذه بتحويل سلسلة النصوص المدخلة الى ارقام عشرية باستخدام الدالة ()float كما في المثال التالي: \n",
    "</div>"
   ]
  },
  {
   "cell_type": "code",
   "execution_count": 57,
   "metadata": {},
   "outputs": [
    {
     "name": "stdout",
     "output_type": "stream",
     "text": [
      "please enter a value for x: 5\n",
      "please enter a value for y: 9\n",
      "The sum of x and y =  14.0\n"
     ]
    }
   ],
   "source": [
    "x=input(\"please enter a value for x: \")\n",
    "y=input(\"please enter a value for y: \")\n",
    "sum=float(x)+float(y)\n",
    "print(\"The sum of x and y = \",sum)"
   ]
  },
  {
   "cell_type": "markdown",
   "metadata": {},
   "source": [
    "<div class=arabic><h2 class=title>تمارين استكشافية</h2></div>"
   ]
  },
  {
   "cell_type": "markdown",
   "metadata": {},
   "source": [
    "<div class=arabic>\n",
    "١- طور البرنامج السابق باستخدام حلقة  \n",
    "while بحيث تجعل البرنامج يسأل المستخدم بعد اجراء عملية الجمع عما إذا كان يرغب في اجراء عملية جمع أخرى او يرغب في انهاء البرنامج. فاذا كانت الإجابة بـ yes فعندها يقوم باجراء عملية جمع اخرى اما اذا كانت الإجابة بـ no فان البرنامج يطبع رسالة \"Good by\"؟\n",
    "</div>"
   ]
  },
  {
   "cell_type": "code",
   "execution_count": null,
   "metadata": {},
   "outputs": [],
   "source": []
  },
  {
   "cell_type": "markdown",
   "metadata": {},
   "source": [
    "<div class=arabic>\n",
    "٢- قم بكتابة برنامج يطلب من المستخدم تخمين رقم سري انت تختاره بين العددين 0 و 20 بحيث يقوم البرنامج بارشاد المستخدم الي الرقم السري بكتابة تلميح في كل مرة يدخل فيها رقما غير صحيح. فمثلا اذا ادخل المستخدم رقما اقل من الرقم السري يظهر البرنامج رسالة تخبره بان يختار رقما اكبر والعكس صيحيح اذا كان الرقم المدخل اكبر من الرقم السري؟ عندما يصل المستخدم للرقم السري الصحيح يطبع البرنامج رسالة تفيد بذلك وينهي البرنامج؟\n",
    "</div>"
   ]
  },
  {
   "cell_type": "code",
   "execution_count": null,
   "metadata": {},
   "outputs": [],
   "source": []
  },
  {
   "cell_type": "markdown",
   "metadata": {},
   "source": [
    "<div class=arabic>\n",
    "٣- طور البرنامج الموجود في تمرين رقم 2 بحيث يعطي البرنامج 3 محاولات فقط للمستخدم للوصول للرقم السري الصحيح؟\n",
    "</div>"
   ]
  },
  {
   "cell_type": "code",
   "execution_count": null,
   "metadata": {},
   "outputs": [],
   "source": []
  },
  {
   "cell_type": "markdown",
   "metadata": {},
   "source": [
    "<div class=arabic><h2 class=title>فتح الملفات</h2></div>"
   ]
  },
  {
   "cell_type": "markdown",
   "metadata": {},
   "source": [
    "<div class=arabic>\n",
    "ان البرامج السابقة لم تكن تمكننا من ادخال البيانات بشكل آلي ولم تكن تمكننا من الاحتفاظ بمخرجات البرنامج بعد ان ينتهي البرنامج من تنفيذ الكود البرمجي. لذلك كان لا بد ان يوجد المبرمجين تركيبا لغويا يمكن من التعامل مع الملفات بغرض القراءة منها اوالكتابة اليها. وفي لغة بايثون نجد ان التعامل مع الملفات يتم من خلال استخدام الدالة ()open والتي يكون تركيبها اللغوي على النحو التالي:\n",
    "</div>"
   ]
  },
  {
   "cell_type": "code",
   "execution_count": null,
   "metadata": {},
   "outputs": [],
   "source": [
    "open(\"filename\",\"mode\",buffer)"
   ]
  },
  {
   "cell_type": "markdown",
   "metadata": {},
   "source": [
    "<div class=arabic>\n",
    "<ul>\n",
    "    حيث تحتوي الدالة على ثلاثة مدخلات احدهم الزامي والاخران اختياريان وهي على النحو التالي:\n",
    "<li> filename : مدخل الزامي يمثل اسم الملف المطلوب التعامل معه. اذا لم يكن اسم الملف موجود في نفس المجلد الذي يتم من خلاله تشغيل البرنامج فلابد من تحديد\n",
    " مسار الملف حتى يتسنى للبرنامج الوصول للملف. كما يجب ملاحظة ان كتابة اسم و مسار الملف دائما ما يكون على هيئة نص أي بمعنى آخر يجب ان يكون بين احدى علامات التنصيص التي يسمح بها مفسر بايثون.\n",
    "</li>\n",
    "<li>\n",
    "Mode : مدخل اختياري يمثل نوع العملية المراد تنفيذها على الملف.  وعند حذف قيمة هذا المدخل   فان القيمة الافتراضية التي سوف يعتمدها مفسر بايثون هي عملية القراءة \"r\". والجدول التالي يمثل العمليات الاكثر استخداما عند التعامل مع الملفات:\n",
    "<div class=arabic>\n",
    "    <br>\n",
    "    <table style=\"width:80%\">\n",
    "  \n",
    "  <tr>\n",
    "    <td><center>العملية</td>\n",
    "    <td><center>قراءة ملف</td>\n",
    "    <td><center>كتابة ملف</td>\n",
    "    <td><center>اضافة بيانات الى آخر الملف</td>\n",
    "  </tr>\n",
    "      <tr>\n",
    "    <td border=\"0\"><center>mode</td>\n",
    "    <td><center>\"r\"</td>\n",
    "    <td><center>\"w\"</td>\n",
    "    <td><center>\"a\"</td>\n",
    "  </tr>\n",
    "  \n",
    "</table>\n",
    "   \n",
    "</div>\n",
    "</li>\n",
    "<br>\n",
    "<li>\n",
    "buffer : \n",
    "مدخل اختياري يمثل كمية البيانات التي يراد قراءتها او كتابتها الى الملف. وعند حذف هذه القيمة عند استخدام الدالة ()open فان القيمة الافتراضية التي سوف يعتمدها مفسر بايثون هي قراءة كافة محتويات الملف.\n",
    "</li>\n",
    "</ul>\n",
    "</div>\n",
    "\n"
   ]
  },
  {
   "cell_type": "markdown",
   "metadata": {},
   "source": [
    "<div class=arabic>\n",
    "من خلال استخدام التركيب السابق يصبح لدينا كائن في ذاكرة الكمبيوتر فقط تم تحديد نوع العملية المراد عملها من خلاله اما اجراء عملية القراءة والكتابة الفعلية لا تتم الا باستخدام دوال خاصة بالقراءة والكتابة والتي سوف نتعرف عليها بشئ من التفصيل في الجزئية التالية.\n",
    "</div>\n"
   ]
  },
  {
   "cell_type": "markdown",
   "metadata": {},
   "source": [
    "<div class=arabic>اولا: عملية القراءة من الملفات</div>"
   ]
  },
  {
   "cell_type": "markdown",
   "metadata": {},
   "source": [
    "<div class=arabic>يحتوي مجلد الكتاب هذا على مجلد آخر اسمه data يحوي ملفا نصيا اسمه days.txt كتبت فيه مجموعة من البيانات النصية. لنقم بفتح الملف هذا وطباعة ما بداخله من بيانات من خلال كتابة الكود البرمجي التالي: </div>"
   ]
  },
  {
   "cell_type": "code",
   "execution_count": null,
   "metadata": {
    "jupyter": {
     "outputs_hidden": true
    }
   },
   "outputs": [],
   "source": [
    "file_name=open(\"data/days.txt\")\n",
    "data=file_name.read()\n",
    "print(data)\n",
    "file_name.close()"
   ]
  },
  {
   "cell_type": "markdown",
   "metadata": {},
   "source": [
    "<div class=arabic>عند تشغيل الكود السابق سوف يقوم مفسر بايثون بانشاء كائن برمجي داخل الذاكرة يمثل قناة تواصل بين القرص الصلب الذي يحوي الملف ومفسر بايثون ويتم اسناد هذا الكائن للمتغير  file_name . لاحظ اننا احتجنا الى كتابة مسار الملف لان الملف الذي نحن بصدده لا يقع في نفس مجلد الكتاب مباشرة وانما يوجد في مجلد فرعي اسمه data . كما يجب ملاحظة ان مفسر بايثون تعرف على نوع العملية التي نريد القيام بها على الملف على الرغم من عدم تحديدها في مدخلات الدالة ()open وذلك لان القيمة الافتراضية لنوع العملية mode هي عملية القراءة \"r\" كما اشرنا سابقا. ومن ثم يقوم بتنفيذ  عملية قراءة محتيويات الملف من خلال الدالة ()read ويقوم باسناد محتويات الملف للمتغير data واخيرا يقوم بطباعة محتويات الملف من خلال الدالة  ()print واغلاق الكائن البرمجي ومسحة من الذاكرة من خلال الدالة ()close. </div>"
   ]
  },
  {
   "cell_type": "markdown",
   "metadata": {},
   "source": [
    "<div class=arabic>\n",
    "كما يجب الإشارة الى ان هناك دوال أخرى تقوم بعملية القراءة من ملف ولكن بخصائص تختلف قليلاً عن الدالة ()read. فمثلاً يمكن استخدام الدالة ()readline لقراءة سطر واحد من الملف كما في المثال التالي:\n",
    "</div>"
   ]
  },
  {
   "cell_type": "code",
   "execution_count": 58,
   "metadata": {},
   "outputs": [
    {
     "name": "stdout",
     "output_type": "stream",
     "text": [
      "Sunday: go to school\n",
      "\n"
     ]
    }
   ],
   "source": [
    "file=open(\"data/days.txt\")\n",
    "line=file.readline()\n",
    "print(line)"
   ]
  },
  {
   "cell_type": "markdown",
   "metadata": {},
   "source": [
    "<div class=arabic>\n",
    "كما يمكن قراءة الملف السابق بأكمله باستخدام الدالة ()readlines (لاحظ s الجمع للتفريق بين الدالة السابقة والدالة التي نحن بصددها الآن) بحيث يكون ناتج القراءة عبارة عن قائمة من البيانات كل بيان فيها يمثل محتوى كل سطر من الملف الذي تتم قراءته كما في المثال التالي:\n",
    "</div>"
   ]
  },
  {
   "cell_type": "code",
   "execution_count": 60,
   "metadata": {},
   "outputs": [
    {
     "name": "stdout",
     "output_type": "stream",
     "text": [
      "['Sunday: go to school\\n', 'Monday: play football\\n', 'Tuesday: visit mam\\n', 'Friday: read a chapter from Quran.']\n"
     ]
    }
   ],
   "source": [
    "file=open(\"data/days.txt\")\n",
    "lines=file.readlines()\n",
    "print(lines)"
   ]
  },
  {
   "cell_type": "markdown",
   "metadata": {},
   "source": [
    "<div class=arabic><h2 class=title>تمارين استكشافية</h2></div>"
   ]
  },
  {
   "cell_type": "markdown",
   "metadata": {},
   "source": [
    "<div class=arabic>\n",
    "1.\tقم بكتابة برنامج يقرأ من ملف نصي اسمه numbers.txt موجود في نفس المجلد data ويحتوي على الاعداد من 1 الى 10 في السطر الاول و 11 الى 20 في السطر الثاني و 21 الى 30 في السطر الثالث. حاول ان تقرأ محتويات الملف باستخدام الدوال الثلاث السابقة وطباعتها على الشاشة؟\n",
    "</div>"
   ]
  },
  {
   "cell_type": "code",
   "execution_count": null,
   "metadata": {},
   "outputs": [],
   "source": []
  },
  {
   "cell_type": "markdown",
   "metadata": {},
   "source": [
    "<div class=arabic>\n",
    "2.\tحاول التعرف على نوع البيانات الناتجة من عملية القراءة بالدوال الثلاث السابقة باستخدام الدالة ()type؟\n",
    "</div>"
   ]
  },
  {
   "cell_type": "code",
   "execution_count": null,
   "metadata": {},
   "outputs": [],
   "source": []
  },
  {
   "cell_type": "markdown",
   "metadata": {},
   "source": [
    "<div class=arabic>\n",
    "    3.\tقم بفتح الملف countries.txt  من المجلد data ثم قم بقراءة الملف وطباعة جميع أسماء الدول الموجودة في الملف؟\n",
    "</div>"
   ]
  },
  {
   "cell_type": "code",
   "execution_count": null,
   "metadata": {},
   "outputs": [],
   "source": []
  },
  {
   "cell_type": "markdown",
   "metadata": {},
   "source": [
    "<div class=arabic>\n",
    "4.\tطور البرنامج في التمرين 3 بحيث يقوم بطباعة الدول التي يزيد عدد حروفها عن 10 احرف؟\n",
    "</div>"
   ]
  },
  {
   "cell_type": "code",
   "execution_count": null,
   "metadata": {},
   "outputs": [],
   "source": []
  },
  {
   "cell_type": "markdown",
   "metadata": {},
   "source": [
    "<div class=arabic>\n",
    "5.\tطور البرنامج في التمرين 3 بحيث يقوم بطباعة الدول التي يقل عدد حروفها عن 6 احرف؟\n",
    "</div>"
   ]
  },
  {
   "cell_type": "code",
   "execution_count": null,
   "metadata": {},
   "outputs": [],
   "source": []
  },
  {
   "cell_type": "markdown",
   "metadata": {},
   "source": [
    "<div class=arabic>ثانيا: عملية الكتابة الى الملفات</div>"
   ]
  },
  {
   "cell_type": "markdown",
   "metadata": {},
   "source": [
    "<div class=arabic>\n",
    "لنفرض الان اننا نريد الكتابة على ملف ماذا بوسعنا ان نغير في الدالة ()open للقيام بهذه المهمة؟ \n",
    "في حقيقة الامر ان الكتابة على ملف تتطلب فقط القيام بتغيير قيمة النمط (mode) الافتراضية في الدالة ()open والتي تمثل المدخل الثاني الذي يلي اسم الملف كما في المثال التالي:\n",
    "\n",
    "</div>"
   ]
  },
  {
   "cell_type": "code",
   "execution_count": 62,
   "metadata": {},
   "outputs": [],
   "source": [
    "file=open(\"data/weeks.txt\",\"w\")"
   ]
  },
  {
   "cell_type": "markdown",
   "metadata": {},
   "source": [
    "<div class=arabic>\n",
    "عند كتابة “w” كمدخل ثاني في الدالة ()open فان مفسر بايثون سوف يقوم بإنشاء كائن ارتباط للكتابة بدلاً من كائن القراءة الافتراضي. لكن يجب ملاحظة ان هناك اختلاف بسيط بين نمطي الكتابة والقراءة. فنمط الكتابة عند عدم وجود الملف المحدد فان مفسر بايثون يقوم بإنشائه تلقائيا بينما نمط القراءة يعطي رسالة بوجود خطأ في حال عدم العثور على الملف. \n",
    "</div>"
   ]
  },
  {
   "cell_type": "markdown",
   "metadata": {},
   "source": [
    "<div class=arabic>\n",
    "ودالة الكتابة في بايثون هي ()write. ويتم التعامل معها تقريبا بنفس الطريقة التي استخدمناها مع دالة القراءة كما هو موضح في المثال التالي:\n",
    "</div>"
   ]
  },
  {
   "cell_type": "code",
   "execution_count": 64,
   "metadata": {},
   "outputs": [],
   "source": [
    "file=open(\"data/weeks.txt\",\"w\")\n",
    "file.write(\"1st week 2nd week 3rd week 4th week\")\n",
    "file.close()"
   ]
  },
  {
   "cell_type": "markdown",
   "metadata": {},
   "source": [
    "<div class=arabic>\n",
    "فبعد انشاء كائن الارتباط للكتابة  file نستخدم الدالة ()write لتنفيذ عملية الكتابة على الملف والتي هي هنا عبارة عن نص وضع بين قوسي الدالة ()write. ويمكن كذلك استخدام الدالة ()writelines وذلك لكتابة قائمة من البيانات كما في المثال التالي:\n",
    "</div>"
   ]
  },
  {
   "cell_type": "code",
   "execution_count": 65,
   "metadata": {},
   "outputs": [],
   "source": [
    "file=open(\"data/greeting.txt\",\"w\")\n",
    "file.writelines([\"Welcome \",\"to \", \"python \", \"world!\"])"
   ]
  },
  {
   "cell_type": "markdown",
   "metadata": {},
   "source": [
    "<div class=arabic>\n",
    "يجب ملاحظة ان فتح ملف بغرض الكتابة عليه يختلف بحسب النمط المدخل. فالنمط “w” يعنى مسح محتويات الملف السابقة ان وجدت والكتابة على الملف من بدايته. اما إذا استخدمنا النمط “a” كمدخل ثاني في الدالة ()open فان ذلك يعنى ان محتويات الملف السابقة لا يتم مسحها وانما تتم الكتابة من حيث ما انتهى محتوى الملف السابق. وهناك أنماط أخرى لا يسع الحديث عنها هنا ويمكن البحث عنها من خلال محركات البحث للاستزادة.\n",
    "</div>"
   ]
  },
  {
   "cell_type": "markdown",
   "metadata": {},
   "source": [
    "<div class=arabic><h2 class=title>تمارين استكشافية</h2></div>"
   ]
  },
  {
   "cell_type": "markdown",
   "metadata": {},
   "source": [
    "<div class=arabic>\n",
    "    １-\tلتاكد ان عمليتي الكتابة في المثالين السابقين تمتا بشكل صحيح. قم بتنفيذ كل كود ومن ثم قم بكتابة كود برمجي اخر يقوم بقراءة وطباعة ما تم كتابته؟\n",
    "</div>"
   ]
  },
  {
   "cell_type": "code",
   "execution_count": null,
   "metadata": {},
   "outputs": [],
   "source": []
  },
  {
   "cell_type": "markdown",
   "metadata": {},
   "source": [
    "<div class=arabic>\n",
    "２-\tقم بفتح الملف countries.txt  وحاول كتابة عدد الدول في نهاية الملف؟\n",
    "</div>"
   ]
  },
  {
   "cell_type": "code",
   "execution_count": null,
   "metadata": {},
   "outputs": [],
   "source": []
  },
  {
   "cell_type": "markdown",
   "metadata": {},
   "source": [
    "<div class=arabic>\n",
    "ان فتح ملف سواء للقراءة او الكتابة بالطريقة السابقة قد يسبب بعض إشكالية في نفاذ جزء من مساحة الذاكرة وذلك لان الملف الذي تم فتحه سوف يظل في ذاكرة الكمبيوتر حتى يتم اغلاقه. لذلك ان استخدام الطريقة السابقة للتعامل مع الملفات يتطلب تنظيف الذاكرة بعد الانتهاء من عملية القراءة او الكتابة باستخدام الدالة ()close كما في المثال التالي:\n",
    "</div>"
   ]
  },
  {
   "cell_type": "code",
   "execution_count": 66,
   "metadata": {},
   "outputs": [
    {
     "name": "stdout",
     "output_type": "stream",
     "text": [
      "1st week 2nd week 3rd week 4th week\n"
     ]
    }
   ],
   "source": [
    "file=open(\"data/weeks.txt\")\n",
    "content=file.read()\n",
    "print(content)\n",
    "file.close()"
   ]
  },
  {
   "cell_type": "markdown",
   "metadata": {},
   "source": [
    "<div class=arabic>\n",
    "ولتلافي نسيان اغلاق الملفات بعد الانتهاء من اجراء العمليات عليها يمكن استخدام تركيب لغوي آخر في لغة بايثون يعتمد على استخدام البادئة with والذي من خلاله يقوم مفسر بايثون بإغلاق الملف المفتوح بمجرد الانتهاء من هذه المهمة كما في المثال التالي:\n",
    "</div>"
   ]
  },
  {
   "cell_type": "code",
   "execution_count": 67,
   "metadata": {},
   "outputs": [
    {
     "name": "stdout",
     "output_type": "stream",
     "text": [
      "1st week 2nd week 3rd week 4th week\n"
     ]
    }
   ],
   "source": [
    "with open(\"data/weeks.txt\") as file:\n",
    "    content=file.read()\n",
    "    print(content)"
   ]
  },
  {
   "cell_type": "markdown",
   "metadata": {},
   "source": [
    "<div class=arabic>\n",
    "لاحظ ان في المثال السابق تم استخدام الاتي:<br>\n",
    "•\tبدء التركيب اللغوي باستخدام كلمة with.<br>\n",
    "•\tاستخدام كلمة as لإسناد كائن الربط الى المتغير file.<br>\n",
    "•\tاستخدام النقطتين فوق بعض \":\" عند نهاية السطر الاول.<br>\n",
    "•\tترك مسافة في الاسطر التي تلي السطر الاول للقيام بالعمليات المطلوبة على الملف المفتوح.<br>\n",
    "•\tيتم اقفال كائن الارتباط بعد الانتهاء من اخر سطر في الاسطر المبدوءة بترك مسافة.\n",
    "\n",
    "</div>"
   ]
  },
  {
   "cell_type": "markdown",
   "metadata": {},
   "source": [
    "<div class=arabic><h2 class=title>تمارين استكشافية</h2></div>"
   ]
  },
  {
   "cell_type": "markdown",
   "metadata": {},
   "source": [
    "<div class=arabic>\n",
    "    １-\tقم باعادة كتابة تمارين القراءة والكتابة السابقة باستخدام التركيب اللغوي with؟\n",
    "</div>"
   ]
  },
  {
   "cell_type": "markdown",
   "metadata": {},
   "source": [
    "<div class=arabic>\n",
    "<hr class=horizontal>\n",
    "<center>\n",
    "<a id=\"chapter8\"></a>\n",
    "<h1 class=title>\n",
    "الفصل الثامن : التعامل مع المكتبات\n",
    "</h1>\n",
    "</center>\n",
    "<hr class=horizontal>\n",
    "</div>"
   ]
  },
  {
   "cell_type": "markdown",
   "metadata": {},
   "source": [
    "<div class=arabic>\n",
    "في هذا الفصل سوف نتطرق الى الحديث عن المكتبات (modules) في لغة بايثون والتي تعتبر من أحد أهم العوامل التي ساهمت في ذياع صيت لغة بايثون على كافة الأصعدة. فعلى سبيل المثال نجد مكتبات مثل numpy و scipy وmatplotlib  مشهورة الاستخدام في الاوساط العلمية والبحثية. وكذلك مكتبتي Django و flask  التي يعتمد عليها المبرمجين في بناء تطبيقات الويب. وتعتبر مكتبة pandas مشهورة لدى المهتمين بتحليل البيانات الى غير ذلك من المكتبات الاخرى.  \n",
    "سنحاول في هذا الفصل تبسط مفهوم المكتبات في بايثون لدى القارئ حيث سنبدأ بتعريف المكتبات وكيفية التعامل معها. وسنقوم أيضاً بتعريف القارئ ببعض المكتبات المبنية داخل اصدارة بايثون 3 والتي يكاد لا يستغنى عنها عند كتابة أي كود برمجي. كما سنتعرف ايضا على كيفية تنصيب مكتبة خارجية الى مجلد مكتبات بايثون من اجل استخدامها في كتابة البرامج. وفي نهاية الفصل سوف نتطرق بشكل مبسط الى كيفية انشاء مكتبة خاصة بنا.\n",
    "\n",
    "</div>"
   ]
  },
  {
   "cell_type": "markdown",
   "metadata": {},
   "source": [
    "<div class=arabic>\n",
    "\n",
    "<h2 class=title>\n",
    "أهداف الفصل\n",
    "</h2>\n",
    "عند اتمام هذا الفصل يجب ان يكون لديك المام بالآتي: \n",
    "\n",
    "<ol>\n",
    "<li> \n",
    "تعريف المكتبات في لغة بايثون وكيفية استدعائها.  </li>\n",
    "<li>\n",
    "استخدام بعض المكتبات المبنية داخل اصدارة بايثون. </li>\n",
    "<li>\n",
    "معرفة كيفية تنصيب مكتبة خارجية داخل مجلد مكتبات بايثون لاستخدامها في كتابة البرامج.</li> \n",
    "    <li>\n",
    "   التعرف على كيفية بناء مكتبة خاصة بنا.\n",
    "    </li>\n",
    "</ol>\n",
    "</div>"
   ]
  },
  {
   "cell_type": "markdown",
   "metadata": {},
   "source": [
    "<div class=arabic><h2 class=title>تعريف المكتبة في بايثون</h2></div>"
   ]
  },
  {
   "cell_type": "markdown",
   "metadata": {},
   "source": [
    "<div class=arabic>\n",
    "المكتبة في بايثون هي عبارة عن ملف بايثون اعتيادي يحتوي على كود برمجي تم من خلاله تعريف عدد من الكائنات البرمجية والدوال والمتغيرات بهدف تسهيل أداء مهام متعلقة بموضوع معين. فنجد على سبيل المثال المكتبة math والتي هي عبارة مكتبة داخلية مبنية في اصدارة بايثون تحوي على دوال رياضية عديدة كدالة الجذر التربيعي ()sqrt وادالة جيب الزاوية ()sin  وجيب تمام الزاوية ()cos الى غيرها من الدوال الرياضية. ولكي نتمكن من استخدام الدوال الموجودة داخل أي مكتبة يجب ان يتم استدعاؤها من خلال الامر import كما في المثال التالي:\n",
    "</div>"
   ]
  },
  {
   "cell_type": "code",
   "execution_count": null,
   "metadata": {},
   "outputs": [],
   "source": [
    "import math\n",
    "x=math.sqrt(4)\n",
    "print(x)"
   ]
  },
  {
   "cell_type": "markdown",
   "metadata": {},
   "source": [
    "<div class=arabic>\n",
    "لاحظ ان عملية الاستدعاء تمت باستخدام الامر import متبوعاً باسم المكتبة. ومن ثم أصبح بإمكاننا استخدام الدوال داخل المكتبة math باستخدام اسم المكتبة أولاً ومن ثم اسم الدالة بعد الفصل بينها بنقطة. وطريقة الاستدعاء هذه ليست الوحيدة في بايثون. فهناك طرق استدعاء أخرى. فمثلا يمكن استدعاء المكتبة السابقة باستخدام التركيب اللغوي التالي:\n",
    "</div>"
   ]
  },
  {
   "cell_type": "code",
   "execution_count": null,
   "metadata": {},
   "outputs": [],
   "source": [
    "from math import *\n",
    "x=sqrt(4)\n",
    "print(x)"
   ]
  },
  {
   "cell_type": "markdown",
   "metadata": {},
   "source": [
    "<div class=arabic>\n",
    "لاحظ ان طريقة الاستدعاء في المثال السابق يمكن ترجمتها الى المعنى التالي: \"من المكتبة math استورد كل الدوال والمتغيرات.\" وعلامة النجمة بعد كلمة import تعني استيراد كل شيء. كما يجب ملاحظة انه عند استخدام طريقة الاستدعاء هذه فإننا لا نستخدم اسم المكتبة قبل الدالة وانما نكتفى باستخدام الدالة مباشرة. لكن في حقيقة الامر فان مبرمجي بايثون لا يوصون باستخدام طريقة الاستدعاء هذه لسببين: اولها ان هذه الطريقة تستدعي كل شيء في المكتبة والتي قد لا نحتاج الا لجزء يسير من الدوال الموجود في المكتبة. فتؤدي هذه الطريقة الى حشو ذاكرة الكمبيوتر بما لا فائدة منه. ثاني هذه الاسباب هو انه قد يحصل تضارب بين اسماء الدوال الموجودة في المكتبة المستدعاه وأسماء دوال جديدة يمكن ان نقوم بإنشائها بأنفسنا. فمثلا عندما نستورد المكتبة math بالطريقة السابقة ثم نقوم بتعريف دالة جديدة تحمل اسم أحد الدوال الموجودة في المكتبة math فانه يحصل ارتباك لدى المبرمج حول اية دالة تم استخدامها عند تنفيذ البرنامج كما في المثال التالي:\n",
    "</div>"
   ]
  },
  {
   "cell_type": "code",
   "execution_count": null,
   "metadata": {},
   "outputs": [],
   "source": [
    "from math import *\n",
    "def sqrt(number):\n",
    "    return \"Hello \" + str(number)\n",
    "x=sqrt(4)\n",
    "print(x)"
   ]
  },
  {
   "cell_type": "markdown",
   "metadata": {},
   "source": [
    "<div class=arabic>\n",
    "على الرغم ان من يحدد ايتها دالة سوف يستدعيها مفسر بايثون عند تنفيذه الكود البرمجي السابق محكوم بمكان تعريف الدالة الجديدة التي قمنا بإنشائها داخل الكود البرمجي الا ان طريقة الاستدعاء هذه تسبب ارباك لكل من يقرأ الكود البرمجي السابق. \n",
    "لذلك يفضل تحديد الدوال المراد استخدامها حين الاستدعاء بحيث لا يتم استدعاء دوال المكتبة بالكامل بل يكتفى باستدعاء الدوال المحددة فقط كما في المثال التالي:\n",
    "</div>"
   ]
  },
  {
   "cell_type": "code",
   "execution_count": null,
   "metadata": {},
   "outputs": [],
   "source": [
    "from math import sin, pi\n",
    "print(sin(0.5*pi))"
   ]
  },
  {
   "cell_type": "markdown",
   "metadata": {},
   "source": [
    "<div class=arabic>\n",
    "كما يمكن تغيير اسم المكتبة حين الاستدعاء بغرض تبسيط كتابة الكود البرمجي كما في المثال التالي:\n",
    "</div>"
   ]
  },
  {
   "cell_type": "code",
   "execution_count": null,
   "metadata": {},
   "outputs": [],
   "source": [
    "import math as m\n",
    "print(m.sin(0.5*m.pi))"
   ]
  },
  {
   "cell_type": "markdown",
   "metadata": {},
   "source": [
    "<div class=arabic><h2 class=title>المكتبات المدمجة مع اصدارة بايثون</h2></div>"
   ]
  },
  {
   "cell_type": "markdown",
   "metadata": {},
   "source": [
    "<div class=arabic>\n",
    "تحتوي اصدارة بايثون 3 على العديد من المكتبات الداخلية (built-in modules). وسوف نتطرق في هذه الجزئية من الفصل الي ثلاثة من هذه المكتبات وهي os و sys و أخيرا time. اما بقية المكتبات فيمكن استخدام الدالة ()help والتي تعطي تعريف وشروحات وافيه عن أي مكتبة داخلية تكتب داخل قوسي الدالة كما في المثال التالي:\n",
    "</div>"
   ]
  },
  {
   "cell_type": "code",
   "execution_count": null,
   "metadata": {},
   "outputs": [],
   "source": [
    "import random\n",
    "help(random)"
   ]
  },
  {
   "cell_type": "markdown",
   "metadata": {},
   "source": [
    "<div class=arabic>\n",
    "كما يمكن أيضا التعرف على محتويات أي مكتبة بعد استدعائها باستخدام الدالة ()dir كما في المثال التالي:\n",
    "</div>"
   ]
  },
  {
   "cell_type": "code",
   "execution_count": null,
   "metadata": {},
   "outputs": [],
   "source": [
    "import math\n",
    "print(dir(math))"
   ]
  },
  {
   "cell_type": "markdown",
   "metadata": {},
   "source": [
    "<div class=arabic>\n",
    "لاحظ ان ناتج الدالة ()dir هو عبارة قائمة تحوي جميع دوال ومتغيرات المكتبة math. ولو دققت النظر في بيانات القائمة السابقة لوجدت ان الدوال التي تعلمناها من  المكتبة math موجودة بالفعل داخل هذه القائمة.\n",
    "</div>"
   ]
  },
  {
   "cell_type": "markdown",
   "metadata": {},
   "source": [
    "<div class=arabic>\n",
    "   كما يمكن معرفة محتويات اي مكتبة مدمجة من خلال استخدام خلايا الكود في هذا الكتاب. فعند كتابة الامر  import والضغط على الزر tab من لوحة المفاتيح يقوم جوبتر نوت بوك باقتراح قائمة بالمكتبات التي يمكنك ان تستدعيها. وكلما كتبت احرف اكثر من اسم المكتبة التي تريد استدعاؤها كلما كانت اقتراحات جوبتر نوت بوك اكثر دقة لما تنوي استدعاؤه. كما ان خاصية الاكمال الذاتي هذه تساعد المبرمج على مشاهدة محتويات المكتبة من دوال ومتغيرات. فبمجرد كتابة اسم المكتبة واضافة نقطة بعدها ثم الضغط على زر tab من لوحة المفاتيح يبدأ جوبتر بعرض الدوال والمتغيرات التي تحتويها المكتبة لكي تساعد المبرمج على العثور على ما يبحث عنه.\n",
    "</div>"
   ]
  },
  {
   "cell_type": "markdown",
   "metadata": {},
   "source": [
    "<div class=arabic><h2 class=title>مكتبة os</h2></div>"
   ]
  },
  {
   "cell_type": "markdown",
   "metadata": {},
   "source": [
    "<div class=arabic>\n",
    "تسهل مكتبة os التفاعل مع نظام التشغيل الذي يعمل عليه المبرمج سواء كان ذلك نظام ويندوز او ماك او لينكس. وتقدم هذه المكتبة الكثير من الدوال الخاصة بالتعامل مع نظام التشغيل فمثلا يمكن معرفة المجلد الحالي الذي يتواجد فيه البرنامج والذي نعمل على كتابة كوده باستخدام الدالة ()getcwd كما في المثال التالي:\n",
    "</div>"
   ]
  },
  {
   "cell_type": "code",
   "execution_count": null,
   "metadata": {},
   "outputs": [],
   "source": [
    "import os\n",
    "print(os.getcwd())"
   ]
  },
  {
   "cell_type": "markdown",
   "metadata": {},
   "source": [
    "<div class=arabic>\n",
    "كما يمكن أيضا تنفيذ جميع الاوامر التي يمكن تنفيذها على محرر الاوامر في ويندوز او ماك او لينكس من خلال كود بايثون البرمجي باستخدام الدالة ()system بحيث يوضع الامر المراد تنفيذه بين علامتي تنصيص داخل قوسي الدالة كما في المثال التالي:\n",
    "</div>"
   ]
  },
  {
   "cell_type": "code",
   "execution_count": null,
   "metadata": {},
   "outputs": [],
   "source": [
    "import os\n",
    "os.system(\"notepad\")"
   ]
  },
  {
   "cell_type": "markdown",
   "metadata": {},
   "source": [
    "<div class=arabic>\n",
    "وكذلك أيضا يمكن تكوين مجلد باستخدام الدالة ()mkdir وكذلك حذف مجلد باستخدام ()rmdir وايضاً يمكن تغيير موقع المجلد باستخدام الدالة ()chdir وعرض قائمة بأسماء المجلدات باستخدام الدالة ()listdir والكثير الكثير من الدوال الخاصة بالتعامل مع الملفات والمجلدات والتي لا يسع المقام لذكرها هنا ويمكن الاطلاع عليها من خلال وسائل المساعدة التي ذكرناه سابقاً.\n",
    "</div>"
   ]
  },
  {
   "cell_type": "markdown",
   "metadata": {},
   "source": [
    "<div class=arabic><h2 class=title>مكتبة sys </h2></div>"
   ]
  },
  {
   "cell_type": "markdown",
   "metadata": {},
   "source": [
    "<div class=arabic>\n",
    "تمكن مكتبة sys المبرمج بلغة بايثون من التعامل مع كل ما يخص مفسر بايثون. فمثلا يمكن معرفة رقم اصدارة بايثون عن طريق استخدام المتغير version كما في المثال التالي:\n",
    "</div>"
   ]
  },
  {
   "cell_type": "code",
   "execution_count": null,
   "metadata": {},
   "outputs": [],
   "source": [
    "import sys\n",
    "print(sys.version)"
   ]
  },
  {
   "cell_type": "markdown",
   "metadata": {},
   "source": [
    "<div class=arabic>\n",
    "كما يمكن معرفة المجلدات التي سوف يقوم مفسر بايثون بالبحث فيها عند اجراء اي عملية استدعاء سواءً كانت لمكتبة او دالة او فتح لملف وذلك باستخدام المتغير path كما في المثال التالي:\n",
    "</div>"
   ]
  },
  {
   "cell_type": "code",
   "execution_count": 20,
   "metadata": {},
   "outputs": [
    {
     "name": "stdout",
     "output_type": "stream",
     "text": [
      "['C:\\\\Users\\\\al7ak\\\\Documents\\\\python book\\\\Arabic-python-notebook', 'C:\\\\Users\\\\al7ak\\\\anaconda3\\\\python38.zip', 'C:\\\\Users\\\\al7ak\\\\anaconda3\\\\DLLs', 'C:\\\\Users\\\\al7ak\\\\anaconda3\\\\lib', 'C:\\\\Users\\\\al7ak\\\\anaconda3', '', 'C:\\\\Users\\\\al7ak\\\\AppData\\\\Roaming\\\\Python\\\\Python38\\\\site-packages', 'C:\\\\Users\\\\al7ak\\\\anaconda3\\\\lib\\\\site-packages', 'C:\\\\Users\\\\al7ak\\\\anaconda3\\\\lib\\\\site-packages\\\\win32', 'C:\\\\Users\\\\al7ak\\\\anaconda3\\\\lib\\\\site-packages\\\\win32\\\\lib', 'C:\\\\Users\\\\al7ak\\\\anaconda3\\\\lib\\\\site-packages\\\\Pythonwin', 'C:\\\\Users\\\\al7ak\\\\anaconda3\\\\lib\\\\site-packages\\\\IPython\\\\extensions', 'C:\\\\Users\\\\al7ak\\\\.ipython']\n"
     ]
    }
   ],
   "source": [
    "import sys\n",
    "print(sys.path)"
   ]
  },
  {
   "cell_type": "markdown",
   "metadata": {},
   "source": [
    "<div class=arabic>\n",
    "يجب ملاحظة ان ناتج الكود السابق يختلف بحسب اختلاف إعدادات النظام لكل مستخدم وطريقة ونوعية تنصيبه لإصدارة بايثون. فأول مكان يقوم مفسر بايثون بالبحث فيه هو المجلد الذي تم تشغيل الكود البرمجي منه ثم مجلد المكتبات الداخلية (يختلف باختلاف إصدارة بايثون المستخدمة) ومن ثم مجلد  المكتبات الخارجية site-packages.\n",
    "</div>"
   ]
  },
  {
   "cell_type": "markdown",
   "metadata": {},
   "source": [
    "<div class=arabic>\n",
    "كما يمكن استخدام المتغير argv في مكتبة sys للتعرف على المدخلات التي تصاحب ملف بايثون عند تشغيله من محرر أوامر النظام الذي يعمل عليه المستخدم. ولتوضح هذه الفكرة أكثر انشاءنا داخل مجلد كتابنا هذا ملف بايثون اسمه test.py وكتبنا بداخله الكود البرمجي التالي:\n",
    "</div>"
   ]
  },
  {
   "cell_type": "code",
   "execution_count": 21,
   "metadata": {},
   "outputs": [
    {
     "name": "stdout",
     "output_type": "stream",
     "text": [
      "['C:\\\\Users\\\\al7ak\\\\anaconda3\\\\lib\\\\site-packages\\\\ipykernel_launcher.py', '-f', 'C:\\\\Users\\\\al7ak\\\\AppData\\\\Roaming\\\\jupyter\\\\runtime\\\\kernel-957db046-720e-448f-b1b2-088d4bc8db81.json']\n"
     ]
    }
   ],
   "source": [
    "import sys\n",
    "print(sys.argv)"
   ]
  },
  {
   "cell_type": "markdown",
   "metadata": {},
   "source": [
    "<div class=arabic>\n",
    "لنقم الان بتشغيل الملف السابق من محرر الاوامر سواءً كان ذلك في ويندوز او في غيره من الانظمة. وللقيام بذلك من خلال خلية كود في هذا الكتاب سوف نستخدم علامة التعجب ! قبل امر تشغيل الملف كما في المثال التالي:\n",
    "</div>"
   ]
  },
  {
   "cell_type": "code",
   "execution_count": 22,
   "metadata": {},
   "outputs": [
    {
     "name": "stdout",
     "output_type": "stream",
     "text": [
      "['test.py']\n"
     ]
    }
   ],
   "source": [
    "!python test.py"
   ]
  },
  {
   "cell_type": "markdown",
   "metadata": {},
   "source": [
    "<div class=arabic>\n",
    "بعد كتابة الامر python test.py والضغط على زر الادخال يتم تشغيل الملف الذي كتبناه بلغة بايثون والذي يقوم بطباعة قيمة المتغير argv. المتغير argv الذي تم طباعته هنا هو عبارة عن قائمة تحتوي على اسم الملف الذي قمنا بتشغيله. ويمكن إضافة بيانات الى المتغير argv وذلك بكتابتها بعد اسم الملف عند التشغيل كما في المثال التالي:\n",
    "</div>"
   ]
  },
  {
   "cell_type": "code",
   "execution_count": 23,
   "metadata": {},
   "outputs": [
    {
     "name": "stdout",
     "output_type": "stream",
     "text": [
      "['test.py', '1', '2', '3']\n"
     ]
    }
   ],
   "source": [
    "!python test.py 1 2 3"
   ]
  },
  {
   "cell_type": "markdown",
   "metadata": {},
   "source": [
    "<div class=arabic>\n",
    "لا حظ ان كل شيء يكتب بعد اسم الملف حين تشغيله يتعامل معه مفسر بايثون على انه مدخل يتم اضافته الى قائمة argv ويجب ملاحظة ان الفصل بين البيانات يتم بواسطة ترك مسافة بين كل مدخل وآخر كما هو واضح في المثال السابق. وتعتبر طريقة الادخال هذه شائعة الاستخدام للبرامج التي يتم تشغيلها من محرر أوامر النظام.\n",
    "</div>"
   ]
  },
  {
   "cell_type": "markdown",
   "metadata": {},
   "source": [
    "<div class=arabic><h2 class=title>تمارين استكشافية</h2></div>"
   ]
  },
  {
   "cell_type": "markdown",
   "metadata": {},
   "source": [
    "<div class=arabic>\n",
    "١- قم بكتابة برنامج يستغل خاصية ادخال البيانات عند التشغيل بحيث يقوم بجمع الاعداد المدخلة وطباعة ناتج الجمع على شاشة الكمبيوتر؟\n",
    "</div>"
   ]
  },
  {
   "cell_type": "markdown",
   "metadata": {},
   "source": [
    "<div class=arabic><h2 class=title>مكتبة time</h2></div>"
   ]
  },
  {
   "cell_type": "markdown",
   "metadata": {},
   "source": [
    "<div class=arabic>\n",
    "مكتبة time الداخلية تحتوي على العديد من الدوال التي تساعد المبرمج على القيام بمهام متعلقة بالوقت. فمثلا يمكن استخدام الدالة ()time لمعرفة الوقت بعدد الثوان التي مضت منذ الساعة 12 صباحاً من اليوم الاول لشهر يناير لعالم 1970 كما في المثال التالي:\n",
    "</div>"
   ]
  },
  {
   "cell_type": "code",
   "execution_count": 24,
   "metadata": {},
   "outputs": [
    {
     "data": {
      "text/plain": [
       "1605288992.1210752"
      ]
     },
     "execution_count": 24,
     "metadata": {},
     "output_type": "execute_result"
    }
   ],
   "source": [
    "import time\n",
    "time.time()"
   ]
  },
  {
   "cell_type": "markdown",
   "metadata": {},
   "source": [
    "<div class=arabic>\n",
    "قد لا تكون صيغة الوقت هذه مفيدة للكثير لكن يمكن تحويل هذه الثواني لصيغة وقت مألوفة باستخدام الدالة ()ctime كما في المثال التالي:\n",
    "</div>"
   ]
  },
  {
   "cell_type": "code",
   "execution_count": 25,
   "metadata": {},
   "outputs": [
    {
     "data": {
      "text/plain": [
       "'Fri Nov 13 20:36:32 2020'"
      ]
     },
     "execution_count": 25,
     "metadata": {},
     "output_type": "execute_result"
    }
   ],
   "source": [
    "import time\n",
    "t=time.time()\n",
    "time.ctime(t)"
   ]
  },
  {
   "cell_type": "markdown",
   "metadata": {},
   "source": [
    "<div class=arabic>\n",
    "الدالة ()ctime تعطي صيغة الوقت المألوفة عندما نزودها بعدد الثوان التي مرت منذ ذلك التاريخ لكن عندما نستخدمها بدون أي مدخلات فإنها تعطينا الوقت الحالي بالصيغة المألوفة كما في المثال التالي:\n",
    "</div>"
   ]
  },
  {
   "cell_type": "code",
   "execution_count": 26,
   "metadata": {},
   "outputs": [
    {
     "name": "stdout",
     "output_type": "stream",
     "text": [
      "Fri Nov 13 20:36:32 2020\n"
     ]
    }
   ],
   "source": [
    "import time\n",
    "print(time.ctime())"
   ]
  },
  {
   "cell_type": "markdown",
   "metadata": {},
   "source": [
    "<div class=arabic>\n",
    "كما يمكن تأجيل تنفيذ أي سطر برمجي يقع بعد الدالة ()sleep لعدد معين من الثوان توضع بين قوسي الدالة كما في المثال التالي:\n",
    "</div>"
   ]
  },
  {
   "cell_type": "code",
   "execution_count": 27,
   "metadata": {},
   "outputs": [
    {
     "name": "stdout",
     "output_type": "stream",
     "text": [
      "Fri Nov 13 20:36:32 2020\n",
      "Fri Nov 13 20:36:37 2020\n"
     ]
    }
   ],
   "source": [
    "import time\n",
    "print(time.ctime())\n",
    "time.sleep(5)\n",
    "print(time.ctime())"
   ]
  },
  {
   "cell_type": "markdown",
   "metadata": {},
   "source": [
    "<div class=arabic>\n",
    "كما يجب عليك ملاحظة ان معظم دوال المكتبة time تتعامل مع كائن برمجي للوقت ينتج من تنفيذ بعض الدوال بحيث يكون تكوين هذا الكائن البرمجي مجزأ الى أجزاء الوقت المعروفة من سنة وشهر ويوم وساعة الى ...الخ. بحيث تسهل على المبرمج التعامل مع أجزاء الوقت وكتابتها بالطريقة التي يرغب بها. فعند استدعاء الدالة ()localtime يتم ارجاع كائن الوقت الخاص بالمكان الحالي وكذلك الدالة ()gmtime تقوم بارجاع كائن خاص بوقت جرينتش كما في المثال التالي:\n",
    "</div>"
   ]
  },
  {
   "cell_type": "code",
   "execution_count": 28,
   "metadata": {},
   "outputs": [
    {
     "name": "stdout",
     "output_type": "stream",
     "text": [
      "time.struct_time(tm_year=2020, tm_mon=11, tm_mday=13, tm_hour=20, tm_min=36, tm_sec=37, tm_wday=4, tm_yday=318, tm_isdst=0)\n",
      "time.struct_time(tm_year=2020, tm_mon=11, tm_mday=13, tm_hour=17, tm_min=36, tm_sec=37, tm_wday=4, tm_yday=318, tm_isdst=0)\n",
      "20\n"
     ]
    }
   ],
   "source": [
    "import time\n",
    "Makkah_time=time.localtime()\n",
    "London_time=time.gmtime()\n",
    "print(Makkah_time)\n",
    "print(London_time)\n",
    "print(Makkah_time.tm_hour)"
   ]
  },
  {
   "cell_type": "markdown",
   "metadata": {},
   "source": [
    "<div class=arabic><h2 class=title>تمارين استكشافية</h2></div>"
   ]
  },
  {
   "cell_type": "markdown",
   "metadata": {},
   "source": [
    "<div class=arabic>\n",
    "١- قم بكتابة برنامج يقوم بحساب فارق التوقيت بين مكة ولندن وطباعة الناتج على شاشة الكمبيوتر؟\n",
    "</div>"
   ]
  },
  {
   "cell_type": "markdown",
   "metadata": {},
   "source": [
    "<div class=arabic>\n",
    "كما يمكن إعادة صياغة الوقت بالطريقة التي نرغب بها باستخدام الدالة ()strftime كما في المثال التالي:\n",
    "</div>"
   ]
  },
  {
   "cell_type": "code",
   "execution_count": 29,
   "metadata": {},
   "outputs": [
    {
     "name": "stdout",
     "output_type": "stream",
     "text": [
      "11/13/2020, 20:36:37\n"
     ]
    }
   ],
   "source": [
    "import time\n",
    "Makkah_time = time.localtime() \n",
    "formatted_time = time.strftime(\"%m/%d/%Y, %H:%M:%S\", Makkah_time)\n",
    "print(formatted_time)"
   ]
  },
  {
   "cell_type": "markdown",
   "metadata": {},
   "source": [
    "<div class=arabic>\n",
    "في المثال السابق تم وضع صيغة الوقت المطلوبة على شكل نص كمدخل اول للدالة وكائن الوقت وضع كمدخل ثان. ولحل شفرة رموز شفرة الوقت السابقة يمكن الاستعانة بالجدول التالي:\n",
    "</div>"
   ]
  },
  {
   "cell_type": "markdown",
   "metadata": {},
   "source": [
    "|\tالمعنى|الرمز|\n",
    "|--|--|\n",
    "|السنة من 4 ارقام|%Y|\t\n",
    "|السنة في رقمين|%y|\t\n",
    "|الشهر|%m|\t\n",
    "|اليوم|%d|\t\n",
    "|الساعة|%H|\t\n",
    "|الدقيقة|%M|\t\n",
    "|الثانية|%S|\t\n"
   ]
  },
  {
   "cell_type": "markdown",
   "metadata": {},
   "source": [
    "<div class=arabic>\n",
    "    <h2 class=title>طريقة تنصيب مكتبة خارجية</h2>\n",
    "</div>"
   ]
  },
  {
   "cell_type": "markdown",
   "metadata": {},
   "source": [
    "<div class=arabic>\n",
    "في الإصدارات الحديثة من بايثون تم دمج الأداة المستخدمة لإضافة المكتبات الخارجية مع مفسر بايثون بحيث ان هذه الأداة تكون متوفرة بمجرد تنصيب اصدارة بايثون. تختلف هذه الأداة بحسب التوزيعة المستخدمة. فالأداة pip تأتي مع الاصدارة الأساسية. اما توزيعة Anaconda فلها أداة تنصيب خاصة بها تسمى conda تؤدي نفس وظائف الأداة pip. ولشرح طريقة استخدام pip لنستعرض أولا المكتبات التي تم تنصيبها داخل اصدارة بايثون وذلك باستخدام الامر pip list من محرر أوامر النظام كما في المثال التالي:\n",
    "</div>"
   ]
  },
  {
   "cell_type": "code",
   "execution_count": 30,
   "metadata": {},
   "outputs": [
    {
     "name": "stdout",
     "output_type": "stream",
     "text": [
      "Package                            Version\n",
      "---------------------------------- -------------------\n",
      "alabaster                          0.7.12\n",
      "anaconda-client                    1.7.2\n",
      "anaconda-navigator                 1.9.12\n",
      "anaconda-project                   0.8.3\n",
      "appdirs                            1.4.4\n",
      "argh                               0.26.2\n",
      "asn1crypto                         1.3.0\n",
      "astroid                            2.4.2\n",
      "astropy                            4.0.1.post1\n",
      "atomicwrites                       1.4.0\n",
      "attrs                              19.3.0\n",
      "autopep8                           1.5.3\n",
      "Babel                              2.8.0\n",
      "backcall                           0.2.0\n",
      "backports.functools-lru-cache      1.6.1\n",
      "backports.shutil-get-terminal-size 1.0.0\n",
      "backports.tempfile                 1.0\n",
      "backports.weakref                  1.0.post1\n",
      "bcrypt                             3.1.7\n",
      "beautifulsoup4                     4.9.1\n",
      "bitarray                           1.4.0\n",
      "bkcharts                           0.2\n",
      "bleach                             3.1.5\n",
      "bokeh                              2.1.1\n",
      "boto                               2.49.0\n",
      "Bottleneck                         1.3.2\n",
      "brotlipy                           0.7.0\n",
      "certifi                            2020.6.20\n",
      "cffi                               1.14.0\n",
      "chardet                            3.0.4\n",
      "click                              7.1.2\n",
      "cloudpickle                        1.5.0\n",
      "clyent                             1.2.2\n",
      "colorama                           0.4.3\n",
      "comtypes                           1.1.7\n",
      "conda                              4.9.1\n",
      "conda-build                        3.18.11\n",
      "conda-package-handling             1.7.0\n",
      "conda-verify                       3.4.2\n",
      "contextlib2                        0.6.0.post1\n",
      "cryptography                       2.9.2\n",
      "cycler                             0.10.0\n",
      "Cython                             0.29.21\n",
      "cytoolz                            0.10.1\n",
      "dask                               2.20.0\n",
      "decorator                          4.4.2\n",
      "defusedxml                         0.6.0\n",
      "diff-match-patch                   20200713\n",
      "distributed                        2.20.0\n",
      "docutils                           0.16\n",
      "entrypoints                        0.3\n",
      "et-xmlfile                         1.0.1\n",
      "fastcache                          1.1.0\n",
      "filelock                           3.0.12\n",
      "flake8                             3.8.3\n",
      "Flask                              1.1.2\n",
      "fsspec                             0.7.4\n",
      "future                             0.18.2\n",
      "gevent                             20.6.2\n",
      "glob2                              0.7\n",
      "gmpy2                              2.0.8\n",
      "greenlet                           0.4.16\n",
      "h5py                               2.10.0\n",
      "handcalcs                          0.8.1\n",
      "HeapDict                           1.0.1\n",
      "html2text                          2020.1.16\n",
      "html5lib                           1.1\n",
      "iapws                              1.5.2\n",
      "idna                               2.10\n",
      "imageio                            2.9.0\n",
      "imagesize                          1.2.0\n",
      "importlib-metadata                 1.7.0\n",
      "intervaltree                       3.0.2\n",
      "ipykernel                          5.3.2\n",
      "ipython                            7.16.1\n",
      "ipython-genutils                   0.2.0\n",
      "ipywidgets                         7.5.1\n",
      "isort                              4.3.21\n",
      "itsdangerous                       1.1.0\n",
      "jdcal                              1.4.1\n",
      "jedi                               0.17.1\n",
      "Jinja2                             2.11.2\n",
      "joblib                             0.16.0\n",
      "json5                              0.9.5\n",
      "jsonschema                         3.2.0\n",
      "jupyter                            1.0.0\n",
      "jupyter-client                     6.1.6\n",
      "jupyter-console                    6.1.0\n",
      "jupyter-core                       4.6.3\n",
      "jupyterlab                         2.1.5\n",
      "jupyterlab-server                  1.2.0\n",
      "keyring                            21.2.1\n",
      "kiwisolver                         1.2.0\n",
      "klembord                           0.2.1\n",
      "lazy-object-proxy                  1.4.3\n",
      "libarchive-c                       2.9\n",
      "llvmlite                           0.33.0+1.g022ab0f\n",
      "locket                             0.2.0\n",
      "lxml                               4.5.2\n",
      "MarkupSafe                         1.1.1\n",
      "matplotlib                         3.3.2\n",
      "mccabe                             0.6.1\n",
      "menuinst                           1.4.16\n",
      "mistune                            0.8.4\n",
      "mkl-fft                            1.1.0\n",
      "mkl-random                         1.1.1\n",
      "mkl-service                        2.3.0\n",
      "mock                               4.0.2\n",
      "more-itertools                     8.4.0\n",
      "mpmath                             1.1.0\n",
      "msgpack                            1.0.0\n",
      "multipledispatch                   0.6.0\n",
      "navigator-updater                  0.2.1\n",
      "nbconvert                          5.6.1\n",
      "nbformat                           5.0.7\n",
      "networkx                           2.4\n",
      "nltk                               3.5\n",
      "nose                               1.3.7\n",
      "notebook                           6.0.3\n",
      "notebook-as-pdf                    0.3.1\n",
      "numba                              0.50.1\n",
      "numexpr                            2.7.1\n",
      "numpy                              1.19.3\n",
      "numpydoc                           1.1.0\n",
      "olefile                            0.46\n",
      "openpyxl                           3.0.4\n",
      "packaging                          20.4\n",
      "pandas                             1.0.5\n",
      "pandocfilters                      1.4.2\n",
      "paramiko                           2.7.1\n",
      "parso                              0.7.0\n",
      "partd                              1.1.0\n",
      "path                               13.1.0\n",
      "pathlib2                           2.3.5\n",
      "pathtools                          0.1.2\n",
      "patsy                              0.5.1\n",
      "pep8                               1.7.1\n",
      "pexpect                            4.8.0\n",
      "pickleshare                        0.7.5\n",
      "Pillow                             8.0.1\n",
      "Pint                               0.15\n",
      "pip                                20.1.1\n",
      "pkginfo                            1.5.0.1\n",
      "pluggy                             0.13.1\n",
      "ply                                3.11\n",
      "progressbar                        2.5\n",
      "prometheus-client                  0.8.0\n",
      "prompt-toolkit                     3.0.5\n",
      "psutil                             5.7.0\n",
      "py                                 1.9.0\n",
      "pycodestyle                        2.6.0\n",
      "pycosat                            0.6.3\n",
      "pycparser                          2.20\n",
      "pycurl                             7.43.0.5\n",
      "pydocstyle                         5.0.2\n",
      "pyee                               7.0.4\n",
      "pyflakes                           2.2.0\n",
      "Pygments                           2.6.1\n",
      "pylint                             2.5.3\n",
      "PyNaCl                             1.4.0\n",
      "pyodbc                             4.0.0-unsupported\n",
      "pyOpenSSL                          19.1.0\n",
      "pyparsing                          2.4.7\n",
      "PyPDF2                             1.26.0\n",
      "pyperclip                          1.8.0\n",
      "pyppeteer                          0.2.2\n",
      "PyQt5                              5.15.1\n",
      "PyQt5-sip                          12.8.1\n",
      "pyreadline                         2.1\n",
      "pyrsistent                         0.16.0\n",
      "PySocks                            1.7.1\n",
      "pytest                             5.4.3\n",
      "python-dateutil                    2.8.1\n",
      "python-jsonrpc-server              0.3.4\n",
      "python-language-server             0.34.1\n",
      "pytz                               2020.1\n",
      "PyWavelets                         1.1.1\n",
      "pywin32                            227\n",
      "pywin32-ctypes                     0.2.0\n",
      "pywinpty                           0.5.7\n",
      "PyYAML                             5.3.1\n",
      "pyzmq                              19.0.1\n",
      "QDarkStyle                         2.8.1\n",
      "QtAwesome                          0.7.2\n",
      "qtconsole                          4.7.5\n",
      "QtPy                               1.9.0\n",
      "regex                              2020.6.8\n",
      "requests                           2.24.0\n",
      "rope                               0.17.0\n",
      "Rtree                              0.9.4\n",
      "ruamel-yaml                        0.15.87\n",
      "scikit-image                       0.16.2\n",
      "scikit-learn                       0.23.1\n",
      "scipy                              1.5.4\n",
      "seaborn                            0.10.1\n",
      "selenium                           3.141.0\n",
      "Send2Trash                         1.5.0\n",
      "setuptools                         49.2.0.post20200714\n",
      "simplegeneric                      0.8.1\n",
      "singledispatch                     3.4.0.3\n",
      "sip                                4.19.13\n",
      "six                                1.15.0\n",
      "snowballstemmer                    2.0.0\n",
      "sortedcollections                  1.2.1\n",
      "sortedcontainers                   2.2.2\n",
      "soupsieve                          2.0.1\n",
      "Sphinx                             3.1.2\n",
      "sphinxcontrib-applehelp            1.0.2\n",
      "sphinxcontrib-devhelp              1.0.2\n",
      "sphinxcontrib-htmlhelp             1.0.3\n",
      "sphinxcontrib-jsmath               1.0.1\n",
      "sphinxcontrib-qthelp               1.0.3\n",
      "sphinxcontrib-serializinghtml      1.1.4\n",
      "sphinxcontrib-websupport           1.2.3\n",
      "spyder                             4.1.4\n",
      "spyder-kernels                     1.9.2\n",
      "SQLAlchemy                         1.3.18\n",
      "statsmodels                        0.11.1\n",
      "sympy                              1.6.1\n",
      "tables                             3.6.1\n",
      "tblib                              1.6.0\n",
      "terminado                          0.8.3\n",
      "testpath                           0.4.4\n",
      "threadpoolctl                      2.1.0\n",
      "toml                               0.10.1\n",
      "toolz                              0.10.0\n",
      "tornado                            6.0.4\n",
      "tqdm                               4.47.0\n",
      "traitlets                          4.3.3\n",
      "typing-extensions                  3.7.4.2\n",
      "ujson                              1.35\n",
      "unicodecsv                         0.14.1\n",
      "urllib3                            1.25.9\n",
      "watchdog                           0.10.3\n",
      "wcwidth                            0.2.5\n",
      "webencodings                       0.5.1\n",
      "websockets                         8.1\n",
      "Werkzeug                           1.0.1\n",
      "wheel                              0.34.2\n",
      "widgetsnbextension                 3.5.1\n",
      "win-inet-pton                      1.1.0\n",
      "win-unicode-console                0.5\n",
      "wincertstore                       0.2\n",
      "wrapt                              1.11.2\n",
      "xlrd                               1.2.0\n",
      "XlsxWriter                         1.2.9\n",
      "xlwings                            0.19.5\n",
      "xlwt                               1.3.0\n",
      "xmltodict                          0.12.0\n",
      "yapf                               0.30.0\n",
      "zict                               2.0.0\n",
      "zipp                               3.1.0\n",
      "zope.event                         4.4\n",
      "zope.interface                     4.7.1\n"
     ]
    }
   ],
   "source": [
    "!pip list"
   ]
  },
  {
   "cell_type": "markdown",
   "metadata": {},
   "source": [
    "<div class=arabic>\n",
    "فالمثال السابق قام بطباعة كافة المكتبات المنصبة على اصدارة بايثون وارقام اصداراتها.\n",
    "</div>"
   ]
  },
  {
   "cell_type": "markdown",
   "metadata": {},
   "source": [
    "<div class=arabic>\n",
    "فاذا كانت المكتبة التي ترغب باستخدامها ليست موجود في هذه القائمة فان بإمكانك تنصيبها عن طريق استخدام الامر pip install متبوعاً باسم المكتبة المطلوبة كما في المثال التالي:\n",
    "</div>"
   ]
  },
  {
   "cell_type": "code",
   "execution_count": 31,
   "metadata": {},
   "outputs": [
    {
     "name": "stdout",
     "output_type": "stream",
     "text": [
      "Requirement already satisfied: progressbar in c:\\users\\al7ak\\anaconda3\\lib\\site-packages (2.5)\n"
     ]
    }
   ],
   "source": [
    "!pip install progressbar"
   ]
  },
  {
   "cell_type": "markdown",
   "metadata": {},
   "source": [
    "<div class=arabic>\n",
    "في المثال السابق قمنا بتنصيب المكتبة progressbar والتي تعتبر من المكتبات الصغيرة بحيث تساعد المبرمج في تكوين كائن مرئ يوضح مدى التقدم في انجاز مهمة ما. وعند اكتمال التنصيب تعطي الأداة pip رسالة بنجاح عملية التنصيب للمكتبة. المثال التالي يوضح طريقة استخدام هذه المكتبة بعد تنصيبها:\n",
    "</div>"
   ]
  },
  {
   "cell_type": "code",
   "execution_count": 32,
   "metadata": {},
   "outputs": [
    {
     "name": "stderr",
     "output_type": "stream",
     "text": [
      "100% |########################################################################|\n"
     ]
    }
   ],
   "source": [
    "from time import sleep\n",
    "from progressbar import ProgressBar\n",
    "bar=ProgressBar()\n",
    "for i in bar(range(50)):\n",
    "    sleep(0.5)"
   ]
  },
  {
   "cell_type": "markdown",
   "metadata": {},
   "source": [
    "<div class=arabic>\n",
    "اما إذا كانت المكتبة منصبة لديك من قبل وترغب فقط بتحديثها فانه بإمكانك استخدام خيار التحديث كما في المثال التالي:\n",
    "</div>"
   ]
  },
  {
   "cell_type": "code",
   "execution_count": 33,
   "metadata": {},
   "outputs": [
    {
     "name": "stdout",
     "output_type": "stream",
     "text": [
      "Requirement already up-to-date: progressbar in c:\\users\\al7ak\\anaconda3\\lib\\site-packages (2.5)\n",
      "Note: you may need to restart the kernel to use updated packages.\n"
     ]
    }
   ],
   "source": [
    "pip install --upgrade progressbar"
   ]
  },
  {
   "cell_type": "markdown",
   "metadata": {},
   "source": [
    "<div class=arabic>\n",
    "حيث اعطانا الامر السابق ان مكتبة progressbar المنصبة على هي أحدث اصدارة موجودة ولا تحتاج الى تحديث. اما إذا كانت الاصدارة قديمة فان pip سوف يقوم بتنصيب اصدارة المكتبة الاحدث من موقع https://pypi.org.\n",
    "اما الأداة conda فإنها تعمل تقريبا بنفس الطريق التي تعمل بها الأداة pip. لذلك اعتقد انه لا داعي للحديث عنها هنا ويمكن استخدام محرك البحث قوقل لتعرف عليها أكثر.\n",
    "\n",
    "</div>"
   ]
  },
  {
   "cell_type": "markdown",
   "metadata": {},
   "source": [
    "<div class=arabic><h2 class=title>طريقة انشاء مكتبة</h2></div>"
   ]
  },
  {
   "cell_type": "markdown",
   "metadata": {},
   "source": [
    "<div class=arabic>\n",
    "كما ذكرنا في بداية الفصل مكتبات بايثون هي مجرد ملف بايثون اعتيادي ينتهي بالحرفين py. ويحتوي على كائنات برمجية ودوال ومتغيرات خاصة بموضوع معين. ولكي نوضح سهولة طريقة انشاء أي مكتبة لنفرض اننا بصدد انشاء مكتبة خاصة بتحويل الوحدات الطولية (متر، سنتيمتر، مليمتر، مايكرومتر) ولنفرض ان اسمها meter. للقيام بهذه المهمة سوف نفتح ملف جديد ونحفظه باسم meter.py ثم نبدأ بكتابة الكود البرمجي التالي بداخله:\n",
    "</div>"
   ]
  },
  {
   "cell_type": "code",
   "execution_count": 34,
   "metadata": {},
   "outputs": [],
   "source": [
    "'''This module has been built to convert between the different\n",
    "   units of length'''\n",
    "def to_cm(number):\n",
    "    '''This function converts meter to centimeter'''\n",
    "    return number*100\n",
    "\n",
    "def to_mm(number):\n",
    "    '''This function converts meter to millimeter'''\n",
    "    return number*1000\n",
    "\n",
    "def to_micro(number):\n",
    "    '''This function converts meter to micrometer'''\n",
    "    return number*10e6\n",
    "\n",
    "def from_cm(number):\n",
    "    '''This function converts centimeter to meter'''\n",
    "    return number/100\n",
    "\n",
    "def from_mm(number):\n",
    "    '''This function converts millimeter to meter'''\n",
    "    return number/1000\n",
    "def from_micro(number):\n",
    "    '''This function converts micrometer to meter'''\n",
    "    return number/10e6"
   ]
  },
  {
   "cell_type": "markdown",
   "metadata": {},
   "source": [
    "<div class=arabic>\n",
    "الآن لنفتح ملف بايثون جديد ونحاول استدعاء المكتبة meter التي قمنا بإنشائها. يجب ملاحظة ان ملف المكتبة التي قمنا بإنشائها والملف الذي سوف نستدعيه من خلاله المكتبة يجب ان يكونا في مجلد واحد لكي يعثر مفسر بايثون على المكتبة كما تعلمنا سابقاً حين استعرضنا مكتبة sys ودالتها ()path. \n",
    "</div>"
   ]
  },
  {
   "cell_type": "code",
   "execution_count": 35,
   "metadata": {},
   "outputs": [
    {
     "data": {
      "text/plain": [
       "400"
      ]
     },
     "execution_count": 35,
     "metadata": {},
     "output_type": "execute_result"
    }
   ],
   "source": [
    "import meter\n",
    "meter.to_cm(4)"
   ]
  },
  {
   "cell_type": "markdown",
   "metadata": {},
   "source": [
    "<div class=arabic>\n",
    "كما تلاحظ من المثال السابق ان المكتبة التي قمنا بإنشائها تعمل كأي مكتبة موجودة داخل اصدارة بايثون. فمثلا يمكن ان نتعرف على الشروحات التي كتبناها عن المكتبة بين علامة التنصيص الثلاثية باستخدام المتغير __doc__ كما يلي:\n",
    "</div>"
   ]
  },
  {
   "cell_type": "code",
   "execution_count": 47,
   "metadata": {},
   "outputs": [
    {
     "data": {
      "text/plain": [
       "'This module has been built to convert between the different\\n   units of length'"
      ]
     },
     "execution_count": 47,
     "metadata": {},
     "output_type": "execute_result"
    }
   ],
   "source": [
    "import meter\n",
    "meter.__doc__"
   ]
  },
  {
   "cell_type": "markdown",
   "metadata": {},
   "source": [
    "<div class=arabic>\n",
    "كما يمكن استعراض محتويات المكتبة meter باستخدام الدالة ()dir كما يلي:\n",
    "</div>"
   ]
  },
  {
   "cell_type": "code",
   "execution_count": 46,
   "metadata": {},
   "outputs": [
    {
     "data": {
      "text/plain": [
       "['__builtins__',\n",
       " '__cached__',\n",
       " '__doc__',\n",
       " '__file__',\n",
       " '__loader__',\n",
       " '__name__',\n",
       " '__package__',\n",
       " '__spec__',\n",
       " 'from_cm',\n",
       " 'from_micro',\n",
       " 'from_mm',\n",
       " 'to_cm',\n",
       " 'to_micro',\n",
       " 'to_mm']"
      ]
     },
     "execution_count": 46,
     "metadata": {},
     "output_type": "execute_result"
    }
   ],
   "source": [
    "import meter\n",
    "dir(meter)"
   ]
  },
  {
   "cell_type": "markdown",
   "metadata": {},
   "source": [
    "<div class=arabic>\n",
    "لاحظ ان المتغيرات التي تبتدأ بشرطتين وتنتهي بشرطتين لم نقم بكتابتها داخل المكتبة ولكن بايثون قام بإنشائها بشكل تلقائي.\n",
    "كما يجب ملاحظة ان ملف المكتبة التي انشأناها ليس بالضرورة ان يكون في نفس المجلد الذي سوف نستدعي منه المكتبة. فعندما نرغب في وضع المكتبة في مكان اخر وليكن في المجلد modules الموجود في مجلد الكتاب هذا فانه يجب علينا ان نخبر مفسر بايثون بان يبحث في المجلد الذي وضعت فيه المكتبة وذلك من خلال إضافة هذا المجلد الي القائمة التي سوف يبحث فيها مفسر بايثون عن المكتبة كما في المثال التالي:\n",
    "</div>"
   ]
  },
  {
   "cell_type": "code",
   "execution_count": 52,
   "metadata": {},
   "outputs": [
    {
     "name": "stdout",
     "output_type": "stream",
     "text": [
      "500\n"
     ]
    }
   ],
   "source": [
    "import sys\n",
    "sys.path.append('/units')\n",
    "\n",
    "import meter\n",
    "print(meter.to_cm(5))"
   ]
  },
  {
   "cell_type": "markdown",
   "metadata": {},
   "source": [
    "<div class=arabic>\n",
    "لاحظ اننا قمنا بإضافة المجلد الذي يحتوي على المكتبة meter الى قائمة الاماكن التي يبحث فيها مفسر بايثون عن المكتبات بواسطة الدالة ()append قبل ان نقوم باستدعاء المكتبة meter.\n",
    "</div>"
   ]
  },
  {
   "cell_type": "markdown",
   "metadata": {},
   "source": [
    "<div class=arabic>\n",
    "كما يمكن أيضا إضافة المكتبة الى مجلد خاص تم تحديده من قبل مفسر بايثون ليكون خاص بمكتبات المستخدم. ولتعرف على هذا المجلد نقوم باستدعاء المتغير USER_SITE من مكتبة site الداخلية كما في المثال التالي:\n",
    "</div>"
   ]
  },
  {
   "cell_type": "code",
   "execution_count": 50,
   "metadata": {},
   "outputs": [
    {
     "name": "stdout",
     "output_type": "stream",
     "text": [
      "C:\\Users\\al7ak\\AppData\\Roaming\\Python\\Python38\\site-packages\n"
     ]
    }
   ],
   "source": [
    "import site\n",
    "print(site.USER_SITE)"
   ]
  },
  {
   "cell_type": "markdown",
   "metadata": {},
   "source": [
    "<div class=arabic>\n",
    "المجلد الذي ينتج عن تنفيذ الكود السابق يختلف باختلاف اصدارة بايثون المستخدمة ويختلف أيضا باختلاف نظام التشغيل المستخدم. وفي غالب الأحيان لا يكون هذا المجلد موجود ويجب علينا انشاءه ومن ثم وضع المكتبة التي انشأناها بداخله لكي يتم التعرف عليها.\n",
    "</div>"
   ]
  },
  {
   "cell_type": "markdown",
   "metadata": {},
   "source": [
    "<div class=arabic><h2 class=title>تمارين استكشافية</h2></div>"
   ]
  },
  {
   "cell_type": "markdown",
   "metadata": {},
   "source": [
    "<div class=arabic>\n",
    "١- قم بتطوير مكتبة meter لكي تقوم بالتحويل من سنتيمتر الى ميليمتر والعكس ومن سنتيمتر الى مايكرومتر والعكس؟\n",
    "</div>"
   ]
  },
  {
   "cell_type": "markdown",
   "metadata": {},
   "source": [
    "<div class=arabic>\n",
    "وقبل ان نختم هذا الفصل نود نبين انه يمكن عمل رزمة من المكتبات package والتي هي عبارة عن مجموعة من المكتبات التي يحويها مجلد واحد. فعند انشاء مكتبة جديدة لتحويل درجات الحرارة وليكن اسمها مثلا temperature.py بحيث توضع هذه المكتبة الي جانب المكتبة meter السابقة في مجلد واحد وليكن اسم المجلد units فان مفسر بايثون يشترط للتعرف على هذه المكتبات ان يقوم المبرمج بإنشاء ملف فارغ داخل هذا المجلد بحيث يكون اسم هذا الملف __init__.py كما هو موضح بالشكل التالي:\n",
    "</div>"
   ]
  },
  {
   "attachments": {
    "image.png": {
     "image/png": "[encoded data removed]"
    }
   },
   "cell_type": "markdown",
   "metadata": {},
   "source": [
    "![image.png](attachment:image.png)"
   ]
  },
  {
   "cell_type": "markdown",
   "metadata": {},
   "source": [
    "<div class=arabic>\n",
    "كما يجب ملاحظة ان الشروط اللازمة لعثور مفسر بايثون على مكتبة معينة تنطبق على رزمة المكتبات كما وضحنا سابقاً. ويمكن استدعاء المكتبة meter من رزمة المكتبات units كما يلي:\n",
    "</div>"
   ]
  },
  {
   "cell_type": "code",
   "execution_count": 54,
   "metadata": {},
   "outputs": [
    {
     "name": "stdout",
     "output_type": "stream",
     "text": [
      "1.0\n"
     ]
    }
   ],
   "source": [
    "import sys\n",
    "sys.path.append('units')\n",
    "\n",
    "from units import meter\n",
    "print(meter.from_cm(100))"
   ]
  },
  {
   "cell_type": "markdown",
   "metadata": {},
   "source": [
    "<div class=arabic>\n",
    "<hr class=horizontal>\n",
    "<center>\n",
    "<a id=\"chapter9\"></a>\n",
    "<h1 class=title>\n",
    "الفصل التاسع : البرمجة الكائنية في بايثون\n",
    "</h1>\n",
    "</center>\n",
    "<hr class=horizontal>\n",
    "</div>"
   ]
  },
  {
   "cell_type": "markdown",
   "metadata": {},
   "source": [
    "<div class=arabic>\n",
    "في الفصول السابقة كنا نعتمد في كتابتنا للبرامج على الأسلوب التسلسلي والذي عادة ما يكون مناسبا لكتابة البرامج الصغيرة فقط. لكن عندما يراد كتابة برامج كبيرة متعددة المهام فان استخدام الأسلوب التسلسلي يصبح غير مجد وذلك لسببين:\n",
    "    <br>\n",
    "    أولا: تصبح عملية التطوير شاقة عندما يراد إضافة مزايا ومهام جديدة في البرنامج.\n",
    "    <br>\n",
    "    ثانيا: ترابط الكود بشكل تسلسلي يجعل عملية اصلاح المشاكل في البرنامج غاية في الصعوبة وذلك لان اصلاح واضافة جزء من البرنامج قد يترتب عليه احداث مشكال جديدة في أجزاء أخرى من البرنامج.\n",
    "    <br>\n",
    "    لذلك سوف نتطرق في هذا الفصل الى التعرف على أسلوب جديد في كتابة الأكواد البرمجية يدعى البرمجة الكائنية Object Oriented Programming. يمتاز هذا الأسلوب البرمجي عن الأسلوب التسلسلي في تجزئته للبرنامج الى مكونات برمجية صغيرة لها خصائص ومهام يتم كتابتها داخل تركيب برمجي محدد يدعى كائن برمجي class.\n",
    "</div>"
   ]
  },
  {
   "cell_type": "markdown",
   "metadata": {},
   "source": [
    "<div class=arabic>\n",
    "\n",
    "<h2 class=title>\n",
    "أهداف الفصل\n",
    "</h2>\n",
    "عند اتمام هذا الفصل يجب ان يكون لديك المام بالآتي: \n",
    "\n",
    "<ol>\n",
    "<li> \n",
    "التعرف على كيفية انشاء كائن برمجي (class) له خواص ومهام محددة.   </li>\n",
    "<li>\n",
    "التعرف على كيفية انشاء نسخ من الكائن البرمجي لأداء مهام برمجية تم كتابتها داخل تعريف الكائن البرمجي.  </li>\n",
    "<li>\n",
    "معرفة كيفية توريث الخصائص والمهام بين الكائنات البرمجية.</li> \n",
    "</ol>\n",
    "</div>"
   ]
  },
  {
   "cell_type": "markdown",
   "metadata": {},
   "source": [
    "<div class=arabic>\n",
    "\n",
    "<h2 class=title>\n",
    "الكائنات البرمجية Classes\n",
    "</h2>\n",
    "    </div>"
   ]
  },
  {
   "cell_type": "markdown",
   "metadata": {},
   "source": [
    "<div class=arabic>\n",
    "في فصول سابقة تعرفنا على أنواع البيانات وطريقة التعامل معها. ما لم نخبرك به عن هذه البيانات هو ان كل نوع من هذه البيانات يمثل كائن برمجي في بايثون تم إنشاؤه بالطريقة التي سوف نتعلمها في هذا الفصل. فالبيانات النصية مثلا تمثل كائن برمجي محدد تم تعريفه داخل اصدارة بايثون وكنا نتعرف على نوع الكائن بواسطة الدالة ()type كما في المثال التالي:\n",
    "</div>"
   ]
  },
  {
   "cell_type": "code",
   "execution_count": 96,
   "metadata": {},
   "outputs": [
    {
     "name": "stdout",
     "output_type": "stream",
     "text": [
      "<class 'str'>\n"
     ]
    }
   ],
   "source": [
    "print(type('hello'))"
   ]
  },
  {
   "cell_type": "markdown",
   "metadata": {},
   "source": [
    "<div class=arabic>\n",
    "لاحظ ان النصوص عبارة عن كائن برمجي من النوع  str تم إنشاؤه داخل مكتبة بايثون القياسية. ولتعرف على هذا الكائن وكيفية كتابته وما يحتويه من أكواد برمجية يكمن الاستعانة بالدالة ()help وكتابة str بدون علامات اقتباس بين قوسي الدالة كما يلي:\n",
    "</div>"
   ]
  },
  {
   "cell_type": "code",
   "execution_count": 97,
   "metadata": {},
   "outputs": [
    {
     "name": "stdout",
     "output_type": "stream",
     "text": [
      "Help on class str in module builtins:\n",
      "\n",
      "class str(object)\n",
      " |  str(object='') -> str\n",
      " |  str(bytes_or_buffer[, encoding[, errors]]) -> str\n",
      " |  \n",
      " |  Create a new string object from the given object. If encoding or\n",
      " |  errors is specified, then the object must expose a data buffer\n",
      " |  that will be decoded using the given encoding and error handler.\n",
      " |  Otherwise, returns the result of object.__str__() (if defined)\n",
      " |  or repr(object).\n",
      " |  encoding defaults to sys.getdefaultencoding().\n",
      " |  errors defaults to 'strict'.\n",
      " |  \n",
      " |  Methods defined here:\n",
      " |  \n",
      " |  __add__(self, value, /)\n",
      " |      Return self+value.\n",
      " |  \n",
      " |  __contains__(self, key, /)\n",
      " |      Return key in self.\n",
      " |  \n",
      " |  __eq__(self, value, /)\n",
      " |      Return self==value.\n",
      " |  \n",
      " |  __format__(self, format_spec, /)\n",
      " |      Return a formatted version of the string as described by format_spec.\n",
      " |  \n",
      " |  __ge__(self, value, /)\n",
      " |      Return self>=value.\n",
      " |  \n",
      " |  __getattribute__(self, name, /)\n",
      " |      Return getattr(self, name).\n",
      " |  \n",
      " |  __getitem__(self, key, /)\n",
      " |      Return self[key].\n",
      " |  \n",
      " |  __getnewargs__(...)\n",
      " |  \n",
      " |  __gt__(self, value, /)\n",
      " |      Return self>value.\n",
      " |  \n",
      " |  __hash__(self, /)\n",
      " |      Return hash(self).\n",
      " |  \n",
      " |  __iter__(self, /)\n",
      " |      Implement iter(self).\n",
      " |  \n",
      " |  __le__(self, value, /)\n",
      " |      Return self<=value.\n",
      " |  \n",
      " |  __len__(self, /)\n",
      " |      Return len(self).\n",
      " |  \n",
      " |  __lt__(self, value, /)\n",
      " |      Return self<value.\n",
      " |  \n",
      " |  __mod__(self, value, /)\n",
      " |      Return self%value.\n",
      " |  \n",
      " |  __mul__(self, value, /)\n",
      " |      Return self*value.\n",
      " |  \n",
      " |  __ne__(self, value, /)\n",
      " |      Return self!=value.\n",
      " |  \n",
      " |  __repr__(self, /)\n",
      " |      Return repr(self).\n",
      " |  \n",
      " |  __rmod__(self, value, /)\n",
      " |      Return value%self.\n",
      " |  \n",
      " |  __rmul__(self, value, /)\n",
      " |      Return value*self.\n",
      " |  \n",
      " |  __sizeof__(self, /)\n",
      " |      Return the size of the string in memory, in bytes.\n",
      " |  \n",
      " |  __str__(self, /)\n",
      " |      Return str(self).\n",
      " |  \n",
      " |  capitalize(self, /)\n",
      " |      Return a capitalized version of the string.\n",
      " |      \n",
      " |      More specifically, make the first character have upper case and the rest lower\n",
      " |      case.\n",
      " |  \n",
      " |  casefold(self, /)\n",
      " |      Return a version of the string suitable for caseless comparisons.\n",
      " |  \n",
      " |  center(self, width, fillchar=' ', /)\n",
      " |      Return a centered string of length width.\n",
      " |      \n",
      " |      Padding is done using the specified fill character (default is a space).\n",
      " |  \n",
      " |  count(...)\n",
      " |      S.count(sub[, start[, end]]) -> int\n",
      " |      \n",
      " |      Return the number of non-overlapping occurrences of substring sub in\n",
      " |      string S[start:end].  Optional arguments start and end are\n",
      " |      interpreted as in slice notation.\n",
      " |  \n",
      " |  encode(self, /, encoding='utf-8', errors='strict')\n",
      " |      Encode the string using the codec registered for encoding.\n",
      " |      \n",
      " |      encoding\n",
      " |        The encoding in which to encode the string.\n",
      " |      errors\n",
      " |        The error handling scheme to use for encoding errors.\n",
      " |        The default is 'strict' meaning that encoding errors raise a\n",
      " |        UnicodeEncodeError.  Other possible values are 'ignore', 'replace' and\n",
      " |        'xmlcharrefreplace' as well as any other name registered with\n",
      " |        codecs.register_error that can handle UnicodeEncodeErrors.\n",
      " |  \n",
      " |  endswith(...)\n",
      " |      S.endswith(suffix[, start[, end]]) -> bool\n",
      " |      \n",
      " |      Return True if S ends with the specified suffix, False otherwise.\n",
      " |      With optional start, test S beginning at that position.\n",
      " |      With optional end, stop comparing S at that position.\n",
      " |      suffix can also be a tuple of strings to try.\n",
      " |  \n",
      " |  expandtabs(self, /, tabsize=8)\n",
      " |      Return a copy where all tab characters are expanded using spaces.\n",
      " |      \n",
      " |      If tabsize is not given, a tab size of 8 characters is assumed.\n",
      " |  \n",
      " |  find(...)\n",
      " |      S.find(sub[, start[, end]]) -> int\n",
      " |      \n",
      " |      Return the lowest index in S where substring sub is found,\n",
      " |      such that sub is contained within S[start:end].  Optional\n",
      " |      arguments start and end are interpreted as in slice notation.\n",
      " |      \n",
      " |      Return -1 on failure.\n",
      " |  \n",
      " |  format(...)\n",
      " |      S.format(*args, **kwargs) -> str\n",
      " |      \n",
      " |      Return a formatted version of S, using substitutions from args and kwargs.\n",
      " |      The substitutions are identified by braces ('{' and '}').\n",
      " |  \n",
      " |  format_map(...)\n",
      " |      S.format_map(mapping) -> str\n",
      " |      \n",
      " |      Return a formatted version of S, using substitutions from mapping.\n",
      " |      The substitutions are identified by braces ('{' and '}').\n",
      " |  \n",
      " |  index(...)\n",
      " |      S.index(sub[, start[, end]]) -> int\n",
      " |      \n",
      " |      Return the lowest index in S where substring sub is found,\n",
      " |      such that sub is contained within S[start:end].  Optional\n",
      " |      arguments start and end are interpreted as in slice notation.\n",
      " |      \n",
      " |      Raises ValueError when the substring is not found.\n",
      " |  \n",
      " |  isalnum(self, /)\n",
      " |      Return True if the string is an alpha-numeric string, False otherwise.\n",
      " |      \n",
      " |      A string is alpha-numeric if all characters in the string are alpha-numeric and\n",
      " |      there is at least one character in the string.\n",
      " |  \n",
      " |  isalpha(self, /)\n",
      " |      Return True if the string is an alphabetic string, False otherwise.\n",
      " |      \n",
      " |      A string is alphabetic if all characters in the string are alphabetic and there\n",
      " |      is at least one character in the string.\n",
      " |  \n",
      " |  isascii(self, /)\n",
      " |      Return True if all characters in the string are ASCII, False otherwise.\n",
      " |      \n",
      " |      ASCII characters have code points in the range U+0000-U+007F.\n",
      " |      Empty string is ASCII too.\n",
      " |  \n",
      " |  isdecimal(self, /)\n",
      " |      Return True if the string is a decimal string, False otherwise.\n",
      " |      \n",
      " |      A string is a decimal string if all characters in the string are decimal and\n",
      " |      there is at least one character in the string.\n",
      " |  \n",
      " |  isdigit(self, /)\n",
      " |      Return True if the string is a digit string, False otherwise.\n",
      " |      \n",
      " |      A string is a digit string if all characters in the string are digits and there\n",
      " |      is at least one character in the string.\n",
      " |  \n",
      " |  isidentifier(self, /)\n",
      " |      Return True if the string is a valid Python identifier, False otherwise.\n",
      " |      \n",
      " |      Call keyword.iskeyword(s) to test whether string s is a reserved identifier,\n",
      " |      such as \"def\" or \"class\".\n",
      " |  \n",
      " |  islower(self, /)\n",
      " |      Return True if the string is a lowercase string, False otherwise.\n",
      " |      \n",
      " |      A string is lowercase if all cased characters in the string are lowercase and\n",
      " |      there is at least one cased character in the string.\n",
      " |  \n",
      " |  isnumeric(self, /)\n",
      " |      Return True if the string is a numeric string, False otherwise.\n",
      " |      \n",
      " |      A string is numeric if all characters in the string are numeric and there is at\n",
      " |      least one character in the string.\n",
      " |  \n",
      " |  isprintable(self, /)\n",
      " |      Return True if the string is printable, False otherwise.\n",
      " |      \n",
      " |      A string is printable if all of its characters are considered printable in\n",
      " |      repr() or if it is empty.\n",
      " |  \n",
      " |  isspace(self, /)\n",
      " |      Return True if the string is a whitespace string, False otherwise.\n",
      " |      \n",
      " |      A string is whitespace if all characters in the string are whitespace and there\n",
      " |      is at least one character in the string.\n",
      " |  \n",
      " |  istitle(self, /)\n",
      " |      Return True if the string is a title-cased string, False otherwise.\n",
      " |      \n",
      " |      In a title-cased string, upper- and title-case characters may only\n",
      " |      follow uncased characters and lowercase characters only cased ones.\n",
      " |  \n",
      " |  isupper(self, /)\n",
      " |      Return True if the string is an uppercase string, False otherwise.\n",
      " |      \n",
      " |      A string is uppercase if all cased characters in the string are uppercase and\n",
      " |      there is at least one cased character in the string.\n",
      " |  \n",
      " |  join(self, iterable, /)\n",
      " |      Concatenate any number of strings.\n",
      " |      \n",
      " |      The string whose method is called is inserted in between each given string.\n",
      " |      The result is returned as a new string.\n",
      " |      \n",
      " |      Example: '.'.join(['ab', 'pq', 'rs']) -> 'ab.pq.rs'\n",
      " |  \n",
      " |  ljust(self, width, fillchar=' ', /)\n",
      " |      Return a left-justified string of length width.\n",
      " |      \n",
      " |      Padding is done using the specified fill character (default is a space).\n",
      " |  \n",
      " |  lower(self, /)\n",
      " |      Return a copy of the string converted to lowercase.\n",
      " |  \n",
      " |  lstrip(self, chars=None, /)\n",
      " |      Return a copy of the string with leading whitespace removed.\n",
      " |      \n",
      " |      If chars is given and not None, remove characters in chars instead.\n",
      " |  \n",
      " |  partition(self, sep, /)\n",
      " |      Partition the string into three parts using the given separator.\n",
      " |      \n",
      " |      This will search for the separator in the string.  If the separator is found,\n",
      " |      returns a 3-tuple containing the part before the separator, the separator\n",
      " |      itself, and the part after it.\n",
      " |      \n",
      " |      If the separator is not found, returns a 3-tuple containing the original string\n",
      " |      and two empty strings.\n",
      " |  \n",
      " |  replace(self, old, new, count=-1, /)\n",
      " |      Return a copy with all occurrences of substring old replaced by new.\n",
      " |      \n",
      " |        count\n",
      " |          Maximum number of occurrences to replace.\n",
      " |          -1 (the default value) means replace all occurrences.\n",
      " |      \n",
      " |      If the optional argument count is given, only the first count occurrences are\n",
      " |      replaced.\n",
      " |  \n",
      " |  rfind(...)\n",
      " |      S.rfind(sub[, start[, end]]) -> int\n",
      " |      \n",
      " |      Return the highest index in S where substring sub is found,\n",
      " |      such that sub is contained within S[start:end].  Optional\n",
      " |      arguments start and end are interpreted as in slice notation.\n",
      " |      \n",
      " |      Return -1 on failure.\n",
      " |  \n",
      " |  rindex(...)\n",
      " |      S.rindex(sub[, start[, end]]) -> int\n",
      " |      \n",
      " |      Return the highest index in S where substring sub is found,\n",
      " |      such that sub is contained within S[start:end].  Optional\n",
      " |      arguments start and end are interpreted as in slice notation.\n",
      " |      \n",
      " |      Raises ValueError when the substring is not found.\n",
      " |  \n",
      " |  rjust(self, width, fillchar=' ', /)\n",
      " |      Return a right-justified string of length width.\n",
      " |      \n",
      " |      Padding is done using the specified fill character (default is a space).\n",
      " |  \n",
      " |  rpartition(self, sep, /)\n",
      " |      Partition the string into three parts using the given separator.\n",
      " |      \n",
      " |      This will search for the separator in the string, starting at the end. If\n",
      " |      the separator is found, returns a 3-tuple containing the part before the\n",
      " |      separator, the separator itself, and the part after it.\n",
      " |      \n",
      " |      If the separator is not found, returns a 3-tuple containing two empty strings\n",
      " |      and the original string.\n",
      " |  \n",
      " |  rsplit(self, /, sep=None, maxsplit=-1)\n",
      " |      Return a list of the words in the string, using sep as the delimiter string.\n",
      " |      \n",
      " |        sep\n",
      " |          The delimiter according which to split the string.\n",
      " |          None (the default value) means split according to any whitespace,\n",
      " |          and discard empty strings from the result.\n",
      " |        maxsplit\n",
      " |          Maximum number of splits to do.\n",
      " |          -1 (the default value) means no limit.\n",
      " |      \n",
      " |      Splits are done starting at the end of the string and working to the front.\n",
      " |  \n",
      " |  rstrip(self, chars=None, /)\n",
      " |      Return a copy of the string with trailing whitespace removed.\n",
      " |      \n",
      " |      If chars is given and not None, remove characters in chars instead.\n",
      " |  \n",
      " |  split(self, /, sep=None, maxsplit=-1)\n",
      " |      Return a list of the words in the string, using sep as the delimiter string.\n",
      " |      \n",
      " |      sep\n",
      " |        The delimiter according which to split the string.\n",
      " |        None (the default value) means split according to any whitespace,\n",
      " |        and discard empty strings from the result.\n",
      " |      maxsplit\n",
      " |        Maximum number of splits to do.\n",
      " |        -1 (the default value) means no limit.\n",
      " |  \n",
      " |  splitlines(self, /, keepends=False)\n",
      " |      Return a list of the lines in the string, breaking at line boundaries.\n",
      " |      \n",
      " |      Line breaks are not included in the resulting list unless keepends is given and\n",
      " |      true.\n",
      " |  \n",
      " |  startswith(...)\n",
      " |      S.startswith(prefix[, start[, end]]) -> bool\n",
      " |      \n",
      " |      Return True if S starts with the specified prefix, False otherwise.\n",
      " |      With optional start, test S beginning at that position.\n",
      " |      With optional end, stop comparing S at that position.\n",
      " |      prefix can also be a tuple of strings to try.\n",
      " |  \n",
      " |  strip(self, chars=None, /)\n",
      " |      Return a copy of the string with leading and trailing whitespace removed.\n",
      " |      \n",
      " |      If chars is given and not None, remove characters in chars instead.\n",
      " |  \n",
      " |  swapcase(self, /)\n",
      " |      Convert uppercase characters to lowercase and lowercase characters to uppercase.\n",
      " |  \n",
      " |  title(self, /)\n",
      " |      Return a version of the string where each word is titlecased.\n",
      " |      \n",
      " |      More specifically, words start with uppercased characters and all remaining\n",
      " |      cased characters have lower case.\n",
      " |  \n",
      " |  translate(self, table, /)\n",
      " |      Replace each character in the string using the given translation table.\n",
      " |      \n",
      " |        table\n",
      " |          Translation table, which must be a mapping of Unicode ordinals to\n",
      " |          Unicode ordinals, strings, or None.\n",
      " |      \n",
      " |      The table must implement lookup/indexing via __getitem__, for instance a\n",
      " |      dictionary or list.  If this operation raises LookupError, the character is\n",
      " |      left untouched.  Characters mapped to None are deleted.\n",
      " |  \n",
      " |  upper(self, /)\n",
      " |      Return a copy of the string converted to uppercase.\n",
      " |  \n",
      " |  zfill(self, width, /)\n",
      " |      Pad a numeric string with zeros on the left, to fill a field of the given width.\n",
      " |      \n",
      " |      The string is never truncated.\n",
      " |  \n",
      " |  ----------------------------------------------------------------------\n",
      " |  Static methods defined here:\n",
      " |  \n",
      " |  __new__(*args, **kwargs) from builtins.type\n",
      " |      Create and return a new object.  See help(type) for accurate signature.\n",
      " |  \n",
      " |  maketrans(...)\n",
      " |      Return a translation table usable for str.translate().\n",
      " |      \n",
      " |      If there is only one argument, it must be a dictionary mapping Unicode\n",
      " |      ordinals (integers) or characters to Unicode ordinals, strings or None.\n",
      " |      Character keys will be then converted to ordinals.\n",
      " |      If there are two arguments, they must be strings of equal length, and\n",
      " |      in the resulting dictionary, each character in x will be mapped to the\n",
      " |      character at the same position in y. If there is a third argument, it\n",
      " |      must be a string, whose characters will be mapped to None in the result.\n",
      "\n"
     ]
    }
   ],
   "source": [
    "help(str)"
   ]
  },
  {
   "cell_type": "markdown",
   "metadata": {},
   "source": [
    "<div class=arabic><h2 class=title>تمارين استكشافية</h2></div>"
   ]
  },
  {
   "cell_type": "markdown",
   "metadata": {},
   "source": [
    "<div class=arabic>\n",
    "1- تعرف على الكائنات البرمجية للاعداد الموجود في بايثون باستخدام الدالة ()type و ()help؟\n",
    "</div>"
   ]
  },
  {
   "cell_type": "markdown",
   "metadata": {},
   "source": [
    "<div class=arabic>\n",
    "يكمن انشاء كائن برمجي جديد في بايثون بنفس الأسلوب الذي استخدمناه لإنشاء الدوال في الفصل السابع الا اننا هنا سوف نستخدم أداة التعريف class بدلا عن def كما في المثال التالي:\n",
    "</div>"
   ]
  },
  {
   "cell_type": "code",
   "execution_count": 98,
   "metadata": {},
   "outputs": [],
   "source": [
    "class Point:\n",
    "    pass"
   ]
  },
  {
   "cell_type": "markdown",
   "metadata": {},
   "source": [
    "<div class=arabic>\n",
    "لاحظ اننا قمنا بكتابة اسم الكائن Point بعد أداة تعريف الكائن class وأنهينا السطر بنقطتين فوق بعض. اسم الكائن هنا يمكن ان يكون أي اسم تختاره شريطة ان تنطبق عليه جميع شروط المتغيرات التي ذكرناها في الفصل الاول. لاحظ أيضا اننا استخدمنا خاصية ترك المسافة التي تعلمناها سابقا عند تعريف الدوال واستخدمنا الامر pass لنخبر مفسر بايثون اننا نود فقط انشاء الكائن بحيث نستطيع لاحقا إضافة خواص ومهام لهذا الكائن. ولتأكد من صحة انشائنا للكائن السابق يمكن القيام بكتابة اسم الكائن كما يلي:\n",
    "</div>"
   ]
  },
  {
   "cell_type": "code",
   "execution_count": 99,
   "metadata": {},
   "outputs": [
    {
     "name": "stdout",
     "output_type": "stream",
     "text": [
      "<class '__main__.Point'>\n"
     ]
    }
   ],
   "source": [
    "print(Point)"
   ]
  },
  {
   "cell_type": "markdown",
   "metadata": {},
   "source": [
    "<div class=arabic>\n",
    "    ويمكننا أنشاء نسخة من الكائن Point واسنادها للمتغير p1 باستخدام اسم الكائن متبوعا بقوسين فارغين كما في المثال التالي:\n",
    "</div>"
   ]
  },
  {
   "cell_type": "code",
   "execution_count": 101,
   "metadata": {
    "scrolled": true
   },
   "outputs": [
    {
     "data": {
      "text/plain": [
       "<__main__.Point at 0x181972ca670>"
      ]
     },
     "execution_count": 101,
     "metadata": {},
     "output_type": "execute_result"
    }
   ],
   "source": [
    "p1=Point()"
   ]
  },
  {
   "cell_type": "markdown",
   "metadata": {},
   "source": [
    "<div class=arabic>\n",
    "وعند طباعة نوع المتغير p1 فان مفسر بايثون سوف يعطينا انه من الصنف Point كما يلي:\n",
    "</div>"
   ]
  },
  {
   "cell_type": "code",
   "execution_count": 102,
   "metadata": {},
   "outputs": [
    {
     "data": {
      "text/plain": [
       "__main__.Point"
      ]
     },
     "execution_count": 102,
     "metadata": {},
     "output_type": "execute_result"
    }
   ],
   "source": [
    "p1=Point()\n",
    "type(p1)"
   ]
  },
  {
   "cell_type": "markdown",
   "metadata": {},
   "source": [
    "<div class=arabic>\n",
    "لنفرض الان اننا نريد ان نقوم باعطاء هذا الكائن بعض الخواص (attributes). ما نقصده بالخواص هنا هو مجرد متغيرات تم كتابتها داخل تعريف الكائن البرمجي كما في المثال التالي:\n",
    "</div>"
   ]
  },
  {
   "cell_type": "code",
   "execution_count": 103,
   "metadata": {},
   "outputs": [
    {
     "name": "stdout",
     "output_type": "stream",
     "text": [
      "0\n",
      "1\n"
     ]
    }
   ],
   "source": [
    "class Point():\n",
    "    x=0\n",
    "    y=1\n",
    "\n",
    "print(Point.x)\n",
    "print(Point.y)"
   ]
  },
  {
   "cell_type": "markdown",
   "metadata": {},
   "source": [
    "<div class=arabic>\n",
    "لاحظ اننا اضفنا للكائن Point خاصية x وخاصية y وتم استدعاء هذه الخاصية باستخدام اسم الخاصية بعد اسم الكائن مفصولا بينهما بنقطة. هذا النوع من الخواص يسمى خواص الكائن البرمجي العامة. ويوجد نوع اخر من الخواص يسمى خواص النسخة التي يراد عملها من الكائن البرمجي ويتم كتابة هذه الخواص داخل دالة خاصة تسمى ()__init__ يتم تعريفها داخل الكائن بحيث يتم تنفيذها عند بداية انشاء أي نسخة من الكائن. فمثلا لنفرض اننا نريد ان ننشئ النسختين p1 و p2 من الكائن Point بحيث تكون قيمة الخاصية y مختلفة لكل نسخة من p1 و p2. للقيام بذلك نقوم بتعريف دالة خاصة تسمى ()__init__ كما يلي:\n",
    "</div>"
   ]
  },
  {
   "cell_type": "code",
   "execution_count": 104,
   "metadata": {},
   "outputs": [
    {
     "name": "stdout",
     "output_type": "stream",
     "text": [
      "5\n",
      "4\n"
     ]
    }
   ],
   "source": [
    "class Point():\n",
    "    x=0\n",
    "    y=1\n",
    "    def __init__(self,y):\n",
    "        self.y=y\n",
    "\n",
    "p1=Point(5)\n",
    "p2=Point(4)\n",
    "\n",
    "print(p1.y)\n",
    "print(p2.y)"
   ]
  },
  {
   "cell_type": "markdown",
   "metadata": {},
   "source": [
    "<div class=arabic>\n",
    "هناك مجموعة ملاحظات يجب تدوينها حول المثال السابق\n",
    "    : <br>\n",
    "أولا: الدوال عندما تكتب داخل تعريف الكائن تسمى مهام methods.\n",
    "    <br>\n",
    "ثانيا:\n",
    "    self في المثال السابق تشير الى اسم النسخة التي يتم عملها أيا كان اسم هذه النسخة. فكتابة self.y يتم ترجمته الى p1.y عندما يتم عمل النسخة p1 من الكائن Point.\n",
    "    <br>\n",
    "ثالثا: عند تعريف أي مهمة \n",
    "    method داخل كائن فانه يجب كتابة المدخل self كأول قيمة لهذه المهمة.\n",
    "    <br> \n",
    "رابعا: عند عمل نسخة من الكائن لا نحتاج لكتابة \n",
    "    self بين قوسي اسم الكائن ويكتفى فقط بالمدخلات الإلزامية التي تلي المدخل self في المهمة ()__init__. الفشل في تزويد المدخلات الإلزامية التي تلي self في المهمة ()__init__ يؤدي لظهور ملاحظة بوجود خطأ من قبل مفسر بايثون. فلو قمنا بعمل نسخة من الكائن Point بدون إعطاء قيمة للخاصية y فان مفسر بايثون يعطينا الملاحظة التالية:\n",
    "</div>"
   ]
  },
  {
   "cell_type": "code",
   "execution_count": 105,
   "metadata": {},
   "outputs": [
    {
     "ename": "TypeError",
     "evalue": "__init__() missing 1 required positional argument: 'y'",
     "output_type": "error",
     "traceback": [
      "\u001b[1;31m---------------------------------------------------------------------------\u001b[0m",
      "\u001b[1;31mTypeError\u001b[0m                                 Traceback (most recent call last)",
      "\u001b[1;32m<ipython-input-105-df99d73443b1>\u001b[0m in \u001b[0;36m<module>\u001b[1;34m\u001b[0m\n\u001b[0;32m      4\u001b[0m     \u001b[1;32mdef\u001b[0m \u001b[0m__init__\u001b[0m\u001b[1;33m(\u001b[0m\u001b[0mself\u001b[0m\u001b[1;33m,\u001b[0m\u001b[0my\u001b[0m\u001b[1;33m)\u001b[0m\u001b[1;33m:\u001b[0m\u001b[1;33m\u001b[0m\u001b[1;33m\u001b[0m\u001b[0m\n\u001b[0;32m      5\u001b[0m         \u001b[0mself\u001b[0m\u001b[1;33m.\u001b[0m\u001b[0my\u001b[0m\u001b[1;33m=\u001b[0m\u001b[0my\u001b[0m\u001b[1;33m\u001b[0m\u001b[1;33m\u001b[0m\u001b[0m\n\u001b[1;32m----> 6\u001b[1;33m \u001b[0mp1\u001b[0m\u001b[1;33m=\u001b[0m\u001b[0mPoint\u001b[0m\u001b[1;33m(\u001b[0m\u001b[1;33m)\u001b[0m\u001b[1;33m\u001b[0m\u001b[1;33m\u001b[0m\u001b[0m\n\u001b[0m\u001b[0;32m      7\u001b[0m \u001b[0mprint\u001b[0m\u001b[1;33m(\u001b[0m\u001b[0mp1\u001b[0m\u001b[1;33m.\u001b[0m\u001b[0my\u001b[0m\u001b[1;33m)\u001b[0m\u001b[1;33m\u001b[0m\u001b[1;33m\u001b[0m\u001b[0m\n",
      "\u001b[1;31mTypeError\u001b[0m: __init__() missing 1 required positional argument: 'y'"
     ]
    }
   ],
   "source": [
    "class Point():\n",
    "    x=0\n",
    "    y=1\n",
    "    def __init__(self,y):\n",
    "        self.y=y\n",
    "p1=Point()\n",
    "print(p1.y)"
   ]
  },
  {
   "cell_type": "markdown",
   "metadata": {},
   "source": [
    "<div class=arabic>\n",
    "\n",
    "</div>"
   ]
  },
  {
   "cell_type": "markdown",
   "metadata": {},
   "source": [
    "<div class=arabic>\n",
    "<hr class=horizontal>\n",
    "<center>\n",
    "<a id=\"chapter10\"></a>\n",
    "<h1 class=title>\n",
    "الفصل العاشر : برمجة واجهة المستخدم\n",
    "</h1>\n",
    "</center>\n",
    "<hr class=horizontal>\n",
    "</div>"
   ]
  },
  {
   "cell_type": "markdown",
   "metadata": {},
   "source": [
    "<div class=arabic>\n",
    "<hr class=horizontal>\n",
    "<center>\n",
    "<a id=\"chapter3\"></a>\n",
    "<h1 class=title>\n",
    "الفصل السابع : مكتبة Numpy\n",
    "</h1>\n",
    "</center>\n",
    "<hr class=horizontal>\n",
    "</div>"
   ]
  },
  {
   "cell_type": "markdown",
   "metadata": {},
   "source": [
    "<div class=arabic>\n",
    "لانشاء مصفوفة صفرية يمكننا استخدام الدالة ()zeros من كتبة numpy بحيث نضع بين قوسي الدالة مقياس المصفوفة الصفرية التي نرغب في انشائها كما في الامثلة التالية: \n",
    "</div>"
   ]
  },
  {
   "cell_type": "code",
   "execution_count": 37,
   "metadata": {},
   "outputs": [
    {
     "data": {
      "text/plain": [
       "array([0., 0., 0., 0.])"
      ]
     },
     "execution_count": 37,
     "metadata": {},
     "output_type": "execute_result"
    }
   ],
   "source": [
    "import numpy as np\n",
    "np.zeros(4)"
   ]
  },
  {
   "cell_type": "code",
   "execution_count": 38,
   "metadata": {},
   "outputs": [
    {
     "data": {
      "text/plain": [
       "array([[0., 0., 0., 0.],\n",
       "       [0., 0., 0., 0.],\n",
       "       [0., 0., 0., 0.]])"
      ]
     },
     "execution_count": 38,
     "metadata": {},
     "output_type": "execute_result"
    }
   ],
   "source": [
    "np.zeros([3,4])"
   ]
  },
  {
   "cell_type": "markdown",
   "metadata": {},
   "source": [
    "<div class=arabic>\n",
    "لاحظ استخدامنا لقائمة داخل قوسي الدالة ()zeros عندما تكون المصوفة غير احدية\n",
    "</div>"
   ]
  },
  {
   "cell_type": "markdown",
   "metadata": {},
   "source": [
    "<div class=arabic>\n",
    "لانشاء مصفوفة احادية ذات قيم متباعده عن بعضها البعض بقيمة معينة نستخدم الدالة ()arange بنفس الطريقة التي تعلمنا استخدامها مع الدالة  range() عند انشاء القوائم في بايثون. شاهد المثال التالي:\n",
    "</div>"
   ]
  },
  {
   "cell_type": "code",
   "execution_count": 39,
   "metadata": {},
   "outputs": [
    {
     "data": {
      "text/plain": [
       "array([4. , 4.1, 4.2, 4.3, 4.4, 4.5, 4.6, 4.7, 4.8, 4.9, 5. , 5.1, 5.2,\n",
       "       5.3, 5.4, 5.5, 5.6, 5.7, 5.8, 5.9])"
      ]
     },
     "execution_count": 39,
     "metadata": {},
     "output_type": "execute_result"
    }
   ],
   "source": [
    "np.arange(4,6,0.1)"
   ]
  },
  {
   "cell_type": "markdown",
   "metadata": {},
   "source": [
    "<div class=arabic>\n",
    "لاحظ ان هناك اختلاف جوهري بين دالة ()arange في مكتبة numpy ودالة ()range في مكتبة بايثون القياسية وهو ان الدالة ()arange في numpy تمكننا من استخدام الاعداد الصحيحية والعشرية على حد سواء. بينما الدالة ()range فانها تستوجب استخدام اعداد صحيحة فقط كما في المثال التالي:\n",
    "</div>"
   ]
  },
  {
   "cell_type": "code",
   "execution_count": 40,
   "metadata": {},
   "outputs": [
    {
     "data": {
      "text/plain": [
       "array([3. , 3.1, 3.2, 3.3, 3.4, 3.5, 3.6, 3.7, 3.8, 3.9, 4. , 4.1, 4.2,\n",
       "       4.3, 4.4, 4.5, 4.6, 4.7, 4.8, 4.9])"
      ]
     },
     "execution_count": 40,
     "metadata": {},
     "output_type": "execute_result"
    }
   ],
   "source": [
    "np.arange(3,5,0.1)"
   ]
  },
  {
   "cell_type": "code",
   "execution_count": 41,
   "metadata": {},
   "outputs": [
    {
     "data": {
      "text/plain": [
       "array([3., 4.])"
      ]
     },
     "execution_count": 41,
     "metadata": {},
     "output_type": "execute_result"
    }
   ],
   "source": [
    "np.arange(3.0,5.0)"
   ]
  },
  {
   "cell_type": "code",
   "execution_count": 42,
   "metadata": {},
   "outputs": [
    {
     "data": {
      "text/plain": [
       "range(3, 5)"
      ]
     },
     "execution_count": 42,
     "metadata": {},
     "output_type": "execute_result"
    }
   ],
   "source": [
    "range(3,5)"
   ]
  },
  {
   "cell_type": "code",
   "execution_count": 43,
   "metadata": {},
   "outputs": [
    {
     "ename": "TypeError",
     "evalue": "'float' object cannot be interpreted as an integer",
     "output_type": "error",
     "traceback": [
      "\u001b[1;31m---------------------------------------------------------------------------\u001b[0m",
      "\u001b[1;31mTypeError\u001b[0m                                 Traceback (most recent call last)",
      "\u001b[1;32m<ipython-input-43-cedeb2ddba2c>\u001b[0m in \u001b[0;36m<module>\u001b[1;34m\u001b[0m\n\u001b[1;32m----> 1\u001b[1;33m \u001b[0mrange\u001b[0m\u001b[1;33m(\u001b[0m\u001b[1;36m3.0\u001b[0m\u001b[1;33m,\u001b[0m\u001b[1;36m5.0\u001b[0m\u001b[1;33m)\u001b[0m\u001b[1;33m\u001b[0m\u001b[1;33m\u001b[0m\u001b[0m\n\u001b[0m",
      "\u001b[1;31mTypeError\u001b[0m: 'float' object cannot be interpreted as an integer"
     ]
    }
   ],
   "source": [
    "range(3.0,5.0)\n"
   ]
  },
  {
   "cell_type": "markdown",
   "metadata": {},
   "source": [
    "<div class=arabic>\n",
    "كما يمكن انجاز المهمة السابقة باستخدام الدالة ()linspace ايضا من مكتبة numpy كما في المثال التالي:\n",
    "</div>"
   ]
  },
  {
   "cell_type": "code",
   "execution_count": null,
   "metadata": {},
   "outputs": [],
   "source": [
    "np.linspace(3.0,5.0,21)"
   ]
  },
  {
   "cell_type": "markdown",
   "metadata": {},
   "source": [
    "<div class=arabic>\n",
    "لاحظ ان الفرق بين الدالتين ()arange والدالة ()linspace هو ان الدالة ()arange تتطلب مقدار التباعد في المجال المعظى. واذا لم يكن مقدار التباعد معطى فان القيمة الافتراضية تكون 1. اما الدالة ()linspace فهي تتطلب المجال وعدد القيم التي يجب انشاؤها بحيث تقوم بتحديد مقدار التباعد تلقائيا من ذاتها. في حال عدم تزويد الدالة ()linspace بعدد القيم المطلوبة فان القيمة الافتراضية لعدد القيم التي سوف تنتجها الدالة سوف يكون 50 كما في المثال التالي: \n",
    "</div>"
   ]
  },
  {
   "cell_type": "code",
   "execution_count": null,
   "metadata": {},
   "outputs": [],
   "source": [
    "ar1=np.linspace(3,4)\n",
    "len(ar1)"
   ]
  },
  {
   "cell_type": "markdown",
   "metadata": {},
   "source": [
    "<div class=arabic>\n",
    "لاحظ ايضا ان الدالة ()linspace تتطلب ان يكون مجال المصفوفة يتكون من قيمتين قيمة للبداية وقيمة للنهاية اما الدالة arange() فعند تزويدها بقيمة واحدة في المجال فانها سوف تفترض ان هذه القيمة هي قيمة النهاية وقيمة البداية للمجال سوف تفترض انها مساوية للعدد 0. كما في المثال التالي:\n",
    "</div>"
   ]
  },
  {
   "cell_type": "code",
   "execution_count": null,
   "metadata": {},
   "outputs": [],
   "source": [
    "np.arange(4)"
   ]
  },
  {
   "cell_type": "code",
   "execution_count": null,
   "metadata": {},
   "outputs": [],
   "source": [
    "np.linspace(4)"
   ]
  },
  {
   "cell_type": "markdown",
   "metadata": {},
   "source": [
    "<div class=arabic><h2 class=title>تمارين استكشافية</h2></div>"
   ]
  },
  {
   "cell_type": "markdown",
   "metadata": {},
   "source": [
    "<div class=arabic>\n",
    "١- استكشف الفرق بين استخدام قيمة واحدة مع الدالة ()range من مكتبة بايثون القياسية والدالة ()arange من مكتبة numpy ؟\n",
    "</div>"
   ]
  },
  {
   "cell_type": "code",
   "execution_count": null,
   "metadata": {},
   "outputs": [],
   "source": []
  },
  {
   "cell_type": "markdown",
   "metadata": {},
   "source": [
    "<div class=arabic>\n",
    "٢- استكشف الفرق في اخر قيمة من مصفوفة احادية ناتجة عن الدالة ()arange  والدالة ()linspace من مكتبة numpy للمجال من 2 الى 3 متباعدة عن بعضها البعض بمقدار 0.5 ؟\n",
    "</div>"
   ]
  },
  {
   "cell_type": "code",
   "execution_count": null,
   "metadata": {},
   "outputs": [],
   "source": []
  },
  {
   "cell_type": "markdown",
   "metadata": {},
   "source": [
    "<div class=arabic>\n",
    "<hr class=horizontal>\n",
    "<center>\n",
    "<a id=\"chapter3\"></a>\n",
    "<h1 class=title>\n",
    "الملاحق : تحويل الاعداد الثنائية الى عشرية والعكس\n",
    "</h1>\n",
    "</center>\n",
    "<hr class=horizontal>\n",
    "</div>"
   ]
  },
  {
   "cell_type": "markdown",
   "metadata": {},
   "source": [
    "<div class=arabic>\n",
    "<hr class=horizontal>\n",
    "<center>\n",
    "<a id=\"chapter3\"></a>\n",
    "<h1 class=title>\n",
    "الملاحق : مكتبة geopandas\n",
    "</h1>\n",
    "</center>\n",
    "<hr class=horizontal>\n",
    "</div>"
   ]
  },
  {
   "cell_type": "markdown",
   "metadata": {},
   "source": [
    "geopandas depends on the following libraries:\n",
    "1-pandas : a library for data analysis\n",
    "2-shapely: for geometeric shapes (GEOS)\n",
    "3-fiona:  library for reading and writing files (OGR)\n",
    "4-pyproj: library for cartographic projections (PROJ.4)\n",
    "5-decartes : library for map plotting.\n",
    "6-geopy: geocoding\n",
    "7-rtree: spatial analysis\n",
    "8-pysal: advanced spatial analysis, colaring maps library\n",
    "\n",
    "\n",
    "Shapefile contents (usually comes as zip file):\n",
    "\n",
    "shp: shapefile- mapable geometry\n",
    "dbf: database file- extra information\n",
    "prj: projection file to deal with how a location is determine on earth.\n",
    "shx: index file to make reading file faster.\n",
    "\n",
    "to convert CSV file with longitude and latitude data to geodataframe follow the these steps:\n",
    "1. read csv file through pandas library\n",
    "df=pd.read_csv(\"file.csv\")\n",
    "2. create points from log/lat data through shapely library\n",
    "point=df.apply(lambda raw: Point(raw.longitude,raw.latitude, axis=1)\n",
    "3. create the geodataframe from the pandas dataframe and shapely point object.\n",
    "gdf=gpd.GeoDataFrame(df,geometery=points)\n",
    "4. confirm to the geodataframe that we are using log/lat data\n",
    "gdf.crs={\"init\":\"epsg:4326\"}\n",
    "\n",
    "\n",
    "crs : coordinate reference system\n",
    "epsg: European petroleum survey group.\n",
    "\n",
    "gdf.to_crs(epsg=xxxx) to convert to different projection systems.\n",
    "\n",
    "remove map coordinate by using\n",
    "ax.axis(\"off\")\n",
    "\n",
    "coloring shape:\n",
    "1. fill\n",
    "2. stroke/line/edge-outline"
   ]
  },
  {
   "cell_type": "markdown",
   "metadata": {},
   "source": [
    "<div class=arabic>\n",
    "<hr class=horizontal>\n",
    "<center>\n",
    "<a id=\"chapter3\"></a>\n",
    "<h1 class=title>\n",
    "الفصل الثامن : المنسقات\n",
    "</h1>\n",
    "</center>\n",
    "<hr class=horizontal>\n",
    "</div>"
   ]
  },
  {
   "cell_type": "markdown",
   "metadata": {},
   "source": [
    "<div class=arabic>\n",
    "المنسقات هي عبارة عن دوال يمكنها استدعاء دوال و ارجاع دوال كمخرجات لهذه الدوال.لاحظ المثال التالي للتوضيح\n",
    "\n",
    "</div>"
   ]
  },
  {
   "cell_type": "code",
   "execution_count": null,
   "metadata": {},
   "outputs": [],
   "source": [
    "def decorated_by(func):\n",
    "    func.__doc__ +=\"تم تنسيق الدالة بواسطة دالة منسقة\"\n",
    "    return func"
   ]
  },
  {
   "cell_type": "markdown",
   "metadata": {},
   "source": [
    "<div class=arabic>\n",
    "لنقوم الان بتعريف دالة بسيطة تقوم بجمع رقمين وارجاع ناتج الجمع. كما تحتوي هذه الدالة على ملاحظات تفيد وظيفة الداله كما في المثال التالي:\n",
    "</div>"
   ]
  },
  {
   "cell_type": "code",
   "execution_count": null,
   "metadata": {},
   "outputs": [],
   "source": [
    "def add(x,y):\n",
    "    '''this function add two numbers and return their sum \\n'''\n",
    "    return x+y"
   ]
  },
  {
   "cell_type": "markdown",
   "metadata": {},
   "source": [
    "<div class=arabic>\n",
    "لاحظ انه عند استخدام الامر \\__doc\\__ على الدالة add فانها تقوم باظهار الملاحظات تم كتابتها لتوضيح وظيفة الدالة كما في المثال التالي:\n",
    "</div>"
   ]
  },
  {
   "cell_type": "code",
   "execution_count": null,
   "metadata": {},
   "outputs": [],
   "source": [
    "print(add.__doc__)"
   ]
  },
  {
   "cell_type": "code",
   "execution_count": null,
   "metadata": {},
   "outputs": [],
   "source": [
    "add=decorated_by(add)"
   ]
  },
  {
   "cell_type": "code",
   "execution_count": null,
   "metadata": {},
   "outputs": [],
   "source": [
    "print(add.__doc__)"
   ]
  },
  {
   "cell_type": "markdown",
   "metadata": {},
   "source": [
    "<div class=arabic>\n",
    "لاحظ ان الدالة المنسقة decorated_by اخذت الدالة add كمدخلات وقامت بتعديل الملاحظات الخاصة بالدالة بحيث اضافة عليه سطر اخر من الملاحظات واعادة الدالة بعد التعديل عليها. لذلك عندما قمنا بطباعة ملاحظات الدالة المعدلة وجدنا التعديل قد ظهر في امر الطابعة الثاني.\n",
    "\n",
    "</div>"
   ]
  },
  {
   "cell_type": "markdown",
   "metadata": {},
   "source": [
    "<div class=arabic>\n",
    "ان عملية تعديل دالة واعادة تسميتها بنفص الاسم قد يسبب بعض التشويش في ذهن المبرمج لذلك تم استحداث طريقة سلهة لاحداث التعديل على الدالة دون اللجوء الى تغيير اسمها وذلك باستخدم الرمز @ متعبوعا باسم الدالة المنسقة فوق الدالة المراد التعديل عليها كما في المثال التالي:\n",
    "</div>"
   ]
  },
  {
   "cell_type": "code",
   "execution_count": null,
   "metadata": {},
   "outputs": [],
   "source": [
    "def decorated_by2(func):\n",
    "    func.__doc__ +=\"تم تنسيق الدالة بصورة  اسهل\"\n",
    "    return func"
   ]
  },
  {
   "cell_type": "code",
   "execution_count": null,
   "metadata": {},
   "outputs": [],
   "source": [
    "@decorated_by2\n",
    "def add(x,y):\n",
    "    '''this function add two numbers and return their sum \\n'''\n",
    "    return x+y\n",
    "\n",
    "print(add.__doc__)"
   ]
  },
  {
   "cell_type": "code",
   "execution_count": null,
   "metadata": {
    "jupyter": {
     "outputs_hidden": true
    }
   },
   "outputs": [],
   "source": []
  },
  {
   "cell_type": "markdown",
   "metadata": {},
   "source": [
    "<div class=arabic>\n",
    "<h2>ترتيب المنسقات</h2>\n",
    "يمكن تطبيق اكثر من دالة منسقة على دالة اخرى كما في المثال التالي:\n",
    "</div>"
   ]
  },
  {
   "cell_type": "code",
   "execution_count": null,
   "metadata": {},
   "outputs": [],
   "source": [
    "def decorated_by_one(func):\n",
    "    func.__doc__ +='المنسقة الاولى \\n'\n",
    "    return func\n",
    "def decorated_by_two(func):\n",
    "    func.__doc__ +='المنسقة الثانية'\n",
    "    return func\n",
    "\n",
    "@decorated_by_two\n",
    "@decorated_by_one\n",
    "def add(x,y):\n",
    "    '''this function add two numbers and return their sum \\n'''\n",
    "    return x+y\n",
    "\n",
    "print(add.__doc__)"
   ]
  },
  {
   "cell_type": "markdown",
   "metadata": {},
   "source": [
    "<div class=arabic>\n",
    "وما يجب ملاحظته من المثال السابق هو طريقة تطبيق المنسقات يبدا من الاسفل الى الاعلى. فلقد تم تطبيق الدالة المنسقة decorated_by_one  اولا ثم تم تطبيق الدالة المنسقة الثانية decorated_by_two. لذلك يجب التنبه الى عملية الترتيب هذه.\n",
    "</div>"
   ]
  },
  {
   "cell_type": "markdown",
   "metadata": {},
   "source": [
    "<div class=arabic>\n",
    "تمرين: قم بعكس ترتيب المنسقات في المثال السابق بحيث تصبح المنسقة decorated_by_two تقع مباشرة فوق الدالة add ثم ضع المنسقة decorated_by_one فوق المنسقة الثانية ولاحظ الفرق بين نتيجة هذا التغيير ونتيجة المثال السابق؟\n",
    "</div>"
   ]
  },
  {
   "cell_type": "markdown",
   "metadata": {},
   "source": [
    "<div class=arabic>\n",
    "<h2>اين يمكنا استخدام المنسقات</h2>\n",
    "مكتبة بايثون الاساسية تحتوي على منسقات فمثلا عندما نريد ان نستحدم دالة في مصنف لا يحتاج الى على عمل نسخة من المصنف فاننا نستخدم المنسقة @classmethod او @staticmethod.\n",
    "كما ان هناك اطارات عمل مثل flask تستخدم المنسقة @app.route للربط بين الدوال و عناوين الصفحات عندما تستدعى من المتصفح. وكذلك اطار العمل  Django والذي يستحدم المنسقة @login_required للتأكد من تسجيل الدخول قبل الدخول الى صفحات الموقع.\n",
    "كما يمكن استخدام المنسقات عندما نرغب بالتاكد من ملاءمة مدخلات دالة ما من حيث القيمة والنوع كما في المثال التالي: \n",
    "</div>"
   ]
  },
  {
   "cell_type": "code",
   "execution_count": null,
   "metadata": {},
   "outputs": [],
   "source": [
    "add.__annotations__"
   ]
  },
  {
   "cell_type": "markdown",
   "metadata": {},
   "source": [
    "<div class=arabic>\n",
    "<h2>أهمية المنسقات</h2>\n",
    "استخدام المنسقات يعتبر طريقة ذكية في كتابة الكود البرمجي فهي تساعد على سهولة قراءته واكتشاف الاخطاء به. كما ان استخدام المنسقات يجعل الكود البرمجي مستقل الاجزاء بحيث يمكن التعديل على الدالة باضافة او ازالة دون المساس بالكود البرمجي الموجود داخل الدالة المراد التعديل عليها.\n",
    "</div>"
   ]
  }
 ],
 "metadata": {
  "anaconda-cloud": {},
  "kernelspec": {
   "display_name": "Python 3",
   "language": "python",
   "name": "python3"
  },
  "language_info": {
   "codemirror_mode": {
    "name": "ipython",
    "version": 3
   },
   "file_extension": ".py",
   "mimetype": "text/x-python",
   "name": "python",
   "nbconvert_exporter": "python",
   "pygments_lexer": "ipython3",
   "version": "3.8.3"
  },
  "toc": {
   "navigate_menu": true,
   "number_sections": true,
   "sideBar": true,
   "threshold": 6,
   "toc_cell": false,
   "toc_section_display": "block",
   "toc_window_display": false
  },
  "toc_position": {
   "height": "549px",
   "left": "0px",
   "right": "920px",
   "top": "107px",
   "width": "183px"
  }
 },
 "nbformat": 4,
 "nbformat_minor": 4
}
