{
 "cells": [
  {
   "cell_type": "code",
   "execution_count": 1,
   "id": "fd188da7",
   "metadata": {},
   "outputs": [
    {
     "data": {
      "text/html": [
       "<style type=\"text/css\">@import url('https://www.fontstatic.com/f=yassin,amiri-quran,basim-marah,b-compset');\n",
       "\n",
       "\n",
       ".title{\n",
       "direction: rtl;\n",
       "font-size:100px;\n",
       "padding-right: 15px;\n",
       "line-height:10px;\n",
       "font-family:basim-marah;\n",
       "\n",
       "}\n",
       "\n",
       ".arabic{\n",
       "direction:rtl;\n",
       "font-size:20px;\n",
       "line-height:40px;\n",
       "padding-right: 1cm;\n",
       "padding-left: 1cm;\n",
       "text-align:justify;\n",
       "font-family:amiri-quran;\n",
       "}\n",
       "\n",
       ".horizontal{\n",
       "height:2px;\n",
       "border:none;\n",
       "color:#333;\n",
       "background-color:#333;\n",
       "width:75%;\n",
       "}\n",
       ".jupyter-widgets{\n",
       "    font-size:20px;\n",
       "    direction:rtl;\n",
       "    margin-right:25px;\n",
       "    font-family:amiri-quran;\n",
       "        \n",
       "}\n",
       ".widget-radio-box input{\n",
       "    float:right;\n",
       "    direction:ltr;\n",
       "    margin: 0 calc( var(--jp-widgets-input-padding) * 2 ) 0 10px;\n",
       "    text-align:right;\n",
       "    height: 30px;\n",
       "}\n",
       ".widget-radio{\n",
       "    flex-direction: column;\n",
       "    width:unset;\n",
       "    \n",
       "}\n",
       ".widget-label{  \n",
       "    font-family:amiri-quran;\n",
       "    font-size:18px;\n",
       "    height: 40px;\n",
       "}\n",
       "\n",
       ".widget-radio-box label {\n",
       "    font-size:18px;\n",
       "    height: 30px;\n",
       "}\n",
       "\n",
       ".true-grade{\n",
       "    color:green;\n",
       "}\n",
       ".false-grade{\n",
       "    color:red;\n",
       "}\n",
       "label:lang(en){\n",
       "    direction:ltr;\n",
       "    text-align:right;\n",
       "}\n",
       ".s{\n",
       "    line-height:unset;\n",
       "    height:unset;\n",
       "}\n",
       ".CodeMirror-wrap {\n",
       "    font-size:16px;\n",
       "}\n",
       "\n",
       ".basic_table{\n",
       "    font-size:20px;\n",
       "    color:\"green\";\n",
       "}</style>"
      ],
      "text/plain": [
       "<IPython.core.display.HTML object>"
      ]
     },
     "execution_count": 1,
     "metadata": {},
     "output_type": "execute_result"
    }
   ],
   "source": [
    "import style\n",
    "style._set_css_style(\"custom.css\")"
   ]
  },
  {
   "cell_type": "markdown",
   "id": "48c23bc4-a71b-4909-9772-66276db82a7b",
   "metadata": {},
   "source": [
    "<div class=arabic>\n",
    "<hr class=horizontal>\n",
    "<center>\n",
    "<a id=\"chapter9\"></a>\n",
    "<h1 class=title>\n",
    "الفصل التاسع : البرمجة الكائنية في بايثون\n",
    "</h1>\n",
    "</center>\n",
    "<hr class=horizontal>\n",
    "</div>"
   ]
  },
  {
   "cell_type": "markdown",
   "id": "484c20c0-e0f7-4592-8653-70ca82c4c80a",
   "metadata": {},
   "source": [
    "<div class=arabic>\n",
    "في الفصول السابقة كنا نعتمد في كتابتنا للبرامج على الأسلوب التسلسلي والذي عادة ما يكون مناسبا لكتابة البرامج الصغيرة فقط. لكن عندما يراد كتابة برامج كبيرة متعددة المهام فان استخدام الأسلوب التسلسلي يصبح غير مجد وذلك لسببين:\n",
    "    <br>\n",
    "    أولا: تصبح عملية التطوير شاقة عندما يراد إضافة مزايا ومهام جديدة في البرنامج.\n",
    "    <br>\n",
    "    ثانيا: ترابط الكود بشكل تسلسلي يجعل عملية اصلاح المشاكل في البرنامج غاية في الصعوبة وذلك لان اصلاح واضافة جزء من البرنامج قد يترتب عليه احداث مشكال جديدة في أجزاء أخرى من البرنامج.\n",
    "    <br>\n",
    "    لذلك سوف نتطرق في هذا الفصل الى التعرف على أسلوب جديد في كتابة الأكواد البرمجية يدعى البرمجة الكائنية Object Oriented Programming. يمتاز هذا الأسلوب البرمجي عن الأسلوب التسلسلي في تجزئته للبرنامج الى مكونات برمجية صغيرة لها خصائص ومهام يتم كتابتها داخل تركيب برمجي محدد يدعى كائن برمجي class.\n",
    "</div>"
   ]
  },
  {
   "cell_type": "markdown",
   "id": "cd0d8bd6-c6be-4ece-aa0b-581fae6714ed",
   "metadata": {},
   "source": [
    "<div class=arabic>\n",
    "\n",
    "<h2 class=title>\n",
    "أهداف الفصل\n",
    "</h2>\n",
    "عند اتمام هذا الفصل يجب ان يكون لديك المام بالآتي: \n",
    "\n",
    "<ol>\n",
    "<li> \n",
    "التعرف على كيفية انشاء كائن برمجي (class) له خواص ومهام محددة.   </li>\n",
    "<li>\n",
    "التعرف على كيفية انشاء نسخ من الكائن البرمجي لأداء مهام برمجية تم كتابتها داخل تعريف الكائن البرمجي.  </li>\n",
    "<li>\n",
    "معرفة كيفية توريث الخصائص والمهام بين الكائنات البرمجية.</li> \n",
    "</ol>\n",
    "</div>"
   ]
  },
  {
   "cell_type": "markdown",
   "id": "c73c307b-939d-4f46-97d8-27ad43b115a7",
   "metadata": {},
   "source": [
    "<div class=arabic>\n",
    "\n",
    "<h2 class=title>\n",
    "الكائنات البرمجية Classes\n",
    "</h2>\n",
    "    </div>"
   ]
  },
  {
   "cell_type": "markdown",
   "id": "97581b87-9645-47ee-adca-a388407c81d6",
   "metadata": {},
   "source": [
    "<div class=arabic>\n",
    "في فصول سابقة تعرفنا على أنواع البيانات وطريقة التعامل معها. ما لم نخبرك به عن هذه البيانات هو ان كل نوع من هذه البيانات يمثل كائن برمجي في بايثون تم إنشاؤه بالطريقة التي سوف نتعلمها في هذا الفصل. فالبيانات النصية مثلا تمثل كائن برمجي محدد تم تعريفه داخل اصدارة بايثون وكنا نتعرف على نوع الكائن بواسطة الدالة ()type كما في المثال التالي:\n",
    "</div>"
   ]
  },
  {
   "cell_type": "code",
   "execution_count": null,
   "id": "d1b865ef-a5c9-48e9-be4b-eb885135ba33",
   "metadata": {},
   "outputs": [],
   "source": [
    "print(type('hello'))"
   ]
  },
  {
   "cell_type": "markdown",
   "id": "d88a8e72-63d7-481c-b950-61c5b483c066",
   "metadata": {},
   "source": [
    "<div class=arabic>\n",
    "لاحظ ان النصوص عبارة عن كائن برمجي من النوع  str تم إنشاؤه داخل مكتبة بايثون القياسية. ولتعرف على هذا الكائن وكيفية كتابته وما يحتويه من أكواد برمجية يكمن الاستعانة بالدالة ()help وكتابة str بدون علامات اقتباس بين قوسي الدالة كما يلي:\n",
    "</div>"
   ]
  },
  {
   "cell_type": "code",
   "execution_count": null,
   "id": "74f58261-c61c-40a7-8dbd-142cfd07890f",
   "metadata": {},
   "outputs": [],
   "source": [
    "help(str)"
   ]
  },
  {
   "cell_type": "markdown",
   "id": "e35cab8e-1f80-4153-b03b-56148c648e27",
   "metadata": {},
   "source": [
    "<div class=arabic><h2 class=title>تمارين استكشافية</h2></div>"
   ]
  },
  {
   "cell_type": "markdown",
   "id": "d9ee553e-d703-470e-a262-200f17cd4c37",
   "metadata": {},
   "source": [
    "<div class=arabic>\n",
    "1- تعرف على الكائنات البرمجية للاعداد الموجود في بايثون باستخدام الدالة ()type و ()help؟\n",
    "</div>"
   ]
  },
  {
   "cell_type": "markdown",
   "id": "2bbcadb1-9c9d-42f0-8e9d-21d1bf4f85ee",
   "metadata": {},
   "source": [
    "<div class=arabic>\n",
    "يكمن انشاء كائن برمجي جديد في بايثون بنفس الأسلوب الذي استخدمناه لإنشاء الدوال في الفصل السابع الا اننا هنا سوف نستخدم أداة التعريف class بدلا عن def كما في المثال التالي:\n",
    "</div>"
   ]
  },
  {
   "cell_type": "code",
   "execution_count": null,
   "id": "f9a4412b-3b77-4bc4-8b5c-3cc40c03336f",
   "metadata": {},
   "outputs": [],
   "source": [
    "class Point:\n",
    "    pass"
   ]
  },
  {
   "cell_type": "markdown",
   "id": "b0c9580b-8ce1-400d-b9dc-9adba91dee37",
   "metadata": {},
   "source": [
    "<div class=arabic>\n",
    "لاحظ اننا قمنا بكتابة اسم الكائن Point بعد أداة تعريف الكائن class وأنهينا السطر بنقطتين فوق بعض. اسم الكائن هنا يمكن ان يكون أي اسم تختاره شريطة ان تنطبق عليه جميع شروط المتغيرات التي ذكرناها في الفصل الاول. لاحظ أيضا اننا استخدمنا خاصية ترك المسافة التي تعلمناها سابقا عند تعريف الدوال واستخدمنا الامر pass لنخبر مفسر بايثون اننا نود فقط انشاء الكائن بحيث نستطيع لاحقا إضافة خواص ومهام لهذا الكائن. ولتأكد من صحة انشائنا للكائن السابق يمكن القيام بكتابة اسم الكائن كما يلي:\n",
    "</div>"
   ]
  },
  {
   "cell_type": "code",
   "execution_count": null,
   "id": "ea4eb24a-fe8e-4cc7-98cd-c55d5baf753c",
   "metadata": {},
   "outputs": [],
   "source": [
    "print(Point)"
   ]
  },
  {
   "cell_type": "markdown",
   "id": "1e82a67a-7cc9-448f-a6b2-1f0a02b3bfaf",
   "metadata": {},
   "source": [
    "<div class=arabic>\n",
    "    ويمكننا أنشاء نسخة من الكائن Point واسنادها للمتغير p1 باستخدام اسم الكائن متبوعا بقوسين فارغين كما في المثال التالي:\n",
    "</div>"
   ]
  },
  {
   "cell_type": "code",
   "execution_count": null,
   "id": "52f4db13-9ae6-49f3-9e77-01de80ae823a",
   "metadata": {
    "scrolled": true
   },
   "outputs": [],
   "source": [
    "p1=Point()"
   ]
  },
  {
   "cell_type": "markdown",
   "id": "32cee68f-d695-4314-ba59-643b66e0f714",
   "metadata": {},
   "source": [
    "<div class=arabic>\n",
    "وعند طباعة نوع المتغير p1 فان مفسر بايثون سوف يعطينا انه من الصنف Point كما يلي:\n",
    "</div>"
   ]
  },
  {
   "cell_type": "code",
   "execution_count": null,
   "id": "6d50a18a-b194-4f1a-b84a-ee8e814385fc",
   "metadata": {},
   "outputs": [],
   "source": [
    "p1=Point()\n",
    "type(p1)"
   ]
  },
  {
   "cell_type": "markdown",
   "id": "ed74d057-dd3b-4b79-b1eb-4c1b7e9e685e",
   "metadata": {},
   "source": [
    "<div class=arabic>\n",
    "لنفرض الان اننا نريد ان نقوم باعطاء هذا الكائن بعض الخواص (attributes). ما نقصده بالخواص هنا هو مجرد متغيرات تم كتابتها داخل تعريف الكائن البرمجي كما في المثال التالي:\n",
    "</div>"
   ]
  },
  {
   "cell_type": "code",
   "execution_count": null,
   "id": "aaa438c7-5160-4661-a665-82b8dceff91a",
   "metadata": {},
   "outputs": [],
   "source": [
    "class Point():\n",
    "    x=0\n",
    "    y=1\n",
    "\n",
    "print(Point.x)\n",
    "print(Point.y)"
   ]
  },
  {
   "cell_type": "markdown",
   "id": "4a80a7ff-7ac6-476d-abfc-9f1d8d357775",
   "metadata": {},
   "source": [
    "<div class=arabic>\n",
    "لاحظ اننا اضفنا للكائن Point خاصية x وخاصية y وتم استدعاء هذه الخاصية باستخدام اسم الخاصية بعد اسم الكائن مفصولا بينهما بنقطة. هذا النوع من الخواص يسمى خواص الكائن البرمجي العامة. ويوجد نوع اخر من الخواص يسمى خواص النسخة التي يراد عملها من الكائن البرمجي ويتم كتابة هذه الخواص داخل دالة خاصة تسمى ()__init__ يتم تعريفها داخل الكائن بحيث يتم تنفيذها عند بداية انشاء أي نسخة من الكائن. فمثلا لنفرض اننا نريد ان ننشئ النسختين p1 و p2 من الكائن Point بحيث تكون قيمة الخاصية y مختلفة لكل نسخة من p1 و p2. للقيام بذلك نقوم بتعريف دالة خاصة تسمى ()__init__ كما يلي:\n",
    "</div>"
   ]
  },
  {
   "cell_type": "code",
   "execution_count": null,
   "id": "e28efe87-4d44-4c6e-b6b1-5d4e08a1feac",
   "metadata": {},
   "outputs": [],
   "source": [
    "class Point():\n",
    "    x=0\n",
    "    y=1\n",
    "    def __init__(self,x,y):\n",
    "        self.x=x\n",
    "        self.y=y\n",
    "\n",
    "p1=Point(5,4)\n",
    "p2=Point(4,2)\n",
    "\n",
    "print(p1.y)\n",
    "print(p2.y)"
   ]
  },
  {
   "cell_type": "markdown",
   "id": "e900c762-0323-46c5-87e0-9bc51d8b14e0",
   "metadata": {},
   "source": [
    "<div class=arabic>\n",
    "هناك مجموعة ملاحظات يجب تدوينها حول المثال السابق\n",
    "    : <br>\n",
    "أولا: الدوال عندما تكتب داخل تعريف الكائن تسمى مهام methods.\n",
    "    <br>\n",
    "ثانيا:\n",
    "    self في المثال السابق تشير الى اسم النسخة التي يتم عملها أيا كان اسم هذه النسخة. فكتابة self.y يتم ترجمته الى p1.y عندما يتم عمل النسخة p1 من الكائن Point.\n",
    "    <br>\n",
    "ثالثا: عند تعريف أي مهمة \n",
    "    method داخل كائن فانه يجب كتابة المدخل self كأول قيمة لهذه المهمة.\n",
    "    <br> \n",
    "رابعا: عند عمل نسخة من الكائن لا نحتاج لكتابة \n",
    "    self بين قوسي اسم الكائن ويكتفى فقط بالمدخلات الإلزامية التي تلي المدخل self في المهمة ()__init__. الفشل في تزويد المدخلات الإلزامية التي تلي self في المهمة ()__init__ يؤدي لظهور ملاحظة بوجود خطأ من قبل مفسر بايثون. فلو قمنا بعمل نسخة من الكائن Point بدون إعطاء قيمة للخاصية y فان مفسر بايثون يعطينا الملاحظة التالية:\n",
    "</div>"
   ]
  },
  {
   "cell_type": "code",
   "execution_count": null,
   "id": "c29787eb-bbdf-4d81-8a97-495226fd136f",
   "metadata": {},
   "outputs": [],
   "source": [
    "class Point():\n",
    "    x=0\n",
    "    y=1\n",
    "    def __init__(self,x,y):\n",
    "        self.x=x\n",
    "        self.y=y\n",
    "p1=Point()\n",
    "print(p1.y)"
   ]
  },
  {
   "cell_type": "markdown",
   "id": "7aeb343b-34c4-40dd-b4ce-fddc7cecce51",
   "metadata": {},
   "source": [
    "<div class=arabic>\n",
    "لنقم الان بتعريف مهمة يمكن تنفيذها على النسخ التي يتم انشاؤها من هذا الكائن ولتكن هذه الوظيفة هي ايجاد طول الخط الذي يصل بين نقطة ونقطة الاصل. لتعريف هذه المهمة نقوم بانشاء دالة بنفس الطريقة التي تعلمنها في الفصل السابع ولكنها تختلف قليلا عن الدالة الاعتيادية في كونها تكتب داخل كائن وتحتوي على مدخل الزامي اول self كما في المثال التالي:\n",
    "</div>"
   ]
  },
  {
   "cell_type": "code",
   "execution_count": null,
   "id": "7c9917e6-6ca4-40f5-84f1-7fb94c116139",
   "metadata": {},
   "outputs": [],
   "source": [
    "class Point():\n",
    "    x=0\n",
    "    y=1\n",
    "    def __init__(self,x,y):\n",
    "        self.x=x\n",
    "        self.y=y\n",
    "    def distance(self):\n",
    "        return (self.x**2+self.y**2)**0.5"
   ]
  },
  {
   "cell_type": "code",
   "execution_count": null,
   "id": "59b83bd7-bcf6-48b8-96a0-ac293e3b9892",
   "metadata": {},
   "outputs": [],
   "source": [
    "pt1=Point(3,4)\n",
    "dist=pt1.distance()\n",
    "print(dist)"
   ]
  },
  {
   "cell_type": "markdown",
   "id": "9d41739f-1f33-47fe-8177-215b21c21d82",
   "metadata": {},
   "source": [
    "<div class=arabic>\n",
    "لنقم الان بتعريف مهمة جديدة تقوم بحساب المسافة بين نقطة ونقطة اخرى وليس بين بالضرورة ان تكون هذه النقطة هي نقطة الاصل. للقيام بذلك نعرف دالة جديدة داخل الكائن على النحو التالي:\n",
    "</div>"
   ]
  },
  {
   "cell_type": "code",
   "execution_count": null,
   "id": "14db25c8-1662-4b6d-90a3-6d7f14a81d8d",
   "metadata": {},
   "outputs": [],
   "source": [
    "class Point():\n",
    "    x=0\n",
    "    y=1\n",
    "    def __init__(self,x,y):\n",
    "        self.x=x\n",
    "        self.y=y\n",
    "    def distance(self):\n",
    "        return (self.x**2+self.y**2)**0.5\n",
    "    \n",
    "    def two_point_distance(self,pt):\n",
    "        return ((self.x-pt.x)**2+(self.y-pt.y)**2)**0.5    "
   ]
  },
  {
   "cell_type": "code",
   "execution_count": null,
   "id": "98e3fde2-737d-40f2-aa4c-65376bd1d4f8",
   "metadata": {},
   "outputs": [],
   "source": [
    "point1=Point(3,4)\n",
    "point2=Point(3,4)\n",
    "dist=point1.two_point_distance(point2)\n",
    "print(dist)"
   ]
  },
  {
   "cell_type": "markdown",
   "id": "78560d6f-7463-4dc1-94c7-063d182f69fa",
   "metadata": {},
   "source": [
    "<div class=arabic>\n",
    "لنقم الان بطباعة نقطة تم نسخها من الكائن Point لنرى كيف يقوم بايثون بطباعة هذه النسخة.\n",
    "</div>"
   ]
  },
  {
   "cell_type": "code",
   "execution_count": null,
   "id": "ad714824-0354-4350-b66e-91abe5e59659",
   "metadata": {},
   "outputs": [],
   "source": [
    "pt1=Point(1,2)\n",
    "print(pt1)"
   ]
  },
  {
   "cell_type": "markdown",
   "id": "5f59205b-9ddc-48be-afb7-845bebe4cb2b",
   "metadata": {},
   "source": [
    "<div class=arabic>\n",
    "    لنقم بتحسين عملية طباعة النقطة  السابقة بحيث يكون ناتج الطباعة (1,2)\n",
    "بدلا من القيمة الافتراضية التي يقوم بها مفسر بايثون حينما لا يجد مهمة داخل الكائن ترشده الي كيفية الطباعة. يوجود في بايثون مهمة خاصة تحمل الاسم ()__str__ \n",
    "    يقوم مفسر بايثون بتنفيذها عندما نستخدم امر الطباعة ()print ولتعديل طباعة النقطة سوف نكتب المهمة ()__str__ على النحو التالي:   \n",
    "</div>"
   ]
  },
  {
   "cell_type": "code",
   "execution_count": null,
   "id": "ad218f58-1b75-4b27-9500-25e60c5700e7",
   "metadata": {},
   "outputs": [],
   "source": [
    "class Point():\n",
    "    x=0\n",
    "    y=1\n",
    "    def __init__(self,x,y):\n",
    "        self.x=x\n",
    "        self.y=y\n",
    "    def distance(self):\n",
    "        return (self.x**2+self.y**2)**0.5\n",
    "    \n",
    "    def two_point_distance(self,pt):\n",
    "        return ((self.x-pt.x)**2+(self.y-pt.y)**2)**0.5  \n",
    "    \n",
    "    def __str__(self):   \n",
    "        return '({0}, {1})'.format(self.x, self.y)\n",
    "        "
   ]
  },
  {
   "cell_type": "code",
   "execution_count": null,
   "id": "91d6f735-ab22-4a4e-8a52-5ee0f13ef7a5",
   "metadata": {},
   "outputs": [],
   "source": [
    "p1=Point(1,2)\n",
    "print(p1)"
   ]
  }
 ],
 "metadata": {
  "kernelspec": {
   "display_name": "Python 3 (ipykernel)",
   "language": "python",
   "name": "python3"
  },
  "language_info": {
   "codemirror_mode": {
    "name": "ipython",
    "version": 3
   },
   "file_extension": ".py",
   "mimetype": "text/x-python",
   "name": "python",
   "nbconvert_exporter": "python",
   "pygments_lexer": "ipython3",
   "version": "3.8.10"
  }
 },
 "nbformat": 4,
 "nbformat_minor": 5
}
