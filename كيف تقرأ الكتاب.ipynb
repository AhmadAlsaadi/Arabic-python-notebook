{
 "cells": [
  {
   "cell_type": "code",
   "execution_count": 1,
   "id": "ff1802a9",
   "metadata": {},
   "outputs": [
    {
     "data": {
      "text/html": [
       "<style type=\"text/css\">@import url('https://www.fontstatic.com/f=yassin,amiri-quran,basim-marah,b-compset');\n",
       "\n",
       "\n",
       "@font-face {\n",
       "  font-family: Arslan;\n",
       "  src: url(Arslan.ttf);\n",
       "}\n",
       "\n",
       ".title{\n",
       "direction: rtl;\n",
       "font-size:100px;\n",
       "padding-right: 15px;\n",
       "line-height:10px;\n",
       "font-family:basim-marah;\n",
       "}\n",
       "\n",
       "div.text_cell pre.CodeMirror-line {\n",
       "direction:rtl;\n",
       "font-size:20px;\n",
       "color:Blue;\n",
       "line-height:40px;\n",
       "padding-right: 1cm;\n",
       "padding-left: 1cm;\n",
       "text-align:justify;\n",
       "font-family:amiri-quran;\n",
       "}\n",
       ".rendered_html {\n",
       "direction:rtl;\n",
       "font-size:20px;\n",
       "line-height:40px;\n",
       "padding-right: 1cm;\n",
       "padding-left: 1cm;\n",
       "text-align:justify;\n",
       "font-family:amiri-quran;\n",
       "}\n",
       "\n",
       ".rendered_html p {\n",
       "direction:rtl;\n",
       "font-size:20px;\n",
       "line-height:40px;\n",
       "padding-right: 1cm;\n",
       "padding-left: 1cm;\n",
       "text-align:justify;\n",
       "font-family:amiri-quran;\n",
       "}\n",
       "\n",
       ".rendered_html h1{\n",
       "direction: rtl;\n",
       "font-size:200%;\n",
       "text-align:center;\n",
       "padding-right: 55px;\n",
       "font-family:Arslan;\n",
       "}\n",
       "\n",
       ".rendered_html h2{\n",
       "direction: rtl;\n",
       "font-size:171%;\n",
       "padding-right: 55px;\n",
       "line-height:10px;\n",
       "font-family:Arslan;\n",
       "}\n",
       "\n",
       ".rendered_html h3{\n",
       "direction: rtl;\n",
       "font-size:141%;\n",
       "padding-right: 55px;\n",
       "line-height:10px;\n",
       "font-family:Arslan;\n",
       "}\n",
       "\n",
       ".rendered_html ul {\n",
       "    list-style-type: none;\n",
       "}\n",
       "\n",
       ".rendered_html ul li:before {\n",
       "  content: '-';\n",
       "  position: absolute;\n",
       "  margin-right: -10px;\n",
       "}\n",
       "\n",
       ".arabic{\n",
       "direction:rtl;\n",
       "font-size:20px;\n",
       "line-height:40px;\n",
       "padding-right: 1cm;\n",
       "padding-left: 1cm;\n",
       "text-align:justify;\n",
       "font-family:amiri-quran;\n",
       "}\n",
       "\n",
       ".horizontal{\n",
       "height:2px;\n",
       "border:none;\n",
       "color:#333;\n",
       "background-color:#333;\n",
       "width:75%;\n",
       "}\n",
       ".jupyter-widgets{\n",
       "    font-size:20px;\n",
       "    direction:rtl;\n",
       "    margin-right:25px;\n",
       "    font-family:amiri-quran;\n",
       "        \n",
       "}\n",
       ".widget-radio-box input{\n",
       "    float:right;\n",
       "    direction:ltr;\n",
       "    margin: 0 calc( var(--jp-widgets-input-padding) * 2 ) 0 10px;\n",
       "    text-align:right;\n",
       "    height: 30px;\n",
       "}\n",
       ".widget-radio{\n",
       "    flex-direction: column;\n",
       "    width:unset;\n",
       "    \n",
       "}\n",
       ".widget-label{  \n",
       "    font-family:amiri-quran;\n",
       "    font-size:18px;\n",
       "    height: 40px;\n",
       "}\n",
       "\n",
       ".widget-radio-box label {\n",
       "    font-size:18px;\n",
       "    height: 30px;\n",
       "}\n",
       "\n",
       ".true-grade{\n",
       "    color:green;\n",
       "}\n",
       ".false-grade{\n",
       "    color:red;\n",
       "}\n",
       "label:lang(en){\n",
       "    direction:ltr;\n",
       "    text-align:right;\n",
       "}\n",
       ".s{\n",
       "    line-height:unset;\n",
       "    height:unset;\n",
       "}\n",
       ".CodeMirror-wrap {\n",
       "    font-size:16px;\n",
       "}\n",
       "\n",
       ".basic_table{\n",
       "    font-size:20px;\n",
       "    color:\"green\";\n",
       "}\n",
       "ol {\n",
       "    margin-right:25px;\n",
       "}</style>"
      ],
      "text/plain": [
       "<IPython.core.display.HTML object>"
      ]
     },
     "execution_count": 1,
     "metadata": {},
     "output_type": "execute_result"
    }
   ],
   "source": [
    "import style\n",
    "style._set_css_style(\"custom.css\")"
   ]
  },
  {
   "cell_type": "markdown",
   "id": "d34100bc",
   "metadata": {},
   "source": [
    "# كيف تقرأ الكتاب"
   ]
  },
  {
   "cell_type": "markdown",
   "id": "2efa9373",
   "metadata": {},
   "source": [
    "تم تدوين هذا الكتاب بواسطة دفتر ملاحظات جوبتر. ووقع الاختيار على استخدام دفتر ملاحظات جوبتر لعدة اسباب من اهمها:"
   ]
  },
  {
   "cell_type": "markdown",
   "id": "a71fbbd1",
   "metadata": {},
   "source": [
    "1.  دفتر ملاحظات جوبتر بيئة تفاعلية يجمع بين امكانية اضافة الشروح وكتابة الاكواد البرمجية.  فجوبتر يحتوي على نوعين من الخلايا. خلايا تنسيق نصوص Markdown تسمح بكتابة النصوص واضافة الصور  وخلايا كود تمسح بكتابة وتنفيذ اكواد بايثون البرمجية داخالها.\n",
    "2. تعلم لغات البرمجة يتطلب الكثير من التمرس على كتابة الاكواد واكتشاف الاخطاء ووجود بيئة تفاعلية مثل دفتر ملاحظات جوبتر سوف تمكين المتعلم من التعديل على الاكواد الموجودة داخل صفحات الكتاب واختبار نتائج التعديل عليها دون الحاجة الى اعادة كتابة الاكواد في محرر خارجي خاص كما جرت عليه العادة في كتب تعليم لغات البرمجة الورقية.  \n",
    "3. امكانية اضافة المتعلم لملاحظاته الخاصة داخل الكتاب بشكل مباشر."
   ]
  },
  {
   "cell_type": "markdown",
   "id": "b72c934e",
   "metadata": {},
   "source": [
    "  لاستخدام دفتر ملاحظات جوبتر في فتح الكتاب والتفاعل معه هناك طريقتان:\n",
    "  - فتح الكتاب عن طريق خادم مجاني تم تنصيب دفتر ملاحظات جوبتر عليه مثل موقع mybinder وموقع قوقل collab\n",
    "  - فتح الكتاب عن طريق  دفتر ملاحظات جوبتر بعد تنصيبه على الجهاز الذي تعمل عليه."
   ]
  },
  {
   "cell_type": "markdown",
   "id": "a4b6133e",
   "metadata": {},
   "source": [
    "## استخدام خادم mybinder"
   ]
  },
  {
   "cell_type": "markdown",
   "id": "1a7beb2d",
   "metadata": {},
   "source": [
    "1. قم بنسخ عنوان موقع الكتاب <a href=\"https://github.com/ahmadalsaadi/arabic-python-notebook.git\">https://github.com/ahmadalsaadi/arabic-python-notebook.git</a>\n",
    "2. قم بزيارة موقع <a href=\"https://mybinder.org/\">mybinder.org</a>\n",
    "3. قم بلصق عنوان موقع الكتاب في موقع mybinder والضغط على زر launch كما في الشكل التالي:\n",
    "    <img src=\"img/mybinder2.png\">\n",
    "4. انتظر ريثما يقوم خادم mybinder بتجهيز بيئة دفتر ملاحظات جوبتر وفتح المجلد الذي يجتوي على ملفات الكتاب.\n",
    "5.  اضغط على ملف قرة العيون في تبسيط لغة بايثون لفتح الكتاب\n",
    "6. لإظهار الكتاب بالشكل المطلوب قم بالضغط على أول خلية في الكتاب ومن ثم قم بالضغط زر run من شريط الأوامر في دفتر ملاحظات جوبتر.\n",
    "\n",
    "    <img src=\"img/cmd4.png\">         "
   ]
  },
  {
   "cell_type": "markdown",
   "id": "183ebc1c",
   "metadata": {},
   "source": [
    "## استخدام خادم Collab"
   ]
  },
  {
   "cell_type": "markdown",
   "id": "5cd7daef",
   "metadata": {},
   "source": []
  },
  {
   "cell_type": "markdown",
   "id": "e70f1160",
   "metadata": {},
   "source": [
    "## تنصيب دفتر ملاحظات جوبتر على جهاز الكمبيوتر \n",
    "تعتبر طريقة فتح الكتاب والتفاعل معه من خلال تنصيب دفتر ملاحظات جوبتر على جهاز الكمبيوتر الذي نعمل عليه هي الطريقة المثلى  من بين الطرق الثلاثة السابقة. وتعتبر طريقة تصيب توزيعة ِِAnaconda هي الطريقة الأسهل للمبتدئين متى ما ارادوا تنصيب دفتر ملاحظات جوبتر على اجهمزتهم الكمبيوترية.  فتوزيعة Anaconda تحتوي على مفسر بايثون ودفتر ملاحظات جوبتر والكثير من المكتبات العلمية المفيدة التي تصل بالمتعلم الى مستويات متقدمة في لغة بايثون. لذلك سوف نقتصر الشرح هنا على كيفية تنصيب هذه التوزيعة."
   ]
  },
  {
   "cell_type": "markdown",
   "id": "fcbf7d35",
   "metadata": {},
   "source": [
    "### تنصيب توزيعة Anaconda "
   ]
  },
  {
   "cell_type": "markdown",
   "id": "b3b91f5b",
   "metadata": {},
   "source": [
    "يمكن اتباع الخطوات التالية لتنصيب توزيعة Anaconda على انظمة التشغيل الثلاثة المشهورة (وندوز ـ ماك ـ ولينكس)."
   ]
  },
  {
   "cell_type": "markdown",
   "id": "4ca0cbcd",
   "metadata": {},
   "source": [
    "1.  قم بزيارة موقع Anaconda  التالي: https://www.anaconda.com/products/distribution\n",
    "2. قم بتحميل التوزيعة المناسبة على جهازك.\n",
    "3. قم بتشغيل الملف الذي قمت بتحميله في الخطوة 2 لبدء واكمال عملية التنصيب على جهازك.\n",
    "4. بعد اكتمال عملية التنصيب قم بفتح Anaconda Navigator من خلال البحث في البرامج الموجودة على جهازك.\n",
    "5. بعد تشغيل Anaconda Navigator سوف تظهر لك نافذه تحتوي على عدة برامج اختر منها دفتر ملاحظات جوبتر Jupyter Notebook وقم بالضغط عليه.\n",
    "6. سوف يتم فتح دفتر ملاحظات جوبتر في متصفح الويب لديك ويعرض لك قائمة بالملفات والمجلدات الموجودة على جهازك.\n",
    "7. قم بتحميل الكتاب من موقع  Github بالضغط على الرابط التالي: https://github.com/AhmadAlsaadi/Arabic-python-notebook/archive/refs/heads/master.zip\n",
    "8. قم بفك الضغط عن مجلد الكتاب ووضعه على سطح المكتب او في اي مكان آخر تختاره.\n",
    "9. عد لدفتر ملاحظات جوبتر وابحث في قائمة المجلدات هناك عن مجلد الكتاب الذي قمت بفك الضغط عنه واضغط عليه للدخول  للمجلد.\n",
    "10. عند الدخول لمجلد الكتاب من دفتر ملاحظات جوبتر قم بالضغط على الملف \"قرة العيون في تبسيط لغة بايثون\" لفتح الكتاب .\n",
    "11. لاظهار الكتاب بالشكل الصحيح قم باختيار اول خلية في الكتاب والضغط على زر Run من قائمة الادوات في دفتر ملاحظات جوبتر كما هو موضح في الشكل التالي:\n",
    "\n",
    "<img src=\"img/cmd4.png\">\n",
    "\n",
    "12. للتعرف على كيفية التفاعل مع الكتاب قم بفتح وقراءة ملف الدليل الارشادي لدفتر ملاحظات جوبتر الذي يأتي مع الكتاب."
   ]
  },
  {
   "cell_type": "code",
   "execution_count": null,
   "id": "30ef28d7",
   "metadata": {},
   "outputs": [],
   "source": []
  }
 ],
 "metadata": {
  "kernelspec": {
   "display_name": "Python 3 (ipykernel)",
   "language": "python",
   "name": "python3"
  },
  "language_info": {
   "codemirror_mode": {
    "name": "ipython",
    "version": 3
   },
   "file_extension": ".py",
   "mimetype": "text/x-python",
   "name": "python",
   "nbconvert_exporter": "python",
   "pygments_lexer": "ipython3",
   "version": "3.8.10"
  }
 },
 "nbformat": 4,
 "nbformat_minor": 5
}
