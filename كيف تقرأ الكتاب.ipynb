{
 "cells": [
  {
   "cell_type": "code",
   "execution_count": 4,
   "id": "96d07da3",
   "metadata": {},
   "outputs": [
    {
     "data": {
      "text/html": [
       "<style type=\"text/css\">@import url('https://www.fontstatic.com/f=yassin,amiri-quran,basim-marah,b-compset');\n",
       "\n",
       "\n",
       "@font-face {\n",
       "  font-family: Arslan;\n",
       "  src: url(Arslan.ttf);\n",
       "}\n",
       "\n",
       ".title{\n",
       "direction: rtl;\n",
       "font-size:100px;\n",
       "padding-right: 15px;\n",
       "line-height:10px;\n",
       "font-family:basim-marah;\n",
       "}\n",
       "\n",
       "div.text_cell pre.CodeMirror-line {\n",
       "direction:rtl;\n",
       "font-size:20px;\n",
       "color:Blue;\n",
       "line-height:40px;\n",
       "padding-right: 1cm;\n",
       "padding-left: 1cm;\n",
       "text-align:justify;\n",
       "font-family:amiri-quran;\n",
       "}\n",
       ".rendered_html {\n",
       "direction:rtl;\n",
       "font-size:20px;\n",
       "line-height:40px;\n",
       "padding-right: 1cm;\n",
       "padding-left: 1cm;\n",
       "text-align:justify;\n",
       "font-family:amiri-quran;\n",
       "}\n",
       "\n",
       ".rendered_html p {\n",
       "direction:rtl;\n",
       "font-size:20px;\n",
       "line-height:40px;\n",
       "padding-right: 1cm;\n",
       "padding-left: 1cm;\n",
       "text-align:justify;\n",
       "font-family:amiri-quran;\n",
       "}\n",
       "\n",
       ".rendered_html h1{\n",
       "direction: rtl;\n",
       "font-size:200%;\n",
       "text-align:center;\n",
       "padding-right: 55px;\n",
       "font-family:Arslan;\n",
       "}\n",
       "\n",
       ".rendered_html h2{\n",
       "direction: rtl;\n",
       "font-size:171%;\n",
       "padding-right: 55px;\n",
       "line-height:10px;\n",
       "font-family:Arslan;\n",
       "}\n",
       "\n",
       ".rendered_html h3{\n",
       "direction: rtl;\n",
       "font-size:141%;\n",
       "padding-right: 55px;\n",
       "line-height:10px;\n",
       "font-family:Arslan;\n",
       "}\n",
       "\n",
       ".rendered_html ul {\n",
       "    list-style-type: none;\n",
       "}\n",
       "\n",
       ".rendered_html ul li:before {\n",
       "  content: '-';\n",
       "  position: absolute;\n",
       "  margin-right: -10px;\n",
       "}\n",
       "\n",
       ".arabic{\n",
       "direction:rtl;\n",
       "font-size:20px;\n",
       "line-height:40px;\n",
       "padding-right: 1cm;\n",
       "padding-left: 1cm;\n",
       "text-align:justify;\n",
       "font-family:amiri-quran;\n",
       "}\n",
       "\n",
       ".horizontal{\n",
       "height:2px;\n",
       "border:none;\n",
       "color:#333;\n",
       "background-color:#333;\n",
       "width:75%;\n",
       "}\n",
       ".jupyter-widgets{\n",
       "    font-size:20px;\n",
       "    direction:rtl;\n",
       "    margin-right:25px;\n",
       "    font-family:amiri-quran;\n",
       "        \n",
       "}\n",
       ".widget-radio-box input{\n",
       "    float:right;\n",
       "    direction:ltr;\n",
       "    margin: 0 calc( var(--jp-widgets-input-padding) * 2 ) 0 10px;\n",
       "    text-align:right;\n",
       "    height: 30px;\n",
       "}\n",
       ".widget-radio{\n",
       "    flex-direction: column;\n",
       "    width:unset;\n",
       "    \n",
       "}\n",
       ".widget-label{  \n",
       "    font-family:amiri-quran;\n",
       "    font-size:18px;\n",
       "    height: 40px;\n",
       "}\n",
       "\n",
       ".widget-radio-box label {\n",
       "    font-size:18px;\n",
       "    height: 30px;\n",
       "}\n",
       "\n",
       ".true-grade{\n",
       "    color:green;\n",
       "}\n",
       ".false-grade{\n",
       "    color:red;\n",
       "}\n",
       "label:lang(en){\n",
       "    direction:ltr;\n",
       "    text-align:right;\n",
       "}\n",
       ".s{\n",
       "    line-height:unset;\n",
       "    height:unset;\n",
       "}\n",
       ".CodeMirror-wrap {\n",
       "    font-size:16px;\n",
       "}\n",
       "\n",
       ".basic_table{\n",
       "    font-size:20px;\n",
       "    color:\"green\";\n",
       "}\n",
       "ol {\n",
       "    margin-right:25px;\n",
       "}</style>"
      ],
      "text/plain": [
       "<IPython.core.display.HTML object>"
      ]
     },
     "execution_count": 4,
     "metadata": {},
     "output_type": "execute_result"
    }
   ],
   "source": [
    "import style\n",
    "style._set_css_style(\"custom.css\")"
   ]
  },
  {
   "cell_type": "markdown",
   "id": "48127f80",
   "metadata": {},
   "source": [
    "  \n",
    "    "
   ]
  },
  {
   "cell_type": "markdown",
   "id": "d34100bc",
   "metadata": {},
   "source": [
    "# كيف تقرأ الكتاب"
   ]
  },
  {
   "cell_type": "markdown",
   "id": "2efa9373",
   "metadata": {},
   "source": [
    "تم تدوين هذا الكتاب بواسطة دفتر ملاحظات جوبتر. ووقع الإختيار على استخدام دفتر ملاحظات جوبتر لعدة أسباب من أهمها:"
   ]
  },
  {
   "cell_type": "markdown",
   "id": "a71fbbd1",
   "metadata": {},
   "source": [
    "1.  دفتر ملاحظات جوبتر بيئة تفاعلية يجمع بين امكانية إضافة الشروح وكتابة الأكواد البرمجية.  فجوبتر يحتوي على نوعين من الخلايا. خلايا تنسيق نصوص Markdown تسمح بكتابة النصوص وإضافة الصور  وخلايا كود تمسح بكتابة وتنفيذ أكواد بايثون البرمجية داخالها.\n",
    "2. تعلم لغات البرمجة يتطلب الكثير من التمرس على كتابة الأكواد واكتشاف الأخطاء ووجود بيئة تفاعلية مثل دفتر ملاحظات جوبتر سوف يمكين المتعلم من التعديل على الأكواد الموجودة داخل صفحات الكتاب واختبار نتائج التعديل عليها دون الحاجة الى إعادة كتابة الأكواد في محرر خارجي خاص كما جرت عليه العادة في كتب تعليم لغات البرمجة الورقية.  \n",
    "3. امكانية إضافة المتعلم لملاحظاته الخاصة داخل الكتاب بشكل مباشر."
   ]
  },
  {
   "cell_type": "markdown",
   "id": "b62729de",
   "metadata": {},
   "source": [
    "\n",
    "لاستخدام دفتر ملاحظات جوبتر في فتح الكتاب والتفاعل معه يجب عليك اولا تنصيبه على الجهاز الذي تعمل عليه. بعد إتمام عملية التنصيب بنجاح وتشغيل دفتر ملاحظات جوبتر سوف يتم إنشاء خادم محلي على جهاز الكمبيوتر يمكن الدخول اليه من خلال متصفح الويب  والذي بدوره يمكنا من فتح ملفات الكتاب. "
   ]
  },
  {
   "cell_type": "markdown",
   "id": "e70f1160",
   "metadata": {},
   "source": [
    "## تنصيب دفتر ملاحظات جوبتر على جهاز الكمبيوتر \n",
    "تعتبر طريقة فتح الكتاب والتفاعل معه من خلال تنصيب دفتر ملاحظات جوبتر على جهاز الكمبيوتر الذي نعمل عليه هي الطريقة المثلى. وتعتبر طريقة تصيب توزيعة ِِAnaconda هي الطريقة الأسهل للمبتدئين متى ما أرادوا تنصيب دفتر ملاحظات جوبتر على أجهزتهم الكمبيوترية.  فتوزيعة Anaconda تحتوي على مفسر بايثون ودفتر ملاحظات جوبتر والكثير من المكتبات العلمية المفيدة التي تصل بالمتعلم الى مستويات متقدمة في لغة بايثون. لذلك سوف نقتصر الشرح هنا على كيفية تنصيب هذه التوزيعة."
   ]
  },
  {
   "cell_type": "markdown",
   "id": "fcbf7d35",
   "metadata": {},
   "source": [
    "### تنصيب توزيعة Anaconda "
   ]
  },
  {
   "cell_type": "markdown",
   "id": "b3b91f5b",
   "metadata": {},
   "source": [
    "يمكن اتباع الخطوات التالية لتنصيب توزيعة Anaconda على أنظمة التشغيل الثلاثة المشهورة (وندوز ـ ماك ـ ولينكس)."
   ]
  },
  {
   "cell_type": "markdown",
   "id": "2e333931",
   "metadata": {},
   "source": [
    "1.  قم بزيارة موقع Anaconda  التالي:    \n",
    "https://www.anaconda.com/products/distribution\n",
    "2. قم بتحميل التوزيعة المناسبة لنظام التشغيل الذي تعمل عليه على جهازك.\n",
    "3. قم بتشغيل الملف الذي قمت بتحميله في الخطوة 2 لبدء وإكمال عملية التنصيب على جهازك.\n",
    "4. بعد اكتمال عملية التنصيب قم بفتح Anaconda Navigator من خلال البحث في البرامج الموجودة على جهازك.\n",
    "5. بعد تشغيل Anaconda Navigator سوف تظهر لك نافذه تحتوي على عدة برامج اختر منها دفتر ملاحظات جوبتر Jupyter Notebook وقم بالضغط عليه.\n",
    "6. سوف يتم فتح دفتر ملاحظات جوبتر في متصفح الويب لديك ويعرض لك قائمة بالملفات والمجلدات الموجودة على جهازك.\n",
    "7. قم بتحميل الكتاب من موقع  Github بالضغط على الرابط التالي:    \n",
    "https://github.com/AhmadAlsaadi/Arabic-python-notebook/archive/refs/heads/master.zip\n",
    "8. قم بفك الضغط عن مجلد الكتاب ووضعه على سطح المكتب أو في أي مكان آخر تختاره.\n",
    "9. عد لدفتر ملاحظات جوبتر وابحث في قائمة المجلدات هناك عن مجلد الكتاب الذي قمت بفك الضغط عنه واضغط عليه للدخول  للمجلد.\n",
    "10. عند الدخول لمجلد الكتاب من دفتر ملاحظات جوبتر قم بالضغط على الملف \"قرة العيون في تبسيط لغة بايثون\" لفتح الكتاب .\n",
    "11. لإظهار الكتاب بالشكل الصحيح قم باختيار أول خلية في الكتاب والضغط على زر Run من قائمة الادوات في دفتر ملاحظات جوبتر كما هو موضح في الصورة أدناه:\n",
    "\n",
    "<img src=\"img/cmd4.png\">\n",
    "\n",
    "12. للتعرف على كيفية التفاعل مع الكتاب قم بفتح وقراءة ملف الدليل الارشادي لدفتر ملاحظات جوبتر الذي يأتي مع الكتاب."
   ]
  },
  {
   "cell_type": "code",
   "execution_count": null,
   "id": "d104f6f6",
   "metadata": {},
   "outputs": [],
   "source": []
  }
 ],
 "metadata": {
  "kernelspec": {
   "display_name": "Python 3 (ipykernel)",
   "language": "python",
   "name": "python3"
  },
  "language_info": {
   "codemirror_mode": {
    "name": "ipython",
    "version": 3
   },
   "file_extension": ".py",
   "mimetype": "text/x-python",
   "name": "python",
   "nbconvert_exporter": "python",
   "pygments_lexer": "ipython3",
   "version": "3.8.10"
  }
 },
 "nbformat": 4,
 "nbformat_minor": 5
}
