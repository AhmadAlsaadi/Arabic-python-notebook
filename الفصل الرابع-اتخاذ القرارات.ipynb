{
 "cells": [
  {
   "cell_type": "code",
   "execution_count": 1,
   "id": "c803a7ca",
   "metadata": {},
   "outputs": [
    {
     "data": {
      "text/html": [
       "<style type=\"text/css\">@import url('https://www.fontstatic.com/f=yassin,amiri-quran,basim-marah,b-compset');\n",
       "\n",
       "\n",
       ".title{\n",
       "direction: rtl;\n",
       "font-size:100px;\n",
       "padding-right: 15px;\n",
       "line-height:10px;\n",
       "font-family:basim-marah;\n",
       "\n",
       "}\n",
       "\n",
       ".arabic{\n",
       "direction:rtl;\n",
       "font-size:20px;\n",
       "line-height:40px;\n",
       "padding-right: 1cm;\n",
       "padding-left: 1cm;\n",
       "text-align:justify;\n",
       "font-family:amiri-quran;\n",
       "}\n",
       "\n",
       ".horizontal{\n",
       "height:2px;\n",
       "border:none;\n",
       "color:#333;\n",
       "background-color:#333;\n",
       "width:75%;\n",
       "}\n",
       ".jupyter-widgets{\n",
       "    font-size:20px;\n",
       "    direction:rtl;\n",
       "    margin-right:25px;\n",
       "    font-family:amiri-quran;\n",
       "        \n",
       "}\n",
       ".widget-radio-box input{\n",
       "    float:right;\n",
       "    direction:ltr;\n",
       "    margin: 0 calc( var(--jp-widgets-input-padding) * 2 ) 0 10px;\n",
       "    text-align:right;\n",
       "    height: 30px;\n",
       "}\n",
       ".widget-radio{\n",
       "    flex-direction: column;\n",
       "    width:unset;\n",
       "    \n",
       "}\n",
       ".widget-label{  \n",
       "    font-family:amiri-quran;\n",
       "    font-size:18px;\n",
       "    height: 40px;\n",
       "}\n",
       "\n",
       ".widget-radio-box label {\n",
       "    font-size:18px;\n",
       "    height: 30px;\n",
       "}\n",
       "\n",
       ".true-grade{\n",
       "    color:green;\n",
       "}\n",
       ".false-grade{\n",
       "    color:red;\n",
       "}\n",
       "label:lang(en){\n",
       "    direction:ltr;\n",
       "    text-align:right;\n",
       "}\n",
       ".s{\n",
       "    line-height:unset;\n",
       "    height:unset;\n",
       "}\n",
       ".CodeMirror-wrap {\n",
       "    font-size:16px;\n",
       "}\n",
       "\n",
       ".basic_table{\n",
       "    font-size:20px;\n",
       "    color:\"green\";\n",
       "}</style>"
      ],
      "text/plain": [
       "<IPython.core.display.HTML object>"
      ]
     },
     "execution_count": 1,
     "metadata": {},
     "output_type": "execute_result"
    }
   ],
   "source": [
    "import style\n",
    "style._set_css_style(\"custom.css\")"
   ]
  },
  {
   "cell_type": "markdown",
   "id": "1bdf4470",
   "metadata": {},
   "source": [
    "<div class=arabic>\n",
    "<hr class=horizontal>\n",
    "<center>\n",
    "<a id=\"chapter4\"></a>\n",
    "<h1 class=title>\n",
    "الفصل الرابع : اتخاذ القرارات\n",
    "</h1>\n",
    "</center>\n",
    "<hr class=horizontal>\n",
    "</div>"
   ]
  },
  {
   "cell_type": "markdown",
   "id": "2993c556",
   "metadata": {},
   "source": [
    "<div class=arabic>\n",
    "ان من الاشياء الجميلة في لغة البرمجة ان المبرمج يستطيع ان يعطي الكمبيوتر قدرة على التفكير \"ان صح التعبير\" والتي من خلالها يستطيع الكمبيوتراتخاذ قراراته. لكن في حقيقة الامر هذه القرارات ماهي الا شروط  يفرضها المبرمج على البرنامج ليحقق مبتغاه. في هذا الفصل سوف نتحدث عن كيفية اتخاذ القرارات في بايثون باستخدام اداة الشرط if.\n",
    "<div>"
   ]
  },
  {
   "cell_type": "markdown",
   "id": "ab634630",
   "metadata": {},
   "source": [
    "<div class=arabic>\n",
    "\n",
    "<h2 class=title>\n",
    "أهداف الفصل\n",
    "</h2>\n",
    "عند اتمام هذا الفصل يجب ان يكون لديك المام بالآتي: \n",
    "\n",
    "<ol>\n",
    "<li> \n",
    "التعرف على كيفية استخدام أداة الشرط if \n",
    "</li>\n",
    "<li>\n",
    "التعرف على كيفية استخدام else و elif مع أداة الشرط if.\n",
    "</li>\n",
    "<li>\n",
    "التعرف على طريقة كتابة أداة شرط داخل أداة شرط أخرى.\n",
    "</li>   \n",
    "</ol>\n",
    "</div>"
   ]
  },
  {
   "cell_type": "markdown",
   "id": "3988bb7d",
   "metadata": {},
   "source": [
    "<div class=arabic>\n",
    "\n",
    "<h2 class=title>\n",
    "التركيب اللغوي\n",
    "</h2>\n",
    "</div>"
   ]
  },
  {
   "cell_type": "markdown",
   "id": "4b2fc189",
   "metadata": {},
   "source": [
    "<div class=arabic>\n",
    "التركيب اللغوي في بايثون هنا مشابه لغيره من لغات البرمجة. فهو يهدف في المقام الاول الى التحكم في سير تنيفذ البرنامج بوضع شروط يفرضها المبرمج حين كتابته للكود البرمجي على البرنامج بحيث تكون نتائح هذه الشروط احدى قيمتين صح او خطأ. في حال الحصول على القيمة صح من عملية التحقق من الشرط يقوم مفسر بايثون بتنفيذ اوامر يحددها له المبرمج اما في حال الحصول على القيمة خطأ فان بايثون يتخطأ الاوامر التي يتطلب تنفيذها تحقق الشرط كما هو موضح في الشكل ادناه.  \n",
    "</div>"
   ]
  },
  {
   "cell_type": "markdown",
   "id": "731eb2ec",
   "metadata": {},
   "source": [
    "<img src=\"img/if.png\" width=250>"
   ]
  },
  {
   "cell_type": "markdown",
   "id": "5cfdccdf",
   "metadata": {},
   "source": [
    "<div class=arabic>\n",
    "يبتدتئ التركيب اللغوي لأتخاذ القرارات بكلمة if متبوعا بالشرط المراد التأكد منه ومن ثم وضع نقطتين فوق بعض في نهاية السطر كما في المثال التالي:\n",
    "</div>"
   ]
  },
  {
   "cell_type": "code",
   "execution_count": 2,
   "id": "913ff1a7",
   "metadata": {},
   "outputs": [
    {
     "name": "stdout",
     "output_type": "stream",
     "text": [
      "Ahmad\n"
     ]
    }
   ],
   "source": [
    "name=\"Ahmad\"\n",
    "if len(name)<10:print(name)"
   ]
  },
  {
   "cell_type": "markdown",
   "id": "763dd392",
   "metadata": {},
   "source": [
    "<div class=arabic>\n",
    "ففي المثال السابق يتم التحقق من صحة كون عدد الاحرف الموجودة في كلمة “Ahmad” اصغر من العدد 10 . فاذا كانت العبارة صحيحة فان مفسر بايثون يقوم بتنفيذ العبارة التي تتلو النقطتين فقوق بعض. اما إذا كانت العبارة خاطئة فان مفسر بايثون يتجاهل تنفيذ العبارة التي تتلو النقطتين فوق بعض. وبما ان هذه العبارة صحيحة فانه يتم تنفيذ الكود (print(name الذي يتلو النقطتين فوق بعض.\n",
    " ان كتابة العبارة المراد تنفيذها بعد تحقق الشرط يفضل ان تكون في سطر مستقل بدلا من ان تكون في نفس السطر ولكن إذا جعلت في سطر مستقل فانه يتوجب ترك مسافة بمقدار حرف واحد على الأقل في بداية السطر الجديد (بفضل ترك مسافة بمقدار أربعة أحرف كما هو متعارف عليه بين مبرمجي بايثون) لكي يتمكن مفسر بايثون من التفرقة بين العبارة المشروطة والعبارة الاعتيادية التي قد تقع بعدها كما في المثال التالي:\n",
    "\n",
    "</div>"
   ]
  },
  {
   "cell_type": "code",
   "execution_count": 3,
   "id": "51865854",
   "metadata": {},
   "outputs": [
    {
     "name": "stdout",
     "output_type": "stream",
     "text": [
      "Ahmad\n",
      "5\n"
     ]
    }
   ],
   "source": [
    "name=\"Ahmad\"\n",
    "if len(name)<10:\n",
    "    print(name)    #عبارة يتطلب تنفيذها تحقق شرط الجملة الشرطية\n",
    "x=5                #عبارة غير داخلة في الجملة الشرطية\n",
    "print(x)           #عبارة غير داخلة في الجملة الشرطية "
   ]
  },
  {
   "cell_type": "markdown",
   "id": "69d66c96",
   "metadata": {},
   "source": [
    "<div class=arabic>\n",
    "لاحظ في المثال السابقة ان ترك مسافة في العبارة المشروطة كان ضروري لتمكين مفسر بايثون من التفرقة بين العبارة الشرطية وما يليها من عبارات أخرى غير مرتبطة بالجملة الشرطية. لذلك كل العبارات التي يتطلب تنفيذها تحقق الشرط يجب ان تترك مسافة في بداية السطر وتكون هذه المسافة هي نفسها لجميع العبارات التي تتطلب تحقق الشرط. المثال التالي يوضح تنفيذ أكثر من عبارة تتطلب تحقق شرط معين:\n",
    "</div>"
   ]
  },
  {
   "cell_type": "code",
   "execution_count": 4,
   "id": "1e773992",
   "metadata": {},
   "outputs": [
    {
     "name": "stdout",
     "output_type": "stream",
     "text": [
      "Ahmad\n",
      "5\n",
      "7\n"
     ]
    }
   ],
   "source": [
    "name=\"Ahmad\"\n",
    "if len(name)<10:\n",
    "    \n",
    "    print(name)         #عبارة يتطلب تنفيذها تحقق شرط الجملة الشرطية لاحظ تساوي المسافات المتروكة\n",
    "    print(len(name))    #عبارة يتطلب تنفيذها تحقق شرط الجملة الشرطية لاحظ تساوي المسافات المتروكة\n",
    "    y=0                 #عبارة يتطلب تنفيذها تحقق شرط الجملة الشرطية لاحظ تساوي المسافات المتروكة\n",
    "\n",
    "x=7                     #عبارة غير داخلة في الجملة الشرطية لاحظ بداية كتابتها من اول السطر\n",
    "print(x)                #عبارة غير داخلة في الجملة الشرطية لاحظ بداية كتابتها من اول السطر"
   ]
  },
  {
   "cell_type": "markdown",
   "id": "17787b1f",
   "metadata": {},
   "source": [
    "<div class=arabic><h2 class=title>تمارين استكشافية</h2></div>"
   ]
  },
  {
   "cell_type": "markdown",
   "id": "01c59957",
   "metadata": {},
   "source": [
    "<div class=arabic>\n",
    "١-قم بكتابة المثال السابق واجعل واحدة من العبارات المشروطة تبتدأ بعدد مختلف من الفراغات عن العبارتين الأخريين ماذا تلاحظ؟</div>"
   ]
  },
  {
   "cell_type": "code",
   "execution_count": null,
   "id": "890d3e4b",
   "metadata": {},
   "outputs": [],
   "source": []
  },
  {
   "cell_type": "markdown",
   "id": "97966f43",
   "metadata": {},
   "source": [
    "<div class=arabic>\n",
    "٢- قم بكتابة جملة شرطية للتعرف على ما اذا كان العدد 6 موجود في القائمة [1,2,3,4] بحيث يقوم بطباعة هذا الرقم اذا كان الرقم موجود فعلا؟ ماذا تلاحظ؟\n",
    "</div>"
   ]
  },
  {
   "cell_type": "code",
   "execution_count": null,
   "id": "d29cf379",
   "metadata": {},
   "outputs": [],
   "source": []
  },
  {
   "cell_type": "markdown",
   "id": "d02bd45a",
   "metadata": {},
   "source": [
    "<img src=\"img/ifelse.png\" width=300>"
   ]
  },
  {
   "cell_type": "markdown",
   "id": "c3f25216",
   "metadata": {},
   "source": [
    "<div class=arabic>\n",
    "لنرفض اننا نريد ان نقوم بعمل ما إذا تحقق شرط معين ونقوم بعمل اخر إذا لم يتحقق الشرط.  للقيام بهذه المهمة نحتاج الى استخدام else في الجملة الشرطية لتخبر بايثون بالمراد فعله في حين عدم تحقق الشرط المطلوب كما هو موضح في المثال التالي:</div>"
   ]
  },
  {
   "cell_type": "code",
   "execution_count": 5,
   "id": "7ac73b8c",
   "metadata": {},
   "outputs": [
    {
     "name": "stdout",
     "output_type": "stream",
     "text": [
      "the name is greater than 4 letters\n"
     ]
    }
   ],
   "source": [
    "name=\"Ahmad\"\n",
    "if len(name)<4:\n",
    "    print(name)\n",
    "    print(len(name))\n",
    "    y=0\n",
    "else:\n",
    "    print(\"the name is greater than 4 letters\")"
   ]
  },
  {
   "cell_type": "markdown",
   "id": "fb1aa535",
   "metadata": {},
   "source": [
    "<div class=arabic>\n",
    "لاحظ ان else تخضع لجميع شروط الجملة الشرطية السابقة من حيث انها تنتهي بنقطتين ويتوجب ترك مسافة في بداية العبارات التي يتطلب تنفيذها عدم تحقق الشرط.\n",
    "</div>"
   ]
  },
  {
   "cell_type": "markdown",
   "id": "745f69a1",
   "metadata": {},
   "source": [
    "<div class=arabic><h2 class=title>تمارين استكشافية</h2></div>"
   ]
  },
  {
   "cell_type": "markdown",
   "id": "465d35a2",
   "metadata": {},
   "source": [
    "<div class=arabic>\n",
    "قم بكتابة جملة شرطية للتعرف على ما اذا كان العدد 6 موجود في القائمة [1,2,3,4] بحيث يقوم بطباعة هذا الرقم اذا كان الرقم موجود فعلا؟ واذا لم يكن موجودا اطبع عبارة تفيد ان الرقم غير موجود؟\n",
    "</div>"
   ]
  },
  {
   "cell_type": "code",
   "execution_count": null,
   "id": "8100a3aa",
   "metadata": {},
   "outputs": [],
   "source": []
  },
  {
   "cell_type": "markdown",
   "id": "22d1a38e",
   "metadata": {},
   "source": [
    "<div class=arabic>\n",
    "لنفرض اننا نريد ان نتحقق من توفر شرطين قبل ان نقوم بعمل ما ونقوم بعمل آخر في حال عدم توفر الشرطين. ماذا بإمكاننا ان نصنع في هذه الحالة؟ هناك حلول كثيرة فمنها مثلا ان نستخدم الجملة الشرطية if…else للتحقق من الشرط الاول والثاني باستخدام أداة الربط المنطقي and وفي حال عدم تحقق الشرطين يتم تنفيذ العبارة التي تلي else كما في المثال التالي:\n",
    "</div>"
   ]
  },
  {
   "cell_type": "code",
   "execution_count": 6,
   "id": "1fe3f343",
   "metadata": {},
   "outputs": [
    {
     "name": "stdout",
     "output_type": "stream",
     "text": [
      "Ahmad\n"
     ]
    }
   ],
   "source": [
    "name=\"Ahmad\"\n",
    "if len(name)<10 and name==\"Ahmad\":\n",
    "    print(name)\n",
    "else:\n",
    "    print(\"the name is wrong or big\")"
   ]
  },
  {
   "cell_type": "markdown",
   "id": "f161278e",
   "metadata": {},
   "source": [
    "<div class=arabic>\n",
    "كما يمكن القيام بنفس المهمة باستخدام الجملة الشرطية البسيطة if للتحقق من الشرط الاول ومن ثم التحقق من الشرطة الثاني باستخدام الجملة الشرطية if … else كما في المثال التالي:\n",
    "</div>"
   ]
  },
  {
   "cell_type": "code",
   "execution_count": 7,
   "id": "e5a15776",
   "metadata": {},
   "outputs": [
    {
     "name": "stdout",
     "output_type": "stream",
     "text": [
      "Ahmad\n"
     ]
    }
   ],
   "source": [
    "name=\"Ahmad\"\n",
    "if len(name)<10:\n",
    "    if name==\"Ahmad\":\n",
    "        print(name)\n",
    "    else:\n",
    "        print(\"the name is wrong or big\")"
   ]
  },
  {
   "cell_type": "markdown",
   "id": "7da7cc01",
   "metadata": {},
   "source": [
    "<div class=arabic>\n",
    "في المثال الاخير هذا النوع من الاستخدام للأدوات الشرطية يسمى الأدوات الشرطية الفرعية. بحيث يتم استخدام أداة شرطية داخل أداة شرطية أخرى.  \n",
    "ويمكن استخدام التركيب elif للتحقق من شرط اخر في حال عدم تحقق شرط سابق كما في المثال التالي:\n",
    "\n",
    "</div>"
   ]
  },
  {
   "cell_type": "code",
   "execution_count": 8,
   "id": "aa1f0287",
   "metadata": {},
   "outputs": [
    {
     "name": "stdout",
     "output_type": "stream",
     "text": [
      "Ahmad\n"
     ]
    }
   ],
   "source": [
    "name=\"Ahmad\"\n",
    "if len(name)>10:\n",
    "    print(name)\n",
    "elif name==\"Ahmad\":\n",
    "    print(name)\n",
    "else:\n",
    "    print(\"the name is wrong or big\")"
   ]
  },
  {
   "cell_type": "markdown",
   "id": "fb09bbc0",
   "metadata": {},
   "source": [
    "<div class=arabic>\n",
    "يجب الاشارة الى ان بايثون يعتبر القيمة صفر او القيمة النصية الفارغة او قيمة None كقيمة خاطئة في حال استخدامها مع if  كما في المثال التالي:\n",
    "</div>"
   ]
  },
  {
   "cell_type": "code",
   "execution_count": 9,
   "id": "768b41b0",
   "metadata": {},
   "outputs": [
    {
     "name": "stdout",
     "output_type": "stream",
     "text": [
      "No money in your balance\n"
     ]
    }
   ],
   "source": [
    "balance=0\n",
    "if balance:\n",
    "    print(balance)\n",
    "else:\n",
    "    print(\"No money in your balance\")"
   ]
  },
  {
   "cell_type": "code",
   "execution_count": 10,
   "id": "22112207",
   "metadata": {},
   "outputs": [
    {
     "name": "stdout",
     "output_type": "stream",
     "text": [
      "please enter valid name\n"
     ]
    }
   ],
   "source": [
    "name=\"\"\n",
    "if name:\n",
    "    print(name)\n",
    "else:\n",
    "    print(\"please enter valid name\")"
   ]
  },
  {
   "cell_type": "code",
   "execution_count": 11,
   "id": "0780348f",
   "metadata": {},
   "outputs": [
    {
     "name": "stdout",
     "output_type": "stream",
     "text": [
      "the value is None\n"
     ]
    }
   ],
   "source": [
    "value=None\n",
    "if value:\n",
    "    print(value)\n",
    "else:\n",
    "    print(\"the value is None\")"
   ]
  },
  {
   "cell_type": "markdown",
   "id": "8668a00a",
   "metadata": {},
   "source": [
    "<div class=arabic>\n",
    "كما ان بايثون يعتبر اي قيمة عددية غير الصفر او اي بيان نصي يحتوي على حرف او اكثر قيمة صحيحة عند التعامل بها مع اداة الشرط كما في الامثلة التالية:\n",
    "</div>"
   ]
  },
  {
   "cell_type": "code",
   "execution_count": 12,
   "id": "388753bb",
   "metadata": {},
   "outputs": [
    {
     "name": "stdout",
     "output_type": "stream",
     "text": [
      "253\n"
     ]
    }
   ],
   "source": [
    "balance=253\n",
    "if balance:\n",
    "    print(balance)\n",
    "else:\n",
    "     print(\"No money in your balance\")"
   ]
  },
  {
   "cell_type": "code",
   "execution_count": 13,
   "id": "fada633a",
   "metadata": {},
   "outputs": [
    {
     "name": "stdout",
     "output_type": "stream",
     "text": [
      "Ayman\n"
     ]
    }
   ],
   "source": [
    "name=\"Ayman\"\n",
    "if name:\n",
    "    print(name)\n",
    "else:\n",
    "    print(\"please enter valid name\")"
   ]
  },
  {
   "cell_type": "code",
   "execution_count": 14,
   "id": "ec49e96f",
   "metadata": {},
   "outputs": [
    {
     "name": "stdout",
     "output_type": "stream",
     "text": [
      "(1, 2, 3, 4)\n"
     ]
    }
   ],
   "source": [
    "value=(1,2,3,4)\n",
    "if value:\n",
    "    print(value)\n",
    "else:\n",
    "    print(\"the value is None\")"
   ]
  },
  {
   "cell_type": "code",
   "execution_count": null,
   "id": "bf3f088a",
   "metadata": {},
   "outputs": [],
   "source": []
  }
 ],
 "metadata": {
  "kernelspec": {
   "display_name": "Python 3 (ipykernel)",
   "language": "python",
   "name": "python3"
  },
  "language_info": {
   "codemirror_mode": {
    "name": "ipython",
    "version": 3
   },
   "file_extension": ".py",
   "mimetype": "text/x-python",
   "name": "python",
   "nbconvert_exporter": "python",
   "pygments_lexer": "ipython3",
   "version": "3.8.10"
  }
 },
 "nbformat": 4,
 "nbformat_minor": 5
}
