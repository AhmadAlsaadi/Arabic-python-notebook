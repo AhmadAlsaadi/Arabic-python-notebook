{
 "cells": [
  {
   "cell_type": "code",
   "execution_count": 3,
   "id": "d23d1ae0",
   "metadata": {},
   "outputs": [
    {
     "data": {
      "text/html": [
       "<style type=\"text/css\">@import url('https://www.fontstatic.com/f=yassin,amiri-quran,basim-marah,b-compset');\n",
       "\n",
       "\n",
       "@font-face {\n",
       "  font-family: Arslan;\n",
       "  src: url(Arslan.ttf);\n",
       "}\n",
       "\n",
       ".title{\n",
       "direction: rtl;\n",
       "font-size:100px;\n",
       "padding-right: 15px;\n",
       "line-height:10px;\n",
       "font-family:basim-marah;\n",
       "}\n",
       "\n",
       "div.text_cell pre.CodeMirror-line {\n",
       "direction:rtl;\n",
       "font-size:20px;\n",
       "color:Blue;\n",
       "line-height:40px;\n",
       "padding-right: 1cm;\n",
       "padding-left: 1cm;\n",
       "text-align:justify;\n",
       "font-family:amiri-quran;\n",
       "}\n",
       ".rendered_html {\n",
       "direction:rtl;\n",
       "font-size:20px;\n",
       "line-height:40px;\n",
       "padding-right: 1cm;\n",
       "padding-left: 1cm;\n",
       "text-align:justify;\n",
       "font-family:amiri-quran;\n",
       "}\n",
       "\n",
       ".rendered_html p {\n",
       "direction:rtl;\n",
       "font-size:20px;\n",
       "line-height:40px;\n",
       "padding-right: 1cm;\n",
       "padding-left: 1cm;\n",
       "text-align:justify;\n",
       "font-family:amiri-quran;\n",
       "}\n",
       "\n",
       ".rendered_html h1{\n",
       "direction: rtl;\n",
       "font-size:200%;\n",
       "text-align:center;\n",
       "padding-right: 55px;\n",
       "font-family:Arslan;\n",
       "}\n",
       "\n",
       ".rendered_html h2{\n",
       "direction: rtl;\n",
       "font-size:171%;\n",
       "padding-right: 55px;\n",
       "line-height:10px;\n",
       "font-family:Arslan;\n",
       "}\n",
       "\n",
       ".rendered_html h3{\n",
       "direction: rtl;\n",
       "font-size:141%;\n",
       "padding-right: 55px;\n",
       "line-height:10px;\n",
       "font-family:Arslan;\n",
       "}\n",
       "\n",
       ".rendered_html ul {\n",
       "    list-style-type: none;\n",
       "}\n",
       "\n",
       ".rendered_html ul li:before {\n",
       "  content: '-';\n",
       "  position: absolute;\n",
       "  margin-right: -10px;\n",
       "}\n",
       "\n",
       ".arabic{\n",
       "direction:rtl;\n",
       "font-size:20px;\n",
       "line-height:40px;\n",
       "padding-right: 1cm;\n",
       "padding-left: 1cm;\n",
       "text-align:justify;\n",
       "font-family:amiri-quran;\n",
       "}\n",
       "\n",
       ".horizontal{\n",
       "height:2px;\n",
       "border:none;\n",
       "color:#333;\n",
       "background-color:#333;\n",
       "width:75%;\n",
       "}\n",
       ".jupyter-widgets{\n",
       "    font-size:20px;\n",
       "    direction:rtl;\n",
       "    margin-right:25px;\n",
       "    font-family:amiri-quran;\n",
       "        \n",
       "}\n",
       ".widget-radio-box input{\n",
       "    float:right;\n",
       "    direction:ltr;\n",
       "    margin: 0 calc( var(--jp-widgets-input-padding) * 2 ) 0 10px;\n",
       "    text-align:right;\n",
       "    height: 30px;\n",
       "}\n",
       ".widget-radio{\n",
       "    flex-direction: column;\n",
       "    width:unset;\n",
       "    \n",
       "}\n",
       ".widget-label{  \n",
       "    font-family:amiri-quran;\n",
       "    font-size:18px;\n",
       "    height: 40px;\n",
       "}\n",
       "\n",
       ".widget-radio-box label {\n",
       "    font-size:18px;\n",
       "    height: 30px;\n",
       "}\n",
       "\n",
       ".true-grade{\n",
       "    color:green;\n",
       "}\n",
       ".false-grade{\n",
       "    color:red;\n",
       "}\n",
       "label:lang(en){\n",
       "    direction:ltr;\n",
       "    text-align:right;\n",
       "}\n",
       ".s{\n",
       "    line-height:unset;\n",
       "    height:unset;\n",
       "}\n",
       ".CodeMirror-wrap {\n",
       "    font-size:16px;\n",
       "}\n",
       "\n",
       ".basic_table{\n",
       "    font-size:20px;\n",
       "    color:\"green\";\n",
       "}\n",
       "ol {\n",
       "    margin-right:25px;\n",
       "}\n",
       "\n",
       ".grid-container {\n",
       "  display: grid;\n",
       "  grid-template-columns: 50% 50%;\n",
       "  gap: 2px;\n",
       "  padding: 2px;\n",
       "}\n",
       "\n",
       ".grid-container > div {\n",
       "  text-align: center;\n",
       "  padding: 20px 0;\n",
       "  font-size: 20px;\n",
       "}</style>"
      ],
      "text/plain": [
       "<IPython.core.display.HTML object>"
      ]
     },
     "execution_count": 3,
     "metadata": {},
     "output_type": "execute_result"
    }
   ],
   "source": [
    "import style\n",
    "style._set_css_style(\"custom.css\")"
   ]
  },
  {
   "cell_type": "markdown",
   "id": "0f6f5a1e",
   "metadata": {},
   "source": [
    "<div class=arabic>\n",
    "<center>\n",
    "<a id=\"chapter10\"></a>\n",
    "<h1 class=title>\n",
    "الفصل العاشر : واجهة المستخدم GUI\n",
    "</h1>\n",
    "</center>\n",
    "<hr class=horizontal>\n",
    "</div>"
   ]
  },
  {
   "cell_type": "markdown",
   "id": "acd99dc4",
   "metadata": {},
   "source": [
    "تعتبر واجهة المستخدم من أفضل طرق التفاعل التي يمكن ان يقدمها مطوري البرامج لمستخدمي البرامج. حيث تحتوي واجهة المستخدم على ازرار للضغط عليها وصناديق نصوص لادخال النصوص وقوائم اختيار والكثير الكثير من الأدوات التي تمكن مستخدمي البرامج من التفاعل مع برامجهم وادخال البيانات لها. ويتوفر لمطوري بايثون العديد من المكتبات التي تسهل عمل واجهات مستخدم احترافية والتي من اشهرها:\n",
    "1. مكتبة tkinter والتي تأتي مدمجة مع إصدارة بايثون كمكتبة قياسية .\n",
    "2. مكتبة PyQt5 وهي مكتبة خارجية ذائعة الصيت متوائمة مع أنطمة التشغيل المشهورة.\n",
    "3. مكتبة wxPython وهي ايصاً مكتبة خارجية متوائمة مع أنطمة التشغيل المشهورة.\n",
    "4. مكتبة Kivy وهي مكتبة خارجية مفتوحة المصدر متوائمة مع أنطمة التشغيل المشهورة."
   ]
  },
  {
   "cell_type": "markdown",
   "id": "0e47b5c4",
   "metadata": {},
   "source": [
    "## أهداف الفصل\n",
    "\n",
    "عند اتمام هذا الفصل يجب ان يكون لديك المام بالآتي:\n",
    "\n",
    "<ol>\n",
    "<li> \n",
    "التعرف على بناء واجهة مستخدم بسيطة باستخدام مكتبة tkinter\n",
    "</li>\n",
    "<li>\n",
    "التعرف على بناء واجهة مستخدم بسيطة باستخدام مكتبة PyQt5\n",
    "</li>\n",
    "<li>\n",
    "التعرف على بناء واجهة مستخدم بسيطة باستخدام مكتبة Kivy\n",
    "</li>\n",
    "</ol>\n",
    "</div>"
   ]
  },
  {
   "cell_type": "markdown",
   "id": "64084767",
   "metadata": {},
   "source": [
    "## مكتبة tkinter"
   ]
  },
  {
   "cell_type": "markdown",
   "id": "50b8ca2c",
   "metadata": {},
   "source": [
    "<div class=arabic>\n",
    "تمثل مكتبة Tkinter مكتبة الواجهة الرسومية القياسية لبايثون حيث تأتي هذه المكتبة من ضمن المكتبات القياسية التي يتم تنصيبها مع مفسر بايثون. ولعمل واجهه رسوميه اساسية من خلال هذه المكتبة نحتاج لكتابة ثلاثة اسطر قصيرة من الكود البرمجي كما في المثال التالي:\n",
    "</div>"
   ]
  },
  {
   "cell_type": "code",
   "execution_count": 12,
   "id": "92d745df",
   "metadata": {},
   "outputs": [],
   "source": [
    "import tkinter"
   ]
  },
  {
   "cell_type": "code",
   "execution_count": 14,
   "id": "4bd51786",
   "metadata": {
    "scrolled": true
   },
   "outputs": [],
   "source": [
    "from tkinter import Tk\n",
    "win=Tk()\n",
    "win.mainloop()"
   ]
  },
  {
   "cell_type": "markdown",
   "id": "57d5ac5d",
   "metadata": {},
   "source": [
    "<div class=arabic>فعند تنقيذ المثال السابق سوف تظهر لنا نافذه رسومية اساسية بمقاس افتراضي 200 بكسل عرضا و 200 بكسل طولا تحمل عنوان افتراضي tk وايقونه رسوميه لريشة زقاء وكذلك ثلاثة ازراز لتصغير وتكبير واغلاق النافذة. فالسطر الاول من الكود البرمجي السابق هو مجرد استدعاء للصنف Tk المسؤول عن انشاء نوافذ قياسية من مكتبة tkinter كما تعلمنا سابقا. اما السطر الثاني فهو مجرد عمل نسخة من الصنف Tk واسناده الى المتغير win. في السطر الثالث تم استدعاء الدالة ()mainloop على نسخة النافذه الاساسية التي انشأناها من الصنف Tk. وظيفة هذه الدالة هي عمل حلقة تكرار تبقى النافذه على الشاشة وتجعلها تنتظر اي تفاعل من المستخدم سواء كان بتحريك او تكبير او اتصغير او غير ذلك من الافعال التي سوف يأتي شرحها لاحقا.  </div>"
   ]
  },
  {
   "cell_type": "markdown",
   "id": "90e6b321",
   "metadata": {},
   "source": [
    "<div class=arabic>\n",
    "لنقم الان تغير عنوان النافذه السابقة الي \"اله حاسبة\" من خلال استخدام الدالة ()title كما يلي:\n",
    "</div>"
   ]
  },
  {
   "cell_type": "code",
   "execution_count": 15,
   "id": "cc22aa14",
   "metadata": {},
   "outputs": [],
   "source": [
    "from tkinter import Tk\n",
    "win=Tk()\n",
    "win.title(\"ألة حاسبة\")\n",
    "win.mainloop()"
   ]
  },
  {
   "cell_type": "markdown",
   "id": "1f80cee7",
   "metadata": {},
   "source": [
    "<div class=arabic>\n",
    "قد يبدو ان اسم النافذه غير مكتمل وذلك لان مقاس النافذه الافتراضي غير كافي الاظهار الاسم. لنقم بتغيير مقاس النافذه الرئيسية الى 400 بكسل عرضا و 300 بكسل طولا باستخدام الدالة ()geometry كما يلي:\n",
    "</div>"
   ]
  },
  {
   "cell_type": "code",
   "execution_count": 1,
   "id": "2a317673",
   "metadata": {},
   "outputs": [],
   "source": [
    "from tkinter import Tk\n",
    "win=Tk()\n",
    "win.title(\"ألة حاسبة\")\n",
    "win.geometry(\"400x300\")\n",
    "win.mainloop()"
   ]
  },
  {
   "cell_type": "markdown",
   "id": "4f2d8050",
   "metadata": {},
   "source": [
    "<div class=arabic>\n",
    "لاحظ ان القيمة المدخلة للدالة ()geometry هي قيمة نصية تمثل القيمة الاولى من اليسار عرض النافذة والقيمة الثانية تمثل طول او ارتفاع النافذه بحيث تم الفصل بين القيمتين بعلامة الضرب \"x\".\n",
    "</div>"
   ]
  },
  {
   "cell_type": "markdown",
   "id": "5b04c0c7",
   "metadata": {},
   "source": [
    "<div class=arabic>\n",
    "على الرغم من اننا قمنا باتغيير مقاس النافذه الرئيسية عند بداية تشغيل البرنامج الا ان هذا الامر لن يمنع المستخدم من تغيير مقاسات النافذه متى ما اراد ذلك. فبمجرد الوقوف بمؤشر الفارة عند احد اطراف النافذه فان المؤشر سوف يتغير شكله الى سهمين مزدوجين تعني ان المستخدم عند ضغطه لزر الفأرة في هذا المكان مع مواصلة الضغط والتحرك سوف يقوم بتغيير مقاسات النافذة كيفما شاء. ويمكنك التأكد من ذلك بتشغيل الكود البرمجي السابق ومحاولة تغيير مقاسات النافذة.\n",
    "</div>"
   ]
  },
  {
   "cell_type": "markdown",
   "id": "0e4c76e0",
   "metadata": {},
   "source": [
    "<div class=arabic>\n",
    "ان اعطاء المستخدم صلاحيات تغيير مقاس النافذه الرئيسية قد يشوه شكل الالة الحاسبة عند قيامه بعملية تكبير او تصغير الناقذه لذلك من الافضل ان نقوم بمنع المستخدم من تغيير مقاسات النافذة الرئيسية باستخدام الدالة ()resizable وااعظائها القيم صفر و صفر في كلا المدخلين كما في  المثال التالي:\n",
    "</div>"
   ]
  },
  {
   "cell_type": "code",
   "execution_count": 1,
   "id": "706a4a49",
   "metadata": {},
   "outputs": [],
   "source": [
    "from tkinter import Tk\n",
    "\n",
    "win=Tk()\n",
    "win.title(\"ألة حاسبة\")\n",
    "win.geometry(\"400x300\")\n",
    "win.resizable(0,0)\n",
    "win.mainloop()"
   ]
  },
  {
   "cell_type": "markdown",
   "id": "e3058aac",
   "metadata": {},
   "source": [
    "<div class=arabic>\n",
    "لاحظ انه عند تشغيل الكود السابق والوقوف بزر الفأرة على احد اطراف النافذة الرئيسية لا يتغير مؤشر الفأرة الى سهمين مزدوجين مما يعني ان عملية تغيير مقاسات النافذه اصحبت غير ممكنه. كما ان زر التكبير في النافذه الرئيسية اصبح غير نشط ايضاً.\n",
    "</div>"
   ]
  },
  {
   "cell_type": "markdown",
   "id": "a4e17e8d",
   "metadata": {},
   "source": [
    "<div class=arabic>\n",
    "ان ايقونه الريشة الزرقاء لا تتناسب مع الآلة الحاسبة التي ننوي القيام بانشائها. لنقم بتغيير هذه الايقونه الى ايقونه آلة حسابة صغيرة تم تحميلها من الانترنت وحفظها في ملف الصور الخاص بهذا الكتاب تحت اسم calculator.png. ولارفاق الايقونه الى النافذه الاساسية نحتاج الى استدعاء صنف الصور PhotoImage من مكتبة tkinter ومن ثم عمل نسخة من هذا الصنف باستخدام مسار الصورة التي تم تحميلها من الانترنت كمدخل. ثم نقوم باستخدام هذه النسخة والتي اسندناها الى متغير اسمه photo كمدخل ثاني للدالة ()iconphoto كما يلي:\n",
    "</div>"
   ]
  },
  {
   "cell_type": "code",
   "execution_count": 2,
   "id": "4568ddc5",
   "metadata": {},
   "outputs": [],
   "source": [
    "from tkinter import Tk, PhotoImage\n",
    "\n",
    "win=Tk()\n",
    "win.title(\"ألة حاسبة\")\n",
    "win.geometry(\"400x300\")\n",
    "win.resizable(0,0)\n",
    "photo = PhotoImage(file = \"img/calculator.png\")\n",
    "win.iconphoto(False,photo)\n",
    "win.mainloop()"
   ]
  },
  {
   "cell_type": "markdown",
   "id": "3c4ea81f",
   "metadata": {},
   "source": [
    "<div class=arabic>\n",
    "ان تعلم اضافة الادوات الى النافذة الرئيسية من ازرار و خلافه لن يتحقق الا بعد معرفتنا للطريقة التي يتم بها ترتيب هذه الادوات داخل هذه النافذة من اجل عرضها على شاشة المستخدم. وفي مكتبة Tkinter هناك ثلاث طرق تسخدم لترتيب الادوات داخل النوافذ وهي على النحو التالي:\n",
    "</div>"
   ]
  },
  {
   "cell_type": "markdown",
   "id": "ed00061a",
   "metadata": {},
   "source": [
    "<div class=arabic>\n",
    "اولاً: طريقة الحشو pack\n",
    "</div>"
   ]
  },
  {
   "cell_type": "markdown",
   "id": "d1d80da1",
   "metadata": {},
   "source": [
    "<div class=arabic>\n",
    "تعتبر طريقة الحشو من اسهل الطرق التي يتم فيها ترتيب الادوات داخل النوافذ فهي لا تحتاج الى تحديد اماكن الادوات على النافذه وانما تكتفي بمعرفه ترتيب ظهور الادوات عليها فيتم ترتيبها اما عموديا او رأسيا حسب ما يحدده المبرمج. ولكي نتعرف على طريقة الترتبب هذه لنقم بتكوين عدد من ازرار الالة حاسبة التي نود انشائها باستدعاء صنف الازرار Button من مكتبة Tkinter ولنقم بعمل عدة نسخ منه كما في الكود التالي:\n",
    "</div>"
   ]
  },
  {
   "cell_type": "code",
   "execution_count": 3,
   "id": "d1368f9f",
   "metadata": {},
   "outputs": [],
   "source": [
    "from tkinter import Tk, PhotoImage, Button\n",
    "\n",
    "win=Tk()\n",
    "win.title(\"ألة حاسبة\")\n",
    "win.geometry(\"400x300\")\n",
    "win.resizable(0,0)\n",
    "photo = PhotoImage(file = \"img/calculator.png\")\n",
    "win.iconphoto(False,photo)\n",
    "b1=Button(win, text='1')\n",
    "b2=Button(win, text='2')\n",
    "b3=Button(win, text='3')\n",
    "win.mainloop()"
   ]
  },
  {
   "cell_type": "markdown",
   "id": "1e9fb815",
   "metadata": {},
   "source": [
    "<div class=arabic>\n",
    "كما اشرنا سابقا ان عملية انشاء نسخ من  صنف الازرار Button لا تكفي لاظهار هذه الازرار على النافذه الرئيسية على الرغم من اننا قمنا بتحديد المكان الذي نود ان تظهر فيه هذه الازرار وذلك باستخدام متغير النافذه الرئيسية كمتغير اول  كما قمنا ايضا بتحديد النص الذي يجب ان يظهر على الزر عند انشاؤه. ان عدم ظهور الازرار في الكود السابق سببه هو اننا لم نقم باستخدام اي دالة تخبر مفسر بايثون بالكيفية التي يتم بها عرض هذه الازرار داخل النافذه الرئيسية. لذلك عند رغبتنا في استخدام طريقة الحشو لترتيب هذه الازرار فانه يتوجب علينا استخدام الدالة ()pack والتي تعمل على ترتيب الازرار بشكل عامودي في النافذة الرئيسية على نحو افتراضي بحسب ترتيب هذه الادوات في الكود البرمجي كما يلي: \n",
    "</div>"
   ]
  },
  {
   "cell_type": "code",
   "execution_count": 4,
   "id": "be9f9750",
   "metadata": {},
   "outputs": [],
   "source": [
    "from tkinter import Tk, PhotoImage, Button\n",
    "\n",
    "win=Tk()\n",
    "win.title(\"ألة حاسبة\")\n",
    "win.geometry(\"400x300\")\n",
    "win.resizable(0,0)\n",
    "photo = PhotoImage(file = \"img/calculator.png\")\n",
    "win.iconphoto(False,photo)\n",
    "b1=Button(win, text='1').pack(side='bottom')\n",
    "b2=Button(win, text='2').pack(side='bottom')\n",
    "b3=Button(win, text='3').pack(side='bottom')\n",
    "win.mainloop()"
   ]
  },
  {
   "cell_type": "markdown",
   "id": "71bada6b",
   "metadata": {},
   "source": [
    "<div class=arabic>\n",
    "لكي نقوم بتغيير ترتيب الازرار بشكل افقي نحتاج ان نغير القيمة الافتراضية للمدخل side في دالة ()pack من top الى left او right كما في الكود التالي: \n",
    "</div>"
   ]
  },
  {
   "cell_type": "code",
   "execution_count": 5,
   "id": "b0d8f9b6",
   "metadata": {},
   "outputs": [],
   "source": [
    "from tkinter import Tk, PhotoImage, Button\n",
    "\n",
    "win=Tk()\n",
    "win.title(\"ألة حاسبة\")\n",
    "win.geometry(\"400x300\")\n",
    "win.resizable(0,0)\n",
    "photo = PhotoImage(file = \"img/calculator.png\")\n",
    "win.iconphoto(False,photo)\n",
    "b1=Button(win, text='1').pack(side='left')\n",
    "b2=Button(win, text='2').pack(side='left')\n",
    "b3=Button(win, text='3').pack(side='left')\n",
    "win.mainloop()"
   ]
  },
  {
   "cell_type": "code",
   "execution_count": 11,
   "id": "2a76cfc6",
   "metadata": {},
   "outputs": [],
   "source": [
    "from tkinter import Tk, PhotoImage, Button\n",
    "\n",
    "win=Tk()\n",
    "win.title(\"ألة حاسبة\")\n",
    "win.geometry(\"400x300\")\n",
    "win.resizable(0,0)\n",
    "photo = PhotoImage(file = \"img/calculator.png\")\n",
    "win.iconphoto(False,photo)\n",
    "b1=Button(win, text='1').pack(side='right')\n",
    "b2=Button(win, text='2').pack(side='right')\n",
    "b3=Button(win, text='3').pack(side='right')\n",
    "win.mainloop()"
   ]
  },
  {
   "cell_type": "markdown",
   "id": "e070fb0d",
   "metadata": {},
   "source": [
    "<div class=arabic>\n",
    "    لاحظ ان استخدام القيمة النصية right للمدخل side جعل بداية ترتيب الازرار تبدأ من يمين النافذة والقيمة left بدأت الترتيب من يسار النافذة الرئيسية.\n",
    "</div>"
   ]
  },
  {
   "cell_type": "markdown",
   "id": "82a44593",
   "metadata": {},
   "source": [
    "<div class=arabic>\n",
    "ان حجم الازرار في الكود السابق كان يتغير بطول النص الموجود على كل زر فلو قمنا بتغيير القيم النصية على كل زر لتغير حجم الزر بتغير القيمة النصية كما يلي:\n",
    "</div>"
   ]
  },
  {
   "cell_type": "code",
   "execution_count": 12,
   "id": "04a29f9c",
   "metadata": {},
   "outputs": [],
   "source": [
    "from tkinter import Tk, PhotoImage, Button\n",
    "\n",
    "win=Tk()\n",
    "win.title(\"ألة حاسبة\")\n",
    "win.geometry(\"400x300\")\n",
    "win.resizable(0,0)\n",
    "photo = PhotoImage(file = \"img/calculator.png\")\n",
    "win.iconphoto(False,photo)\n",
    "b1=Button(win, text='1').pack(side='right')\n",
    "b2=Button(win, text='But 2').pack(side='right')\n",
    "b3=Button(win, text='Button 3').pack(side='right')\n",
    "win.mainloop()"
   ]
  },
  {
   "cell_type": "markdown",
   "id": "1a0c55b1",
   "metadata": {},
   "source": [
    "<div class=arabic>\n",
    "لتوحيد احجام الازرار والتحكم في ابعادها نقوم بتغيير قيم المدخل width والمدخل height عند عمل نسخة لكل زر كما يلي:\n",
    "</div>"
   ]
  },
  {
   "cell_type": "code",
   "execution_count": 6,
   "id": "1d950844",
   "metadata": {},
   "outputs": [],
   "source": [
    "from tkinter import Tk, PhotoImage, Button\n",
    "\n",
    "win=Tk()\n",
    "win.title(\"ألة حاسبة\")\n",
    "win.geometry(\"400x300\")\n",
    "win.resizable(0,0)\n",
    "photo = PhotoImage(file = \"img/calculator.png\")\n",
    "win.iconphoto(False,photo)\n",
    "b1=Button(win, text='1',width=10,height=2).pack(side='right')\n",
    "b2=Button(win, text='2',width=10, height=2).pack(side='right')\n",
    "b3=Button(win, text='3',width=10,height=2).pack(side='right')\n",
    "win.mainloop()"
   ]
  },
  {
   "cell_type": "markdown",
   "id": "967dfb0e",
   "metadata": {},
   "source": [
    "<div class=arabic>\n",
    "للتحكم في المسافات الافقية بين الازرار نستخدم قيم اكبر من الصفر للمدخل xpad في الدالة ()pack كما يلي:\n",
    "</div>"
   ]
  },
  {
   "cell_type": "code",
   "execution_count": 7,
   "id": "f37e4c54",
   "metadata": {},
   "outputs": [],
   "source": [
    "from tkinter import Tk, PhotoImage, Button\n",
    "\n",
    "win=Tk()\n",
    "win.title(\"ألة حاسبة\")\n",
    "win.geometry(\"400x300\")\n",
    "win.resizable(0,0)\n",
    "photo = PhotoImage(file = \"img/calculator.png\")\n",
    "win.iconphoto(False,photo)\n",
    "b1=Button(win, text='1',width=10,height=2).pack(side='right',padx=6)\n",
    "b2=Button(win, text='2',width=10, height=2).pack(side='right',padx=3)\n",
    "b3=Button(win, text='3',width=10,height=2).pack(side='right',padx=3)\n",
    "win.mainloop()"
   ]
  },
  {
   "cell_type": "markdown",
   "id": "6ca39f54",
   "metadata": {},
   "source": [
    "<div class=arabic>\n",
    "عندما نقوم بزيادة عدد الازرار الى 6 مثلا فان خاصية الحشو pack لا تقوم بالنزول الى صف ثاني لاستيعاب عدد الازرار الذي يزيد عن عرض النافذة الرئيسية ويصبح عدد من الازرار غير ظاهر للمستخدم كما يلي:\n",
    "</div>"
   ]
  },
  {
   "cell_type": "code",
   "execution_count": 8,
   "id": "8e0f74df",
   "metadata": {},
   "outputs": [],
   "source": [
    "from tkinter import Tk, PhotoImage, Button\n",
    "\n",
    "win=Tk()\n",
    "win.title(\"ألة حاسبة\")\n",
    "win.geometry(\"400x300\")\n",
    "win.resizable(0,0)\n",
    "photo = PhotoImage(file = \"img/calculator.png\")\n",
    "win.iconphoto(False,photo)\n",
    "b1=Button(win, text='1',width=10,height=2).pack(side='right',padx=6)\n",
    "b2=Button(win, text='2',width=10, height=2).pack(side='right',padx=3)\n",
    "b3=Button(win, text='3',width=10,height=2).pack(side='right',padx=3)\n",
    "b4=Button(win, text='4',width=10,height=2).pack(side='right',padx=3)\n",
    "b5=Button(win, text='5',width=10, height=2).pack(side='right',padx=3)\n",
    "b6=Button(win, text='6',width=10,height=2).pack(side='right',padx=3)\n",
    "win.mainloop()"
   ]
  },
  {
   "cell_type": "markdown",
   "id": "0a075276",
   "metadata": {},
   "source": [
    "<div class=arabic>\n",
    "ولتغلب على هذه المشكلة نحتاج الى عمل حيلة تمكننا من ترتيب الازرار في صفوف. ويمكن عمل هذه الحيلة باستدعاء الصنف اطار Frame من المكتبة Tkinter بحيث نعمل إطار لكل صف ونرتب الإطارات في النافذة بشكل عمودي  ونرتب الأزرار داخل الإطارات بشكل افقي كما يلي:\n",
    "</div>"
   ]
  },
  {
   "cell_type": "code",
   "execution_count": 10,
   "id": "3e02aada",
   "metadata": {},
   "outputs": [],
   "source": [
    "from tkinter import Tk, PhotoImage, Button, Frame\n",
    "\n",
    "win=Tk()\n",
    "win.title(\"ألة حاسبة\")\n",
    "win.geometry(\"400x300\")\n",
    "win.resizable(0,0)\n",
    "photo = PhotoImage(file = \"img/calculator.png\")\n",
    "win.iconphoto(False,photo)\n",
    "\n",
    "row1=Frame(win)\n",
    "row1.pack(pady=3)\n",
    "b1=Button(row1, text='1',width=10,height=2).pack(side='right',padx=3)\n",
    "b2=Button(row1, text='2',width=10, height=2).pack(side='right',padx=3)\n",
    "b3=Button(row1, text='3',width=10,height=2).pack(side='right',padx=3)\n",
    "\n",
    "row2=Frame(win)\n",
    "row2.pack(pady=3)\n",
    "b4=Button(row2, text='4',width=10,height=2).pack(side='right',padx=3)\n",
    "b5=Button(row2, text='5',width=10, height=2).pack(side='right',padx=3)\n",
    "b6=Button(row2, text='6',width=10,height=2).pack(side='right',padx=3)\n",
    "win.mainloop()"
   ]
  },
  {
   "cell_type": "markdown",
   "id": "3a7e173b",
   "metadata": {},
   "source": [
    "<div class=arabic>\n",
    "لنقم الآن بإضافة كل ما نحتاجه من أزار الى النافذة الرئيسية باستخدام الحيلة السابقة ليصبح الكود البرمجي بالشكل التالي:\n",
    "</div>"
   ]
  },
  {
   "cell_type": "code",
   "execution_count": 5,
   "id": "a4dd5025",
   "metadata": {},
   "outputs": [],
   "source": [
    "from tkinter import Tk, PhotoImage, Button, Frame\n",
    "\n",
    "win=Tk()\n",
    "win.title(\"ألة حاسبة\")\n",
    "win.geometry(\"400x300\")\n",
    "win.resizable(0,0)\n",
    "photo = PhotoImage(file = \"img/calculator.png\")\n",
    "win.iconphoto(False,photo)\n",
    "\n",
    "row1=Frame(win)\n",
    "row1.pack(pady=3)\n",
    "b_mult=Button(row1, text='x',width=4,height=2).pack(side='right',padx=3)\n",
    "b9=Button(row1, text='9',width=10,height=2).pack(side='right',padx=3)\n",
    "b8=Button(row1, text='8',width=10,height=2).pack(side='right',padx=3)\n",
    "b7=Button(row1, text='7',width=10,height=2).pack(side='right',padx=3)\n",
    "\n",
    "row2=Frame(win)\n",
    "row2.pack(pady=3)\n",
    "b_minus=Button(row2, text='-',width=4,height=2).pack(side='right',padx=3)\n",
    "b6=Button(row2, text='6',width=10, height=2).pack(side='right',padx=3)\n",
    "b5=Button(row2, text='5',width=10,height=2).pack(side='right',padx=3)\n",
    "b5=Button(row2, text='4',width=10,height=2).pack(side='right',padx=3)\n",
    "\n",
    "row3=Frame(win)\n",
    "row3.pack(pady=3)\n",
    "b_plus=Button(row3, text='+',width=4,height=2).pack(side='right',padx=3)\n",
    "b3=Button(row3, text='6',width=10, height=2).pack(side='right',padx=3)\n",
    "b2=Button(row3, text='5',width=10,height=2).pack(side='right',padx=3)\n",
    "b1=Button(row3, text='4',width=10,height=2).pack(side='right',padx=3)\n",
    "\n",
    "row4=Frame(win)\n",
    "row4.pack(pady=3)\n",
    "b_equal=Button(row4, text='=',width=4,height=2).pack(side='right',padx=3)\n",
    "b_dot=Button(row4, text='.',width=10, height=2).pack(side='right',padx=3)\n",
    "b0=Button(row4, text='0',width=10,height=2).pack(side='right',padx=3)\n",
    "b_sign=Button(row4, text='+/-',width=10,height=2).pack(side='right',padx=3)\n",
    "win.mainloop()"
   ]
  },
  {
   "cell_type": "markdown",
   "id": "80d25369",
   "metadata": {},
   "source": [
    "<div class=arabic>\n",
    "لو أردنا أن نقوم بإجراء أي تعديل على أحد خصائص الأزرار في الكود السابق فإننا سوف نجد أنفسنا مضطرىن الى إجراء هذا التغيير على كافة الأزرار الموجودة فتصبح العملية مرهقة للغاية. لذلك يكون من الأنسب أن نعمل صنف معدل للأزرار بحيث يصبح هذا الصتف هو الصنف الأساسي الذي تنسخ منه بقية الأزرار وعندها يصبح التعديل على الصنف يكفي لإجراء التعديل على كافة الأزرار الموجودة كما في الكود التالي:\n",
    "</div>"
   ]
  },
  {
   "cell_type": "code",
   "execution_count": 4,
   "id": "3108d1c9",
   "metadata": {},
   "outputs": [],
   "source": [
    "from tkinter import Tk, PhotoImage, Button, Frame\n",
    "\n",
    "win=Tk()\n",
    "win.title(\"ألة حاسبة\")\n",
    "win.geometry(\"400x300\")\n",
    "win.resizable(0,0)\n",
    "photo = PhotoImage(file = \"img/calculator.png\")\n",
    "win.iconphoto(False,photo)\n",
    "\n",
    "class Cal_Button(Button):\n",
    "    def __init__(self,*args,**kwargs):\n",
    "        Button.__init__(self,*args,**kwargs)\n",
    "        self[\"width\"]=8\n",
    "        self[\"height\"]=2\n",
    "        self[\"font\"]=12\n",
    "        for arg in kwargs.items():\n",
    "            self[arg[0]]=arg[1]\n",
    "\n",
    "row1=Frame(win)\n",
    "row1.pack(pady=3)\n",
    "b_mult=Cal_Button(row1, text='x',width=3).pack(side='right',padx=3)\n",
    "b9=Cal_Button(row1, text='9').pack(side='right',padx=3)\n",
    "b8=Cal_Button(row1, text='8').pack(side='right',padx=3)\n",
    "b7=Cal_Button(row1, text='7').pack(side='right',padx=3)\n",
    "\n",
    "row2=Frame(win)\n",
    "row2.pack(pady=3)\n",
    "b_minus=Cal_Button(row2, text='-',width=3).pack(side='right',padx=3)\n",
    "b6=Cal_Button(row2, text='6').pack(side='right',padx=3)\n",
    "b5=Cal_Button(row2, text='5').pack(side='right',padx=3)\n",
    "b5=Cal_Button(row2, text='4').pack(side='right',padx=3)\n",
    "\n",
    "row3=Frame(win)\n",
    "row3.pack(pady=3)\n",
    "b_plus=Cal_Button(row3, text='+',width=3).pack(side='right',padx=3)\n",
    "b3=Cal_Button(row3, text='6').pack(side='right',padx=3)\n",
    "b2=Cal_Button(row3, text='5').pack(side='right',padx=3)\n",
    "b1=Cal_Button(row3, text='4').pack(side='right',padx=3)\n",
    "\n",
    "row4=Frame(win)\n",
    "row4.pack(pady=3)\n",
    "b_equal=Cal_Button(row4, text='=',width=3).pack(side='right',padx=3)\n",
    "b_dot=Cal_Button(row4, text='.').pack(side='right',padx=3)\n",
    "b0=Cal_Button(row4, text='0').pack(side='right',padx=3)\n",
    "b_sign=Cal_Button(row4, text='+/-').pack(side='right',padx=3)\n",
    "win.mainloop()"
   ]
  },
  {
   "cell_type": "markdown",
   "id": "1524bf9c",
   "metadata": {},
   "source": [
    "<div class=arabic>\n",
    "لنقم الان باضافة المكان الذي سوف تظهر فيه العمليات الحسابية ونتائجها. سوف نحتاج لاستدعاء الصنف Label من مكتبة tkinter وعمل نسخة من هذا الصنف واسنادها للمتغير display كما في المثال التالي:\n",
    "</div>"
   ]
  },
  {
   "cell_type": "code",
   "execution_count": 2,
   "id": "610565d7",
   "metadata": {},
   "outputs": [
    {
     "ename": "TclError",
     "evalue": "can't use \"pyimage2\" as iconphoto: not a photo image",
     "output_type": "error",
     "traceback": [
      "\u001b[0;31m---------------------------------------------------------------------------\u001b[0m",
      "\u001b[0;31mTclError\u001b[0m                                  Traceback (most recent call last)",
      "\u001b[0;32m/tmp/ipykernel_3640/42548479.py\u001b[0m in \u001b[0;36m<module>\u001b[0;34m\u001b[0m\n\u001b[1;32m     13\u001b[0m \u001b[0mwin\u001b[0m\u001b[0;34m.\u001b[0m\u001b[0mresizable\u001b[0m\u001b[0;34m(\u001b[0m\u001b[0;36m0\u001b[0m\u001b[0;34m,\u001b[0m\u001b[0;36m0\u001b[0m\u001b[0;34m)\u001b[0m\u001b[0;34m\u001b[0m\u001b[0;34m\u001b[0m\u001b[0m\n\u001b[1;32m     14\u001b[0m \u001b[0mphoto\u001b[0m \u001b[0;34m=\u001b[0m \u001b[0mPhotoImage\u001b[0m\u001b[0;34m(\u001b[0m\u001b[0mfile\u001b[0m \u001b[0;34m=\u001b[0m \u001b[0;34m\"img/calculator.png\"\u001b[0m\u001b[0;34m)\u001b[0m\u001b[0;34m\u001b[0m\u001b[0;34m\u001b[0m\u001b[0m\n\u001b[0;32m---> 15\u001b[0;31m \u001b[0mwin\u001b[0m\u001b[0;34m.\u001b[0m\u001b[0miconphoto\u001b[0m\u001b[0;34m(\u001b[0m\u001b[0;32mFalse\u001b[0m\u001b[0;34m,\u001b[0m\u001b[0mphoto\u001b[0m\u001b[0;34m)\u001b[0m\u001b[0;34m\u001b[0m\u001b[0;34m\u001b[0m\u001b[0m\n\u001b[0m\u001b[1;32m     16\u001b[0m \u001b[0mdisplay\u001b[0m\u001b[0;34m=\u001b[0m\u001b[0mLabel\u001b[0m\u001b[0;34m(\u001b[0m\u001b[0mwin\u001b[0m\u001b[0;34m,\u001b[0m\u001b[0mtext\u001b[0m\u001b[0;34m=\u001b[0m\u001b[0;34m\"0.0\"\u001b[0m\u001b[0;34m,\u001b[0m\u001b[0mheight\u001b[0m\u001b[0;34m=\u001b[0m\u001b[0;36m3\u001b[0m\u001b[0;34m,\u001b[0m\u001b[0mbg\u001b[0m\u001b[0;34m=\u001b[0m\u001b[0;34m'white'\u001b[0m\u001b[0;34m,\u001b[0m\u001b[0mwidth\u001b[0m\u001b[0;34m=\u001b[0m\u001b[0;36m38\u001b[0m\u001b[0;34m,\u001b[0m\u001b[0mfont\u001b[0m\u001b[0;34m=\u001b[0m\u001b[0;36m12\u001b[0m\u001b[0;34m)\u001b[0m\u001b[0;34m\u001b[0m\u001b[0;34m\u001b[0m\u001b[0m\n\u001b[1;32m     17\u001b[0m \u001b[0mdisplay\u001b[0m\u001b[0;34m.\u001b[0m\u001b[0mpack\u001b[0m\u001b[0;34m(\u001b[0m\u001b[0mpady\u001b[0m\u001b[0;34m=\u001b[0m\u001b[0;36m3\u001b[0m\u001b[0;34m,\u001b[0m\u001b[0manchor\u001b[0m\u001b[0;34m=\u001b[0m\u001b[0;34m\"w\"\u001b[0m\u001b[0;34m)\u001b[0m\u001b[0;34m\u001b[0m\u001b[0;34m\u001b[0m\u001b[0m\n",
      "\u001b[0;32m/usr/lib/python3.8/tkinter/__init__.py\u001b[0m in \u001b[0;36mwm_iconphoto\u001b[0;34m(self, default, *args)\u001b[0m\n\u001b[1;32m   2125\u001b[0m             \u001b[0mself\u001b[0m\u001b[0;34m.\u001b[0m\u001b[0mtk\u001b[0m\u001b[0;34m.\u001b[0m\u001b[0mcall\u001b[0m\u001b[0;34m(\u001b[0m\u001b[0;34m'wm'\u001b[0m\u001b[0;34m,\u001b[0m \u001b[0;34m'iconphoto'\u001b[0m\u001b[0;34m,\u001b[0m \u001b[0mself\u001b[0m\u001b[0;34m.\u001b[0m\u001b[0m_w\u001b[0m\u001b[0;34m,\u001b[0m \u001b[0;34m\"-default\"\u001b[0m\u001b[0;34m,\u001b[0m \u001b[0;34m*\u001b[0m\u001b[0margs\u001b[0m\u001b[0;34m)\u001b[0m\u001b[0;34m\u001b[0m\u001b[0;34m\u001b[0m\u001b[0m\n\u001b[1;32m   2126\u001b[0m         \u001b[0;32melse\u001b[0m\u001b[0;34m:\u001b[0m\u001b[0;34m\u001b[0m\u001b[0;34m\u001b[0m\u001b[0m\n\u001b[0;32m-> 2127\u001b[0;31m             \u001b[0mself\u001b[0m\u001b[0;34m.\u001b[0m\u001b[0mtk\u001b[0m\u001b[0;34m.\u001b[0m\u001b[0mcall\u001b[0m\u001b[0;34m(\u001b[0m\u001b[0;34m'wm'\u001b[0m\u001b[0;34m,\u001b[0m \u001b[0;34m'iconphoto'\u001b[0m\u001b[0;34m,\u001b[0m \u001b[0mself\u001b[0m\u001b[0;34m.\u001b[0m\u001b[0m_w\u001b[0m\u001b[0;34m,\u001b[0m \u001b[0;34m*\u001b[0m\u001b[0margs\u001b[0m\u001b[0;34m)\u001b[0m\u001b[0;34m\u001b[0m\u001b[0;34m\u001b[0m\u001b[0m\n\u001b[0m\u001b[1;32m   2128\u001b[0m \u001b[0;34m\u001b[0m\u001b[0m\n\u001b[1;32m   2129\u001b[0m     \u001b[0miconphoto\u001b[0m \u001b[0;34m=\u001b[0m \u001b[0mwm_iconphoto\u001b[0m\u001b[0;34m\u001b[0m\u001b[0;34m\u001b[0m\u001b[0m\n",
      "\u001b[0;31mTclError\u001b[0m: can't use \"pyimage2\" as iconphoto: not a photo image"
     ]
    }
   ],
   "source": [
    "from tkinter import Tk, PhotoImage, Label, Button, Frame\n",
    "class Cal_Button(Button):\n",
    "    def __init__(self,*args,**kwargs):\n",
    "        Button.__init__(self,*args,**kwargs)\n",
    "        self[\"width\"]=8\n",
    "        self[\"height\"]=2\n",
    "        self[\"font\"]=12\n",
    "        for arg in kwargs.items():\n",
    "            self[arg[0]]=arg[1]\n",
    "win=Tk()\n",
    "win.title(\"ألة حاسبة\")\n",
    "win.geometry(\"400x300\")\n",
    "win.resizable(0,0)\n",
    "photo = PhotoImage(file = \"img/calculator.png\")\n",
    "win.iconphoto(False,photo)\n",
    "display=Label(win,text=\"0.0\",height=3,bg='white',width=38,font=12)\n",
    "display.pack(pady=3)\n",
    "\n",
    "row1=Frame(win)\n",
    "row1.pack(pady=3)\n",
    "b_mult=Cal_Button(row1, text='x',width=3).pack(side='right',padx=3)\n",
    "b9=Cal_Button(row1, text='9').pack(side='right',padx=3)\n",
    "b8=Cal_Button(row1, text='8').pack(side='right',padx=3)\n",
    "b7=Cal_Button(row1, text='7').pack(side='right',padx=3)\n",
    "\n",
    "row2=Frame(win)\n",
    "row2.pack(pady=3)\n",
    "b_minus=Cal_Button(row2, text='-',width=3).pack(side='right',padx=3)\n",
    "b6=Cal_Button(row2, text='6').pack(side='right',padx=3)\n",
    "b5=Cal_Button(row2, text='5').pack(side='right',padx=3)\n",
    "b5=Cal_Button(row2, text='4').pack(side='right',padx=3)\n",
    "\n",
    "row3=Frame(win)\n",
    "row3.pack(pady=3)\n",
    "b_plus=Cal_Button(row3, text='+',width=3).pack(side='right',padx=3)\n",
    "b3=Cal_Button(row3, text='6').pack(side='right',padx=3)\n",
    "b2=Cal_Button(row3, text='5').pack(side='right',padx=3)\n",
    "b1=Cal_Button(row3, text='4').pack(side='right',padx=3)\n",
    "\n",
    "row4=Frame(win)\n",
    "row4.pack(pady=3)\n",
    "b_equal=Cal_Button(row4, text='=',width=3).pack(side='right',padx=3)\n",
    "b_dot=Cal_Button(row4, text='.').pack(side='right',padx=3)\n",
    "b0=Cal_Button(row4, text='0').pack(side='right',padx=3)\n",
    "b_sign=Cal_Button(row4, text='+/-').pack(side='right',padx=3)\n",
    "win.mainloop()"
   ]
  },
  {
   "cell_type": "markdown",
   "id": "2d55169d",
   "metadata": {},
   "source": [
    "لنقم الآن بإضافة وظائف لأزار الآلة الحاسبة وذلك بكتابة دوال تقوم بمهام ادخال الارقام واجراء العمليات الحسابية عند الضغط على هذه الأزرار."
   ]
  },
  {
   "cell_type": "code",
   "execution_count": 3,
   "id": "89742f84",
   "metadata": {},
   "outputs": [],
   "source": [
    "from tkinter import Tk, PhotoImage, Label, Button, Frame\n",
    "def text(txt):\n",
    "    op=[\"/\",\"x\",\"+\",\"-\"]\n",
    "    if txt==\"c\":\n",
    "        display[\"text\"]=\"0.0\"\n",
    "    elif txt in op and display[\"text\"][-1] in op:\n",
    "        display[\"text\"]=display[\"text\"][:-1]+txt\n",
    "    \n",
    "    elif display[\"text\"]==\"0.0\":\n",
    "        display[\"text\"]=txt\n",
    "    else:\n",
    "        display[\"text\"]+=txt\n",
    "    if display[\"text\"][-1]==\"=\":\n",
    "        cal=display[\"text\"].replace(\"x\",\"*\")\n",
    "        display[\"text\"]+=\"\\n\"+\"\\t\"*3+str(eval(cal[:-1]))\n",
    "class Cal_Button(Button):\n",
    "    def __init__(self,*args,**kwargs):\n",
    "        Button.__init__(self,*args,**kwargs)\n",
    "        self[\"width\"]=8\n",
    "        self[\"height\"]=2\n",
    "        self[\"font\"]=12\n",
    "        for arg in kwargs.items():\n",
    "            self[arg[0]]=arg[1]\n",
    "        self[\"command\"]=lambda:text(self[\"text\"])\n",
    "    \n",
    "\n",
    "win=Tk()\n",
    "win.title(\"ألة حاسبة\")\n",
    "win.geometry(\"400x350\")\n",
    "win.resizable(0,0)\n",
    "photo = PhotoImage(file = \"img/calculator.png\")\n",
    "win.iconphoto(False,photo)\n",
    "display=Label(win,text=\"0.0\",height=3,bg='white',width=38,font=12,anchor=\"w\",justify=\"left\")\n",
    "display.pack(pady=3)\n",
    "\n",
    "row0=Frame(win)\n",
    "row0.pack(pady=3)\n",
    "b_mult=Cal_Button(row0, text='/',width=3).pack(side='right',padx=3)\n",
    "bbl=Cal_Button(row0, text='c').pack(side='right',padx=3)\n",
    "bbr=Cal_Button(row0, text=')').pack(side='right',padx=3)\n",
    "bc=Cal_Button(row0, text='(').pack(side='right',padx=3)\n",
    "\n",
    "row1=Frame(win)\n",
    "row1.pack(pady=3)\n",
    "b_mult=Cal_Button(row1, text='x',width=3).pack(side='right',padx=3)\n",
    "b9=Cal_Button(row1, text='9').pack(side='right',padx=3)\n",
    "b8=Cal_Button(row1, text='8').pack(side='right',padx=3)\n",
    "b7=Cal_Button(row1, text='7').pack(side='right',padx=3)\n",
    "\n",
    "row2=Frame(win)\n",
    "row2.pack(pady=3)\n",
    "b_minus=Cal_Button(row2, text='-',width=3).pack(side='right',padx=3)\n",
    "b6=Cal_Button(row2, text='6').pack(side='right',padx=3)\n",
    "b5=Cal_Button(row2, text='5').pack(side='right',padx=3)\n",
    "b5=Cal_Button(row2, text='4').pack(side='right',padx=3)\n",
    "\n",
    "row3=Frame(win)\n",
    "row3.pack(pady=3)\n",
    "b_plus=Cal_Button(row3, text='+',width=3).pack(side='right',padx=3)\n",
    "b3=Cal_Button(row3, text='3').pack(side='right',padx=3)\n",
    "b2=Cal_Button(row3, text='2').pack(side='right',padx=3)\n",
    "b1=Cal_Button(row3, text='1').pack(side='right',padx=3)\n",
    "\n",
    "row4=Frame(win)\n",
    "row4.pack(pady=3)\n",
    "b_equal=Cal_Button(row4, text='=',width=3).pack(side='right',padx=3)\n",
    "b_dot=Cal_Button(row4, text='.').pack(side='right',padx=3)\n",
    "b0=Cal_Button(row4, text='0').pack(side='right',padx=3)\n",
    "b_sign=Cal_Button(row4, text='+/-').pack(side='right',padx=3)\n",
    "win.mainloop()"
   ]
  },
  {
   "cell_type": "markdown",
   "id": "4a1e2527",
   "metadata": {},
   "source": [
    "<div class=arabic>\n",
    "ثانياً: طريقة تحديد المحاور place\n",
    "</div>"
   ]
  },
  {
   "cell_type": "markdown",
   "id": "07a11b09",
   "metadata": {},
   "source": [
    "<div class=arabic>\n",
    "ثالثاً: طريقة الجدول grid\n",
    "</div>"
   ]
  },
  {
   "cell_type": "markdown",
   "id": "db7df0dc",
   "metadata": {},
   "source": [
    "## مكتبة PyQt5"
   ]
  },
  {
   "cell_type": "code",
   "execution_count": 5,
   "id": "408bcb23",
   "metadata": {},
   "outputs": [
    {
     "data": {
      "text/plain": [
       "8"
      ]
     },
     "execution_count": 5,
     "metadata": {},
     "output_type": "execute_result"
    }
   ],
   "source": [
    "eval(\"3+5\")"
   ]
  },
  {
   "cell_type": "markdown",
   "id": "b760ce1a",
   "metadata": {},
   "source": [
    "## مكتبة Kivy"
   ]
  },
  {
   "cell_type": "code",
   "execution_count": 6,
   "id": "5e66d4fd",
   "metadata": {
    "scrolled": true
   },
   "outputs": [
    {
     "name": "stdout",
     "output_type": "stream",
     "text": [
      "Collecting kivy\n",
      "  Downloading Kivy-2.1.0-cp38-cp38-manylinux_2_17_x86_64.manylinux2014_x86_64.whl (31.3 MB)\n",
      "\u001b[K     |████████████████████████████████| 31.3 MB 4.0 MB/s eta 0:00:011    |███████████▎                    | 11.1 MB 907 kB/s eta 0:00:23\n",
      "\u001b[?25hCollecting Kivy-Garden>=0.1.4\n",
      "  Downloading Kivy_Garden-0.1.5-py3-none-any.whl (4.6 kB)\n",
      "Requirement already satisfied: pygments in /home/alhakeeeem/.local/lib/python3.8/site-packages (from kivy) (2.9.0)\n",
      "Requirement already satisfied: docutils in /home/alhakeeeem/.local/lib/python3.8/site-packages (from kivy) (0.19)\n",
      "Requirement already satisfied: requests in /usr/lib/python3/dist-packages (from Kivy-Garden>=0.1.4->kivy) (2.22.0)\n",
      "Installing collected packages: Kivy-Garden, kivy\n",
      "Successfully installed Kivy-Garden-0.1.5 kivy-2.1.0\n",
      "Note: you may need to restart the kernel to use updated packages.\n"
     ]
    }
   ],
   "source": [
    "pip install kivy"
   ]
  },
  {
   "cell_type": "code",
   "execution_count": null,
   "id": "ceaaede4",
   "metadata": {},
   "outputs": [
    {
     "name": "stderr",
     "output_type": "stream",
     "text": [
      "[\u001b[1;32mINFO\u001b[0m   ] [Logger      ] Record log in /home/alhakeeeem/.kivy/logs/kivy_23-01-07_2.txt\n",
      "[\u001b[1;32mINFO\u001b[0m   ] [Kivy        ] v2.1.0\n",
      "[\u001b[1;32mINFO\u001b[0m   ] [Kivy        ] Installed at \"/home/alhakeeeem/.local/lib/python3.8/site-packages/kivy/__init__.py\"\n",
      "[\u001b[1;32mINFO\u001b[0m   ] [Python      ] v3.8.10 (default, Nov 14 2022, 12:59:47) \n",
      "[GCC 9.4.0]\n",
      "[\u001b[1;32mINFO\u001b[0m   ] [Python      ] Interpreter at \"/usr/bin/python3\"\n",
      "[\u001b[1;32mINFO\u001b[0m   ] [Logger      ] Purge log fired. Processing...\n",
      "[\u001b[1;32mINFO\u001b[0m   ] [Logger      ] Purge finished!\n",
      "[\u001b[1;32mINFO\u001b[0m   ] [Factory     ] 189 symbols loaded\n",
      "[\u001b[1;32mINFO\u001b[0m   ] [Image       ] Providers: img_tex, img_dds, img_sdl2, img_pil (img_ffpyplayer ignored)\n",
      "[\u001b[1;32mINFO\u001b[0m   ] [Text        ] Provider: sdl2\n",
      "[\u001b[1;32mINFO\u001b[0m   ] [Window      ] Provider: sdl2\n",
      "[\u001b[1;32mINFO\u001b[0m   ] [GL          ] Using the \"OpenGL\" graphics system\n",
      "[\u001b[1;32mINFO\u001b[0m   ] [GL          ] Backend used <sdl2>\n",
      "[\u001b[1;32mINFO\u001b[0m   ] [GL          ] OpenGL version <b'1.4 (4.6.0 NVIDIA 456.71)'>\n",
      "[\u001b[1;32mINFO\u001b[0m   ] [GL          ] OpenGL vendor <b'NVIDIA Corporation'>\n",
      "[\u001b[1;32mINFO\u001b[0m   ] [GL          ] OpenGL renderer <b'GeForce GT 730/PCIe/SSE2'>\n",
      "[\u001b[1;32mINFO\u001b[0m   ] [GL          ] OpenGL parsed version: 1, 4\n"
     ]
    }
   ],
   "source": [
    "from kivy.app import App\n",
    "from kivy.uix.button import Button\n",
    "\n",
    "class LanguageLearnerApp(App):\n",
    "    def build(self):\n",
    "        return Button(text=\"Hello World!\",\n",
    "                     size=(100,100),\n",
    "                     pos=(100,100))\n",
    "LanguageLearnerApp().run()"
   ]
  },
  {
   "cell_type": "markdown",
   "id": "086ff7b5",
   "metadata": {},
   "source": [
    "## مكتبة pyGUI"
   ]
  },
  {
   "cell_type": "markdown",
   "id": "53332f51",
   "metadata": {},
   "source": [
    "<div class=arabic></div>"
   ]
  }
 ],
 "metadata": {
  "kernelspec": {
   "display_name": "Python 3 (ipykernel)",
   "language": "python",
   "name": "python3"
  },
  "language_info": {
   "codemirror_mode": {
    "name": "ipython",
    "version": 3
   },
   "file_extension": ".py",
   "mimetype": "text/x-python",
   "name": "python",
   "nbconvert_exporter": "python",
   "pygments_lexer": "ipython3",
   "version": "3.8.10"
  }
 },
 "nbformat": 4,
 "nbformat_minor": 5
}
