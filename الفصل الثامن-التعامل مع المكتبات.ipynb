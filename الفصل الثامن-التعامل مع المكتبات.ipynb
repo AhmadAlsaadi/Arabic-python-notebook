{
 "cells": [
  {
   "cell_type": "code",
   "execution_count": 1,
   "id": "88d5af91",
   "metadata": {},
   "outputs": [
    {
     "data": {
      "text/html": [
       "<style type=\"text/css\">@import url('https://www.fontstatic.com/f=yassin,amiri-quran,basim-marah,b-compset');\n",
       "\n",
       "\n",
       ".title{\n",
       "direction: rtl;\n",
       "font-size:100px;\n",
       "padding-right: 15px;\n",
       "line-height:10px;\n",
       "font-family:basim-marah;\n",
       "\n",
       "}\n",
       "\n",
       ".arabic{\n",
       "direction:rtl;\n",
       "font-size:20px;\n",
       "line-height:40px;\n",
       "padding-right: 1cm;\n",
       "padding-left: 1cm;\n",
       "text-align:justify;\n",
       "font-family:amiri-quran;\n",
       "}\n",
       "\n",
       ".horizontal{\n",
       "height:2px;\n",
       "border:none;\n",
       "color:#333;\n",
       "background-color:#333;\n",
       "width:75%;\n",
       "}\n",
       ".jupyter-widgets{\n",
       "    font-size:20px;\n",
       "    direction:rtl;\n",
       "    margin-right:25px;\n",
       "    font-family:amiri-quran;\n",
       "        \n",
       "}\n",
       ".widget-radio-box input{\n",
       "    float:right;\n",
       "    direction:ltr;\n",
       "    margin: 0 calc( var(--jp-widgets-input-padding) * 2 ) 0 10px;\n",
       "    text-align:right;\n",
       "    height: 30px;\n",
       "}\n",
       ".widget-radio{\n",
       "    flex-direction: column;\n",
       "    width:unset;\n",
       "    \n",
       "}\n",
       ".widget-label{  \n",
       "    font-family:amiri-quran;\n",
       "    font-size:18px;\n",
       "    height: 40px;\n",
       "}\n",
       "\n",
       ".widget-radio-box label {\n",
       "    font-size:18px;\n",
       "    height: 30px;\n",
       "}\n",
       "\n",
       ".true-grade{\n",
       "    color:green;\n",
       "}\n",
       ".false-grade{\n",
       "    color:red;\n",
       "}\n",
       "label:lang(en){\n",
       "    direction:ltr;\n",
       "    text-align:right;\n",
       "}\n",
       ".s{\n",
       "    line-height:unset;\n",
       "    height:unset;\n",
       "}\n",
       ".CodeMirror-wrap {\n",
       "    font-size:16px;\n",
       "}\n",
       "\n",
       ".basic_table{\n",
       "    font-size:20px;\n",
       "    color:\"green\";\n",
       "}</style>"
      ],
      "text/plain": [
       "<IPython.core.display.HTML object>"
      ]
     },
     "execution_count": 1,
     "metadata": {},
     "output_type": "execute_result"
    }
   ],
   "source": [
    "import style\n",
    "style._set_css_style(\"custom.css\")"
   ]
  },
  {
   "cell_type": "markdown",
   "id": "096a32e1-abe6-4c71-8000-a4d47933c10f",
   "metadata": {},
   "source": [
    "<div class=arabic>\n",
    "<hr class=horizontal>\n",
    "<center>\n",
    "<a id=\"chapter8\"></a>\n",
    "<h1 class=title>\n",
    "الفصل الثامن : التعامل مع المكتبات\n",
    "</h1>\n",
    "</center>\n",
    "<hr class=horizontal>\n",
    "</div>"
   ]
  },
  {
   "cell_type": "markdown",
   "id": "5b461e7c-0eb3-47c7-8a5e-a1815fcc1016",
   "metadata": {},
   "source": [
    "<div class=arabic>\n",
    "في هذا الفصل سوف نتطرق الى الحديث عن المكتبات (modules) في لغة بايثون والتي تعتبر من أحد أهم العوامل التي ساهمت في ذياع صيت لغة بايثون على كافة الأصعدة. فعلى سبيل المثال نجد مكتبات مثل numpy و scipy وmatplotlib  مشهورة الاستخدام في الاوساط العلمية والبحثية. وكذلك مكتبتي Django و flask  التي يعتمد عليها المبرمجين في بناء تطبيقات الويب. وتعتبر مكتبة pandas مشهورة لدى المهتمين بتحليل البيانات الى غير ذلك من المكتبات الاخرى.  \n",
    "سنحاول في هذا الفصل تبسط مفهوم المكتبات في بايثون لدى القارئ حيث سنبدأ بتعريف المكتبات وكيفية التعامل معها. وسنقوم أيضاً بتعريف القارئ ببعض المكتبات المبنية داخل اصدارة بايثون 3 والتي يكاد لا يستغنى عنها عند كتابة أي كود برمجي. كما سنتعرف ايضا على كيفية تنصيب مكتبة خارجية الى مجلد مكتبات بايثون من اجل استخدامها في كتابة البرامج. وفي نهاية الفصل سوف نتطرق بشكل مبسط الى كيفية انشاء مكتبة خاصة بنا.\n",
    "\n",
    "</div>"
   ]
  },
  {
   "cell_type": "markdown",
   "id": "d639bc54-cc3d-4caa-9419-02a043420ea2",
   "metadata": {},
   "source": [
    "<div class=arabic>\n",
    "\n",
    "<h2 class=title>\n",
    "أهداف الفصل\n",
    "</h2>\n",
    "عند اتمام هذا الفصل يجب ان يكون لديك المام بالآتي: \n",
    "\n",
    "<ol>\n",
    "<li> \n",
    "تعريف المكتبات في لغة بايثون وكيفية استدعائها.  </li>\n",
    "<li>\n",
    "استخدام بعض المكتبات المبنية داخل اصدارة بايثون. </li>\n",
    "<li>\n",
    "معرفة كيفية تنصيب مكتبة خارجية داخل مجلد مكتبات بايثون لاستخدامها في كتابة البرامج.</li> \n",
    "    <li>\n",
    "   التعرف على كيفية بناء مكتبة خاصة بنا.\n",
    "    </li>\n",
    "</ol>\n",
    "</div>"
   ]
  },
  {
   "cell_type": "markdown",
   "id": "1b94684d-97b8-4c79-8b28-98226fa61ab4",
   "metadata": {},
   "source": [
    "<div class=arabic><h2 class=title>تعريف المكتبة في بايثون</h2></div>"
   ]
  },
  {
   "cell_type": "markdown",
   "id": "1394531d-289e-41bc-bbca-cd48f188fdc0",
   "metadata": {},
   "source": [
    "<div class=arabic>\n",
    "المكتبة في بايثون هي عبارة عن ملف بايثون اعتيادي يحتوي على كود برمجي تم من خلاله تعريف عدد من الكائنات البرمجية والدوال والمتغيرات بهدف تسهيل أداء مهام متعلقة بموضوع معين. فنجد على سبيل المثال المكتبة math والتي هي عبارة مكتبة داخلية مبنية في اصدارة بايثون تحوي على دوال رياضية عديدة كدالة الجذر التربيعي ()sqrt وادالة جيب الزاوية ()sin  وجيب تمام الزاوية ()cos الى غيرها من الدوال الرياضية. ولكي نتمكن من استخدام الدوال الموجودة داخل أي مكتبة يجب ان يتم استدعاؤها من خلال الامر import كما في المثال التالي:\n",
    "</div>"
   ]
  },
  {
   "cell_type": "code",
   "execution_count": null,
   "id": "ac5e3656-866e-4ff6-8ec5-6eaa72aad926",
   "metadata": {},
   "outputs": [],
   "source": [
    "import math\n",
    "x=math.sqrt(4)\n",
    "print(x)"
   ]
  },
  {
   "cell_type": "markdown",
   "id": "ec53796c-cae6-4c2a-b4bb-9a8fd17c4945",
   "metadata": {},
   "source": [
    "<div class=arabic>\n",
    "لاحظ ان عملية الاستدعاء تمت باستخدام الامر import متبوعاً باسم المكتبة. ومن ثم أصبح بإمكاننا استخدام الدوال داخل المكتبة math باستخدام اسم المكتبة أولاً ومن ثم اسم الدالة بعد الفصل بينها بنقطة. وطريقة الاستدعاء هذه ليست الوحيدة في بايثون. فهناك طرق استدعاء أخرى. فمثلا يمكن استدعاء المكتبة السابقة باستخدام التركيب اللغوي التالي:\n",
    "</div>"
   ]
  },
  {
   "cell_type": "code",
   "execution_count": null,
   "id": "816518ed-340b-4295-900f-c171fb2b10a8",
   "metadata": {},
   "outputs": [],
   "source": [
    "from math import *\n",
    "x=sqrt(4)\n",
    "print(x)"
   ]
  },
  {
   "cell_type": "markdown",
   "id": "23ec4f45-a696-4ae3-a2e3-8db8de9e9190",
   "metadata": {},
   "source": [
    "<div class=arabic>\n",
    "لاحظ ان طريقة الاستدعاء في المثال السابق يمكن ترجمتها الى المعنى التالي: \"من المكتبة math استورد كل الدوال والمتغيرات.\" وعلامة النجمة بعد كلمة import تعني استيراد كل شيء. كما يجب ملاحظة انه عند استخدام طريقة الاستدعاء هذه فإننا لا نستخدم اسم المكتبة قبل الدالة وانما نكتفى باستخدام الدالة مباشرة. لكن في حقيقة الامر فان مبرمجي بايثون لا يوصون باستخدام طريقة الاستدعاء هذه لسببين: اولها ان هذه الطريقة تستدعي كل شيء في المكتبة والتي قد لا نحتاج الا لجزء يسير من الدوال الموجود في المكتبة. فتؤدي هذه الطريقة الى حشو ذاكرة الكمبيوتر بما لا فائدة منه. ثاني هذه الاسباب هو انه قد يحصل تضارب بين اسماء الدوال الموجودة في المكتبة المستدعاه وأسماء دوال جديدة يمكن ان نقوم بإنشائها بأنفسنا. فمثلا عندما نستورد المكتبة math بالطريقة السابقة ثم نقوم بتعريف دالة جديدة تحمل اسم أحد الدوال الموجودة في المكتبة math فانه يحصل ارتباك لدى المبرمج حول اية دالة تم استخدامها عند تنفيذ البرنامج كما في المثال التالي:\n",
    "</div>"
   ]
  },
  {
   "cell_type": "code",
   "execution_count": null,
   "id": "2b9b7d35-eea5-4f81-a229-a5ae65ab6688",
   "metadata": {},
   "outputs": [],
   "source": [
    "from math import *\n",
    "def sqrt(number):\n",
    "    return \"Hello \" + str(number)\n",
    "x=sqrt(4)\n",
    "print(x)"
   ]
  },
  {
   "cell_type": "markdown",
   "id": "c891c805-ced6-4948-b19d-bdb1ba7a31fc",
   "metadata": {},
   "source": [
    "<div class=arabic>\n",
    "على الرغم ان من يحدد ايتها دالة سوف يستدعيها مفسر بايثون عند تنفيذه الكود البرمجي السابق محكوم بمكان تعريف الدالة الجديدة التي قمنا بإنشائها داخل الكود البرمجي الا ان طريقة الاستدعاء هذه تسبب ارباك لكل من يقرأ الكود البرمجي السابق. \n",
    "لذلك يفضل تحديد الدوال المراد استخدامها حين الاستدعاء بحيث لا يتم استدعاء دوال المكتبة بالكامل بل يكتفى باستدعاء الدوال المحددة فقط كما في المثال التالي:\n",
    "</div>"
   ]
  },
  {
   "cell_type": "code",
   "execution_count": null,
   "id": "1e5345d4-7a4d-4916-9cb4-ce20675a04cd",
   "metadata": {},
   "outputs": [],
   "source": [
    "from math import sin, pi\n",
    "print(sin(0.5*pi))"
   ]
  },
  {
   "cell_type": "markdown",
   "id": "f9168885-841d-465e-8924-8a9188d5514d",
   "metadata": {},
   "source": [
    "<div class=arabic>\n",
    "كما يمكن تغيير اسم المكتبة حين الاستدعاء بغرض تبسيط كتابة الكود البرمجي كما في المثال التالي:\n",
    "</div>"
   ]
  },
  {
   "cell_type": "code",
   "execution_count": null,
   "id": "3c4f8256-9ed2-4cca-9f1d-a8ba957b218a",
   "metadata": {},
   "outputs": [],
   "source": [
    "import math as m\n",
    "print(m.sin(0.5*m.pi))"
   ]
  },
  {
   "cell_type": "markdown",
   "id": "c56a2f79-5194-4ec3-9036-11a572e07be9",
   "metadata": {},
   "source": [
    "<div class=arabic><h2 class=title>المكتبات المدمجة مع اصدارة بايثون</h2></div>"
   ]
  },
  {
   "cell_type": "markdown",
   "id": "760ca4e1-940f-4279-9828-fd1dac4e1353",
   "metadata": {},
   "source": [
    "<div class=arabic>\n",
    "تحتوي اصدارة بايثون 3 على العديد من المكتبات الداخلية (built-in modules). وسوف نتطرق في هذه الجزئية من الفصل الي ثلاثة من هذه المكتبات وهي os و sys و أخيرا time. اما بقية المكتبات فيمكن استخدام الدالة ()help والتي تعطي تعريف وشروحات وافيه عن أي مكتبة داخلية تكتب داخل قوسي الدالة كما في المثال التالي:\n",
    "</div>"
   ]
  },
  {
   "cell_type": "code",
   "execution_count": null,
   "id": "f9330197-902d-4f7c-bd6a-a6eb262030f7",
   "metadata": {},
   "outputs": [],
   "source": [
    "import random\n",
    "help(random)"
   ]
  },
  {
   "cell_type": "markdown",
   "id": "e6d1a8eb-d19b-4cd6-85e7-7148c6cb3d90",
   "metadata": {},
   "source": [
    "<div class=arabic>\n",
    "كما يمكن أيضا التعرف على محتويات أي مكتبة بعد استدعائها باستخدام الدالة ()dir كما في المثال التالي:\n",
    "</div>"
   ]
  },
  {
   "cell_type": "code",
   "execution_count": null,
   "id": "9501a07b-c8fb-48df-814a-0448cbd3293e",
   "metadata": {},
   "outputs": [],
   "source": [
    "import math\n",
    "print(dir(math))"
   ]
  },
  {
   "cell_type": "markdown",
   "id": "bc0dd86c-a4a6-4b75-9a6e-0fff9eed8647",
   "metadata": {},
   "source": [
    "<div class=arabic>\n",
    "لاحظ ان ناتج الدالة ()dir هو عبارة قائمة تحوي جميع دوال ومتغيرات المكتبة math. ولو دققت النظر في بيانات القائمة السابقة لوجدت ان الدوال التي تعلمناها من  المكتبة math موجودة بالفعل داخل هذه القائمة.\n",
    "</div>"
   ]
  },
  {
   "cell_type": "markdown",
   "id": "b7fffd03-a178-4643-b82b-f659e800c7e8",
   "metadata": {},
   "source": [
    "<div class=arabic>\n",
    "   كما يمكن معرفة محتويات اي مكتبة مدمجة من خلال استخدام خلايا الكود في هذا الكتاب. فعند كتابة الامر  import والضغط على الزر tab من لوحة المفاتيح يقوم جوبتر نوت بوك باقتراح قائمة بالمكتبات التي يمكنك ان تستدعيها. وكلما كتبت احرف اكثر من اسم المكتبة التي تريد استدعاؤها كلما كانت اقتراحات جوبتر نوت بوك اكثر دقة لما تنوي استدعاؤه. كما ان خاصية الاكمال الذاتي هذه تساعد المبرمج على مشاهدة محتويات المكتبة من دوال ومتغيرات. فبمجرد كتابة اسم المكتبة واضافة نقطة بعدها ثم الضغط على زر tab من لوحة المفاتيح يبدأ جوبتر بعرض الدوال والمتغيرات التي تحتويها المكتبة لكي تساعد المبرمج على العثور على ما يبحث عنه.\n",
    "</div>"
   ]
  },
  {
   "cell_type": "markdown",
   "id": "5391c2c7-9c34-4e8b-8718-a8b414b29df3",
   "metadata": {},
   "source": [
    "<div class=arabic><h2 class=title>مكتبة os</h2></div>"
   ]
  },
  {
   "cell_type": "markdown",
   "id": "24ebf2ea-6c04-4f9b-851e-74ad12caf756",
   "metadata": {},
   "source": [
    "<div class=arabic>\n",
    "تسهل مكتبة os التفاعل مع نظام التشغيل الذي يعمل عليه المبرمج سواء كان ذلك نظام ويندوز او ماك او لينكس. وتقدم هذه المكتبة الكثير من الدوال الخاصة بالتعامل مع نظام التشغيل فمثلا يمكن معرفة المجلد الحالي الذي يتواجد فيه البرنامج والذي نعمل على كتابة كوده باستخدام الدالة ()getcwd كما في المثال التالي:\n",
    "</div>"
   ]
  },
  {
   "cell_type": "code",
   "execution_count": null,
   "id": "69041653-1069-4feb-8f67-fc7e36eb551a",
   "metadata": {},
   "outputs": [],
   "source": [
    "import os\n",
    "print(os.getcwd())"
   ]
  },
  {
   "cell_type": "markdown",
   "id": "20117ef8-6163-4bc9-bc4a-fb4c918ad77a",
   "metadata": {},
   "source": [
    "<div class=arabic>\n",
    "كما يمكن أيضا تنفيذ جميع الاوامر التي يمكن تنفيذها على محرر الاوامر في ويندوز او ماك او لينكس من خلال كود بايثون البرمجي باستخدام الدالة ()system بحيث يوضع الامر المراد تنفيذه بين علامتي تنصيص داخل قوسي الدالة كما في المثال التالي:\n",
    "</div>"
   ]
  },
  {
   "cell_type": "code",
   "execution_count": null,
   "id": "0525ea10-d52c-4875-8461-8a1433347347",
   "metadata": {},
   "outputs": [],
   "source": [
    "import os\n",
    "os.system(\"notepad\")"
   ]
  },
  {
   "cell_type": "markdown",
   "id": "907c705a-4ac9-4e6a-ba0f-bdfda7e08526",
   "metadata": {},
   "source": [
    "<div class=arabic>\n",
    "وكذلك أيضا يمكن تكوين مجلد باستخدام الدالة ()mkdir وكذلك حذف مجلد باستخدام ()rmdir وايضاً يمكن تغيير موقع المجلد باستخدام الدالة ()chdir وعرض قائمة بأسماء المجلدات باستخدام الدالة ()listdir والكثير الكثير من الدوال الخاصة بالتعامل مع الملفات والمجلدات والتي لا يسع المقام لذكرها هنا ويمكن الاطلاع عليها من خلال وسائل المساعدة التي ذكرناه سابقاً.\n",
    "</div>"
   ]
  },
  {
   "cell_type": "markdown",
   "id": "3040cbbc-9711-47f0-abc6-d215eb4acd48",
   "metadata": {},
   "source": [
    "<div class=arabic><h2 class=title>مكتبة sys </h2></div>"
   ]
  },
  {
   "cell_type": "markdown",
   "id": "fb906a0e-b2df-400e-8696-13c918eb3b78",
   "metadata": {},
   "source": [
    "<div class=arabic>\n",
    "تمكن مكتبة sys المبرمج بلغة بايثون من التعامل مع كل ما يخص مفسر بايثون. فمثلا يمكن معرفة رقم اصدارة بايثون عن طريق استخدام المتغير version كما في المثال التالي:\n",
    "</div>"
   ]
  },
  {
   "cell_type": "code",
   "execution_count": null,
   "id": "779b5822-dacc-413d-b9d1-26b7b825ce41",
   "metadata": {},
   "outputs": [],
   "source": [
    "import sys\n",
    "print(sys.version)"
   ]
  },
  {
   "cell_type": "markdown",
   "id": "5339fd09-9c7e-4045-8b5c-fb0dd701051a",
   "metadata": {},
   "source": [
    "<div class=arabic>\n",
    "كما يمكن معرفة المجلدات التي سوف يقوم مفسر بايثون بالبحث فيها عند اجراء اي عملية استدعاء سواءً كانت لمكتبة او دالة او فتح لملف وذلك باستخدام المتغير path كما في المثال التالي:\n",
    "</div>"
   ]
  },
  {
   "cell_type": "code",
   "execution_count": null,
   "id": "c317dd5b-3557-4687-a41f-5dc066026dec",
   "metadata": {},
   "outputs": [],
   "source": [
    "import sys\n",
    "print(sys.path)"
   ]
  },
  {
   "cell_type": "markdown",
   "id": "ae080f17-a843-4967-816d-bf8b1026fe62",
   "metadata": {},
   "source": [
    "<div class=arabic>\n",
    "يجب ملاحظة ان ناتج الكود السابق يختلف بحسب اختلاف إعدادات النظام لكل مستخدم وطريقة ونوعية تنصيبه لإصدارة بايثون. فأول مكان يقوم مفسر بايثون بالبحث فيه هو المجلد الذي تم تشغيل الكود البرمجي منه ثم مجلد المكتبات الداخلية (يختلف باختلاف إصدارة بايثون المستخدمة) ومن ثم مجلد  المكتبات الخارجية site-packages.\n",
    "</div>"
   ]
  },
  {
   "cell_type": "markdown",
   "id": "68b1edaf-adfb-4105-a44c-850640848bb5",
   "metadata": {},
   "source": [
    "<div class=arabic>\n",
    "كما يمكن استخدام المتغير argv في مكتبة sys للتعرف على المدخلات التي تصاحب ملف بايثون عند تشغيله من محرر أوامر النظام الذي يعمل عليه المستخدم. ولتوضح هذه الفكرة أكثر انشاءنا داخل مجلد كتابنا هذا ملف بايثون اسمه test.py وكتبنا بداخله الكود البرمجي التالي:\n",
    "</div>"
   ]
  },
  {
   "cell_type": "code",
   "execution_count": null,
   "id": "bb7895ce-cfd8-46f9-9989-c1b7af2286d5",
   "metadata": {},
   "outputs": [],
   "source": [
    "import sys\n",
    "print(sys.argv)"
   ]
  },
  {
   "cell_type": "markdown",
   "id": "cf9f3ecd-7652-46e7-8b81-14200ef18ada",
   "metadata": {},
   "source": [
    "<div class=arabic>\n",
    "لنقم الان بتشغيل الملف السابق من محرر الاوامر سواءً كان ذلك في ويندوز او في غيره من الانظمة. وللقيام بذلك من خلال خلية كود في هذا الكتاب سوف نستخدم علامة التعجب ! قبل امر تشغيل الملف كما في المثال التالي:\n",
    "</div>"
   ]
  },
  {
   "cell_type": "code",
   "execution_count": null,
   "id": "9db287d4-1761-4397-a5c9-a3c1fcf8807c",
   "metadata": {},
   "outputs": [],
   "source": [
    "!python test.py"
   ]
  },
  {
   "cell_type": "markdown",
   "id": "9d14362c-0a4d-4804-a52d-d6d07a80296a",
   "metadata": {},
   "source": [
    "<div class=arabic>\n",
    "بعد كتابة الامر python test.py والضغط على زر الادخال يتم تشغيل الملف الذي كتبناه بلغة بايثون والذي يقوم بطباعة قيمة المتغير argv. المتغير argv الذي تم طباعته هنا هو عبارة عن قائمة تحتوي على اسم الملف الذي قمنا بتشغيله. ويمكن إضافة بيانات الى المتغير argv وذلك بكتابتها بعد اسم الملف عند التشغيل كما في المثال التالي:\n",
    "</div>"
   ]
  },
  {
   "cell_type": "code",
   "execution_count": null,
   "id": "e4796cdd-86b2-432b-8202-5359f7519f83",
   "metadata": {},
   "outputs": [],
   "source": [
    "!python test.py 1 2 3"
   ]
  },
  {
   "cell_type": "markdown",
   "id": "52ec3cd4-15df-4a43-afe8-69a973a83860",
   "metadata": {},
   "source": [
    "<div class=arabic>\n",
    "لا حظ ان كل شيء يكتب بعد اسم الملف حين تشغيله يتعامل معه مفسر بايثون على انه مدخل يتم اضافته الى قائمة argv ويجب ملاحظة ان الفصل بين البيانات يتم بواسطة ترك مسافة بين كل مدخل وآخر كما هو واضح في المثال السابق. وتعتبر طريقة الادخال هذه شائعة الاستخدام للبرامج التي يتم تشغيلها من محرر أوامر النظام.\n",
    "</div>"
   ]
  },
  {
   "cell_type": "markdown",
   "id": "5ce04088-3cbf-49d9-a506-50ee7c855d1c",
   "metadata": {},
   "source": [
    "<div class=arabic><h2 class=title>تمارين استكشافية</h2></div>"
   ]
  },
  {
   "cell_type": "markdown",
   "id": "40820ac2-65e3-46a7-aba8-9b8a70a27530",
   "metadata": {},
   "source": [
    "<div class=arabic>\n",
    "١- قم بكتابة برنامج يستغل خاصية ادخال البيانات عند التشغيل بحيث يقوم بجمع الاعداد المدخلة وطباعة ناتج الجمع على شاشة الكمبيوتر؟\n",
    "</div>"
   ]
  },
  {
   "cell_type": "markdown",
   "id": "8d6f553c-c287-44ea-b0d5-fd0e2b6b55c1",
   "metadata": {},
   "source": [
    "<div class=arabic><h2 class=title>مكتبة time</h2></div>"
   ]
  },
  {
   "cell_type": "markdown",
   "id": "024cbd87-550d-41d5-bcd6-1affa85ed80e",
   "metadata": {},
   "source": [
    "<div class=arabic>\n",
    "مكتبة time الداخلية تحتوي على العديد من الدوال التي تساعد المبرمج على القيام بمهام متعلقة بالوقت. فمثلا يمكن استخدام الدالة ()time لمعرفة الوقت بعدد الثوان التي مضت منذ الساعة 12 صباحاً من اليوم الاول لشهر يناير لعالم 1970 كما في المثال التالي:\n",
    "</div>"
   ]
  },
  {
   "cell_type": "code",
   "execution_count": null,
   "id": "7fca249b-b211-4b39-9bb6-f54e74739379",
   "metadata": {},
   "outputs": [],
   "source": [
    "import time\n",
    "time.time()"
   ]
  },
  {
   "cell_type": "markdown",
   "id": "282cbeea-7070-4962-aa22-8f95de2b70ab",
   "metadata": {},
   "source": [
    "<div class=arabic>\n",
    "قد لا تكون صيغة الوقت هذه مفيدة للكثير لكن يمكن تحويل هذه الثواني لصيغة وقت مألوفة باستخدام الدالة ()ctime كما في المثال التالي:\n",
    "</div>"
   ]
  },
  {
   "cell_type": "code",
   "execution_count": null,
   "id": "620228c4-5c57-4428-8761-98ee3aaa1a01",
   "metadata": {},
   "outputs": [],
   "source": [
    "import time\n",
    "t=time.time()\n",
    "time.ctime(t)"
   ]
  },
  {
   "cell_type": "markdown",
   "id": "39a5431f-2795-46ee-897e-9bd227b27eca",
   "metadata": {},
   "source": [
    "<div class=arabic>\n",
    "الدالة ()ctime تعطي صيغة الوقت المألوفة عندما نزودها بعدد الثوان التي مرت منذ ذلك التاريخ لكن عندما نستخدمها بدون أي مدخلات فإنها تعطينا الوقت الحالي بالصيغة المألوفة كما في المثال التالي:\n",
    "</div>"
   ]
  },
  {
   "cell_type": "code",
   "execution_count": null,
   "id": "20b06213-f187-4bb2-a35a-7455df2b3b3d",
   "metadata": {},
   "outputs": [],
   "source": [
    "import time\n",
    "print(time.ctime())"
   ]
  },
  {
   "cell_type": "markdown",
   "id": "27835002-fef6-4f8e-8364-59fdb0eab902",
   "metadata": {},
   "source": [
    "<div class=arabic>\n",
    "كما يمكن تأجيل تنفيذ أي سطر برمجي يقع بعد الدالة ()sleep لعدد معين من الثوان توضع بين قوسي الدالة كما في المثال التالي:\n",
    "</div>"
   ]
  },
  {
   "cell_type": "code",
   "execution_count": null,
   "id": "78d12b09-be7c-4458-ba9c-c30280798c34",
   "metadata": {},
   "outputs": [],
   "source": [
    "import time\n",
    "print(time.ctime())\n",
    "time.sleep(5)\n",
    "print(time.ctime())"
   ]
  },
  {
   "cell_type": "markdown",
   "id": "fb33c05a-9f71-4e23-8241-b22db0f41529",
   "metadata": {},
   "source": [
    "<div class=arabic>\n",
    "كما يجب عليك ملاحظة ان معظم دوال المكتبة time تتعامل مع كائن برمجي للوقت ينتج من تنفيذ بعض الدوال بحيث يكون تكوين هذا الكائن البرمجي مجزأ الى أجزاء الوقت المعروفة من سنة وشهر ويوم وساعة الى ...الخ. بحيث تسهل على المبرمج التعامل مع أجزاء الوقت وكتابتها بالطريقة التي يرغب بها. فعند استدعاء الدالة ()localtime يتم ارجاع كائن الوقت الخاص بالمكان الحالي وكذلك الدالة ()gmtime تقوم بارجاع كائن خاص بوقت جرينتش كما في المثال التالي:\n",
    "</div>"
   ]
  },
  {
   "cell_type": "code",
   "execution_count": null,
   "id": "5481c20c-f70a-4ac0-86b6-ae2e395ff919",
   "metadata": {},
   "outputs": [],
   "source": [
    "import time\n",
    "Makkah_time=time.localtime()\n",
    "London_time=time.gmtime()\n",
    "print(Makkah_time)\n",
    "print(London_time)\n",
    "print(Makkah_time.tm_hour)"
   ]
  },
  {
   "cell_type": "markdown",
   "id": "4dacdb3a-5cd4-489c-a659-74e119120cd8",
   "metadata": {},
   "source": [
    "<div class=arabic><h2 class=title>تمارين استكشافية</h2></div>"
   ]
  },
  {
   "cell_type": "markdown",
   "id": "bd22c683-e862-495a-9faa-35ac06fd260b",
   "metadata": {},
   "source": [
    "<div class=arabic>\n",
    "١- قم بكتابة برنامج يقوم بحساب فارق التوقيت بين مكة ولندن وطباعة الناتج على شاشة الكمبيوتر؟\n",
    "</div>"
   ]
  },
  {
   "cell_type": "markdown",
   "id": "9ae5aa4f-c7f0-498c-8ac6-8c3d5a05b7c4",
   "metadata": {},
   "source": [
    "<div class=arabic>\n",
    "كما يمكن إعادة صياغة الوقت بالطريقة التي نرغب بها باستخدام الدالة ()strftime كما في المثال التالي:\n",
    "</div>"
   ]
  },
  {
   "cell_type": "code",
   "execution_count": null,
   "id": "3210cca2-367a-4578-bee6-c045dc71e491",
   "metadata": {},
   "outputs": [],
   "source": [
    "import time\n",
    "Makkah_time = time.localtime() \n",
    "formatted_time = time.strftime(\"%m/%d/%Y, %H:%M:%S\", Makkah_time)\n",
    "print(formatted_time)"
   ]
  },
  {
   "cell_type": "markdown",
   "id": "d3747889-3f45-427a-a652-bc01f9012511",
   "metadata": {},
   "source": [
    "<div class=arabic>\n",
    "في المثال السابق تم وضع صيغة الوقت المطلوبة على شكل نص كمدخل اول للدالة وكائن الوقت وضع كمدخل ثان. ولحل شفرة رموز شفرة الوقت السابقة يمكن الاستعانة بالجدول التالي:\n",
    "</div>"
   ]
  },
  {
   "cell_type": "markdown",
   "id": "3739face-b540-40ea-972c-27bc1a48b8f7",
   "metadata": {},
   "source": [
    "|\tالمعنى|الرمز|\n",
    "|--|--|\n",
    "|السنة من 4 ارقام|%Y|\t\n",
    "|السنة في رقمين|%y|\t\n",
    "|الشهر|%m|\t\n",
    "|اليوم|%d|\t\n",
    "|الساعة|%H|\t\n",
    "|الدقيقة|%M|\t\n",
    "|الثانية|%S|\t\n"
   ]
  },
  {
   "cell_type": "markdown",
   "id": "2965c0d7-f16a-4be9-807b-c2a56c586aed",
   "metadata": {},
   "source": [
    "<div class=arabic>\n",
    "    <h2 class=title>طريقة تنصيب مكتبة خارجية</h2>\n",
    "</div>"
   ]
  },
  {
   "cell_type": "markdown",
   "id": "7c19994f-8d45-4829-9924-5fa6f54fcb2e",
   "metadata": {},
   "source": [
    "<div class=arabic>\n",
    "في الإصدارات الحديثة من بايثون تم دمج الأداة المستخدمة لإضافة المكتبات الخارجية مع مفسر بايثون بحيث ان هذه الأداة تكون متوفرة بمجرد تنصيب اصدارة بايثون. تختلف هذه الأداة بحسب التوزيعة المستخدمة. فالأداة pip تأتي مع الاصدارة الأساسية. اما توزيعة Anaconda فلها أداة تنصيب خاصة بها تسمى conda تؤدي نفس وظائف الأداة pip. ولشرح طريقة استخدام pip لنستعرض أولا المكتبات التي تم تنصيبها داخل اصدارة بايثون وذلك باستخدام الامر pip list من محرر أوامر النظام كما في المثال التالي:\n",
    "</div>"
   ]
  },
  {
   "cell_type": "code",
   "execution_count": null,
   "id": "90427784-545d-4824-8684-047eec00f5b2",
   "metadata": {},
   "outputs": [],
   "source": [
    "!pip list"
   ]
  },
  {
   "cell_type": "markdown",
   "id": "f4170efc-cbb8-4e50-a216-1300bc9c66b2",
   "metadata": {},
   "source": [
    "<div class=arabic>\n",
    "فالمثال السابق قام بطباعة كافة المكتبات المنصبة على اصدارة بايثون وارقام اصداراتها.\n",
    "</div>"
   ]
  },
  {
   "cell_type": "markdown",
   "id": "26d6b6bf-8faa-41fd-87c1-595878995ad7",
   "metadata": {},
   "source": [
    "<div class=arabic>\n",
    "فاذا كانت المكتبة التي ترغب باستخدامها ليست موجود في هذه القائمة فان بإمكانك تنصيبها عن طريق استخدام الامر pip install متبوعاً باسم المكتبة المطلوبة كما في المثال التالي:\n",
    "</div>"
   ]
  },
  {
   "cell_type": "code",
   "execution_count": null,
   "id": "c7979970-60b3-4139-8764-2658c98616a5",
   "metadata": {},
   "outputs": [],
   "source": [
    "!pip install progressbar"
   ]
  },
  {
   "cell_type": "markdown",
   "id": "a239dcad-85be-429a-9b60-315063c1dda3",
   "metadata": {},
   "source": [
    "<div class=arabic>\n",
    "في المثال السابق قمنا بتنصيب المكتبة progressbar والتي تعتبر من المكتبات الصغيرة بحيث تساعد المبرمج في تكوين كائن مرئ يوضح مدى التقدم في انجاز مهمة ما. وعند اكتمال التنصيب تعطي الأداة pip رسالة بنجاح عملية التنصيب للمكتبة. المثال التالي يوضح طريقة استخدام هذه المكتبة بعد تنصيبها:\n",
    "</div>"
   ]
  },
  {
   "cell_type": "code",
   "execution_count": null,
   "id": "cdc3c2f2-3a4d-42ee-8cbb-036e8b2788bf",
   "metadata": {},
   "outputs": [],
   "source": [
    "from time import sleep\n",
    "from progressbar import ProgressBar\n",
    "bar=ProgressBar()\n",
    "for i in bar(range(50)):\n",
    "    sleep(0.5)"
   ]
  },
  {
   "cell_type": "markdown",
   "id": "479a9004-e764-481b-b52b-b0d9509dacb1",
   "metadata": {},
   "source": [
    "<div class=arabic>\n",
    "اما إذا كانت المكتبة منصبة لديك من قبل وترغب فقط بتحديثها فانه بإمكانك استخدام خيار التحديث كما في المثال التالي:\n",
    "</div>"
   ]
  },
  {
   "cell_type": "code",
   "execution_count": null,
   "id": "b47f9648-77d1-4cf5-8166-66a289bd7124",
   "metadata": {},
   "outputs": [],
   "source": [
    "pip install --upgrade progressbar"
   ]
  },
  {
   "cell_type": "markdown",
   "id": "c45ff6bc-7811-438d-a746-640704b928a2",
   "metadata": {},
   "source": [
    "<div class=arabic>\n",
    "حيث اعطانا الامر السابق ان مكتبة progressbar المنصبة على هي أحدث اصدارة موجودة ولا تحتاج الى تحديث. اما إذا كانت الاصدارة قديمة فان pip سوف يقوم بتنصيب اصدارة المكتبة الاحدث من موقع https://pypi.org.\n",
    "اما الأداة conda فإنها تعمل تقريبا بنفس الطريق التي تعمل بها الأداة pip. لذلك اعتقد انه لا داعي للحديث عنها هنا ويمكن استخدام محرك البحث قوقل لتعرف عليها أكثر.\n",
    "\n",
    "</div>"
   ]
  },
  {
   "cell_type": "markdown",
   "id": "d3f940ec-0939-4968-a62d-49c3ec490ca5",
   "metadata": {},
   "source": [
    "<div class=arabic><h2 class=title>طريقة انشاء مكتبة</h2></div>"
   ]
  },
  {
   "cell_type": "markdown",
   "id": "4f0b8153-cb02-4ace-9892-3cec6a4b27b1",
   "metadata": {},
   "source": [
    "<div class=arabic>\n",
    "كما ذكرنا في بداية الفصل مكتبات بايثون هي مجرد ملف بايثون اعتيادي ينتهي بالحرفين py. ويحتوي على كائنات برمجية ودوال ومتغيرات خاصة بموضوع معين. ولكي نوضح سهولة طريقة انشاء أي مكتبة لنفرض اننا بصدد انشاء مكتبة خاصة بتحويل الوحدات الطولية (متر، سنتيمتر، مليمتر، مايكرومتر) ولنفرض ان اسمها meter. للقيام بهذه المهمة سوف نفتح ملف جديد ونحفظه باسم meter.py ثم نبدأ بكتابة الكود البرمجي التالي بداخله:\n",
    "</div>"
   ]
  },
  {
   "cell_type": "code",
   "execution_count": null,
   "id": "75e3d50c-039b-45f0-8231-7c3b78c2ec5e",
   "metadata": {},
   "outputs": [],
   "source": [
    "'''This module has been built to convert between the different\n",
    "   units of length'''\n",
    "def to_cm(number):\n",
    "    '''This function converts meter to centimeter'''\n",
    "    return number*100\n",
    "\n",
    "def to_mm(number):\n",
    "    '''This function converts meter to millimeter'''\n",
    "    return number*1000\n",
    "\n",
    "def to_micro(number):\n",
    "    '''This function converts meter to micrometer'''\n",
    "    return number*10e6\n",
    "\n",
    "def from_cm(number):\n",
    "    '''This function converts centimeter to meter'''\n",
    "    return number/100\n",
    "\n",
    "def from_mm(number):\n",
    "    '''This function converts millimeter to meter'''\n",
    "    return number/1000\n",
    "def from_micro(number):\n",
    "    '''This function converts micrometer to meter'''\n",
    "    return number/10e6"
   ]
  },
  {
   "cell_type": "markdown",
   "id": "7bce23ce-cdb7-4327-94d7-aa34b5a6378d",
   "metadata": {},
   "source": [
    "<div class=arabic>\n",
    "الآن لنفتح ملف بايثون جديد ونحاول استدعاء المكتبة meter التي قمنا بإنشائها. يجب ملاحظة ان ملف المكتبة التي قمنا بإنشائها والملف الذي سوف نستدعيه من خلاله المكتبة يجب ان يكونا في مجلد واحد لكي يعثر مفسر بايثون على المكتبة كما تعلمنا سابقاً حين استعرضنا مكتبة sys ودالتها ()path. \n",
    "</div>"
   ]
  },
  {
   "cell_type": "code",
   "execution_count": null,
   "id": "bdaf7e6b-66af-4886-9fe5-a9b37e3b4167",
   "metadata": {},
   "outputs": [],
   "source": [
    "import meter\n",
    "meter.to_cm(4)"
   ]
  },
  {
   "cell_type": "markdown",
   "id": "b72f9163-36b8-4a60-aec4-aba09ce8fc58",
   "metadata": {},
   "source": [
    "<div class=arabic>\n",
    "كما تلاحظ من المثال السابق ان المكتبة التي قمنا بإنشائها تعمل كأي مكتبة موجودة داخل اصدارة بايثون. فمثلا يمكن ان نتعرف على الشروحات التي كتبناها عن المكتبة بين علامة التنصيص الثلاثية باستخدام المتغير __doc__ كما يلي:\n",
    "</div>"
   ]
  },
  {
   "cell_type": "code",
   "execution_count": null,
   "id": "bda624ce-04fe-48ff-9d01-dc4c19e80797",
   "metadata": {},
   "outputs": [],
   "source": [
    "import meter\n",
    "meter.__doc__"
   ]
  },
  {
   "cell_type": "markdown",
   "id": "a45a2aef-ea23-4c5b-b743-beaf686b76c5",
   "metadata": {},
   "source": [
    "<div class=arabic>\n",
    "كما يمكن استعراض محتويات المكتبة meter باستخدام الدالة ()dir كما يلي:\n",
    "</div>"
   ]
  },
  {
   "cell_type": "code",
   "execution_count": null,
   "id": "1215a967-9a50-498c-b27d-1e9ba1baaf48",
   "metadata": {},
   "outputs": [],
   "source": [
    "import meter\n",
    "dir(meter)"
   ]
  },
  {
   "cell_type": "markdown",
   "id": "4782312c-97ec-453c-995a-29c8b965b0b9",
   "metadata": {},
   "source": [
    "<div class=arabic>\n",
    "لاحظ ان المتغيرات التي تبتدأ بشرطتين وتنتهي بشرطتين لم نقم بكتابتها داخل المكتبة ولكن بايثون قام بإنشائها بشكل تلقائي.\n",
    "كما يجب ملاحظة ان ملف المكتبة التي انشأناها ليس بالضرورة ان يكون في نفس المجلد الذي سوف نستدعي منه المكتبة. فعندما نرغب في وضع المكتبة في مكان اخر وليكن في المجلد modules الموجود في مجلد الكتاب هذا فانه يجب علينا ان نخبر مفسر بايثون بان يبحث في المجلد الذي وضعت فيه المكتبة وذلك من خلال إضافة هذا المجلد الي القائمة التي سوف يبحث فيها مفسر بايثون عن المكتبة كما في المثال التالي:\n",
    "</div>"
   ]
  },
  {
   "cell_type": "code",
   "execution_count": null,
   "id": "98f5f459-96e5-49ab-8c57-03507de7ca1c",
   "metadata": {},
   "outputs": [],
   "source": [
    "import sys\n",
    "sys.path.append('/units')\n",
    "\n",
    "import meter\n",
    "print(meter.to_cm(5))"
   ]
  },
  {
   "cell_type": "markdown",
   "id": "2f854808-285b-4dde-bbd2-cc8536345ecc",
   "metadata": {},
   "source": [
    "<div class=arabic>\n",
    "لاحظ اننا قمنا بإضافة المجلد الذي يحتوي على المكتبة meter الى قائمة الاماكن التي يبحث فيها مفسر بايثون عن المكتبات بواسطة الدالة ()append قبل ان نقوم باستدعاء المكتبة meter.\n",
    "</div>"
   ]
  },
  {
   "cell_type": "markdown",
   "id": "43c12e12-6eaf-4d45-aa07-dcb27758ddef",
   "metadata": {},
   "source": [
    "<div class=arabic>\n",
    "كما يمكن أيضا إضافة المكتبة الى مجلد خاص تم تحديده من قبل مفسر بايثون ليكون خاص بمكتبات المستخدم. ولتعرف على هذا المجلد نقوم باستدعاء المتغير USER_SITE من مكتبة site الداخلية كما في المثال التالي:\n",
    "</div>"
   ]
  },
  {
   "cell_type": "code",
   "execution_count": null,
   "id": "d6d29489-8661-486b-b52f-139193ec33de",
   "metadata": {},
   "outputs": [],
   "source": [
    "import site\n",
    "print(site.USER_SITE)"
   ]
  },
  {
   "cell_type": "markdown",
   "id": "19f4bc2e-dee2-41f4-a70b-ffa764e3a704",
   "metadata": {},
   "source": [
    "<div class=arabic>\n",
    "المجلد الذي ينتج عن تنفيذ الكود السابق يختلف باختلاف اصدارة بايثون المستخدمة ويختلف أيضا باختلاف نظام التشغيل المستخدم. وفي غالب الأحيان لا يكون هذا المجلد موجود ويجب علينا انشاءه ومن ثم وضع المكتبة التي انشأناها بداخله لكي يتم التعرف عليها.\n",
    "</div>"
   ]
  },
  {
   "cell_type": "markdown",
   "id": "5f050644-8359-4e9a-a510-a545c2d2e062",
   "metadata": {},
   "source": [
    "<div class=arabic><h2 class=title>تمارين استكشافية</h2></div>"
   ]
  },
  {
   "cell_type": "markdown",
   "id": "54dd4a50-04de-4771-9043-55ef405ba6cf",
   "metadata": {},
   "source": [
    "<div class=arabic>\n",
    "١- قم بتطوير مكتبة meter لكي تقوم بالتحويل من سنتيمتر الى ميليمتر والعكس ومن سنتيمتر الى مايكرومتر والعكس؟\n",
    "</div>"
   ]
  },
  {
   "cell_type": "markdown",
   "id": "c2ccc87f-2d2f-44a8-93e6-cd9a1dcaff7f",
   "metadata": {},
   "source": [
    "<div class=arabic>\n",
    "وقبل ان نختم هذا الفصل نود نبين انه يمكن عمل رزمة من المكتبات package والتي هي عبارة عن مجموعة من المكتبات التي يحويها مجلد واحد. فعند انشاء مكتبة جديدة لتحويل درجات الحرارة وليكن اسمها مثلا temperature.py بحيث توضع هذه المكتبة الي جانب المكتبة meter السابقة في مجلد واحد وليكن اسم المجلد units فان مفسر بايثون يشترط للتعرف على هذه المكتبات ان يقوم المبرمج بإنشاء ملف فارغ داخل هذا المجلد بحيث يكون اسم هذا الملف __init__.py كما هو موضح بالشكل التالي:\n",
    "</div>"
   ]
  },
  {
   "attachments": {
    "image.png": {
     "image/png": "[encoded data removed]"
    }
   },
   "cell_type": "markdown",
   "id": "c9840cbb-eb77-4c62-bbf3-d241bec5d2cf",
   "metadata": {},
   "source": [
    "![image.png](attachment:image.png)"
   ]
  },
  {
   "cell_type": "markdown",
   "id": "87950444-9cb3-4e06-8afa-7e3ab928c264",
   "metadata": {},
   "source": [
    "<div class=arabic>\n",
    "كما يجب ملاحظة ان الشروط اللازمة لعثور مفسر بايثون على مكتبة معينة تنطبق على رزمة المكتبات كما وضحنا سابقاً. ويمكن استدعاء المكتبة meter من رزمة المكتبات units كما يلي:\n",
    "</div>"
   ]
  },
  {
   "cell_type": "code",
   "execution_count": null,
   "id": "c083f2bc-82e5-4816-be2a-138e22660dcd",
   "metadata": {},
   "outputs": [],
   "source": [
    "import sys\n",
    "sys.path.append('units')\n",
    "\n",
    "from units import meter\n",
    "print(meter.from_cm(100))"
   ]
  }
 ],
 "metadata": {
  "kernelspec": {
   "display_name": "Python 3 (ipykernel)",
   "language": "python",
   "name": "python3"
  },
  "language_info": {
   "codemirror_mode": {
    "name": "ipython",
    "version": 3
   },
   "file_extension": ".py",
   "mimetype": "text/x-python",
   "name": "python",
   "nbconvert_exporter": "python",
   "pygments_lexer": "ipython3",
   "version": "3.8.10"
  }
 },
 "nbformat": 4,
 "nbformat_minor": 5
}
