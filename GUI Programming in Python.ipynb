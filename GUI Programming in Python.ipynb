{
 "cells": [
  {
   "cell_type": "code",
   "execution_count": 1,
   "id": "d23d1ae0",
   "metadata": {},
   "outputs": [
    {
     "data": {
      "text/html": [
       "<style type=\"text/css\">@import url('https://www.fontstatic.com/f=yassin,amiri-quran,basim-marah,b-compset');\n",
       "\n",
       "\n",
       ".title{\n",
       "direction: rtl;\n",
       "font-size:100px;\n",
       "padding-right: 15px;\n",
       "line-height:10px;\n",
       "font-family:basim-marah;\n",
       "\n",
       "}\n",
       "\n",
       ".arabic{\n",
       "direction:rtl;\n",
       "font-size:20px;\n",
       "line-height:40px;\n",
       "padding-right: 1cm;\n",
       "padding-left: 1cm;\n",
       "text-align:justify;\n",
       "font-family:amiri-quran;\n",
       "}\n",
       "\n",
       ".horizontal{\n",
       "height:2px;\n",
       "border:none;\n",
       "color:#333;\n",
       "background-color:#333;\n",
       "width:75%;\n",
       "}\n",
       ".jupyter-widgets{\n",
       "    font-size:20px;\n",
       "    direction:rtl;\n",
       "    margin-right:25px;\n",
       "    font-family:amiri-quran;\n",
       "        \n",
       "}\n",
       ".widget-radio-box input{\n",
       "    float:right;\n",
       "    direction:ltr;\n",
       "    margin: 0 calc( var(--jp-widgets-input-padding) * 2 ) 0 10px;\n",
       "    text-align:right;\n",
       "    height: 30px;\n",
       "}\n",
       ".widget-radio{\n",
       "    flex-direction: column;\n",
       "    width:unset;\n",
       "    \n",
       "}\n",
       ".widget-label{  \n",
       "    font-family:amiri-quran;\n",
       "    font-size:18px;\n",
       "    height: 40px;\n",
       "}\n",
       "\n",
       ".widget-radio-box label {\n",
       "    font-size:18px;\n",
       "    height: 30px;\n",
       "}\n",
       "\n",
       ".true-grade{\n",
       "    color:green;\n",
       "}\n",
       ".false-grade{\n",
       "    color:red;\n",
       "}\n",
       "label:lang(en){\n",
       "    direction:ltr;\n",
       "    text-align:right;\n",
       "}\n",
       ".s{\n",
       "    line-height:unset;\n",
       "    height:unset;\n",
       "}\n",
       ".CodeMirror-wrap {\n",
       "    font-size:16px;\n",
       "}\n",
       "\n",
       ".basic_table{\n",
       "    font-size:20px;\n",
       "    color:\"green\";\n",
       "}</style>"
      ],
      "text/plain": [
       "<IPython.core.display.HTML object>"
      ]
     },
     "execution_count": 1,
     "metadata": {},
     "output_type": "execute_result"
    }
   ],
   "source": [
    "from IPython.core.display import HTML\n",
    "\n",
    "def _set_css_style(css_file_path):\n",
    "   \"\"\"\n",
    "   Read the custom CSS file and load it into Jupyter.\n",
    "   Pass the file path to the CSS file.\n",
    "   \"\"\"\n",
    "\n",
    "   styles = open(css_file_path, \"r\").read()\n",
    "   s = '<style type=\"text/css\">%s</style>' % styles     \n",
    "   return HTML(s)\n",
    "_set_css_style(\"custom.css\")"
   ]
  },
  {
   "cell_type": "markdown",
   "id": "76cdc69f",
   "metadata": {},
   "source": [
    "<div class=arabic>\n",
    "<hr class=horizontal>\n",
    "<center>\n",
    "<a id=\"chapter10\"></a>\n",
    "<h1 class=title>\n",
    "الفصل العاشر : برمجة واجهة المستخدم\n",
    "</h1>\n",
    "</center>\n",
    "<hr class=horizontal>\n",
    "</div>"
   ]
  },
  {
   "cell_type": "markdown",
   "id": "cf23b3c2",
   "metadata": {},
   "source": [
    "<div class=arabic>\n",
    "<h2 class=title>مكتبات واجهة المستخدم في بايثون</h2>\n",
    "\n",
    "</div>"
   ]
  },
  {
   "cell_type": "markdown",
   "id": "b27c6d9f",
   "metadata": {},
   "source": [
    "<div class=arabic>\n",
    "يوجد العديد من المكتبات المستخدمة لبناء الواجهة الرسومية للمستخدم في بايثون من ابرز هذه المكتبات:\n",
    "</div>"
   ]
  },
  {
   "cell_type": "markdown",
   "id": "64084767",
   "metadata": {},
   "source": [
    "<div class=arabic>اولا: مكتبة Tkinter</div>"
   ]
  },
  {
   "cell_type": "markdown",
   "id": "50b8ca2c",
   "metadata": {},
   "source": [
    "<div class=arabic>\n",
    "تمثل مكتبة Tkinter مكتبة الواجهة الرسومية القياسية لبايثون حيث تأتي هذه المكتبة من ضمن المكتبات القياسية التي يتم تنصيبها مع مفسر بايثون. ولعمل واجهه رسوميه اساسية من خلال هذه المكتبة نحتاج لكتابة ثلاثة اسطر قصيرة من الكود البرمجي كما في المثال التالي:\n",
    "</div>"
   ]
  },
  {
   "cell_type": "code",
   "execution_count": 6,
   "id": "92d745df",
   "metadata": {},
   "outputs": [
    {
     "ename": "ModuleNotFoundError",
     "evalue": "No module named 'Tkinter'",
     "output_type": "error",
     "traceback": [
      "\u001b[0;31m---------------------------------------------------------------------------\u001b[0m",
      "\u001b[0;31mModuleNotFoundError\u001b[0m                       Traceback (most recent call last)",
      "\u001b[0;32m/tmp/ipykernel_1299/2303150420.py\u001b[0m in \u001b[0;36m<module>\u001b[0;34m\u001b[0m\n\u001b[0;32m----> 1\u001b[0;31m \u001b[0;32mimport\u001b[0m \u001b[0mTkinter\u001b[0m\u001b[0;34m\u001b[0m\u001b[0;34m\u001b[0m\u001b[0m\n\u001b[0m",
      "\u001b[0;31mModuleNotFoundError\u001b[0m: No module named 'Tkinter'"
     ]
    }
   ],
   "source": [
    "import Tkinter"
   ]
  },
  {
   "cell_type": "code",
   "execution_count": 3,
   "id": "4bd51786",
   "metadata": {
    "scrolled": true
   },
   "outputs": [
    {
     "ename": "ModuleNotFoundError",
     "evalue": "No module named 'tkinter'",
     "output_type": "error",
     "traceback": [
      "\u001b[0;31m---------------------------------------------------------------------------\u001b[0m",
      "\u001b[0;31mModuleNotFoundError\u001b[0m                       Traceback (most recent call last)",
      "\u001b[0;32m/tmp/ipykernel_1299/3612715800.py\u001b[0m in \u001b[0;36m<module>\u001b[0;34m\u001b[0m\n\u001b[0;32m----> 1\u001b[0;31m \u001b[0;32mfrom\u001b[0m \u001b[0mtkinter\u001b[0m \u001b[0;32mimport\u001b[0m \u001b[0mTk\u001b[0m\u001b[0;34m\u001b[0m\u001b[0;34m\u001b[0m\u001b[0m\n\u001b[0m\u001b[1;32m      2\u001b[0m \u001b[0mwin\u001b[0m\u001b[0;34m=\u001b[0m\u001b[0mTk\u001b[0m\u001b[0;34m(\u001b[0m\u001b[0;34m)\u001b[0m\u001b[0;34m\u001b[0m\u001b[0;34m\u001b[0m\u001b[0m\n\u001b[1;32m      3\u001b[0m \u001b[0mwin\u001b[0m\u001b[0;34m.\u001b[0m\u001b[0mmainloop\u001b[0m\u001b[0;34m(\u001b[0m\u001b[0;34m)\u001b[0m\u001b[0;34m\u001b[0m\u001b[0;34m\u001b[0m\u001b[0m\n",
      "\u001b[0;31mModuleNotFoundError\u001b[0m: No module named 'tkinter'"
     ]
    }
   ],
   "source": [
    "from tkinter import Tk\n",
    "win=Tk()\n",
    "win.mainloop()"
   ]
  },
  {
   "cell_type": "markdown",
   "id": "57d5ac5d",
   "metadata": {},
   "source": [
    "<div class=arabic>فعند تنقيذ المثال السابق سوف تظهر لنا نافذه رسومية اساسية بمقاس افتراضي 200 بكسل عرضا و 200 بكسل طولا تحمل عنوان افتراضي tk وايقونه رسوميه لريشة زقاء وكذلك ثلاثة ازراز لتصغير وتكبير واغلاق النافذة. فالسطر الاول من الكود البرمجي السابق هو مجرد استدعاء للصنف Tk المسؤول عن انشاء نوافذ قياسية من مكتبة tkinter كما تعلمنا سابقا. اما السطر الثاني فهو مجرد عمل نسخة من الصنف Tk واسناده الى المتغير win. في السطر الثالث تم استدعاء الدالة ()mainloop على نسخة النافذه الاساسية التي انشأناها من الصنف Tk. وظيفة هذه الدالة هي عمل حلقة تكرار تبقى النافذه على الشاشة وتجعلها تنتظر اي تفاعل من المستخدم سواء كان بتحريك او تكبير او اتصغير او غير ذلك من الافعال التي سوف يأتي شرحها لاحقا.  </div>"
   ]
  },
  {
   "cell_type": "markdown",
   "id": "90e6b321",
   "metadata": {},
   "source": [
    "<div class=arabic>\n",
    "لنقم الان تغير عنوان النافذه السابقة الي \"اله حاسبة\" من خلال استخدام الدالة ()title كما يلي:\n",
    "</div>"
   ]
  },
  {
   "cell_type": "code",
   "execution_count": 22,
   "id": "cc22aa14",
   "metadata": {},
   "outputs": [],
   "source": [
    "from tkinter import Tk\n",
    "win=Tk()\n",
    "win.title(\"ألة حاسبة\")\n",
    "win.mainloop()"
   ]
  },
  {
   "cell_type": "markdown",
   "id": "1f80cee7",
   "metadata": {},
   "source": [
    "<div class=arabic>\n",
    "قد يبدو ان اسم النافذه غير مكتمل وذلك لان مقاس النافذه الافتراضي غير كافي الاظهار الاسم. لنقم بتغيير مقاس النافذه الرئيسية الى 400 بكسل عرضا و 300 بكسل طولا باستخدام الدالة ()geometry كما يلي:\n",
    "</div>"
   ]
  },
  {
   "cell_type": "code",
   "execution_count": 48,
   "id": "2a317673",
   "metadata": {},
   "outputs": [],
   "source": [
    "from tkinter import Tk\n",
    "win=Tk()\n",
    "win.title(\"ألة حاسبة\")\n",
    "win.geometry(\"400x300\")\n",
    "win.mainloop()"
   ]
  },
  {
   "cell_type": "markdown",
   "id": "4f2d8050",
   "metadata": {},
   "source": [
    "<div class=arabic>\n",
    "لاحظ ان القيمة المدخلة للدالة ()geometry هي قيمة نصية تمثل القيمة الاولى من اليسار عرض النافذة والقيمة الثانية تمثل طول او ارتفاع النافذه بحيث تم الفصل بين القيمتين بعلامة الضرب \"x\".\n",
    "</div>"
   ]
  },
  {
   "cell_type": "markdown",
   "id": "5b04c0c7",
   "metadata": {},
   "source": [
    "<div class=arabic>\n",
    "على الرغم من اننا قمنا باتغيير مقاس النافذه الرئيسية عند بداية تشغيل البرنامج الا ان هذا الامر لن يمنع المستخدم من تغيير مقاسات النافذه متى ما اراد ذلك. فبمجرد الوقوف بمؤشر الفارة عند احد اطراف النافذه فان المؤشر سوف يتغير شكله الى سهمين مزدوجين تعني ان المستخدم عند ضغطه لزر الفأرة في هذا المكان مع مواصلة الضغط والتحرك سوف يقوم بتغيير مقاسات النافذة كيفما شاء. ويمكنك التأكد من ذلك بتشغيل الكود البرمجي السابق ومحاولة تغيير مقاسات النافذة.\n",
    "</div>"
   ]
  },
  {
   "cell_type": "markdown",
   "id": "0e4c76e0",
   "metadata": {},
   "source": [
    "<div class=arabic>\n",
    "ان اعطاء المستخدم صلاحيات تغيير مقاس النافذه الرئيسية قد يشوه شكل الالة الحاسبة عند قيامه بعملية تكبير او تصغير الناقذه لذلك من الافضل ان نقوم بمنع المستخدم من تغيير مقاسات النافذة الرئيسية باستخدام الدالة ()resizable وااعظائها القيم صفر و صفر في كلا المدخلين كما في  المثال التالي:\n",
    "</div>"
   ]
  },
  {
   "cell_type": "code",
   "execution_count": 51,
   "id": "706a4a49",
   "metadata": {},
   "outputs": [],
   "source": [
    "from tkinter import Tk\n",
    "\n",
    "win=Tk()\n",
    "win.title(\"ألة حاسبة\")\n",
    "win.geometry(\"400x300\")\n",
    "win.resizable(0,0)\n",
    "win.mainloop()"
   ]
  },
  {
   "cell_type": "markdown",
   "id": "e3058aac",
   "metadata": {},
   "source": [
    "<div class=arabic>\n",
    "لاحظ انه عند تشغيل الكود السابق والوقوف بزر الفأرة على احد اطراف النافذة الرئيسية لا يتغير مؤشر الفأرة الى سهمين مزدوجين مما يعني ان عملية تغيير مقاسات النافذه اصحبت غير ممكنه. كما ان زر التكبير في النافذه الرئيسية اصبح غير نشط ايضاً.\n",
    "</div>"
   ]
  },
  {
   "cell_type": "markdown",
   "id": "a4e17e8d",
   "metadata": {},
   "source": [
    "<div class=arabic>\n",
    "ان ايقونه الريشة الزرقاء لا تتناسب مع الآلة الحاسبة التي ننوي القيام بانشائها. لنقم بتغيير هذه الايقونه الى ايقونه آلة حسابة صغيرة تم تحميلها من الانترنت وحفظها في ملف الصور الخاص بهذا الكتاب تحت اسم calculator.png. ولارفاق الايقونه الى النافذه الاساسية نحتاج الى استدعاء صنف الصور PhotoImage من مكتبة tkinter ومن ثم عمل نسخة من هذا الصنف باستخدام مسار الصورة التي تم تحميلها من الانترنت كمدخل. ثم نقوم باستخدام هذه النسخة والتي اسندناها الى متغير اسمه photo كمدخل ثاني للدالة ()iconphoto كما يلي:\n",
    "</div>"
   ]
  },
  {
   "cell_type": "code",
   "execution_count": 52,
   "id": "4568ddc5",
   "metadata": {},
   "outputs": [],
   "source": [
    "from tkinter import Tk, PhotoImage\n",
    "\n",
    "win=Tk()\n",
    "win.title(\"ألة حاسبة\")\n",
    "win.geometry(\"400x300\")\n",
    "win.resizable(0,0)\n",
    "photo = PhotoImage(file = \"img\\calculator.png\")\n",
    "win.iconphoto(False,photo)\n",
    "win.mainloop()"
   ]
  },
  {
   "cell_type": "markdown",
   "id": "3c4ea81f",
   "metadata": {},
   "source": [
    "<div class=arabic>\n",
    "ان تعلم اضافة الادوات الى النافذة الرئيسية من ازرار و خلافه لن يتحقق الا بعد معرفتنا للطريقة التي يتم بها ترتيب هذه الادوات داخل هذه النافذة من اجل عرضها على شاشة المستخدم. وفي مكتبة Tkinter هناك ثلاث طرق تسخدم لترتيب الادوات داخل النوافذ وهي على النحو التالي:\n",
    "</div>"
   ]
  },
  {
   "cell_type": "markdown",
   "id": "ed00061a",
   "metadata": {},
   "source": [
    "<div class=arabic>\n",
    "اولاً: طريقة الحشو pack\n",
    "</div>"
   ]
  },
  {
   "cell_type": "markdown",
   "id": "d1d80da1",
   "metadata": {},
   "source": [
    "<div class=arabic>\n",
    "تعتبر طريقة الحشو من اسهل الطرق التي يتم فيها ترتيب الادوات داخل النوافذ فهي لا تحتاج الى تحديد اماكن الادوات على النافذه وانما تكتفي بمعرفه ترتيب ظهور الادوات عليها فيتم ترتيبها اما عموديا او رأسيا حسب ما يحدده المبرمج. ولكي نتعرف على طريقة الترتبب هذه لنقم بتكوين عدد من ازرار الالة حاسبة التي نود انشائها باستدعاء صنف الازرار Button من مكتبة Tkinter ولنقم بعمل عدة نسخ منه كما في الكود التالي:\n",
    "</div>"
   ]
  },
  {
   "cell_type": "code",
   "execution_count": 4,
   "id": "d1368f9f",
   "metadata": {},
   "outputs": [],
   "source": [
    "from tkinter import Tk, PhotoImage, Button\n",
    "\n",
    "win=Tk()\n",
    "win.title(\"ألة حاسبة\")\n",
    "win.geometry(\"400x300\")\n",
    "win.resizable(0,0)\n",
    "photo = PhotoImage(file = \"img\\calculator.png\")\n",
    "win.iconphoto(False,photo)\n",
    "b1=Button(win, text='1')\n",
    "b2=Button(win, text='2')\n",
    "b3=Button(win, text='3')\n",
    "win.mainloop()"
   ]
  },
  {
   "cell_type": "markdown",
   "id": "1e9fb815",
   "metadata": {},
   "source": [
    "<div class=arabic>\n",
    "كما اشرنا سابقا ان عملية انشاء نسخ من  صنف الازرار Button لا تكفي لاظهار هذه الازرار على النافذه الرئيسية على الرغم من اننا قمنا بتحديد المكان الذي نود ان تظهر فيه هذه الازرار وذلك باستخدام متغير النافذه الرئيسية كمتغير اول  كما قمنا ايضا بتحديد النص الذي يجب ان يظهر على الزر عند انشاؤه. ان عدم ظهور الازرار في الكود السابق سببه هو اننا لم نقم باستخدام اي دالة تخبر مفسر بايثون بالكيفية التي يتم بها عرض هذه الازرار داخل النافذه الرئيسية. لذلك عند رغبتنا في استخدام طريقة الحشو لترتيب هذه الازرار فانه يتوجب علينا استخدام الدالة ()pack والتي تعمل على ترتيب الازرار بشكل عامودي في النافذة الرئيسية على نحو افتراضي بحسب ترتيب هذه الادوات في الكود البرمجي كما يلي: \n",
    "</div>"
   ]
  },
  {
   "cell_type": "code",
   "execution_count": 7,
   "id": "be9f9750",
   "metadata": {},
   "outputs": [],
   "source": [
    "from tkinter import Tk, PhotoImage, Button\n",
    "\n",
    "win=Tk()\n",
    "win.title(\"ألة حاسبة\")\n",
    "win.geometry(\"400x300\")\n",
    "win.resizable(0,0)\n",
    "photo = PhotoImage(file = \"img\\calculator.png\")\n",
    "win.iconphoto(False,photo)\n",
    "b1=Button(win, text='1').pack(side='bottom')\n",
    "b2=Button(win, text='2').pack(side='bottom')\n",
    "b3=Button(win, text='3').pack(side='bottom')\n",
    "win.mainloop()"
   ]
  },
  {
   "cell_type": "markdown",
   "id": "71bada6b",
   "metadata": {},
   "source": [
    "<div class=arabic>\n",
    "لكي نقوم بتغيير ترتيب الازرار بشكل افقي نحتاج ان نغير القيمة الافتراضية للمدخل side في دالة ()pack من top الى left او right كما في الكود التالي: \n",
    "</div>"
   ]
  },
  {
   "cell_type": "code",
   "execution_count": 8,
   "id": "b0d8f9b6",
   "metadata": {},
   "outputs": [],
   "source": [
    "from tkinter import Tk, PhotoImage, Button\n",
    "\n",
    "win=Tk()\n",
    "win.title(\"ألة حاسبة\")\n",
    "win.geometry(\"400x300\")\n",
    "win.resizable(0,0)\n",
    "photo = PhotoImage(file = \"img\\calculator.png\")\n",
    "win.iconphoto(False,photo)\n",
    "b1=Button(win, text='1').pack(side='left')\n",
    "b2=Button(win, text='2').pack(side='left')\n",
    "b3=Button(win, text='3').pack(side='left')\n",
    "win.mainloop()"
   ]
  },
  {
   "cell_type": "code",
   "execution_count": 9,
   "id": "2a76cfc6",
   "metadata": {},
   "outputs": [],
   "source": [
    "from tkinter import Tk, PhotoImage, Button\n",
    "\n",
    "win=Tk()\n",
    "win.title(\"ألة حاسبة\")\n",
    "win.geometry(\"400x300\")\n",
    "win.resizable(0,0)\n",
    "photo = PhotoImage(file = \"img\\calculator.png\")\n",
    "win.iconphoto(False,photo)\n",
    "b1=Button(win, text='1').pack(side='right')\n",
    "b2=Button(win, text='2').pack(side='right')\n",
    "b3=Button(win, text='3').pack(side='right')\n",
    "win.mainloop()"
   ]
  },
  {
   "cell_type": "markdown",
   "id": "e070fb0d",
   "metadata": {},
   "source": [
    "<div class=arabic>\n",
    "    لاحظ ان استخدام القيمة النصية right للمدخل side جعل بداية ترتيب الازرار تبدأ من يمين النافذة والقيمة left بدأت الترتيب من يسار النافذة الرئيسية.\n",
    "</div>"
   ]
  },
  {
   "cell_type": "markdown",
   "id": "82a44593",
   "metadata": {},
   "source": [
    "<div class=arabic>\n",
    "ان حجم الازرار في الكود السابق كان يتغير بطول النص الموجود على كل زر فلو قمنا بتغيير القيم النصية على كل زر لتغير حجم الزر بتغير القيمة النصية كما يلي:\n",
    "</div>"
   ]
  },
  {
   "cell_type": "code",
   "execution_count": 10,
   "id": "04a29f9c",
   "metadata": {},
   "outputs": [],
   "source": [
    "from tkinter import Tk, PhotoImage, Button\n",
    "\n",
    "win=Tk()\n",
    "win.title(\"ألة حاسبة\")\n",
    "win.geometry(\"400x300\")\n",
    "win.resizable(0,0)\n",
    "photo = PhotoImage(file = \"img\\calculator.png\")\n",
    "win.iconphoto(False,photo)\n",
    "b1=Button(win, text='1').pack(side='right')\n",
    "b2=Button(win, text='But 2').pack(side='right')\n",
    "b3=Button(win, text='Button 3').pack(side='right')\n",
    "win.mainloop()"
   ]
  },
  {
   "cell_type": "markdown",
   "id": "1a0c55b1",
   "metadata": {},
   "source": [
    "<div class=arabic>\n",
    "لتوحيد احجام الازرار والتحكم في ابعادها نقوم بتغيير قيم المدخل width والمدخل height عند عمل نسخة لكل زر كما يلي:\n",
    "</div>"
   ]
  },
  {
   "cell_type": "code",
   "execution_count": 5,
   "id": "1d950844",
   "metadata": {},
   "outputs": [],
   "source": [
    "from tkinter import Tk, PhotoImage, Button\n",
    "\n",
    "win=Tk()\n",
    "win.title(\"ألة حاسبة\")\n",
    "win.geometry(\"400x300\")\n",
    "win.resizable(0,0)\n",
    "photo = PhotoImage(file = \"img\\calculator.png\")\n",
    "win.iconphoto(False,photo)\n",
    "b1=Button(win, text='1',width=10,height=2).pack(side='right')\n",
    "b2=Button(win, text='2',width=10, height=2).pack(side='right')\n",
    "b3=Button(win, text='3',width=10,height=2).pack(side='right')\n",
    "win.mainloop()"
   ]
  },
  {
   "cell_type": "markdown",
   "id": "967dfb0e",
   "metadata": {},
   "source": [
    "<div class=arabic>\n",
    "للتحكم في المسافات الافقية بين الازرار نستخدم قيم اكبر من الصفر للمدخل xpad في الدالة ()pack كما يلي:\n",
    "</div>"
   ]
  },
  {
   "cell_type": "code",
   "execution_count": 2,
   "id": "f37e4c54",
   "metadata": {},
   "outputs": [],
   "source": [
    "from tkinter import Tk, PhotoImage, Button\n",
    "\n",
    "win=Tk()\n",
    "win.title(\"ألة حاسبة\")\n",
    "win.geometry(\"400x300\")\n",
    "win.resizable(0,0)\n",
    "photo = PhotoImage(file = \"img\\calculator.png\")\n",
    "win.iconphoto(False,photo)\n",
    "b1=Button(win, text='1',width=10,height=2).pack(side='right',padx=6)\n",
    "b2=Button(win, text='2',width=10, height=2).pack(side='right',padx=3)\n",
    "b3=Button(win, text='3',width=10,height=2).pack(side='right',padx=3)\n",
    "win.mainloop()"
   ]
  },
  {
   "cell_type": "markdown",
   "id": "6ca39f54",
   "metadata": {},
   "source": [
    "<div class=arabic>\n",
    "عندما نقوم بزيادة عدد الازرار الى 6 مثلا فان خاصية الحشو pack لا تقوم بالنزول الى صف ثاني لاستيعاب عدد الازرار الذي يزيد عن عرض النافذة الرئيسية ويصبح عدد من الازرار غير ظاهر للمستخدم كما يلي:\n",
    "</div>"
   ]
  },
  {
   "cell_type": "code",
   "execution_count": 6,
   "id": "8e0f74df",
   "metadata": {},
   "outputs": [],
   "source": [
    "from tkinter import Tk, PhotoImage, Button\n",
    "\n",
    "win=Tk()\n",
    "win.title(\"ألة حاسبة\")\n",
    "win.geometry(\"400x300\")\n",
    "win.resizable(0,0)\n",
    "photo = PhotoImage(file = \"img\\calculator.png\")\n",
    "win.iconphoto(False,photo)\n",
    "b1=Button(win, text='1',width=10,height=2).pack(side='right',padx=6)\n",
    "b2=Button(win, text='2',width=10, height=2).pack(side='right',padx=3)\n",
    "b3=Button(win, text='3',width=10,height=2).pack(side='right',padx=3)\n",
    "b4=Button(win, text='4',width=10,height=2).pack(side='right',padx=3)\n",
    "b5=Button(win, text='5',width=10, height=2).pack(side='right',padx=3)\n",
    "b6=Button(win, text='6',width=10,height=2).pack(side='right',padx=3)\n",
    "win.mainloop()"
   ]
  },
  {
   "cell_type": "markdown",
   "id": "0a075276",
   "metadata": {},
   "source": [
    "<div class=arabic>\n",
    "ولتغلب على هذه المشكلة نحتاج الى عمل حيلة تمكننا من ترتيب الازرار في صفوف. ويمكن عمل هذه الحيلة باستدعاء الصنف اطار Frame من المكتبة Tkinter بحيث نعمل اطار لك لكل صف ونرتب الاطارات في النافذه بشكل عمودي  ونرتب الازرار داخل الاطارات بشكل افقي كما يلي:\n",
    "</div>"
   ]
  },
  {
   "cell_type": "code",
   "execution_count": 12,
   "id": "3e02aada",
   "metadata": {},
   "outputs": [],
   "source": [
    "from tkinter import Tk, PhotoImage, Button, Frame\n",
    "\n",
    "win=Tk()\n",
    "win.title(\"ألة حاسبة\")\n",
    "win.geometry(\"400x300\")\n",
    "win.resizable(0,0)\n",
    "photo = PhotoImage(file = \"img\\calculator.png\")\n",
    "win.iconphoto(False,photo)\n",
    "\n",
    "row1=Frame(win)\n",
    "row1.pack()\n",
    "b1=Button(row1, text='1',width=10,height=2).pack(side='right',padx=3)\n",
    "b2=Button(row1, text='2',width=10, height=2).pack(side='right',padx=3)\n",
    "b3=Button(row1, text='3',width=10,height=2).pack(side='right',padx=3)\n",
    "\n",
    "row2=Frame(win)\n",
    "row2.pack()\n",
    "b4=Button(row2, text='4',width=10,height=2).pack(side='right',padx=3)\n",
    "b5=Button(row2, text='5',width=10, height=2).pack(side='right',padx=3)\n",
    "b6=Button(row2, text='6',width=10,height=2).pack(side='right',padx=3)\n",
    "win.mainloop()"
   ]
  },
  {
   "cell_type": "markdown",
   "id": "3a7e173b",
   "metadata": {},
   "source": [
    "<div class=arabic>\n",
    "لنقم الان باضافة كل ما نحتاجه من ازار الى النافذة الرئيسية باستخدام الحيلة السابقة ليصبح الكود البرمجي بالشكل التالي:\n",
    "</div>"
   ]
  },
  {
   "cell_type": "code",
   "execution_count": 4,
   "id": "a4dd5025",
   "metadata": {},
   "outputs": [],
   "source": [
    "from tkinter import Tk, PhotoImage, Button, Frame\n",
    "\n",
    "win=Tk()\n",
    "win.title(\"ألة حاسبة\")\n",
    "win.geometry(\"400x300\")\n",
    "win.resizable(0,0)\n",
    "photo = PhotoImage(file = \"img\\calculator.png\")\n",
    "win.iconphoto(False,photo)\n",
    "\n",
    "row1=Frame(win)\n",
    "row1.pack()\n",
    "b_mult=Button(row1, text='x',width=10,height=2).pack(side='right',padx=3)\n",
    "b9=Cal_Button(row1, text='9').pack(side='right',padx=3)\n",
    "b8=Button(row1, text='8',width=10,height=2).pack(side='right',padx=3)\n",
    "b7=Button(row1, text='7',width=10,height=2).pack(side='right',padx=3)\n",
    "\n",
    "row2=Frame(win)\n",
    "row2.pack()\n",
    "b_minus=Button(row2, text='-',width=10,height=2).pack(side='right',padx=3)\n",
    "b6=Button(row2, text='6',width=10, height=2).pack(side='right',padx=3)\n",
    "b5=Button(row2, text='5',width=10,height=2).pack(side='right',padx=3)\n",
    "b5=Button(row2, text='4',width=10,height=2).pack(side='right',padx=3)\n",
    "\n",
    "row3=Frame(win)\n",
    "row3.pack()\n",
    "b_plus=Button(row3, text='+',width=10,height=2).pack(side='right',padx=3)\n",
    "b3=Button(row3, text='6',width=10, height=2).pack(side='right',padx=3)\n",
    "b2=Button(row3, text='5',width=10,height=2).pack(side='right',padx=3)\n",
    "b1=Button(row3, text='4',width=10,height=2).pack(side='right',padx=3)\n",
    "\n",
    "row4=Frame(win)\n",
    "row4.pack()\n",
    "b_equal=Button(row4, text='=',width=10,height=2).pack(side='right',padx=3)\n",
    "b_dot=Button(row4, text='.',width=10, height=2).pack(side='right',padx=3)\n",
    "b0=Button(row4, text='0',width=10,height=2).pack(side='right',padx=3)\n",
    "b_sign=Button(row4, text='+/-',width=10,height=2).pack(side='right',padx=3)\n",
    "win.mainloop()"
   ]
  },
  {
   "cell_type": "markdown",
   "id": "80d25369",
   "metadata": {},
   "source": [
    "<div class=arabic>\n",
    "لو اردنا ان نقوم باجراء اي تعديل على احد خصائص الازرار في الكود السابق فاننا سوف نجد انفسنا مضطرىن الى اجراء هذا التغيير على كافة الازرار الموجودة فتصبح العملية مرهقة للغاية. لذلك يكون من الانسب ان نعمل صنف معدل للازرار بحيث يصبح هذا الصتف هو الصنف الاساسي الذي تنسخ منه بقية الازرار وعندها يصبح التعديل على الصنف يكفي لاجراء التعديل على كافة الازرار الموجودة كما في الكود التالي:\n",
    "</div>"
   ]
  },
  {
   "cell_type": "code",
   "execution_count": 5,
   "id": "3108d1c9",
   "metadata": {},
   "outputs": [],
   "source": [
    "from tkinter import Tk, PhotoImage, Button, Frame\n",
    "\n",
    "win=Tk()\n",
    "win.title(\"ألة حاسبة\")\n",
    "win.geometry(\"400x300\")\n",
    "win.resizable(0,0)\n",
    "photo = PhotoImage(file = \"img\\calculator.png\")\n",
    "win.iconphoto(False,photo)\n",
    "\n",
    "class Cal_Button(Button):\n",
    "    def __init__(self,*args,**kwargs):\n",
    "        Button.__init__(self,*args,**kwargs)\n",
    "        self[\"width\"]=9\n",
    "        self[\"height\"]=2\n",
    "        self[\"font\"]=15\n",
    "\n",
    "row1=Frame(win)\n",
    "row1.pack()\n",
    "b_mult=Cal_Button(row1, text='x',width=10,height=2).pack(side='right',padx=3)\n",
    "b9=Cal_Button(row1, text='9').pack(side='right',padx=3)\n",
    "b8=Cal_Button(row1, text='8',width=10,height=2).pack(side='right',padx=3)\n",
    "b7=Cal_Button(row1, text='7',width=10,height=2).pack(side='right',padx=3)\n",
    "\n",
    "row2=Frame(win)\n",
    "row2.pack()\n",
    "b_minus=Cal_Button(row2, text='-',width=10,height=2).pack(side='right',padx=3)\n",
    "b6=Cal_Button(row2, text='6',width=10, height=2).pack(side='right',padx=3)\n",
    "b5=Cal_Button(row2, text='5',width=10,height=2).pack(side='right',padx=3)\n",
    "b5=Cal_Button(row2, text='4',width=10,height=2).pack(side='right',padx=3)\n",
    "\n",
    "row3=Frame(win)\n",
    "row3.pack()\n",
    "b_plus=Cal_Button(row3, text='+',width=10,height=2).pack(side='right',padx=3)\n",
    "b3=Cal_Button(row3, text='6',width=10, height=2).pack(side='right',padx=3)\n",
    "b2=Cal_Button(row3, text='5',width=10,height=2).pack(side='right',padx=3)\n",
    "b1=Cal_Button(row3, text='4',width=10,height=2).pack(side='right',padx=3)\n",
    "\n",
    "row4=Frame(win)\n",
    "row4.pack()\n",
    "b_equal=Cal_Button(row4, text='=',width=10,height=2).pack(side='right',padx=3)\n",
    "b_dot=Cal_Button(row4, text='.',width=10, height=2).pack(side='right',padx=3)\n",
    "b0=Cal_Button(row4, text='0',width=10,height=2).pack(side='right',padx=3)\n",
    "b_sign=Cal_Button(row4, text='+/-',width=10,height=2).pack(side='right',padx=3)\n",
    "win.mainloop()"
   ]
  },
  {
   "cell_type": "markdown",
   "id": "4a1e2527",
   "metadata": {},
   "source": [
    "<div class=arabic>\n",
    "ثانياً: طريقة تحديد المحاور place\n",
    "</div>"
   ]
  },
  {
   "cell_type": "markdown",
   "id": "07a11b09",
   "metadata": {},
   "source": [
    "<div class=arabic>\n",
    "ثالثاً: طريقة الجدول grid\n",
    "</div>"
   ]
  },
  {
   "cell_type": "markdown",
   "id": "224cb0b3",
   "metadata": {},
   "source": [
    "<div class=arabic>\n",
    "لنقم الان باضافة ازرار الالة الحاسبة وذلك باستدعاء صنف الزر Button من مكتبة Tkinter  ولتعمل منه عدة نسخ لتمثل ازرار الالة الحاسبة كما يلي:\n",
    "</div>"
   ]
  },
  {
   "cell_type": "markdown",
   "id": "1524bf9c",
   "metadata": {},
   "source": [
    "<div class=arabic>\n",
    "لنقم الان باضافة المكان الذي سوف تظهر فيه العمليات الحسابية ونتائجها. سوف نحتاج لاستدعاء الصنف Label من مكتبة tkinter وعمل نسخة من هذا الصنف واسنادها للمتغير display كما في المثال التالي:\n",
    "</div>"
   ]
  },
  {
   "cell_type": "code",
   "execution_count": 1,
   "id": "610565d7",
   "metadata": {},
   "outputs": [],
   "source": [
    "from tkinter import Tk, PhotoImage, Label\n",
    "\n",
    "win=Tk()\n",
    "win.title(\"ألة حاسبة\")\n",
    "win.geometry(\"400x300\")\n",
    "win.resizable(0,0)\n",
    "photo = PhotoImage(file = \"img\\calculator.png\")\n",
    "win.iconphoto(False,photo)\n",
    "display=Label(win,text=\"0\")\n",
    "win.mainloop()"
   ]
  },
  {
   "cell_type": "code",
   "execution_count": 2,
   "id": "02a57a1e",
   "metadata": {},
   "outputs": [],
   "source": [
    "from tkinter import Tk, PhotoImage, Label\n",
    "\n",
    "win=Tk()\n",
    "win.title(\"ألة حاسبة\")\n",
    "win.geometry(\"400x300\")\n",
    "win.resizable(0,0)\n",
    "photo = PhotoImage(file = \"img\\calculator.png\")\n",
    "win.iconphoto(False,photo)\n",
    "display=Label(win,text=\"0\")\n",
    "display.pack()\n",
    "win.mainloop()"
   ]
  },
  {
   "cell_type": "code",
   "execution_count": 2,
   "id": "368e08a9",
   "metadata": {},
   "outputs": [],
   "source": [
    "from tkinter import Tk, PhotoImage, Label\n",
    "\n",
    "win=Tk()\n",
    "win.title(\"ألة حاسبة\")\n",
    "win.geometry(\"400x300\")\n",
    "win.resizable(0,0)\n",
    "photo = PhotoImage(file = \"img\\calculator.png\")\n",
    "win.iconphoto(False,photo)\n",
    "display=Label(win,text=\"0.0000000\",bg='yellow',width=42,font=16,justify='right')\n",
    "display.pack()\n",
    "win.mainloop()"
   ]
  },
  {
   "cell_type": "markdown",
   "id": "db7df0dc",
   "metadata": {},
   "source": [
    "<div class=arabic>\n",
    "ثانياً: مكتبة PyQt5\n",
    "</div>"
   ]
  },
  {
   "cell_type": "markdown",
   "id": "b760ce1a",
   "metadata": {},
   "source": [
    "<div class=arabic>\n",
    "ثالثاً: مكتبة Kivy\n",
    "</div>"
   ]
  },
  {
   "cell_type": "code",
   "execution_count": 5,
   "id": "5e66d4fd",
   "metadata": {
    "scrolled": true
   },
   "outputs": [
    {
     "name": "stdout",
     "output_type": "stream",
     "text": [
      "Collecting kivy\n",
      "  Downloading Kivy-2.0.0-cp38-cp38-win_amd64.whl (4.1 MB)\n",
      "Collecting kivy-deps.sdl2~=0.3.1; sys_platform == \"win32\"\n",
      "  Downloading kivy_deps.sdl2-0.3.1-cp38-cp38-win_amd64.whl (2.5 MB)\n",
      "Collecting kivy-deps.glew~=0.3.0; sys_platform == \"win32\"\n",
      "  Downloading kivy_deps.glew-0.3.0-cp38-cp38-win_amd64.whl (123 kB)\n",
      "Collecting Kivy-Garden>=0.1.4\n",
      "  Downloading kivy-garden-0.1.4.tar.gz (6.8 kB)\n",
      "Requirement already satisfied: pygments in c:\\users\\al7ak\\anaconda3\\lib\\site-packages (from kivy) (2.6.1)\n",
      "Requirement already satisfied: docutils in c:\\users\\al7ak\\anaconda3\\lib\\site-packages (from kivy) (0.16)\n",
      "Collecting pypiwin32; sys_platform == \"win32\"\n",
      "  Downloading pypiwin32-223-py3-none-any.whl (1.7 kB)\n",
      "Collecting kivy-deps.angle~=0.3.0; sys_platform == \"win32\"\n",
      "  Downloading kivy_deps.angle-0.3.0-cp38-cp38-win_amd64.whl (4.7 MB)\n",
      "Requirement already satisfied: requests in c:\\users\\al7ak\\anaconda3\\lib\\site-packages (from Kivy-Garden>=0.1.4->kivy) (2.24.0)\n",
      "Requirement already satisfied: pywin32>=223 in c:\\users\\al7ak\\anaconda3\\lib\\site-packages (from pypiwin32; sys_platform == \"win32\"->kivy) (227)\n",
      "Requirement already satisfied: chardet<4,>=3.0.2 in c:\\users\\al7ak\\anaconda3\\lib\\site-packages (from requests->Kivy-Garden>=0.1.4->kivy) (3.0.4)\n",
      "Requirement already satisfied: certifi>=2017.4.17 in c:\\users\\al7ak\\anaconda3\\lib\\site-packages (from requests->Kivy-Garden>=0.1.4->kivy) (2020.6.20)\n",
      "Requirement already satisfied: idna<3,>=2.5 in c:\\users\\al7ak\\anaconda3\\lib\\site-packages (from requests->Kivy-Garden>=0.1.4->kivy) (2.10)\n",
      "Requirement already satisfied: urllib3!=1.25.0,!=1.25.1,<1.26,>=1.21.1 in c:\\users\\al7ak\\anaconda3\\lib\\site-packages (from requests->Kivy-Garden>=0.1.4->kivy) (1.25.9)\n",
      "Building wheels for collected packages: Kivy-Garden\n",
      "  Building wheel for Kivy-Garden (setup.py): started\n",
      "  Building wheel for Kivy-Garden (setup.py): finished with status 'done'\n",
      "  Created wheel for Kivy-Garden: filename=Kivy_Garden-0.1.4-py3-none-any.whl size=4534 sha256=4267e64f9ee76f25b947e8c55cba9dad94942131e5c544625fb936650908bdf4\n",
      "  Stored in directory: c:\\users\\al7ak\\appdata\\local\\pip\\cache\\wheels\\d2\\72\\1a\\9ddd17f00755707937caa350616965fb3330a6270425f397e6\n",
      "Successfully built Kivy-Garden\n",
      "Installing collected packages: kivy-deps.sdl2, kivy-deps.glew, Kivy-Garden, pypiwin32, kivy-deps.angle, kivy\n",
      "Successfully installed Kivy-Garden-0.1.4 kivy-2.0.0 kivy-deps.angle-0.3.0 kivy-deps.glew-0.3.0 kivy-deps.sdl2-0.3.1 pypiwin32-223\n",
      "Note: you may need to restart the kernel to use updated packages.\n"
     ]
    }
   ],
   "source": [
    "pip install kivy"
   ]
  },
  {
   "cell_type": "code",
   "execution_count": 1,
   "id": "ceaaede4",
   "metadata": {},
   "outputs": [
    {
     "name": "stderr",
     "output_type": "stream",
     "text": [
      "[INFO   ] [Logger      ] Record log in C:\\Users\\al7ak\\.kivy\\logs\\kivy_20-12-19_36.txt\n",
      "[INFO   ] [deps        ] Successfully imported \"kivy_deps.angle\" 0.3.0\n",
      "[INFO   ] [deps        ] Successfully imported \"kivy_deps.glew\" 0.3.0\n",
      "[INFO   ] [deps        ] Successfully imported \"kivy_deps.sdl2\" 0.3.1\n",
      "[INFO   ] [Kivy        ] v2.0.0\n",
      "[INFO   ] [Kivy        ] Installed at \"C:\\Users\\al7ak\\anaconda3\\lib\\site-packages\\kivy\\__init__.py\"\n",
      "[INFO   ] [Python      ] v3.8.3 (default, Jul  2 2020, 17:30:36) [MSC v.1916 64 bit (AMD64)]\n",
      "[INFO   ] [Python      ] Interpreter at \"C:\\Users\\al7ak\\anaconda3\\python.exe\"\n",
      "[INFO   ] [Factory     ] 186 symbols loaded\n",
      "[INFO   ] [Image       ] Providers: img_tex, img_dds, img_sdl2, img_pil (img_ffpyplayer ignored)\n",
      "[INFO   ] [Text        ] Provider: sdl2\n",
      "[INFO   ] [Window      ] Provider: sdl2\n",
      "[INFO   ] [GL          ] Using the \"OpenGL\" graphics system\n",
      "[INFO   ] [GL          ] GLEW initialization succeeded\n",
      "[INFO   ] [GL          ] Backend used <glew>\n",
      "[INFO   ] [GL          ] OpenGL version <b'4.6.0 NVIDIA 445.87'>\n",
      "[INFO   ] [GL          ] OpenGL vendor <b'NVIDIA Corporation'>\n",
      "[INFO   ] [GL          ] OpenGL renderer <b'GeForce GT 730/PCIe/SSE2'>\n",
      "[INFO   ] [GL          ] OpenGL parsed version: 4, 6\n",
      "[INFO   ] [GL          ] Shading version <b'4.60 NVIDIA'>\n",
      "[INFO   ] [GL          ] Texture max size <16384>\n",
      "[INFO   ] [GL          ] Texture max units <32>\n",
      "[INFO   ] [Window      ] auto add sdl2 input provider\n",
      "[INFO   ] [Window      ] virtual keyboard not allowed, single mode, not docked\n",
      "[INFO   ] [Base        ] Start application main loop\n",
      "[INFO   ] [GL          ] NPOT texture support is available\n",
      "[INFO   ] [Base        ] Leaving application in progress...\n"
     ]
    }
   ],
   "source": [
    "from kivy.app import App\n",
    "from kivy.uix.button import Button\n",
    "\n",
    "class LanguageLearnerApp(App):\n",
    "    def build(self):\n",
    "        return Button(text=\"Hello World!\",\n",
    "                     size=(100,100),\n",
    "                     pos=(100,100))\n",
    "LanguageLearnerApp().run()"
   ]
  },
  {
   "cell_type": "markdown",
   "id": "086ff7b5",
   "metadata": {},
   "source": [
    "<div class=arabic>\n",
    "رابعاً: مكتبة PyGUI</div>"
   ]
  },
  {
   "cell_type": "markdown",
   "id": "53332f51",
   "metadata": {},
   "source": [
    "<div class=arabic></div>"
   ]
  },
  {
   "cell_type": "markdown",
   "id": "7adcd3d7",
   "metadata": {},
   "source": [
    "<div class=arabic>\n",
    "<hr class=horizontal>\n",
    "<center>\n",
    "<a id=\"chapter3\"></a>\n",
    "<h1 class=title>\n",
    "الفصل السابع : مكتبة Numpy\n",
    "</h1>\n",
    "</center>\n",
    "<hr class=horizontal>\n",
    "</div>"
   ]
  },
  {
   "cell_type": "markdown",
   "id": "7d525c70",
   "metadata": {},
   "source": [
    "<div class=arabic>\n",
    "لانشاء مصفوفة صفرية يمكننا استخدام الدالة ()zeros من كتبة numpy بحيث نضع بين قوسي الدالة مقياس المصفوفة الصفرية التي نرغب في انشائها كما في الامثلة التالية: \n",
    "</div>"
   ]
  },
  {
   "cell_type": "code",
   "execution_count": 37,
   "id": "70a25a10",
   "metadata": {},
   "outputs": [
    {
     "data": {
      "text/plain": [
       "array([0., 0., 0., 0.])"
      ]
     },
     "execution_count": 37,
     "metadata": {},
     "output_type": "execute_result"
    }
   ],
   "source": [
    "import numpy as np\n",
    "np.zeros(4)"
   ]
  },
  {
   "cell_type": "code",
   "execution_count": 38,
   "id": "2329a7f7",
   "metadata": {},
   "outputs": [
    {
     "data": {
      "text/plain": [
       "array([[0., 0., 0., 0.],\n",
       "       [0., 0., 0., 0.],\n",
       "       [0., 0., 0., 0.]])"
      ]
     },
     "execution_count": 38,
     "metadata": {},
     "output_type": "execute_result"
    }
   ],
   "source": [
    "np.zeros([3,4])"
   ]
  },
  {
   "cell_type": "markdown",
   "id": "d2572b94",
   "metadata": {},
   "source": [
    "<div class=arabic>\n",
    "لاحظ استخدامنا لقائمة داخل قوسي الدالة ()zeros عندما تكون المصوفة غير احدية\n",
    "</div>"
   ]
  },
  {
   "cell_type": "markdown",
   "id": "533f29e4",
   "metadata": {},
   "source": [
    "<div class=arabic>\n",
    "لانشاء مصفوفة احادية ذات قيم متباعده عن بعضها البعض بقيمة معينة نستخدم الدالة ()arange بنفس الطريقة التي تعلمنا استخدامها مع الدالة  range() عند انشاء القوائم في بايثون. شاهد المثال التالي:\n",
    "</div>"
   ]
  },
  {
   "cell_type": "code",
   "execution_count": 39,
   "id": "ea922178",
   "metadata": {},
   "outputs": [
    {
     "data": {
      "text/plain": [
       "array([4. , 4.1, 4.2, 4.3, 4.4, 4.5, 4.6, 4.7, 4.8, 4.9, 5. , 5.1, 5.2,\n",
       "       5.3, 5.4, 5.5, 5.6, 5.7, 5.8, 5.9])"
      ]
     },
     "execution_count": 39,
     "metadata": {},
     "output_type": "execute_result"
    }
   ],
   "source": [
    "np.arange(4,6,0.1)"
   ]
  },
  {
   "cell_type": "markdown",
   "id": "68fa9497",
   "metadata": {},
   "source": [
    "<div class=arabic>\n",
    "لاحظ ان هناك اختلاف جوهري بين دالة ()arange في مكتبة numpy ودالة ()range في مكتبة بايثون القياسية وهو ان الدالة ()arange في numpy تمكننا من استخدام الاعداد الصحيحية والعشرية على حد سواء. بينما الدالة ()range فانها تستوجب استخدام اعداد صحيحة فقط كما في المثال التالي:\n",
    "</div>"
   ]
  },
  {
   "cell_type": "code",
   "execution_count": 40,
   "id": "9fa50a28",
   "metadata": {},
   "outputs": [
    {
     "data": {
      "text/plain": [
       "array([3. , 3.1, 3.2, 3.3, 3.4, 3.5, 3.6, 3.7, 3.8, 3.9, 4. , 4.1, 4.2,\n",
       "       4.3, 4.4, 4.5, 4.6, 4.7, 4.8, 4.9])"
      ]
     },
     "execution_count": 40,
     "metadata": {},
     "output_type": "execute_result"
    }
   ],
   "source": [
    "np.arange(3,5,0.1)"
   ]
  },
  {
   "cell_type": "code",
   "execution_count": 41,
   "id": "3de1544f",
   "metadata": {},
   "outputs": [
    {
     "data": {
      "text/plain": [
       "array([3., 4.])"
      ]
     },
     "execution_count": 41,
     "metadata": {},
     "output_type": "execute_result"
    }
   ],
   "source": [
    "np.arange(3.0,5.0)"
   ]
  },
  {
   "cell_type": "code",
   "execution_count": 42,
   "id": "9802837e",
   "metadata": {},
   "outputs": [
    {
     "data": {
      "text/plain": [
       "range(3, 5)"
      ]
     },
     "execution_count": 42,
     "metadata": {},
     "output_type": "execute_result"
    }
   ],
   "source": [
    "range(3,5)"
   ]
  },
  {
   "cell_type": "code",
   "execution_count": 43,
   "id": "7a000a8c",
   "metadata": {},
   "outputs": [
    {
     "ename": "TypeError",
     "evalue": "'float' object cannot be interpreted as an integer",
     "output_type": "error",
     "traceback": [
      "\u001b[1;31m---------------------------------------------------------------------------\u001b[0m",
      "\u001b[1;31mTypeError\u001b[0m                                 Traceback (most recent call last)",
      "\u001b[1;32m<ipython-input-43-cedeb2ddba2c>\u001b[0m in \u001b[0;36m<module>\u001b[1;34m\u001b[0m\n\u001b[1;32m----> 1\u001b[1;33m \u001b[0mrange\u001b[0m\u001b[1;33m(\u001b[0m\u001b[1;36m3.0\u001b[0m\u001b[1;33m,\u001b[0m\u001b[1;36m5.0\u001b[0m\u001b[1;33m)\u001b[0m\u001b[1;33m\u001b[0m\u001b[1;33m\u001b[0m\u001b[0m\n\u001b[0m",
      "\u001b[1;31mTypeError\u001b[0m: 'float' object cannot be interpreted as an integer"
     ]
    }
   ],
   "source": [
    "range(3.0,5.0)\n"
   ]
  },
  {
   "cell_type": "markdown",
   "id": "90d7b581",
   "metadata": {},
   "source": [
    "<div class=arabic>\n",
    "كما يمكن انجاز المهمة السابقة باستخدام الدالة ()linspace ايضا من مكتبة numpy كما في المثال التالي:\n",
    "</div>"
   ]
  },
  {
   "cell_type": "code",
   "execution_count": null,
   "id": "79396426",
   "metadata": {},
   "outputs": [],
   "source": [
    "np.linspace(3.0,5.0,21)"
   ]
  },
  {
   "cell_type": "markdown",
   "id": "17070d0c",
   "metadata": {},
   "source": [
    "<div class=arabic>\n",
    "لاحظ ان الفرق بين الدالتين ()arange والدالة ()linspace هو ان الدالة ()arange تتطلب مقدار التباعد في المجال المعظى. واذا لم يكن مقدار التباعد معطى فان القيمة الافتراضية تكون 1. اما الدالة ()linspace فهي تتطلب المجال وعدد القيم التي يجب انشاؤها بحيث تقوم بتحديد مقدار التباعد تلقائيا من ذاتها. في حال عدم تزويد الدالة ()linspace بعدد القيم المطلوبة فان القيمة الافتراضية لعدد القيم التي سوف تنتجها الدالة سوف يكون 50 كما في المثال التالي: \n",
    "</div>"
   ]
  },
  {
   "cell_type": "code",
   "execution_count": null,
   "id": "37bcda7b",
   "metadata": {},
   "outputs": [],
   "source": [
    "ar1=np.linspace(3,4)\n",
    "len(ar1)"
   ]
  },
  {
   "cell_type": "markdown",
   "id": "2227c3c9",
   "metadata": {},
   "source": [
    "<div class=arabic>\n",
    "لاحظ ايضا ان الدالة ()linspace تتطلب ان يكون مجال المصفوفة يتكون من قيمتين قيمة للبداية وقيمة للنهاية اما الدالة arange() فعند تزويدها بقيمة واحدة في المجال فانها سوف تفترض ان هذه القيمة هي قيمة النهاية وقيمة البداية للمجال سوف تفترض انها مساوية للعدد 0. كما في المثال التالي:\n",
    "</div>"
   ]
  },
  {
   "cell_type": "code",
   "execution_count": null,
   "id": "7b6904c7",
   "metadata": {},
   "outputs": [],
   "source": [
    "np.arange(4)"
   ]
  },
  {
   "cell_type": "code",
   "execution_count": null,
   "id": "f9aed6c5",
   "metadata": {},
   "outputs": [],
   "source": [
    "np.linspace(4)"
   ]
  },
  {
   "cell_type": "markdown",
   "id": "9b7bbfa5",
   "metadata": {},
   "source": [
    "<div class=arabic><h2 class=title>تمارين استكشافية</h2></div>"
   ]
  },
  {
   "cell_type": "markdown",
   "id": "81156c44",
   "metadata": {},
   "source": [
    "<div class=arabic>\n",
    "١- استكشف الفرق بين استخدام قيمة واحدة مع الدالة ()range من مكتبة بايثون القياسية والدالة ()arange من مكتبة numpy ؟\n",
    "</div>"
   ]
  },
  {
   "cell_type": "code",
   "execution_count": null,
   "id": "fcd5af9a",
   "metadata": {},
   "outputs": [],
   "source": []
  },
  {
   "cell_type": "markdown",
   "id": "8730547e",
   "metadata": {},
   "source": [
    "<div class=arabic>\n",
    "٢- استكشف الفرق في اخر قيمة تنتج من انشاء مصفوفتين احاديتن احدهما تم انشاؤه باستخدام الدالة ()arange  والاخرى باستخدام الدالة ()linspace من مكتبة numpy للمجال من 2 الى 3 متباعدة عن بعضها البعض بمقدار 0.5 ؟\n",
    "</div>"
   ]
  },
  {
   "cell_type": "code",
   "execution_count": null,
   "id": "249338ac",
   "metadata": {},
   "outputs": [],
   "source": []
  },
  {
   "cell_type": "markdown",
   "id": "3694f745",
   "metadata": {},
   "source": [
    "<div class=arabic>\n",
    "<hr class=horizontal>\n",
    "<center>\n",
    "<a id=\"chapter3\"></a>\n",
    "<h1 class=title>\n",
    "الملاحق : تحويل الاعداد الثنائية الى عشرية والعكس\n",
    "</h1>\n",
    "</center>\n",
    "<hr class=horizontal>\n",
    "</div>"
   ]
  },
  {
   "cell_type": "markdown",
   "id": "c36e94af",
   "metadata": {},
   "source": [
    "<div class=arabic>\n",
    "<hr class=horizontal>\n",
    "<center>\n",
    "<a id=\"chapter3\"></a>\n",
    "<h1 class=title>\n",
    "الملاحق : مكتبة geopandas\n",
    "</h1>\n",
    "</center>\n",
    "<hr class=horizontal>\n",
    "</div>"
   ]
  },
  {
   "cell_type": "markdown",
   "id": "77e1a117",
   "metadata": {},
   "source": [
    "geopandas depends on the following libraries:\n",
    "1-pandas : a library for data analysis\n",
    "2-shapely: for geometeric shapes (GEOS)\n",
    "3-fiona:  library for reading and writing files (OGR)\n",
    "4-pyproj: library for cartographic projections (PROJ.4)\n",
    "5-decartes : library for map plotting.\n",
    "6-geopy: geocoding\n",
    "7-rtree: spatial analysis\n",
    "8-pysal: advanced spatial analysis, colaring maps library\n",
    "\n",
    "\n",
    "Shapefile contents (usually comes as zip file):\n",
    "\n",
    "shp: shapefile- mapable geometry\n",
    "dbf: database file- extra information\n",
    "prj: projection file to deal with how a location is determine on earth.\n",
    "shx: index file to make reading file faster.\n",
    "\n",
    "to convert CSV file with longitude and latitude data to geodataframe follow the these steps:\n",
    "1. read csv file through pandas library\n",
    "df=pd.read_csv(\"file.csv\")\n",
    "2. create points from log/lat data through shapely library\n",
    "point=df.apply(lambda raw: Point(raw.longitude,raw.latitude, axis=1)\n",
    "3. create the geodataframe from the pandas dataframe and shapely point object.\n",
    "gdf=gpd.GeoDataFrame(df,geometery=points)\n",
    "4. confirm to the geodataframe that we are using log/lat data\n",
    "gdf.crs={\"init\":\"epsg:4326\"}\n",
    "\n",
    "\n",
    "crs : coordinate reference system\n",
    "epsg: European petroleum survey group.\n",
    "\n",
    "gdf.to_crs(epsg=xxxx) to convert to different projection systems.\n",
    "\n",
    "remove map coordinate by using\n",
    "ax.axis(\"off\")\n",
    "\n",
    "coloring shape:\n",
    "1. fill\n",
    "2. stroke/line/edge-outline"
   ]
  },
  {
   "cell_type": "markdown",
   "id": "46a6c84a",
   "metadata": {},
   "source": [
    "<div class=arabic>\n",
    "<hr class=horizontal>\n",
    "<center>\n",
    "<a id=\"chapter3\"></a>\n",
    "<h1 class=title>\n",
    "الفصل الثامن : المنسقات\n",
    "</h1>\n",
    "</center>\n",
    "<hr class=horizontal>\n",
    "</div>"
   ]
  },
  {
   "cell_type": "markdown",
   "id": "ba57ab03",
   "metadata": {},
   "source": [
    "<div class=arabic>\n",
    "المنسقات هي عبارة عن دوال يمكنها استدعاء دوال و ارجاع دوال كمخرجات لهذه الدوال.لاحظ المثال التالي للتوضيح\n",
    "\n",
    "</div>"
   ]
  },
  {
   "cell_type": "code",
   "execution_count": null,
   "id": "86833af9",
   "metadata": {},
   "outputs": [],
   "source": [
    "def decorated_by(func):\n",
    "    func.__doc__ +=\"تم تنسيق الدالة بواسطة دالة منسقة\"\n",
    "    return func"
   ]
  },
  {
   "cell_type": "markdown",
   "id": "d8956208",
   "metadata": {},
   "source": [
    "<div class=arabic>\n",
    "لنقوم الان بتعريف دالة بسيطة تقوم بجمع رقمين وارجاع ناتج الجمع. كما تحتوي هذه الدالة على ملاحظات تفيد وظيفة الداله كما في المثال التالي:\n",
    "</div>"
   ]
  },
  {
   "cell_type": "code",
   "execution_count": null,
   "id": "2511359c",
   "metadata": {},
   "outputs": [],
   "source": [
    "def add(x,y):\n",
    "    '''this function add two numbers and return their sum \\n'''\n",
    "    return x+y"
   ]
  },
  {
   "cell_type": "markdown",
   "id": "bec30daf",
   "metadata": {},
   "source": [
    "<div class=arabic>\n",
    "لاحظ انه عند استخدام الامر \\__doc\\__ على الدالة add فانها تقوم باظهار الملاحظات تم كتابتها لتوضيح وظيفة الدالة كما في المثال التالي:\n",
    "</div>"
   ]
  },
  {
   "cell_type": "code",
   "execution_count": null,
   "id": "226f8068",
   "metadata": {},
   "outputs": [],
   "source": [
    "print(add.__doc__)"
   ]
  },
  {
   "cell_type": "code",
   "execution_count": null,
   "id": "711bcb10",
   "metadata": {},
   "outputs": [],
   "source": [
    "add=decorated_by(add)"
   ]
  },
  {
   "cell_type": "code",
   "execution_count": null,
   "id": "42cf3add",
   "metadata": {},
   "outputs": [],
   "source": [
    "print(add.__doc__)"
   ]
  },
  {
   "cell_type": "markdown",
   "id": "2943f8b1",
   "metadata": {},
   "source": [
    "<div class=arabic>\n",
    "لاحظ ان الدالة المنسقة decorated_by اخذت الدالة add كمدخلات وقامت بتعديل الملاحظات الخاصة بالدالة بحيث اضافة عليه سطر اخر من الملاحظات واعادة الدالة بعد التعديل عليها. لذلك عندما قمنا بطباعة ملاحظات الدالة المعدلة وجدنا التعديل قد ظهر في امر الطابعة الثاني.\n",
    "\n",
    "</div>"
   ]
  },
  {
   "cell_type": "markdown",
   "id": "495524fb",
   "metadata": {},
   "source": [
    "<div class=arabic>\n",
    "ان عملية تعديل دالة واعادة تسميتها بنفص الاسم قد يسبب بعض التشويش في ذهن المبرمج لذلك تم استحداث طريقة سلهة لاحداث التعديل على الدالة دون اللجوء الى تغيير اسمها وذلك باستخدم الرمز @ متعبوعا باسم الدالة المنسقة فوق الدالة المراد التعديل عليها كما في المثال التالي:\n",
    "</div>"
   ]
  },
  {
   "cell_type": "code",
   "execution_count": null,
   "id": "024acb2e",
   "metadata": {},
   "outputs": [],
   "source": [
    "def decorated_by2(func):\n",
    "    func.__doc__ +=\"تم تنسيق الدالة بصورة  اسهل\"\n",
    "    return func"
   ]
  },
  {
   "cell_type": "code",
   "execution_count": null,
   "id": "493cc6fb",
   "metadata": {},
   "outputs": [],
   "source": [
    "@decorated_by2\n",
    "def add(x,y):\n",
    "    '''this function add two numbers and return their sum \\n'''\n",
    "    return x+y\n",
    "\n",
    "print(add.__doc__)"
   ]
  },
  {
   "cell_type": "code",
   "execution_count": null,
   "id": "7ef588e4",
   "metadata": {
    "jupyter": {
     "outputs_hidden": true
    }
   },
   "outputs": [],
   "source": []
  },
  {
   "cell_type": "markdown",
   "id": "626c9af9",
   "metadata": {},
   "source": [
    "<div class=arabic>\n",
    "<h2>ترتيب المنسقات</h2>\n",
    "يمكن تطبيق اكثر من دالة منسقة على دالة اخرى كما في المثال التالي:\n",
    "</div>"
   ]
  },
  {
   "cell_type": "code",
   "execution_count": null,
   "id": "4b1b580a",
   "metadata": {},
   "outputs": [],
   "source": [
    "def decorated_by_one(func):\n",
    "    func.__doc__ +='المنسقة الاولى \\n'\n",
    "    return func\n",
    "def decorated_by_two(func):\n",
    "    func.__doc__ +='المنسقة الثانية'\n",
    "    return func\n",
    "\n",
    "@decorated_by_two\n",
    "@decorated_by_one\n",
    "def add(x,y):\n",
    "    '''this function add two numbers and return their sum \\n'''\n",
    "    return x+y\n",
    "\n",
    "print(add.__doc__)"
   ]
  },
  {
   "cell_type": "markdown",
   "id": "9ff902c6",
   "metadata": {},
   "source": [
    "<div class=arabic>\n",
    "وما يجب ملاحظته من المثال السابق هو طريقة تطبيق المنسقات يبدا من الاسفل الى الاعلى. فلقد تم تطبيق الدالة المنسقة decorated_by_one  اولا ثم تم تطبيق الدالة المنسقة الثانية decorated_by_two. لذلك يجب التنبه الى عملية الترتيب هذه.\n",
    "</div>"
   ]
  },
  {
   "cell_type": "markdown",
   "id": "39a988df",
   "metadata": {},
   "source": [
    "<div class=arabic>\n",
    "تمرين: قم بعكس ترتيب المنسقات في المثال السابق بحيث تصبح المنسقة decorated_by_two تقع مباشرة فوق الدالة add ثم ضع المنسقة decorated_by_one فوق المنسقة الثانية ولاحظ الفرق بين نتيجة هذا التغيير ونتيجة المثال السابق؟\n",
    "</div>"
   ]
  },
  {
   "cell_type": "markdown",
   "id": "36f8c452",
   "metadata": {},
   "source": [
    "<div class=arabic>\n",
    "<h2>اين يمكنا استخدام المنسقات</h2>\n",
    "مكتبة بايثون الاساسية تحتوي على منسقات فمثلا عندما نريد ان نستحدم دالة في مصنف لا يحتاج الى على عمل نسخة من المصنف فاننا نستخدم المنسقة @classmethod او @staticmethod.\n",
    "كما ان هناك اطارات عمل مثل flask تستخدم المنسقة @app.route للربط بين الدوال و عناوين الصفحات عندما تستدعى من المتصفح. وكذلك اطار العمل  Django والذي يستحدم المنسقة @login_required للتأكد من تسجيل الدخول قبل الدخول الى صفحات الموقع.\n",
    "كما يمكن استخدام المنسقات عندما نرغب بالتاكد من ملاءمة مدخلات دالة ما من حيث القيمة والنوع كما في المثال التالي: \n",
    "</div>"
   ]
  },
  {
   "cell_type": "code",
   "execution_count": null,
   "id": "cf005f72",
   "metadata": {},
   "outputs": [],
   "source": [
    "add.__annotations__"
   ]
  },
  {
   "cell_type": "markdown",
   "id": "ac0210cc",
   "metadata": {},
   "source": [
    "<div class=arabic>\n",
    "<h2>أهمية المنسقات</h2>\n",
    "استخدام المنسقات يعتبر طريقة ذكية في كتابة الكود البرمجي فهي تساعد على سهولة قراءته واكتشاف الاخطاء به. كما ان استخدام المنسقات يجعل الكود البرمجي مستقل الاجزاء بحيث يمكن التعديل على الدالة باضافة او ازالة دون المساس بالكود البرمجي الموجود داخل الدالة المراد التعديل عليها.\n",
    "</div>"
   ]
  },
  {
   "cell_type": "code",
   "execution_count": null,
   "id": "db4421ef",
   "metadata": {},
   "outputs": [],
   "source": [
    "<div class=arabic>\n",
    "<hr class=horizontal>\n",
    "<center>\n",
    "<a id=\"chapter10\"></a>\n",
    "<h1 class=title>\n",
    "الفصل العاشر : برمجة واجهة المستخدم\n",
    "</h1>\n",
    "</center>\n",
    "<hr class=horizontal>\n",
    "</div>\n",
    "\n",
    "from PyQt5.QtWidgets import QApplication, QMainWindow\n",
    "import sys\n",
    "\n",
    "app=QApplication(sys.argv)\n",
    "window=QMainWindow()\n",
    "dir(window)\n",
    "\n",
    "<div class=arabic>\n",
    "<h2 class=title>مكتبات واجهة المستخدم في بايثون</h2>\n",
    "\n",
    "</div>\n",
    "\n",
    "<div class=arabic>\n",
    "يوجد العديد من المكتبات المستخدمة لبناء الواجهة الرسومية للمستخدم في بايثون من ابرز هذه المكتبات:\n",
    "</div>\n",
    "\n",
    "<div class=arabic>اولا: مكتبة Tkinter</div>\n",
    "\n",
    "<div class=arabic>\n",
    "تمثل مكتبة Tkinter مكتبة الواجهة الرسومية القياسية لبايثون حيث تأتي هذه المكتبة من ضمن المكتبات القياسية التي يتم تنصيبها مع مفسر بايثون. ولعمل واجهه رسوميه اساسية من خلال هذه المكتبة نحتاج لكتابة ثلاثة اسطر قصيرة من الكود البرمجي كما في المثال التالي:\n",
    "</div>\n",
    "\n",
    "from tkinter import Tk\n",
    "win=Tk()\n",
    "win.mainloop()\n",
    "\n",
    "<div class=arabic>فعند تنقيذ المثال السابق سوف تظهر لنا نافذه رسومية اساسية بمقاس افتراضي 200 بكسل عرضا و 200 بكسل طولا تحمل عنوان افتراضي tk وايقونه رسوميه لريشة زقاء وكذلك ثلاثة ازراز لتصغير وتكبير واغلاق النافذة. فالسطر الاول من الكود البرمجي السابق هو مجرد استدعاء للصنف Tk المسؤول عن انشاء نوافذ قياسية من مكتبة tkinter كما تعلمنا سابقا. اما السطر الثاني فهو مجرد عمل نسخة من الصنف Tk واسناده الى المتغير win. في السطر الثالث تم استدعاء الدالة ()mainloop على نسخة النافذه الاساسية التي انشأناها من الصنف Tk. وظيفة هذه الدالة هي عمل حلقة تكرار تبقى النافذه على الشاشة وتجعلها تنتظر اي تفاعل من المستخدم سواء كان بتحريك او تكبير او اتصغير او غير ذلك من الافعال التي سوف يأتي شرحها لاحقا.  </div>\n",
    "\n",
    "<div class=arabic>\n",
    "لنقم الان تغير عنوان النافذه السابقة الي \"اله حاسبة\" من خلال استخدام الدالة ()title كما يلي:\n",
    "</div>\n",
    "\n",
    "from tkinter import Tk\n",
    "win=Tk()\n",
    "win.title(\"ألة حاسبة\")\n",
    "win.mainloop()\n",
    "\n",
    "<div class=arabic>\n",
    "قد يبدو ان اسم النافذه غير مكتمل وذلك لان مقاس النافذه الافتراضي غير كافي الاظهار الاسم. لنقم بتغيير مقاس النافذه الرئيسية الى 400 بكسل عرضا و 300 بكسل طولا باستخدام الدالة ()geometry كما يلي:\n",
    "</div>\n",
    "\n",
    "from tkinter import Tk\n",
    "win=Tk()\n",
    "win.title(\"ألة حاسبة\")\n",
    "win.geometry(\"400x300\")\n",
    "win.mainloop()\n",
    "\n",
    "<div class=arabic>\n",
    "لاحظ ان القيمة المدخلة للدالة ()geometry هي قيمة نصية تمثل القيمة الاولى من اليسار عرض النافذة والقيمة الثانية تمثل طول او ارتفاع النافذه بحيث تم الفصل بين القيمتين بعلامة الضرب \"x\".\n",
    "</div>\n",
    "\n",
    "<div class=arabic>\n",
    "على الرغم من اننا قمنا باتغيير مقاس النافذه الرئيسية عند بداية تشغيل البرنامج الا ان هذا الامر لن يمنع المستخدم من تغيير مقاسات النافذه متى ما اراد ذلك. فبمجرد الوقوف بمؤشر الفارة عند احد اطراف النافذه فان المؤشر سوف يتغير شكله الى سهمين مزدوجين تعني ان المستخدم عند ضغطه لزر الفأرة في هذا المكان مع مواصلة الضغط والتحرك سوف يقوم بتغيير مقاسات النافذة كيفما شاء. ويمكنك التأكد من ذلك بتشغيل الكود البرمجي السابق ومحاولة تغيير مقاسات النافذة.\n",
    "</div>\n",
    "\n",
    "<div class=arabic>\n",
    "ان اعطاء المستخدم صلاحيات تغيير مقاس النافذه الرئيسية قد يشوه شكل الالة الحاسبة عند قيامه بعملية تكبير او تصغير الناقذه لذلك من الافضل ان نقوم بمنع المستخدم من تغيير مقاسات النافذة الرئيسية باستخدام الدالة ()resizable وااعظائها القيم صفر و صفر في كلا المدخلين كما في  المثال التالي:\n",
    "</div>\n",
    "\n",
    "from tkinter import Tk\n",
    "\n",
    "win=Tk()\n",
    "win.title(\"ألة حاسبة\")\n",
    "win.geometry(\"400x300\")\n",
    "win.resizable(0,0)\n",
    "win.mainloop()\n",
    "\n",
    "<div class=arabic>\n",
    "لاحظ انه عند تشغيل الكود السابق والوقوف بزر الفأرة على احد اطراف النافذة الرئيسية لا يتغير مؤشر الفأرة الى سهمين مزدوجين مما يعني ان عملية تغيير مقاسات النافذه اصحبت غير ممكنه. كما ان زر التكبير في النافذه الرئيسية اصبح غير نشط ايضاً.\n",
    "</div>\n",
    "\n",
    "<div class=arabic>\n",
    "ان ايقونه الريشة الزرقاء لا تتناسب مع الآلة الحاسبة التي ننوي القيام بانشائها. لنقم بتغيير هذه الايقونه الى ايقونه آلة حسابة صغيرة تم تحميلها من الانترنت وحفظها في ملف الصور الخاص بهذا الكتاب تحت اسم calculator.png. ولارفاق الايقونه الى النافذه الاساسية نحتاج الى استدعاء صنف الصور PhotoImage من مكتبة tkinter ومن ثم عمل نسخة من هذا الصنف باستخدام مسار الصورة التي تم تحميلها من الانترنت كمدخل. ثم نقوم باستخدام هذه النسخة والتي اسندناها الى متغير اسمه photo كمدخل ثاني للدالة ()iconphoto كما يلي:\n",
    "</div>\n",
    "\n",
    "from tkinter import Tk, PhotoImage\n",
    "\n",
    "win=Tk()\n",
    "win.title(\"ألة حاسبة\")\n",
    "win.geometry(\"400x300\")\n",
    "win.resizable(0,0)\n",
    "photo = PhotoImage(file = \"img\\calculator.png\")\n",
    "win.iconphoto(False,photo)\n",
    "win.mainloop()\n",
    "\n",
    "<div class=arabic>\n",
    "ان تعلم اضافة الادوات الى النافذة الرئيسية من ازرار و خلافه لن يتحقق الا بعد معرفتنا للطريقة التي يتم بها ترتيب هذه الادوات داخل هذه النافذة من اجل عرضها على شاشة المستخدم. وفي مكتبة Tkinter هناك ثلاث طرق تسخدم لترتيب الادوات داخل النوافذ وهي على النحو التالي:\n",
    "</div>\n",
    "\n",
    "<div class=arabic>\n",
    "اولاً: طريقة الحشو pack\n",
    "</div>\n",
    "\n",
    "<div class=arabic>\n",
    "تعتبر طريقة الحشو من اسهل الطرق التي يتم فيها ترتيب الادوات داخل النوافذ فهي لا تحتاج الى تحديد اماكن الادوات على النافذه وانما تكتفي بمعرفه ترتيب ظهور الادوات عليها فيتم ترتيبها اما عموديا او رأسيا حسب ما يحدده المبرمج. ولكي نتعرف على طريقة الترتبب هذه لنقم بتكوين عدد من ازرار الالة حاسبة التي نود انشائها باستدعاء صنف الازرار Button من مكتبة Tkinter ولنقم بعمل عدة نسخ منه كما في الكود التالي:\n",
    "</div>\n",
    "\n",
    "from tkinter import Tk, PhotoImage, Button\n",
    "\n",
    "win=Tk()\n",
    "win.title(\"ألة حاسبة\")\n",
    "win.geometry(\"400x300\")\n",
    "win.resizable(0,0)\n",
    "photo = PhotoImage(file = \"img\\calculator.png\")\n",
    "win.iconphoto(False,photo)\n",
    "b1=Button(win, text='1')\n",
    "b2=Button(win, text='2')\n",
    "b3=Button(win, text='3')\n",
    "win.mainloop()\n",
    "\n",
    "<div class=arabic>\n",
    "كما اشرنا سابقا ان عملية انشاء نسخ من  صنف الازرار Button لا تكفي لاظهار هذه الازرار على النافذه الرئيسية على الرغم من اننا قمنا بتحديد المكان الذي نود ان تظهر فيه هذه الازرار وذلك باستخدام متغير النافذه الرئيسية كمتغير اول  كما قمنا ايضا بتحديد النص الذي يجب ان يظهر على الزر عند انشاؤه. ان عدم ظهور الازرار في الكود السابق سببه هو اننا لم نقم باستخدام اي دالة تخبر مفسر بايثون بالكيفية التي يتم بها عرض هذه الازرار داخل النافذه الرئيسية. لذلك عند رغبتنا في استخدام طريقة الحشو لترتيب هذه الازرار فانه يتوجب علينا استخدام الدالة ()pack والتي تعمل على ترتيب الازرار بشكل عامودي في النافذة الرئيسية على نحو افتراضي بحسب ترتيب هذه الادوات في الكود البرمجي كما يلي: \n",
    "</div>\n",
    "\n",
    "from tkinter import Tk, PhotoImage, Button\n",
    "\n",
    "win=Tk()\n",
    "win.title(\"ألة حاسبة\")\n",
    "win.geometry(\"400x300\")\n",
    "win.resizable(0,0)\n",
    "photo = PhotoImage(file = \"img\\calculator.png\")\n",
    "win.iconphoto(False,photo)\n",
    "b1=Button(win, text='1').pack(side='bottom')\n",
    "b2=Button(win, text='2').pack(side='bottom')\n",
    "b3=Button(win, text='3').pack(side='bottom')\n",
    "win.mainloop()\n",
    "\n",
    "<div class=arabic>\n",
    "لكي نقوم بتغيير ترتيب الازرار بشكل افقي نحتاج ان نغير القيمة الافتراضية للمدخل side في دالة ()pack من top الى left او right كما في الكود التالي: \n",
    "</div>\n",
    "\n",
    "from tkinter import Tk, PhotoImage, Button\n",
    "\n",
    "win=Tk()\n",
    "win.title(\"ألة حاسبة\")\n",
    "win.geometry(\"400x300\")\n",
    "win.resizable(0,0)\n",
    "photo = PhotoImage(file = \"img\\calculator.png\")\n",
    "win.iconphoto(False,photo)\n",
    "b1=Button(win, text='1').pack(side='left')\n",
    "b2=Button(win, text='2').pack(side='left')\n",
    "b3=Button(win, text='3').pack(side='left')\n",
    "win.mainloop()\n",
    "\n",
    "from tkinter import Tk, PhotoImage, Button\n",
    "\n",
    "win=Tk()\n",
    "win.title(\"ألة حاسبة\")\n",
    "win.geometry(\"400x300\")\n",
    "win.resizable(0,0)\n",
    "photo = PhotoImage(file = \"img\\calculator.png\")\n",
    "win.iconphoto(False,photo)\n",
    "b1=Button(win, text='1').pack(side='right')\n",
    "b2=Button(win, text='2').pack(side='right')\n",
    "b3=Button(win, text='3').pack(side='right')\n",
    "win.mainloop()\n",
    "\n",
    "<div class=arabic>\n",
    "    لاحظ ان استخدام القيمة النصية right للمدخل side جعل بداية ترتيب الازرار تبدأ من يمين النافذة والقيمة left بدأت الترتيب من يسار النافذة الرئيسية.\n",
    "</div>\n",
    "\n",
    "<div class=arabic>\n",
    "ان حجم الازرار في الكود السابق كان يتغير بطول النص الموجود على كل زر فلو قمنا بتغيير القيم النصية على كل زر لتغير حجم الزر بتغير القيمة النصية كما يلي:\n",
    "</div>\n",
    "\n",
    "from tkinter import Tk, PhotoImage, Button\n",
    "\n",
    "win=Tk()\n",
    "win.title(\"ألة حاسبة\")\n",
    "win.geometry(\"400x300\")\n",
    "win.resizable(0,0)\n",
    "photo = PhotoImage(file = \"img\\calculator.png\")\n",
    "win.iconphoto(False,photo)\n",
    "b1=Button(win, text='1').pack(side='right')\n",
    "b2=Button(win, text='But 2').pack(side='right')\n",
    "b3=Button(win, text='Button 3').pack(side='right')\n",
    "win.mainloop()\n",
    "\n",
    "<div class=arabic>\n",
    "لتوحيد احجام الازرار والتحكم في ابعادها نقوم بتغيير قيم المدخل width والمدخل height عند عمل نسخة لكل زر كما يلي:\n",
    "</div>\n",
    "\n",
    "from tkinter import Tk, PhotoImage, Button\n",
    "\n",
    "win=Tk()\n",
    "win.title(\"ألة حاسبة\")\n",
    "win.geometry(\"400x300\")\n",
    "win.resizable(0,0)\n",
    "photo = PhotoImage(file = \"img\\calculator.png\")\n",
    "win.iconphoto(False,photo)\n",
    "b1=Button(win, text='1',width=10,height=2).pack(side='right')\n",
    "b2=Button(win, text='2',width=10, height=2).pack(side='right')\n",
    "b3=Button(win, text='3',width=10,height=2).pack(side='right')\n",
    "win.mainloop()\n",
    "\n",
    "<div class=arabic>\n",
    "للتحكم في المسافات الافقية بين الازرار نستخدم قيم اكبر من الصفر للمدخل xpad في الدالة ()pack كما يلي:\n",
    "</div>\n",
    "\n",
    "from tkinter import Tk, PhotoImage, Button\n",
    "\n",
    "win=Tk()\n",
    "win.title(\"ألة حاسبة\")\n",
    "win.geometry(\"400x300\")\n",
    "win.resizable(0,0)\n",
    "photo = PhotoImage(file = \"img\\calculator.png\")\n",
    "win.iconphoto(False,photo)\n",
    "b1=Button(win, text='1',width=10,height=2).pack(side='right',padx=6)\n",
    "b2=Button(win, text='2',width=10, height=2).pack(side='right',padx=3)\n",
    "b3=Button(win, text='3',width=10,height=2).pack(side='right',padx=3)\n",
    "win.mainloop()\n",
    "\n",
    "<div class=arabic>\n",
    "عندما نقوم بزيادة عدد الازرار الى 6 مثلا فان خاصية الحشو pack لا تقوم بالنزول الى صف ثاني لاستيعاب عدد الازرار الذي يزيد عن عرض النافذة الرئيسية ويصبح عدد من الازرار غير ظاهر للمستخدم كما يلي:\n",
    "</div>\n",
    "\n",
    "from tkinter import Tk, PhotoImage, Button\n",
    "\n",
    "win=Tk()\n",
    "win.title(\"ألة حاسبة\")\n",
    "win.geometry(\"400x300\")\n",
    "win.resizable(0,0)\n",
    "photo = PhotoImage(file = \"img\\calculator.png\")\n",
    "win.iconphoto(False,photo)\n",
    "b1=Button(win, text='1',width=10,height=2).pack(side='right',padx=6)\n",
    "b2=Button(win, text='2',width=10, height=2).pack(side='right',padx=3)\n",
    "b3=Button(win, text='3',width=10,height=2).pack(side='right',padx=3)\n",
    "b4=Button(win, text='4',width=10,height=2).pack(side='right',padx=3)\n",
    "b5=Button(win, text='5',width=10, height=2).pack(side='right',padx=3)\n",
    "b6=Button(win, text='6',width=10,height=2).pack(side='right',padx=3)\n",
    "win.mainloop()\n",
    "\n",
    "<div class=arabic>\n",
    "ولتغلب على هذه المشكلة نحتاج الى عمل حيلة تمكننا من ترتيب الازرار في صفوف. ويمكن عمل هذه الحيلة باستدعاء الصنف اطار Frame من المكتبة Tkinter بحيث نعمل اطار لك لكل صف ونرتب الاطارات في النافذه بشكل عمودي  ونرتب الازرار داخل الاطارات بشكل افقي كما يلي:\n",
    "</div>\n",
    "\n",
    "from tkinter import Tk, PhotoImage, Button, Frame\n",
    "\n",
    "win=Tk()\n",
    "win.title(\"ألة حاسبة\")\n",
    "win.geometry(\"400x300\")\n",
    "win.resizable(0,0)\n",
    "photo = PhotoImage(file = \"img\\calculator.png\")\n",
    "win.iconphoto(False,photo)\n",
    "\n",
    "row1=Frame(win)\n",
    "row1.pack()\n",
    "b1=Button(row1, text='1',width=10,height=2).pack(side='right',padx=3)\n",
    "b2=Button(row1, text='2',width=10, height=2).pack(side='right',padx=3)\n",
    "b3=Button(row1, text='3',width=10,height=2).pack(side='right',padx=3)\n",
    "\n",
    "row2=Frame(win)\n",
    "row2.pack()\n",
    "b4=Button(row2, text='4',width=10,height=2).pack(side='right',padx=3)\n",
    "b5=Button(row2, text='5',width=10, height=2).pack(side='right',padx=3)\n",
    "b6=Button(row2, text='6',width=10,height=2).pack(side='right',padx=3)\n",
    "win.mainloop()\n",
    "\n",
    "<div class=arabic>\n",
    "لنقم الان باضافة كل ما نحتاجه من ازار الى النافذة الرئيسية باستخدام الحيلة السابقة ليصبح الكود البرمجي بالشكل التالي:\n",
    "</div>\n",
    "\n",
    "from tkinter import Tk, PhotoImage, Button, Frame\n",
    "\n",
    "win=Tk()\n",
    "win.title(\"ألة حاسبة\")\n",
    "win.geometry(\"400x300\")\n",
    "win.resizable(0,0)\n",
    "photo = PhotoImage(file = \"img\\calculator.png\")\n",
    "win.iconphoto(False,photo)\n",
    "\n",
    "row1=Frame(win)\n",
    "row1.pack()\n",
    "b_mult=Button(row1, text='x',width=10,height=2).pack(side='right',padx=3)\n",
    "b9=Cal_Button(row1, text='9').pack(side='right',padx=3)\n",
    "b8=Button(row1, text='8',width=10,height=2).pack(side='right',padx=3)\n",
    "b7=Button(row1, text='7',width=10,height=2).pack(side='right',padx=3)\n",
    "\n",
    "row2=Frame(win)\n",
    "row2.pack()\n",
    "b_minus=Button(row2, text='-',width=10,height=2).pack(side='right',padx=3)\n",
    "b6=Button(row2, text='6',width=10, height=2).pack(side='right',padx=3)\n",
    "b5=Button(row2, text='5',width=10,height=2).pack(side='right',padx=3)\n",
    "b5=Button(row2, text='4',width=10,height=2).pack(side='right',padx=3)\n",
    "\n",
    "row3=Frame(win)\n",
    "row3.pack()\n",
    "b_plus=Button(row3, text='+',width=10,height=2).pack(side='right',padx=3)\n",
    "b3=Button(row3, text='6',width=10, height=2).pack(side='right',padx=3)\n",
    "b2=Button(row3, text='5',width=10,height=2).pack(side='right',padx=3)\n",
    "b1=Button(row3, text='4',width=10,height=2).pack(side='right',padx=3)\n",
    "\n",
    "row4=Frame(win)\n",
    "row4.pack()\n",
    "b_equal=Button(row4, text='=',width=10,height=2).pack(side='right',padx=3)\n",
    "b_dot=Button(row4, text='.',width=10, height=2).pack(side='right',padx=3)\n",
    "b0=Button(row4, text='0',width=10,height=2).pack(side='right',padx=3)\n",
    "b_sign=Button(row4, text='+/-',width=10,height=2).pack(side='right',padx=3)\n",
    "win.mainloop()\n",
    "\n",
    "<div class=arabic>\n",
    "لو اردنا ان نقوم باجراء اي تعديل على احد خصائص الازرار في الكود السابق فاننا سوف نجد انفسنا مضطرىن الى اجراء هذا التغيير على كافة الازرار الموجودة فتصبح العملية مرهقة للغاية. لذلك يكون من الانسب ان نعمل صنف معدل للازرار بحيث يصبح هذا الصتف هو الصنف الاساسي الذي تنسخ منه بقية الازرار وعندها يصبح التعديل على الصنف يكفي لاجراء التعديل على كافة الازرار الموجودة كما في الكود التالي:\n",
    "</div>\n",
    "\n",
    "from tkinter import Tk, PhotoImage, Button, Frame\n",
    "\n",
    "win=Tk()\n",
    "win.title(\"ألة حاسبة\")\n",
    "win.geometry(\"400x300\")\n",
    "win.resizable(0,0)\n",
    "photo = PhotoImage(file = \"img\\calculator.png\")\n",
    "win.iconphoto(False,photo)\n",
    "\n",
    "class Cal_Button(Button):\n",
    "    def __init__(self,*args,**kwargs):\n",
    "        Button.__init__(self,*args,**kwargs)\n",
    "        self[\"width\"]=9\n",
    "        self[\"height\"]=2\n",
    "        self[\"font\"]=15\n",
    "\n",
    "row1=Frame(win)\n",
    "row1.pack()\n",
    "b_mult=Cal_Button(row1, text='x',width=10,height=2).pack(side='right',padx=3)\n",
    "b9=Cal_Button(row1, text='9').pack(side='right',padx=3)\n",
    "b8=Cal_Button(row1, text='8',width=10,height=2).pack(side='right',padx=3)\n",
    "b7=Cal_Button(row1, text='7',width=10,height=2).pack(side='right',padx=3)\n",
    "\n",
    "row2=Frame(win)\n",
    "row2.pack()\n",
    "b_minus=Cal_Button(row2, text='-',width=10,height=2).pack(side='right',padx=3)\n",
    "b6=Cal_Button(row2, text='6',width=10, height=2).pack(side='right',padx=3)\n",
    "b5=Cal_Button(row2, text='5',width=10,height=2).pack(side='right',padx=3)\n",
    "b5=Cal_Button(row2, text='4',width=10,height=2).pack(side='right',padx=3)\n",
    "\n",
    "row3=Frame(win)\n",
    "row3.pack()\n",
    "b_plus=Cal_Button(row3, text='+',width=10,height=2).pack(side='right',padx=3)\n",
    "b3=Cal_Button(row3, text='6',width=10, height=2).pack(side='right',padx=3)\n",
    "b2=Cal_Button(row3, text='5',width=10,height=2).pack(side='right',padx=3)\n",
    "b1=Cal_Button(row3, text='4',width=10,height=2).pack(side='right',padx=3)\n",
    "\n",
    "row4=Frame(win)\n",
    "row4.pack()\n",
    "b_equal=Cal_Button(row4, text='=',width=10,height=2).pack(side='right',padx=3)\n",
    "b_dot=Cal_Button(row4, text='.',width=10, height=2).pack(side='right',padx=3)\n",
    "b0=Cal_Button(row4, text='0',width=10,height=2).pack(side='right',padx=3)\n",
    "b_sign=Cal_Button(row4, text='+/-',width=10,height=2).pack(side='right',padx=3)\n",
    "win.mainloop()\n",
    "\n",
    "<div class=arabic>\n",
    "ثانياً: طريقة تحديد المحاور place\n",
    "</div>\n",
    "\n",
    "<div class=arabic>\n",
    "ثالثاً: طريقة الجدول grid\n",
    "</div>\n",
    "\n",
    "<div class=arabic>\n",
    "لنقم الان باضافة ازرار الالة الحاسبة وذلك باستدعاء صنف الزر Button من مكتبة Tkinter  ولتعمل منه عدة نسخ لتمثل ازرار الالة الحاسبة كما يلي:\n",
    "</div>\n",
    "\n",
    "<div class=arabic>\n",
    "لنقم الان باضافة المكان الذي سوف تظهر فيه العمليات الحسابية ونتائجها. سوف نحتاج لاستدعاء الصنف Label من مكتبة tkinter وعمل نسخة من هذا الصنف واسنادها للمتغير display كما في المثال التالي:\n",
    "</div>\n",
    "\n",
    "from tkinter import Tk, PhotoImage, Label\n",
    "\n",
    "win=Tk()\n",
    "win.title(\"ألة حاسبة\")\n",
    "win.geometry(\"400x300\")\n",
    "win.resizable(0,0)\n",
    "photo = PhotoImage(file = \"img\\calculator.png\")\n",
    "win.iconphoto(False,photo)\n",
    "display=Label(win,text=\"0\")\n",
    "win.mainloop()\n",
    "\n",
    "from tkinter import Tk, PhotoImage, Label\n",
    "\n",
    "win=Tk()\n",
    "win.title(\"ألة حاسبة\")\n",
    "win.geometry(\"400x300\")\n",
    "win.resizable(0,0)\n",
    "photo = PhotoImage(file = \"img\\calculator.png\")\n",
    "win.iconphoto(False,photo)\n",
    "display=Label(win,text=\"0\")\n",
    "display.pack()\n",
    "win.mainloop()\n",
    "\n",
    "from tkinter import Tk, PhotoImage, Label\n",
    "\n",
    "win=Tk()\n",
    "win.title(\"ألة حاسبة\")\n",
    "win.geometry(\"400x300\")\n",
    "win.resizable(0,0)\n",
    "photo = PhotoImage(file = \"img\\calculator.png\")\n",
    "win.iconphoto(False,photo)\n",
    "display=Label(win,text=\"0.0000000\",bg='yellow',width=42,font=16,justify='right')\n",
    "display.pack()\n",
    "win.mainloop()\n",
    "\n",
    "<div class=arabic>\n",
    "ثانياً: مكتبة PyQt5\n",
    "</div>\n",
    "\n",
    "<div class=arabic>\n",
    "ثالثاً: مكتبة Kivy\n",
    "</div>\n",
    "\n",
    "pip install kivy\n",
    "\n",
    "from kivy.app import App\n",
    "from kivy.uix.button import Button\n",
    "\n",
    "class LanguageLearnerApp(App):\n",
    "    def build(self):\n",
    "        return Button(text=\"Hello World!\",\n",
    "                     size=(100,100),\n",
    "                     pos=(100,100))\n",
    "LanguageLearnerApp().run()\n",
    "\n",
    "<div class=arabic>\n",
    "رابعاً: مكتبة PyGUI</div>\n",
    "\n",
    "<div class=arabic></div>\n",
    "\n",
    "<div class=arabic>\n",
    "<hr class=horizontal>\n",
    "<center>\n",
    "<a id=\"chapter3\"></a>\n",
    "<h1 class=title>\n",
    "الفصل السابع : مكتبة Numpy\n",
    "</h1>\n",
    "</center>\n",
    "<hr class=horizontal>\n",
    "</div>\n",
    "\n",
    "<div class=arabic>\n",
    "لانشاء مصفوفة صفرية يمكننا استخدام الدالة ()zeros من كتبة numpy بحيث نضع بين قوسي الدالة مقياس المصفوفة الصفرية التي نرغب في انشائها كما في الامثلة التالية: \n",
    "</div>\n",
    "\n",
    "import numpy as np\n",
    "np.zeros(4)\n",
    "\n",
    "np.zeros([3,4])\n",
    "\n",
    "<div class=arabic>\n",
    "لاحظ استخدامنا لقائمة داخل قوسي الدالة ()zeros عندما تكون المصوفة غير احدية\n",
    "</div>\n",
    "\n",
    "<div class=arabic>\n",
    "لانشاء مصفوفة احادية ذات قيم متباعده عن بعضها البعض بقيمة معينة نستخدم الدالة ()arange بنفس الطريقة التي تعلمنا استخدامها مع الدالة  range() عند انشاء القوائم في بايثون. شاهد المثال التالي:\n",
    "</div>\n",
    "\n",
    "np.arange(4,6,0.1)\n",
    "\n",
    "<div class=arabic>\n",
    "لاحظ ان هناك اختلاف جوهري بين دالة ()arange في مكتبة numpy ودالة ()range في مكتبة بايثون القياسية وهو ان الدالة ()arange في numpy تمكننا من استخدام الاعداد الصحيحية والعشرية على حد سواء. بينما الدالة ()range فانها تستوجب استخدام اعداد صحيحة فقط كما في المثال التالي:\n",
    "</div>\n",
    "\n",
    "np.arange(3,5,0.1)\n",
    "\n",
    "np.arange(3.0,5.0)\n",
    "\n",
    "range(3,5)\n",
    "\n",
    "range(3.0,5.0)\n",
    "\n",
    "\n",
    "<div class=arabic>\n",
    "كما يمكن انجاز المهمة السابقة باستخدام الدالة ()linspace ايضا من مكتبة numpy كما في المثال التالي:\n",
    "</div>\n",
    "\n",
    "np.linspace(3.0,5.0,21)\n",
    "\n",
    "<div class=arabic>\n",
    "لاحظ ان الفرق بين الدالتين ()arange والدالة ()linspace هو ان الدالة ()arange تتطلب مقدار التباعد في المجال المعظى. واذا لم يكن مقدار التباعد معطى فان القيمة الافتراضية تكون 1. اما الدالة ()linspace فهي تتطلب المجال وعدد القيم التي يجب انشاؤها بحيث تقوم بتحديد مقدار التباعد تلقائيا من ذاتها. في حال عدم تزويد الدالة ()linspace بعدد القيم المطلوبة فان القيمة الافتراضية لعدد القيم التي سوف تنتجها الدالة سوف يكون 50 كما في المثال التالي: \n",
    "</div>\n",
    "\n",
    "ar1=np.linspace(3,4)\n",
    "len(ar1)\n",
    "\n",
    "<div class=arabic>\n",
    "لاحظ ايضا ان الدالة ()linspace تتطلب ان يكون مجال المصفوفة يتكون من قيمتين قيمة للبداية وقيمة للنهاية اما الدالة arange() فعند تزويدها بقيمة واحدة في المجال فانها سوف تفترض ان هذه القيمة هي قيمة النهاية وقيمة البداية للمجال سوف تفترض انها مساوية للعدد 0. كما في المثال التالي:\n",
    "</div>\n",
    "\n",
    "np.arange(4)\n",
    "\n",
    "np.linspace(4)\n",
    "\n",
    "<div class=arabic><h2 class=title>تمارين استكشافية</h2></div>\n",
    "\n",
    "<div class=arabic>\n",
    "١- استكشف الفرق بين استخدام قيمة واحدة مع الدالة ()range من مكتبة بايثون القياسية والدالة ()arange من مكتبة numpy ؟\n",
    "</div>\n",
    "\n",
    "\n",
    "\n",
    "<div class=arabic>\n",
    "٢- استكشف الفرق في اخر قيمة تنتج من انشاء مصفوفتين احاديتن احدهما تم انشاؤه باستخدام الدالة ()arange  والاخرى باستخدام الدالة ()linspace من مكتبة numpy للمجال من 2 الى 3 متباعدة عن بعضها البعض بمقدار 0.5 ؟\n",
    "</div>\n",
    "\n",
    "\n",
    "\n",
    "<div class=arabic>\n",
    "<hr class=horizontal>\n",
    "<center>\n",
    "<a id=\"chapter3\"></a>\n",
    "<h1 class=title>\n",
    "الملاحق : تحويل الاعداد الثنائية الى عشرية والعكس\n",
    "</h1>\n",
    "</center>\n",
    "<hr class=horizontal>\n",
    "</div>\n",
    "\n",
    "<div class=arabic>\n",
    "<hr class=horizontal>\n",
    "<center>\n",
    "<a id=\"chapter3\"></a>\n",
    "<h1 class=title>\n",
    "الملاحق : مكتبة geopandas\n",
    "</h1>\n",
    "</center>\n",
    "<hr class=horizontal>\n",
    "</div>\n",
    "\n",
    "geopandas depends on the following libraries:\n",
    "1-pandas : a library for data analysis\n",
    "2-shapely: for geometeric shapes (GEOS)\n",
    "3-fiona:  library for reading and writing files (OGR)\n",
    "4-pyproj: library for cartographic projections (PROJ.4)\n",
    "5-decartes : library for map plotting.\n",
    "6-geopy: geocoding\n",
    "7-rtree: spatial analysis\n",
    "8-pysal: advanced spatial analysis, colaring maps library\n",
    "\n",
    "\n",
    "Shapefile contents (usually comes as zip file):\n",
    "\n",
    "shp: shapefile- mapable geometry\n",
    "dbf: database file- extra information\n",
    "prj: projection file to deal with how a location is determine on earth.\n",
    "shx: index file to make reading file faster.\n",
    "\n",
    "to convert CSV file with longitude and latitude data to geodataframe follow the these steps:\n",
    "1. read csv file through pandas library\n",
    "df=pd.read_csv(\"file.csv\")\n",
    "2. create points from log/lat data through shapely library\n",
    "point=df.apply(lambda raw: Point(raw.longitude,raw.latitude, axis=1)\n",
    "3. create the geodataframe from the pandas dataframe and shapely point object.\n",
    "gdf=gpd.GeoDataFrame(df,geometery=points)\n",
    "4. confirm to the geodataframe that we are using log/lat data\n",
    "gdf.crs={\"init\":\"epsg:4326\"}\n",
    "\n",
    "\n",
    "crs : coordinate reference system\n",
    "epsg: European petroleum survey group.\n",
    "\n",
    "gdf.to_crs(epsg=xxxx) to convert to different projection systems.\n",
    "\n",
    "remove map coordinate by using\n",
    "ax.axis(\"off\")\n",
    "\n",
    "coloring shape:\n",
    "1. fill\n",
    "2. stroke/line/edge-outline\n",
    "\n",
    "<div class=arabic>\n",
    "<hr class=horizontal>\n",
    "<center>\n",
    "<a id=\"chapter3\"></a>\n",
    "<h1 class=title>\n",
    "الفصل الثامن : المنسقات\n",
    "</h1>\n",
    "</center>\n",
    "<hr class=horizontal>\n",
    "</div>\n",
    "\n",
    "<div class=arabic>\n",
    "المنسقات هي عبارة عن دوال يمكنها استدعاء دوال و ارجاع دوال كمخرجات لهذه الدوال.لاحظ المثال التالي للتوضيح\n",
    "\n",
    "</div>\n",
    "\n",
    "def decorated_by(func):\n",
    "    func.__doc__ +=\"تم تنسيق الدالة بواسطة دالة منسقة\"\n",
    "    return func\n",
    "\n",
    "<div class=arabic>\n",
    "لنقوم الان بتعريف دالة بسيطة تقوم بجمع رقمين وارجاع ناتج الجمع. كما تحتوي هذه الدالة على ملاحظات تفيد وظيفة الداله كما في المثال التالي:\n",
    "</div>\n",
    "\n",
    "def add(x,y):\n",
    "    '''this function add two numbers and return their sum \\n'''\n",
    "    return x+y\n",
    "\n",
    "<div class=arabic>\n",
    "لاحظ انه عند استخدام الامر \\__doc\\__ على الدالة add فانها تقوم باظهار الملاحظات تم كتابتها لتوضيح وظيفة الدالة كما في المثال التالي:\n",
    "</div>\n",
    "\n",
    "print(add.__doc__)\n",
    "\n",
    "add=decorated_by(add)\n",
    "\n",
    "print(add.__doc__)\n",
    "\n",
    "<div class=arabic>\n",
    "لاحظ ان الدالة المنسقة decorated_by اخذت الدالة add كمدخلات وقامت بتعديل الملاحظات الخاصة بالدالة بحيث اضافة عليه سطر اخر من الملاحظات واعادة الدالة بعد التعديل عليها. لذلك عندما قمنا بطباعة ملاحظات الدالة المعدلة وجدنا التعديل قد ظهر في امر الطابعة الثاني.\n",
    "\n",
    "</div>\n",
    "\n",
    "<div class=arabic>\n",
    "ان عملية تعديل دالة واعادة تسميتها بنفص الاسم قد يسبب بعض التشويش في ذهن المبرمج لذلك تم استحداث طريقة سلهة لاحداث التعديل على الدالة دون اللجوء الى تغيير اسمها وذلك باستخدم الرمز @ متعبوعا باسم الدالة المنسقة فوق الدالة المراد التعديل عليها كما في المثال التالي:\n",
    "</div>\n",
    "\n",
    "def decorated_by2(func):\n",
    "    func.__doc__ +=\"تم تنسيق الدالة بصورة  اسهل\"\n",
    "    return func\n",
    "\n",
    "@decorated_by2\n",
    "def add(x,y):\n",
    "    '''this function add two numbers and return their sum \\n'''\n",
    "    return x+y\n",
    "\n",
    "print(add.__doc__)\n",
    "\n",
    "\n",
    "\n",
    "<div class=arabic>\n",
    "<h2>ترتيب المنسقات</h2>\n",
    "يمكن تطبيق اكثر من دالة منسقة على دالة اخرى كما في المثال التالي:\n",
    "</div>\n",
    "\n",
    "def decorated_by_one(func):\n",
    "    func.__doc__ +='المنسقة الاولى \\n'\n",
    "    return func\n",
    "def decorated_by_two(func):\n",
    "    func.__doc__ +='المنسقة الثانية'\n",
    "    return func\n",
    "\n",
    "@decorated_by_two\n",
    "@decorated_by_one\n",
    "def add(x,y):\n",
    "    '''this function add two numbers and return their sum \\n'''\n",
    "    return x+y\n",
    "\n",
    "print(add.__doc__)\n",
    "\n",
    "<div class=arabic>\n",
    "وما يجب ملاحظته من المثال السابق هو طريقة تطبيق المنسقات يبدا من الاسفل الى الاعلى. فلقد تم تطبيق الدالة المنسقة decorated_by_one  اولا ثم تم تطبيق الدالة المنسقة الثانية decorated_by_two. لذلك يجب التنبه الى عملية الترتيب هذه.\n",
    "</div>\n",
    "\n",
    "<div class=arabic>\n",
    "تمرين: قم بعكس ترتيب المنسقات في المثال السابق بحيث تصبح المنسقة decorated_by_two تقع مباشرة فوق الدالة add ثم ضع المنسقة decorated_by_one فوق المنسقة الثانية ولاحظ الفرق بين نتيجة هذا التغيير ونتيجة المثال السابق؟\n",
    "</div>\n",
    "\n",
    "<div class=arabic>\n",
    "<h2>اين يمكنا استخدام المنسقات</h2>\n",
    "مكتبة بايثون الاساسية تحتوي على منسقات فمثلا عندما نريد ان نستحدم دالة في مصنف لا يحتاج الى على عمل نسخة من المصنف فاننا نستخدم المنسقة @classmethod او @staticmethod.\n",
    "كما ان هناك اطارات عمل مثل flask تستخدم المنسقة @app.route للربط بين الدوال و عناوين الصفحات عندما تستدعى من المتصفح. وكذلك اطار العمل  Django والذي يستحدم المنسقة @login_required للتأكد من تسجيل الدخول قبل الدخول الى صفحات الموقع.\n",
    "كما يمكن استخدام المنسقات عندما نرغب بالتاكد من ملاءمة مدخلات دالة ما من حيث القيمة والنوع كما في المثال التالي: \n",
    "</div>\n",
    "\n",
    "add.__annotations__\n",
    "\n",
    "<div class=arabic>\n",
    "<h2>أهمية المنسقات</h2>\n",
    "استخدام المنسقات يعتبر طريقة ذكية في كتابة الكود البرمجي فهي تساعد على سهولة قراءته واكتشاف الاخطاء به. كما ان استخدام المنسقات يجعل الكود البرمجي مستقل الاجزاء بحيث يمكن التعديل على الدالة باضافة او ازالة دون المساس بالكود البرمجي الموجود داخل الدالة المراد التعديل عليها.\n",
    "</div>"
   ]
  }
 ],
 "metadata": {
  "kernelspec": {
   "display_name": "Python 3 (ipykernel)",
   "language": "python",
   "name": "python3"
  },
  "language_info": {
   "codemirror_mode": {
    "name": "ipython",
    "version": 3
   },
   "file_extension": ".py",
   "mimetype": "text/x-python",
   "name": "python",
   "nbconvert_exporter": "python",
   "pygments_lexer": "ipython3",
   "version": "3.8.10"
  }
 },
 "nbformat": 4,
 "nbformat_minor": 5
}
