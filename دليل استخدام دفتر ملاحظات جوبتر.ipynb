{
 "cells": [
  {
   "cell_type": "code",
   "execution_count": 1,
   "id": "2d5e5015",
   "metadata": {},
   "outputs": [
    {
     "data": {
      "text/html": [
       "<style type=\"text/css\">@import url('https://www.fontstatic.com/f=yassin,amiri-quran,basim-marah,b-compset');\n",
       "\n",
       "\n",
       ".title{\n",
       "direction: rtl;\n",
       "font-size:100px;\n",
       "padding-right: 15px;\n",
       "line-height:10px;\n",
       "font-family:basim-marah;\n",
       "\n",
       "}\n",
       "\n",
       ".arabic{\n",
       "direction:rtl;\n",
       "font-size:20px;\n",
       "line-height:40px;\n",
       "padding-right: 1cm;\n",
       "padding-left: 1cm;\n",
       "text-align:justify;\n",
       "font-family:amiri-quran;\n",
       "}\n",
       "\n",
       ".horizontal{\n",
       "height:2px;\n",
       "border:none;\n",
       "color:#333;\n",
       "background-color:#333;\n",
       "width:75%;\n",
       "}\n",
       ".jupyter-widgets{\n",
       "    font-size:20px;\n",
       "    direction:rtl;\n",
       "    margin-right:25px;\n",
       "    font-family:amiri-quran;\n",
       "        \n",
       "}\n",
       ".widget-radio-box input{\n",
       "    float:right;\n",
       "    direction:ltr;\n",
       "    margin: 0 calc( var(--jp-widgets-input-padding) * 2 ) 0 10px;\n",
       "    text-align:right;\n",
       "    height: 30px;\n",
       "}\n",
       ".widget-radio{\n",
       "    flex-direction: column;\n",
       "    width:unset;\n",
       "    \n",
       "}\n",
       ".widget-label{  \n",
       "    font-family:amiri-quran;\n",
       "    font-size:18px;\n",
       "    height: 40px;\n",
       "}\n",
       "\n",
       ".widget-radio-box label {\n",
       "    font-size:18px;\n",
       "    height: 30px;\n",
       "}\n",
       "\n",
       ".true-grade{\n",
       "    color:green;\n",
       "}\n",
       ".false-grade{\n",
       "    color:red;\n",
       "}\n",
       "label:lang(en){\n",
       "    direction:ltr;\n",
       "    text-align:right;\n",
       "}\n",
       ".s{\n",
       "    line-height:unset;\n",
       "    height:unset;\n",
       "}\n",
       ".CodeMirror-wrap {\n",
       "    font-size:16px;\n",
       "}\n",
       "\n",
       ".basic_table{\n",
       "    font-size:20px;\n",
       "    color:\"green\";\n",
       "}</style>"
      ],
      "text/plain": [
       "<IPython.core.display.HTML object>"
      ]
     },
     "execution_count": 1,
     "metadata": {},
     "output_type": "execute_result"
    }
   ],
   "source": [
    "from IPython.core.display import HTML\n",
    "\n",
    "def _set_css_style(css_file_path):\n",
    "   \"\"\"\n",
    "   Read the custom CSS file and load it into Jupyter.\n",
    "   Pass the file path to the CSS file.\n",
    "   \"\"\"\n",
    "\n",
    "   styles = open(css_file_path, \"r\").read()\n",
    "   s = '<style type=\"text/css\">%s</style>' % styles     \n",
    "   return HTML(s)\n",
    "_set_css_style(\"custom.css\")"
   ]
  },
  {
   "cell_type": "markdown",
   "id": "83d11ff2",
   "metadata": {},
   "source": [
    "<div class=arabic><h2 class=title>الاجزاء الرئيسية</h2></div>"
   ]
  },
  {
   "cell_type": "markdown",
   "id": "ae5a5637",
   "metadata": {},
   "source": [
    "<div class=arabic>\n",
    "يتكون دفتر ملاحظات جوبتر الكلاسيكي من اربعه اجزاء رئيسية موضحة في الصورة التالية:\n",
    "</div>"
   ]
  },
  {
   "cell_type": "markdown",
   "id": "d84f96da",
   "metadata": {},
   "source": [
    "<img src=\"img/main-parts.PNG\">"
   ]
  },
  {
   "cell_type": "markdown",
   "id": "8ed93b84",
   "metadata": {},
   "source": [
    "<div class=arabic>\n",
    "    <h2 class=title>شريط العناوين</h2>\n",
    "</div>"
   ]
  },
  {
   "cell_type": "markdown",
   "id": "f81c6202",
   "metadata": {},
   "source": [
    "<div class=arabic>\n",
    "يحتوي شريط العناوين في دفتر ملاحظات جوبتر على خمسة اجزاء كما هو موضح في الصورة السابقة. ابتداء من اليمن يوجد زر logout لفك الارتباط بالخادم المحلي الذي يعمل عليه دفتر الملاحظات. عند الضغط على هذا الزر سوف يتم الغاء الارتباط بين جميع صفحات دفتر ملاحظات جوبتر المفتوحة في المتصفح والخادم المحلي الذي يعمل عليه جوبتر (الشاشة السوداء). وسوف ينقلك الى صفحة اخرى تساعدك على اعادة الربط بين الاثنين كما هو موضح في الصورة التالية:\n",
    "</div>"
   ]
  },
  {
   "cell_type": "markdown",
   "id": "70805756",
   "metadata": {},
   "source": [
    "<img src=\"img/login-page.PNG\">"
   ]
  },
  {
   "cell_type": "markdown",
   "id": "cda7a415",
   "metadata": {},
   "source": [
    "<div class=arabic>\n",
    "عند الضغط على رابط الدخول login page لاعادة الارتباط بخادم جوبتر المحلي سوف تظهر لك الصفحة التالية:\n",
    "</div>"
   ]
  },
  {
   "cell_type": "markdown",
   "id": "d7cfae29",
   "metadata": {},
   "source": [
    "<img src=\"img/token-page.PNG\">"
   ]
  },
  {
   "cell_type": "markdown",
   "id": "c0d91655",
   "metadata": {},
   "source": [
    "<div class=arabic>\n",
    "لاعادة الارتباط بالخادم المحلي تحتاج الى رمز token مكون من ارقام وحروف يتم انتاجه عند بداية تشغيل الخادم المحلى في محث الاوامر للنظام الذي يعمل عليه الخادم كما هو موضح بالصورة التالية:\n",
    "</div>"
   ]
  },
  {
   "cell_type": "markdown",
   "id": "107b9c98",
   "metadata": {},
   "source": [
    "<img src=\"img/local-server.PNG\">"
   ]
  },
  {
   "cell_type": "markdown",
   "id": "f0a6e6a0",
   "metadata": {},
   "source": [
    "<div class=arabic>\n",
    "عند ادخال هذا الرمر في صفحة اعادة الارتباط بالخادم والضغط على زر login سوف تفتح لك صفحة دفتر ملاحظات جوبتر الرئيسية التي تحتوي على قائمة الملفات الموجودة في جهازك تماما كما لو انك بدأت تشغيل دفتر ملاحظات جوبتر.\n",
    "</div>"
   ]
  },
  {
   "cell_type": "markdown",
   "id": "8b2e6b60",
   "metadata": {},
   "source": [
    "<div class=arabic>\n",
    "كما تسمح لك صفحة اعادة الارتباط السابقة باستخدام الرمر لعمل كلمة مرور خاصة بك اذا اردت ذلك من خلال الخيار الموجود في اخر الصفحة.\n",
    "</div>"
   ]
  },
  {
   "cell_type": "markdown",
   "id": "52b8c8cf",
   "metadata": {},
   "source": [
    "<div class=arabic>\n",
    "كمعلومه اضافية يمكن استخدام الرابط بالكامل الذي يحتوي على الرمر لفتح دفتر ملاحظات جوبتر في متصفح اخر غير المتصفح الافتراضي الذي تعمل عليه. فمثلا اذا كان متصفحك الافتراضي ميكروسوفت ادج MS Edge واردت العمل على متصفح كروم Chrome كل ما عليك فعله هو نسخ الرابط الذي يحتوي على الرمز والصاقه في صفحة جديدة من متصفح كروم.\n",
    "</div>"
   ]
  },
  {
   "cell_type": "markdown",
   "id": "4b1209b5",
   "metadata": {},
   "source": [
    "<div class=arabic>\n",
    "الجزء الثاني من شريط العناوين يحتوي على شعار اللغة التي يعمل عليها حاليا دفتر ملاحظات جوبتر والمتمثل في شعار لغة بايثون بالنسبة للصورة السابقة.\n",
    "</div>"
   ]
  },
  {
   "cell_type": "markdown",
   "id": "25d48573",
   "metadata": {},
   "source": [
    "<div class=arabic>\n",
    "الجزء الثالث من شريط العناوين يحتوي على حالة حفظ الملف الذي نعمل عليه واخر وقت تمت فيه لعملية.\n",
    "</div>"
   ]
  },
  {
   "cell_type": "markdown",
   "id": "aaed44be",
   "metadata": {},
   "source": [
    "<div class=arabic>\n",
    "الجزء الرابع من شريط العناوين هو اسم الملف الذي نعمل عليه والذي يتم اعطاءة الاسم untitled بشكل افتراضي عند بداية انشائه. ويمكن تغيير اسم الملف بالضغط على اسم الملف  وادخال الاسم الذي ترغب فيه ثم الضغط على زر اعادة التسمية Rename كما هو موضح بالصورة التالية:\n",
    "</div>"
   ]
  },
  {
   "cell_type": "markdown",
   "id": "4695589b",
   "metadata": {},
   "source": [
    "<img src=\"img/rename.PNG\">"
   ]
  },
  {
   "cell_type": "markdown",
   "id": "a5e3d504",
   "metadata": {},
   "source": [
    "<div class=arabic>\n",
    "اخر اجزاء من شريط العناوين هو شعار دفتر الملاحظات جوبتر والذي عند الضغط عليه سوف ينقلك الى صفحة دفتر الملاحظات الرئيسية التي تحتوى على ملفات جهازك. \n",
    "</div>"
   ]
  },
  {
   "cell_type": "markdown",
   "id": "f2310a86",
   "metadata": {},
   "source": [
    "<div class=arabic>\n",
    "    <h2 class=title>\n",
    "    شريط القوائم\n",
    "    </h2>\n",
    "</div>"
   ]
  },
  {
   "cell_type": "markdown",
   "id": "e64b2ab7",
   "metadata": {},
   "source": [
    "<div class=arabic>\n",
    "يتكون شريط المهام في دفتر ملاحظات جوبتر من خمسة اجزاء رئيسية كما هو موضح بالصورة التالية:\n",
    "</div>"
   ]
  },
  {
   "cell_type": "markdown",
   "id": "5d33b1a6",
   "metadata": {},
   "source": [
    "<img src=\"img/main-list.PNG\">"
   ]
  },
  {
   "cell_type": "markdown",
   "id": "71ea8175",
   "metadata": {},
   "source": [
    "<div class=arabic>\n",
    "ابتداء من اليمين يمكن شرح مكونات هذا الشريط على النحو التالي:\n",
    "</div>"
   ]
  },
  {
   "cell_type": "markdown",
   "id": "363e41e1",
   "metadata": {},
   "source": [
    "<div class=arabic>\n",
    "الجزء الاول من شريط القوائم هو وضع حالة مفسر اللغة التي يتعامل معها دفتر الملاحظات والمتمثل في دائرة تكون فارغة عندما لا يكون المفسر مشغولا باجراء اي عملية برمجية وتتحول الى دائرة سوداء عندما يكون مفسر اللغة مشغولا. يمكن ملاحظة التغير على هذا الدائرة عندما يقوم المفسر باجراء عمليات حسابية تحتاج وقتا طويلا لانجازها.\n",
    "</div>"
   ]
  },
  {
   "cell_type": "markdown",
   "id": "8e3180d1",
   "metadata": {},
   "source": [
    "<div class=arabic>\n",
    "الجزء الثاني من شريط القوائم يتمثل في اسم المفسر الذي يعمل معه دفتر الملاحظات\n",
    "</div>"
   ]
  },
  {
   "cell_type": "markdown",
   "id": "5019dcf3",
   "metadata": {},
   "source": [
    "<div class=arabic>\n",
    "الجزء الثالث يتمثل في وضع نمط لوحة المفاتيح فهذا الجزء يكون فارغا عندما نكون في نمط الاوامر ويتحول الى قلم عندما يكون وضع لوحة المفاتيح في نمط التحرير كما هو موضح بالصورتين التاليتين:\n",
    "</div>"
   ]
  },
  {
   "cell_type": "markdown",
   "id": "db4c439e",
   "metadata": {},
   "source": [
    "<img src=\"img/command-mode.PNG\"><img src=\"img/edit-mode.PNG\">"
   ]
  },
  {
   "cell_type": "markdown",
   "id": "650325f9",
   "metadata": {},
   "source": [
    "<div class=arabic>\n",
    "سوف نتحدث بشي من التفصيل عن هذين النمطين عندما نبدأ الحديث عن خلايا المحتوى\n",
    "</div>"
   ]
  },
  {
   "cell_type": "markdown",
   "id": "d62c9185",
   "metadata": {},
   "source": [
    "<div class=arabic>\n",
    "الجزء الرابع من شريط القوائم خاص بامان دفتر ملاحظات جوبتر كما هو موضح بالصورة التالية:\n",
    "</div>"
   ]
  },
  {
   "cell_type": "markdown",
   "id": "7d99194c",
   "metadata": {},
   "source": [
    "<img src=\"img/security-status.PNG\">"
   ]
  },
  {
   "cell_type": "markdown",
   "id": "5c68942d",
   "metadata": {},
   "source": [
    "<div class=arabic>\n",
    "والقيمة الافتراضية لهذا الوضع هو عدم الموثوقية وذلك لزيادة مستوى الامان في دفتر ملاحظات جوبتر وحماية مستخدمه. ويعود سبب وضع الحماية هذا لان دفتر ملاحظات جوبتر يمكن ان يحتوي على اكواد برمجية مخفية قد يؤدي تشغيلها عند بداية تشغيل الملف الى الاضرار بجهاز المستخدم. فالفيروسات الكمبيوترية ماهي الا اكواد برمجية لها تأثير تخريبي لذلك عند فتحك لدفتر ملاحظات جوبتر تأكد من موثوقية المصدر ومن مايفعله كل كود برمجي قبل تشغيله. ولتغيير وضع دفتر الملاحظات من غير موثوق الى موثوق يمكنك الضغط على حالة الامان وسف تظهر لك رسالة عما اذا كنت متأكد من موثوقية دفتر الملاحظات الذي انت بصدد تغييرحالة امانه ولتأكيد تغيير الحالة اضغط على زر ثق Trust كما هو موصح بالصورة التالية:\n",
    "</div>"
   ]
  },
  {
   "cell_type": "markdown",
   "id": "b5e4ad0b",
   "metadata": {},
   "source": [
    "<img src=\"img/change-security.PNG\">"
   ]
  },
  {
   "cell_type": "markdown",
   "id": "e32c91fb",
   "metadata": {},
   "source": [
    "<div class=arabic>\n",
    "الجزء الاخير من شريط القوائم هو جزء القوائم المنسدلة التقليدي الذي نجده في كثير من البرامج الاخرى. ولكون هذه القوائم متعارف عليها سوف نشرحها بايجاز من خلال الصور التالية:\n",
    "</div>"
   ]
  },
  {
   "cell_type": "markdown",
   "id": "d3a27771",
   "metadata": {},
   "source": [
    "<div class=arabic><h3 class=title>قائمة ملف File</h2></div><br>\n",
    "<img src=\"img/file-menu.PNG\">\n",
    "<br>"
   ]
  },
  {
   "cell_type": "markdown",
   "id": "d85294c5",
   "metadata": {},
   "source": [
    "<div class=arabic><h3 class=title>قائمة تحرير Edit</h2></div><br>\n",
    "<img src=\"img/edit-menu.PNG\">\n",
    "<br>"
   ]
  },
  {
   "cell_type": "markdown",
   "id": "935845d5",
   "metadata": {},
   "source": [
    "<div class=arabic><h3 class=title>قائمة معاينة View</h2></div><br>\n",
    "<img src=\"img/view-menu.PNG\">\n",
    "<br>"
   ]
  },
  {
   "cell_type": "markdown",
   "id": "4fdc483c",
   "metadata": {},
   "source": [
    "<div class=arabic><h3 class=title>قائمة ادراج Insert</h2></div><br>\n",
    "<img src=\"img/insert-menu.PNG\">\n",
    "<br>"
   ]
  },
  {
   "cell_type": "markdown",
   "id": "1df36d86",
   "metadata": {},
   "source": [
    "<div class=arabic><h3 class=title>قائمة خلية Cell</h2></div><br>\n",
    "<img src=\"img/cell-menu.PNG\">\n",
    "<br>"
   ]
  },
  {
   "cell_type": "markdown",
   "id": "3317cdd0",
   "metadata": {},
   "source": [
    "<div class=arabic><h3 class=title>قائمة مفسر Kernel</h2></div><br>\n",
    "<img src=\"img/kernel-menu.PNG\">\n",
    "<br>"
   ]
  },
  {
   "cell_type": "markdown",
   "id": "43d1d0fa",
   "metadata": {},
   "source": [
    "<div class=arabic><h3 class=title>قائمة مساعدة Help</h2></div><br>\n",
    "<img src=\"img/help-menu.PNG\">\n",
    "<br>"
   ]
  },
  {
   "cell_type": "markdown",
   "id": "ced2d468",
   "metadata": {},
   "source": [
    "<div class=arabic>\n",
    "    <h2 class=title>\n",
    "    شريط الادوات\n",
    "    </h2>\n",
    "</div>"
   ]
  },
  {
   "cell_type": "markdown",
   "id": "ad23a90c",
   "metadata": {},
   "source": [
    "<div class=arabic>\n",
    "يتكون شريط الادوات في دفتر ملاحظات جوبتر من 13 زر تقوم بتنفيذ مهام مختلفة كما هو موضح في الصورة التالية:\n",
    "</div>"
   ]
  },
  {
   "cell_type": "markdown",
   "id": "f2459af0",
   "metadata": {},
   "source": [
    "<img src=\"img/toolbar.PNG\">"
   ]
  },
  {
   "cell_type": "markdown",
   "id": "4c3f3a23",
   "metadata": {},
   "source": [
    "<div class=arabic>\n",
    "    <h2 class=title>\n",
    "        خلايا المحتوى\n",
    "    </h2>\n",
    "</div>"
   ]
  },
  {
   "cell_type": "markdown",
   "id": "7b1d6d8a",
   "metadata": {},
   "source": [
    "<div class=arabic>\n",
    "في دفتر ملاحظات جوبتر يوجد اربعة انواع من الخلايا:\n",
    "</div>"
   ]
  },
  {
   "cell_type": "markdown",
   "id": "0373d0a9",
   "metadata": {},
   "source": [
    "<div class=arabic>\n",
    "اولا: خلايا لكتابة الكود البرمجي code<br>\n",
    "    ثانيا: خلايا تنسيق النص Markdown <br>\n",
    "    ثالثا: خلايا تنسيق خاصة Raw nbConvert<br>\n",
    "    رابعا: خلايا كتابة العناوين Heading <br>\n",
    "    ويمكن التحويل بين هذه الانواع من خلال القائمة المنسدلة في شريط الادوات الموضحة في الصورة التالية:\n",
    "</div>"
   ]
  },
  {
   "cell_type": "markdown",
   "id": "524923f7",
   "metadata": {},
   "source": [
    "<img src=\"img/jup-cell-type.PNG\">"
   ]
  },
  {
   "cell_type": "markdown",
   "id": "c5dcbca5",
   "metadata": {},
   "source": [
    "<div class=arabic>\n",
    "او من خلال استخدام الاوامر المختصرة للوحة المفاتيح والتي سوف نتحدث عنها بالتفصيل لاحقا.\n",
    "</div>"
   ]
  },
  {
   "cell_type": "markdown",
   "id": "9f6ad365",
   "metadata": {},
   "source": [
    "<div class=arabic>\n",
    "    <h3 class=title>خلايا كتابة الكود\n",
    "        </h3>\n",
    "خلايا كتابة الكود البرمجي تتميز بوجود كلمة In وقوسين مربعين بعدها امام كل خلية كالخلية التي تلي هذا السطر\n",
    "</div>"
   ]
  },
  {
   "cell_type": "code",
   "execution_count": null,
   "id": "b31012ae",
   "metadata": {},
   "outputs": [],
   "source": []
  },
  {
   "cell_type": "markdown",
   "id": "62560565",
   "metadata": {},
   "source": [
    "<div class=arabic>\n",
    "عند تشغيل هذه الخلية بعد كتابة كود برمجي بداخلها يقوم دفتر ملاحظات جوبتر بارسال الكود البرمجي الموجود في هذه الخلية الى مفسر اللغة البرمجية المختارة kernel لتفسير الكود البرمجي واظهار النتائج. وعلى الرغم من ان دفتر ملاحظات جوبتر لديه القدرة على التعامل مع اكثر من لغة برمجية مثل جافا سكريبت وجوليا وغيرها الا اننا سوف نقتصر الحديث على مفسر بايثون لاننا الان بصدد تعلم لغة بايثون فقط.\n",
    "</div>"
   ]
  },
  {
   "cell_type": "markdown",
   "id": "e44df47e",
   "metadata": {},
   "source": [
    "<div class=arabic>\n",
    "كما يجب الاشارة الى ان نوع المفسر kernel يتم تحديده عند انشاء دفتر ملاحظات جديد من صفحة الملفات الرئيسية في جوبيتر كما هو موضح في الصورة التالية:\n",
    "</div>"
   ]
  },
  {
   "cell_type": "markdown",
   "id": "b229010e",
   "metadata": {},
   "source": [
    "<img src=\"img/choose-kernel.PNG\">"
   ]
  },
  {
   "cell_type": "markdown",
   "id": "6ff512aa",
   "metadata": {},
   "source": [
    "<div class=arabic>\n",
    "او من خلال قائمة ملف File في شريط القوائم عند انشاء دفتر ملاحظات جديد كما شرحنا سابقا.\n",
    "</div>"
   ]
  },
  {
   "cell_type": "markdown",
   "id": "616d7f42",
   "metadata": {},
   "source": [
    "<div class=arabic>\n",
    "الاقواس المربعة بعد كلمة In والتي تكون امام خلية الكود يكتب داخلها ترتيب تنفيذ كود الخلية وذلك لاعطاء المبرمج مدلولا على الترتيب الذي تم به تنفيذ الخلايا. فتنفيذ كود الخلايا في دفتر الملاحظات جوبتر ليس بالضرورة ان يتم بالترتيب من الاعلى الى الاسفل ولكن يمكن للمبرمج ان يتنقل بين الخلايا كيفما شاء وينفذ الاكواد التي بداخلها بالترتيب الذي يريده رغم ان الطريقة المتفق عليها هي التسلسل من الاعلى الى الاسفل ليسهل على المبرمج فهم وتتبع المنطق الذي كتب به الكود. \n",
    "</div>"
   ]
  },
  {
   "cell_type": "markdown",
   "id": "f8137794",
   "metadata": {},
   "source": [
    "<div class=arabic><h2 class=title>خلايا تنسيق النص Markdown</h2></div>"
   ]
  },
  {
   "cell_type": "markdown",
   "id": "cce9a9cc",
   "metadata": {},
   "source": [
    "<div class=arabic>\n",
    "تسمح خلايا تنسيق النص بالقيام بالكثير من المهام التي تسهل على المبرمج كتابة تقارير وشروحات احترافيه كما فعلنا نحن هنا عند كتابتنا لهذه الشروحات التي بين يديك. فيمكن من خلالها ادراج عناوين باحجام مختلفة والوان مختلفة وادراج صور ومقاطع فيديو وكتابة جداول وقوائم ومعادلات رياضية الخ ... وتستخدم وسوم Markdown ووسوم تنسيق صفحات الويب html ولغة ترميز latex لانجاز المهام السابقة. سوف نعود الى كل هذه الامكانيات ونتناولها بشيء من التفصيل في نهاية هذا الدليل. \n",
    "</div>"
   ]
  },
  {
   "cell_type": "markdown",
   "id": "f5b33de0",
   "metadata": {},
   "source": [
    "<div class=arabic>\n",
    "كل ما اريدك ان تعرفه الان عن خلايا تنسيق النص هو انه لايوجد امامها كلمة In وقوسين مربعين كما هو الحال مع خلايا الكود. فالخلية التي تتلو هذا السطر هي خلية تنسيق نص كما هو واضح من القائمة المنسدلة التي اشرنا لها سابقا.\n",
    "</div>"
   ]
  },
  {
   "cell_type": "markdown",
   "id": "90331061",
   "metadata": {},
   "source": []
  },
  {
   "cell_type": "markdown",
   "id": "32013e79",
   "metadata": {},
   "source": [
    "<div class=arabic>\n",
    "    <h2 class=title>خلايا التنسيق الخاصة</h2>\n",
    "</div>"
   ]
  },
  {
   "cell_type": "markdown",
   "id": "22cb5732",
   "metadata": {},
   "source": [
    "<div class=arabic>\n",
    " لا تحتاج الى التعرف الى هذا النوع من الخلايا الان لان خلايا التنسيق السابقة تفي بالغرض في هذه المرحلة من تعلمنا للغة بايثون. وسوف تظهر لك هذه الخلايا مشابهة لخلايا تنسيق النص تماما ولايمكنك التفريق بينهما الا من خلال القائمة المنسدلة السابقة او من خلال الضغط على زر تنفيذ الكود.\n",
    "</div>"
   ]
  },
  {
   "cell_type": "markdown",
   "id": "d61ce077",
   "metadata": {},
   "source": [
    "<div class=arabic>\n",
    "    <h2 class=title>خلايا كتابة العناوين Heading</h2>\n",
    "</div>"
   ]
  },
  {
   "cell_type": "markdown",
   "id": "23b021c0",
   "metadata": {},
   "source": [
    "<div class=arabic>\n",
    "خلايا كتابة العناوين هي جزء من خلايا تنسيق النص Markdown وسوف نتكلم عنها عندما نتحدث عن التنسيق بوسوم Markdown\n",
    "</div>"
   ]
  },
  {
   "cell_type": "markdown",
   "id": "079b0bbe",
   "metadata": {},
   "source": [
    "<div class=arabic><h2 class=title>\n",
    "    طريقة استخدام لوحة المفاتيح\n",
    "    </h2></div>"
   ]
  },
  {
   "cell_type": "markdown",
   "id": "b7c8b8c8",
   "metadata": {},
   "source": [
    "<div class=arabic>\n",
    "تعلمنا سابقا انه يمكن التغيير بين انوع الخلايا الاربع السابقة من خلال القائمة المنسدلة التي تظهر على شريط المهام ولكن لابد ان نعرفك على طريقة اسهل تعتمد على استخدام لوحة المفاتيح.\n",
    "</div>"
   ]
  },
  {
   "cell_type": "markdown",
   "id": "07df78dd",
   "metadata": {},
   "source": [
    "<div class=arabic>\n",
    "لكي نستخدم لوحة المفاتيح في تنفيذ الاوامر كتغيير نوع الخلية مثلا علينا ان نوضح انه يوجد نمطين لتفسير الضغظ على ارزار لوحة المفاتيح:<br>\n",
    "    1. نمط التحرير edit mode <br>\n",
    "    2. نمط الاوامر command mode <br>\n",
    "    فاذا كان دفتر الملاحظات في نمط التحرير وضغطنا على حرف M من لوحة المفاتيح مثلا فان هذا الفعل يودي الى كتابة حرف M داخل الخلية التى نعمل عليها حاليا. اما اذا كان دفتر الملاحظات في نمط الاوامر فان الضغط على حرف M من لوحة المفاتيح يفسر على انه امر يؤدي الى تغيير نوع الخلية لتصبح من النوع خلية تنسيق نص Markdown.\n",
    "</div>"
   ]
  },
  {
   "cell_type": "markdown",
   "id": "0bacd4cb",
   "metadata": {},
   "source": [
    "<div class=arabic>\n",
    "لذلك يجب علينا ان نتعرف على ايا من هذين النمطين فعال عند استخدامنا للوحة المفاتيح وعلى كيفية التغيير بين هذين النمطين. لتعرف على نوع النمط الفعال حاليا في دفتر الملاحظات هناك مدلولين رئيسيين. اول هذين المدلولين هو لون اطار الخلية التي نعمل عليها. فاذا كان لون الاطار اخضر فان هذا يعطي دلالة على ان نمط التحرير هو النمط الفعال . اما اذا كان لون اطار الخلية الجانبي ازرق فان دفتر الملاحظات يكون في وضع نمط الاوامر. المدلول الثاني على نوع النمط الحالي للوحة المفاتيح يتم من خلال شريط الاوامر كما شرحنا سابقا. فوجود صورة قلم بين وضع الامان ونوع المفسر يدل على ان دفتر الملاحظات في نمط التحرير. اما اذا لم يكون هناك صورة للقلم فان نمط الاوامر يكون فعالا.\n",
    "</div>"
   ]
  },
  {
   "cell_type": "markdown",
   "id": "9fe30c71",
   "metadata": {},
   "source": [
    "<img src=\"img/edit-mode.PNG\"><img src=\"img/command-mode.PNG\">"
   ]
  },
  {
   "cell_type": "markdown",
   "id": "ea63b41b",
   "metadata": {},
   "source": [
    "<div class=arabic>\n",
    "بعد ان تعرفنا على نوع النمط الحالي للوحة المفاتيح وكيفية التفرقة بينهما بقي ان نعرفك على كيفية التغيير بين هذين النمطين. هناك طريقتين لتغيير نمط لوحة المفاتيح اولها استخدام مؤشر الفارة. فعند الضغط بالزر الايسر خارح الاطار الداكن للخلية فان نمط لوحة المفاتيح يتحول الى نمط الاوامر. اما اذا تم الضغط بالزر الايسر للفأرة داخل الجزء الداكن من الخلية فان نمط لوحة المفاتيح يتحول الى نمط التحرير.\n",
    "</div>"
   ]
  },
  {
   "cell_type": "markdown",
   "id": "7329fd68",
   "metadata": {},
   "source": [
    "<img src=\"img/keyboard-mode.PNG\">"
   ]
  },
  {
   "cell_type": "markdown",
   "id": "9c2e556c",
   "metadata": {},
   "source": [
    "<div class=arabic>\n",
    "في الخلية التي تلي هذا السطر قم بالتنقل بين نمطي لوحة المفاتيح ولاحظ كيف يتغير لون اطار الخلية عندما تنتقل بين النمطين.\n",
    "</div>"
   ]
  },
  {
   "cell_type": "code",
   "execution_count": null,
   "id": "ae32b9ca",
   "metadata": {},
   "outputs": [],
   "source": []
  },
  {
   "cell_type": "markdown",
   "id": "4a201930",
   "metadata": {},
   "source": [
    "<div class=arabic>\n",
    "    كما يمكن التنقل بين نمطي لوحة المفاتيح باستخدم زر الادخال Enter وزر التنحي Esc. فعند الضغط على زر الادخال يتحول نمط لوحة المفاتيح الى نمط التحرير اما الضغط على زر التنحي Esc سوف ينقلنا الى نمط الاوامر.\n",
    "    <div>"
   ]
  },
  {
   "cell_type": "markdown",
   "id": "eebff928",
   "metadata": {},
   "source": [
    "<div class=arabic>\n",
    "في الخلية التي تلي هذا السطر قم بالتنقل بين نمطي لوحة المفاتيح باستخدام زر الادخال وزر التنحي. لاحظ كيف يتغير لون اطار الخلية. \n",
    "</div>"
   ]
  },
  {
   "cell_type": "code",
   "execution_count": null,
   "id": "09489a9b",
   "metadata": {},
   "outputs": [],
   "source": []
  },
  {
   "cell_type": "markdown",
   "id": "3b910d7a",
   "metadata": {},
   "source": [
    "<div class=arabic>\n",
    "اصبحنا الان جاهزين لتغيير نوع الخلية من خلال استخدام لوحة المفاتيح. فعندما تكون لوحة المفاتيح في وضع الاوامر يمكن ان نغير نوع الخلية الى خلية كود code بالضغط على الحرف y من لوحة المفاتيح. وللتحويل الى خلية تنسيق نص نقوم بالضغط على حرف M كما اشرنا سابقا. اما الصغط على حرف r فسوف يحولها الى نمط التنسيق الخاص Raw NBConvert.\n",
    "</div>"
   ]
  },
  {
   "cell_type": "markdown",
   "id": "75d393ba",
   "metadata": {},
   "source": [
    "<div class=arabic>\n",
    "في الخلية التي تلي هذا السطر قم بالتنقل بين انواع الخلايا باستخدام لوحة المفاتيح. لاحظ كيف تتغيير القائمة المنسدلة في شريط الادوات الخاصة بنوع الخلية بهذه الاوامر. تأكد ان لوحة المفاتيج في نمط الاوامر.\n",
    "</div>"
   ]
  },
  {
   "cell_type": "code",
   "execution_count": null,
   "id": "4780bd5d",
   "metadata": {},
   "outputs": [],
   "source": []
  },
  {
   "cell_type": "markdown",
   "id": "eacfa0be",
   "metadata": {},
   "source": [
    "<div class=arabic>\n",
    "لا يقتصر استخدام اوامر لوحة المفاتيح على تغيير نوع الخلايا فقط بل هناك الكثير من الاوامر التي يمكن انجازها بضغطة زر او زرين. ولتعرف على قائمة بهذه الاوامر يمكنك الضغط على صورة لوحة الفاتيح الموجودة في شريط الادوات ا لتي اشرنا لها سابقا او من خلال قائمة مساعدة help في شريط القوائم كما هو موضح بالصورتين التاليتين.\n",
    "</div>"
   ]
  },
  {
   "cell_type": "markdown",
   "id": "e3fc76b8",
   "metadata": {},
   "source": [
    "<img src=\"img/keyboard-shortcut1.PNG\">\n",
    "<img src=\"img/keyboard-shortcut2.PNG\">"
   ]
  },
  {
   "cell_type": "markdown",
   "id": "4ec724ff",
   "metadata": {},
   "source": [
    "<div class=arabic>\n",
    "لاحظ ان القائمة help تظهر ان الضغط على الحرف H عندما تكون لوحة المفاتيح في نمط الاوامر سوف يظهر قائمة الاومر ايضا. \n",
    "</div>"
   ]
  },
  {
   "cell_type": "markdown",
   "id": "4fd45430",
   "metadata": {},
   "source": [
    "<div class=arabic>\n",
    "استخدام احد الطرق الثلاثة السابقة سوف يظهر لنا قائمة اوامر لوحة المفاتيح التالية:\n",
    "</div>"
   ]
  },
  {
   "cell_type": "markdown",
   "id": "3a747d46",
   "metadata": {},
   "source": [
    "<img src=\"img/keyboard-shortcut-list.PNG\">"
   ]
  },
  {
   "cell_type": "markdown",
   "id": "36cdfcfb",
   "metadata": {},
   "source": [
    "<div class=arabic>\n",
    "ما يميز استخدام الضغظ على صورة لوحة المفاتيح في شريط الادوات لاظهار قائمة الاوامر على الطريقتين الاخريتين ان القائمة التي تظهر لك باستخدام هذه الطريقة ياتي معها محث بحث يسمح لك بالبحث عن الامر الذي تريد الوصل له .\n",
    "</div>"
   ]
  },
  {
   "cell_type": "markdown",
   "id": "d0e695c5",
   "metadata": {},
   "source": [
    "<div class=arabic>\n",
    "كما يجب ملاحظة ان قائمة الاوامر السابقة لا تقتصر على الاوامر التي يمكن تنفيذها عندما تكون لوحة المفاتيح في نمط الاوامر بل تحوي القائمة ايضا على الاوامر التي يمكن تنفيذها عندما تكون لوحة المفاتيح في نمط التحرير.\n",
    "</div>"
   ]
  },
  {
   "cell_type": "markdown",
   "id": "53dbb41b",
   "metadata": {},
   "source": [
    "<div class=arabic>\n",
    "من اكثر الاوامر التي يتم استخدامها عن طريق لوحة المفاتيح عن التعامل مع دفتر ملاحظات بايثون ما يلي:\n",
    "</div>"
   ]
  },
  {
   "cell_type": "markdown",
   "id": "14ce5126",
   "metadata": {},
   "source": [
    "<div class=arabic>\n",
    "<b>    \n",
    "اولا: اوامر تغيير نوع الخلية \n",
    "</div>"
   ]
  },
  {
   "cell_type": "markdown",
   "id": "35a43726",
   "metadata": {},
   "source": [
    "<div class=arabic>\n",
    "تم شرحه سابقا\n",
    "</div>"
   ]
  },
  {
   "cell_type": "markdown",
   "id": "661a9dfb",
   "metadata": {},
   "source": [
    "<div class=arabic>\n",
    "<b>\n",
    " ثانيا: اومر تنفيذ اكواد الخلية   \n",
    "</div>"
   ]
  },
  {
   "cell_type": "markdown",
   "id": "2f339ae7",
   "metadata": {},
   "source": [
    "<div class=arabic>\n",
    "هناك ثلاثة اوامر يمكن استخدامها لتنفيذ ما بداخل الخلية من  اكواد\n",
    "    لنبدأ اولا باستخدام الامر shift+Enter والذي يقوم بتنفيذ كود الخلية والنزول الى خلية تلي هذه الخلية. ويمكن تنفيذ هذا الامر في كلا النمطين للوحة المفتاح ويؤدي الى نفس النتائج.\n",
    "</div>"
   ]
  },
  {
   "cell_type": "markdown",
   "id": "531a24a2",
   "metadata": {},
   "source": [
    "<div class=arabic>\n",
    "كتمرين على على هذا الامر قم بتنفيذ كود الخلية التي تلي هذا السطر ولاحظ ماذا يحدث.حاول ان تنفذ الامر عندما تكون لوحة المفاتيح في نمط التحرير وكذلك ايضا عندما تكون في نمط الاوامر. \n",
    "</div>"
   ]
  },
  {
   "cell_type": "code",
   "execution_count": null,
   "id": "b175324d",
   "metadata": {},
   "outputs": [],
   "source": [
    "3+5"
   ]
  },
  {
   "cell_type": "markdown",
   "id": "c3e15f1f",
   "metadata": {},
   "source": [
    "<div class=arabic>\n",
    "الطريقة الثانية لتنفيذ كود الخلية هو الضغظ على ctrl+Enter في نفس الوقت. يقوم هذا الامر بتنفيذ كود الخلية والبقاء في نفس الخلية. ويعتبر هذا هو الفرق الوحيد بين استخدامنا لامر ctrl+Enter بدلا  من الامر shift+Enter.\n",
    "</div>"
   ]
  },
  {
   "cell_type": "markdown",
   "id": "0585a768",
   "metadata": {},
   "source": [
    "<div class=arabic>\n",
    "في الخلية التي تلي هذا السطر قم بتنفيذ كود الخلية باستخدام الامرين ctrl+Enter و shift+Enter ولاحظ الفرق بين هذين الامرين من ناحية انتقال المؤشر. \n",
    "</div>"
   ]
  },
  {
   "cell_type": "code",
   "execution_count": 3,
   "id": "0237d342",
   "metadata": {},
   "outputs": [
    {
     "name": "stdout",
     "output_type": "stream",
     "text": [
      "Ahmad\n"
     ]
    }
   ],
   "source": [
    "name=\"Ahmad\"\n",
    "print(name)"
   ]
  },
  {
   "cell_type": "markdown",
   "id": "27680a0f",
   "metadata": {},
   "source": [
    "<div class=arabic>\n",
    "الطريقة الثالثة لتنفيذ كود الخلية هو استخدام الامر Alt+Enter والذي يقوم بتنفيذ كود الخلية وانشاء خلية جديدة تحت الخلية التي قمنا بتنفيذ كودها. \n",
    "</div>"
   ]
  },
  {
   "cell_type": "markdown",
   "id": "03d5ceff",
   "metadata": {},
   "source": [
    "<div class=arabic>\n",
    "كتمرين على هذا الامر قم بتنفيذ كود الخلية التي تلي هذا السطر ولاحظ كيف يتم انشاء خلية جديدة في كل مره نقوم بالضغظ على هذا الامر.\n",
    "</div>"
   ]
  },
  {
   "cell_type": "code",
   "execution_count": 6,
   "id": "bfe61881",
   "metadata": {},
   "outputs": [
    {
     "name": "stdout",
     "output_type": "stream",
     "text": [
      "python is an easy progarmming language\n"
     ]
    }
   ],
   "source": [
    "print(\"python is an easy progarmming language\")"
   ]
  },
  {
   "cell_type": "markdown",
   "id": "9c438750",
   "metadata": {},
   "source": [
    "<div class=arabic>\n",
    "    <b>\n",
    "ثالثا: اوامر انشاء خلية جديدة\n",
    "</div>"
   ]
  },
  {
   "cell_type": "markdown",
   "id": "c3a99aa6",
   "metadata": {},
   "source": [
    "<div class=arabic>\n",
    "يمكن انشاء خلية جديدة فوق الخلية المختارة بالضغط على حرف A من لوحة المفاتيح عندما تكون في نمط الاوامر . والحرف A يمثل الحرف الاول من كلمة Above. \n",
    "</div>"
   ]
  },
  {
   "cell_type": "markdown",
   "id": "1481f949",
   "metadata": {},
   "source": [
    "<div class=arabic>\n",
    "    كتمرين على هذا الامر قم بانشاء خلية جديدة فوق الخلية التالية:\n",
    "    <div>"
   ]
  },
  {
   "cell_type": "code",
   "execution_count": 7,
   "id": "d5c5342a",
   "metadata": {},
   "outputs": [],
   "source": [
    "# قم بانشاء خلية فوق هذه الخلية"
   ]
  },
  {
   "cell_type": "markdown",
   "id": "616acf33",
   "metadata": {},
   "source": [
    "<div class=arabic>\n",
    "ويمكن انشاء خلية تحت الخلية الحالية بالضغط على حرف B من لوحة المفاتيح عندما تكون في نمط الاوامر. والحرف B يمثل الحرف الحرف الاول من كلمة Below في اللغة الانجليزية.\n",
    "</div>"
   ]
  },
  {
   "cell_type": "markdown",
   "id": "1f9af67d",
   "metadata": {},
   "source": [
    "<div class=arabic>\n",
    "كتمرين على هذا الامر قم بانشاء خلية تحت الخلية التالية:\n",
    "</div>"
   ]
  },
  {
   "cell_type": "code",
   "execution_count": 8,
   "id": "5121a8ad",
   "metadata": {},
   "outputs": [],
   "source": [
    "# قم بانشاء خلية تحت هذه الخلية"
   ]
  },
  {
   "cell_type": "markdown",
   "id": "1fd5bc70",
   "metadata": {},
   "source": [
    "<div class=arabic>\n",
    "    <b>\n",
    "رابعا: امر مسح خلية\n",
    "</div>"
   ]
  },
  {
   "cell_type": "markdown",
   "id": "ca05395c",
   "metadata": {},
   "source": [
    "<div class=arabic>\n",
    "يمكن مسح اي خلية من خلال استخدام لوحة المفاتيح عندما تكون في نمط الاوامر بالضغط على حرف D مرتين.\n",
    "</div>"
   ]
  },
  {
   "cell_type": "markdown",
   "id": "3fc5f3a4",
   "metadata": {},
   "source": [
    "<div class=arabic>\n",
    "كمترين على هذا الامر قم بمسح الخلية التالية:\n",
    "</div>"
   ]
  },
  {
   "cell_type": "code",
   "execution_count": 10,
   "id": "2eba26bf",
   "metadata": {},
   "outputs": [],
   "source": [
    "# امسح هذه الخلية"
   ]
  },
  {
   "cell_type": "markdown",
   "id": "732bf9f4",
   "metadata": {},
   "source": [
    "<div class=arabic>\n",
    "ويمكن التراجع عن مسح الخلية بالضغط على حرف Z عندما تكون لوحة المفاتيح في نمط الاوامر.\n",
    "</div>"
   ]
  },
  {
   "cell_type": "markdown",
   "id": "b58e2325",
   "metadata": {},
   "source": [
    "<div class=arabic>\n",
    "كتمرين على امر التراجع عن مسح الخلية قم بسمح ا لخلية ا لتالية ومن ثم استخدم امر التراجع عن  المسح لاستراجاع الخلية الممسوحة.\n",
    "</div>"
   ]
  },
  {
   "cell_type": "code",
   "execution_count": 11,
   "id": "80466275",
   "metadata": {},
   "outputs": [],
   "source": [
    "# امسح هذه الخلية من خلال لوحة المفاتيح ثم قم بالتراجع عن امر المسح"
   ]
  },
  {
   "cell_type": "markdown",
   "id": "5a65f2d1",
   "metadata": {},
   "source": [
    "<div class=arabic>\n",
    "    <h2 class=title>\n",
    "    الاوامر السحرية magic commands\n",
    "    </h2>\n",
    "</div>"
   ]
  },
  {
   "cell_type": "markdown",
   "id": "bafed581",
   "metadata": {},
   "source": [
    "<div class=arabic>\n",
    "تم اضافة الاوامر السحرية الى دفتر ملاحظات جوبتر لزيادة فاعليته في اداء مهام اكثر وليصبح بيئة مناسبة لتطوير الاكواد البرمجية. وتنقسم هذه الاوامر الى نوعين رئيسيين. االاول يسمى اوامر السطر الواحد line magic اما الثاني فيسمى اوامر الخلية cell magic.\n",
    "</div>"
   ]
  },
  {
   "cell_type": "markdown",
   "id": "ea57a92d",
   "metadata": {},
   "source": [
    "<div class=arabic>\n",
    "<h3 class=title>اوامر السطر الواحد line magic</h3>\n",
    "</div>"
   ]
  },
  {
   "cell_type": "code",
   "execution_count": 12,
   "id": "0a7037b3",
   "metadata": {},
   "outputs": [
    {
     "data": {
      "text/html": [
       "<center>Hello</center>\n"
      ],
      "text/plain": [
       "<IPython.core.display.HTML object>"
      ]
     },
     "metadata": {},
     "output_type": "display_data"
    }
   ],
   "source": [
    "%%HTML\n",
    "<center>Hello</center>"
   ]
  },
  {
   "cell_type": "code",
   "execution_count": null,
   "id": "6cb74090",
   "metadata": {},
   "outputs": [],
   "source": []
  },
  {
   "cell_type": "code",
   "execution_count": null,
   "id": "828b09c0",
   "metadata": {},
   "outputs": [],
   "source": []
  }
 ],
 "metadata": {
  "kernelspec": {
   "display_name": "Python 3 (ipykernel)",
   "language": "python",
   "name": "python3"
  },
  "language_info": {
   "codemirror_mode": {
    "name": "ipython",
    "version": 3
   },
   "file_extension": ".py",
   "mimetype": "text/x-python",
   "name": "python",
   "nbconvert_exporter": "python",
   "pygments_lexer": "ipython3",
   "version": "3.8.10"
  }
 },
 "nbformat": 4,
 "nbformat_minor": 5
}
