{
 "cells": [
  {
   "cell_type": "code",
   "execution_count": 1,
   "id": "2d5e5015",
   "metadata": {},
   "outputs": [
    {
     "data": {
      "text/html": [
       "<style type=\"text/css\">@import url('https://www.fontstatic.com/f=yassin,amiri-quran,basim-marah,b-compset');\n",
       "\n",
       "\n",
       "@font-face {\n",
       "  font-family: Arslan;\n",
       "  src: url(Arslan.ttf);\n",
       "}\n",
       "\n",
       ".title{\n",
       "direction: rtl;\n",
       "font-size:100px;\n",
       "padding-right: 15px;\n",
       "line-height:10px;\n",
       "font-family:basim-marah;\n",
       "}\n",
       "\n",
       "div.text_cell pre.CodeMirror-line {\n",
       "direction:rtl;\n",
       "font-size:20px;\n",
       "color:Blue;\n",
       "line-height:40px;\n",
       "padding-right: 1cm;\n",
       "padding-left: 1cm;\n",
       "text-align:justify;\n",
       "font-family:amiri-quran;\n",
       "}\n",
       ".rendered_html {\n",
       "direction:rtl;\n",
       "font-size:20px;\n",
       "line-height:40px;\n",
       "padding-right: 1cm;\n",
       "padding-left: 1cm;\n",
       "text-align:justify;\n",
       "font-family:amiri-quran;\n",
       "}\n",
       "\n",
       ".rendered_html p {\n",
       "direction:rtl;\n",
       "font-size:20px;\n",
       "line-height:40px;\n",
       "padding-right: 1cm;\n",
       "padding-left: 1cm;\n",
       "text-align:justify;\n",
       "font-family:amiri-quran;\n",
       "}\n",
       "\n",
       ".rendered_html h1{\n",
       "direction: rtl;\n",
       "font-size:200%;\n",
       "text-align:center;\n",
       "padding-right: 55px;\n",
       "font-family:Arslan;\n",
       "}\n",
       "\n",
       ".rendered_html h2{\n",
       "direction: rtl;\n",
       "font-size:171%;\n",
       "padding-right: 55px;\n",
       "line-height:10px;\n",
       "font-family:Arslan;\n",
       "}\n",
       "\n",
       ".rendered_html h3{\n",
       "direction: rtl;\n",
       "font-size:141%;\n",
       "padding-right: 55px;\n",
       "line-height:10px;\n",
       "font-family:Arslan;\n",
       "}\n",
       "\n",
       ".rendered_html ul {\n",
       "    list-style-type: none;\n",
       "}\n",
       "\n",
       ".rendered_html ul li:before {\n",
       "  content: '-';\n",
       "  position: absolute;\n",
       "  margin-right: -10px;\n",
       "}\n",
       "\n",
       ".arabic{\n",
       "direction:rtl;\n",
       "font-size:20px;\n",
       "line-height:40px;\n",
       "padding-right: 1cm;\n",
       "padding-left: 1cm;\n",
       "text-align:justify;\n",
       "font-family:amiri-quran;\n",
       "}\n",
       "\n",
       ".horizontal{\n",
       "height:2px;\n",
       "border:none;\n",
       "color:#333;\n",
       "background-color:#333;\n",
       "width:75%;\n",
       "}\n",
       ".jupyter-widgets{\n",
       "    font-size:20px;\n",
       "    direction:rtl;\n",
       "    margin-right:25px;\n",
       "    font-family:amiri-quran;\n",
       "        \n",
       "}\n",
       ".widget-radio-box input{\n",
       "    float:right;\n",
       "    direction:ltr;\n",
       "    margin: 0 calc( var(--jp-widgets-input-padding) * 2 ) 0 10px;\n",
       "    text-align:right;\n",
       "    height: 30px;\n",
       "}\n",
       ".widget-radio{\n",
       "    flex-direction: column;\n",
       "    width:unset;\n",
       "    \n",
       "}\n",
       ".widget-label{  \n",
       "    font-family:amiri-quran;\n",
       "    font-size:18px;\n",
       "    height: 40px;\n",
       "}\n",
       "\n",
       ".widget-radio-box label {\n",
       "    font-size:18px;\n",
       "    height: 30px;\n",
       "}\n",
       "\n",
       ".true-grade{\n",
       "    color:green;\n",
       "}\n",
       ".false-grade{\n",
       "    color:red;\n",
       "}\n",
       "label:lang(en){\n",
       "    direction:ltr;\n",
       "    text-align:right;\n",
       "}\n",
       ".s{\n",
       "    line-height:unset;\n",
       "    height:unset;\n",
       "}\n",
       ".CodeMirror-wrap {\n",
       "    font-size:16px;\n",
       "}\n",
       "\n",
       ".basic_table{\n",
       "    font-size:20px;\n",
       "    color:\"green\";\n",
       "}</style>"
      ],
      "text/plain": [
       "<IPython.core.display.HTML object>"
      ]
     },
     "execution_count": 1,
     "metadata": {},
     "output_type": "execute_result"
    }
   ],
   "source": [
    "import style\n",
    "style._set_css_style(\"custom.css\")"
   ]
  },
  {
   "cell_type": "markdown",
   "id": "3be1f248",
   "metadata": {},
   "source": [
    "<div class=arabic>\n",
    "    <h2 class=title>\n",
    "    نافذة خادم دفتر ملاحظات جوبتر \n",
    "    </h2>\n",
    "</div>"
   ]
  },
  {
   "cell_type": "markdown",
   "id": "a437c023",
   "metadata": {},
   "source": [
    "<div class=arabic>\n",
    "عند بداية تشغيل جوبتر سوف تظهر لك نافذتين رئيسيتين احدها سوداء تسمى نافذة خادم جوبتر والاخرى في متصفح الويب والتي يمكن تسميتها بصفحة جوبتر الرئيسية. نافذة خادم جوبتر عند بداية التشغيل تكون مشابهه للصورة التالية:\n",
    "</div>"
   ]
  },
  {
   "cell_type": "markdown",
   "id": "2c9ab291",
   "metadata": {},
   "source": [
    "<img width=290% height=290% src=\"img/local-server2.PNG\">"
   ]
  },
  {
   "cell_type": "markdown",
   "id": "c9dc5c73",
   "metadata": {},
   "source": [
    "<div class=arabic>\n",
    "من خلال الصورة السابقة يظهر لنا ان هناك اربعة معلومات يمكن استخراجها من نافذه الخادم السوداء:\n",
    "</div>"
   ]
  },
  {
   "cell_type": "markdown",
   "id": "b6e2665d",
   "metadata": {},
   "source": [
    "<div class=arabic>\n",
    "اولا: مسار المجلد الذي سوف تعرض منه قائمة الملفات في ا لمتصفح. وهذا المسار يتغير بتغير المسار الذي يفتح منه دفتر ملاحظات جوبتر. فعند تشغيل دفتر ملاحظات جوبتر من مجلد سطح المكتب سوف تظهر لنا في المتصفح قائمة الملفات الموجودة في سطح المكتب وهكذا.\n",
    "</div>"
   ]
  },
  {
   "cell_type": "markdown",
   "id": "dcc78be0",
   "metadata": {},
   "source": [
    "<div class=arabic>\n",
    "ثانيا: رقم اصدارة دفتر ملاحظات جوبتر الذي نعمل عليه\n",
    "</div>"
   ]
  },
  {
   "cell_type": "markdown",
   "id": "4fe0c0c1",
   "metadata": {},
   "source": [
    "<div class=arabic>\n",
    "ثالثا: عنوان او رابط الخادم الذي يمكن استخدامه لفتح دفتر الملاحظات في المتصفح. يمكن نسخ هذا الرابط والصاقة في اي متصفح ترغب في تشغيل دفتر الملاحظات من خلاله\n",
    "</div>"
   ]
  },
  {
   "cell_type": "markdown",
   "id": "e1138288",
   "metadata": {},
   "source": [
    "<div class=arabic>\n",
    "رابعا: طريقة اغلاق الخادم الذي يعمل عليه دفتر ملاحظات جوبتر والذي يتم من خلال الضغط مرتين على ctrl+C من لوحة المفاتيح. اغلاق المتصفح لا يؤدي الى اغلاق الخادم لذلك عليك القيام بتنفيذ هذا الامر من خلال النافذه السوداء. ويمكنك اغلاق الخادم من خلال دفتر ملاحظات جوبتر ايضا والذي سوف نتناوله بشيئ من التفصيل لاحقا.\n",
    "</div>"
   ]
  },
  {
   "cell_type": "markdown",
   "id": "a9d56dda",
   "metadata": {},
   "source": [
    "<div class=arabic>\n",
    "    <h2 class=title>\n",
    "    صفحة جوبتر الرئيسية\n",
    "    </h2>\n",
    "</div>"
   ]
  },
  {
   "cell_type": "markdown",
   "id": "a3eb7525",
   "metadata": {},
   "source": [
    "<div class=arabic>\n",
    " تتكون صفحة جوبتر الرئيسية من جزئين رئيسيين: شريط عنوان وشريط تصنيفات\n",
    " </div>"
   ]
  },
  {
   "cell_type": "markdown",
   "id": "00048191",
   "metadata": {},
   "source": [
    "<img src=\"img/main-page-parts.PNG\">"
   ]
  },
  {
   "cell_type": "markdown",
   "id": "6e65ce32",
   "metadata": {},
   "source": [
    "<div class=arabic><h3 class=title>شريط العنوان</h3></div>"
   ]
  },
  {
   "cell_type": "markdown",
   "id": "efa4ba1d",
   "metadata": {},
   "source": [
    "<div class=arabic> \n",
    "     <i style=\"color:blue\">شعار جوبتر:</i>\n",
    "    عند الضغط على هذا الشعار سوف يقوم بعرض الصفحة الرئيسية كما لو انك لتو قمت بتشغيل دفتر ملاحظات جوبتر.\n",
    "</div>\n",
    "     "
   ]
  },
  {
   "cell_type": "markdown",
   "id": "1b6f2841",
   "metadata": {},
   "source": [
    "<div class=arabic>\n",
    "<i style=\"color:blue\"> زر اغلاق الخادم Quit:</i>\n",
    "    يقوم باغلاق خادم جوبتر بحيث تصبح الصفحة الرئيسية في المتصفح غير قادرة على اداء اي مهمة.\n",
    "</div>"
   ]
  },
  {
   "cell_type": "markdown",
   "id": "9fc05872",
   "metadata": {},
   "source": [
    "<div class=arabic>\n",
    "<i style=\"color:blue\">زر الخروج Logout:</i>\n",
    "    يقوم بفك الارتباط بين الصفحة الرئيسية في المتصفح وخادم جوبتر ويظهر صفحة اعادة الارتباط التي سوف نتحدث عنها لاحقا.\n",
    "</div>"
   ]
  },
  {
   "cell_type": "markdown",
   "id": "4fff2bd2",
   "metadata": {},
   "source": [
    "<div class=arabic><h3 class=title>شريط التصنيفات</h3>\n",
    "شريط التصنيفات يحتوي على ثلاثة تبويبات: الملفات Files والملفات النشطة Running والملفات التي تعمل باكثر من معالج Clusters كما هو موضح في الصورة التالية:\n",
    "</div>"
   ]
  },
  {
   "cell_type": "markdown",
   "id": "92e5047d",
   "metadata": {},
   "source": [
    "<img src=\"img/main-page-tabs.PNG\">"
   ]
  },
  {
   "cell_type": "markdown",
   "id": "78d94334",
   "metadata": {},
   "source": [
    "<div class=arabic><b style=\"background:#B0E0E6;border-radius:150px;padding-left:15px;padding-right:15px;line-height:100px;\"> تبويب الملفات Files</b></div>"
   ]
  },
  {
   "cell_type": "markdown",
   "id": "93ecaddf",
   "metadata": {},
   "source": [
    "<div class=arabic>\n",
    "عند بداية فتح دفتر ملاحظات جوبتر يتم عرض هذا التبويب بشكل افتراضي. ويحتوي هذا التبويب على قائمة الملفات الموجودة في مسار المجلد الذي تم تشغيل دفتر ملاحظات جوبتر منه. ويمكّن هذا التبويب المستخدم من القيام بالعديد من الوظائف.ولشرح هذا التبويب بشكل مفصل سوف نقوم تقسيمه الى الى ثلاثة اقسام رئيسية كما هو موضح في الصورة التالية:\n",
    "</div>"
   ]
  },
  {
   "cell_type": "markdown",
   "id": "5413761c",
   "metadata": {},
   "source": [
    "<img src=\"img/file-tab-parts.PNG\">"
   ]
  },
  {
   "cell_type": "markdown",
   "id": "d5fc051b",
   "metadata": {},
   "source": [
    "<div class=arabic>\n",
    "<b>الجزء الاول:</b>\n",
    "   يجتوي على زرين وقائمة\n",
    "</div>"
   ]
  },
  {
   "cell_type": "markdown",
   "id": "bec34065",
   "metadata": {},
   "source": [
    "<div class=arabic>    \n",
    "    <i style=\"color:blue\">زر السهمين المنحيين</i>: يقوم بتحديث قائمة الملفات عند الضغط عليه\n",
    "<br>\n",
    "   <i style=\"color:blue\"> قائمة New:</i> \n",
    "    تسمح للمستخدم بانشاء دفتر ملاحظات جديد او ملف نصي او مجلد او محرر اوامر كما هو موضح بالصور التالية:\n",
    "</div>"
   ]
  },
  {
   "cell_type": "markdown",
   "id": "0721123c",
   "metadata": {},
   "source": [
    "<img src=\"img/new-list.PNG\">"
   ]
  },
  {
   "cell_type": "markdown",
   "id": "eb649f02",
   "metadata": {},
   "source": [
    "<div class=arabic>\n",
    "<i style=\"color:blue\">زر Upload:</i>\n",
    "    يقوم بفتح مستعرض الملفات في كمبيوتر المستخدم لكي يمكّنه من استيراد اي ملف يود اضافته الى قائمة الملفات  الحالية.\n",
    "</div>"
   ]
  },
  {
   "cell_type": "markdown",
   "id": "d5fac23a",
   "metadata": {},
   "source": [
    "<div class=arabic>\n",
    "<b>الجزء الثاني:</b>\n",
    "   يجتوي ثلاث ازرار لترتيب المجلدات والملفات ، مسار للمجلد الحالي بالاضافة الى قائمة ومربع تحديد تسمح بالتحكم في اختيار الملفات والمجلدات كما هو مضح بالصورة التالية: \n",
    "</div>"
   ]
  },
  {
   "cell_type": "markdown",
   "id": "cf143303",
   "metadata": {},
   "source": [
    "<img src=\"img/part-two-file-tab.PNG\">"
   ]
  },
  {
   "cell_type": "markdown",
   "id": "fb434de0",
   "metadata": {},
   "source": [
    "<div class=arabic>\n",
    "    <i style=\"color:blue\">ازرار ترتيب الملفات والمجلدات</i>: تمكن المستخدم من التحكم في ترتيب الملفات والمجلدات بحسب الاسم من خلال الضغط على زر Name وكذلك ترتيب الملفات والمجلدات بحسب اخر تعديل من خلال الضغط على زر Last Modified واخيرا ترتيب الملفات بحسب حجم الملف File size.\n",
    "</div>"
   ]
  },
  {
   "cell_type": "markdown",
   "id": "1b68d2f2",
   "metadata": {},
   "source": [
    "<div class=arabic>\n",
    "    <i style=\"color:blue\">مسار المجلد الحالي</i>: يظهر للمستخدم مسار المجلد الذي يحوي الملفات الحالية. كما انه يمكّن المستخدم من العودة الى المجلدات السابقة من خلال الضغط بالفارة على اجزاء المسار المفصولة بشرطة مائلة للانتقال اليها.\n",
    "</div>"
   ]
  },
  {
   "cell_type": "markdown",
   "id": "a4df7730",
   "metadata": {},
   "source": [
    "<div class=arabic>\n",
    "    <i style=\"color:blue\">مربع التحديد</i>: عند وضع علامة صح داخل هذا المربع سوف يقوم بوضع علامة صح امام كافة المجلدات والملفات لاختيارها ويظهر للمستخدم زر جديد في اعلى هذا المربع يسمح للمستخدم بمسح كافة الملفات والمجلدات المختارة. كما هو موضح بالصورة التالية:\n",
    "</div>"
   ]
  },
  {
   "cell_type": "markdown",
   "id": "143819f4",
   "metadata": {},
   "source": [
    "<img src=\"img/main-check-box.PNG\">"
   ]
  },
  {
   "cell_type": "markdown",
   "id": "0e2d59c6",
   "metadata": {},
   "source": [
    "<div class=arabic>\n",
    "ولالغاء اختيار كافة الملفات والمجلدات يمكن اخفاء علامة الصح من المربع بالضغظ عليه مرة اخرى\n",
    "</div>"
   ]
  },
  {
   "cell_type": "markdown",
   "id": "4331c8b1",
   "metadata": {},
   "source": [
    "<div class=arabic>\n",
    "    <i style=\"color:blue\">قائمة التحديد</i>: تمكن هذه القائمة المستخدم من تحديد ما يريده بحسب اربعة تصنيفات. فهناك تحديد لجميع المجلدات او لجميع دفاتر ملاحظات جوبتر او لجميع الملفات النشطة او لجميع الملفات الاخرى كما هو موضح في الصورة التالية:\n",
    "</div>"
   ]
  },
  {
   "cell_type": "markdown",
   "id": "785c8987",
   "metadata": {},
   "source": [
    "<img src=\"img/selection-list.PNG\">"
   ]
  },
  {
   "cell_type": "markdown",
   "id": "36e58454",
   "metadata": {},
   "source": [
    "<div class=arabic>\n",
    "<b>الجزء الثالث:</b>\n",
    "   يحتوي على قائمة من الملفات والمجلدات\n",
    "</div>"
   ]
  },
  {
   "cell_type": "markdown",
   "id": "434a70ba",
   "metadata": {},
   "source": [
    "<div class=arabic>\n",
    " يمكن للمستخدم من خلال هذه القائمة فتح الملفات والمجلدات وكذلك تحديد واختيار الملفات والمجلدات كلا على حده بوضع علامة صح داخل مربع التحديد الموجود امام كل ملف ومجلد. عندها سوف تظهر قائمة ازار في اعلى مربع التحديد الرئيسي للقيام بمهام اضافيه غير عملية الحذف   مثل تغيير مكان المجلد واعادة تسميته كما هو موضح بالصورة التالية:\n",
    "</div>"
   ]
  },
  {
   "cell_type": "markdown",
   "id": "679a08cb",
   "metadata": {},
   "source": [
    "<img src=\"img/individual-folder-check-box.PNG\">"
   ]
  },
  {
   "cell_type": "markdown",
   "id": "cf56c3f5",
   "metadata": {},
   "source": [
    "<div class=arabic>\n",
    "عندما يختار المستخدم ملفا بدلا من مجلد فان عدد الازرار التي تظهر له سوف يصبح سبعة . بحيث يصبح المستخدم قادرا على تحرير ، معاينة ، تحميل وعمل نسخة اخرى للملف بالاضافة للمهام التي سبق ذكرها كما يظهر في الصورة التالية:\n",
    "</div>"
   ]
  },
  {
   "cell_type": "markdown",
   "id": "fd7f0457",
   "metadata": {},
   "source": [
    "<img src=\"img/individual-file-check-box.PNG\">"
   ]
  },
  {
   "cell_type": "markdown",
   "id": "bfed6717",
   "metadata": {},
   "source": [
    "<div class=arabic><b style=\"background:#B0E0E6;border-radius:150px;padding-left:15px;padding-right:15px;line-height:100px;\"> تبويب الملفات النشطة Running</b></div>"
   ]
  },
  {
   "cell_type": "markdown",
   "id": "e3617277",
   "metadata": {},
   "source": [
    "<div class=arabic>\n",
    "يعرض هذا التبويب قائمتين احدهما لمحررات الاوامر التي تم فتحها من خلال الصحفة الرئيسية وما زالت نشطة. والقائمة الاخرى لدفاتر ملاحظات جوبتر النشطة والتي ما زالت مرتبطة بمفسرات اللغة المستخدمة. ويتيح هذا التبويب خيار اغلاق هذه الملفات النشطة من خلال الضغط على زر shutdown الموجود امام كل ملف نشط. \n",
    "</div>"
   ]
  },
  {
   "cell_type": "markdown",
   "id": "4cdaf4e8",
   "metadata": {},
   "source": [
    "<img src=\"img/active-files.PNG\">"
   ]
  },
  {
   "cell_type": "markdown",
   "id": "d13d217d",
   "metadata": {},
   "source": [
    "<div class=arabic><b style=\"background:#B0E0E6;border-radius:150px;padding-left:15px;padding-right:15px;line-height:100px;\"> تبويب الملفات التي تعمل باكثر من معالح Clusters</b></div>"
   ]
  },
  {
   "cell_type": "markdown",
   "id": "260c642b",
   "metadata": {},
   "source": [
    "<div class=arabic>\n",
    "هذا التبويب خارج اطار اهتمام المبرمجين المبتدئين لذلك لن نتناول الحديث عنه هنا في هذا الدليل الارشادي\n",
    "</div>"
   ]
  },
  {
   "cell_type": "markdown",
   "id": "83d11ff2",
   "metadata": {},
   "source": [
    "<div class=arabic><h2 class=title> الاجزاء الرئيسية لدفتر ملاحظات جوبتر</h2></div>"
   ]
  },
  {
   "cell_type": "markdown",
   "id": "ae5a5637",
   "metadata": {},
   "source": [
    "<div class=arabic>\n",
    "يتكون دفتر ملاحظات جوبتر الكلاسيكي من اربعه اجزاء رئيسية موضحة في الصورة التالية:\n",
    "</div>"
   ]
  },
  {
   "cell_type": "markdown",
   "id": "d84f96da",
   "metadata": {},
   "source": [
    "<img src=\"img/main-parts.PNG\">"
   ]
  },
  {
   "cell_type": "markdown",
   "id": "8ed93b84",
   "metadata": {},
   "source": [
    "<div class=arabic>\n",
    "    <h2 class=title>شريط العناوين</h2>\n",
    "</div>"
   ]
  },
  {
   "cell_type": "markdown",
   "id": "f81c6202",
   "metadata": {},
   "source": [
    "<div class=arabic>\n",
    "يحتوي شريط العناوين في دفتر ملاحظات جوبتر على خمسة اجزاء كما هو موضح في الصورة السابقة. ابتداء من اليمن يوجد زر logout لفك الارتباط بالخادم المحلي الذي يعمل عليه دفتر الملاحظات. عند الضغط على هذا الزر سوف يتم الغاء الارتباط بين جميع صفحات دفتر ملاحظات جوبتر المفتوحة في المتصفح والخادم المحلي الذي يعمل عليه جوبتر (الشاشة السوداء). وسوف ينقلك الى صفحة اخرى تساعدك على اعادة الربط بين الاثنين كما هو موضح في الصورة التالية:\n",
    "</div>"
   ]
  },
  {
   "cell_type": "markdown",
   "id": "70805756",
   "metadata": {},
   "source": [
    "<img src=\"img/login-page.PNG\">"
   ]
  },
  {
   "cell_type": "markdown",
   "id": "cda7a415",
   "metadata": {},
   "source": [
    "<div class=arabic>\n",
    "عند الضغط على رابط الدخول login page لاعادة الارتباط بخادم جوبتر المحلي سوف تظهر لك الصفحة التالية:\n",
    "</div>"
   ]
  },
  {
   "cell_type": "markdown",
   "id": "d7cfae29",
   "metadata": {},
   "source": [
    "<img src=\"img/token-page.PNG\">"
   ]
  },
  {
   "cell_type": "markdown",
   "id": "c0d91655",
   "metadata": {},
   "source": [
    "<div class=arabic>\n",
    "لاعادة الارتباط بالخادم المحلي تحتاج الى رمز token مكون من ارقام وحروف يتم انتاجه عند بداية تشغيل الخادم المحلى في محث الاوامر للنظام الذي يعمل عليه الخادم كما هو موضح بالصورة التالية:\n",
    "</div>"
   ]
  },
  {
   "cell_type": "markdown",
   "id": "107b9c98",
   "metadata": {},
   "source": [
    "<img src=\"img/local-server.PNG\">"
   ]
  },
  {
   "cell_type": "markdown",
   "id": "f0a6e6a0",
   "metadata": {},
   "source": [
    "<div class=arabic>\n",
    "عند ادخال هذا الرمر في صفحة اعادة الارتباط بالخادم والضغط على زر login سوف تفتح لك صفحة دفتر ملاحظات جوبتر الرئيسية التي تحتوي على قائمة الملفات الموجودة في جهازك تماما كما لو انك بدأت تشغيل دفتر ملاحظات جوبتر.\n",
    "</div>"
   ]
  },
  {
   "cell_type": "markdown",
   "id": "8b2e6b60",
   "metadata": {},
   "source": [
    "<div class=arabic>\n",
    "كما تسمح لك صفحة اعادة الارتباط السابقة باستخدام الرمر لعمل كلمة مرور خاصة بك اذا اردت ذلك من خلال الخيار الموجود في اخر الصفحة.\n",
    "</div>"
   ]
  },
  {
   "cell_type": "markdown",
   "id": "52b8c8cf",
   "metadata": {},
   "source": [
    "<div class=arabic>\n",
    "كمعلومه اضافية يمكن استخدام الرابط بالكامل الذي يحتوي على الرمر لفتح دفتر ملاحظات جوبتر في متصفح اخر غير المتصفح الافتراضي الذي تعمل عليه. فمثلا اذا كان متصفحك الافتراضي ميكروسوفت ادج MS Edge واردت العمل على متصفح كروم Chrome كل ما عليك فعله هو نسخ الرابط الذي يحتوي على الرمز والصاقه في صفحة جديدة من متصفح كروم.\n",
    "</div>"
   ]
  },
  {
   "cell_type": "markdown",
   "id": "4b1209b5",
   "metadata": {},
   "source": [
    "<div class=arabic>\n",
    "الجزء الثاني من شريط العناوين يحتوي على شعار اللغة التي يعمل عليها حاليا دفتر ملاحظات جوبتر والمتمثل في شعار لغة بايثون بالنسبة للصورة السابقة.\n",
    "</div>"
   ]
  },
  {
   "cell_type": "markdown",
   "id": "25d48573",
   "metadata": {},
   "source": [
    "<div class=arabic>\n",
    "الجزء الثالث من شريط العناوين يحتوي على حالة حفظ الملف الذي نعمل عليه واخر وقت تمت فيه لعملية.\n",
    "</div>"
   ]
  },
  {
   "cell_type": "markdown",
   "id": "aaed44be",
   "metadata": {},
   "source": [
    "<div class=arabic>\n",
    "الجزء الرابع من شريط العناوين هو اسم الملف الذي نعمل عليه والذي يتم اعطاءة الاسم untitled بشكل افتراضي عند بداية انشائه. ويمكن تغيير اسم الملف بالضغط على اسم الملف  وادخال الاسم الذي ترغب فيه ثم الضغط على زر اعادة التسمية Rename كما هو موضح بالصورة التالية:\n",
    "</div>"
   ]
  },
  {
   "cell_type": "markdown",
   "id": "4695589b",
   "metadata": {},
   "source": [
    "<img src=\"img/rename.PNG\">"
   ]
  },
  {
   "cell_type": "markdown",
   "id": "a5e3d504",
   "metadata": {},
   "source": [
    "<div class=arabic>\n",
    "اخر اجزاء من شريط العناوين هو شعار دفتر الملاحظات جوبتر والذي عند الضغط عليه سوف ينقلك الى صفحة دفتر الملاحظات الرئيسية التي تحتوى على ملفات جهازك. \n",
    "</div>"
   ]
  },
  {
   "cell_type": "markdown",
   "id": "f2310a86",
   "metadata": {},
   "source": [
    "<div class=arabic>\n",
    "    <h2 class=title>\n",
    "    شريط القوائم\n",
    "    </h2>\n",
    "</div>"
   ]
  },
  {
   "cell_type": "markdown",
   "id": "e64b2ab7",
   "metadata": {},
   "source": [
    "<div class=arabic>\n",
    "يتكون شريط المهام في دفتر ملاحظات جوبتر من خمسة اجزاء رئيسية كما هو موضح بالصورة التالية:\n",
    "</div>"
   ]
  },
  {
   "cell_type": "markdown",
   "id": "5d33b1a6",
   "metadata": {},
   "source": [
    "<img src=\"img/main-list.PNG\">"
   ]
  },
  {
   "cell_type": "markdown",
   "id": "71ea8175",
   "metadata": {},
   "source": [
    "<div class=arabic>\n",
    "ابتداء من اليمين يمكن شرح مكونات هذا الشريط على النحو التالي:\n",
    "</div>"
   ]
  },
  {
   "cell_type": "markdown",
   "id": "363e41e1",
   "metadata": {},
   "source": [
    "<div class=arabic>\n",
    "الجزء الاول من شريط القوائم هو وضع حالة مفسر اللغة التي يتعامل معها دفتر الملاحظات والمتمثل في دائرة تكون فارغة عندما لا يكون المفسر مشغولا باجراء اي عملية برمجية وتتحول الى دائرة سوداء عندما يكون مفسر اللغة مشغولا. يمكن ملاحظة التغير على هذا الدائرة عندما يقوم المفسر باجراء عمليات حسابية تحتاج وقتا طويلا لانجازها.\n",
    "</div>"
   ]
  },
  {
   "cell_type": "markdown",
   "id": "8e3180d1",
   "metadata": {},
   "source": [
    "<div class=arabic>\n",
    "الجزء الثاني من شريط القوائم يتمثل في اسم المفسر الذي يعمل معه دفتر الملاحظات\n",
    "</div>"
   ]
  },
  {
   "cell_type": "markdown",
   "id": "5019dcf3",
   "metadata": {},
   "source": [
    "<div class=arabic>\n",
    "الجزء الثالث يتمثل في وضع نمط لوحة المفاتيح فهذا الجزء يكون فارغا عندما نكون في نمط الاوامر ويتحول الى قلم عندما يكون وضع لوحة المفاتيح في نمط التحرير كما هو موضح بالصورتين التاليتين:\n",
    "</div>"
   ]
  },
  {
   "cell_type": "markdown",
   "id": "db4c439e",
   "metadata": {},
   "source": [
    "<img src=\"img/command-mode.PNG\"><img src=\"img/edit-mode.PNG\">"
   ]
  },
  {
   "cell_type": "markdown",
   "id": "650325f9",
   "metadata": {},
   "source": [
    "<div class=arabic>\n",
    "سوف نتحدث بشي من التفصيل عن هذين النمطين عندما نبدأ الحديث عن خلايا المحتوى\n",
    "</div>"
   ]
  },
  {
   "cell_type": "markdown",
   "id": "d62c9185",
   "metadata": {},
   "source": [
    "<div class=arabic>\n",
    "الجزء الرابع من شريط القوائم خاص بامان دفتر ملاحظات جوبتر كما هو موضح بالصورة التالية:\n",
    "</div>"
   ]
  },
  {
   "cell_type": "markdown",
   "id": "7d99194c",
   "metadata": {},
   "source": [
    "<img src=\"img/security-status.PNG\">"
   ]
  },
  {
   "cell_type": "markdown",
   "id": "5c68942d",
   "metadata": {},
   "source": [
    "<div class=arabic>\n",
    "والقيمة الافتراضية لهذا الوضع هو عدم الموثوقية وذلك لزيادة مستوى الامان في دفتر ملاحظات جوبتر وحماية مستخدمه. ويعود سبب وضع الحماية هذا لان دفتر ملاحظات جوبتر يمكن ان يحتوي على اكواد برمجية مخفية قد يؤدي تشغيلها عند بداية تشغيل الملف الى الاضرار بجهاز المستخدم. فالفيروسات الكمبيوترية ماهي الا اكواد برمجية لها تأثير تخريبي لذلك عند فتحك لدفتر ملاحظات جوبتر تأكد من موثوقية المصدر ومن مايفعله كل كود برمجي قبل تشغيله. ولتغيير وضع دفتر الملاحظات من غير موثوق الى موثوق يمكنك الضغط على حالة الامان وسف تظهر لك رسالة عما اذا كنت متأكد من موثوقية دفتر الملاحظات الذي انت بصدد تغييرحالة امانه ولتأكيد تغيير الحالة اضغط على زر ثق Trust كما هو موصح بالصورة التالية:\n",
    "</div>"
   ]
  },
  {
   "cell_type": "markdown",
   "id": "b5e4ad0b",
   "metadata": {},
   "source": [
    "<img src=\"img/change-security.PNG\">"
   ]
  },
  {
   "cell_type": "markdown",
   "id": "e32c91fb",
   "metadata": {},
   "source": [
    "<div class=arabic>\n",
    "الجزء الاخير من شريط القوائم هو جزء القوائم المنسدلة التقليدي الذي نجده في كثير من البرامج الاخرى. ولكون هذه القوائم متعارف عليها سوف نشرحها بايجاز من خلال الصور التالية:\n",
    "</div>"
   ]
  },
  {
   "cell_type": "markdown",
   "id": "d3a27771",
   "metadata": {},
   "source": [
    "<div class=arabic><h3 class=title>قائمة ملف File</h2></div><br>\n",
    "<img src=\"img/file-menu.PNG\">\n",
    "<br>"
   ]
  },
  {
   "cell_type": "markdown",
   "id": "d85294c5",
   "metadata": {},
   "source": [
    "<div class=arabic><h3 class=title>قائمة تحرير Edit</h2></div><br>\n",
    "<img src=\"img/edit-menu.PNG\">\n",
    "<br>"
   ]
  },
  {
   "cell_type": "markdown",
   "id": "935845d5",
   "metadata": {},
   "source": [
    "<div class=arabic><h3 class=title>قائمة معاينة View</h2></div><br>\n",
    "<img src=\"img/view-menu.PNG\">\n",
    "<br>"
   ]
  },
  {
   "cell_type": "markdown",
   "id": "4fdc483c",
   "metadata": {},
   "source": [
    "<div class=arabic><h3 class=title>قائمة ادراج Insert</h2></div><br>\n",
    "<img src=\"img/insert-menu.PNG\">\n",
    "<br>"
   ]
  },
  {
   "cell_type": "markdown",
   "id": "1df36d86",
   "metadata": {},
   "source": [
    "<div class=arabic><h3 class=title>قائمة خلية Cell</h2></div><br>\n",
    "<img src=\"img/cell-menu.PNG\">\n",
    "<br>"
   ]
  },
  {
   "cell_type": "markdown",
   "id": "3317cdd0",
   "metadata": {},
   "source": [
    "<div class=arabic><h3 class=title>قائمة مفسر Kernel</h2></div><br>\n",
    "<img src=\"img/kernel-menu.PNG\">\n",
    "<br>"
   ]
  },
  {
   "cell_type": "markdown",
   "id": "43d1d0fa",
   "metadata": {},
   "source": [
    "<div class=arabic><h3 class=title>قائمة مساعدة Help</h2></div><br>\n",
    "<img src=\"img/help-menu.PNG\">\n",
    "<br>"
   ]
  },
  {
   "cell_type": "markdown",
   "id": "ced2d468",
   "metadata": {},
   "source": [
    "<div class=arabic>\n",
    "    <h2 class=title>\n",
    "    شريط الادوات\n",
    "    </h2>\n",
    "</div>"
   ]
  },
  {
   "cell_type": "markdown",
   "id": "ad23a90c",
   "metadata": {},
   "source": [
    "<div class=arabic>\n",
    "يتكون شريط الادوات في دفتر ملاحظات جوبتر من 13 زر تقوم بتنفيذ مهام مختلفة كما هو موضح في الصورة التالية:\n",
    "</div>"
   ]
  },
  {
   "cell_type": "markdown",
   "id": "f2459af0",
   "metadata": {},
   "source": [
    "<img src=\"img/toolbar.PNG\">"
   ]
  },
  {
   "cell_type": "markdown",
   "id": "4c3f3a23",
   "metadata": {},
   "source": [
    "<div class=arabic>\n",
    "    <h2 class=title>\n",
    "        خلايا المحتوى\n",
    "    </h2>\n",
    "</div>"
   ]
  },
  {
   "cell_type": "markdown",
   "id": "7b1d6d8a",
   "metadata": {},
   "source": [
    "<div class=arabic>\n",
    "في دفتر ملاحظات جوبتر يوجد اربعة انواع من الخلايا:\n",
    "</div>"
   ]
  },
  {
   "cell_type": "markdown",
   "id": "0373d0a9",
   "metadata": {},
   "source": [
    "<div class=arabic>\n",
    "اولا: خلايا لكتابة الكود البرمجي code<br>\n",
    "    ثانيا: خلايا تنسيق النص Markdown <br>\n",
    "    ثالثا: خلايا تنسيق خاصة Raw nbConvert<br>\n",
    "    رابعا: خلايا كتابة العناوين Heading <br>\n",
    "    ويمكن التحويل بين هذه الانواع من خلال القائمة المنسدلة في شريط الادوات الموضحة في الصورة التالية:\n",
    "</div>"
   ]
  },
  {
   "cell_type": "markdown",
   "id": "524923f7",
   "metadata": {},
   "source": [
    "<img src=\"img/jup-cell-type.PNG\">"
   ]
  },
  {
   "cell_type": "markdown",
   "id": "c5dcbca5",
   "metadata": {},
   "source": [
    "<div class=arabic>\n",
    "او من خلال استخدام الاوامر المختصرة للوحة المفاتيح والتي سوف نتحدث عنها بالتفصيل لاحقا.\n",
    "</div>"
   ]
  },
  {
   "cell_type": "markdown",
   "id": "9f6ad365",
   "metadata": {},
   "source": [
    "<div class=arabic>\n",
    "    <h3 class=title>خلايا كتابة الكود\n",
    "        </h3>\n",
    "خلايا كتابة الكود البرمجي تتميز بوجود كلمة In وقوسين مربعين بعدها امام كل خلية كالخلية التي تلي هذا السطر\n",
    "</div>"
   ]
  },
  {
   "cell_type": "code",
   "execution_count": null,
   "id": "b31012ae",
   "metadata": {},
   "outputs": [],
   "source": []
  },
  {
   "cell_type": "markdown",
   "id": "62560565",
   "metadata": {},
   "source": [
    "<div class=arabic>\n",
    "عند تشغيل هذه الخلية بعد كتابة كود برمجي بداخلها يقوم دفتر ملاحظات جوبتر بارسال الكود البرمجي الموجود في هذه الخلية الى مفسر اللغة البرمجية المختارة kernel لتفسير الكود البرمجي واظهار النتائج. وعلى الرغم من ان دفتر ملاحظات جوبتر لديه القدرة على التعامل مع اكثر من لغة برمجية مثل جافا سكريبت وجوليا وغيرها الا اننا سوف نقتصر الحديث على مفسر بايثون لاننا الان بصدد تعلم لغة بايثون فقط.\n",
    "</div>"
   ]
  },
  {
   "cell_type": "markdown",
   "id": "e44df47e",
   "metadata": {},
   "source": [
    "<div class=arabic>\n",
    "كما يجب الاشارة الى ان نوع المفسر kernel يتم تحديده عند انشاء دفتر ملاحظات جديد من صفحة الملفات الرئيسية في جوبيتر كما هو موضح في الصورة التالية:\n",
    "</div>"
   ]
  },
  {
   "cell_type": "markdown",
   "id": "b229010e",
   "metadata": {},
   "source": [
    "<img src=\"img/choose-kernel.PNG\">"
   ]
  },
  {
   "cell_type": "markdown",
   "id": "6ff512aa",
   "metadata": {},
   "source": [
    "<div class=arabic>\n",
    "او من خلال قائمة ملف File في شريط القوائم عند انشاء دفتر ملاحظات جديد كما شرحنا سابقا.\n",
    "</div>"
   ]
  },
  {
   "cell_type": "markdown",
   "id": "616d7f42",
   "metadata": {},
   "source": [
    "<div class=arabic>\n",
    "الاقواس المربعة بعد كلمة In والتي تكون امام خلية الكود يكتب داخلها ترتيب تنفيذ كود الخلية وذلك لاعطاء المبرمج مدلولا على الترتيب الذي تم به تنفيذ الخلايا. فتنفيذ كود الخلايا في دفتر الملاحظات جوبتر ليس بالضرورة ان يتم بالترتيب من الاعلى الى الاسفل ولكن يمكن للمبرمج ان يتنقل بين الخلايا كيفما شاء وينفذ الاكواد التي بداخلها بالترتيب الذي يريده رغم ان الطريقة المتفق عليها هي التسلسل من الاعلى الى الاسفل ليسهل على المبرمج فهم وتتبع المنطق الذي كتب به الكود. \n",
    "</div>"
   ]
  },
  {
   "cell_type": "markdown",
   "id": "f8137794",
   "metadata": {},
   "source": [
    "<div class=arabic><h2 class=title>خلايا تنسيق النص Markdown</h2></div>"
   ]
  },
  {
   "cell_type": "markdown",
   "id": "cce9a9cc",
   "metadata": {},
   "source": [
    "<div class=arabic>\n",
    "تسمح خلايا تنسيق النص بالقيام بالكثير من المهام التي تسهل على المبرمج كتابة تقارير وشروحات احترافيه كما فعلنا نحن هنا عند كتابتنا لهذه الشروحات التي بين يديك. فيمكن من خلالها ادراج عناوين باحجام مختلفة والوان مختلفة وادراج صور ومقاطع فيديو وكتابة جداول وقوائم ومعادلات رياضية الخ ... وتستخدم وسوم Markdown ووسوم تنسيق صفحات الويب html ولغة ترميز latex لانجاز المهام السابقة. سوف نعود الى كل هذه الامكانيات ونتناولها بشيء من التفصيل في نهاية هذا الدليل. \n",
    "</div>"
   ]
  },
  {
   "cell_type": "markdown",
   "id": "f5b33de0",
   "metadata": {},
   "source": [
    "<div class=arabic>\n",
    "كل ما اريدك ان تعرفه الان عن خلايا تنسيق النص هو انه لايوجد امامها كلمة In وقوسين مربعين كما هو الحال مع خلايا الكود. فالخلية التي تتلو هذا السطر هي خلية تنسيق نص كما هو واضح من القائمة المنسدلة التي اشرنا لها سابقا.\n",
    "</div>"
   ]
  },
  {
   "cell_type": "markdown",
   "id": "90331061",
   "metadata": {},
   "source": []
  },
  {
   "cell_type": "markdown",
   "id": "32013e79",
   "metadata": {},
   "source": [
    "<div class=arabic>\n",
    "    <h2 class=title>خلايا التنسيق الخاصة</h2>\n",
    "</div>"
   ]
  },
  {
   "cell_type": "markdown",
   "id": "22cb5732",
   "metadata": {},
   "source": [
    "<div class=arabic>\n",
    " لا تحتاج الى التعرف الى هذا النوع من الخلايا الان لان خلايا التنسيق السابقة تفي بالغرض في هذه المرحلة من تعلمنا للغة بايثون. وسوف تظهر لك هذه الخلايا مشابهة لخلايا تنسيق النص تماما ولايمكنك التفريق بينهما الا من خلال القائمة المنسدلة السابقة او من خلال الضغط على زر تنفيذ الكود.\n",
    "</div>"
   ]
  },
  {
   "cell_type": "markdown",
   "id": "d61ce077",
   "metadata": {},
   "source": [
    "<div class=arabic>\n",
    "    <h2 class=title>خلايا كتابة العناوين Heading</h2>\n",
    "</div>"
   ]
  },
  {
   "cell_type": "markdown",
   "id": "23b021c0",
   "metadata": {},
   "source": [
    "<div class=arabic>\n",
    "خلايا كتابة العناوين هي جزء من خلايا تنسيق النص Markdown وسوف نتكلم عنها عندما نتحدث عن التنسيق بوسوم Markdown\n",
    "</div>"
   ]
  },
  {
   "cell_type": "markdown",
   "id": "079b0bbe",
   "metadata": {},
   "source": [
    "<div class=arabic><h2 class=title>\n",
    "    طريقة استخدام لوحة المفاتيح\n",
    "    </h2></div>"
   ]
  },
  {
   "cell_type": "markdown",
   "id": "b7c8b8c8",
   "metadata": {},
   "source": [
    "<div class=arabic>\n",
    "تعلمنا سابقا انه يمكن التغيير بين انوع الخلايا الاربع السابقة من خلال القائمة المنسدلة التي تظهر على شريط المهام ولكن لابد ان نعرفك على طريقة اسهل تعتمد على استخدام لوحة المفاتيح.\n",
    "</div>"
   ]
  },
  {
   "cell_type": "markdown",
   "id": "07df78dd",
   "metadata": {},
   "source": [
    "<div class=arabic>\n",
    "لكي نستخدم لوحة المفاتيح في تنفيذ الاوامر كتغيير نوع الخلية مثلا علينا ان نوضح انه يوجد نمطين لتفسير الضغظ على ارزار لوحة المفاتيح:<br>\n",
    "    1. نمط التحرير edit mode <br>\n",
    "    2. نمط الاوامر command mode <br>\n",
    "    فاذا كان دفتر الملاحظات في نمط التحرير وضغطنا على حرف M من لوحة المفاتيح مثلا فان هذا الفعل يودي الى كتابة حرف M داخل الخلية التى نعمل عليها حاليا. اما اذا كان دفتر الملاحظات في نمط الاوامر فان الضغط على حرف M من لوحة المفاتيح يفسر على انه امر يؤدي الى تغيير نوع الخلية لتصبح من النوع خلية تنسيق نص Markdown.\n",
    "</div>"
   ]
  },
  {
   "cell_type": "markdown",
   "id": "0bacd4cb",
   "metadata": {},
   "source": [
    "<div class=arabic>\n",
    "لذلك يجب علينا ان نتعرف على ايا من هذين النمطين فعال عند استخدامنا للوحة المفاتيح وعلى كيفية التغيير بين هذين النمطين. لتعرف على نوع النمط الفعال حاليا في دفتر الملاحظات هناك مدلولين رئيسيين. اول هذين المدلولين هو لون اطار الخلية التي نعمل عليها. فاذا كان لون الاطار اخضر فان هذا يعطي دلالة على ان نمط التحرير هو النمط الفعال . اما اذا كان لون اطار الخلية الجانبي ازرق فان دفتر الملاحظات يكون في وضع نمط الاوامر. المدلول الثاني على نوع النمط الحالي للوحة المفاتيح يتم من خلال شريط الاوامر كما شرحنا سابقا. فوجود صورة قلم بين وضع الامان ونوع المفسر يدل على ان دفتر الملاحظات في نمط التحرير. اما اذا لم يكون هناك صورة للقلم فان نمط الاوامر يكون فعالا.\n",
    "</div>"
   ]
  },
  {
   "cell_type": "markdown",
   "id": "9fe30c71",
   "metadata": {},
   "source": [
    "<img src=\"img/edit-mode.PNG\"><img src=\"img/command-mode.PNG\">"
   ]
  },
  {
   "cell_type": "markdown",
   "id": "ea63b41b",
   "metadata": {},
   "source": [
    "<div class=arabic>\n",
    "بعد ان تعرفنا على نوع النمط الحالي للوحة المفاتيح وكيفية التفرقة بينهما بقي ان نعرفك على كيفية التغيير بين هذين النمطين. هناك طريقتين لتغيير نمط لوحة المفاتيح اولها استخدام مؤشر الفارة. فعند الضغط بالزر الايسر خارح الاطار الداكن للخلية فان نمط لوحة المفاتيح يتحول الى نمط الاوامر. اما اذا تم الضغط بالزر الايسر للفأرة داخل الجزء الداكن من الخلية فان نمط لوحة المفاتيح يتحول الى نمط التحرير.\n",
    "</div>"
   ]
  },
  {
   "cell_type": "markdown",
   "id": "7329fd68",
   "metadata": {},
   "source": [
    "<img src=\"img/keyboard-mode.PNG\">"
   ]
  },
  {
   "cell_type": "markdown",
   "id": "9c2e556c",
   "metadata": {},
   "source": [
    "<div class=arabic>\n",
    "في الخلية التي تلي هذا السطر قم بالتنقل بين نمطي لوحة المفاتيح ولاحظ كيف يتغير لون اطار الخلية عندما تنتقل بين النمطين.\n",
    "</div>"
   ]
  },
  {
   "cell_type": "code",
   "execution_count": null,
   "id": "ae32b9ca",
   "metadata": {},
   "outputs": [],
   "source": []
  },
  {
   "cell_type": "markdown",
   "id": "4a201930",
   "metadata": {},
   "source": [
    "<div class=arabic>\n",
    "    كما يمكن التنقل بين نمطي لوحة المفاتيح باستخدم زر الادخال Enter وزر التنحي Esc. فعند الضغط على زر الادخال يتحول نمط لوحة المفاتيح الى نمط التحرير اما الضغط على زر التنحي Esc سوف ينقلنا الى نمط الاوامر.\n",
    "    <div>"
   ]
  },
  {
   "cell_type": "markdown",
   "id": "eebff928",
   "metadata": {},
   "source": [
    "<div class=arabic>\n",
    "في الخلية التي تلي هذا السطر قم بالتنقل بين نمطي لوحة المفاتيح باستخدام زر الادخال وزر التنحي. لاحظ كيف يتغير لون اطار الخلية. \n",
    "</div>"
   ]
  },
  {
   "cell_type": "code",
   "execution_count": null,
   "id": "09489a9b",
   "metadata": {},
   "outputs": [],
   "source": []
  },
  {
   "cell_type": "markdown",
   "id": "3b910d7a",
   "metadata": {},
   "source": [
    "<div class=arabic>\n",
    "اصبحنا الان جاهزين لتغيير نوع الخلية من خلال استخدام لوحة المفاتيح. فعندما تكون لوحة المفاتيح في وضع الاوامر يمكن ان نغير نوع الخلية الى خلية كود code بالضغط على الحرف y من لوحة المفاتيح. وللتحويل الى خلية تنسيق نص نقوم بالضغط على حرف M كما اشرنا سابقا. اما الصغط على حرف r فسوف يحولها الى نمط التنسيق الخاص Raw NBConvert.\n",
    "</div>"
   ]
  },
  {
   "cell_type": "markdown",
   "id": "75d393ba",
   "metadata": {},
   "source": [
    "<div class=arabic>\n",
    "في الخلية التي تلي هذا السطر قم بالتنقل بين انواع الخلايا باستخدام لوحة المفاتيح. لاحظ كيف تتغيير القائمة المنسدلة في شريط الادوات الخاصة بنوع الخلية بهذه الاوامر. تأكد ان لوحة المفاتيج في نمط الاوامر.\n",
    "</div>"
   ]
  },
  {
   "cell_type": "code",
   "execution_count": null,
   "id": "4780bd5d",
   "metadata": {},
   "outputs": [],
   "source": []
  },
  {
   "cell_type": "markdown",
   "id": "eacfa0be",
   "metadata": {},
   "source": [
    "<div class=arabic>\n",
    "لا يقتصر استخدام اوامر لوحة المفاتيح على تغيير نوع الخلايا فقط بل هناك الكثير من الاوامر التي يمكن انجازها بضغطة زر او زرين. ولتعرف على قائمة بهذه الاوامر يمكنك الضغط على صورة لوحة الفاتيح الموجودة في شريط الادوات ا لتي اشرنا لها سابقا او من خلال قائمة مساعدة help في شريط القوائم كما هو موضح بالصورتين التاليتين.\n",
    "</div>"
   ]
  },
  {
   "cell_type": "markdown",
   "id": "e3fc76b8",
   "metadata": {},
   "source": [
    "<img src=\"img/keyboard-shortcut1.PNG\">\n",
    "<img src=\"img/keyboard-shortcut2.PNG\">"
   ]
  },
  {
   "cell_type": "markdown",
   "id": "4ec724ff",
   "metadata": {},
   "source": [
    "<div class=arabic>\n",
    "لاحظ ان القائمة help تظهر ان الضغط على الحرف H عندما تكون لوحة المفاتيح في نمط الاوامر سوف يظهر قائمة الاومر ايضا. \n",
    "</div>"
   ]
  },
  {
   "cell_type": "markdown",
   "id": "4fd45430",
   "metadata": {},
   "source": [
    "<div class=arabic>\n",
    "استخدام احد الطرق الثلاثة السابقة سوف يظهر لنا قائمة اوامر لوحة المفاتيح التالية:\n",
    "</div>"
   ]
  },
  {
   "cell_type": "markdown",
   "id": "3a747d46",
   "metadata": {},
   "source": [
    "<img src=\"img/keyboard-shortcut-list.PNG\">"
   ]
  },
  {
   "cell_type": "markdown",
   "id": "36cdfcfb",
   "metadata": {},
   "source": [
    "<div class=arabic>\n",
    "ما يميز استخدام الضغظ على صورة لوحة المفاتيح في شريط الادوات لاظهار قائمة الاوامر على الطريقتين الاخريتين ان القائمة التي تظهر لك باستخدام هذه الطريقة ياتي معها محث بحث يسمح لك بالبحث عن الامر الذي تريد الوصل له .\n",
    "</div>"
   ]
  },
  {
   "cell_type": "markdown",
   "id": "d0e695c5",
   "metadata": {},
   "source": [
    "<div class=arabic>\n",
    "كما يجب ملاحظة ان قائمة الاوامر السابقة لا تقتصر على الاوامر التي يمكن تنفيذها عندما تكون لوحة المفاتيح في نمط الاوامر بل تحوي القائمة ايضا على الاوامر التي يمكن تنفيذها عندما تكون لوحة المفاتيح في نمط التحرير.\n",
    "</div>"
   ]
  },
  {
   "cell_type": "markdown",
   "id": "53dbb41b",
   "metadata": {},
   "source": [
    "<div class=arabic>\n",
    "من اكثر الاوامر التي يتم استخدامها عن طريق لوحة المفاتيح عن التعامل مع دفتر ملاحظات بايثون ما يلي:\n",
    "</div>"
   ]
  },
  {
   "cell_type": "markdown",
   "id": "14ce5126",
   "metadata": {},
   "source": [
    "<div class=arabic>\n",
    "<b>    \n",
    "اولا: اوامر تغيير نوع الخلية \n",
    "</div>"
   ]
  },
  {
   "cell_type": "markdown",
   "id": "805b81b3",
   "metadata": {},
   "source": [
    "<div class=arabic>\n",
    "تم شرحه سابقا\n",
    "</div>"
   ]
  },
  {
   "cell_type": "markdown",
   "id": "697a8aa3",
   "metadata": {},
   "source": [
    "<div class=arabic>\n",
    "<b>\n",
    " ثانيا: اومر تنفيذ اكواد الخلية   \n",
    "</div>"
   ]
  },
  {
   "cell_type": "markdown",
   "id": "2f339ae7",
   "metadata": {},
   "source": [
    "<div class=arabic>\n",
    "هناك ثلاثة اوامر يمكن استخدامها لتنفيذ ما بداخل الخلية من  اكواد\n",
    "    لنبدأ اولا باستخدام الامر shift+Enter والذي يقوم بتنفيذ كود الخلية والنزول الى خلية تلي هذه الخلية. ويمكن تنفيذ هذا الامر في كلا النمطين للوحة المفتاح ويؤدي الى نفس النتائج.\n",
    "</div>"
   ]
  },
  {
   "cell_type": "markdown",
   "id": "531a24a2",
   "metadata": {},
   "source": [
    "<div class=arabic>\n",
    "كتمرين على على هذا الامر قم بتنفيذ كود الخلية التي تلي هذا السطر ولاحظ ماذا يحدث.حاول ان تنفذ الامر عندما تكون لوحة المفاتيح في نمط التحرير وكذلك ايضا عندما تكون في نمط الاوامر. \n",
    "</div>"
   ]
  },
  {
   "cell_type": "code",
   "execution_count": null,
   "id": "b175324d",
   "metadata": {},
   "outputs": [],
   "source": [
    "3+5"
   ]
  },
  {
   "cell_type": "markdown",
   "id": "c3e15f1f",
   "metadata": {},
   "source": [
    "<div class=arabic>\n",
    "الطريقة الثانية لتنفيذ كود الخلية هو الضغظ على ctrl+Enter في نفس الوقت. يقوم هذا الامر بتنفيذ كود الخلية والبقاء في نفس الخلية. ويعتبر هذا هو الفرق الوحيد بين استخدامنا لامر ctrl+Enter بدلا  من الامر shift+Enter.\n",
    "</div>"
   ]
  },
  {
   "cell_type": "markdown",
   "id": "29d88713",
   "metadata": {},
   "source": [
    "<div class=arabic>\n",
    "في الخلية التي تلي هذا السطر قم بتنفيذ كود الخلية باستخدام الامرين ctrl+Enter و shift+Enter ولاحظ الفرق بين هذين الامرين من ناحية انتقال المؤشر. \n",
    "</div>"
   ]
  },
  {
   "cell_type": "code",
   "execution_count": 3,
   "id": "cdb62e59",
   "metadata": {},
   "outputs": [
    {
     "name": "stdout",
     "output_type": "stream",
     "text": [
      "Ahmad\n"
     ]
    }
   ],
   "source": [
    "name=\"Ahmad\"\n",
    "print(name)"
   ]
  },
  {
   "cell_type": "markdown",
   "id": "9fe9db37",
   "metadata": {},
   "source": [
    "<div class=arabic>\n",
    "الطريقة الثالثة لتنفيذ كود الخلية هو استخدام الامر Alt+Enter والذي يقوم بتنفيذ كود الخلية وانشاء خلية جديدة تحت الخلية التي قمنا بتنفيذ كودها. \n",
    "</div>"
   ]
  },
  {
   "cell_type": "markdown",
   "id": "727f12e4",
   "metadata": {},
   "source": [
    "<div class=arabic>\n",
    "كتمرين على هذا الامر قم بتنفيذ كود الخلية التي تلي هذا السطر ولاحظ كيف يتم انشاء خلية جديدة في كل مره نقوم بالضغظ على هذا الامر.\n",
    "</div>"
   ]
  },
  {
   "cell_type": "code",
   "execution_count": 6,
   "id": "c72e5aae",
   "metadata": {},
   "outputs": [
    {
     "name": "stdout",
     "output_type": "stream",
     "text": [
      "python is an easy progarmming language\n"
     ]
    }
   ],
   "source": [
    "print(\"python is an easy progarmming language\")"
   ]
  },
  {
   "cell_type": "markdown",
   "id": "72d7bda7",
   "metadata": {},
   "source": [
    "<div class=arabic>\n",
    "    <b>\n",
    "ثالثا: اوامر انشاء خلية جديدة\n",
    "</div>"
   ]
  },
  {
   "cell_type": "markdown",
   "id": "e1c3b621",
   "metadata": {},
   "source": [
    "<div class=arabic>\n",
    "يمكن انشاء خلية جديدة فوق الخلية المختارة بالضغط على حرف A من لوحة المفاتيح عندما تكون في نمط الاوامر . والحرف A يمثل الحرف الاول من كلمة Above. \n",
    "</div>"
   ]
  },
  {
   "cell_type": "markdown",
   "id": "a3a7c12f",
   "metadata": {},
   "source": [
    "<div class=arabic>\n",
    "    كتمرين على هذا الامر قم بانشاء خلية جديدة فوق الخلية التالية:\n",
    "    <div>"
   ]
  },
  {
   "cell_type": "code",
   "execution_count": 7,
   "id": "970b1be9",
   "metadata": {},
   "outputs": [],
   "source": [
    "# قم بانشاء خلية فوق هذه الخلية"
   ]
  },
  {
   "cell_type": "markdown",
   "id": "4976fc03",
   "metadata": {},
   "source": [
    "<div class=arabic>\n",
    "ويمكن انشاء خلية تحت الخلية الحالية بالضغط على حرف B من لوحة المفاتيح عندما تكون في نمط الاوامر. والحرف B يمثل الحرف الحرف الاول من كلمة Below في اللغة الانجليزية.\n",
    "</div>"
   ]
  },
  {
   "cell_type": "markdown",
   "id": "c03d968d",
   "metadata": {},
   "source": [
    "<div class=arabic>\n",
    "كتمرين على هذا الامر قم بانشاء خلية تحت الخلية التالية:\n",
    "</div>"
   ]
  },
  {
   "cell_type": "code",
   "execution_count": 8,
   "id": "c9872d07",
   "metadata": {},
   "outputs": [],
   "source": [
    "# قم بانشاء خلية تحت هذه الخلية"
   ]
  },
  {
   "cell_type": "markdown",
   "id": "4299e922",
   "metadata": {},
   "source": [
    "<div class=arabic>\n",
    "    <b>\n",
    "رابعا: امر مسح خلية\n",
    "</div>"
   ]
  },
  {
   "cell_type": "markdown",
   "id": "feb3c905",
   "metadata": {},
   "source": [
    "<div class=arabic>\n",
    "يمكن مسح اي خلية من خلال استخدام لوحة المفاتيح عندما تكون في نمط الاوامر بالضغط على حرف D مرتين.\n",
    "</div>"
   ]
  },
  {
   "cell_type": "markdown",
   "id": "ad132d60",
   "metadata": {},
   "source": [
    "<div class=arabic>\n",
    "كمترين على هذا الامر قم بمسح الخلية التالية:\n",
    "</div>"
   ]
  },
  {
   "cell_type": "code",
   "execution_count": 10,
   "id": "46b5b0bd",
   "metadata": {},
   "outputs": [],
   "source": [
    "# امسح هذه الخلية"
   ]
  },
  {
   "cell_type": "markdown",
   "id": "2d584640",
   "metadata": {},
   "source": [
    "<div class=arabic>\n",
    "ويمكن التراجع عن مسح الخلية بالضغط على حرف Z عندما تكون لوحة المفاتيح في نمط الاوامر.\n",
    "</div>"
   ]
  },
  {
   "cell_type": "markdown",
   "id": "2b64a1e8",
   "metadata": {},
   "source": [
    "<div class=arabic>\n",
    "كتمرين على امر التراجع عن مسح الخلية قم بسمح ا لخلية ا لتالية ومن ثم استخدم امر التراجع عن  المسح لاستراجاع الخلية الممسوحة.\n",
    "</div>"
   ]
  },
  {
   "cell_type": "code",
   "execution_count": 11,
   "id": "d43707df",
   "metadata": {},
   "outputs": [],
   "source": [
    "# امسح هذه الخلية من خلال لوحة المفاتيح ثم قم بالتراجع عن امر المسح"
   ]
  },
  {
   "cell_type": "markdown",
   "id": "7c4f60a9",
   "metadata": {},
   "source": [
    "<div class=arabic>\n",
    "    <h2 class=title>\n",
    "    الاوامر السحرية magic commands\n",
    "    </h2>\n",
    "</div>"
   ]
  },
  {
   "cell_type": "markdown",
   "id": "63908276",
   "metadata": {},
   "source": [
    "<div class=arabic>\n",
    "تم اضافة الاوامر السحرية الى دفتر ملاحظات جوبتر لزيادة فاعليته في اداء مهام اكثر وليصبح بيئة مناسبة لتطوير الاكواد البرمجية. وتنقسم هذه الاوامر الى نوعين رئيسيين. االاول يسمى اوامر السطر الواحد line magic اما الثاني فيسمى اوامر الخلية cell magic.\n",
    "</div>"
   ]
  },
  {
   "cell_type": "markdown",
   "id": "2da393f4",
   "metadata": {},
   "source": [
    "<div class=arabic>\n",
    "<h3 class=title>اوامر السطر الواحد line magic</h3>\n",
    "</div>"
   ]
  },
  {
   "cell_type": "markdown",
   "id": "050b1bbe",
   "metadata": {},
   "source": [
    "<div class=arabic>\n",
    "كما يشير اليها اسمها اوامر السطر الواحد تعمل على تنفيذ السطر التي هي فيه بينما بقية الاسطر الاخرى يمكن استغلالها لكتابة اكواد برمجية اخرى خاصة بالمفسر الذي يعمل معه دفتر ملاحظات جوبتر. فمثلا يمكن استخدام الامر lsmagic% لحفظ قائمة الاوامر السحرية سواء كانت اوامر السطر الواحد او اوامر الخلية في متغير اسمه mc ومن ثم يمكن طباعة محتويات هذه القائمة من خلال امر الطباعة في بايثون ()print كما في المثال التالي:\n",
    "</div>"
   ]
  },
  {
   "cell_type": "code",
   "execution_count": 30,
   "id": "11f2f1ce",
   "metadata": {},
   "outputs": [
    {
     "name": "stdout",
     "output_type": "stream",
     "text": [
      "Available line magics:\n",
      "%alias  %alias_magic  %autoawait  %autocall  %automagic  %autosave  %bookmark  %cat  %cd  %clear  %colors  %conda  %config  %connect_info  %cp  %debug  %dhist  %dirs  %doctest_mode  %ed  %edit  %env  %gui  %hist  %history  %killbgscripts  %ldir  %less  %lf  %lk  %ll  %load  %load_ext  %loadpy  %logoff  %logon  %logstart  %logstate  %logstop  %ls  %lsmagic  %lx  %macro  %magic  %man  %matplotlib  %mkdir  %more  %mv  %notebook  %page  %pastebin  %pdb  %pdef  %pdoc  %pfile  %pinfo  %pinfo2  %pip  %popd  %pprint  %precision  %prun  %psearch  %psource  %pushd  %pwd  %pycat  %pylab  %qtconsole  %quickref  %recall  %rehashx  %reload_ext  %rep  %rerun  %reset  %reset_selective  %rm  %rmdir  %run  %save  %sc  %set_env  %store  %sx  %system  %tb  %time  %timeit  %unalias  %unload_ext  %who  %who_ls  %whos  %xdel  %xmode\n",
      "\n",
      "Available cell magics:\n",
      "%%!  %%HTML  %%SVG  %%bash  %%capture  %%debug  %%file  %%html  %%javascript  %%js  %%latex  %%markdown  %%perl  %%prun  %%pypy  %%python  %%python2  %%python3  %%ruby  %%script  %%sh  %%svg  %%sx  %%system  %%time  %%timeit  %%writefile\n",
      "\n",
      "Automagic is ON, % prefix IS NOT needed for line magics.\n"
     ]
    }
   ],
   "source": [
    "mc=%lsmagic\n",
    "print(mc)"
   ]
  },
  {
   "cell_type": "markdown",
   "id": "b73c2b45",
   "metadata": {},
   "source": [
    "<div class=arabic>\n",
    "لاحظ انه يمكننا تنفيذ امر عرض قائمة الاوامر السحرية من خلال كتابة الامر مباشرة في خلية كود كما في المثال التالي:\n",
    "</div>"
   ]
  },
  {
   "cell_type": "code",
   "execution_count": 31,
   "id": "143f15ea",
   "metadata": {},
   "outputs": [
    {
     "data": {
      "application/json": {
       "cell": {
        "!": "OSMagics",
        "HTML": "Other",
        "SVG": "Other",
        "bash": "Other",
        "capture": "ExecutionMagics",
        "debug": "ExecutionMagics",
        "file": "Other",
        "html": "DisplayMagics",
        "javascript": "DisplayMagics",
        "js": "DisplayMagics",
        "latex": "DisplayMagics",
        "markdown": "DisplayMagics",
        "perl": "Other",
        "prun": "ExecutionMagics",
        "pypy": "Other",
        "python": "Other",
        "python2": "Other",
        "python3": "Other",
        "ruby": "Other",
        "script": "ScriptMagics",
        "sh": "Other",
        "svg": "DisplayMagics",
        "sx": "OSMagics",
        "system": "OSMagics",
        "time": "ExecutionMagics",
        "timeit": "ExecutionMagics",
        "writefile": "OSMagics"
       },
       "line": {
        "alias": "OSMagics",
        "alias_magic": "BasicMagics",
        "autoawait": "AsyncMagics",
        "autocall": "AutoMagics",
        "automagic": "AutoMagics",
        "autosave": "KernelMagics",
        "bookmark": "OSMagics",
        "cat": "Other",
        "cd": "OSMagics",
        "clear": "KernelMagics",
        "colors": "BasicMagics",
        "conda": "PackagingMagics",
        "config": "ConfigMagics",
        "connect_info": "KernelMagics",
        "cp": "Other",
        "debug": "ExecutionMagics",
        "dhist": "OSMagics",
        "dirs": "OSMagics",
        "doctest_mode": "BasicMagics",
        "ed": "Other",
        "edit": "KernelMagics",
        "env": "OSMagics",
        "gui": "BasicMagics",
        "hist": "Other",
        "history": "HistoryMagics",
        "killbgscripts": "ScriptMagics",
        "ldir": "Other",
        "less": "KernelMagics",
        "lf": "Other",
        "lk": "Other",
        "ll": "Other",
        "load": "CodeMagics",
        "load_ext": "ExtensionMagics",
        "loadpy": "CodeMagics",
        "logoff": "LoggingMagics",
        "logon": "LoggingMagics",
        "logstart": "LoggingMagics",
        "logstate": "LoggingMagics",
        "logstop": "LoggingMagics",
        "ls": "Other",
        "lsmagic": "BasicMagics",
        "lx": "Other",
        "macro": "ExecutionMagics",
        "magic": "BasicMagics",
        "man": "KernelMagics",
        "matplotlib": "PylabMagics",
        "mkdir": "Other",
        "more": "KernelMagics",
        "mv": "Other",
        "notebook": "BasicMagics",
        "page": "BasicMagics",
        "pastebin": "CodeMagics",
        "pdb": "ExecutionMagics",
        "pdef": "NamespaceMagics",
        "pdoc": "NamespaceMagics",
        "pfile": "NamespaceMagics",
        "pinfo": "NamespaceMagics",
        "pinfo2": "NamespaceMagics",
        "pip": "PackagingMagics",
        "popd": "OSMagics",
        "pprint": "BasicMagics",
        "precision": "BasicMagics",
        "prun": "ExecutionMagics",
        "psearch": "NamespaceMagics",
        "psource": "NamespaceMagics",
        "pushd": "OSMagics",
        "pwd": "OSMagics",
        "pycat": "OSMagics",
        "pylab": "PylabMagics",
        "qtconsole": "KernelMagics",
        "quickref": "BasicMagics",
        "recall": "HistoryMagics",
        "rehashx": "OSMagics",
        "reload_ext": "ExtensionMagics",
        "rep": "Other",
        "rerun": "HistoryMagics",
        "reset": "NamespaceMagics",
        "reset_selective": "NamespaceMagics",
        "rm": "Other",
        "rmdir": "Other",
        "run": "ExecutionMagics",
        "save": "CodeMagics",
        "sc": "OSMagics",
        "set_env": "OSMagics",
        "store": "StoreMagics",
        "sx": "OSMagics",
        "system": "OSMagics",
        "tb": "ExecutionMagics",
        "time": "ExecutionMagics",
        "timeit": "ExecutionMagics",
        "unalias": "OSMagics",
        "unload_ext": "ExtensionMagics",
        "who": "NamespaceMagics",
        "who_ls": "NamespaceMagics",
        "whos": "NamespaceMagics",
        "xdel": "NamespaceMagics",
        "xmode": "BasicMagics"
       }
      },
      "text/plain": [
       "Available line magics:\n",
       "%alias  %alias_magic  %autoawait  %autocall  %automagic  %autosave  %bookmark  %cat  %cd  %clear  %colors  %conda  %config  %connect_info  %cp  %debug  %dhist  %dirs  %doctest_mode  %ed  %edit  %env  %gui  %hist  %history  %killbgscripts  %ldir  %less  %lf  %lk  %ll  %load  %load_ext  %loadpy  %logoff  %logon  %logstart  %logstate  %logstop  %ls  %lsmagic  %lx  %macro  %magic  %man  %matplotlib  %mkdir  %more  %mv  %notebook  %page  %pastebin  %pdb  %pdef  %pdoc  %pfile  %pinfo  %pinfo2  %pip  %popd  %pprint  %precision  %prun  %psearch  %psource  %pushd  %pwd  %pycat  %pylab  %qtconsole  %quickref  %recall  %rehashx  %reload_ext  %rep  %rerun  %reset  %reset_selective  %rm  %rmdir  %run  %save  %sc  %set_env  %store  %sx  %system  %tb  %time  %timeit  %unalias  %unload_ext  %who  %who_ls  %whos  %xdel  %xmode\n",
       "\n",
       "Available cell magics:\n",
       "%%!  %%HTML  %%SVG  %%bash  %%capture  %%debug  %%file  %%html  %%javascript  %%js  %%latex  %%markdown  %%perl  %%prun  %%pypy  %%python  %%python2  %%python3  %%ruby  %%script  %%sh  %%svg  %%sx  %%system  %%time  %%timeit  %%writefile\n",
       "\n",
       "Automagic is ON, % prefix IS NOT needed for line magics."
      ]
     },
     "execution_count": 31,
     "metadata": {},
     "output_type": "execute_result"
    }
   ],
   "source": [
    "%lsmagic"
   ]
  },
  {
   "cell_type": "markdown",
   "id": "d38d5bb8",
   "metadata": {},
   "source": [
    "<div class=arabic>\n",
    "وكان غرضنا من عرض الطريقة الاولى هو ان نبين لك معنى اوامر السطر الواحد وكيف يمكن ان تتؤام مع لغة البرمجة التي نعمل بها. \n",
    "</div>"
   ]
  },
  {
   "cell_type": "markdown",
   "id": "b66a56a6",
   "metadata": {},
   "source": [
    "<div class=arabic>\n",
    "عند النظر الى اخر سطر في القائمة السابقة نجد ملاحظة عن كيفية تشغيل الاوامر السحرية. فمثلا يمكن ان نستخدم اوامر السطر الواحد بدون استخدام علامة النسبة ا لمئوية ولكن بعد تنفيذ الامر automagic والذي يظهر في القائمة السابقة انه في وضع التشغيل. هذا يعني اننا يمكننا عرض الامر السابق  من دون استخدام علامة النسبة المئوية ويمكنك التأكد من ذلك بكاتبة هذا الامر بدون على علامة النسبة المئيوية في الخالية التالية:\n",
    "</div>"
   ]
  },
  {
   "cell_type": "code",
   "execution_count": null,
   "id": "9c03a1b0",
   "metadata": {},
   "outputs": [],
   "source": [
    "lsmagic"
   ]
  },
  {
   "cell_type": "markdown",
   "id": "7c50fa5e",
   "metadata": {},
   "source": [
    "<div class=arabic>\n",
    "ويمكن اطفاء وضغ التشغيل التلقائي باستخدام الامر automagic% 0 او اعادة تشغيله باستبدال الرقم 0 بالرقم 1.\n",
    "</div>"
   ]
  },
  {
   "cell_type": "markdown",
   "id": "3f177372",
   "metadata": {},
   "source": [
    "<div class=arabic>\n",
    "قم باطفاء وضع التشغيل الالي وحاول تنفيذ عرض قائمة الاوامر السحرية بدون استخدام النسبة ا لمئوية. ماذا تلاحظ\n",
    "</div>"
   ]
  },
  {
   "cell_type": "code",
   "execution_count": 4,
   "id": "774cf6c5",
   "metadata": {},
   "outputs": [],
   "source": [
    "# قم باطفاء التشغيل الالي للاوامر السحرية هنا\n"
   ]
  },
  {
   "cell_type": "code",
   "execution_count": 37,
   "id": "84093b4b",
   "metadata": {},
   "outputs": [],
   "source": [
    "# استخدم امر عرض الاوامر السحرية هنا\n"
   ]
  },
  {
   "cell_type": "markdown",
   "id": "cf4c6566",
   "metadata": {},
   "source": [
    "<div class=arabic>\n",
    "من اوامر السطر الواحد المهمة التي قد يعود عليك تعلمها بالفائدة مايلي:\n",
    "</div>"
   ]
  },
  {
   "cell_type": "markdown",
   "id": "922f3b95",
   "metadata": {},
   "source": [
    "<div class=arabic>\n",
    "    اولا: اوامر محرر الاوامر والتي من اشهرها:<br>\n",
    "    <b style=\"color:blue\">pwd%</b>: لعرض مسارالمجلد الحالي الذي نعمل بداخله كما في المثال التالي:\n",
    "</div>"
   ]
  },
  {
   "cell_type": "code",
   "execution_count": null,
   "id": "15d63bbf",
   "metadata": {},
   "outputs": [],
   "source": [
    "%pwd"
   ]
  },
  {
   "cell_type": "markdown",
   "id": "1fe43e3a",
   "metadata": {},
   "source": [
    "<div class=arabic>\n",
    "    <b style=\"color:blue\">ls%</b>: لعرض كافة الملفات والمجلدات في المجلد الذي نعمل بداخله كما في المثال التالي:\n",
    "</div>"
   ]
  },
  {
   "cell_type": "code",
   "execution_count": null,
   "id": "559d097c",
   "metadata": {},
   "outputs": [],
   "source": [
    "%ls"
   ]
  },
  {
   "cell_type": "markdown",
   "id": "592e93ec",
   "metadata": {},
   "source": [
    "<div class=arabic>\n",
    "    <b style=\"color:blue\">cd%</b>: للتنقل بين المجلدات فاذا اردنا الانتقال الى المجلد img الموجود داخل المجلد الحالي نكتب الامر التالي:\n",
    "</div>"
   ]
  },
  {
   "cell_type": "code",
   "execution_count": null,
   "id": "67397747",
   "metadata": {},
   "outputs": [],
   "source": [
    "%cd img"
   ]
  },
  {
   "cell_type": "markdown",
   "id": "c2e6221c",
   "metadata": {},
   "source": [
    "<div class=arabic>\n",
    "سوف يعرض لنا دفتر ملاحظات جوبتر عند تنفيذ الامر السابق اننا بالفعل انتقلنا للمجلد img ويمكن التاكد من ذلك من خلال استخدام الامر pwd% كما في المثال التالي:\n",
    "</div>"
   ]
  },
  {
   "cell_type": "code",
   "execution_count": null,
   "id": "e4b4d8a5",
   "metadata": {
    "scrolled": true
   },
   "outputs": [],
   "source": [
    "%pwd"
   ]
  },
  {
   "cell_type": "markdown",
   "id": "ccbfe503",
   "metadata": {},
   "source": [
    "<div class=arabic>\n",
    "يمكن العوده الى المجلد السابق arabic-python-notebook باستخدام الامر cd% كما في المثال التالي:\n",
    "</div> "
   ]
  },
  {
   "cell_type": "code",
   "execution_count": null,
   "id": "69667b9d",
   "metadata": {},
   "outputs": [],
   "source": [
    "%cd .."
   ]
  },
  {
   "cell_type": "markdown",
   "id": "baf7eaec",
   "metadata": {},
   "source": [
    "<div class=arabic>\n",
    "هناك الكثير من الاوامر التي تتعلق باستخدام محث الاوامر سواء كان في نظام تشغيل وندوز او ماك او لينكس والتي يحسن بالمبرمج ان يتعلمها ويتقنها والتي لا يسع المقام هنا لشرحها.\n",
    "</div>"
   ]
  },
  {
   "cell_type": "markdown",
   "id": "0826ed88",
   "metadata": {},
   "source": [
    " <a name=\"m\"></a> \n",
    "<div class=arabic >\n",
    "    <h2 class=title>\n",
    "        خلايا تنسيق النص Markdown\n",
    "    </h2>\n",
    "   \n",
    "</div>"
   ]
  },
  {
   "cell_type": "markdown",
   "id": "41846ca7",
   "metadata": {},
   "source": [
    "<div class=arabic>\n",
    "    Markdown  هي عملية ترميز نصية بسيطة تستخدم لتنسيق النصوص في المتصفح واظهارها بشكل احترافي جميل. فمثلا يمكن التحكم في مقاس العناوين باستخدام علامة الهاش تاق # بحيث كلما زاد عدد # المكتوبة قبل نص العنوان كلما صغر مقاسه كما هو موضح في الخلية التي تلي هذا السطر.(قم بالنقر المزدوج على الخلية لاظهار كيف تم كتابتها بهذا الشكل) \n",
    "</div>"
   ]
  },
  {
   "cell_type": "markdown",
   "id": "916d7848",
   "metadata": {},
   "source": [
    "# title\n",
    "## title\n",
    "### title\n",
    "#### title\n",
    "##### title\n",
    "###### title"
   ]
  },
  {
   "cell_type": "markdown",
   "id": "d2253c3d",
   "metadata": {},
   "source": [
    "<div class=arabic>\n",
    "يجب ملاحظة انه لا بد من ترك مسافة بين نص العنوان وعلامات الهاش تاق.\n",
    "</div>"
   ]
  },
  {
   "cell_type": "markdown",
   "id": "5d6e5911",
   "metadata": {},
   "source": [
    "<div class=arabic>\n",
    "للتحبير على كلمة او نص تستخدم علامتي نجمة قبل وبعد النص المراد تحبيره كما في الخلية التي هذا السطر. (انقر بالفأرة نقرا مزدوجا لاظهار كيف تم كتابة النص بهذا الشكل) \n",
    "</div>"
   ]
  },
  {
   "cell_type": "markdown",
   "id": "9fa3f64e",
   "metadata": {},
   "source": [
    "**Python** is a great programming language."
   ]
  },
  {
   "cell_type": "markdown",
   "id": "e2805570",
   "metadata": {},
   "source": [
    "<div class=arabic>\n",
    "لاظهار كلمة او نص بشكل مائل يمكن استخدام علامة نجمة واحدة او شرطة سفلية حول النص او الكلمة المراد جلعها بشكل مائل كما في الخلية التي تلي هذا السطر.\n",
    "</div>"
   ]
  },
  {
   "cell_type": "markdown",
   "id": "fa46da2d",
   "metadata": {},
   "source": [
    "*python* is a great programming language.  \n",
    "_python_ is a great programming language."
   ]
  },
  {
   "cell_type": "markdown",
   "id": "df1dc66a",
   "metadata": {},
   "source": [
    "<div class=arabic>\n",
    "للانتقال الى سطر جديد يجب ترك مسافة حرفين في نهاية كل سطر كما في المثال التالي: \n",
    "</div>"
   ]
  },
  {
   "cell_type": "markdown",
   "id": "ae527867",
   "metadata": {},
   "source": [
    "This is a line  \n",
    "This is a new line"
   ]
  },
  {
   "cell_type": "markdown",
   "id": "ee1a149b",
   "metadata": {},
   "source": [
    "<div class=arabic>\n",
    " او ترك سطر فارغ قبل كتابة السطر الجديد كما في الخلية التالية:\n",
    "</div>"
   ]
  },
  {
   "cell_type": "markdown",
   "id": "1689964b",
   "metadata": {},
   "source": [
    "This is a line\n",
    "\n",
    "This is a new line"
   ]
  },
  {
   "cell_type": "markdown",
   "id": "8d28120b",
   "metadata": {},
   "source": [
    "<div class=arabic>\n",
    "للحصول على فاصل افقي على طول السطر يمكنك كتابة ثلاثة نجوم على الاقل في ذلك السطر كما هو واضح في الخلية التالية:\n",
    "</div>"
   ]
  },
  {
   "cell_type": "markdown",
   "id": "12250199",
   "metadata": {},
   "source": [
    "***"
   ]
  },
  {
   "cell_type": "markdown",
   "id": "b20c5aa6",
   "metadata": {},
   "source": [
    "<div class=arabic>\n",
    "لكتابة قائمة مرقمة يمكنك استخدام رقما متبوعا بنقطة و مفصولة عن النص بمسافة كما في المثال التالي:\n",
    "</div>"
   ]
  },
  {
   "cell_type": "markdown",
   "id": "f115d305",
   "metadata": {},
   "source": [
    "1. item one\n",
    "2. item two\n",
    "3. item three"
   ]
  },
  {
   "cell_type": "markdown",
   "id": "e91b4802",
   "metadata": {},
   "source": [
    "<div class=arabic>\n",
    "كما يمكن كتابة قائمة غير مرقمة باستخدام نجمة واحدة امام كل سطر كما في المثال التالي:\n",
    "</div>"
   ]
  },
  {
   "cell_type": "markdown",
   "id": "1257a8e9",
   "metadata": {},
   "source": [
    "* item one\n",
    "* item two\n",
    "* item three"
   ]
  },
  {
   "cell_type": "markdown",
   "id": "26148692",
   "metadata": {},
   "source": [
    "<div class=arabic>\n",
    "لعمل قائمة داخل قائمة يتم ترك مسافة حرفين قبل كتابة القائمة الداخلية كما في المثال التالي:\n",
    "</div>"
   ]
  },
  {
   "cell_type": "markdown",
   "id": "2c9c71b0",
   "metadata": {},
   "source": [
    "1. First item\n",
    "2. Second item\n",
    "  * Inner item\n",
    "  * Inner item\n",
    "    * Inner inner item\n",
    "3. Third item"
   ]
  },
  {
   "cell_type": "markdown",
   "id": "5ee5c1e1",
   "metadata": {},
   "source": [
    "<div class=arabic>\n",
    "لادراج صورة يتم وضع رابط الصورة داخل قوسين اعتياديين ويتم وضع اي نص مصاحب للصورة داخل قوسين مربعين مسبوقا بعلامة تعجب كما في المثال التالي:\n",
    "</div>"
   ]
  },
  {
   "cell_type": "markdown",
   "id": "e5875f45",
   "metadata": {},
   "source": [
    "![python](https://www.python.org/static/img/python-logo.png)"
   ]
  },
  {
   "cell_type": "markdown",
   "id": "63aace66",
   "metadata": {},
   "source": [
    "<div class=arabic>\n",
    "النص الذي يوضع داخل القوسين المربعين لايظهر الا اذا تعذر ادراج الصورة من الرابط المكتوب داخل القوسين الاعتياديين.\n",
    "</div>"
   ]
  },
  {
   "cell_type": "markdown",
   "id": "9b7f1b38",
   "metadata": {},
   "source": [
    "<div class=arabic>\n",
    "كما يمكن عمل روابط داخل الصحفة الحالية باستخدام وسم الروابط في لغة ترميز html ومن ثم الانتقال الى ذلك الموضع باستخدام قوسيين اعتياديين يوضع داخلها اسم رابط الموضع الذي نرغب في الانتقال اليه مسبوقة بعلامة هاش تاق كما في المثال التالي:  \n",
    "</div>"
   ]
  },
  {
   "cell_type": "markdown",
   "id": "665b2999",
   "metadata": {},
   "source": [
    "[click here](#m) to go the beginning of this section."
   ]
  },
  {
   "cell_type": "markdown",
   "id": "8448b0f6",
   "metadata": {},
   "source": [
    "<div class=arabic>\n",
    "علامة الهاش تاق هنا تدل على ان الرابط محلي موجود داخل الصفحة الحالية. \n",
    "</div>"
   ]
  },
  {
   "cell_type": "markdown",
   "id": "5579cab4",
   "metadata": {},
   "source": [
    "<div class=arabic>\n",
    "لعمل رابط لموقع انترنت خارجي يمكن استخدام القوسين الاعتياديين وقوسين مربعين بحيث نضع في القوسين الاعتياديين رابط الموقع وفي القوسين المربعين نضغ النص الذي سوف ينقر بالفأرة عليه كما في المثال التالي:\n",
    "</div>"
   ]
  },
  {
   "cell_type": "markdown",
   "id": "e889a244",
   "metadata": {},
   "source": [
    "[click here](https://github.com/ahmadalsaadi/arabic-python-notebook) to go to the book repo."
   ]
  },
  {
   "cell_type": "markdown",
   "id": "33751e77",
   "metadata": {},
   "source": [
    "<div class=arabic>\n",
    "لادراج روموز رياضية داخل خلايا  تنسيق النص نستخدم علامة ترميز Latex داخل علامتي $$ قبل وبعد الرموز الرياضية. فمثلا يمكن كتابة الجذر التربيعي بالطريقة التالية:)(انقر نقرا مزدوجا على الخلية لمشاهدة كيف تم اظهار الرمز الرياضي بهذا الشكل)\n",
    "</div>"
   ]
  },
  {
   "cell_type": "markdown",
   "id": "8274f463",
   "metadata": {},
   "source": [
    "$$\\sqrt{x}$$"
   ]
  },
  {
   "cell_type": "markdown",
   "id": "f10d266a",
   "metadata": {},
   "source": [
    "<div class=arabic>\n",
    "تستخدم علامتي الدولار $$ لكتابة رموز ومعادلات رياضية مستقلة في سطر واحد اما اذا اردنا ان ندرج الرمز الرياضي في نفس السطر فاننا نستخدم علامة دولار  واحدة فقط قبل وبعد الرمز المرغوب في كتابته كما في المثال التالي:\n",
    "</div>"
   ]
  },
  {
   "cell_type": "markdown",
   "id": "ec75a2eb",
   "metadata": {},
   "source": [
    "The square root $\\sqrt{x}$ is defined for all x $\\geq 0$."
   ]
  },
  {
   "cell_type": "markdown",
   "id": "5f4f3bf9",
   "metadata": {},
   "source": [
    "<div class=arabic>\n",
    "هناك العديد من المصادر التي يمكن الرجوع اليها للحصول على طريقة ترميز Latex في اظهار الرموز والمعادلات الرياضية. وسوف نكتفي هنا باعطاء بعض الامثلة على الرموز الاكثر استخداما ومن ثم اعطاء مرجع يمكن الذهاب له للاستزادة.\n",
    "</div>"
   ]
  },
  {
   "cell_type": "markdown",
   "id": "5b2dd406",
   "metadata": {},
   "source": [
    "<div class=arabic>\n",
    "لكتابة الكسور يمكن استخدام {}{}frac\\ بحيث نضع البسط في القوس المتعرج الاول من اليسار والمقام في القوس الثاني كما في المثال التالي:\n",
    "</div>"
   ]
  },
  {
   "cell_type": "markdown",
   "id": "a6b90ed5",
   "metadata": {},
   "source": [
    "$$\\frac{x}{y}$$"
   ]
  },
  {
   "cell_type": "markdown",
   "id": "790792d9",
   "metadata": {},
   "source": [
    "<div class=arabic>\n",
    "يمكن استخدام علامة ^ لكتابة الاس وعلامة الشرطة السفلية لعملية الترقيم السفلي كما في المثال التالي:\n",
    "</div>"
   ]
  },
  {
   "cell_type": "markdown",
   "id": "37b964a1",
   "metadata": {},
   "source": [
    "$$\\frac{x_n}{y^m}$$"
   ]
  },
  {
   "cell_type": "markdown",
   "id": "774d809f",
   "metadata": {},
   "source": [
    "<div class=arabic>\n",
    "يمكن كتابة علامات المقارنة كما في المثال التالي:\n",
    "</div>"
   ]
  },
  {
   "cell_type": "markdown",
   "id": "ea329399",
   "metadata": {},
   "source": [
    "$$x\\neq y$$"
   ]
  },
  {
   "cell_type": "markdown",
   "id": "39a2dd1c",
   "metadata": {},
   "source": [
    "$$x\\geq y$$"
   ]
  },
  {
   "cell_type": "markdown",
   "id": "50f9ac69",
   "metadata": {},
   "source": [
    "$$x\\leq y$$"
   ]
  },
  {
   "cell_type": "markdown",
   "id": "432c0751",
   "metadata": {},
   "source": [
    "<div class=arabic>\n",
    "ويكمن كتابة رمز مجموع متسلسلة كما يلي:\n",
    "</div>"
   ]
  },
  {
   "cell_type": "markdown",
   "id": "151b505b",
   "metadata": {},
   "source": [
    "$$y=\\sum^{5}_{n=0}{n}$$"
   ]
  },
  {
   "cell_type": "markdown",
   "id": "115489e0",
   "metadata": {},
   "source": [
    "<div class=arabic>\n",
    "ويمكن كتابة المضروب العددي كما يلي:\n",
    "</div>"
   ]
  },
  {
   "cell_type": "markdown",
   "id": "ecc81c91",
   "metadata": {},
   "source": [
    "$$\\prod_{i=1}^ni=n!$$"
   ]
  },
  {
   "cell_type": "markdown",
   "id": "64764902",
   "metadata": {},
   "source": [
    "<div class=arabic>\n",
    "للاستزاده من معرفة طرق ترميز Latex في كتابة المعادلات والرموز الرياضية يمكنك زيارة احد المواقع التالية:\n",
    "</div>\n",
    "<div>\n",
    "<ol><li>   \n",
    "    <a href=\"https://c-tan.com/download/latex_math_cheatsheet_2018-01-13.pdf\">c-tan.com</a><br></li>\n",
    "<li><a  href=\"https://www.malinc.se/math/latex/basiccodeen.php#:~:text=In%20LaTeX%20you%20use%20the%20command%20cdot%20to,m%20columns%20is%20a%20m%20%C3%97%20n%20-matrix\">malinc.se</a></li>\n",
    "\n",
    "</div>\n"
   ]
  },
  {
   "cell_type": "code",
   "execution_count": null,
   "id": "98a7984b",
   "metadata": {},
   "outputs": [],
   "source": []
  }
 ],
 "metadata": {
  "kernelspec": {
   "display_name": "Python 3 (ipykernel)",
   "language": "python",
   "name": "python3"
  },
  "language_info": {
   "codemirror_mode": {
    "name": "ipython",
    "version": 3
   },
   "file_extension": ".py",
   "mimetype": "text/x-python",
   "name": "python",
   "nbconvert_exporter": "python",
   "pygments_lexer": "ipython3",
   "version": "3.8.10"
  }
 },
 "nbformat": 4,
 "nbformat_minor": 5
}
