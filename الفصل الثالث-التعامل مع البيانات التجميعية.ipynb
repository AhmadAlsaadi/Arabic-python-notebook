{
 "cells": [
  {
   "cell_type": "code",
   "execution_count": 12,
   "id": "2d784335",
   "metadata": {},
   "outputs": [
    {
     "data": {
      "text/html": [
       "<style type=\"text/css\">@import url('https://www.fontstatic.com/f=yassin,amiri-quran,basim-marah,b-compset');\n",
       "\n",
       "\n",
       "@font-face {\n",
       "  font-family: Arslan;\n",
       "  src: url(Arslan.ttf);\n",
       "}\n",
       "\n",
       ".title{\n",
       "direction: rtl;\n",
       "font-size:100px;\n",
       "padding-right: 15px;\n",
       "line-height:10px;\n",
       "font-family:basim-marah;\n",
       "}\n",
       "\n",
       "div.text_cell pre.CodeMirror-line {\n",
       "direction:rtl;\n",
       "font-size:20px;\n",
       "color:Blue;\n",
       "line-height:40px;\n",
       "padding-right: 1cm;\n",
       "padding-left: 1cm;\n",
       "text-align:justify;\n",
       "font-family:amiri-quran;\n",
       "}\n",
       ".rendered_html {\n",
       "direction:rtl;\n",
       "font-size:20px;\n",
       "line-height:40px;\n",
       "padding-right: 1cm;\n",
       "padding-left: 1cm;\n",
       "text-align:justify;\n",
       "font-family:amiri-quran;\n",
       "}\n",
       "\n",
       ".rendered_html p {\n",
       "direction:rtl;\n",
       "font-size:20px;\n",
       "line-height:40px;\n",
       "padding-right: 1cm;\n",
       "padding-left: 1cm;\n",
       "text-align:justify;\n",
       "font-family:amiri-quran;\n",
       "}\n",
       "\n",
       ".rendered_html h1{\n",
       "direction: rtl;\n",
       "font-size:200%;\n",
       "text-align:center;\n",
       "padding-right: 55px;\n",
       "font-family:Arslan;\n",
       "}\n",
       "\n",
       ".rendered_html h2{\n",
       "direction: rtl;\n",
       "font-size:171%;\n",
       "padding-right: 55px;\n",
       "line-height:10px;\n",
       "font-family:Arslan;\n",
       "}\n",
       "\n",
       ".rendered_html h3{\n",
       "direction: rtl;\n",
       "font-size:141%;\n",
       "padding-right: 55px;\n",
       "line-height:10px;\n",
       "font-family:Arslan;\n",
       "}\n",
       "\n",
       ".rendered_html ul {\n",
       "    list-style-type: none;\n",
       "}\n",
       "\n",
       ".rendered_html ul li:before {\n",
       "  content: '-';\n",
       "  position: absolute;\n",
       "  margin-right: -10px;\n",
       "}\n",
       "\n",
       ".arabic{\n",
       "direction:rtl;\n",
       "font-size:20px;\n",
       "line-height:40px;\n",
       "padding-right: 1cm;\n",
       "padding-left: 1cm;\n",
       "text-align:justify;\n",
       "font-family:amiri-quran;\n",
       "}\n",
       "\n",
       ".horizontal{\n",
       "height:2px;\n",
       "border:none;\n",
       "color:#333;\n",
       "background-color:#333;\n",
       "width:75%;\n",
       "}\n",
       ".jupyter-widgets{\n",
       "    font-size:20px;\n",
       "    direction:rtl;\n",
       "    margin-right:25px;\n",
       "    font-family:amiri-quran;\n",
       "        \n",
       "}\n",
       ".widget-radio-box input{\n",
       "    float:right;\n",
       "    direction:ltr;\n",
       "    margin: 0 calc( var(--jp-widgets-input-padding) * 2 ) 0 10px;\n",
       "    text-align:right;\n",
       "    height: 30px;\n",
       "}\n",
       ".widget-radio{\n",
       "    flex-direction: column;\n",
       "    width:unset;\n",
       "    \n",
       "}\n",
       ".widget-label{  \n",
       "    font-family:amiri-quran;\n",
       "    font-size:18px;\n",
       "    height: 40px;\n",
       "}\n",
       "\n",
       ".widget-radio-box label {\n",
       "    font-size:18px;\n",
       "    height: 30px;\n",
       "}\n",
       "\n",
       ".true-grade{\n",
       "    color:green;\n",
       "}\n",
       ".false-grade{\n",
       "    color:red;\n",
       "}\n",
       "label:lang(en){\n",
       "    direction:ltr;\n",
       "    text-align:right;\n",
       "}\n",
       ".s{\n",
       "    line-height:unset;\n",
       "    height:unset;\n",
       "}\n",
       ".CodeMirror-wrap {\n",
       "    font-size:16px;\n",
       "}\n",
       "\n",
       ".basic_table{\n",
       "    font-size:20px;\n",
       "    color:\"green\";\n",
       "}</style>"
      ],
      "text/plain": [
       "<IPython.core.display.HTML object>"
      ]
     },
     "execution_count": 12,
     "metadata": {},
     "output_type": "execute_result"
    }
   ],
   "source": [
    "import style\n",
    "style._set_css_style(\"custom.css\")"
   ]
  },
  {
   "cell_type": "markdown",
   "id": "b0a92224",
   "metadata": {},
   "source": [
    "\n",
    "# الفصل الثالث : التعامل مع البيانات التجميعة Collection Data\n",
    "<hr class=horizontal>"
   ]
  },
  {
   "cell_type": "markdown",
   "id": "6d7841a9",
   "metadata": {},
   "source": [
    "في الفصل السابق تعلمنا كيفية التعامل مع البيانات الأساسية وكان كل بيان من تلك البيانات يمثل معلومة مستقلة بذاتها. اما في هذا الفصل فسوف نوسع مفهوم البيانات الى نطاق أوسع بحيث يتم ترتيب هذه البيانات الأساسية بطريقة خاصة في مجموعات فتصبح هذه البيانات مستقلة بذاتها. "
   ]
  },
  {
   "cell_type": "markdown",
   "id": "99b3d3d7",
   "metadata": {},
   "source": [
    "## أهداف الفصل\n",
    "عند اتمام هذا الفصل يجب ان يكون لديك المام بالآتي: \n",
    "- التعرف على البيانات التجمعية وأنواعها الرئيسية. \n",
    "- معرفة التعامل مع الانواع الأساسية للبيانات التجميعية.\n",
    "- التمييز بين الانواع الأساسية للبيانات التجميعية من خلال معرفة خصائص كل نوع.\n",
    "- التوسع في معرفة البيانات النصية وكيفية التعامل معها. "
   ]
  },
  {
   "cell_type": "markdown",
   "id": "5551286e",
   "metadata": {},
   "source": [
    "## تعريف البيانات التحميعية"
   ]
  },
  {
   "cell_type": "markdown",
   "id": "976e53fd",
   "metadata": {},
   "source": [
    "<div class=arabic>\n",
    "المقصود بالبيانات التجميعية في لغة بايثون هي بيانات أساسية (سواء كانت عددية او نصية او منطقية) اندرجت تحت مجموعة لها خصائص معينه ومحددة فأصبحت بيانات مستقلة بذاتها يتعامل معها مفسر بايثون بطريقة خاصة. وتنقسم هذه البيانات التجميعية الى أربعة أنواع رئيسية:\n",
    "</div>"
   ]
  },
  {
   "cell_type": "markdown",
   "id": "7cfa0ca8",
   "metadata": {},
   "source": [
    "- القوائم (lists)\n",
    "- الصفوف (tuples)\n",
    "- القواميس (dictionaries)\n",
    "- المجموعات (sets)"
   ]
  },
  {
   "cell_type": "markdown",
   "id": "df064b34",
   "metadata": {},
   "source": [
    "## القوائم Lists "
   ]
  },
  {
   "cell_type": "markdown",
   "id": "7ea4e78b",
   "metadata": {},
   "source": [
    "القوائم في لغة بايثون هي عبارة عن مجموعة من بيانات مختلطة توضع بين قوسين مربعين ويفصل بين كل بيان وآخر بفاصلة كما في المثال التالي:"
   ]
  },
  {
   "cell_type": "code",
   "execution_count": 13,
   "id": "9fcacb42",
   "metadata": {},
   "outputs": [],
   "source": [
    "data=['Ahmad', 2019, True, 23.5]"
   ]
  },
  {
   "cell_type": "markdown",
   "id": "c1e20340",
   "metadata": {},
   "source": [
    "<div class=arabic>\n",
    "فالبيانات \"المختلطة\" في هذا التعريف تشير الى ان القوائم يمكن ان تحتوي على اكثر من نوع من البيانات فالقائمة في المثال السابق احتوت على بيانات نصية وبيانات عددية وبيانات منطقية. وتعتبر القوائم وسيلة مؤقتة لتخزين البيانات تهدف الى تسهيل التعامل مع البيانات متى ما اردنا معالجتها او تحليلها.\n",
    "</div>"
   ]
  },
  {
   "cell_type": "markdown",
   "id": "7a318857",
   "metadata": {},
   "source": [
    "### أنشاء القوائم"
   ]
  },
  {
   "cell_type": "markdown",
   "id": "c3260f01",
   "metadata": {},
   "source": [
    "بالاضافة الى الطريقة التي السابقة التي اتبعناها في إنشاء القائمة data هناك طريقة اخرى تعتمد على استخدام الدالة ()list. فمثلا يمكن إنشاء قائمة من نص باستخدام الدالة ()list كما في المثال التالي:"
   ]
  },
  {
   "cell_type": "code",
   "execution_count": 15,
   "id": "f16d8748",
   "metadata": {},
   "outputs": [
    {
     "data": {
      "text/plain": [
       "['h', 'e', 'l', 'l', 'o', ' ', 'p', 'y', 't', 'h', 'o', 'n']"
      ]
     },
     "execution_count": 15,
     "metadata": {},
     "output_type": "execute_result"
    }
   ],
   "source": [
    "list(\"hello python\")"
   ]
  },
  {
   "cell_type": "markdown",
   "id": "216cfea3",
   "metadata": {},
   "source": [
    "<div class=arabic>\n",
    "ويمكن استخدام الدالة ذاتها لانشاء قائمة فارغة وذلك بعدم اعطاء الدالة ()list اي قيمة بين قوسيها\n",
    " كما في المثال التالي:\n",
    "</div>\n",
    "\n"
   ]
  },
  {
   "cell_type": "code",
   "execution_count": 16,
   "id": "2df34ba6",
   "metadata": {},
   "outputs": [
    {
     "data": {
      "text/plain": [
       "[]"
      ]
     },
     "execution_count": 16,
     "metadata": {},
     "output_type": "execute_result"
    }
   ],
   "source": [
    "mylist=list()\n",
    "mylist"
   ]
  },
  {
   "cell_type": "markdown",
   "id": "83fddc7d",
   "metadata": {},
   "source": [
    "<div class=arabic>\n",
    "كما يمكن انشاء قائمة فارغة بطريقة اسهل من الدالة السابقة وذلك باستخدام قوسين مربعين فارغين بعد اسم المتغير كما في المثال التالي:\n",
    "</div>"
   ]
  },
  {
   "cell_type": "code",
   "execution_count": 17,
   "id": "a61626a0",
   "metadata": {},
   "outputs": [
    {
     "data": {
      "text/plain": [
       "[]"
      ]
     },
     "execution_count": 17,
     "metadata": {},
     "output_type": "execute_result"
    }
   ],
   "source": [
    "mylist2=[]\n",
    "mylist2"
   ]
  },
  {
   "cell_type": "markdown",
   "id": "a9c21573",
   "metadata": {},
   "source": [
    "### مؤشر القوئم List index"
   ]
  },
  {
   "cell_type": "markdown",
   "id": "78e5ef7e",
   "metadata": {},
   "source": [
    "يتم الإشارة الى مكان البيانات في القائمة بارقام صحيحة تسمى مؤشر القائمة List Index تبدأ من اليسار بالقيمة صفر وتتزايد بالقيمة 1. فالقائمة data السابقة يشار الى القيمة الأولى فيها بالرقم 0 والقيمة الثانية بالرقم 1 وهكذا الى نهاية القيم في القائمة كما هو موضح في الجدول التالي."
   ]
  },
  {
   "cell_type": "markdown",
   "id": "0a637f4b",
   "metadata": {},
   "source": [
    "<table style=\"width:20%\">\n",
    "  \n",
    "  <tr>\n",
    "    <td border=\"0\"><center>مؤشر القائمة</td>\n",
    "    <td><center>القيمة</td>\n",
    "  </tr>\n",
    "  <tr>\n",
    "    <td><center>0</td>\n",
    "    <td><center>\"Ahmad</td>\n",
    "  </tr>\n",
    "  <tr>\n",
    "    <td><center>1</td>\n",
    "    <td><center>1990</td>\n",
    "  </tr>\n",
    "  <tr>\n",
    "    <td><center>2</td>\n",
    "    <td><center>True</td>\n",
    "  </tr>\n",
    "  <tr>\n",
    "    <td><center>3</td>\n",
    "    <td><center>23.5</td>\n",
    "  </tr>\n",
    "  \n",
    "</table> "
   ]
  },
  {
   "cell_type": "markdown",
   "id": "1aabe6ed",
   "metadata": {},
   "source": [
    "وللحصول على قيمة معينة من قائمة فإننا نقوم بكتابة اسم القائمة متبوعاً بقوسين مربعين يوضع بينهما رقم مؤشر القائمة. فعلى سبيل المثال عندما نريد القيمة الأولى من قائمة data السابقة فإننا نكتب الكود التالي:"
   ]
  },
  {
   "cell_type": "code",
   "execution_count": 18,
   "id": "8fb18802",
   "metadata": {},
   "outputs": [
    {
     "data": {
      "text/plain": [
       "'Ahmad'"
      ]
     },
     "execution_count": 18,
     "metadata": {},
     "output_type": "execute_result"
    }
   ],
   "source": [
    "data[0]"
   ]
  },
  {
   "cell_type": "markdown",
   "id": "df05a313",
   "metadata": {},
   "source": [
    "وعندما نريد القيمة الثالثة مثلاً فإننا نكتب الكود التالي:"
   ]
  },
  {
   "cell_type": "code",
   "execution_count": 14,
   "id": "ca62c0d2",
   "metadata": {},
   "outputs": [
    {
     "data": {
      "text/plain": [
       "True"
      ]
     },
     "execution_count": 14,
     "metadata": {},
     "output_type": "execute_result"
    }
   ],
   "source": [
    "data[2]"
   ]
  },
  {
   "cell_type": "markdown",
   "id": "e44d7632",
   "metadata": {},
   "source": [
    "كما يمكن الإشارة إلى القيم في قائمة من اليمين إلى اليسار أيضاً أي بمعنى آخر من آخر قيمة في القائمة. وللقيام بذلك نقوم باستخدم مؤشر قائمة يبدأ من القيمة 1- ويتناقص بالقيمة 1- كما هو موضح في الجدول التالي:"
   ]
  },
  {
   "cell_type": "markdown",
   "id": "adc177b7",
   "metadata": {},
   "source": [
    "<table style=\"width:20%\">\n",
    "  \n",
    "  <tr>\n",
    "    <td border=\"0\"><center>مؤشر القائمة</td>\n",
    "    <td><center>القيمة</td>\n",
    "  </tr>\n",
    "  <tr>\n",
    "    <td><center>-4</td>\n",
    "    <td><center>\"Ahmad</td>\n",
    "  </tr>\n",
    "  <tr>\n",
    "    <td><center>-3</td>\n",
    "    <td><center>1990</td>\n",
    "  </tr>\n",
    "  <tr>\n",
    "    <td><center>-2</td>\n",
    "    <td><center>True</td>\n",
    "  </tr>\n",
    "  <tr>\n",
    "    <td><center>-1</td>\n",
    "    <td><center>23.5</td>\n",
    "  </tr>\n",
    "  \n",
    "</table> "
   ]
  },
  {
   "cell_type": "markdown",
   "id": "7aeac651",
   "metadata": {},
   "source": [
    " فللحصول على آخر قيمة في القائمة data السابقة نكتب الكود التالي:"
   ]
  },
  {
   "cell_type": "code",
   "execution_count": 12,
   "id": "6a469b91",
   "metadata": {},
   "outputs": [
    {
     "data": {
      "text/plain": [
       "23.5"
      ]
     },
     "execution_count": 12,
     "metadata": {},
     "output_type": "execute_result"
    }
   ],
   "source": [
    "data[-1]"
   ]
  },
  {
   "cell_type": "markdown",
   "id": "71d2663d",
   "metadata": {},
   "source": [
    "وللحصول على القيمة قبل الأخيرة في قائمة فإننا نستخدم المؤشر 2- داخل القوسين المربعين و 3- للقيمة التي بعدها وهكذا لباقي القيم في القائمة."
   ]
  },
  {
   "cell_type": "code",
   "execution_count": 15,
   "id": "a54059d5",
   "metadata": {
    "scrolled": true
   },
   "outputs": [
    {
     "data": {
      "text/plain": [
       "True"
      ]
     },
     "execution_count": 15,
     "metadata": {},
     "output_type": "execute_result"
    }
   ],
   "source": [
    "data[-2]"
   ]
  },
  {
   "cell_type": "code",
   "execution_count": 16,
   "id": "9efa6fb0",
   "metadata": {},
   "outputs": [
    {
     "data": {
      "text/plain": [
       "2019"
      ]
     },
     "execution_count": 16,
     "metadata": {},
     "output_type": "execute_result"
    }
   ],
   "source": [
    "data[-3]"
   ]
  },
  {
   "cell_type": "markdown",
   "id": "e057fefd",
   "metadata": {},
   "source": [
    "### العمليات على القوائم"
   ]
  },
  {
   "cell_type": "markdown",
   "id": "b498df79",
   "metadata": {},
   "source": [
    "لإضافة بيانات لقائمة قارغة أو قائمة تحتوي على بيانات سابقة يمكن استخدام الدالة  ()append\n",
    " بحيث يكون البيان المضاف دائما في آخر القائمة كما في المثال التالي:"
   ]
  },
  {
   "cell_type": "code",
   "execution_count": 18,
   "id": "24b2480d",
   "metadata": {},
   "outputs": [
    {
     "data": {
      "text/plain": [
       "['Sunday', 'Monday', 'Tuesday']"
      ]
     },
     "execution_count": 18,
     "metadata": {},
     "output_type": "execute_result"
    }
   ],
   "source": [
    "list1=[]\n",
    "list1.append('Sunday')\n",
    "list1.append('Monday')\n",
    "list1.append('Tuesday')\n",
    "list1"
   ]
  },
  {
   "cell_type": "markdown",
   "id": "b142c071",
   "metadata": {},
   "source": [
    "لاحظ استخدام النقطة بعد اسم القائمة لتنفيذ الدالة. فهي تعنى قم بإضافة القيمة \"Sunday\" مثلاً لللقائمة list1."
   ]
  },
  {
   "cell_type": "markdown",
   "id": "e1c1f7b1",
   "metadata": {},
   "source": [
    "كما يمكننا أن نغير قيم البيانات داخل قائمة باستخدام معامل الإسناد (=) كما في المثال التالي:"
   ]
  },
  {
   "cell_type": "code",
   "execution_count": 19,
   "id": "cc8218a6",
   "metadata": {},
   "outputs": [
    {
     "data": {
      "text/plain": [
       "['Omar', 1990, True, 23.5]"
      ]
     },
     "execution_count": 19,
     "metadata": {},
     "output_type": "execute_result"
    }
   ],
   "source": [
    "Ahmad=5\n",
    "list2=[Ahmad,1990,True,23.5]\n",
    "list2[0]=\"Omar\"\n",
    "list2"
   ]
  },
  {
   "cell_type": "markdown",
   "id": "1b177264",
   "metadata": {},
   "source": [
    "لذلك يطلق على القوائم في بايثون مصطلح mutable أي قابلة للتغيير."
   ]
  },
  {
   "cell_type": "markdown",
   "id": "2068a49a",
   "metadata": {},
   "source": [
    "ولمعرفة مؤشر بيان ما داخل قائمة فإننا نستخدم الدالة ()index بحيث نضع البيان المراد معرفة مؤشره داخل قوسي الدالة كما في المثال التالي:"
   ]
  },
  {
   "cell_type": "code",
   "execution_count": null,
   "id": "17094e00",
   "metadata": {},
   "outputs": [],
   "source": [
    "list2=[\"Ahmad\",1990,True,23.5]\n",
    "list2.index(1990)"
   ]
  },
  {
   "cell_type": "markdown",
   "id": "6e16e718",
   "metadata": {},
   "source": [
    "ولمعرفة عدد البيانات في قائمة فإننا نستخدم الدالة ()len كما في المثال التالي:"
   ]
  },
  {
   "cell_type": "code",
   "execution_count": null,
   "id": "e1a4fd86",
   "metadata": {},
   "outputs": [],
   "source": [
    "list2=['Ahmad', 1990, 'Hello', True, 23.5]\n",
    "len(list2)"
   ]
  },
  {
   "cell_type": "markdown",
   "id": "365b6fc7",
   "metadata": {},
   "source": [
    "<div class=arabic>\n",
    "في مثال سابق تعلمنا كيف نضيف بيان الى قائمة باستخدام الامر ()append وعلمنا ان هذا الامر يقوم بإضافة البيان الى اخر القائمة. لكن ماذا لو أردنا ان نضيف بياناً في مكان معين من قائمة. لأداء هذه المهمة نستخدم الامر ()insert وكيفية استخدام هذا الامر يتطلب أولا ادخال مؤشر البيان داخل القائمة التي سوف يحتلها البيان المراد إدخاله ومن ثم قيمة البيان كما هو موضح في المثال التالي:\n",
    "</div>"
   ]
  },
  {
   "cell_type": "code",
   "execution_count": null,
   "id": "97f84a16",
   "metadata": {},
   "outputs": [],
   "source": [
    "list2=['Ahmad', 1990, True, 23.5]\n",
    "list2.insert(2,\"Hello\")\n",
    "list2"
   ]
  },
  {
   "cell_type": "markdown",
   "id": "8dd93d78",
   "metadata": {},
   "source": [
    "<div class=arabic>\n",
    "ولإزالة بيان من قائمة فان هناك عدة دوال تساعدنا على القيام بذلك بطرق مختلفة. فعندما نريد إزالة اخر بيان في قائمة فإننا نستخدم الدالة ()pop كما في المثال التالي:\n",
    "</div>"
   ]
  },
  {
   "cell_type": "code",
   "execution_count": 19,
   "id": "aeb150eb",
   "metadata": {},
   "outputs": [
    {
     "name": "stdout",
     "output_type": "stream",
     "text": [
      "['Ahmad', 1990, 'Hello', True]\n",
      "23.5\n"
     ]
    }
   ],
   "source": [
    "list2=['Ahmad', 1990, 'Hello', True, 23.5]\n",
    "item_removed=list2.pop()\n",
    "print(list2)\n",
    "print(item_removed)"
   ]
  },
  {
   "cell_type": "markdown",
   "id": "868980c4",
   "metadata": {},
   "source": [
    "<div class=arabic>\n",
    "هنا الدالة ()pop قامت بحذف اخر بيان من القائمة وارجعت البيان الذي تم حذفه بحيث اصبح بإمكاننا اسناد ما تم حذفه الى متغير كما فعلنا في المثال السابق. فالقيمة التي تم حذفها تم اسنادها الى المتغير item_remove والذي قمنا بطباعة قيمته في اخر سطر من البرنامج السابق.\n",
    "</div>"
   ]
  },
  {
   "cell_type": "markdown",
   "id": "bbd1f8b5",
   "metadata": {},
   "source": [
    "<div class=arabic>\n",
    "وكذلك يمكن إزالة عنصر معين من القائمة باستخدام الدالة ()remove وذلك بتحديد البيان المراد حذفه كما في المثال التالي:\n",
    "</div>"
   ]
  },
  {
   "cell_type": "code",
   "execution_count": 23,
   "id": "771b8add",
   "metadata": {},
   "outputs": [
    {
     "name": "stdout",
     "output_type": "stream",
     "text": [
      "[1990, 'Hello']\n",
      "None\n"
     ]
    }
   ],
   "source": [
    "list2=['Ahmad', 1990, 'Hello']\n",
    "item_removed=list2.remove(\"Ahmad\")\n",
    "print(list2)\n",
    "print(item_removed)"
   ]
  },
  {
   "cell_type": "markdown",
   "id": "ede35752",
   "metadata": {},
   "source": [
    "<div class=arabic>\n",
    "لاحظ ان الدالة ()remove لم تقم بارجاع البيان الذي تم حذفه كما هو الحال مع الدلة ()pop. فالقيمة None تعنى ان الدالة ()remove لم تقم بارجاع اي شيئ وانما اكتفت فقط بحذف العنصر المراد حذفه من القائمة.\n",
    "</div>"
   ]
  },
  {
   "cell_type": "markdown",
   "id": "d855885e",
   "metadata": {},
   "source": [
    "<div class=arabic>\n",
    "كما انه بالإمكان استخدام الامر del لإزالة البيان المراد كما في المثال التالي:\n",
    "</div>"
   ]
  },
  {
   "cell_type": "code",
   "execution_count": 24,
   "id": "e95ba03c",
   "metadata": {},
   "outputs": [
    {
     "data": {
      "text/plain": [
       "['Ahmad', 'Hello', True, 23.5]"
      ]
     },
     "execution_count": 24,
     "metadata": {},
     "output_type": "execute_result"
    }
   ],
   "source": [
    "list2=['Ahmad', 1990, 'Hello', True, 23.5]\n",
    "del list2[1]\n",
    "list2"
   ]
  },
  {
   "cell_type": "markdown",
   "id": "19ccdd9d",
   "metadata": {},
   "source": [
    "<div class=arabic>\n",
    "وأخيرا يمكن افراغ القائمة من البيانات بالكامل باستخدام الدالة ()clear بعد اسم القائمة كما في المثال التالي:\n",
    "</div>"
   ]
  },
  {
   "cell_type": "code",
   "execution_count": null,
   "id": "8a852c84",
   "metadata": {},
   "outputs": [],
   "source": [
    "list2=['Ahmad', 'Hello', True, 23.5]\n",
    "list2.clear()\n",
    "list2"
   ]
  },
  {
   "cell_type": "markdown",
   "id": "507c3ea8",
   "metadata": {},
   "source": [
    "<div class=arabic>\n",
    "يجب ملاحظة ان القائمة تسمح بتكرار العناصر بمعنى انه يمكن تخزين نفس البيان في قائمة اكثر من مرة كما في المثال التالي:\n",
    "</div>"
   ]
  },
  {
   "cell_type": "code",
   "execution_count": null,
   "id": "6657a4d9",
   "metadata": {},
   "outputs": [],
   "source": [
    "greatings=[\"hello\",\"hello\",\"hello\"]\n",
    "greatings"
   ]
  },
  {
   "cell_type": "markdown",
   "id": "04ba00c0",
   "metadata": {},
   "source": [
    "<div class=arabic>\n",
    "ولمعرفة عدد العناصر المكررة في قائمة نستخدم الدالة ()count بعد تحديد البيان المراد معرفة عدد مرات تكراره كما في المثال التالي:\n",
    "</div>"
   ]
  },
  {
   "cell_type": "code",
   "execution_count": null,
   "id": "1c63e727",
   "metadata": {},
   "outputs": [],
   "source": [
    "greatings=['hello', 'hello', 'hello', 'Hi', 'Hi']\n",
    "greatings.count(\"hello\")"
   ]
  },
  {
   "cell_type": "code",
   "execution_count": null,
   "id": "eee51b6e",
   "metadata": {},
   "outputs": [],
   "source": [
    "greatings=['hello', 'hello', 'hello', 'Hi', 'Hi']\n",
    "greatings.count(\"Hi\")"
   ]
  },
  {
   "cell_type": "code",
   "execution_count": null,
   "id": "d1293834",
   "metadata": {},
   "outputs": [],
   "source": [
    "greatings=['hello', 'hello', 'hello', 'Hi', 'Hi']\n",
    "greatings.count(\"bye\")"
   ]
  },
  {
   "cell_type": "markdown",
   "id": "5d559f89",
   "metadata": {},
   "source": [
    "<div class=arabic>\n",
    "في مثال سابق تعلمنا كيف نستخدم الدالة ()append لإضافة بيان واحد الى اخر القائمة. ولان نريد ان نوسع معرفتنا بهذه الدالة ونتعرف على ان هذه الدالة باستطاعتها إضافة قائمة الى اخر القائمة بحيث تظهر القائمة كقائمة جزئية داخل قائمة رئيسية كما في المثال التالي:\n",
    "</div>"
   ]
  },
  {
   "cell_type": "code",
   "execution_count": null,
   "id": "6dcd844f",
   "metadata": {},
   "outputs": [],
   "source": [
    "numbers=[1,2,3,4]\n",
    "numbers.append(['a','b','c'])\n",
    "numbers"
   ]
  },
  {
   "cell_type": "markdown",
   "id": "317657a1",
   "metadata": {},
   "source": [
    "<div class=arabic>\n",
    "لاحظ ان القائمة الرئيسية هي القائمة التي تسبق ()append والقائمة الفرعية هي التي بداخل قوسي ()append. لكن ماذا لو أردنا ان ندمج عناصر القائمة الفرعية مع عناصر القائمة الرئيسية بحيث تصبح كأنها قائمة رئيسية واحدة. للقيام بذلك يمكننا استخدام علامة الجمع بين القائمتين كما في المثال التالي:\n",
    "</div>"
   ]
  },
  {
   "cell_type": "code",
   "execution_count": null,
   "id": "33ff4c7b",
   "metadata": {},
   "outputs": [],
   "source": [
    "numbers=[1, 2, 3, 4]\n",
    "list3=numbers+['a','b','c']\n",
    "list3"
   ]
  },
  {
   "cell_type": "code",
   "execution_count": null,
   "id": "de63e0a6",
   "metadata": {},
   "outputs": [],
   "source": [
    "numbers=[1, 2, 3, 4]\n",
    "list3=['a','b','c']+numbers\n",
    "list3"
   ]
  },
  {
   "cell_type": "markdown",
   "id": "6731fc06",
   "metadata": {},
   "source": [
    "<div class=arabic>\n",
    "لاحظ ان ترتيب البيانات يعتمد على الطريقة التي تمت بها عملية الجمع السابقة.\n",
    "</div>"
   ]
  },
  {
   "cell_type": "markdown",
   "id": "f6ab999c",
   "metadata": {},
   "source": [
    "<div class=arabic>\n",
    "كما يمكننا ان نستخدم الدالة ()extend لأداء نفس المهمة بحيث نضع القائمة الفرعية المراد دمجها داخل قوسي الدالة كما في المثال التالي:\n",
    "</div>"
   ]
  },
  {
   "cell_type": "code",
   "execution_count": null,
   "id": "0d0fc2e5",
   "metadata": {},
   "outputs": [],
   "source": [
    "numbers=[1,2,3,4]\n",
    "numbers.extend(['a','b','c'])\n",
    "numbers"
   ]
  },
  {
   "cell_type": "markdown",
   "id": "f67c9b54",
   "metadata": {},
   "source": [
    "<div class=arabic>\n",
    "يمكن اجراء عملية ضرب على قائمة فتكون النتيجة كالتالي:\n",
    "</div>"
   ]
  },
  {
   "cell_type": "code",
   "execution_count": null,
   "id": "5633c062",
   "metadata": {},
   "outputs": [],
   "source": [
    "[1,2,3]*4"
   ]
  },
  {
   "cell_type": "markdown",
   "id": "1ab9de85",
   "metadata": {},
   "source": [
    "<div class=arabic>\n",
    "لاحظ ان عملية الضرب هنا هي مجرد تكرار للبيانات داخل القائمة.\n",
    "</div>"
   ]
  },
  {
   "cell_type": "markdown",
   "id": "84b467e3",
   "metadata": {},
   "source": [
    "<div class=arabic>\n",
    "ويمكن عكس ترتيب البيانات في قائمة باستخدام الدالة ()reverse كما في المثال التالي:\n",
    "</div>"
   ]
  },
  {
   "cell_type": "code",
   "execution_count": null,
   "id": "b4bd7f95",
   "metadata": {},
   "outputs": [],
   "source": [
    "numbers=[1, 2, 3, 4, 'a', 'b', 'c']\n",
    "numbers.reverse()\n",
    "numbers"
   ]
  },
  {
   "cell_type": "markdown",
   "id": "193b62dc",
   "metadata": {},
   "source": [
    "<div class=arabic>\n",
    "ولإعادة ترتيب البيانات داخل قائمة فإننا نستخدم الدالة ()sort بحيث تقوم هذه الدالة بترتيب البيانات تصاعديا بشكل تلقائي على حسب ترتيب الحروف الابجدية   كما في المثال التالي:\n",
    "</div>"
   ]
  },
  {
   "cell_type": "code",
   "execution_count": null,
   "id": "4d89c8fe",
   "metadata": {},
   "outputs": [],
   "source": [
    "cars = ['Ford', 'BMW', 'Volvo']\n",
    "cars.sort()\n",
    "cars"
   ]
  },
  {
   "cell_type": "markdown",
   "id": "e1fc4dd7",
   "metadata": {},
   "source": [
    "<div class=arabic>\n",
    "او ترتيبها تصاعديا بحسب قيم الاعداد التي بداخلها كما في المثال التالي:\n",
    "</div>"
   ]
  },
  {
   "cell_type": "code",
   "execution_count": 26,
   "id": "e830038c",
   "metadata": {},
   "outputs": [
    {
     "data": {
      "text/plain": [
       "[1, 3, 8, 24, 89]"
      ]
     },
     "execution_count": 26,
     "metadata": {},
     "output_type": "execute_result"
    }
   ],
   "source": [
    "num=[1,89,3,8,24]\n",
    "num.sort()\n",
    "num"
   ]
  },
  {
   "cell_type": "markdown",
   "id": "c26d788e",
   "metadata": {},
   "source": [
    "<div class=arabic>\n",
    "لاحظ ان في المثال السابق تم اعادة ترتيب البيانات على نفس القائمة الاصلية cars و num. ولاجراء عملية اعادة الترتيب في قائمة جديدة بحيث تبقى القائمة الاصلية كما هي نستخدم الدالة ()sorted كما في المثال التالي:\n",
    "</div>"
   ]
  },
  {
   "cell_type": "code",
   "execution_count": 32,
   "id": "98f23cc6",
   "metadata": {},
   "outputs": [
    {
     "name": "stdout",
     "output_type": "stream",
     "text": [
      "['BMW', 'Ford', 'Volvo']\n",
      "['Ford', 'BMW', 'Volvo']\n"
     ]
    }
   ],
   "source": [
    "cars=[\"Ford\",\"BMW\",\"Volvo\"]\n",
    "print(sorted(cars))\n",
    "print(cars)"
   ]
  },
  {
   "cell_type": "code",
   "execution_count": 31,
   "id": "76ced6c4",
   "metadata": {},
   "outputs": [
    {
     "name": "stdout",
     "output_type": "stream",
     "text": [
      "[1, 3, 8, 24, 89]\n",
      "[1, 89, 3, 8, 24]\n"
     ]
    }
   ],
   "source": [
    "num=[1,89,3,8,24]\n",
    "print(sorted(num))\n",
    "print(num)"
   ]
  },
  {
   "cell_type": "markdown",
   "id": "2a69902d",
   "metadata": {},
   "source": [
    "<div class=arabic>\n",
    "ولعكس الترتيب بحيث يكون تنازليا نستخدم الخيار reverse=True داخل قوسي الدالتين السابقتين كما في المثالين التاليين:\n",
    "</div>"
   ]
  },
  {
   "cell_type": "code",
   "execution_count": null,
   "id": "e7a0690b",
   "metadata": {},
   "outputs": [],
   "source": [
    "cars = ['Ford', 'BMW', 'Volvo']\n",
    "cars.sort(reverse=True)\n",
    "cars"
   ]
  },
  {
   "cell_type": "code",
   "execution_count": null,
   "id": "01a70540",
   "metadata": {},
   "outputs": [],
   "source": [
    "cars = ['Ford', 'BMW', 'Volvo']\n",
    "cars2=sorted(cars,reverse=True)\n",
    "cars2"
   ]
  },
  {
   "cell_type": "markdown",
   "id": "9ce39873",
   "metadata": {},
   "source": [
    "<div class=arabic>\n",
    "ويمكن أيضا تحدد طريقة الترتيب بحسب الكيفية التي نرغب بها ولكن هذه الخاصية متقدمة قليلا ولا نستطيع الحديث عنها هنا الان.\n",
    "</div>"
   ]
  },
  {
   "cell_type": "markdown",
   "id": "65c6349d",
   "metadata": {},
   "source": [
    "<div class=arabic>\n",
    "ولمعرفة ما اذا كان بيان معين موجود في قائمة فإننا نستخدم in بين البيان المراد البحث عنه واسم القائمة ليكون معنى التركيب اللغوي \"هل البيان x موجود في القائمة y\" فيكون ناتج العملية اما بصح True او خطأ False كما في المثال التالي:\n",
    "</div>"
   ]
  },
  {
   "cell_type": "code",
   "execution_count": null,
   "id": "cecbc044",
   "metadata": {},
   "outputs": [],
   "source": [
    "colors=['green','red','blue']\n",
    "'green' in colors"
   ]
  },
  {
   "cell_type": "code",
   "execution_count": null,
   "id": "06f03773",
   "metadata": {},
   "outputs": [],
   "source": [
    "colors=['green','red','blue']\n",
    "'yellow' in colors"
   ]
  },
  {
   "cell_type": "markdown",
   "id": "89226b22",
   "metadata": {},
   "source": [
    "<div class=arabic>\n",
    "ولعمل نسخه من القائمة نستخدم الدالة ()copy كما في المثال التالي:\n",
    "</div>"
   ]
  },
  {
   "cell_type": "code",
   "execution_count": null,
   "id": "6152f4af",
   "metadata": {},
   "outputs": [],
   "source": [
    "cars = ['Ford', 'BMW', 'Volvo']\n",
    "cars2=cars.copy()\n",
    "cars2"
   ]
  },
  {
   "cell_type": "markdown",
   "id": "47560755",
   "metadata": {},
   "source": [
    "<div class=arabic>\n",
    "قد يتبادر الى الاذهان ان عملية النسخ باستخدام الدالة ()copy غير ضرورية لان اجراء عملية اسناد قائمة لمتغير جديد سوف تفي بالغرض كما في المثال التالي:\n",
    "</div>"
   ]
  },
  {
   "cell_type": "code",
   "execution_count": null,
   "id": "440b9fad",
   "metadata": {},
   "outputs": [],
   "source": [
    "cars = ['Ford', 'BMW', 'Volvo']\n",
    "cars2=cars\n",
    "cars2"
   ]
  },
  {
   "cell_type": "markdown",
   "id": "6b50568c",
   "metadata": {},
   "source": [
    "<div class=arabic>\n",
    "لكن في حقيقة الامر هناك اختلاف جوهري بين استخدام الدالة ()copy وعملية الاسناد. فعملية الاسناد لا تعني تكوين قائمة مستقلة عن القائمة الاولى. بل ان اجراء أي تغيير في أي متغير سوف يؤثر على القائمة الاخرى كما في المثال التالي:\n",
    "</div>"
   ]
  },
  {
   "cell_type": "code",
   "execution_count": null,
   "id": "6e32e3b2",
   "metadata": {},
   "outputs": [],
   "source": [
    "cars = ['Ford', 'BMW', 'Volvo']\n",
    "cars2=cars # عملية الاسناد الى متغير جديد\n",
    "cars.append(\"GMC\")\n",
    "print(cars)\n",
    "print(cars2)"
   ]
  },
  {
   "cell_type": "markdown",
   "id": "a5e87a4f",
   "metadata": {},
   "source": [
    "<div class=arabic>\n",
    "لاحظ انه عند إضافة بيان الى القائمة cars تم احداث نفس التغيير في المتغير cars2 ايضاً. وذلك لأنه في حقيقة الامر لا يوجد قائمتين في ذاكرة الكمبيوتر أصلا. ان ذاكرة الكمبيوتر تحتفظ بقائمة واحدة فقط وعملية الاسناد قامت فقط بتكوين متغير يشير الى نفس القائمة كما في الشكل التالي:\n",
    "</div>"
   ]
  },
  {
   "cell_type": "markdown",
   "id": "472ae3c4",
   "metadata": {},
   "source": [
    "<img src=\"img/ref.png\">"
   ]
  },
  {
   "cell_type": "markdown",
   "id": "210f9102",
   "metadata": {},
   "source": [
    "<div class=arabic>\n",
    "اما عملية النسخ بالدالة ()copy فانها تقوم بإنشاء قائمة مستقلة عن القائمة الاولى في داكرة الكمبيوتر كما في الشكل التالي:\n",
    "</div>"
   ]
  },
  {
   "cell_type": "markdown",
   "id": "1faa6580",
   "metadata": {},
   "source": [
    "<img src=\"img/copy.png\">"
   ]
  },
  {
   "cell_type": "markdown",
   "id": "38de7285",
   "metadata": {},
   "source": [
    "<div class=arabic>\n",
    "اعادة كتابة المثال السابق باستخدام الدالة ()copy يثبت صحة هذه المعلومة كما يلي:\n",
    "</div>"
   ]
  },
  {
   "cell_type": "code",
   "execution_count": null,
   "id": "5203d999",
   "metadata": {},
   "outputs": [],
   "source": [
    "cars = ['Ford', 'BMW', 'Volvo']\n",
    "cars2=cars.copy() # عمل نسخة من القائمة\n",
    "cars.append(\"GMC\")\n",
    "print(cars)\n",
    "print(cars2)"
   ]
  },
  {
   "cell_type": "markdown",
   "id": "915aedf3",
   "metadata": {},
   "source": [
    "<div class=arabic>\n",
    "لذلك عند اجراء تغيير على القائمة التي نسخت بالدالة ()copy فان هذا التغيير لا يؤثر على القائمة الاصلية والعكس صحيح اي ان التغيير في القائمة الاصلية بعد عملية النسخ لا يؤثر على القائمة المنسوخة كما في المثال التالي:\n",
    "</div>"
   ]
  },
  {
   "cell_type": "code",
   "execution_count": null,
   "id": "f945e9f6",
   "metadata": {},
   "outputs": [],
   "source": [
    "cars = ['Ford', 'BMW', 'Volvo']\n",
    "cars2=cars.copy() # عملية النسخ\n",
    "cars.append([1,2,3]) # عملية التغيير على القائمة الاصلية\n",
    "print(cars)\n",
    "print(cars2)"
   ]
  },
  {
   "cell_type": "markdown",
   "id": "c0ae4e6c",
   "metadata": {},
   "source": [
    "<div class=arabic>\n",
    "ويمكن الحصول على نفس وظيفة النسخ بالدالة ()copy باستخدام دالة تعريف القائمة ()list التي ذكرناها في بداية الفصل كما في المثال التالي:\n",
    "</div>"
   ]
  },
  {
   "cell_type": "code",
   "execution_count": null,
   "id": "d6c8430c",
   "metadata": {},
   "outputs": [],
   "source": [
    "numbers=[1,2,3,4]\n",
    "numbers2=list(numbers)\n",
    "numbers2.pop()\n",
    "print(numbers)\n",
    "print(numbers2)"
   ]
  },
  {
   "cell_type": "markdown",
   "id": "4145fbe0",
   "metadata": {},
   "source": [
    "### تجزئة القوائم List Slicing"
   ]
  },
  {
   "cell_type": "markdown",
   "id": "6fd53d0e",
   "metadata": {},
   "source": [
    "<div class=arabic>\n",
    "ويمكن تجزئة قائمة (list slicing) الى قوائم أصغر بعدة طرق.  فمثلا اذا اردنا اخذ الثلاثة البيانات الاولى من القائمة <br>[ ‘a’ , ’b’ , ’c’ , ’d’ , ’e’ , ’f’’ , ’g’ ] فإننا نقوم بالتالي:\n",
    "</div>"
   ]
  },
  {
   "cell_type": "code",
   "execution_count": null,
   "id": "f026721a",
   "metadata": {},
   "outputs": [],
   "source": [
    "letters=['a','b','c','d','e','f','g']\n",
    "letters[0:3]"
   ]
  },
  {
   "cell_type": "markdown",
   "id": "52b7b0cb",
   "metadata": {},
   "source": [
    "<div class=arabic>\n",
    "ما قمنا به في المثال السابق هو اننا استخدمنا مؤشر البيان الذي نريد ان تبتدأ به القائمة الجزئية داخل قوسين مربعين ثم وضعنا نقطتين فوق بعض (:) ثم وضعنا مؤشر آخر بيان لا نريد ان يكون في القائمة الجزئية. ففي المثال السابق اول بيان نريده في القائمة الجزئية هو ‘a’ ومؤشره 0 وآخر بيان لا نريده ان يكون في القائمة الجزئية هو ‘d’ ومؤشره هو 3 . لذلك حصلنا على القائمة الجزئية [ ‘a’ , ’b’ , ’c’ ] . ويكمن الحصول على نفس المهمة بترك مؤشر البيان الذي سوف تبتدأ به القائمة الجزئية فارغ لأن مفسر بايثون سوف يفترض انك تريد ان تبتدأ القائمة الجزئية من بداية القائمة الرئيسية كما في المثال التالي:\n",
    "</div>"
   ]
  },
  {
   "cell_type": "code",
   "execution_count": null,
   "id": "04799157",
   "metadata": {},
   "outputs": [],
   "source": [
    "letters=['a','b','c','d','e','f','g']\n",
    "letters[:3]"
   ]
  },
  {
   "cell_type": "markdown",
   "id": "450ce730",
   "metadata": {},
   "source": [
    "<div class=arabic>\n",
    "وللحصول على قائمة جزئية تبتدأ مثلاً من الحرف ‘e’ وتنتهي بآخر بيان في القائمة السابقة نكتفي بتحديد مؤشر العدد الذي نريد ان تبتدأ به القائمة الجزئية ونترك المؤشر الاخر فارغ لأن مفسر بايثون يفترض انك تريد بقية البيانات في القائمة الرئيسية كما في المثال التالي:\n",
    "</div>"
   ]
  },
  {
   "cell_type": "code",
   "execution_count": 37,
   "id": "04b20a82",
   "metadata": {},
   "outputs": [
    {
     "data": {
      "text/plain": [
       "['e', 'f', 'g']"
      ]
     },
     "execution_count": 37,
     "metadata": {},
     "output_type": "execute_result"
    }
   ],
   "source": [
    "letters=['a','b','c','d','e','f','g']\n",
    "letters[4:]"
   ]
  },
  {
   "cell_type": "markdown",
   "id": "ca0f5ea5",
   "metadata": {},
   "source": [
    "<div class=arabic>\n",
    "كما يمكن فك القائمة الى متغيرات اعتيادية باسخدام متغير واحد لكل بيان موجود في القائمة كما في المثال التالي:\n",
    "</div>"
   ]
  },
  {
   "cell_type": "code",
   "execution_count": null,
   "id": "2d223c2b",
   "metadata": {},
   "outputs": [],
   "source": [
    "numbers=[1,2,3]\n",
    "a,b,c=numbers\n",
    "print(a)\n",
    "print(b)\n",
    "print(c)"
   ]
  },
  {
   "cell_type": "markdown",
   "id": "b7d673f1",
   "metadata": {},
   "source": [
    "<div class=arabic>\n",
    "في حال استخدامنا لمتغيرات اقل او اكثر من عدد البيانات الموجودة في القائمة فان مفسر بايثون يعطينا رسالة بوجود خطا في الكود البرمجي يفيد بأن عدد القيم في القائمة اكثر او اقل من عدد المتغيرات المعطى كما في المثاليين التاليين:\n",
    "</div>   "
   ]
  },
  {
   "cell_type": "code",
   "execution_count": null,
   "id": "c63aad57",
   "metadata": {
    "scrolled": true
   },
   "outputs": [],
   "source": [
    "numbers=[1,2,3]\n",
    "a,b=numbers"
   ]
  },
  {
   "cell_type": "code",
   "execution_count": null,
   "id": "2def56b3",
   "metadata": {},
   "outputs": [],
   "source": [
    "numbers=[1,2]\n",
    "a,b,c = numbers"
   ]
  },
  {
   "cell_type": "markdown",
   "id": "9cfbed68",
   "metadata": {},
   "source": [
    "<div class=arabic>\n",
    "يمكن تلافي اخطاء الفك السابقة باستخدام علامة النجمة قبل المتغير الاخير كما في المثال التالي:\n",
    "</div>"
   ]
  },
  {
   "cell_type": "code",
   "execution_count": null,
   "id": "4fe0c8da",
   "metadata": {},
   "outputs": [],
   "source": [
    "numbers=[1,2,3]\n",
    "a,*b=numbers\n",
    "print(a)\n",
    "print(b)"
   ]
  },
  {
   "cell_type": "markdown",
   "id": "c45bc23f",
   "metadata": {},
   "source": [
    "<div class=arabic>\n",
    "على الرغم من ان عدد البيانات في القائمة اكثر من عدد المتغيرات المعطاه في المثال السابق الا ان استخدام النجمة قبل المتغير b اعطى تعليمات لمفسر بايثون بان يسند كل ما تبقى من بيانات في القائمة للمتغير b فتكون لدينا قائمة مكونه عنصرين اسندت للتمتغير b بينما تم فك البيان الاول وتم اسناده للمتغير a.\n",
    "</div>"
   ]
  },
  {
   "cell_type": "markdown",
   "id": "e4b0eeaf",
   "metadata": {},
   "source": [
    "<div class=arabic>\n",
    "في الحالة التي يكون فيها عدد المتغيرات اكثر من عدد البيانات الموجودة في قائمة فان استخدام النجمة مع المتغير c يعطى تعليمات الى مفسر بايثون بان يضع كل ما تبقى من بيانات في هذا المتغير. وبما ان عمليه الفك لا تبقى شي للمتغير c فان مفسر بايثون سوف يسند للمغير c قائمة فارغة كما في المثال التالي:\n",
    "</div>"
   ]
  },
  {
   "cell_type": "code",
   "execution_count": 36,
   "id": "d37ac91b",
   "metadata": {},
   "outputs": [
    {
     "name": "stdout",
     "output_type": "stream",
     "text": [
      "1\n",
      "2\n",
      "[]\n"
     ]
    }
   ],
   "source": [
    "numbers=[1,2]\n",
    "a,b,*c=numbers\n",
    "print(a)\n",
    "print(b)\n",
    "print(c)"
   ]
  },
  {
   "cell_type": "markdown",
   "id": "b4da89d2",
   "metadata": {},
   "source": [
    "### أنشطة استكشافية"
   ]
  },
  {
   "cell_type": "markdown",
   "id": "cbd9a85a",
   "metadata": {},
   "source": [
    "<div class=arabic>\n",
    "١-استكشف ماذا ينتج عن استخدام [:]letters للقائمة السابقة؟\n",
    "</div>"
   ]
  },
  {
   "cell_type": "code",
   "execution_count": 35,
   "id": "d690f7ff",
   "metadata": {},
   "outputs": [],
   "source": [
    "letters=['a','b','c','d','e','f','g']\n",
    "## اكتب الحل هنا"
   ]
  },
  {
   "cell_type": "markdown",
   "id": "d1af4eb2",
   "metadata": {},
   "source": [
    "<div class=arabic>\n",
    "٢- استكشف ماذا ينتج عن استخدام letters[2:-2] للقائمة السابقة؟\n",
    "</div>"
   ]
  },
  {
   "cell_type": "code",
   "execution_count": null,
   "id": "82d93e0f",
   "metadata": {},
   "outputs": [],
   "source": [
    "letters=['a','b','c','d','e','f','g']\n",
    "## اكتب الحل هنا"
   ]
  },
  {
   "cell_type": "markdown",
   "id": "59c9982f",
   "metadata": {},
   "source": [
    "<div class=arabic>\n",
    "٣-استكشف ماذا ينتج عن استخدام [::]letters للقائمة السابقة باسناد الناتج الى المتغير letters2 وتعرف على ما اذا كانت عملية التجزئة تقوم بعملية التغيير على نفس القائمة الاصلية ام انها تقوم بعمل نسخة مستقلة عنها؟ \n",
    "</div>"
   ]
  },
  {
   "cell_type": "code",
   "execution_count": null,
   "id": "1dbb4890",
   "metadata": {},
   "outputs": [],
   "source": [
    "letters=['a','b','c','d','e','f','g']\n",
    "## اكتب الحل هنا"
   ]
  },
  {
   "cell_type": "markdown",
   "id": "18cf4ab3",
   "metadata": {},
   "source": [
    "<div class=arabic>\n",
    "\n",
    "</div>"
   ]
  },
  {
   "cell_type": "markdown",
   "id": "291b7211",
   "metadata": {},
   "source": [
    "<div class=arabic>\n",
    "٤-استكشف ماذا ينتج عن استخدام letters[::-1] للقائمة السابقة؟ حاول تتذكر أي دالة من الدوال التي تعلمناها سابقا تقوم بنفس المهمة؟\n",
    "</div>"
   ]
  },
  {
   "cell_type": "code",
   "execution_count": null,
   "id": "41206f80",
   "metadata": {},
   "outputs": [],
   "source": [
    "letters=['a','b','c','d','e','f','g']\n",
    "## اكتب الحل هنا"
   ]
  },
  {
   "cell_type": "markdown",
   "id": "4bc6fcc7",
   "metadata": {},
   "source": [
    "<div class=arabic>\n",
    "٥-استكشف ماذا ينتج عن استخدام letters[::1] للقائمة السابقة؟\n",
    "</div>"
   ]
  },
  {
   "cell_type": "code",
   "execution_count": null,
   "id": "3105810c",
   "metadata": {},
   "outputs": [],
   "source": [
    "letters=['a','b','c','d','e','f','g']\n",
    "## اكتب الحل هنا"
   ]
  },
  {
   "cell_type": "markdown",
   "id": "18f9b55e",
   "metadata": {},
   "source": [
    "<div class=arabic>\n",
    "٦-استكشف ماذا ينتج عن استخدام letters[::2] للقائمة السابقة؟\n",
    "</div>"
   ]
  },
  {
   "cell_type": "code",
   "execution_count": null,
   "id": "a5fbb730",
   "metadata": {},
   "outputs": [],
   "source": [
    "letters=['a','b','c','d','e','f','g']\n",
    "## اكتب الحل هنا"
   ]
  },
  {
   "cell_type": "markdown",
   "id": "d1f9e57d",
   "metadata": {},
   "source": [
    "<div class=arabic>\n",
    "7-استكشف كيف يتم فك القائمة letters السابقة الى ثلاث متغيرات المتغير الاول يشير القيمة الاولى من القائمة والمتغير الثاني يشير الى كل عناصر القائمة ماعد القيمة الاخيرة والمتغير الثالث يشير الى آخر قيمة في القائمة ؟\n",
    "</div>"
   ]
  },
  {
   "cell_type": "code",
   "execution_count": null,
   "id": "00dda375",
   "metadata": {},
   "outputs": [],
   "source": [
    "letters=['a','b','c','d','e','f','g']\n",
    "## اكتب الحل هنا"
   ]
  },
  {
   "cell_type": "markdown",
   "id": "f42287fa",
   "metadata": {},
   "source": [
    "<div class=arabic>\n",
    "8-جرب استخدام الامر ()dir واضعا بين قوسيه اسما لقائمة و تعرف على الدوال التي يمكن استخدامها مع هذه القائمة؟ \n",
    "</div>"
   ]
  },
  {
   "cell_type": "code",
   "execution_count": 34,
   "id": "3875afaf",
   "metadata": {},
   "outputs": [],
   "source": [
    "## اكتب الحل هنا"
   ]
  },
  {
   "cell_type": "markdown",
   "id": "d1622395",
   "metadata": {},
   "source": [
    "## الصفوف (tuples)"
   ]
  },
  {
   "cell_type": "markdown",
   "id": "0b60ebb4",
   "metadata": {},
   "source": [
    "<div class=arabic>\n",
    "الصفوف في لغة بايثون هي عبارة عن مجموعة من البيانات غير قابلة للتغيير توضع بين قوسين منحنيين يفصل بين كل بيان وآخر بفاصلة ويشار اليها بمتغير واحد كما في المثال التالي:\n",
    "</div>"
   ]
  },
  {
   "cell_type": "code",
   "execution_count": null,
   "id": "8ce22c05",
   "metadata": {},
   "outputs": [],
   "source": [
    "fruits=(\"banana\",\"orange\",\"apple\")\n",
    "numbers=(1,2,3,4)\n",
    "values=(True,False,False,True)"
   ]
  },
  {
   "cell_type": "markdown",
   "id": "1742fc8f",
   "metadata": {},
   "source": [
    "<div class=arabic>\n",
    "حتى لو لم نكتب القوسين المنحنيين عند كتابتنا للبيانات التي تم فصلها عن بعض بفاصله فان مفسر بايثون سوف يفترض انك تريد كتابة صف من البيانات ويظهر لك النتيجة بقوسين منحنيين كما في المثال التالي:\n",
    "</div>"
   ]
  },
  {
   "cell_type": "code",
   "execution_count": null,
   "id": "a799d829",
   "metadata": {},
   "outputs": [],
   "source": [
    "colors='blue','red','orange'\n",
    "colors"
   ]
  },
  {
   "cell_type": "markdown",
   "id": "a07753f1",
   "metadata": {},
   "source": [
    "<div class=arabic>\n",
    "ويمكن انشاء صف من قائمة باستخدام الدالة ()tuple و قائمة من صف باستخدام الدالة ()list كما في المثالين التاليين:\n",
    "</div>"
   ]
  },
  {
   "cell_type": "code",
   "execution_count": null,
   "id": "d164d839",
   "metadata": {},
   "outputs": [],
   "source": [
    "colors=[\"red\",\"yellow\",\"blue\"]\n",
    "mytuple=tuple(colors)\n",
    "type(mytuple)"
   ]
  },
  {
   "cell_type": "code",
   "execution_count": null,
   "id": "ecbdd7c6",
   "metadata": {},
   "outputs": [],
   "source": [
    "numbers=(1,2,3,4)\n",
    "mylist=list(numbers)\n",
    "type(mylist)"
   ]
  },
  {
   "cell_type": "markdown",
   "id": "14a8f6d2",
   "metadata": {},
   "source": [
    "<div class=arabic>\n",
    "  كما يجب ملاحظة ان كتابة صف من بيان واحد لا يمكن القيام به الا بعد ان نضيف فاصلة بعد البيان سواء استخدمنا القوسين او لم نستخدمها وذلك لان مفسر بايثون سوف يعتقد ان المبرمج يريد تكوين متغير اعتيادي وليس صف كما في المثال التالي:  \n",
    "<div>"
   ]
  },
  {
   "cell_type": "code",
   "execution_count": null,
   "id": "de0e49b3",
   "metadata": {},
   "outputs": [],
   "source": [
    "colors=\"blue\"\n",
    "numbers=(1)\n",
    "print(type(colors))\n",
    "print(type(numbers))"
   ]
  },
  {
   "cell_type": "code",
   "execution_count": null,
   "id": "a799a009",
   "metadata": {},
   "outputs": [],
   "source": [
    "colors=\"blue\",\n",
    "numbers=(1,)\n",
    "print(type(colors))\n",
    "print(type(numbers))"
   ]
  },
  {
   "cell_type": "markdown",
   "id": "ebda9260",
   "metadata": {},
   "source": [
    "<div class=arabic>\n",
    "وللحصول على صف فارغ يمكننا ان نستخدم الطريقة التالية:\n",
    "</div>"
   ]
  },
  {
   "cell_type": "code",
   "execution_count": null,
   "id": "cb9b752a",
   "metadata": {},
   "outputs": [],
   "source": [
    "houses=()"
   ]
  },
  {
   "cell_type": "markdown",
   "id": "9e6a9bbc",
   "metadata": {},
   "source": [
    "<div class=arabic>\n",
    "وكما هو الحال في القوائم فان البيانات في الصفوف يتم الحصول عليها بتحديد مؤشر البيان داخل قوسين مربعين بعد اسم متغير الصف كما في المثال التالي:\n",
    "</div>"
   ]
  },
  {
   "cell_type": "code",
   "execution_count": null,
   "id": "9e60a224",
   "metadata": {},
   "outputs": [],
   "source": [
    "fruits=(\"banana\",\"orange\",\"apple\")\n",
    "fruits[0]"
   ]
  },
  {
   "cell_type": "code",
   "execution_count": null,
   "id": "49eb8430",
   "metadata": {},
   "outputs": [],
   "source": [
    "fruits[2]"
   ]
  },
  {
   "cell_type": "markdown",
   "id": "ecb1d0e1",
   "metadata": {},
   "source": [
    "<div class=arabic>\n",
    "وكذلك عملية تجزئة الصفوف تتم بنفس الطريقة التي تعلمناها في تجزئة القوائم كما في المثال التالي:\n",
    "</div>"
   ]
  },
  {
   "cell_type": "code",
   "execution_count": null,
   "id": "85734b4f",
   "metadata": {},
   "outputs": [],
   "source": [
    "colors=('red','green','blue','yellow','orange')\n",
    "colors[2:4]"
   ]
  },
  {
   "cell_type": "code",
   "execution_count": null,
   "id": "fbb93144",
   "metadata": {},
   "outputs": [],
   "source": [
    "colors[:4]"
   ]
  },
  {
   "cell_type": "code",
   "execution_count": null,
   "id": "ec8d851d",
   "metadata": {},
   "outputs": [],
   "source": [
    "colors[:]"
   ]
  },
  {
   "cell_type": "markdown",
   "id": "30ef7e4f",
   "metadata": {},
   "source": [
    "<div class=arabic>\n",
    "وكذلك عملية الجمع والضرب بين صفين تتم بنفس الطريقة التي تعلمناها مع القوائم كما في المثال التالي:\n",
    "</div>"
   ]
  },
  {
   "cell_type": "code",
   "execution_count": null,
   "id": "da044d0b",
   "metadata": {},
   "outputs": [],
   "source": [
    "colors=('red','green','blue','yellow','orange')\n",
    "colors+(1,2,3)"
   ]
  },
  {
   "cell_type": "code",
   "execution_count": null,
   "id": "55c42b8d",
   "metadata": {},
   "outputs": [],
   "source": [
    "letters=('a','b','c')\n",
    "letters*3"
   ]
  },
  {
   "cell_type": "markdown",
   "id": "ec9e46cc",
   "metadata": {},
   "source": [
    "<div class=arabic>\n",
    "بشكل مشابه للقوائم يمكن معرفة عدد البيانات في صف باستخدام الدالة len() كما في المثال التالي:\n",
    "</div>"
   ]
  },
  {
   "cell_type": "code",
   "execution_count": null,
   "id": "7b7665d4",
   "metadata": {},
   "outputs": [],
   "source": [
    "colors=('red','green','blue','yellow','orange')\n",
    "len(colors)"
   ]
  },
  {
   "cell_type": "markdown",
   "id": "97933fc2",
   "metadata": {},
   "source": [
    "<div class=arabic>\n",
    "وللسؤال عما إذا كان بيان ما موجود في صف فإننا نتبع نفس الطريقة المستخدمة مع القوائم باستخدام in كما في المثال التالي:\n",
    "</div>"
   ]
  },
  {
   "cell_type": "code",
   "execution_count": null,
   "id": "d48dab9d",
   "metadata": {},
   "outputs": [],
   "source": [
    "colors=('red','green','blue','yellow','orange')\n",
    "'blue' in colors"
   ]
  },
  {
   "cell_type": "code",
   "execution_count": null,
   "id": "07554814",
   "metadata": {},
   "outputs": [],
   "source": [
    "'pink' in colors"
   ]
  },
  {
   "cell_type": "markdown",
   "id": "f8cf0110",
   "metadata": {},
   "source": [
    "<div class=arabic>من خلال ماسبق لاحظت ان الصفوف تشبه القوائم بشكل كبير ولكن هناك فرق جوهري بين الاثنين وهو ان البيانات في الصفوف لا يمكن تغييرها ولو حاولنا ذلك نجد ان مفسر بايثون يعطينا رسالة بوجود خطأ مفاده ان الصفوف غير قابلة للتغيير immutable كما في المثال التالي: </div>"
   ]
  },
  {
   "cell_type": "code",
   "execution_count": null,
   "id": "e20ccff8",
   "metadata": {},
   "outputs": [],
   "source": [
    "fruits=(\"banana\",\"orange\",\"apple\")\n",
    "fruits[0]=\"grapes\""
   ]
  },
  {
   "cell_type": "markdown",
   "id": "d1038a38",
   "metadata": {},
   "source": [
    "<div class=arabic>\n",
    "يتم التعامل مع فك الصفوف الى متغيرات بنفس الطريقة التى تعلمناها فيما يخص القوائم كما في الامثلة التالية:\n",
    "</div>"
   ]
  },
  {
   "cell_type": "code",
   "execution_count": null,
   "id": "6ed2217f",
   "metadata": {},
   "outputs": [],
   "source": [
    "numbers=(1,2,3,4)\n",
    "a,*b=numbers\n",
    "print(a)\n",
    "print(b)"
   ]
  },
  {
   "cell_type": "code",
   "execution_count": null,
   "id": "962807aa",
   "metadata": {},
   "outputs": [],
   "source": [
    "numbers=(1,2)\n",
    "a,b,*c=numbers\n",
    "print(a)\n",
    "print(b)\n",
    "print(c)"
   ]
  },
  {
   "cell_type": "code",
   "execution_count": null,
   "id": "5ef52a1e",
   "metadata": {},
   "outputs": [],
   "source": [
    "numbers=(1,2,3,4,5,6)\n",
    "a,*b,c=numbers\n",
    "print(a)\n",
    "print(b)\n",
    "print(c)"
   ]
  },
  {
   "cell_type": "markdown",
   "id": "0456c8f4",
   "metadata": {},
   "source": [
    "### أنشطة استكشافية"
   ]
  },
  {
   "cell_type": "markdown",
   "id": "a17421d2",
   "metadata": {},
   "source": [
    "<div class=arabic>\n",
    "١-حاول ان تستخدم احد الدوال التي استخدمناها مع القوائم لاحداث تغيير على صف كاستخدام الدالة ()remove او ()append مثلا ماذا تلاحظ ولماذا؟\n",
    "</div>"
   ]
  },
  {
   "cell_type": "code",
   "execution_count": null,
   "id": "d42af68e",
   "metadata": {},
   "outputs": [],
   "source": []
  },
  {
   "cell_type": "markdown",
   "id": "71420563",
   "metadata": {},
   "source": [
    "<div class=arabic>\n",
    "٢-حاول ان تستخدم الدوال التي لا تحدث تعديلا على بيانات الصف كالدالة ()count و الدالة ()index ماذا تلاحظ؟\n",
    "</div>"
   ]
  },
  {
   "cell_type": "code",
   "execution_count": null,
   "id": "784a5975",
   "metadata": {},
   "outputs": [],
   "source": []
  },
  {
   "cell_type": "markdown",
   "id": "ded1588f",
   "metadata": {},
   "source": [
    "<div class=arabic>\n",
    "٣-جرب استخدام الامر del على صف ماذا تلاحظ؟\n",
    "</div>"
   ]
  },
  {
   "cell_type": "code",
   "execution_count": null,
   "id": "bc0ae993",
   "metadata": {},
   "outputs": [],
   "source": []
  },
  {
   "cell_type": "markdown",
   "id": "c9fd5816",
   "metadata": {},
   "source": [
    "<div class=arabic>\n",
    "٤-جرب استخدام الامر ()dir واضعا بين قوسيه اسما لصف و تعرف على الدوال التي يمكن استخدامها مع الصف؟ \n",
    "</div>"
   ]
  },
  {
   "cell_type": "markdown",
   "id": "adc529d8",
   "metadata": {},
   "source": [
    "## القواميس(dictionaries)"
   ]
  },
  {
   "cell_type": "markdown",
   "id": "d5e1c6e3",
   "metadata": {},
   "source": [
    "<div class=arabic>\n",
    "القواميس عبارة عن مجموعة من البيانات توضع بين قوسين متعرجين ويفصل بين كل بيان واخر بفاصلة بحيث يتكون كل بيان من جزأين. الجزء الاول يسمى المفتاح (key) والجزء الاخر يسمى القيمة (value) ويفصل بين المفتاح والقيمة بنقطتين فوق بعض كما في المثال التالي:\n",
    "</div>"
   ]
  },
  {
   "cell_type": "code",
   "execution_count": null,
   "id": "d839a2e5",
   "metadata": {},
   "outputs": [],
   "source": [
    "info={'name':'Hassan','Age':22,'Job':'student'}"
   ]
  },
  {
   "cell_type": "markdown",
   "id": "8a49d0e2",
   "metadata": {},
   "source": [
    "<div class=arabic>\n",
    "المفتاح في القاموس يجب ان يكون مميزا عن غيره من المفاتيح وإذا حاولنا كتابة قاموس يحتوي على مفتاحين متشابهين فان القيمة الاولى سوف يتم حذفها وتبقى القيمة الأخيرة داخل القاموس كما في المثال التالي:\n",
    "</div>"
   ]
  },
  {
   "cell_type": "code",
   "execution_count": null,
   "id": "5cc98515",
   "metadata": {},
   "outputs": [],
   "source": [
    "info={'name':'Ali','Age':22,'Job':'student','name':'Waleed'}\n",
    "info"
   ]
  },
  {
   "cell_type": "markdown",
   "id": "9d56a197",
   "metadata": {},
   "source": [
    "<div class=arabic>\n",
    "اما قيم القاموس فيمكن ان تتشابه ولا يعترض مفسر بايثون على تشابه القيم طالما المفاتيح مختلفة كما في المثال التالي:    \n",
    "</div>"
   ]
  },
  {
   "cell_type": "code",
   "execution_count": null,
   "id": "cd3ac67f",
   "metadata": {},
   "outputs": [],
   "source": [
    "example={1:'odd',2:'even',3:'odd'}\n",
    "example"
   ]
  },
  {
   "cell_type": "markdown",
   "id": "7937f81b",
   "metadata": {},
   "source": [
    "<div class=arabic>\n",
    "مفاتيح القاموس يجب ان تكون بيانات غير قابلة للتغير فيمكن ان تكون نصا او رقما او صفا ولكن لا يمكن ان تكون قائمة كما في المثال التالي:\n",
    "</div>"
   ]
  },
  {
   "cell_type": "code",
   "execution_count": null,
   "id": "12856815",
   "metadata": {},
   "outputs": [],
   "source": [
    "keys_types={23:'number','Hello':'string',(1,2,3):'tuples'}\n",
    "keys_types"
   ]
  },
  {
   "cell_type": "code",
   "execution_count": null,
   "id": "dc80d661",
   "metadata": {},
   "outputs": [],
   "source": [
    "list_dict={[1,2]:'list'}"
   ]
  },
  {
   "cell_type": "markdown",
   "id": "b398acdd",
   "metadata": {},
   "source": [
    "<div class=arabic>\n",
    "لاحظ انه عندما استخدمنا القائمة كمفتاح في القاموس اظهر لنا مفسر بايثون رسالة بوجود خطأ من النوع TypeError والذي يفيد بوجود خطأ في نوعية البيانات المستخدمة.\n",
    "ويمكن كتابة قاموس فارغ بإحدى الطريقتين التاليتين:\n",
    "\n",
    "</div>"
   ]
  },
  {
   "cell_type": "code",
   "execution_count": null,
   "id": "29cc6ce4",
   "metadata": {},
   "outputs": [],
   "source": [
    "info={}"
   ]
  },
  {
   "cell_type": "code",
   "execution_count": null,
   "id": "deeba8a8",
   "metadata": {},
   "outputs": [],
   "source": [
    "info2=dict()"
   ]
  },
  {
   "cell_type": "markdown",
   "id": "b08cdb07",
   "metadata": {},
   "source": [
    "<div class=arabic>\n",
    "ويمكن الحصول على قيمة لمفتاح ما في قاموس باستخدام قوسين مربعين توضع بعد اسم القاموس ويكتب داخلها اسم المفتاح كما في المثال التالي:\n",
    "</div>"
   ]
  },
  {
   "cell_type": "code",
   "execution_count": null,
   "id": "ae61324f",
   "metadata": {},
   "outputs": [],
   "source": [
    "info={'name':'Ahmad','Age':22,'Job':'student'}\n",
    "info['Age']"
   ]
  },
  {
   "cell_type": "code",
   "execution_count": null,
   "id": "630ac6ad",
   "metadata": {},
   "outputs": [],
   "source": [
    "info[\"name\"]"
   ]
  },
  {
   "cell_type": "markdown",
   "id": "409ff74a",
   "metadata": {},
   "source": [
    "<div class=arabic>\n",
    "وعند استخدام التركيب اللغوي السابق للحصول على قيمة مفتاح غير موجود في القاموس فان محرر بايثون يعطينا رسالة بوجود خطأ من النوع KeyError كما في المثال التالي:\n",
    "</div>"
   ]
  },
  {
   "cell_type": "code",
   "execution_count": null,
   "id": "25603a77",
   "metadata": {},
   "outputs": [],
   "source": [
    "info={'name':'Ahmad','Age':22,'Job':'student'}\n",
    "info['birth_date']"
   ]
  },
  {
   "cell_type": "markdown",
   "id": "b416f669",
   "metadata": {},
   "source": [
    "<div class=arabic>\n",
    "ويمكن استخدام الدالة ()get للحصول على قيمة مفتاح في قاموس كما في المثال التالي:\n",
    "</div>"
   ]
  },
  {
   "cell_type": "code",
   "execution_count": null,
   "id": "6d3fb6d0",
   "metadata": {},
   "outputs": [],
   "source": [
    "info={'name':'Ahmad','Age':22,'Job':'student'}\n",
    "info.get('name')"
   ]
  },
  {
   "cell_type": "markdown",
   "id": "54936cd7",
   "metadata": {},
   "source": [
    "<div class=arabic>\n",
    "الفرق بين استخدام القوسين المربعين واستخدام الدالة ()get في الحصول على قيمة مفتاح في قاموس هو ان الدالة ()get لا تعطينا رسالة بوجود خطأ عندما يكون المفتاح غير موجود في القاموس كما في المثال التالي:\n",
    "</div>"
   ]
  },
  {
   "cell_type": "code",
   "execution_count": null,
   "id": "ec1bbf32",
   "metadata": {},
   "outputs": [],
   "source": [
    "info={'name':'Ahmad','Age':22,'Job':'student'}\n",
    "info.get('birth_date')"
   ]
  },
  {
   "cell_type": "markdown",
   "id": "68fe77a4",
   "metadata": {},
   "source": [
    "<div class=arabic>\n",
    "القواميس مثل القوائم يمكن تعديل البيانات الموجودة بداخلها فمثلا إذا أردنا تعديل قيمة المفتاح “Age” في القاموس السابق فإننا نقوم بالآتي:\n",
    "</div>"
   ]
  },
  {
   "cell_type": "code",
   "execution_count": null,
   "id": "58a5d378",
   "metadata": {},
   "outputs": [],
   "source": [
    "info={'name':'Ahmad','Age':22,'Job':'student'}\n",
    "info['Age']=40\n",
    "info\n"
   ]
  },
  {
   "cell_type": "markdown",
   "id": "f21cac44",
   "metadata": {},
   "source": [
    "<div class=arabic>\n",
    "كما يمكن إضافة بيانات جديدة الى قاموس بالطريقة التالية:\n",
    "</div>"
   ]
  },
  {
   "cell_type": "code",
   "execution_count": null,
   "id": "42a644bb",
   "metadata": {},
   "outputs": [],
   "source": [
    "info={'name':'Ahmad','Age':22,'Job':'student'}\n",
    "info['car']='Ford'\n",
    "info"
   ]
  },
  {
   "cell_type": "markdown",
   "id": "c3de5265",
   "metadata": {},
   "source": [
    "<div class=arabic>\n",
    "لمعرفة عدد البيانات في قاموس فاننا نستخدم الدالة ()len كما فعلنا في القوائم والصفوف:\n",
    "</div>"
   ]
  },
  {
   "cell_type": "code",
   "execution_count": null,
   "id": "edc9f13e",
   "metadata": {},
   "outputs": [],
   "source": [
    "info={'name':'Ahmad','Age':22,'Job':'student'}\n",
    "len(info)"
   ]
  },
  {
   "cell_type": "markdown",
   "id": "8bb88d9c",
   "metadata": {},
   "source": [
    "<div class=arabic>ولمعرفة ما اذا كان هناك بيان ما موجود في قاموس فاننا نستخدم in كما تعلمنا سابقا في القوائم والصفوف:</div>"
   ]
  },
  {
   "cell_type": "code",
   "execution_count": null,
   "id": "3ab349d9",
   "metadata": {},
   "outputs": [],
   "source": [
    "info={'name':'Ahmad','Age':22,'Job':'student'}\n",
    "'Age' in info"
   ]
  },
  {
   "cell_type": "code",
   "execution_count": null,
   "id": "fd322cb2",
   "metadata": {},
   "outputs": [],
   "source": [
    "'car' in info"
   ]
  },
  {
   "cell_type": "markdown",
   "id": "f858be86",
   "metadata": {},
   "source": [
    "<div class=arabic>\n",
    "لحذف بيان من قاموس فإننا نستخدم الامر del كما فعلنا في القوائم:\n",
    "</div>"
   ]
  },
  {
   "cell_type": "code",
   "execution_count": null,
   "id": "5214351e",
   "metadata": {},
   "outputs": [],
   "source": [
    "info={'name':'Ahmad','Age':22,'Job':'student'}\n",
    "del info['Job']"
   ]
  },
  {
   "cell_type": "markdown",
   "id": "a7891a9c",
   "metadata": {},
   "source": [
    "<div class=arabic>\n",
    "كما يمكن استخدام الدالة ()pop لاداء نفس المهمة مع امكانية ارجاع قيمة المفتاح المحذوف واضافته لمتغير لاستخدامه في عمليات اخرى كما في المثال التالي:\n",
    "</div>"
   ]
  },
  {
   "cell_type": "code",
   "execution_count": null,
   "id": "cc68336c",
   "metadata": {},
   "outputs": [],
   "source": [
    "info={'name':'Ahmad','Age':22,'Job':'student'}\n",
    "removed_item=info.pop(\"name\")\n",
    "print(info)"
   ]
  },
  {
   "cell_type": "code",
   "execution_count": null,
   "id": "863bf75f",
   "metadata": {},
   "outputs": [],
   "source": [
    "removed_item"
   ]
  },
  {
   "cell_type": "markdown",
   "id": "1ec56e87",
   "metadata": {},
   "source": [
    "<div class=arabic>\n",
    "    كما يمكن استخدام الدالة ()popitem لحذف اخر بيان تم اضافته للقاموس مع امكانية ارجاع المفتاح المحذوف وقيمته لاستخدامهما في عمليات اخرى كما في المثال التالي:\n",
    "</div>"
   ]
  },
  {
   "cell_type": "code",
   "execution_count": null,
   "id": "a8b956af",
   "metadata": {},
   "outputs": [],
   "source": [
    "info={'name':'Ahmad','Age':22,'Job':'student'}\n",
    "removed_item=info.popitem()\n",
    "print(info)\n",
    "print(removed_item)"
   ]
  },
  {
   "cell_type": "markdown",
   "id": "d5c6bfe3",
   "metadata": {},
   "source": [
    "<div class=arabic>\n",
    "ولتفريغ القاموس من البيانات بالكامل نستخدم الدالة ()clear كما في المثال التالي:\n",
    "</div>"
   ]
  },
  {
   "cell_type": "code",
   "execution_count": null,
   "id": "55d70a66",
   "metadata": {},
   "outputs": [],
   "source": [
    "info={'name':'Ahmad','Age':22}\n",
    "info.clear()\n",
    "info"
   ]
  },
  {
   "cell_type": "markdown",
   "id": "0fecae47",
   "metadata": {},
   "source": [
    "<div class=arabic>\n",
    "ولمعرفة كافة المفاتيح في قاموس ما نستخدم الدالة ()keys كما في المثال التالي:\n",
    "</div>"
   ]
  },
  {
   "cell_type": "code",
   "execution_count": null,
   "id": "6185442f",
   "metadata": {},
   "outputs": [],
   "source": [
    "info={'name': 'Ahmad', 'Age': 22, 'Job': 'student'}\n",
    "info.keys()"
   ]
  },
  {
   "cell_type": "markdown",
   "id": "bef52200",
   "metadata": {},
   "source": [
    "<div class=arabic>\n",
    "ولمعرفة كافة القيم في القاموس نستخدم الدالة ()values كما في المثال التالي:\n",
    "</div>"
   ]
  },
  {
   "cell_type": "code",
   "execution_count": null,
   "id": "cd8b6661",
   "metadata": {},
   "outputs": [],
   "source": [
    "info={'name': 'Ahmad', 'Age': 22, 'Job': 'student'}\n",
    "info.values()"
   ]
  },
  {
   "cell_type": "markdown",
   "id": "a43511d1",
   "metadata": {},
   "source": [
    "<div class=arabic>\n",
    "ولدمج بيانات قاموسين نستخدم الدالة ()update كما في المثال التالي:\n",
    "</div>"
   ]
  },
  {
   "cell_type": "code",
   "execution_count": null,
   "id": "c11c95f2",
   "metadata": {},
   "outputs": [],
   "source": [
    "info={'name': 'Ahmad', 'Age': 22, 'Job': 'student'}\n",
    "info2={'title':'Mr','phone':'00000'}\n",
    "info.update(info2)\n",
    "info "
   ]
  },
  {
   "cell_type": "markdown",
   "id": "707d810b",
   "metadata": {},
   "source": [
    "<div class=arabic>\n",
    "لاحظ ان القاموس الذي يسبق الدالة هو القاموس الأساسي والقاموس الذي بداخل قوسي الدالة هو القاموس الذي تم دمج البيانات منه. يجب ملاحظ ان بالإمكان وضع قاموس فرعي داخل قاموس رئيسي كما يلي:\n",
    "</div>"
   ]
  },
  {
   "cell_type": "code",
   "execution_count": null,
   "id": "708bedf1",
   "metadata": {},
   "outputs": [],
   "source": [
    "info={'name': 'Ahmad', 'Age': 22, 'Job': 'student'}\n",
    "info2={'title':'Mr','phone':'00000'}\n",
    "info['more_data']=info2\n",
    "info"
   ]
  },
  {
   "cell_type": "markdown",
   "id": "09ad232a",
   "metadata": {},
   "source": [
    "<div class=arabic>\n",
    "في المثال السابق تم إضافة القاموس الفرعي باستخدام مفتاح جديد اسميناه more_data كما تعلمنا سابقا عن كيفية إضافة بيان جديد الى قاموس.\n",
    "</div>"
   ]
  },
  {
   "cell_type": "markdown",
   "id": "e02deba0",
   "metadata": {},
   "source": [
    "<div class=arabic>\n",
    "ويمكن استخدام الدالة ()items لعرض جميع البيانات في قاموس كقائمة كل بيان يظهر كصف مكون من مفتاح وقيمة كما في المثال التالي:\n",
    "</div>"
   ]
  },
  {
   "cell_type": "code",
   "execution_count": null,
   "id": "72ed5c18",
   "metadata": {},
   "outputs": [],
   "source": [
    "info={'name': 'Ahmad', 'Age': 22, 'Job': 'student'}\n",
    "info.items()"
   ]
  },
  {
   "cell_type": "markdown",
   "id": "e0c48bde",
   "metadata": {},
   "source": [
    "<div class=arabic>\n",
    "كل ما ينطبق على القوائم من عمليات النسخ يمكن تطبيقة على القواميس كما في المثالين التاليين:\n",
    "</div>"
   ]
  },
  {
   "cell_type": "code",
   "execution_count": null,
   "id": "156d54fb",
   "metadata": {},
   "outputs": [],
   "source": [
    "cars={\"name\":\"Ford\", \"model\":2015, \"color\":\"white\"}\n",
    "cars2=cars\n",
    "cars2[\"milage\"]=100000\n",
    "print(cars)\n",
    "print(cars2)"
   ]
  },
  {
   "cell_type": "code",
   "execution_count": null,
   "id": "40f57aed",
   "metadata": {},
   "outputs": [],
   "source": [
    "cars={\"name\":\"Ford\", \"model\":2015, \"color\":\"white\"}\n",
    "cars2=cars.copy()\n",
    "cars2[\"milage\"]=100000\n",
    "print(cars)\n",
    "print(cars2)"
   ]
  },
  {
   "cell_type": "code",
   "execution_count": null,
   "id": "84802a5d",
   "metadata": {},
   "outputs": [],
   "source": [
    "cars={\"name\":\"Ford\", \"model\":2015, \"color\":\"white\"}\n",
    "cars2=dict(cars)\n",
    "cars2[\"milage\"]=100000\n",
    "print(cars)\n",
    "print(cars2)"
   ]
  },
  {
   "cell_type": "markdown",
   "id": "7181f594",
   "metadata": {},
   "source": [
    "### تمارين استكشافية"
   ]
  },
  {
   "cell_type": "markdown",
   "id": "b384be2c",
   "metadata": {},
   "source": [
    "<div class=arabic>\n",
    "١- استكشف ماذا كان عمليات الضرب والجمع التي قمنا بها مع القوائم يمكن استخدامها مع القواميس؟\n",
    "</div>"
   ]
  },
  {
   "cell_type": "code",
   "execution_count": null,
   "id": "9cb48cf5",
   "metadata": {},
   "outputs": [],
   "source": []
  },
  {
   "cell_type": "markdown",
   "id": "32dc714a",
   "metadata": {},
   "source": [
    "<div class=arabic>\n",
    "٢-جرب استخدام الامر ()dir واضعا بين قوسيه اسما لقاموس و تعرف على الدوال التي يمكن استخدامها مع القاموس؟ \n",
    "</div>"
   ]
  },
  {
   "cell_type": "code",
   "execution_count": null,
   "id": "d9b58e4f",
   "metadata": {},
   "outputs": [],
   "source": []
  },
  {
   "cell_type": "markdown",
   "id": "11976625",
   "metadata": {},
   "source": [
    "<div class=arabic>\n",
    "٣- استكشف الية عمل الدالة ()popitem على القاموس؟\n",
    "</div>"
   ]
  },
  {
   "cell_type": "code",
   "execution_count": null,
   "id": "bcce5d03",
   "metadata": {},
   "outputs": [],
   "source": []
  },
  {
   "cell_type": "markdown",
   "id": "fb872bf7",
   "metadata": {},
   "source": [
    "<div class=arabic>٤- استخدم الدالة ()help واضعاً بين قوسيها اسما لدالة تعمل عملا ما على القاموس محاولاً معرفة كيفية عمل تلك الدالة؟ تلميح: يجب كتابة اسم قاموس مفصولا بنقطة بينه وبين الدالة المراد معرفة معلومات عنها بدون كتابة قوسيها داخل قوسي الدالة ()help.</div>"
   ]
  },
  {
   "cell_type": "code",
   "execution_count": null,
   "id": "9ba090d2",
   "metadata": {},
   "outputs": [],
   "source": []
  },
  {
   "cell_type": "markdown",
   "id": "87763672",
   "metadata": {},
   "source": [
    "## المجموعات (sets)"
   ]
  },
  {
   "cell_type": "markdown",
   "id": "d3679464",
   "metadata": {},
   "source": [
    "<div class=arabic>\n",
    "المجموعات في لغة بايثون هي عبارة عن تجمع لبيانات غير قابلة للتكرار توضع بين قوسين متعرجين {} يفصل بين كل بيان واخر بفاصلة ويشار اليها بمتغير واحد كما في المثال التالي:\n",
    "</div>"
   ]
  },
  {
   "cell_type": "code",
   "execution_count": null,
   "id": "8c3eba8f",
   "metadata": {},
   "outputs": [],
   "source": [
    "numbers={1,2,3,4,1,3}\n",
    "print(numbers)\n",
    "{1, 2, 3, 4}"
   ]
  },
  {
   "cell_type": "markdown",
   "id": "f7de1aee",
   "metadata": {},
   "source": [
    "<div class=arabic>\n",
    "لاحظ في المثال السابق اننا حاولنا تكوين مجموعة بيانات متكررة لكن محرر بايثون حذف البيانات المتكررة من المجموعة لان المجموعات في بايثون لا تسمح بتكرار البيانات المتشابهة. لاحظ أيضا التشابه بين المجموعات والقواميس من حيث الاقواس. الاختلاف بين القواميس والمجموعات يكمن في طريقة كتابة البيانات فالقواميس كل بيان يتكون من مفتاح وقيمة مفصولين بنقطتين فوق بعض اما المجموعات فهي بيانات اعتيادية. \n",
    "</div>"
   ]
  },
  {
   "cell_type": "markdown",
   "id": "c540486b",
   "metadata": {},
   "source": [
    "<div class=arabic>\n",
    "ويمكن انشاء مجموعة اما بالطريقة التي استخدمناها في المثال السابق او باستخدام الدالة set() وإدخال قائمة من البيانات داخل قوسي الدالة كما في المثال التالي:\n",
    "</div>"
   ]
  },
  {
   "cell_type": "code",
   "execution_count": null,
   "id": "5d2580a6",
   "metadata": {},
   "outputs": [],
   "source": [
    "letters=set(['a','b','c'])\n",
    "letters"
   ]
  },
  {
   "cell_type": "markdown",
   "id": "4914d47c",
   "metadata": {},
   "source": [
    "<div class=arabic>\n",
    "واذا اردنا ان ننشئ مجموعة فارغة فإننا لا نستطيع ان نستخدم قوسين فارغين لأن هذا التركيب اللغوي محجوز للقواميس ولكن بوسعنا ان نستخدم الدالة set() بدون ان ندخل أي شيء بين قوسيها كما في المثال التالي:\n",
    "</div>"
   ]
  },
  {
   "cell_type": "code",
   "execution_count": null,
   "id": "9ec9b1a2",
   "metadata": {},
   "outputs": [],
   "source": [
    "numbers={}   #استخدام القوسين المتعرجين محجوز للقواميس\n",
    "type(numbers)"
   ]
  },
  {
   "cell_type": "code",
   "execution_count": null,
   "id": "dd13b44d",
   "metadata": {},
   "outputs": [],
   "source": [
    "letters=set()\n",
    "letters"
   ]
  },
  {
   "cell_type": "markdown",
   "id": "00e35421",
   "metadata": {},
   "source": [
    "<div class=arabic>\n",
    "ولإضافة بيان الي مجموعة فارغة او مجموعة محتوية على بيانات سابقة نستخدم الدالة ()add كما في المثال التالي:\n",
    "</div>"
   ]
  },
  {
   "cell_type": "code",
   "execution_count": null,
   "id": "187ffdd6",
   "metadata": {},
   "outputs": [],
   "source": [
    "letters=set()\n",
    "letters.add('Ahmad')\n",
    "letters.add('Waleed')\n",
    "letters"
   ]
  },
  {
   "cell_type": "markdown",
   "id": "85ba8eda",
   "metadata": {},
   "source": [
    "<div class=arabic>\n",
    "لاحظ ان ترتيب البيانات في المجموعات ليس بالضرورة ان يكون بنفس الترتيب الذي ادخلنا فيه البيانات وذلك لان المجموعات لا تستخدم مؤشر البيانات للإشارة الى البيانات بداخلها واذا حاولنا القيام بذلك فان مفسر بايثون سوف يظهر لنا رسالة تفيد بان المجموعات لا تستخدم مؤشر البيانات كما في المثال التالي:\n",
    "</div>"
   ]
  },
  {
   "cell_type": "code",
   "execution_count": null,
   "id": "09e9dea2",
   "metadata": {},
   "outputs": [],
   "source": [
    "letters={'Hassan', 'Ahmad', 'Waleed'}\n",
    "letters[1]"
   ]
  },
  {
   "cell_type": "markdown",
   "id": "91b0a9eb",
   "metadata": {},
   "source": [
    "<div class=arabic>\n",
    "ولاضافة مجموعة الى مجموعة اخرى نستخدم الدالة ()update كما في المثال التالي:\n",
    "</div>"
   ]
  },
  {
   "cell_type": "code",
   "execution_count": null,
   "id": "9027526f",
   "metadata": {},
   "outputs": [],
   "source": [
    "set_A={1,2,3,4}\n",
    "set_B={1,2,5,7}\n",
    "set_A.update(set_B)\n",
    "print(set_A)"
   ]
  },
  {
   "cell_type": "markdown",
   "id": "74d0c6cf",
   "metadata": {},
   "source": [
    "<div class=arabic>\n",
    "لاحظ ان عملية الترتيب في المثال السابق مهمة فالدالة ()update تضيف بيانات المجموعة set_B الى بيانات المجموعة set_A اذا كانت غير موجودة مسبقا فيها.\n",
    "</div>"
   ]
  },
  {
   "cell_type": "markdown",
   "id": "aa135a08",
   "metadata": {},
   "source": [
    "<div class=arabic>\n",
    "ولحذف بيان من مجموعة هناك عدة خيارات لاداء هذه المهمة. فيمكن استخدم الدالة  ()remove كما في المثال التالي:\n",
    "</div>"
   ]
  },
  {
   "cell_type": "code",
   "execution_count": null,
   "id": "e86d6390",
   "metadata": {},
   "outputs": [],
   "source": [
    "letters={'Hassan', 'Ahmad', 'Waleed'}\n",
    "letters.remove('Ahmad')\n",
    "letters"
   ]
  },
  {
   "cell_type": "markdown",
   "id": "3a3eb224",
   "metadata": {},
   "source": [
    "<div class=arabic>\n",
    "ويمكن ايضا استخدام الدالة ()discard لحذف بيان من مجموعة كما في المثال التالي:\n",
    "</div>"
   ]
  },
  {
   "cell_type": "code",
   "execution_count": null,
   "id": "ed2dee64",
   "metadata": {},
   "outputs": [],
   "source": [
    "letters={2, (3, 4), 'Hassan', 'Waleed'}\n",
    "letters.discard(2)\n",
    "letters"
   ]
  },
  {
   "cell_type": "markdown",
   "id": "a2653603",
   "metadata": {},
   "source": [
    "<div class=arabic>\n",
    "الفرق بين استخدام الدالة ()remove والدالة ()discard هو ان الدالة ()discard لا تعطينا رسالة بوجود خطأ عندما نطلب حذف بيان ليس موجود داخل مجموعة اما الدالة ()remove فسوف تظهر لنا رسالة خطأ KeyError عند عندم وجود البيان داخل المجموعة كما في المثال التالي:\n",
    "</div>"
   ]
  },
  {
   "cell_type": "code",
   "execution_count": null,
   "id": "32f52dba",
   "metadata": {},
   "outputs": [],
   "source": [
    "letters={(3, 4), 'Hassan', 'Waleed'}\n",
    "letters.discard('Ahmad')  # لم تظهر لنا أي رسالة رغم ان البيان غير موجود"
   ]
  },
  {
   "cell_type": "code",
   "execution_count": null,
   "id": "81203a23",
   "metadata": {},
   "outputs": [],
   "source": [
    "letters.remove('Ahmad')"
   ]
  },
  {
   "cell_type": "markdown",
   "id": "71b05a8f",
   "metadata": {},
   "source": [
    "<div class=arabic>\n",
    "كما يمكن أيضا استخدام الدالة ()pop لحذف بيان عشوائي من مجموعة كما في المثال التالي:\n",
    "</div>"
   ]
  },
  {
   "cell_type": "code",
   "execution_count": null,
   "id": "f3398941",
   "metadata": {},
   "outputs": [],
   "source": [
    "letters={(3, 4), 'Hassan', 'Waleed'}\n",
    "letters.pop()"
   ]
  },
  {
   "cell_type": "markdown",
   "id": "3acec646",
   "metadata": {},
   "source": [
    "<div class=arabic>لاحظ ان البيان الذي يتم حذفه ليس بالضرورة ان يكون في اخر المجموعة كما هو الحال في القوائم وانما يتم اختياره بشكل عشوائي كما حصل في المثال السابق حيث تم حذف بيان من وسط المجموعة وليس من اخرها.</div>"
   ]
  },
  {
   "cell_type": "markdown",
   "id": "4bc493fe",
   "metadata": {},
   "source": [
    "<div class=arabic>\n",
    "كما يمكن استخدام الدالة ()clear كما فعلنا بالقوائم والصفوف لحذف جميع البيانات من مجموعة كما في المثال التالي:\n",
    "</div>"
   ]
  },
  {
   "cell_type": "code",
   "execution_count": null,
   "id": "744a3987",
   "metadata": {},
   "outputs": [],
   "source": [
    "letters={'Hassan', 'Waleed'}\n",
    "letters.clear()\n",
    "letters"
   ]
  },
  {
   "cell_type": "markdown",
   "id": "e0348023",
   "metadata": {},
   "source": [
    "<div class=arabic>\n",
    "ذكرنا سابقا اننا نستطيع إضافة بيان الى مجموعة وكذلك باستطاعتنا حذفه لكن ليس باستطاعتنا إعادة تعيين قيم البيانات داخل المجموعات كما كنا نفعل بالبيانات داخل القوائم. لذلك يجب ان تكون البيانات المدخلة للمجموعة غير قابلة لإعادة التعيين كالبيانات النصية والصفوف والأرقام. وإذا حاولنا إضافة بيان قابل للتغيير كالقوائم مثلا فان بايثون يظهر لنا رسالة بوجود خطأ كما في المثال التالي:\n",
    "</div>"
   ]
  },
  {
   "cell_type": "code",
   "execution_count": null,
   "id": "008888fe",
   "metadata": {},
   "outputs": [],
   "source": [
    "letters={'Hassan', 'Waleed'}\n",
    "letters.add(2)\n",
    "letters.add((3,4))\n",
    "letters"
   ]
  },
  {
   "cell_type": "code",
   "execution_count": null,
   "id": "63318172",
   "metadata": {},
   "outputs": [],
   "source": [
    "letters.add([2,4,6])"
   ]
  },
  {
   "cell_type": "markdown",
   "id": "b4ea0d0b",
   "metadata": {},
   "source": [
    "<div class=arabic>\n",
    "ويكمن التعرف على ما اذا كان هناك بيان موجود في مجموعة باستخدام الامر in كما فعلنا سابقا في القوائم والصفوف وهذا مثال عليه هنا:\n",
    "</div>"
   ]
  },
  {
   "cell_type": "code",
   "execution_count": null,
   "id": "1d29fe80",
   "metadata": {},
   "outputs": [],
   "source": [
    "set_1={1,2,'a','b'}\n",
    "1 in set_1"
   ]
  },
  {
   "cell_type": "code",
   "execution_count": null,
   "id": "70a45e12",
   "metadata": {},
   "outputs": [],
   "source": [
    "3 in set_1"
   ]
  },
  {
   "cell_type": "markdown",
   "id": "1c1d99c5",
   "metadata": {},
   "source": [
    "<div class=arabic>\n",
    "ويمكن اجراء عملية التقاطع بين مجموعتين للحصول على جميع البيانات الموجودة في كلا المجموعتين بعد حذف التكرار باستخدام الدالة ()union كما في المثال التالي:\n",
    "</div>"
   ]
  },
  {
   "cell_type": "code",
   "execution_count": null,
   "id": "b4952eac",
   "metadata": {},
   "outputs": [],
   "source": [
    "set_1={1,2,'a','b'}\n",
    "set_2={'c','d',1,2}\n",
    "set_1.union(set_2)"
   ]
  },
  {
   "cell_type": "markdown",
   "id": "e100a2c7",
   "metadata": {},
   "source": [
    "<div class=arabic>\n",
    "اما اذا اردنا ان نحصل على البيانات المتشابهة فقط فاننا نستخدم الدالة ()intersection كما في المثال التالي:\n",
    "</div>"
   ]
  },
  {
   "cell_type": "code",
   "execution_count": null,
   "id": "f6926fbf",
   "metadata": {},
   "outputs": [],
   "source": [
    "set_1={1,2,'a','b'}\n",
    "set_2={'c','d',1,2}\n",
    "set_1.intersection(set_2)"
   ]
  },
  {
   "cell_type": "markdown",
   "id": "f443f352",
   "metadata": {},
   "source": [
    "<div class=arabic>\n",
    "وللحصول على البيانات الموجود في مجموعة شريطة ان هذا البيانات غير موجودة في مجموعة ثانية نستخدم الدالة ()difference كما في المثال التالي:\n",
    "</div>"
   ]
  },
  {
   "cell_type": "code",
   "execution_count": null,
   "id": "d1340f81",
   "metadata": {},
   "outputs": [],
   "source": [
    "set_1={1,2,'a','b'}\n",
    "set_2={'c','d',1,2}\n",
    "set_1.difference(set_2)"
   ]
  },
  {
   "cell_type": "markdown",
   "id": "28136b14",
   "metadata": {},
   "source": [
    "<div class=arabic>\n",
    "وللحصول على جميع البيانات داخل مجموعتين بعد حذف العناصر المتشابهة نستخدم الدالة ()symmetric_difference كما في المثال التالي:\n",
    "</div>"
   ]
  },
  {
   "cell_type": "code",
   "execution_count": null,
   "id": "7c4c6425",
   "metadata": {},
   "outputs": [],
   "source": [
    "set_1={1,2,'a','b'}\n",
    "set_2={'c','d',1,2}\n",
    "set_1.symmetric_difference(set_2)"
   ]
  },
  {
   "cell_type": "markdown",
   "id": "ff8ec7c7",
   "metadata": {},
   "source": [
    "<div class=arabic>\n",
    "لاحظ ان جميع الدوال الاربعة السابقة تقوم بتكون مجموعة جديد لاحداث التغيير لا تغير في المجموعات الاصلية ولتأكد من ذلك يمكن ملاحظة ناتج الامثلة التالية:\n",
    "</div>"
   ]
  },
  {
   "cell_type": "code",
   "execution_count": null,
   "id": "42ea60e7",
   "metadata": {
    "scrolled": true
   },
   "outputs": [],
   "source": [
    "set_1={1,2,'a','b'}\n",
    "set_2={'c','d',1,2}\n",
    "result=set_1.union(set_2)\n",
    "print(result)\n",
    "print(set_1)\n",
    "print(set_2)"
   ]
  },
  {
   "cell_type": "code",
   "execution_count": null,
   "id": "befc1b7a",
   "metadata": {},
   "outputs": [],
   "source": [
    "set_1={1,2,'a','b'}\n",
    "set_2={'c','d',1,2}\n",
    "result=set_1.intersection(set_2)\n",
    "print(result)\n",
    "print(set_1)\n",
    "print(set_2)"
   ]
  },
  {
   "cell_type": "code",
   "execution_count": null,
   "id": "59d29b7b",
   "metadata": {},
   "outputs": [],
   "source": [
    "set_1={1,2,'a','b'}\n",
    "set_2={'c','d',1,2}\n",
    "result=set_1.difference(set_2)\n",
    "print(result)\n",
    "print(set_1)\n",
    "print(set_2)"
   ]
  },
  {
   "cell_type": "code",
   "execution_count": null,
   "id": "e24ac18e",
   "metadata": {},
   "outputs": [],
   "source": [
    "set_1={1,2,'a','b'}\n",
    "set_2={'c','d',1,2}\n",
    "result=set_1.symmetric_difference(set_2)\n",
    "print(result)\n",
    "print(set_1)\n",
    "print(set_2)"
   ]
  },
  {
   "cell_type": "markdown",
   "id": "77c3018d",
   "metadata": {},
   "source": [
    "<div class=arabic>\n",
    "ولاحداث تغيير مباشر في المجموعة الاصلية نستخدم الدوال التالية:\n",
    "<ul><li>\n",
    "    ()intersection_update</li> \n",
    "    <li>()difference_update </li>\n",
    "    <li>()symmetric_difference_update </li>\n",
    "    بدلا من الدوال السابقة للقيام بهذه المهمة كما في الامثلة التالية:\n",
    "</div>"
   ]
  },
  {
   "cell_type": "code",
   "execution_count": null,
   "id": "eb8de81d",
   "metadata": {},
   "outputs": [],
   "source": [
    "set_1={1,2,'a','b'}\n",
    "set_2={'c','d',1,2}\n",
    "set_1.intersection_update(set_2)\n",
    "print(set_1)\n",
    "print(set_2)"
   ]
  },
  {
   "cell_type": "code",
   "execution_count": null,
   "id": "938fafa5",
   "metadata": {},
   "outputs": [],
   "source": [
    "set_1={1,2,'a','b'}\n",
    "set_2={'c','d',1,2}\n",
    "result=set_1.difference_update(set_2)\n",
    "print(set_1)\n",
    "print(set_2)"
   ]
  },
  {
   "cell_type": "code",
   "execution_count": null,
   "id": "de810a0a",
   "metadata": {},
   "outputs": [],
   "source": [
    "set_1={1,2,'a','b'}\n",
    "set_2={'c','d',1,2}\n",
    "result=set_1.symmetric_difference_update(set_2)\n",
    "print(set_1)\n",
    "print(set_2)"
   ]
  },
  {
   "cell_type": "markdown",
   "id": "d178cc01",
   "metadata": {},
   "source": [
    "<div class=arabic>\n",
    "كما يمكن استخدام الدالة ()issubset للسؤال عن ما اذا كانت مجموعة ما هي مجموعة جزئية من مجموعة أخرى كما في المثال التالي:\n",
    "</div>"
   ]
  },
  {
   "cell_type": "code",
   "execution_count": null,
   "id": "679bf5fd",
   "metadata": {},
   "outputs": [],
   "source": [
    "set_1={1,2,'a','b'}\n",
    "set_2={1, 'd', 2, 'c'}\n",
    "set_3={'a','b'}\n",
    "set_3.issubset(set_1)"
   ]
  },
  {
   "cell_type": "code",
   "execution_count": null,
   "id": "3193b416",
   "metadata": {},
   "outputs": [],
   "source": [
    "set_2.issubset(set_1)"
   ]
  },
  {
   "cell_type": "markdown",
   "id": "583f5704",
   "metadata": {},
   "source": [
    "<div class=arabic>\n",
    "كما يمكن استخدام الدالة ()issuperset للسؤال عن ما اذا كانت مجموعة ما هي مجموعة مشتملة على جميع بيانات مجموعة أخرى كما في المثال التالي:\n",
    "</div>"
   ]
  },
  {
   "cell_type": "code",
   "execution_count": null,
   "id": "8e7a8dd2",
   "metadata": {},
   "outputs": [],
   "source": [
    "set_1={1,2,'a','b'}\n",
    "set_2={1, 'd', 2, 'c'}\n",
    "set_3={'a','b'}\n",
    "set_1.issuperset(set_3)"
   ]
  },
  {
   "cell_type": "code",
   "execution_count": null,
   "id": "13eea274",
   "metadata": {},
   "outputs": [],
   "source": [
    "set_2.issuperset(set_1)"
   ]
  },
  {
   "cell_type": "markdown",
   "id": "4783ba74",
   "metadata": {},
   "source": [
    "<div class=arabic>\n",
    "كما يمكن استخدام الدالة ()isdisjoint للسؤال عن ما اذا كانت مجموعة ما منفصلة عن مجموعة أخرى كما في المثال التالي:\n",
    "</div>"
   ]
  },
  {
   "cell_type": "code",
   "execution_count": null,
   "id": "7907c940",
   "metadata": {},
   "outputs": [],
   "source": [
    "set_1={1,2,'a','b'}\n",
    "set_2={1, 'd', 2, 'c'}\n",
    "set_3={'c','d'}\n",
    "set_1.isdisjoint(set_3)"
   ]
  },
  {
   "cell_type": "code",
   "execution_count": null,
   "id": "729937bd",
   "metadata": {},
   "outputs": [],
   "source": [
    "set_1.isdisjoint(set_2)"
   ]
  },
  {
   "cell_type": "markdown",
   "id": "e13fcc22",
   "metadata": {},
   "source": [
    "<div class=arabic>\n",
    "كل ما ينطبق على القوائم من عمليات النسخ يمكن تطبيقه على المجموعات.\n",
    "</div>"
   ]
  },
  {
   "cell_type": "code",
   "execution_count": null,
   "id": "e7c67007",
   "metadata": {
    "scrolled": true
   },
   "outputs": [],
   "source": [
    "cars={\"Ford\", 2015, \"white\"}\n",
    "cars2=cars\n",
    "cars2.add(100000)\n",
    "print(cars)\n",
    "print(cars2)"
   ]
  },
  {
   "cell_type": "code",
   "execution_count": null,
   "id": "b1035d38",
   "metadata": {},
   "outputs": [],
   "source": [
    "cars={\"Ford\", 2015, \"white\"}\n",
    "cars2=cars.copy()\n",
    "cars2.add(100000)\n",
    "print(cars)\n",
    "print(cars2)"
   ]
  },
  {
   "cell_type": "code",
   "execution_count": null,
   "id": "989dcca0",
   "metadata": {},
   "outputs": [],
   "source": [
    "cars={\"Ford\", 2015, \"white\"}\n",
    "cars2=set(cars)\n",
    "cars2.add(100000)\n",
    "print(cars)\n",
    "print(cars2)"
   ]
  },
  {
   "cell_type": "markdown",
   "id": "4afcac58",
   "metadata": {},
   "source": [
    "<div class=arabic>\n",
    "    وهناك ما يدعى بالمجموعة المجمدة frozenset والتي لا تسمح بتغيير باجراء اي تغيير عليها. فعند محالة اضافة عنصر لهذه المجموعة المجمدة فان مفسر بايثون يعطي رسالة خطأ تفيد بعدم قابلية المجموعة المجمدة للاضافة كما في المثال التالي:\n",
    "</div>"
   ]
  },
  {
   "cell_type": "code",
   "execution_count": null,
   "id": "227bdfe3",
   "metadata": {},
   "outputs": [],
   "source": [
    "set_A=frozenset([1,2,4])\n",
    "type(set_A)"
   ]
  },
  {
   "cell_type": "code",
   "execution_count": null,
   "id": "73308ddc",
   "metadata": {},
   "outputs": [],
   "source": [
    "set_A.add(7)"
   ]
  },
  {
   "cell_type": "code",
   "execution_count": null,
   "id": "6f0d1341",
   "metadata": {},
   "outputs": [],
   "source": [
    "set_A.remove(1)"
   ]
  },
  {
   "cell_type": "markdown",
   "id": "dba630f2",
   "metadata": {},
   "source": [
    "### تمارين استكشافية"
   ]
  },
  {
   "cell_type": "markdown",
   "id": "4362f6c5",
   "metadata": {},
   "source": [
    "<div class=arabic>\n",
    "١- استخدم الدالة ()pop لحذف بيان عشوائي من مجموعة فارغة؟ ماذا تلاحظ؟\n",
    "</div>"
   ]
  },
  {
   "cell_type": "code",
   "execution_count": null,
   "id": "a8486cef",
   "metadata": {},
   "outputs": [],
   "source": []
  },
  {
   "cell_type": "markdown",
   "id": "ef55177c",
   "metadata": {},
   "source": [
    "<div class=arabic>\n",
    "٢- استكشف إمكانية إضافة مجموعة الى مجموعة ؟\n",
    "</div>"
   ]
  },
  {
   "cell_type": "code",
   "execution_count": null,
   "id": "2f18e76b",
   "metadata": {},
   "outputs": [],
   "source": []
  },
  {
   "cell_type": "markdown",
   "id": "6a6c0330",
   "metadata": {},
   "source": [
    "<div class=arabic>\n",
    "٣- استخدم محموعتين للتعرف على الفرق بين استخدم set_1.difference(set_2) واستخدام set_2.difference(set_1) ؟\n",
    "</div>"
   ]
  },
  {
   "cell_type": "code",
   "execution_count": null,
   "id": "135e585b",
   "metadata": {},
   "outputs": [],
   "source": []
  },
  {
   "cell_type": "markdown",
   "id": "e55a3730",
   "metadata": {},
   "source": [
    "<div class=arabic>\n",
    "٤- ١ستخدم مجموعتين للتعرف على الفرق بين استخدام الدالة ()union والدالة ()symmetric_difference؟ \n",
    "</div>"
   ]
  },
  {
   "cell_type": "code",
   "execution_count": null,
   "id": "282f7623",
   "metadata": {},
   "outputs": [],
   "source": []
  },
  {
   "cell_type": "markdown",
   "id": "3f5a7e4f",
   "metadata": {},
   "source": [
    "<div class=arabic>\n",
    "٥- جرب استخدام الامر ()dir واضعا بين قوسيه اسما لمجموعة و تعرف على الدوال التي يمكن استخدامها مع المجموعة؟ \n",
    "</div>"
   ]
  },
  {
   "cell_type": "code",
   "execution_count": null,
   "id": "1e6c37c6",
   "metadata": {},
   "outputs": [],
   "source": []
  },
  {
   "cell_type": "markdown",
   "id": "0cd617bd",
   "metadata": {},
   "source": [
    "## البيانات النصية (String)"
   ]
  },
  {
   "cell_type": "markdown",
   "id": "e3119f46",
   "metadata": {},
   "source": [
    "<div class=arabic>\n",
    "تعرفنا في الفصل الثاني على بعض اساسيات البيانات النصية واجلنا جزء من هذه الأساسيات\n",
    " الى حين التعرف على مفهوم القوائم في بايثون  والذي قمنا به في بداية هذا الفصل والان سوف نكمل ما بدأناه من اساسيات البيانات النصية فنتعرف على بعض العمليات التي يمكن اجراؤها عليها وطريقة تجزئتها وتهيئتها للطباعة. \n",
    "\n",
    "</div>"
   ]
  },
  {
   "cell_type": "markdown",
   "id": "1f452931",
   "metadata": {},
   "source": [
    "<div class=arabic>\n",
    "على الرغم من البيانات النصية هي أحد النوع البيانات الرئيسية في بايثون الا انه يمكن اعتبارها بيانات تجميعية بحيث يمكن التعامل معها بنفس الطريقة التي تعاملنا بها مع القوائم. فيمكن انشاء نص فارغ باستخدام أحد أنواع علامات التنصيص التي تعلمناها سابقا كما في المثال التالي:\n",
    "</div>"
   ]
  },
  {
   "cell_type": "code",
   "execution_count": null,
   "id": "b7fe0900",
   "metadata": {},
   "outputs": [],
   "source": [
    "text=''"
   ]
  },
  {
   "cell_type": "code",
   "execution_count": null,
   "id": "8c27e79b",
   "metadata": {},
   "outputs": [],
   "source": [
    "text=\"\""
   ]
  },
  {
   "cell_type": "code",
   "execution_count": null,
   "id": "715418aa",
   "metadata": {},
   "outputs": [],
   "source": [
    "text=''''''"
   ]
  },
  {
   "cell_type": "markdown",
   "id": "228dcd06",
   "metadata": {},
   "source": [
    "<div class=arabic>\n",
    "ولمعرفة عدد سلسلة الحروف الموجودة في النص “Hello python” نقوم باستخدام الدالة ()len كما في المثال التالي:\n",
    "</div>"
   ]
  },
  {
   "cell_type": "code",
   "execution_count": null,
   "id": "b189ae98",
   "metadata": {},
   "outputs": [],
   "source": [
    "len(\"Hello python\")"
   ]
  },
  {
   "cell_type": "markdown",
   "id": "34d84c99",
   "metadata": {},
   "source": [
    "<div class=arabic>\n",
    "كما يمكن تجزئة النص بنفس الطريقة التي تعلمناها عن القوائم كما يلي:\n",
    "</div>"
   ]
  },
  {
   "cell_type": "code",
   "execution_count": null,
   "id": "2df35c13",
   "metadata": {},
   "outputs": [],
   "source": [
    "text=\"Hello python\"\n",
    "text[0]"
   ]
  },
  {
   "cell_type": "code",
   "execution_count": null,
   "id": "5a9836b4",
   "metadata": {},
   "outputs": [],
   "source": [
    "text[-1]"
   ]
  },
  {
   "cell_type": "code",
   "execution_count": null,
   "id": "3ffd679e",
   "metadata": {},
   "outputs": [],
   "source": [
    "text[6:8]"
   ]
  },
  {
   "cell_type": "markdown",
   "id": "aa5498d5",
   "metadata": {},
   "source": [
    "<div class=arabic>\n",
    "ويمكن دمج البيانات النصية باستخدام علامة الجمع كما في المثال التالي:\n",
    "</div>"
   ]
  },
  {
   "cell_type": "code",
   "execution_count": null,
   "id": "343f2ecc",
   "metadata": {},
   "outputs": [],
   "source": [
    "name=\"Ahmad\"\n",
    "txt=\"Hello\"\n",
    "space=\" \"\n",
    "txt+space+name"
   ]
  },
  {
   "cell_type": "markdown",
   "id": "47f4d65e",
   "metadata": {},
   "source": [
    "<div class=arabic>\n",
    "وكذلك يمكن استخدام الدالة ()join للقيام بنفس المهمة كما في المثال التالي:\n",
    "</div>"
   ]
  },
  {
   "cell_type": "code",
   "execution_count": null,
   "id": "c66407bd",
   "metadata": {},
   "outputs": [],
   "source": [
    "name=\"Ahmad\"\n",
    "txt=\"Hello\"\n",
    "\" \".join([txt,name])"
   ]
  },
  {
   "cell_type": "markdown",
   "id": "bed91985",
   "metadata": {},
   "source": [
    "<div class=arabic>\n",
    "لاحظ اننا في المثال السابق استخدمنا الدالة ()join مسبوقة بفراغ موجود بين علامتي التنصيص ليكون رابطاً لعناصر القائمة الموجود داخل قوسي الدالة. كما يجب ملاحظة انه يمكن استخدام أي رابط اخر نرغب فيه فمثلا لو أردنا استخدام الشرطة السفلية فإننا نكتب المثال السابق كالتالي:\n",
    "</div>"
   ]
  },
  {
   "cell_type": "code",
   "execution_count": null,
   "id": "7283f52f",
   "metadata": {},
   "outputs": [],
   "source": [
    "\"_\".join([txt,name])"
   ]
  },
  {
   "cell_type": "code",
   "execution_count": null,
   "id": "75418866",
   "metadata": {},
   "outputs": [],
   "source": [
    "\".\".join([txt,name])"
   ]
  },
  {
   "cell_type": "markdown",
   "id": "dc6e4c05",
   "metadata": {},
   "source": [
    "<div class=arabic>\n",
    "ويمكن استخدام الدالة ()count كما فلعنا مع القوائم لمعرفة عدد تكرار حرف او جزء من نص في بيان نصي كما في المثال التالي:\n",
    "</div>"
   ]
  },
  {
   "cell_type": "code",
   "execution_count": null,
   "id": "53e3a78f",
   "metadata": {},
   "outputs": [],
   "source": [
    "text=\"Hello python\"\n",
    "text.count(\"l\")"
   ]
  },
  {
   "cell_type": "code",
   "execution_count": null,
   "id": "69318a5c",
   "metadata": {},
   "outputs": [],
   "source": [
    "text.count(\"p\")"
   ]
  },
  {
   "cell_type": "code",
   "execution_count": null,
   "id": "20339709",
   "metadata": {},
   "outputs": [],
   "source": [
    "text.count(\"P\")"
   ]
  },
  {
   "cell_type": "markdown",
   "id": "8f4c0e12",
   "metadata": {},
   "source": [
    "<div class=arabic>\n",
    "وكذلك يمكن استخدام الدالة ()index لمعرفة مؤشر أول ظهور لحرف او جزء من نص داخل بيان نصي كما يلي:\n",
    "</div>"
   ]
  },
  {
   "cell_type": "code",
   "execution_count": null,
   "id": "9eaa3c84",
   "metadata": {},
   "outputs": [],
   "source": [
    "text=\"Hello python\"\n",
    "text.index(\"H\")"
   ]
  },
  {
   "cell_type": "code",
   "execution_count": null,
   "id": "023f5777",
   "metadata": {},
   "outputs": [],
   "source": [
    "text.index(\"n\")"
   ]
  },
  {
   "cell_type": "code",
   "execution_count": null,
   "id": "d1c84839",
   "metadata": {},
   "outputs": [],
   "source": [
    "text.index(\"py\")"
   ]
  },
  {
   "cell_type": "markdown",
   "id": "094a7673",
   "metadata": {},
   "source": [
    "### تمارين استكشافية"
   ]
  },
  {
   "cell_type": "markdown",
   "id": "e88f373d",
   "metadata": {},
   "source": [
    "<div class=arabic>\n",
    "1- اكتب متغيرا وليكن name واجعل قيمته أي اسم تختاره وليكن “Ali” حاول ان تطبع العبارة “Hello name” باستخدام الدالة ()print؟ ماذا تلاحظ؟ هل قام بايثون باستخدام قيمة name عند اجراء عملية الطباعة؟ اذا كانت الإجابة بلا فما السبب في رأيك؟ \n",
    "</div>"
   ]
  },
  {
   "cell_type": "code",
   "execution_count": null,
   "id": "425c1895",
   "metadata": {},
   "outputs": [],
   "source": []
  },
  {
   "cell_type": "markdown",
   "id": "b7f0aea4",
   "metadata": {},
   "source": [
    "<div class=arabic>\n",
    "ان وجود اسم متغير داخل علامة تنصيص لا يعتبره بايثون على انه متغير وانما يتعامل معه على انه نص كأي نص اخر. ولكي نجعل بايثون يستخدم قيمة متغير دخال علامة تنصيص فان هناك عدة حيل في بايثون تمكنا من القيام بذلك. اول هذه الحيل هي استخدام النسبة المئوية دخال النص متبوعة بنوع البيان المراد إدخاله وهو أسلوب قديم تم استيراده من لغة C كما في المثال التالي:\n",
    "</div>"
   ]
  },
  {
   "cell_type": "code",
   "execution_count": null,
   "id": "1c2d96c0",
   "metadata": {},
   "outputs": [],
   "source": [
    "name=\"Hassan\"\n",
    "greating = \"Hello, %s\" % name\n",
    "print(greating)"
   ]
  },
  {
   "cell_type": "markdown",
   "id": "6bee06ee",
   "metadata": {},
   "source": [
    "<div class=arabic>\n",
    "لاحظ ان علامة النسبة المئوية استخدمت لتحديد مكان ادخال قيمة المتغير وحرف s استخدم للدلالة على نوع القيمة التي يحتويها المتغير والذي تم وضعه بعد النص مفصول عنه بعلامة النسبة المئوية.\n",
    "كما يمكن استخدام هذه الطريقة لإدخال قيم متغيرات رقمية كما في المثال التالي:\n",
    "\n",
    "</div>"
   ]
  },
  {
   "cell_type": "code",
   "execution_count": null,
   "id": "f11fd017",
   "metadata": {},
   "outputs": [],
   "source": [
    "speed = 120\n",
    "print(\"You exceeded the speed limit of %d km/hour\" % speed)"
   ]
  },
  {
   "cell_type": "code",
   "execution_count": null,
   "id": "1743c034",
   "metadata": {},
   "outputs": [],
   "source": [
    "print(\"You exceeded the speed limit of %f km/hour\" % speed)"
   ]
  },
  {
   "cell_type": "code",
   "execution_count": null,
   "id": "4490d339",
   "metadata": {},
   "outputs": [],
   "source": [
    "print(\"You exceeded the speed limit of %5.2f km/hour\" % speed)"
   ]
  },
  {
   "cell_type": "markdown",
   "id": "7cf2e1e8",
   "metadata": {},
   "source": [
    "<div class=arabic>\n",
    "لاحظ في المثال السابق ان الحرف d يستخدم للدلالة على الاعداد الصحيحة بينما الحرف f يدل على استخدام الاعداد العشرية. كما يجب ملاحظة ان عدد الخانات الرقمية يمكن التحكم فيه بتحديد عدد الخانات الكلي وعدد الأجزاء العشرية كما موضح في المثال الأخير.\n",
    "</div>"
   ]
  },
  {
   "cell_type": "markdown",
   "id": "99c939f4",
   "metadata": {},
   "source": [
    "<div class=arabic>\n",
    "ويمكن ادخال قيم أكثر من متغير سواء كانت عدديا أو نصيا كما في المثال التالي: \n",
    "</div>"
   ]
  },
  {
   "cell_type": "code",
   "execution_count": null,
   "id": "eef2b004",
   "metadata": {},
   "outputs": [],
   "source": [
    "name=\"Ahmad\"\n",
    "speed=120\n",
    "fine=300\n",
    "print(\"Dear %s, You violated the speed limit of %d. You have to pay %5.2f Riyals\" % (name,speed,fine))"
   ]
  },
  {
   "cell_type": "markdown",
   "id": "6f607a2a",
   "metadata": {},
   "source": [
    "<div class=arabic>\n",
    "لاحظ استخدامنا للصف في المثال السابق بعد علامة النسبة المئوية ولاحظ اهمية الترتيب للبيانات داخل الصف لتوظيفها بشكل مناسب داخل النص.\n",
    "</div>"
   ]
  },
  {
   "cell_type": "markdown",
   "id": "b558333f",
   "metadata": {},
   "source": [
    "<div class=arabic>\n",
    "وهناك طريقة حديثة للقيام بنفس المهام السابقة وذلك باستخدام الدالة ()format كما في المثال التالي:\n",
    "</div>"
   ]
  },
  {
   "cell_type": "code",
   "execution_count": null,
   "id": "90a8f14b",
   "metadata": {},
   "outputs": [],
   "source": [
    "name=\"Ahmad\"\n",
    "speed=120\n",
    "fine=300\n",
    "print(\"Dear {}, You violated the speed limit of {} km/hr. You have to pay {} Riyals\".format(name,speed,fine))"
   ]
  },
  {
   "cell_type": "markdown",
   "id": "440d1d6d",
   "metadata": {},
   "source": [
    "<div class=arabic>\n",
    "وترتيب المتغيرات بين قوسي الدالة ()format يجب مراعاته أيضا هنا الا اذا كتبنا اسم المتغيرات بين القوسين المتعرجين او استخدمنا مؤشر ترتيب المتغير كما في المثالين التاليين:\n",
    "</div>"
   ]
  },
  {
   "cell_type": "code",
   "execution_count": null,
   "id": "b68b55e3",
   "metadata": {},
   "outputs": [],
   "source": [
    "print(\"Dear {2}, You violated the speed limit of {0} km/hr. You have to pay {1} Riyals\".format(speed,fine,name))"
   ]
  },
  {
   "cell_type": "code",
   "execution_count": null,
   "id": "72f7f475",
   "metadata": {},
   "outputs": [],
   "source": [
    "print(\"Dear {name}, You violated the speed limit of {speed} km/hr.\\\n",
    "You have to pay {fine} Riyals\".format(speed=speed,fine=fine,name=name))"
   ]
  },
  {
   "cell_type": "markdown",
   "id": "e20fe055",
   "metadata": {},
   "source": [
    "<div class=arabic>\n",
    "وفي اصدارة بايثون 3.6 وما بعدها تم إضافة طريقة أخرى لتهيئة النصوص تسمى literal formatting وهي تشبه الى حد كبير استخدام الدالة ()format كما هو موضح في المثال التالي:\n",
    "</div>"
   ]
  },
  {
   "cell_type": "code",
   "execution_count": null,
   "id": "78f06ff4",
   "metadata": {},
   "outputs": [],
   "source": [
    "print(f\"Dear {name}, You violated the speed limit of {speed} km/hr. You have to pay {fine} Riyals\")"
   ]
  },
  {
   "cell_type": "markdown",
   "id": "7e5de44d",
   "metadata": {},
   "source": [
    "<div class=arabic>\n",
    "فكل ما تحتاجه عند استخدام هذه الطريقة هو إضافة حرف f قبل النص وكتابة أسماء المتغيرات التي تريد التعويض بقيمها داخل قوسين متعرجين فقظ.\n",
    "</div>"
   ]
  },
  {
   "cell_type": "markdown",
   "id": "fe1d9767",
   "metadata": {},
   "source": [
    "<div class=arabic>\n",
    "لتجزئة نص الي بيانات نصية صغيرة داخل قائمة يمكن استخدام الدالة ()split كما في المثال التالي:\n",
    "</div>"
   ]
  },
  {
   "cell_type": "code",
   "execution_count": null,
   "id": "a69b934b",
   "metadata": {},
   "outputs": [],
   "source": [
    "text=\"one two three four five six seven\"\n",
    "text.split(\" \")"
   ]
  },
  {
   "cell_type": "code",
   "execution_count": null,
   "id": "3d401cc6",
   "metadata": {},
   "outputs": [],
   "source": [
    "colors=\"yellow,green,blue,red,white,black\"\n",
    "colors.split(\",\")"
   ]
  },
  {
   "cell_type": "markdown",
   "id": "3f68df36",
   "metadata": {},
   "source": [
    "<div class=arabic>\n",
    "لاحظ اننا ستخدمنا في المثال السابق الفراغ والفاصلة لتخبر مفسر بايثون بأماكن فصل النص ووضعنا هاتين العلامتين داخل علامة تنصيص بين قوسي الدالة ()split.\n",
    "</div>"
   ]
  },
  {
   "cell_type": "markdown",
   "id": "c443693c",
   "metadata": {},
   "source": [
    "<div class=arabic>\n",
    "ويمكن تحويل النص الى حروف كبير او صغيرة باستخدام الدالتين ()upper و ()lower على التوالي كما في المثال التالي:\n",
    "</div>"
   ]
  },
  {
   "cell_type": "code",
   "execution_count": null,
   "id": "5fa1985d",
   "metadata": {},
   "outputs": [],
   "source": [
    "colors=\"yellow,green,blue,red,white,black\"\n",
    "colors.upper()"
   ]
  },
  {
   "cell_type": "code",
   "execution_count": null,
   "id": "e20979ef",
   "metadata": {},
   "outputs": [],
   "source": [
    "numbers=\"ONE TWO THREE FOUR\"\n",
    "numbers.lower()"
   ]
  },
  {
   "cell_type": "markdown",
   "id": "3c0a71d4",
   "metadata": {},
   "source": [
    "<div class=arabic>\n",
    "كما يمكن إزالة الفراغات الموجود في بداية النص ونهايته باستخدام الدالة ()strip كما في المثال التالي:\n",
    "</div>"
   ]
  },
  {
   "cell_type": "code",
   "execution_count": null,
   "id": "4ceb2ccb",
   "metadata": {},
   "outputs": [],
   "source": [
    "text=\"     Hello python       \"\n",
    "text.strip()"
   ]
  },
  {
   "cell_type": "markdown",
   "id": "797a2b75",
   "metadata": {},
   "source": [
    "<div class=arabic>\n",
    "كما يمكننا أيضا استبدال حرف او جزء من نص باخر باستخدام الدالة ()replace كما في المثال التالي:\n",
    "</div>"
   ]
  },
  {
   "cell_type": "code",
   "execution_count": null,
   "id": "186d5bab",
   "metadata": {},
   "outputs": [],
   "source": [
    "text=\"Hello python\"\n",
    "text.replace('l','s')"
   ]
  },
  {
   "cell_type": "markdown",
   "id": "2ec2dcce",
   "metadata": {},
   "source": [
    "<div class=arabic>\n",
    "ونختم هذا الفصل بان نخبرك ان البيانات النصية تختلف عن القوائم في انها غير قابلة للتغيير immutable. بمعنى ان ما قمنا به في الأمثلة السابقة من تعديلات على النص لم يكمن بالفعل على نفس النص وانما قام مفسر بايثون بإنشاء بيان نصي جديد يحتوي على التعديلات التي قمنا بها وقام بطباعتها على الشاشة بينما البيان الأصلي لم يتغير وسف نثبت لك ذلك في المثال التالي:\n",
    "</div>"
   ]
  },
  {
   "cell_type": "code",
   "execution_count": null,
   "id": "4a7cf12c",
   "metadata": {},
   "outputs": [],
   "source": [
    "numbers=\"one two three four\"\n",
    "numbers.upper()"
   ]
  },
  {
   "cell_type": "code",
   "execution_count": null,
   "id": "97fc35f8",
   "metadata": {},
   "outputs": [],
   "source": [
    "numbers"
   ]
  },
  {
   "cell_type": "markdown",
   "id": "83f2184f",
   "metadata": {},
   "source": [
    "<div class=arabic>\n",
    "    لاحظ انه عندما قمنا بتحويل النص numbers الى حروف كبيرة قام بايثون بانشاء متغير مؤقت وطبع النص بعد التعديل على الشاشة. ولكن عندما طلبنا من بايثون طباعة النص الأصلي فان النص مازال كما هو بحروفه الصغيرة. هذا الخاصية لا تنطبق على القوائم. فعندما نقوم بالتعديل على القوائم فان بايثون يجري عملية التعديل على القائمة الاصلية كما في المثال التالي:\n",
    "</div>"
   ]
  },
  {
   "cell_type": "code",
   "execution_count": null,
   "id": "b50ee625",
   "metadata": {},
   "outputs": [],
   "source": [
    "numbers=[\"one\",\"two\",\"three\",\"four\"]\n",
    "numbers.pop()\n",
    "numbers"
   ]
  },
  {
   "cell_type": "markdown",
   "id": "69a82fb1",
   "metadata": {},
   "source": [
    "<div class=arabic>\n",
    "لاحظ انه عندما حذفنا البيان الأخير من القائمة numbers باستخدام الدالة ()pop قام بايثون بحذف البيان من القائمة الاصلية. \n",
    "</div>"
   ]
  },
  {
   "cell_type": "markdown",
   "id": "d8a0169e",
   "metadata": {},
   "source": [
    "## ملخص الفصل"
   ]
  },
  {
   "cell_type": "markdown",
   "id": "61766a69",
   "metadata": {},
   "source": [
    "اكتب الملخص هنا"
   ]
  },
  {
   "cell_type": "markdown",
   "id": "ce3971f3",
   "metadata": {},
   "source": [
    "## اسئلة استيعابية"
   ]
  },
  {
   "cell_type": "markdown",
   "id": "692d96a3",
   "metadata": {},
   "source": [
    "مصدر الاسئلة من 1 الى 6 من موقع pynative.com\n",
    "\n",
    "https://pynative.com/python-list-exercise-with-solutions/#h-exercise-1-reverse-a-list-in-python"
   ]
  },
  {
   "cell_type": "markdown",
   "id": "7abc7ea8",
   "metadata": {},
   "source": [
    "1. اعكس ترتيب البيانات في القائمة  list1؟"
   ]
  },
  {
   "cell_type": "code",
   "execution_count": null,
   "id": "f5854d78",
   "metadata": {},
   "outputs": [],
   "source": [
    "## الجواب المتعوقع\n",
    "## [500, 400, 300, 200, 100]\n",
    "\n",
    "list1 = [100, 200, 300, 400, 500]\n",
    "## اكتب الكود هنا"
   ]
  },
  {
   "cell_type": "markdown",
   "id": "c1510460",
   "metadata": {},
   "source": [
    "2. أضف عناصر القائمة الثانية list2 إلى عناصر المجموعة الأولى list1؟"
   ]
  },
  {
   "cell_type": "code",
   "execution_count": null,
   "id": "96c1dbd9",
   "metadata": {},
   "outputs": [],
   "source": [
    "## الجواب المتوقع\n",
    "## ['Hello Dear', 'Hello Sir', 'take Dear', 'take Sir']\n",
    "\n",
    "list1 = [\"Hello \", \"take \"]\n",
    "list2 = [\"Dear\", \"Sir\"]\n",
    "\n",
    "## اكتب الكود هنا"
   ]
  },
  {
   "cell_type": "markdown",
   "id": "97ba89b4",
   "metadata": {},
   "source": [
    "3. أضف البيان 7000 بعد البيان 6000 الموجود في القائمة list1؟"
   ]
  },
  {
   "cell_type": "code",
   "execution_count": null,
   "id": "f010b6a9",
   "metadata": {},
   "outputs": [],
   "source": [
    "## الجواب المتوقع\n",
    "## [10, 20, [300, 400, [5000, 6000, 7000], 500], 30, 40]\n",
    "\n",
    "list1 = [10, 20, [300, 400, [5000, 6000], 500], 30, 40]\n",
    "\n",
    "## اكتب الكود هنا"
   ]
  },
  {
   "cell_type": "markdown",
   "id": "3b260e34",
   "metadata": {},
   "source": [
    "4. أضف القائمة الفرعية sub_list إلى أعمق قائمة موجودة في القائمة الرئيسية list1 باستخدام الدالة ()extend؟"
   ]
  },
  {
   "cell_type": "code",
   "execution_count": 20,
   "id": "50e1ece9",
   "metadata": {},
   "outputs": [],
   "source": [
    "## الاجابة المتوقعة\n",
    "## ['a', 'b', ['c', ['d', 'e', ['f', 'g', 'h', 'i', 'j'], 'k'], 'l'], 'm', 'n']\n",
    "\n",
    "## القائمة الرئيسية\n",
    "list1 = [\"a\", \"b\", [\"c\", [\"d\", \"e\", [\"f\", \"g\"], \"k\"], \"l\"], \"m\", \"n\"]\n",
    "\n",
    "## القائمة الفرعية المطلوب اضافتها\n",
    "sub_list = [\"h\", \"i\", \"j\"]\n",
    "\n",
    "## اكتب الكود هنا"
   ]
  },
  {
   "cell_type": "markdown",
   "id": "7a763e8e",
   "metadata": {},
   "source": [
    "5. استبدل القيمة 15 في القائمة list1 بالقيمة 150؟"
   ]
  },
  {
   "cell_type": "code",
   "execution_count": null,
   "id": "ec286dae",
   "metadata": {},
   "outputs": [],
   "source": [
    "## الاجابة المتوقعة\n",
    "## [5, 10, 150, 20, 25, 50, 20]\n",
    "\n",
    "list1 = [5, 10, 15, 20, 25, 50, 20]\n",
    "\n",
    "## اكتب الكود  هنا"
   ]
  },
  {
   "cell_type": "markdown",
   "id": "cf6d550a",
   "metadata": {},
   "source": [
    "6. أحذف آخر بيان في القائمة list1؟"
   ]
  },
  {
   "cell_type": "code",
   "execution_count": null,
   "id": "6696b3b9",
   "metadata": {},
   "outputs": [],
   "source": [
    "## الاجابة المتوقعة\n",
    "## [2,4,6,8,10]\n",
    "\n",
    "list1=[2,4,6,8,10,20]\n",
    "\n",
    "## اكتب الكود هنا"
   ]
  },
  {
   "cell_type": "markdown",
   "id": "9a14be16",
   "metadata": {},
   "source": [
    "7. احسب مجموع الأعداد الموجودة في القائمة list1؟"
   ]
  },
  {
   "cell_type": "code",
   "execution_count": null,
   "id": "27ed0a32",
   "metadata": {
    "scrolled": true
   },
   "outputs": [],
   "source": [
    "## الجواب المتوقع 55\n",
    "\n",
    "list1=[12,11,4,6,5,10,7]\n",
    "\n",
    "## اكتب الكود هنا"
   ]
  },
  {
   "cell_type": "markdown",
   "id": "34ccabaf",
   "metadata": {},
   "source": [
    "8. احسب أعلى قيمة في القائمة list1؟"
   ]
  },
  {
   "cell_type": "code",
   "execution_count": null,
   "id": "3499ecb7",
   "metadata": {},
   "outputs": [],
   "source": [
    "## الجواب المتوقع123\n",
    "\n",
    "list1=[12,11,4,6,5,10,7]\n",
    "\n",
    "## اكتب الكود هنا"
   ]
  },
  {
   "cell_type": "markdown",
   "id": "199310c7",
   "metadata": {},
   "source": [
    "9. احسب أقل قيمة في القائمة list1؟"
   ]
  },
  {
   "cell_type": "code",
   "execution_count": null,
   "id": "0ca76c05",
   "metadata": {},
   "outputs": [],
   "source": [
    "## الجواب المتوقع 4\n",
    "\n",
    "list1=[12,11,4,6,5,10,7]\n",
    "\n",
    "## اكتب الكود هنا"
   ]
  },
  {
   "cell_type": "markdown",
   "id": "0153b0cd",
   "metadata": {},
   "source": [
    "10. احسب عدد العناصر في القائمة list1؟"
   ]
  },
  {
   "cell_type": "code",
   "execution_count": null,
   "id": "0466d3dc",
   "metadata": {},
   "outputs": [],
   "source": [
    "## الجواب المتوقع 7\n",
    "\n",
    "list1=[12,11,4,6,5,10,7]\n",
    "\n",
    "## اكتب الكود هنا"
   ]
  },
  {
   "cell_type": "markdown",
   "id": "c80a6a85",
   "metadata": {},
   "source": [
    "11. حول النص name إلى قائمة؟"
   ]
  },
  {
   "cell_type": "code",
   "execution_count": null,
   "id": "78b3216c",
   "metadata": {},
   "outputs": [],
   "source": [
    "## الجواب المتوقع\n",
    "[\"A\",\"h\",\"m\",\"a\",\"d\"]\n",
    "\n",
    "name=\"Ahmad\"\n",
    "\n",
    "## اكتب الكود هنا"
   ]
  },
  {
   "cell_type": "markdown",
   "id": "6a0e97ae",
   "metadata": {},
   "source": [
    "12. رتب القائمة list1؟ تصاعدياً؟"
   ]
  },
  {
   "cell_type": "code",
   "execution_count": null,
   "id": "6f8f271d",
   "metadata": {},
   "outputs": [],
   "source": [
    "## الجواب المتوقع \n",
    "## [4,5,6,7,10,11,12]\n",
    "\n",
    "list1=[12,11,4,6,5,10,7]\n",
    "\n",
    "## اكتب الكود هنا"
   ]
  },
  {
   "cell_type": "markdown",
   "id": "aa444e7e",
   "metadata": {},
   "source": [
    "13. رتب القائمة list1 تنازلياً؟"
   ]
  },
  {
   "cell_type": "code",
   "execution_count": null,
   "id": "c6abcdcd",
   "metadata": {},
   "outputs": [],
   "source": [
    "## الجواب المتوقع \n",
    "## [12,11,10,7,6,5,4]\n",
    "\n",
    "list1=[12,11,4,6,5,10,7]\n",
    "\n",
    "## اكتب الكود هنا"
   ]
  },
  {
   "cell_type": "markdown",
   "id": "df1769bb",
   "metadata": {},
   "source": [
    "14. رتب القائمة list1 ابجدياً؟"
   ]
  },
  {
   "cell_type": "code",
   "execution_count": null,
   "id": "e78d2635",
   "metadata": {},
   "outputs": [],
   "source": [
    "## الجواب المتوقع \n",
    "## [\"A\",\"a\",\"d\",\"h\",\"m\"]\n",
    "\n",
    "list1=[\"A\",\"h\",\"m\",\"a\",\"d\"]\n",
    "\n",
    "## اكتب الكود هنا"
   ]
  },
  {
   "cell_type": "markdown",
   "id": "df470754",
   "metadata": {},
   "source": [
    "15. اضف الرقم 15 قبل البيان الأخير في القائمة list1؟"
   ]
  },
  {
   "cell_type": "code",
   "execution_count": 31,
   "id": "2d8f65ed",
   "metadata": {},
   "outputs": [],
   "source": [
    "## الجواب المتوقع \n",
    "## [12,11,10,7,6,5,15,4]\n",
    "\n",
    "list1=[12,11,4,6,5,10,7]\n",
    "\n",
    "## اكتب الكود هنا"
   ]
  },
  {
   "cell_type": "markdown",
   "id": "14343797",
   "metadata": {},
   "source": [
    "16. اكتب كود برمجي يوجد مؤشر القيمة 10 في القائمة list1؟"
   ]
  },
  {
   "cell_type": "code",
   "execution_count": null,
   "id": "87b32c6d",
   "metadata": {},
   "outputs": [],
   "source": [
    "## الجواب ا لمتوقع 5 \n",
    "\n",
    "list1=[12,11,4,6,5,10,7]\n",
    "\n",
    "## اكتب الكود هنا"
   ]
  },
  {
   "cell_type": "markdown",
   "id": "e45daf58",
   "metadata": {},
   "source": [
    "17. اكتب قائمة بثلاثة فواكه تحبها؟ قم بطباعة آخر عنصر في القائمة التي كتبتها مرتين مره مستخدماً مؤشر القوائم الموجب ومرة مستخدماً مؤشر القوائم السالب؟"
   ]
  },
  {
   "cell_type": "markdown",
   "id": "ac3323ae",
   "metadata": {},
   "source": [
    "18. استخرج القائمة [\"A\", \"D\", \"G\"] من القائمة الأساسية letters  مستخدماً ما تعلمته من طرق تجزئة القوائم؟"
   ]
  },
  {
   "cell_type": "code",
   "execution_count": null,
   "id": "4d626e1a",
   "metadata": {},
   "outputs": [],
   "source": [
    "letters = ['A', 'B', 'C', 'D', 'E', 'F', 'G']\n",
    "\n",
    "## اكتب الكود هنا"
   ]
  },
  {
   "cell_type": "markdown",
   "id": "72882359",
   "metadata": {},
   "source": [
    "19. جزأ القائمة letters بحيث ينتج عن عملية التجزئة قائمة تحتوي على جميع الحروف من D الى F؟"
   ]
  },
  {
   "cell_type": "code",
   "execution_count": null,
   "id": "4171ad9f",
   "metadata": {},
   "outputs": [],
   "source": [
    "## الاجابة المتوقعة \n",
    "## [\"D\",\"E\",\"F\"]\n",
    "letters = ['A', 'B', 'C', 'D', 'E', 'F', 'G']\n",
    "\n",
    "## اكتب الكود هنا"
   ]
  },
  {
   "cell_type": "markdown",
   "id": "892d9293",
   "metadata": {},
   "source": [
    "20. أنشئ قائمة فارغة ثم اضف لها ثلاثة من  الاطعمة التي تحبها؟"
   ]
  },
  {
   "cell_type": "code",
   "execution_count": null,
   "id": "dfd5fdab",
   "metadata": {},
   "outputs": [],
   "source": [
    "## اكت الكود هنا"
   ]
  },
  {
   "cell_type": "code",
   "execution_count": null,
   "id": "39d0ea1e",
   "metadata": {},
   "outputs": [],
   "source": []
  }
 ],
 "metadata": {
  "kernelspec": {
   "display_name": "Python 3 (ipykernel)",
   "language": "python",
   "name": "python3"
  },
  "language_info": {
   "codemirror_mode": {
    "name": "ipython",
    "version": 3
   },
   "file_extension": ".py",
   "mimetype": "text/x-python",
   "name": "python",
   "nbconvert_exporter": "python",
   "pygments_lexer": "ipython3",
   "version": "3.8.10"
  }
 },
 "nbformat": 4,
 "nbformat_minor": 5
}
