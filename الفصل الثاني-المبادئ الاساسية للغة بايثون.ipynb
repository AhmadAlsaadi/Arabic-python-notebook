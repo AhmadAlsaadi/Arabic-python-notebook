{
 "cells": [
  {
   "cell_type": "code",
   "execution_count": 1,
   "id": "d439658b",
   "metadata": {},
   "outputs": [
    {
     "data": {
      "text/html": [
       "<style type=\"text/css\">@import url('https://www.fontstatic.com/f=yassin,amiri-quran,basim-marah,b-compset');\n",
       "\n",
       "\n",
       "@font-face {\n",
       "  font-family: Arslan;\n",
       "  src: url(Arslan.ttf);\n",
       "}\n",
       "\n",
       ".title{\n",
       "direction: rtl;\n",
       "font-size:100px;\n",
       "padding-right: 15px;\n",
       "line-height:10px;\n",
       "font-family:basim-marah;\n",
       "}\n",
       "\n",
       "div.text_cell pre.CodeMirror-line {\n",
       "direction:rtl;\n",
       "font-size:20px;\n",
       "color:Blue;\n",
       "line-height:40px;\n",
       "padding-right: 1cm;\n",
       "padding-left: 1cm;\n",
       "text-align:justify;\n",
       "font-family:amiri-quran;\n",
       "}\n",
       ".rendered_html {\n",
       "direction:rtl;\n",
       "font-size:20px;\n",
       "line-height:40px;\n",
       "padding-right: 1cm;\n",
       "padding-left: 1cm;\n",
       "text-align:justify;\n",
       "font-family:amiri-quran;\n",
       "}\n",
       "\n",
       ".rendered_html p {\n",
       "direction:rtl;\n",
       "font-size:20px;\n",
       "line-height:40px;\n",
       "padding-right: 1cm;\n",
       "padding-left: 1cm;\n",
       "text-align:justify;\n",
       "font-family:amiri-quran;\n",
       "}\n",
       "\n",
       ".rendered_html h1{\n",
       "direction: rtl;\n",
       "font-size:200%;\n",
       "text-align:center;\n",
       "padding-right: 55px;\n",
       "font-family:Arslan;\n",
       "}\n",
       "\n",
       ".rendered_html h2{\n",
       "direction: rtl;\n",
       "font-size:171%;\n",
       "padding-right: 55px;\n",
       "line-height:10px;\n",
       "font-family:Arslan;\n",
       "}\n",
       "\n",
       ".rendered_html h3{\n",
       "direction: rtl;\n",
       "font-size:141%;\n",
       "padding-right: 55px;\n",
       "line-height:10px;\n",
       "font-family:Arslan;\n",
       "}\n",
       "\n",
       ".rendered_html ul {\n",
       "    list-style-type: none;\n",
       "}\n",
       "\n",
       ".rendered_html ul li:before {\n",
       "  content: '-';\n",
       "  position: absolute;\n",
       "  margin-right: -10px;\n",
       "}\n",
       "\n",
       ".arabic{\n",
       "direction:rtl;\n",
       "font-size:20px;\n",
       "line-height:40px;\n",
       "padding-right: 1cm;\n",
       "padding-left: 1cm;\n",
       "text-align:justify;\n",
       "font-family:amiri-quran;\n",
       "}\n",
       "\n",
       ".horizontal{\n",
       "height:2px;\n",
       "border:none;\n",
       "color:#333;\n",
       "background-color:#333;\n",
       "width:75%;\n",
       "}\n",
       ".jupyter-widgets{\n",
       "    font-size:20px;\n",
       "    direction:rtl;\n",
       "    margin-right:25px;\n",
       "    font-family:amiri-quran;\n",
       "        \n",
       "}\n",
       ".widget-radio-box input{\n",
       "    float:right;\n",
       "    direction:ltr;\n",
       "    margin: 0 calc( var(--jp-widgets-input-padding) * 2 ) 0 10px;\n",
       "    text-align:right;\n",
       "    height: 30px;\n",
       "}\n",
       ".widget-radio{\n",
       "    flex-direction: column;\n",
       "    width:unset;\n",
       "    \n",
       "}\n",
       ".widget-label{  \n",
       "    font-family:amiri-quran;\n",
       "    font-size:18px;\n",
       "    height: 40px;\n",
       "}\n",
       "\n",
       ".widget-radio-box label {\n",
       "    font-size:18px;\n",
       "    height: 30px;\n",
       "}\n",
       "\n",
       ".true-grade{\n",
       "    color:green;\n",
       "}\n",
       ".false-grade{\n",
       "    color:red;\n",
       "}\n",
       "label:lang(en){\n",
       "    direction:ltr;\n",
       "    text-align:right;\n",
       "}\n",
       ".s{\n",
       "    line-height:unset;\n",
       "    height:unset;\n",
       "}\n",
       ".CodeMirror-wrap {\n",
       "    font-size:16px;\n",
       "}\n",
       "\n",
       ".basic_table{\n",
       "    font-size:20px;\n",
       "    color:\"green\";\n",
       "}\n",
       "ol {\n",
       "    margin-right:25px;\n",
       "}\n",
       "\n",
       ".grid-container {\n",
       "  display: grid;\n",
       "  grid-template-columns: 50% 50%;\n",
       "  gap: 2px;\n",
       "  padding: 2px;\n",
       "}\n",
       "\n",
       ".grid-container > div {\n",
       "  text-align: center;\n",
       "  padding: 20px 0;\n",
       "  font-size: 20px;\n",
       "}</style>"
      ],
      "text/plain": [
       "<IPython.core.display.HTML object>"
      ]
     },
     "execution_count": 1,
     "metadata": {},
     "output_type": "execute_result"
    }
   ],
   "source": [
    "import style\n",
    "style._set_css_style(\"custom.css\")"
   ]
  },
  {
   "cell_type": "markdown",
   "id": "1a7bc2cf",
   "metadata": {},
   "source": [
    "<div class=arabic>\n",
    "<hr class=horizontal>\n",
    "<center>\n",
    "<a id=\"chapter2\"></a>\n",
    "<h1 class=title>\n",
    "الفصل الثاني : المبادئ الأساسية للغة بايثون\n",
    "</h1>\n",
    "</center>\n",
    "<hr class=horizontal>\n",
    "بعد ان تأكدنا من ان نظام التشغيل الذي نعمل عليه يحتوي على احدى اصدارات لغة بايثون 3 يمكننا الان ان نبدأ رحلة التعلم والتى اتمنى ان تكون حافلة بالمتعة والفائدة.\n",
    "<br>\n",
    "</div>"
   ]
  },
  {
   "cell_type": "markdown",
   "id": "4d25fe2a",
   "metadata": {},
   "source": [
    "<div class=arabic>\n",
    "\n",
    "<h2 class=title>\n",
    "أهداف الفصل\n",
    "</h2>\n",
    "عند اتمام هذا الفصل يجب ان يكون لديك المام بعدة مبادئ اساسية عن لغة بايثون والتي من اهمها:\n",
    "\n",
    "<ol>\n",
    "<li> \n",
    "طريقة كتابة المتغيرات\n",
    "</li>\n",
    "<li>\n",
    "طريقة تدوين الملاحظات على الكود البرمجي\n",
    "</li>\n",
    "<li>\n",
    "كيفية طباعة نص على شاشة الكمبيوتر\n",
    "</li>\n",
    "\n",
    "<li>\n",
    "الفرق بين استخدام الاحرف الصغيرة والكبيرة في كتابة الكود البرمجي.\n",
    "</li>\n",
    "<li>\n",
    "اجراء العمليات الحسابية الاساسية\n",
    "</li>\n",
    "<li>\n",
    " انواع البيانات الاساسية في لغة بايثون.\n",
    "</li>\n",
    "<li>\n",
    "القاعدة التي تحكم عدد المسافات الفارغة المتروكة قبل بداية كل سطر برمجي\n",
    "\n",
    "</li>\n",
    "</ol>\n",
    "</div>"
   ]
  },
  {
   "cell_type": "markdown",
   "id": "89f58e7b",
   "metadata": {},
   "source": [
    "## تعريف البرنامج\n",
    "يمكن تعريف البرنامج على أنه تسلسل منطقي لمجموعة من التعليمات المكتوبة بطريقة معينة ومحددة يستطيع ان يفهما ويتعامل معها مفسر اللغة التي كتبت من اجله هذه التعليمات. فالتعليمات التي تكتب في برنامج على نسق قواعد لغة البايثون لا يستطيع ان يفهما ويتعامل معها الا مفسر بايثون والتعليمات التي تكتب على نسق لغة جافا لا يستطيع التعامل معها الا مفسر جافا وهكذا الحال مع بقية لغات البرمجة. وتنحصر هذه التعليمات بشكل عام على أداء خمسة وظائف رئيسية:    \n",
    "أولاً:  الحصول على بيانات من لوحة المفاتيح أو من ملف أو  أي اداة اخرى مربوطة بالكمبيوتر كالفأرة ونحوها.    \n",
    "ثانياً: اظهار البيانات على الشاشة او ارسالها الى ملف او اي اداة اخرى مربوطة بجهاز الكمبيوتر كالسماعات ونحوها.     \n",
    "ثالثاً: إجراء العمليات الحسابية على البيانات كالجمع والطرح والضرب ونحوها.    \n",
    "رابعاً: إجراء العمليات المنطقية على البيانات وتحديد ما يجب تنفيذه وما لا يجب تنفيذه للوصول للنتائج المطلوبة.     \n",
    "خامساً: تكرار العمليات على البيانات متى ما احتاج الأمر الى ذلك والتوقف عند الحصول على النتائج المطلوبة.     \n",
    "لك أن تتخيل أن كل ما تشاهده اليوم من برامج كمبيوترية كبيرة ومعقدة هو نتاج عمل التعليمات التي تؤدي هذه الوظائف الخمس فقط. لذلك يمكن تعريف المبرمج على أنه كل من له درابة بقواعد كتابة التعليمات (يطلق على هذه التعليمات بشكل شائع اكواد برمجية) للغة معينة ولديه مهارة بتفكيك اي مشكلة تتطلب حلا كمبيوترياً الى تعليمات بسطية متسلسلة بشكل منطقي تقوم باداء وظائف مشابهه لتلك الوظائف الخمس السابقة.     "
   ]
  },
  {
   "cell_type": "markdown",
   "id": "c783e942",
   "metadata": {},
   "source": [
    "<div class=arabic>\n",
    "<h2 class=title>\n",
    "المتغيرات\n",
    "</h2>\n",
    "المتغيرات هي اسماء تستخدم للدلالة على قيم البيانات التي يراد حفظها في ذاكرة الكمبيوتر. واستخدام المتغيرات في كتابة الأكواد البرمجية ذو أهمية قصوى بحيث لا يكاد يخلو برنامج من وجود متغير واحد أو أكثر وذلك لأنها تسهل على المبرمج تذكر البيانات باسماء يسهل حفظها بدلاً من استخدام قيم البيانات ذاتها. لإسناد قيمة الى متغير فإننا نختار اسماً مناسباً للمتغير ومن ثم نضع علامة اليساوي وأخيراً نضع القيمة المراد إسنادها للمتغير كما في المثال التالي:\n",
    "</div>"
   ]
  },
  {
   "cell_type": "code",
   "execution_count": null,
   "id": "95af0298",
   "metadata": {},
   "outputs": [],
   "source": [
    "x=5"
   ]
  },
  {
   "cell_type": "markdown",
   "id": "2e305c0d",
   "metadata": {},
   "source": [
    "<div class=arabic>\n",
    "في المثال السابق علامة اليساوي تسمى معامل الاسناد. لذلك يصبح الآن بمقدورنا استخدام x عوضا عن القيمة 5 في أي عمليات حسابية.  كما يجب التنويه إلى أن قيمة x قابلة للتغيير. فعند تكرار المثال السابق باستخدام القيمة 10 فإن  x اﻵن تصبح تشير للقيمة 10 عوضاً عن القيمة 5 كما في المثال التالي:\n",
    "</div>"
   ]
  },
  {
   "cell_type": "code",
   "execution_count": null,
   "id": "554e868b",
   "metadata": {},
   "outputs": [],
   "source": [
    "x=5\n",
    "x=10\n",
    "x"
   ]
  },
  {
   "cell_type": "markdown",
   "id": "1c1987a1",
   "metadata": {},
   "source": [
    "<div class=arabic>\n",
    "<h3 class=title>\n",
    "القواعد التي تحكم كتابة اسماء المتغيرات\n",
    "</h3>    \n",
    "ان لغة بايثون تتطلب التقيد بقواعد  اساسية عند كتابة أسماء المتغيرات وتتلخص هذه القواعد فيما يلي:   \n",
    "</div>"
   ]
  },
  {
   "cell_type": "markdown",
   "id": "e61c9903",
   "metadata": {},
   "source": [
    "<div class=arabic>\n",
    "اولاً: لا يمكن استخدام اي رمز في كتابة المتغيرات عدا الاحرف والارقام والشرطة السفلية. كما في الامثلة التالية \n",
    "</div>"
   ]
  },
  {
   "cell_type": "code",
   "execution_count": null,
   "id": "a3832e09",
   "metadata": {},
   "outputs": [],
   "source": [
    "y_2=5"
   ]
  },
  {
   "cell_type": "code",
   "execution_count": null,
   "id": "06714a84",
   "metadata": {},
   "outputs": [],
   "source": [
    "y$=\"Saeed\""
   ]
  },
  {
   "cell_type": "code",
   "execution_count": null,
   "id": "28f9b10e",
   "metadata": {},
   "outputs": [],
   "source": [
    "y&=\"Waleed\""
   ]
  },
  {
   "cell_type": "markdown",
   "id": "b078a60f",
   "metadata": {},
   "source": [
    "<div class=arabic>\n",
    "لاحظ انه عند استخدامنا للرمزين $ و & كجزء من اسم المتغير فان مفسر بايثون اعطانا رسالة بوجود خطأ في التركيب اللغوي  \"Invalid syntax\"    \n",
    "</div>"
   ]
  },
  {
   "cell_type": "markdown",
   "id": "a81b5a74",
   "metadata": {},
   "source": [
    "<div class=arabic>\n",
    "    ثانياً: المتغيرات يجب ان تبدأ بحرف او شرطة سفلية. عدا ذلك فان مفسر بايثون يعطي رسالة بوجود خطأ. وهذه بعض الامثلة على هذه القاعدة:\n",
    "</div>"
   ]
  },
  {
   "cell_type": "code",
   "execution_count": null,
   "id": "3c611a12",
   "metadata": {},
   "outputs": [],
   "source": [
    "number=20"
   ]
  },
  {
   "cell_type": "code",
   "execution_count": null,
   "id": "bc18f206",
   "metadata": {},
   "outputs": [],
   "source": [
    "_number=30"
   ]
  },
  {
   "cell_type": "code",
   "execution_count": null,
   "id": "b2931f5c",
   "metadata": {},
   "outputs": [],
   "source": [
    "2y=5"
   ]
  },
  {
   "cell_type": "markdown",
   "id": "24605675",
   "metadata": {},
   "source": [
    "<div class=arabic>\n",
    "لاحظ ان في المثال الاخير حاولنا كتابة متغير يبدأ اسمه برقم 2 لكن مفسر بايثون رفض ذلك واعطانا رسالة تفيد بوجد خطأ في التركيب اللغوي \"invalid syntax\"    \n",
    "</div>"
   ]
  },
  {
   "cell_type": "markdown",
   "id": "c51ed7e5",
   "metadata": {},
   "source": [
    "<div class=arabic>\n",
    "ثالثاً: يمكن استخدام الارقام في كتابة أسماء المتغيرات ولكن لايمكن استخدامها في بداية الاسم كما في الامثلة التالية:\n",
    "</div>"
   ]
  },
  {
   "cell_type": "code",
   "execution_count": null,
   "id": "11644353",
   "metadata": {},
   "outputs": [],
   "source": [
    "number2=7"
   ]
  },
  {
   "cell_type": "code",
   "execution_count": null,
   "id": "cf0825d7",
   "metadata": {},
   "outputs": [],
   "source": [
    "one2one=1"
   ]
  },
  {
   "cell_type": "markdown",
   "id": "c009ba57",
   "metadata": {},
   "source": [
    "<div class=arabic>\n",
    "رابعاً: أسماء المتغيرات يمكن ان تكون حرف كما وضحنا سابقا بالمتغير x او كلمة كما وضحنا ذلك بالمتغير name او مجموعة كلمات مربوطة بشرطة سفلية كما في المثال التالي:\n",
    "</div>"
   ]
  },
  {
   "cell_type": "code",
   "execution_count": null,
   "id": "02633cb6",
   "metadata": {},
   "outputs": [],
   "source": [
    "student_number=1234"
   ]
  },
  {
   "cell_type": "code",
   "execution_count": null,
   "id": "4c690af6",
   "metadata": {},
   "outputs": [],
   "source": [
    "tag number= 444"
   ]
  },
  {
   "cell_type": "markdown",
   "id": "cad46aaf",
   "metadata": {},
   "source": [
    "<div class=arabic>\n",
    "لاحظ انه عندما حاولنا كتابة اسم المتغير من كلمتين بترك فراغ يين الكلمتين رفض مفسر بايثون هذه العملية واعطانا رسالة مشابه للرسالة السابقة تفيد بوجود خطأ في التركيب اللغوي\n",
    "</div>"
   ]
  },
  {
   "cell_type": "markdown",
   "id": "eaa54539",
   "metadata": {},
   "source": [
    "<div class=arabic>\n",
    "خامساً: أسماء المتغيرات يجب ان لا تكون احد الكلمات المستخدمة في التركيب اللغوي للغة بايثون والجدول التالي يبين الكلمات المحجوزة من قبل لغة بايثون:\n",
    "</div>"
   ]
  },
  {
   "cell_type": "markdown",
   "id": "37b14f9d",
   "metadata": {},
   "source": [
    "<table style=\"font-size:20px; color:green\">\n",
    "  <tr>\n",
    "    <td>and</td>\n",
    "    <td>as</td>\n",
    "    <td>assert</td>\n",
    "    <td>break</td>\n",
    "    <td>class</td>\n",
    "    <td>continue</td>\n",
    "  </tr>\n",
    "  <tr>\n",
    "    <td>def</td>\n",
    "    <td>del</td>\n",
    "    <td>elif</td>\n",
    "    <td>else</td>\n",
    "    <td>except</td>\n",
    "    <td>exec</td>\n",
    "  </tr>\n",
    "  <tr>\n",
    "    <td>finally</td>\n",
    "    <td>for</td>\n",
    "    <td>from</td>\n",
    "    <td>global</td>\n",
    "    <td>if</td>\n",
    "    <td>import</td>\n",
    "    \n",
    "  </tr>\n",
    " <tr>\n",
    "    <td>in</td>\n",
    "    <td>is</td>\n",
    "    <td>lambda</td>\n",
    "    <td>not</td>\n",
    "    <td>or</td>\n",
    "    <td>pass</td>\n",
    "  </tr>\n",
    " <tr>\n",
    "    <td>print</td>\n",
    "    <td>raise</td>\n",
    "    <td>return</td>\n",
    "    <td>try</td>\n",
    "    <td>while</td>\n",
    "     <td>whith</td>\n",
    "  </tr>\n",
    "  <tr>\n",
    "      <td>yield</td>\n",
    "  </tr>\n",
    "</table> "
   ]
  },
  {
   "cell_type": "markdown",
   "id": "5d0360d7",
   "metadata": {},
   "source": [
    "<div class=arabic>\n",
    "المثال التالي يلخص القواعد السابقة:\n",
    "</div>"
   ]
  },
  {
   "cell_type": "code",
   "execution_count": null,
   "id": "1f61b7ad",
   "metadata": {},
   "outputs": [],
   "source": [
    "pass=45"
   ]
  },
  {
   "cell_type": "markdown",
   "id": "dc3c8a04",
   "metadata": {},
   "source": [
    "<div class=arabic>\n",
    "لاحظ عند استخدامنا لكلمة pass وهي كلمة مججوزة تستخدم في التركيب اللغوي للغة بايثون والتي سوف نتعرف على طريقة استخدامها لاحقا اعطانا مفسر بايثون رسالة بوجود خطأ في التركيب اللغوي   \n",
    "</div>"
   ]
  },
  {
   "cell_type": "markdown",
   "id": "b8007915",
   "metadata": {},
   "source": [
    "<div class=arabic>\n",
    "<b>تمرين:</b>\n",
    "اسند القيمة 100 للمتغير n. في سطر ثاني قم بتغير قيمة n الى القيمة 50. في سطر ثالث حاول ان تعرف القيمة النهائية للمتغير n ؟\n",
    "</div>"
   ]
  },
  {
   "cell_type": "code",
   "execution_count": null,
   "id": "6384db17",
   "metadata": {},
   "outputs": [],
   "source": [
    "n=100\n",
    "n=50\n",
    "n"
   ]
  },
  {
   "cell_type": "markdown",
   "id": "e4323875",
   "metadata": {},
   "source": [
    "<div class=arabic>\n",
    "<h2 class=title>\n",
    "تدوين الملاحظات\n",
    "</h2>\n",
    "تسمح لغة بايثون كغيرها من لغات البرمجة الاخرى بان يكتب المبرمج ملاحظاته داخل الكود البرمجي من اجل ان تساعدة على تذكر وظيفة الكود البرمجي او من اجل اعطاء شروحات وافيه للمبرمجين الاخرين الذين قد يعملون على صيانة وتطوير الكود البرمجي في المستقبل. ويمكن كتابة ملاحظة من سطر واحد في اي مكان من الكود البرمجي ولكن بعد ان يسبق الملاحظة علامة هاش تاق \n",
    "(#). فعند كتابة علامة (#) في بداية السطر فان بايثون يعتبر جميع محتويات هذا السطر ملاحظات للمستخدم وليست كود برمجي كما موضح في المثال التالي:\n",
    "</div>"
   ]
  },
  {
   "cell_type": "code",
   "execution_count": null,
   "id": "2f90144c",
   "metadata": {},
   "outputs": [],
   "source": [
    "# ملاحظات وتعليقات على الكود تكتب هنا\n",
    "x=10  "
   ]
  },
  {
   "cell_type": "markdown",
   "id": "fd0cd0fd",
   "metadata": {},
   "source": [
    "<div class=arabic>\n",
    "كما يمكن للمبرمج ان يدون ملاحظاته باستخدام علامة (#) بعد ان كتب سطر من الكود البرمجي كما في المثال التالي: \n",
    "</div>\n",
    "\n"
   ]
  },
  {
   "cell_type": "code",
   "execution_count": null,
   "id": "140e2c5d",
   "metadata": {},
   "outputs": [],
   "source": [
    "x=10  # ملاحظات وتعليقات على الكود البرمجي تكتب هنا"
   ]
  },
  {
   "cell_type": "markdown",
   "id": "4c61a492",
   "metadata": {},
   "source": [
    "<div class=arabic>\n",
    "فمفسر بايثون هنا يتعامل مع الجزء الذي يسبق علامة (#) على انه كود برمجي يتحاج الى تفسير والجزء الذي يقع بعد علامة (#) يعتبره ملاحظات وتعليقات للمبرمج لاتحتاج الى تفسير فيتجاهلها.\n",
    "</div>\n",
    "\n"
   ]
  },
  {
   "cell_type": "markdown",
   "id": "a46fd074",
   "metadata": {},
   "source": [
    "<div class=arabic>\n",
    "كما يمكن كتابة ملاحظة متعددة السطور باستخادام علامة التنصيص الثلاثية كما في المثال التالي:\n",
    "</div>"
   ]
  },
  {
   "cell_type": "code",
   "execution_count": null,
   "id": "09cc2b6b",
   "metadata": {},
   "outputs": [],
   "source": [
    "\"\"\"\n",
    "تعليقات وملاحظات\n",
    "تعليقات وملاحظات\n",
    "تعليقات وملاحظات\n",
    "\"\"\"\n",
    "\n",
    "x=10"
   ]
  },
  {
   "cell_type": "markdown",
   "id": "c91439ce",
   "metadata": {},
   "source": [
    "<div class=arabic>\n",
    "وسوف نتحدث بشىئ من التفصيل عن انواع علامات التنصيص واستخداماتها ولكن ليس الان بل عند بدء الحديث عن البيانات النصية.\n",
    "</div>\n",
    "\n"
   ]
  },
  {
   "cell_type": "markdown",
   "id": "5c9083c9",
   "metadata": {},
   "source": [
    "<div class=arabic>\n",
    "<h2 class=title>\n",
    "الطباعة على شاشة الكمبيوتر\n",
    "</h2>\n",
    "ان من المعتاد عند تعلم اي لغة برمجة جديدة ان يتم البدء بتعلم كيفية الطباعة على شاشة الكمبيوتر و ذلك لانها تعتبر وظيفة  اساسية في جميع لغات البرمجة.ونحن سوف نسير على هذا العرف هنا على الرغم من تأخيرنا له قليلا. فامر الطباعة على الشاشة في بايثون يكون باسيتخدام الدالة\n",
    "()<font color=\"green\">print</font>\n",
    "متبوعا بما يراد طباعته داخل قوسي الدالة. وبما اننا في بداية المشوار ولم نتطرق لمفوهم المتغيرات فسوف نبدأ بطباعة قيم رقمية اولا. فالسطر البرمجي  التالي يقوم بطباعة القيمة 5 على الشاشة:\n",
    "<div>\n",
    "\n"
   ]
  },
  {
   "cell_type": "code",
   "execution_count": null,
   "id": "ef0db3b7",
   "metadata": {},
   "outputs": [],
   "source": [
    "print(5)"
   ]
  },
  {
   "cell_type": "markdown",
   "id": "ba83d69c",
   "metadata": {},
   "source": [
    "<div class=arabic>\n",
    "تمرين: قم باسناد القيمة 25 للمتغير m وفي سطر ثاني قم بطباعة قمية m؟\n",
    "</div>"
   ]
  },
  {
   "cell_type": "code",
   "execution_count": null,
   "id": "42274c41",
   "metadata": {},
   "outputs": [],
   "source": [
    "m=25\n",
    "print(m)"
   ]
  },
  {
   "cell_type": "markdown",
   "id": "cd648fcc",
   "metadata": {},
   "source": [
    "<div class=arabic>\n",
    "<h2 class=title>\n",
    "الاحرف الكبيرة و\n",
    "الاحرف الصغيرة\n",
    "</h2>\n",
    "</div>"
   ]
  },
  {
   "cell_type": "markdown",
   "id": "38550210",
   "metadata": {},
   "source": [
    "<div class=arabic>\n",
    "لغتنا العربية الجميلة لاتحوي على مفهوم الحروف الصغيرة والكبيرة بعكس ما هو موجود في اللغة الانجليزية. وبما ان لغة بايثون مكتوبة باللغة الانجليزية فان هذه اللغة تهتم بما اذا كان الكود البرمجي او جزء منه مكتوب بالاحرف الصغيرة او الكبيرة. فالمتغير   b يتعامل معه مفسر بايثون على انه مختلف عن B. فعندما نسند القيمة 5 مثلا للمتغير b فان اسناد القيمة 10 للمتغير B لا يغير من قيمة b لان مفسر بايثون يتعامل معهما على انهما متغيرين مختلفين كما في المثال التالي:\n",
    "</div>"
   ]
  },
  {
   "cell_type": "code",
   "execution_count": null,
   "id": "e27c9f46",
   "metadata": {},
   "outputs": [],
   "source": [
    "b=5\n",
    "B=10\n",
    "print(b)\n",
    "print(B)"
   ]
  },
  {
   "cell_type": "markdown",
   "id": "e3a1c8e4",
   "metadata": {},
   "source": [
    "<div class=arabic>\n",
    "<h2 class=title>\n",
    "العمليات الحسابية\n",
    "</h2>\n",
    "\n",
    "<h3 class=title>\n",
    "   اجراء العمليات الحسابية الاساسية\n",
    "</h3>\n",
    "كما هو المعتاد مع لغات البرمجة الاخرى فان العمليات الحسابية الاساسية يمكن القيام بها من اليسار الي اليمين \n",
    "    باستخدام الرموز الاتية:\n",
    "\n",
    "<br>\n",
    "اولاً: تسخدم العلامة \"+\" لاجراء عمليات الجمع\n",
    "<br>\n",
    "مثال:\n",
    "</div>\n",
    "\n"
   ]
  },
  {
   "cell_type": "code",
   "execution_count": null,
   "id": "e795e1ba",
   "metadata": {},
   "outputs": [],
   "source": [
    "3+4"
   ]
  },
  {
   "cell_type": "markdown",
   "id": "cf01dbc2",
   "metadata": {},
   "source": [
    "<div class=arabic>\n",
    "ثانياً: تسخدم علامة \"-\" (الشرطة الاعتيادية وليست السفلية) لاجراء عمليات الطرح\n",
    "<br>\n",
    "مثال:\n",
    "</div>"
   ]
  },
  {
   "cell_type": "code",
   "execution_count": null,
   "id": "59cc9f5f",
   "metadata": {},
   "outputs": [],
   "source": [
    "7-5"
   ]
  },
  {
   "cell_type": "markdown",
   "id": "41f4ff0a",
   "metadata": {},
   "source": [
    "<div class=arabic>\n",
    "ثالثاً: استخدام علامة النجمة \"*\" لاجراء عمليات الضرب\n",
    "<br>\n",
    "مثال:\n",
    "</div>"
   ]
  },
  {
   "cell_type": "code",
   "execution_count": null,
   "id": "3d5ffefc",
   "metadata": {},
   "outputs": [],
   "source": [
    "2*3"
   ]
  },
  {
   "cell_type": "markdown",
   "id": "e6b11fb1",
   "metadata": {},
   "source": [
    "<div class=arabic>\n",
    "رابعاً: تستخدم الشرطة المائلة \"/\" لاجراء عمليات القسمة\n",
    "<br>\n",
    "مثال:\n",
    "</div>"
   ]
  },
  {
   "cell_type": "code",
   "execution_count": null,
   "id": "c672790e",
   "metadata": {},
   "outputs": [],
   "source": [
    "5/3"
   ]
  },
  {
   "cell_type": "markdown",
   "id": "fdb7c0ee",
   "metadata": {},
   "source": [
    "<div class=arabic>\n",
    "خامساً: تستخدم النجمتين \"**\" لرفع قيمة عدد لقوة معينه\n",
    "<br>\n",
    "مثال:\n",
    "</div>"
   ]
  },
  {
   "cell_type": "code",
   "execution_count": null,
   "id": "b9eafe7a",
   "metadata": {},
   "outputs": [],
   "source": [
    "3**2"
   ]
  },
  {
   "cell_type": "markdown",
   "id": "5ca9a083",
   "metadata": {},
   "source": [
    "<div class=arabic>\n",
    "في المثال السابق تم رفع قيمة العدد 3 للقوة او الاس 2\n",
    "\n",
    "</div>"
   ]
  },
  {
   "cell_type": "markdown",
   "id": "1307e566",
   "metadata": {},
   "source": [
    "<div class=arabic>\n",
    "سادساً: تستخدم الشرطتين المائلتين \"//\" لحساب ناتج القسمة بعد اهمال الباقي \n",
    "<br>\n",
    "مثال:\n",
    "</div>"
   ]
  },
  {
   "cell_type": "code",
   "execution_count": null,
   "id": "acd05094",
   "metadata": {},
   "outputs": [],
   "source": [
    "11//3"
   ]
  },
  {
   "cell_type": "markdown",
   "id": "a1cdb0eb",
   "metadata": {},
   "source": [
    "<div class=arabic>\n",
    "    سابعاً: تستخدم علامة النسبة المئوية \"%\" لحساب باقي القسمة\n",
    "<br>\n",
    "مثال:\n",
    "</div>"
   ]
  },
  {
   "cell_type": "code",
   "execution_count": null,
   "id": "4d89a316",
   "metadata": {},
   "outputs": [],
   "source": [
    "7%3"
   ]
  },
  {
   "cell_type": "markdown",
   "id": "74575066",
   "metadata": {},
   "source": [
    "<div class=arabic>\n",
    "بالنسبة لعملية القسمة فان هناك اختلاف بسيط بين اصدارة بايثون 2 و 3 يجب التنبه عليه. فعند اجراء عملية القسمة في اصدارة بايثون 2 على اعداد طبيعية فان ناتج القسمة يكون عدد طبيعي. بمعنى انه اذا اردنا قسمة العدد 3 على العدد 2 مثلا فان ناتج القسمة يكون 1 وليس 1.5\n",
    "هذه المشكله غير موجوده في اصدارة بايثون 3.\n",
    "ولتصحيح هذه المشكلة لمن يستخدمون الاصدار 2 يمكنهم استخدام الاعداد الصحيحة في عملية القسمة سواء في البسط او المقام او كليهما.\n",
    "</div>"
   ]
  },
  {
   "cell_type": "markdown",
   "id": "37c54bce",
   "metadata": {},
   "source": [
    "<div class=arabic>\n",
    "<h3 class=title>\n",
    "قواعد الاسبقية في تنفيذ العمليات الحسابية\n",
    "</h3>\n",
    "كما هو متعارف عليه في علم الرياضيات فان عمليتي القسمة والضرب تسبق كلا من عمليتي الطرح والجمع وعملية الاس تسبق عمليتي الضرب والجمع الا اذا استخدمت الاقواس لتحديد اسبقية العمليات الحسابية. وهذه امثلة  توضح هذا المفهوم:\n",
    "</div>"
   ]
  },
  {
   "cell_type": "code",
   "execution_count": null,
   "id": "6c5400f0",
   "metadata": {},
   "outputs": [],
   "source": [
    "3+4*2"
   ]
  },
  {
   "cell_type": "markdown",
   "id": "366f1522",
   "metadata": {},
   "source": [
    "<div class=arabic>\n",
    "    لاحظ ان عملية الضرب تم القيام بها قبل اجراء عملية الجمع لذلك تم الحصول على الناتج 11 بدلا من 14\n",
    "</div>"
   ]
  },
  {
   "cell_type": "code",
   "execution_count": null,
   "id": "8c50b073",
   "metadata": {},
   "outputs": [],
   "source": [
    "10/2-1 "
   ]
  },
  {
   "cell_type": "code",
   "execution_count": null,
   "id": "11ab5f4b",
   "metadata": {},
   "outputs": [],
   "source": [
    "10**2/5+4"
   ]
  },
  {
   "cell_type": "code",
   "execution_count": null,
   "id": "0441d266",
   "metadata": {},
   "outputs": [],
   "source": [
    "(3+4)*2 "
   ]
  },
  {
   "cell_type": "code",
   "execution_count": null,
   "id": "9c170af2",
   "metadata": {},
   "outputs": [],
   "source": [
    "15/(6-3)"
   ]
  },
  {
   "cell_type": "markdown",
   "id": "be7a58e6",
   "metadata": {},
   "source": [
    "<div class=arabic>\n",
    "<h2 class=title>\n",
    "أنواع البيانات\n",
    "</h2>\n",
    "تنقسم البيانات الأساسية في لغة بايثون الي ثلاثة اقسام رئيسية وهي البيانات العددية والبيانات النصية والبيانات المنطقية. وسوف نقوم في هذه الجزئية من الفصل بإعطاء شيء من التفصيل عن كل نوع من هذه الانواع:\n",
    "</div>"
   ]
  },
  {
   "cell_type": "markdown",
   "id": "c62e5c62",
   "metadata": {},
   "source": [
    "<div class=arabic>\n",
    "    <h3 class=title>البيانات العددية</h3>\n",
    "</div>"
   ]
  },
  {
   "cell_type": "markdown",
   "id": "24d7b790",
   "metadata": {},
   "source": [
    "<div class=arabic>\n",
    "تنقسم البيانات العددية الى ثلاثة اقسام رئيسية:\n",
    "</div>"
   ]
  },
  {
   "cell_type": "markdown",
   "id": "dbbbe459",
   "metadata": {},
   "source": [
    "<div class=arabic>\n",
    "اولاَ: الاعداد الصحيحة (Integers) او بشكل مختصر int وهي الاعداد التي تعبر عن عدم التجزئة وتشمل الاعداد الموجبة والسالبة والصفر\n",
    "{ 3 , 2 , 1 , 0 , 1- , 2- , 3- }\n",
    "</div>"
   ]
  },
  {
   "cell_type": "markdown",
   "id": "5cc17b5a",
   "metadata": {},
   "source": [
    "<div class=arabic>\n",
    "ثانياً: الأعداد العائمة (float) او العشرية وهي الاعداد التي تحتوي على فاصلة عشرية سواء كانت موجبة او سالبة. يجب ملاحظة ان العدد 5 يعتبر عدد صحيح  integer وبمجرد وضع فاصلة عشرية بعد هذا الرقم  ليصبح .5 فان العدد الان يعتبر عدد عشري  float وليس عدد صحيح ويمكن التأكد من ذلك من خلال استخدام الدالة ()type كما في المثال التالي:\n",
    "</div>"
   ]
  },
  {
   "cell_type": "code",
   "execution_count": null,
   "id": "9eaa953f",
   "metadata": {},
   "outputs": [],
   "source": [
    "type(5)"
   ]
  },
  {
   "cell_type": "code",
   "execution_count": null,
   "id": "364ee424",
   "metadata": {},
   "outputs": [],
   "source": [
    "type(5.)"
   ]
  },
  {
   "cell_type": "markdown",
   "id": "34a7ca7e",
   "metadata": {},
   "source": [
    "<div class=arabic>\n",
    "ثالثاً: الاعداد المركبة (complex numbers) وهي الاعداد التي تحتوي على اعداد حقيقية واعداد خيالية فمثلا العدد 2+3j يعتبر عدد مركب يتكون من جزء صحيح وهو العدد 2 وجزء خيالي هو العدد 3 ويمثل الحرف j الجذر التربيعي للعدد -1 حيث يكتب في لغة بايثون بالطريقة التالية:\n",
    "</div>"
   ]
  },
  {
   "cell_type": "code",
   "execution_count": null,
   "id": "5dd4c64c",
   "metadata": {},
   "outputs": [],
   "source": [
    "2+3j"
   ]
  },
  {
   "cell_type": "code",
   "execution_count": null,
   "id": "d9f34246",
   "metadata": {},
   "outputs": [],
   "source": [
    "type(2+3j)"
   ]
  },
  {
   "cell_type": "markdown",
   "id": "4d30aba4",
   "metadata": {},
   "source": [
    "<div class=arabic>\n",
    "<h3 class=title>\n",
    "البيانات المنطقية\n",
    "</h3>\n",
    "</div>\n",
    "\n"
   ]
  },
  {
   "cell_type": "markdown",
   "id": "1a960427",
   "metadata": {},
   "source": [
    "<div class=arabic>\n",
    "البيانات المنطقية هي البيانات التي تحوى احدى القيمتين صح\n",
    "<font color=\"green\">True</font>\n",
    " أو خطأ\n",
    " <font color=\"green\">False</font>\n",
    ". لاحظ ان هاتين القيمتين تبتدأ بحرف كبير في لغة بايثون. وهناك عمليات مقارنة كثير تنتج عنها احدى  هاتين القيمتين. فعملية مقارنة التساوي بين قيمتين في بايثون تستخدم علامتي يساوي متتابعتين \"==\" فعند مقارنة عددين مثلا فاننا نكتبهما بالشكل التالي:\n",
    "</div>\n",
    "\n"
   ]
  },
  {
   "cell_type": "code",
   "execution_count": null,
   "id": "795a783e",
   "metadata": {},
   "outputs": [],
   "source": [
    "5==4"
   ]
  },
  {
   "cell_type": "markdown",
   "id": "d61510e4",
   "metadata": {},
   "source": [
    "<div class=arabic>\n",
    "لاحظ ان عدم تساوي القيمتين في المثال السابق ادى الى حصولنا على القيمة False اي خطأ. اما اذا كانت القيمتين متساويتين فان الناتج يكون \"True\" اي صحيح كما في المثال التالي:\n",
    "</div>"
   ]
  },
  {
   "cell_type": "code",
   "execution_count": null,
   "id": "51dd2ef9",
   "metadata": {},
   "outputs": [],
   "source": [
    "15==15"
   ]
  },
  {
   "cell_type": "markdown",
   "id": "a163bbb6",
   "metadata": {},
   "source": [
    "<div class=arabic>\n",
    "يجب الاشارة الى ان القيمة المنطقية True تمثل 1 في الاعداد الصحيحة. والقيمة المنطقية False تمثل 0 في الاعداد الصحية ويمكن التأكد من ذلك من خلال المثال التالي:\n",
    "</div>"
   ]
  },
  {
   "cell_type": "code",
   "execution_count": null,
   "id": "198e183d",
   "metadata": {},
   "outputs": [],
   "source": [
    "True==1"
   ]
  },
  {
   "cell_type": "code",
   "execution_count": null,
   "id": "ae7d3e82",
   "metadata": {},
   "outputs": [],
   "source": [
    "False==0"
   ]
  },
  {
   "cell_type": "markdown",
   "id": "a378d84a",
   "metadata": {},
   "source": [
    "<div class=arabic>\n",
    "<h3 class=title>\n",
    "البيانات النصية\n",
    "</h3>\n",
    "</div>"
   ]
  },
  {
   "cell_type": "markdown",
   "id": "ffd0d745",
   "metadata": {},
   "source": [
    "<div class=arabic>\n",
    "كل ما يكتب بين علامتى تنصيص سواء كانت احادية\n",
    "('z') \n",
    "او ثنائية\n",
    "(\"z\") \n",
    "او ثلاثية\n",
    "('''z''')\n",
    " يطلق عليه بيان نصي string أو بشكل مختصر str. فالقيمة \"123\" يتعامل معها بايثون على انها سلسلة من الرموز النصية الرقمية مختلفة عن القيمة العددية 123. ويمكن التأكد من ذلك باستخدام الدالة \n",
    "()<font color=\"green\">type</font>\n",
    " كما في المثال التالي:\n",
    "\n",
    "\n",
    "</div>\n",
    "\n"
   ]
  },
  {
   "cell_type": "code",
   "execution_count": null,
   "id": "8cbff9f2",
   "metadata": {},
   "outputs": [],
   "source": [
    "x=\"123\"\n",
    "type(x)"
   ]
  },
  {
   "cell_type": "code",
   "execution_count": null,
   "id": "76cf7496",
   "metadata": {},
   "outputs": [],
   "source": [
    "\"123\"==123"
   ]
  },
  {
   "cell_type": "markdown",
   "id": "53105243",
   "metadata": {},
   "source": [
    "<div class=arabic>\n",
    "وهناك عدة قواعد يجب اتباعها عند كتابة البيانات النصيية والتي يمكن تلخيصها في النقاط التالية:\n",
    "</div>"
   ]
  },
  {
   "cell_type": "markdown",
   "id": "bbbc0e40",
   "metadata": {},
   "source": [
    "<div class=arabic>\n",
    "اولاً: علامتي التنصيص لكل بيان نصي يجب ان تكون من نفس النوع. فعند البدء بعلامة تنصيص احادية يجب ان ينتهي البيان النصي بعلامة تنصيص احادية وكذلك الحال مع علامة التنصيص الثنائية والثلاثية كما في المثال التالي:\n",
    "</div>\n",
    "\n"
   ]
  },
  {
   "cell_type": "code",
   "execution_count": null,
   "id": "45666b99",
   "metadata": {},
   "outputs": [],
   "source": [
    "student_name='Ahmad'\n",
    "student_name=\"Ali\"\n",
    "student_name='''Hassan'''"
   ]
  },
  {
   "cell_type": "markdown",
   "id": "2b456484",
   "metadata": {},
   "source": [
    "<div class=arabic>\n",
    "لاحظ انه عندما نقوم باستخدام علامتي تنصيص مختلفة فان ذلك سوف يجعل مفسر لغة بايثون يظهر رسالة تفيد بوجود خطأ كما في المثال التالي:\n",
    "</div>\n",
    "\n"
   ]
  },
  {
   "cell_type": "code",
   "execution_count": null,
   "id": "1c244714",
   "metadata": {},
   "outputs": [],
   "source": [
    "'welcome to python\""
   ]
  },
  {
   "cell_type": "markdown",
   "id": "1f9f86d2",
   "metadata": {},
   "source": [
    "<div class=arabic>\n",
    "ثانياً: علامة التنصيص الاحادية والثنائية تستخدم لكاتبة نصوص من سطر واحد بينما علامة التنصيص الثلاثية تسمح بطباعة اكثر من سطر. فعند استخدام علامة التنصيص الاحادية والثنائية لطباعة بيان نصي متعدد السطور فان مفسر بايثون يظهر لنا رسالة تفيد بوجود خطأ كما في المثالين التاليين:\n",
    "</div>\n",
    "\n"
   ]
  },
  {
   "cell_type": "code",
   "execution_count": null,
   "id": "d4045642",
   "metadata": {},
   "outputs": [],
   "source": [
    "print('welcome\n",
    "      to \n",
    "      python')"
   ]
  },
  {
   "cell_type": "code",
   "execution_count": null,
   "id": "fb93ec87",
   "metadata": {},
   "outputs": [],
   "source": [
    "print(\"welcome\n",
    "      to \n",
    "      python\")"
   ]
  },
  {
   "cell_type": "markdown",
   "id": "56f644e9",
   "metadata": {},
   "source": [
    "<div class=arabic>\n",
    "اما عند استخدام علامة التنصيص الثلاثية فان مفسر بايثون يتم عملية الطباعة بدون اظهار اي رسالة خطأ كما في المثال التالي:\n",
    "</div>\n",
    "\n"
   ]
  },
  {
   "cell_type": "code",
   "execution_count": null,
   "id": "f57a453c",
   "metadata": {},
   "outputs": [],
   "source": [
    "print('''welcome\n",
    "to \n",
    "python\n",
    "''')"
   ]
  },
  {
   "cell_type": "markdown",
   "id": "b454e6f7",
   "metadata": {},
   "source": [
    "<div class=arabic>\n",
    "ثالثاً: يمكن استخدام رمز التجاهل \"\\\" في نهاية كل سطر لتمكين علامة التنصيص الاحادية والثنائية من طباعة اكثر من سطر على الشاشة. لكن هناك فرق بين الطريقتين فعلامة التنصيص الثلاثية تبقي البيان النصي كما كتب من ناحية تعدد السطور بينما استخدام رمز التجاهل يقوم بكتابة البيان النصي كسطر واحد كما في المثالين التاليين:\n",
    "</div>\n",
    "\n"
   ]
  },
  {
   "cell_type": "code",
   "execution_count": null,
   "id": "ad2a20a2",
   "metadata": {},
   "outputs": [],
   "source": [
    "print ('welcome \\\n",
    "to \\\n",
    "python')\n",
    "\n",
    "print(\"welcome \\\n",
    "to \\\n",
    "python\")"
   ]
  },
  {
   "cell_type": "code",
   "execution_count": null,
   "id": "25d2f66d",
   "metadata": {},
   "outputs": [],
   "source": [
    "print('''welcome\n",
    "to \n",
    "python''')"
   ]
  },
  {
   "cell_type": "markdown",
   "id": "a6394f11",
   "metadata": {},
   "source": [
    "<div class=arabic>\n",
    "رابعاً: يمكن استخدام علامة تنصيص او اكثر داخل علامتي تنصيص اخرى ولكن بعد التأكد من ان علامة التنصيص الداخلية مختلفة عن علامة التنصيص المستخدمة في بداية ونهاية النص.\n",
    "</div>"
   ]
  },
  {
   "cell_type": "code",
   "execution_count": null,
   "id": "bbc2490d",
   "metadata": {},
   "outputs": [],
   "source": [
    "print('They \"like\" python')\n",
    "print(\"My brother's car is quite old\")"
   ]
  },
  {
   "cell_type": "markdown",
   "id": "1037fd90",
   "metadata": {},
   "source": [
    "<div class=arabic>\n",
    "    خامساً: يمكن استخدام رمز التجاهل المشار اليه سابقا لاداء نفس الوظيفة اذا كانت علامة التنصيص الداخلية مشابهة لعلامتي التنصيص الخارجية. كما ماهو موضح في الامثلة التالية:\n",
    "</div>"
   ]
  },
  {
   "cell_type": "code",
   "execution_count": null,
   "id": "a4e45786",
   "metadata": {},
   "outputs": [],
   "source": [
    "print('They \\'like\\' python')\n",
    "print('My brother\\'s car is quite old')"
   ]
  },
  {
   "cell_type": "markdown",
   "id": "a8232828",
   "metadata": {},
   "source": [
    "<div class=arabic>\n",
    "وهناك علامات تجاهل أخرى خاصة تؤدي وظائف خاصة فمثلا t\\ يعتبرها مفسر بايثون على انها حقل فارغ مكون من اربع مسافات كما في المثال التالي:\n",
    "</div>"
   ]
  },
  {
   "cell_type": "code",
   "execution_count": null,
   "id": "ce824540",
   "metadata": {},
   "outputs": [],
   "source": [
    "print(\"1\\t2\\t3\\t4\")"
   ]
  },
  {
   "cell_type": "markdown",
   "id": "b82fdffc",
   "metadata": {},
   "source": [
    "<div class=arabic>\n",
    "فمفسر بايثون في المثال السابق قام بتحويل كل زمر تجاهل t\\ الى حقل فارغ مكون من اربع مسافات. وكذلك الامر مع رمز التجاهل n\\ فانه يخبر مفسر بايثون بالنزول الى سطر جديد كما في المثال التالي:\n",
    "</div>"
   ]
  },
  {
   "cell_type": "code",
   "execution_count": null,
   "id": "0efdc7d7",
   "metadata": {},
   "outputs": [],
   "source": [
    "print(\"1\\n2\\n3\\n4\")"
   ]
  },
  {
   "cell_type": "markdown",
   "id": "608544b4",
   "metadata": {},
   "source": [
    "<div class=arabic>\n",
    "اما اذا اردنا ان نخبر مفسر بايثون بأن يتجاهل جميع رموز التجاهل الموجودة في النص فإننا نسبق النص بالحرف r ليخبر مفسر بايثون ان هذا النص لا يحتاج الى تفسير الرموز بداخله كما في المثال التالي:\n",
    "</div>"
   ]
  },
  {
   "cell_type": "code",
   "execution_count": null,
   "id": "2d2198d6",
   "metadata": {},
   "outputs": [],
   "source": [
    "print(r\"1\\t2\\t3\\t4\")"
   ]
  },
  {
   "cell_type": "markdown",
   "id": "1323cf03",
   "metadata": {},
   "source": [
    "<div class=arabic>\n",
    "كما يجب الإشارة الى ان البيانات النصية ليس لها حد في قيمها فممكن ان تتكون من سلسلة من الحروف والأرقام والرموز بقدر ما تستوعبه ذاكرة كمبيوتر المستخدم. ويكمن كذلك ان يكون البيان النصي فارغاً كما في المثال التالي:\n",
    "</div>"
   ]
  },
  {
   "cell_type": "code",
   "execution_count": null,
   "id": "1d03cdfe",
   "metadata": {},
   "outputs": [],
   "source": [
    "x=\"\""
   ]
  },
  {
   "cell_type": "markdown",
   "id": "85a4b01d",
   "metadata": {},
   "source": [
    "<div class=arabic>\n",
    "يجب الاشارة الى انه في معظم لغات البرمجة المعروفه لا يمكن استخدام المتغيرات الا بعد تعريفها مسبقا وذلك بتحديد نوع البيانات التي تشير اليه هذه المتغيرات. لكن الامر مختلف تماما في لغة بايثون. فالمبرمج لا يحتاج الى تعريف المتغيرات قبل استخدامها كما تعلمنا سابقا عن كيفية اسناد قيمة لمتغير. لذلك يطلق على لغة بايثون بانها ديناميكية لانها تقوم بتحديد نوع المتغيرات ذاتيا من خلال التعرف على نوع البيانات المستخدمة مع كل متغير. وهذه الخاصية تعطي المبرمج بلغة بايثون سهوله وسرعة غير مسبوقة في كتابة الاكواد البرمجية. والدالة ()type التي استخدمناها سابقا كفيلة بتوضيح هذه النقطة من خلال المثال التالي:\n",
    "</div>"
   ]
  },
  {
   "cell_type": "code",
   "execution_count": null,
   "id": "244b5a3f",
   "metadata": {},
   "outputs": [],
   "source": [
    "x=5\n",
    "type(x)"
   ]
  },
  {
   "cell_type": "markdown",
   "id": "ef63ab0e",
   "metadata": {},
   "source": [
    "<div class=arabic>\n",
    "<h2 class=title>\n",
    "ترك مسافات\n",
    "</h2>\n",
    "في حين ان لغات البرمجة الاخرى تستخدم مصطلحات واقواس لتحديد بداية ونهاية الاجزاء  الداخلية للكود البرمجي فان لغة بايثون تتبع نظام ترك المسافات عند بداية كتابة السطر البرمجي لاداء نفس المهمة. فلغة جافا تستخدم الاقواس لتحديد جزئية الكود الداخلي و علاقته ببقية الاجزاء كما في المثال التالي:\n",
    "</div>"
   ]
  },
  {
   "cell_type": "raw",
   "id": "14cbe340",
   "metadata": {},
   "source": [
    "public class HelloWorld {\n",
    "   public static void main(String[] args) {\n",
    "   \n",
    "      System.out.println(\"Hello, World\");\n",
    "   }\n",
    "}"
   ]
  },
  {
   "cell_type": "markdown",
   "id": "5e94f590",
   "metadata": {},
   "source": [
    "<div class=arabic>\n",
    "بينما لغة بايثون تعمد الى ترك مسافة عند بداية كتابة الجزء الداخلى للكود لتجديد مداه وعلاقتة بالاجزاء الاخرى كما في المثال التالي:\n",
    "</div>"
   ]
  },
  {
   "cell_type": "code",
   "execution_count": null,
   "id": "5448226f",
   "metadata": {},
   "outputs": [],
   "source": [
    "for i in [1,2,3,4]:\n",
    "    print (i)"
   ]
  },
  {
   "cell_type": "markdown",
   "id": "5a4d0841",
   "metadata": {},
   "source": [
    "<div class=arabic>\n",
    "ليس من المهم ان تفهم وظيفة الكود البرمجي السابق الان لاننا سوف نتطرق اليه في وقت لاحق ولكن المهم ان تعرف ان لغة بايثون تهتم بترك مسافات عند بداية كتابة الاسطر البرمجية لتحديد الاجزاء الداخلية من الكود.فعند كتابة برنامج من سطر واحد مثلا فان ترك اي مسافة قبل بداية السطر البرمجي يجعل مفسر بايثون يرفض التركيب اللغوي و يظهر رسالة تبين سبب المشكلة هو ترك مسافة عند بداية كتابة السطر البرمجي في موضع لايستدعي ترك اي مسافة. لكن ترك مسافة في اي موضع اخى من السطر ليس له اي تأثير على التركيب اللغوي. كما يجب الاشارة الى ان ترك اسطر فارغة بين اسطر الكود البرمجي ليس له اي تأثير يذكر ايضا. سوف نعاود الحديث عن ترك المسافات عندما نبدأ الحديث عن الحلقات التكرارية والدوال في بايثون حيث تستدعى الحاجة للحديث عن ترك مسافات عند كتابة هذه التراكيب اللغوية.\n",
    "\n",
    "</div>\n",
    "\n"
   ]
  },
  {
   "cell_type": "markdown",
   "id": "071881e6",
   "metadata": {},
   "source": [
    "<div class=arabic>\n",
    "    <br>\n",
    "    <h2 class=title>ملخص الفصل</h2>\n",
    "    <br>\n",
    "</div>"
   ]
  },
  {
   "cell_type": "markdown",
   "id": "91b6ffc8",
   "metadata": {},
   "source": [
    "<div class=arabic><h2 class=title>اسئلة استيعابية</h2></div>"
   ]
  },
  {
   "cell_type": "markdown",
   "id": "0d88be7b",
   "metadata": {},
   "source": [
    "<div class=arabic>\n",
    "1- ما هو اقصى عدد من الاحرف والأرقام يمكن استخدامه في كتابة اسماء المتغيرات؟\n",
    "</div>"
   ]
  },
  {
   "cell_type": "markdown",
   "id": "6962413e",
   "metadata": {},
   "source": []
  },
  {
   "cell_type": "markdown",
   "id": "5916d964",
   "metadata": {},
   "source": [
    "<div class=arabic>\n",
    "2-  صح ام خطأ؟ لا يفرق مفسر بايثون في تعامله مع الكود البرمجي بين الاحرف الكبيرة والصغيرة.\n",
    "</div>"
   ]
  },
  {
   "cell_type": "markdown",
   "id": "6a8028ee",
   "metadata": {},
   "source": []
  },
  {
   "cell_type": "markdown",
   "id": "6053c683",
   "metadata": {},
   "source": [
    "<div class=arabic>\n",
    "3-كيف تكتب في بايثون العملية الرياضية x مرفوعا للقوة y؟\n",
    "</div>"
   ]
  },
  {
   "cell_type": "code",
   "execution_count": null,
   "id": "5630b672",
   "metadata": {},
   "outputs": [],
   "source": []
  },
  {
   "cell_type": "markdown",
   "id": "c0990578",
   "metadata": {},
   "source": [
    "<div class=arabic>\n",
    "4-ماهو ناتج العملية الرياضية 3%22؟\n",
    "</div>"
   ]
  },
  {
   "cell_type": "code",
   "execution_count": null,
   "id": "448157a1",
   "metadata": {},
   "outputs": [],
   "source": []
  },
  {
   "cell_type": "markdown",
   "id": "76bd53ee",
   "metadata": {},
   "source": [
    "<div class=arabic>\n",
    "5-ماهو ناتج العملية الرياضية 3**1*3؟\n",
    "</div>"
   ]
  },
  {
   "cell_type": "code",
   "execution_count": null,
   "id": "d0b2fa04",
   "metadata": {},
   "outputs": [],
   "source": []
  },
  {
   "cell_type": "markdown",
   "id": "eb8551ca",
   "metadata": {},
   "source": [
    "<div class=arabic>\n",
    "6-اي من الاسماء التالية يمكن استخدامه كاسم متغير [\"in\",\"it\",\"on\",\"__init\"]؟\n",
    "</div>"
   ]
  },
  {
   "cell_type": "markdown",
   "id": "b73531f9",
   "metadata": {},
   "source": []
  },
  {
   "cell_type": "code",
   "execution_count": null,
   "id": "109289b0",
   "metadata": {},
   "outputs": [],
   "source": []
  }
 ],
 "metadata": {
  "kernelspec": {
   "display_name": "Python 3 (ipykernel)",
   "language": "python",
   "name": "python3"
  },
  "language_info": {
   "codemirror_mode": {
    "name": "ipython",
    "version": 3
   },
   "file_extension": ".py",
   "mimetype": "text/x-python",
   "name": "python",
   "nbconvert_exporter": "python",
   "pygments_lexer": "ipython3",
   "version": "3.11.0"
  }
 },
 "nbformat": 4,
 "nbformat_minor": 5
}
