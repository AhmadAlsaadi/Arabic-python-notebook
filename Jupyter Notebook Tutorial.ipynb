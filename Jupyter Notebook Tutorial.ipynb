{
 "cells": [
  {
   "cell_type": "code",
   "execution_count": 1,
   "id": "2d5e5015",
   "metadata": {},
   "outputs": [
    {
     "data": {
      "text/html": [
       "<style type=\"text/css\">@import url('https://www.fontstatic.com/f=yassin,amiri-quran,basim-marah,b-compset');\n",
       "\n",
       "\n",
       ".title{\n",
       "direction: rtl;\n",
       "font-size:100px;\n",
       "padding-right: 15px;\n",
       "line-height:10px;\n",
       "font-family:basim-marah;\n",
       "\n",
       "}\n",
       "\n",
       ".arabic{\n",
       "direction:rtl;\n",
       "font-size:20px;\n",
       "line-height:40px;\n",
       "padding-right: 1cm;\n",
       "padding-left: 1cm;\n",
       "text-align:justify;\n",
       "font-family:amiri-quran;\n",
       "}\n",
       "\n",
       ".horizontal{\n",
       "height:2px;\n",
       "border:none;\n",
       "color:#333;\n",
       "background-color:#333;\n",
       "width:75%;\n",
       "}\n",
       ".jupyter-widgets{\n",
       "    font-size:20px;\n",
       "    direction:rtl;\n",
       "    margin-right:25px;\n",
       "    font-family:amiri-quran;\n",
       "        \n",
       "}\n",
       ".widget-radio-box input{\n",
       "    float:right;\n",
       "    direction:ltr;\n",
       "    margin: 0 calc( var(--jp-widgets-input-padding) * 2 ) 0 10px;\n",
       "    text-align:right;\n",
       "    height: 30px;\n",
       "}\n",
       ".widget-radio{\n",
       "    flex-direction: column;\n",
       "    width:unset;\n",
       "    \n",
       "}\n",
       ".widget-label{  \n",
       "    font-family:amiri-quran;\n",
       "    font-size:18px;\n",
       "    height: 40px;\n",
       "}\n",
       "\n",
       ".widget-radio-box label {\n",
       "    font-size:18px;\n",
       "    height: 30px;\n",
       "}\n",
       "\n",
       ".true-grade{\n",
       "    color:green;\n",
       "}\n",
       ".false-grade{\n",
       "    color:red;\n",
       "}\n",
       "label:lang(en){\n",
       "    direction:ltr;\n",
       "    text-align:right;\n",
       "}\n",
       ".s{\n",
       "    line-height:unset;\n",
       "    height:unset;\n",
       "}\n",
       ".CodeMirror-wrap {\n",
       "    font-size:16px;\n",
       "}\n",
       "\n",
       ".basic_table{\n",
       "    font-size:20px;\n",
       "    color:\"green\";\n",
       "}</style>"
      ],
      "text/plain": [
       "<IPython.core.display.HTML object>"
      ]
     },
     "execution_count": 1,
     "metadata": {},
     "output_type": "execute_result"
    }
   ],
   "source": [
    "from IPython.core.display import HTML\n",
    "\n",
    "def _set_css_style(css_file_path):\n",
    "   \"\"\"\n",
    "   Read the custom CSS file and load it into Jupyter.\n",
    "   Pass the file path to the CSS file.\n",
    "   \"\"\"\n",
    "\n",
    "   styles = open(css_file_path, \"r\").read()\n",
    "   s = '<style type=\"text/css\">%s</style>' % styles     \n",
    "   return HTML(s)\n",
    "_set_css_style(\"custom.css\")"
   ]
  },
  {
   "cell_type": "markdown",
   "id": "83d11ff2",
   "metadata": {},
   "source": [
    "<div class=arabic><h2 class=title>الاجزاء الرئيسية</h2></div>"
   ]
  },
  {
   "cell_type": "markdown",
   "id": "ae5a5637",
   "metadata": {},
   "source": [
    "<div class=arabic>\n",
    "يتكون دفتر ملاحظات جوبتر الكلاسيكي من اربعه اجزاء رئيسية موضحة في الصورة التالية:\n",
    "</div>"
   ]
  },
  {
   "cell_type": "markdown",
   "id": "d84f96da",
   "metadata": {},
   "source": [
    "<img src=\"img/main-parts.PNG\">"
   ]
  },
  {
   "cell_type": "markdown",
   "id": "8ed93b84",
   "metadata": {},
   "source": [
    "<div class=arabic>\n",
    "    <h2 class=title>شريط العناوين</h2>\n",
    "</div>"
   ]
  },
  {
   "cell_type": "markdown",
   "id": "f81c6202",
   "metadata": {},
   "source": [
    "<div class=arabic>\n",
    "يحتوي شريط العناوين في دفتر ملاحظات جوبتر على خمسة اجزاء كما هو موضح في الصورة السابقة. ابتداء من اليمن يوجد زر logout لفك الارتباط بالخادم المحلي الذي يعمل عليه دفتر الملاحظات. عند الضغط على هذا الزر سوف يتم الغاء الارتباط بين جميع صفحات دفتر ملاحظات جوبتر المفتوحة في المتصفح والخادم المحلي الذي يعمل عليه جوبتر (الشاشة السوداء). وسوف ينقلك الى صفحة اخرى تساعدك على اعادة الربط بين الاثنين كما هو موضح في الصورة التالية:\n",
    "</div>"
   ]
  },
  {
   "cell_type": "markdown",
   "id": "5e4ec860",
   "metadata": {},
   "source": [
    "<img src=\"img/login-page.PNG\">"
   ]
  },
  {
   "cell_type": "markdown",
   "id": "d6d80b2a",
   "metadata": {},
   "source": [
    "<div class=arabic>\n",
    "عند الضغط على رابط الدخول login page لاعادة الارتباط بخادم جوبتر المحلي سوف تظهر لك الصفحة التالية:\n",
    "</div>"
   ]
  },
  {
   "cell_type": "markdown",
   "id": "afbdab65",
   "metadata": {},
   "source": [
    "<img src=\"img/token-page.PNG\">"
   ]
  },
  {
   "cell_type": "markdown",
   "id": "fc76a0a5",
   "metadata": {},
   "source": [
    "<div class=arabic>\n",
    "لاعادة الارتباط بالخادم المحلي تحتاج الى رمز token مكون من ارقام وحروف يتم انتاجه عند بداية تشغيل الخادم المحلى في محث الاوامر للنظام الذي يعمل عليه الخادم كما هو موضح بالصورة التالية:\n",
    "</div>"
   ]
  },
  {
   "cell_type": "markdown",
   "id": "c5508498",
   "metadata": {},
   "source": [
    "<img src=\"img/local-server.PNG\">"
   ]
  },
  {
   "cell_type": "markdown",
   "id": "0059ae9c",
   "metadata": {},
   "source": [
    "<div class=arabic>\n",
    "عند ادخال هذا الرمر في صفحة اعادة الارتباط بالخادم والضغط على زر login سوف تفتح لك صفحة دفتر ملاحظات جوبتر الرئيسية التي تحتوي على قائمة الملفات الموجودة في جهازك.\n",
    "</div>"
   ]
  },
  {
   "cell_type": "markdown",
   "id": "5b53224a",
   "metadata": {},
   "source": [
    "<div class=arabic>\n",
    "كما تسمح لك صفحة اعادة الارتباط السابقة استخدام الرمر لعمل كلمة مرور خاصة بك اذا اردت ذلك من خلال الخيار الموجود في اخر الصفحة.\n",
    "</div>"
   ]
  },
  {
   "cell_type": "markdown",
   "id": "57149021",
   "metadata": {},
   "source": [
    "<div class=arabic>\n",
    "كمعلومه اضافية يمكن استخدام الرابط بالكامل الذي يحتوي على الرمر لفتح دفتر ملاحظات جوبتر في متصفح اخر غير المتصفح الافتراضي الذي تعمل عليه. فمثلا اذا كان متصفحك الافتراضي ميكروسوفت ادج MS Edge واردت العمل على متفح كروم Chrome كل ما عليك فعله هو نسخ الرابط الذي يحتوي على الرمز والصاقه في صفحة جديدة من متصفح كروم.\n",
    "</div>"
   ]
  },
  {
   "cell_type": "markdown",
   "id": "8ab7c3ee",
   "metadata": {},
   "source": [
    "<div class=arabic>\n",
    "الجزء الثاني من شريط العناوين يحتوي على شعار اللغة التي يعمل عليها حاليا دفتر ملاحظات جوبتر والمتمثل في شعار لغة بايثون بالنسبة للصورة السابقة.\n",
    "</div>"
   ]
  },
  {
   "cell_type": "markdown",
   "id": "377966cd",
   "metadata": {},
   "source": [
    "<div class=arabic>\n",
    "الجزء الثالث من شريط العناوين يحتوي على حالة الملف الذي نعمل عليه فيما يتعلق بعملية الحفظ واخر وقت لعملية الحفظ\n",
    "</div>"
   ]
  },
  {
   "cell_type": "markdown",
   "id": "bae3e3d1",
   "metadata": {},
   "source": [
    "<div class=arabic>\n",
    "الجزء الرابع من شريط العناوين هو اسم الملف الذي نعمل عليه والذي يتم اعطاءة الاسم untitled بشكل افتراضي. ويمكن تغيير اسم الملف بالضغط على اسم الملف  وادخال الاسم الذي ترغب فيه ثم الضغط على زر اعادة التسمية كما هو موضح بالصورة التالية:\n",
    "</div>"
   ]
  },
  {
   "cell_type": "markdown",
   "id": "02dfd212",
   "metadata": {},
   "source": [
    "<img src=\"img/rename.PNG\">"
   ]
  },
  {
   "cell_type": "markdown",
   "id": "0448d145",
   "metadata": {},
   "source": [
    "<div class=arabic>\n",
    "اخر اجزاء شريط العناوين هو شعار دفتر الملاحظات جوبتر والذي عند الضغط عليه سوف ينقلك الى صفحة دفتر الملاحظات الرئيسية التي تحتوى على ملفات جهازك. \n",
    "</div>"
   ]
  },
  {
   "cell_type": "markdown",
   "id": "0bdf1153",
   "metadata": {},
   "source": [
    "<div class=arabic>\n",
    "    <h2 class=title>\n",
    "    شريط القوائم\n",
    "    </h2>\n",
    "</div>"
   ]
  },
  {
   "cell_type": "markdown",
   "id": "2fa4b899",
   "metadata": {},
   "source": [
    "<div class=arabic>\n",
    "يتكون شريط المهام في دفتر ملاحظات جوبتر من خمسة اجزاء رئيسية كما هو موضح بالصورة التالية:\n",
    "</div>"
   ]
  },
  {
   "cell_type": "markdown",
   "id": "9b26ded7",
   "metadata": {},
   "source": [
    "<img src=\"img/main-list.PNG\">"
   ]
  },
  {
   "cell_type": "markdown",
   "id": "e96f1080",
   "metadata": {},
   "source": [
    "<div class=arabic>\n",
    "ابتداء من اليمين يمكن شرح مكونات هذا الشريط على النحو التالي:\n",
    "</div>"
   ]
  },
  {
   "cell_type": "markdown",
   "id": "0dc03a83",
   "metadata": {},
   "source": [
    "<div class=arabic>\n",
    "الاجزء الاول من شريط القوائم هو وضع حالة مفسر اللغة التي يتعامل معها دفتر الملاحظات والمتمثل في دائرة تكون فارغة عندما لا يكون المفسر مشغولا باجراء اي عملية برمجية وتتحول الى دائرة سوداء عندما يكون مفسر اللغة مشغولا. يمكن ملاحظة التغير على هذا الدائرة عندما يقوم المفسر باجراء عمليات حسابية تحتاج وقتا طويلا لانجازها.\n",
    "</div>"
   ]
  },
  {
   "cell_type": "markdown",
   "id": "056ae1cc",
   "metadata": {},
   "source": [
    "<div class=arabic>\n",
    "الجزء الثاني من شريط القوائم يتمثل في اسم المفسر الذي يعمل معه دفتر الملاحظات\n",
    "</div>"
   ]
  },
  {
   "cell_type": "markdown",
   "id": "8bef701c",
   "metadata": {},
   "source": [
    "<div class=arabic>\n",
    "الجزء الثالث يتمثل وضع نمط لوحة المفاتيح فهذا الجزء يكون فارغا عندما نكون في نمط الاوامر ويتحول الى قلم عندما يكون وضع لوحة المفاتيح في وضح التحرير كما هو موضح بالصورتين التاليتين:\n",
    "</div>"
   ]
  },
  {
   "cell_type": "markdown",
   "id": "27f82fdc",
   "metadata": {},
   "source": [
    "<img src=\"img/command-mode.PNG\"><img src=\"img/edit-mode.PNG\">"
   ]
  },
  {
   "cell_type": "markdown",
   "id": "cc0d7446",
   "metadata": {},
   "source": [
    "<div class=arabic>\n",
    "سوف نتحدث بشي من التفصيل عن هذين النمطين عندما نبدأ الحديث عن خلايا المحتوى\n",
    "</div>"
   ]
  },
  {
   "cell_type": "markdown",
   "id": "7b884149",
   "metadata": {},
   "source": [
    "<div class=arabic>\n",
    "الجزء الرابع من شريط القوائم خاص بامان دفتر ملاحظات جوبتر كما هو موضح بالصورة التالية:\n",
    "</div>"
   ]
  },
  {
   "cell_type": "markdown",
   "id": "d21e9e5e",
   "metadata": {},
   "source": [
    "<img src=\"img/security-status.PNG\">"
   ]
  },
  {
   "cell_type": "markdown",
   "id": "fe30fcc3",
   "metadata": {},
   "source": [
    "<div class=arabic>\n",
    "والقيمة الافتراضية لهذا الوضع هو عدم الموثوقية وذلك لزيادة مستوى الامان في دفتر ملاحظات جوبتر وحماية مستخدمه. ويعود سبب وضع الحماية هذا لان دفتر ملاحظات جوبتر يمكن ان يحتوي على اكواد برمجية مخفية قد يؤدي تشغيلها عند بداية تشغيل الملف الى الاضرار بجهاز المستخدم. فالفيروسات الكمبيوترية ماهي الا اكواد برمجية لها تأثير تخريبي لذلك عند فتحك لدفتر ملاحظات جوبتر تأكد من موثوقية المصدر ومن مايفعله كل كود برمجي قبل تشغيله. ولتغيير وضع دفتر الملاحظات من غير موثوق الى موثوق يمكنك الضغط على حالة الامان وسف تظهر لك رسالة عما اذا كنت متأكد من موثوقية دفتر الملاحظات الذي انت بصدد تغييرحالة امانه ولتأكيد تغيير الحالة اضغط على زر ثق Trust كما هو موصح بالصورة التالية:\n",
    "</div>"
   ]
  },
  {
   "cell_type": "markdown",
   "id": "38a7de21",
   "metadata": {},
   "source": [
    "<img src=\"img/change-security.PNG\">"
   ]
  },
  {
   "cell_type": "markdown",
   "id": "05741c7e",
   "metadata": {},
   "source": [
    "<div class=arabic>\n",
    "الجزء الاخير من شريط القوائم هو جزء القوائم المنسدلة التقليدي الذي نجده في كثير من البرامج الاخرى. ولكون هذه القوائم متعارف عليها سوف نشرحها بايجاز من خلال الصور التالية:\n",
    "</div>"
   ]
  },
  {
   "cell_type": "markdown",
   "id": "5df1931d",
   "metadata": {},
   "source": [
    "<div class=arabic><h3 class=title>قائمة ملف File</h2></div><br>\n",
    "<img src=\"img/file-menu.PNG\">\n",
    "<br>"
   ]
  },
  {
   "cell_type": "markdown",
   "id": "8a05cb61",
   "metadata": {},
   "source": [
    "<div class=arabic><h3 class=title>قائمة تحرير Edit</h2></div><br>\n",
    "<img src=\"img/edit-menu.PNG\">\n",
    "<br>"
   ]
  },
  {
   "cell_type": "markdown",
   "id": "fa114fa0",
   "metadata": {},
   "source": [
    "<div class=arabic><h3 class=title>قائمة معاينة View</h2></div><br>\n",
    "<img src=\"img/view-menu.PNG\">\n",
    "<br>"
   ]
  },
  {
   "cell_type": "markdown",
   "id": "a6414812",
   "metadata": {},
   "source": [
    "<div class=arabic><h3 class=title>قائمة ادراج Insert</h2></div><br>\n",
    "<img src=\"img/insert-menu.PNG\">\n",
    "<br>"
   ]
  },
  {
   "cell_type": "markdown",
   "id": "61534163",
   "metadata": {},
   "source": [
    "<div class=arabic><h3 class=title>قائمة خلية Cell</h2></div><br>\n",
    "<img src=\"img/cell-menu.PNG\">\n",
    "<br>"
   ]
  },
  {
   "cell_type": "markdown",
   "id": "7737210c",
   "metadata": {},
   "source": [
    "<div class=arabic><h3 class=title>قائمة مفسر Kernel</h2></div><br>\n",
    "<img src=\"img/kernel-menu.PNG\">\n",
    "<br>"
   ]
  },
  {
   "cell_type": "markdown",
   "id": "79df8cba",
   "metadata": {},
   "source": [
    "<div class=arabic><h3 class=title>قائمة مساعدة Help</h2></div><br>\n",
    "<img src=\"img/help-menu.PNG\">\n",
    "<br>"
   ]
  },
  {
   "cell_type": "markdown",
   "id": "4c3f3a23",
   "metadata": {},
   "source": [
    "<div class=arabic>\n",
    "    <h2 class=title>\n",
    "        التعامل مع الخلايا في بايثون\n",
    "    </h2>\n",
    "</div>"
   ]
  },
  {
   "cell_type": "markdown",
   "id": "7b1d6d8a",
   "metadata": {},
   "source": [
    "<div class=arabic>\n",
    "في دفتر ملاحظات جوبتر يوجد ثلاثة انواع من الخلايا:\n",
    "</div>"
   ]
  },
  {
   "cell_type": "markdown",
   "id": "0373d0a9",
   "metadata": {},
   "source": [
    "<div class=arabic>\n",
    "اولا: خلايا لكتابة الكود البرمجي code<br>\n",
    "    ثانيا: خلايا تنسيق النص Markdown <br>\n",
    "    ثالثا: خلايا تنسيق خاصة Raw nbConvert<br>\n",
    "    ويمكن التحويل بين هذه الانواع من خلال القائمة المنسدلة الموضحة في الصورة التالية:\n",
    "</div>"
   ]
  },
  {
   "cell_type": "markdown",
   "id": "524923f7",
   "metadata": {},
   "source": [
    "<img src=\"img/jup-cell-type.PNG\">"
   ]
  },
  {
   "cell_type": "markdown",
   "id": "9f6ad365",
   "metadata": {},
   "source": [
    "<div class=arabic>\n",
    "    <h3 class=title>خلايا كتابة الكود\n",
    "        </h3>\n",
    "خلايا كتابة الكود البرمجي تتميز بوجود كلمة In وقوسين مربعين بعدها امام كل خلية كالخلية التي تلي هذا السطر\n",
    "</div>"
   ]
  },
  {
   "cell_type": "code",
   "execution_count": null,
   "id": "b31012ae",
   "metadata": {},
   "outputs": [],
   "source": []
  },
  {
   "cell_type": "markdown",
   "id": "62560565",
   "metadata": {},
   "source": [
    "<div class=arabic>\n",
    "عند تشغيل هذه الخلية بعد كتابة كود برمجي فيها يقوم دفتر ملاحظات جوبتر بارسال الكود البرمجي الموجود في هذه الخلية الى مفسر اللغة البرمجية المختارة kernel لتفسير الكود البرمجي واظهار النتائج. وعلى الرغم من ان دفتر ملاحظات جوبتر لديه القدرة على التعامل مع اكثر من لغة برمجية مثل جافا سكريبت وجوليا وغيرها الا اننا سوف نختصر الحديث على مفسر بايثون لاننا الان بصدد تعلم لغة بايثون فقط.\n",
    "</div>"
   ]
  },
  {
   "cell_type": "markdown",
   "id": "f13f48a8",
   "metadata": {},
   "source": [
    "<div class=arabic>\n",
    "لكن قد يتبادر الى اذهاننا سؤال عن كيفية التعرف على ما اذا كنا نتعامل مع لغة بايثون في دفتر ملاحظات جوبتر الحالي ام مع لغة برمجية اخرى. وللاجابة على هذا السؤال علينا ان ننظر الى اعلى يمين دفتر الملاحظات الذي نتعامل معه حاليا كما هو موضح في الصورة التالية:\n",
    "</div>"
   ]
  },
  {
   "cell_type": "markdown",
   "id": "13111f9d",
   "metadata": {},
   "source": [
    "<img src=\"img/kernal-type.PNG\">"
   ]
  },
  {
   "cell_type": "markdown",
   "id": "e44df47e",
   "metadata": {},
   "source": [
    "<div class=arabic>\n",
    "كما يجب الاشارة الى ان نوع المفسر kernel يتم تحديده عند انشاء دفتر ملاحظات جديد من صفحة الملفات في جوبيتر كما هو موضح في الصورة التالية:\n",
    "</div>"
   ]
  },
  {
   "cell_type": "markdown",
   "id": "b229010e",
   "metadata": {},
   "source": [
    "<img src=\"img/choose-kernel.PNG\">"
   ]
  },
  {
   "cell_type": "markdown",
   "id": "616d7f42",
   "metadata": {},
   "source": [
    "<div class=arabic>\n",
    "الاقواس المربعة بعد كلمة In التي تكون امام خلية الكود يكتب دخلها ترتيب الخلية من حيث التشغيل وذلك ليعطي للمبرمج مدلولا على الترتيب الذي تم به تشغيل الخلايا. فتشغيل الخلايا في دفتر الملاحظات ليس بالضرورة ان يتم بالترتيب من الاعلى الى الاسفل ولكن يمكن للمبرمج ان يتنقل بين الخلايا كيفما شاء. وينفذ الاكواد التي بداخلها بالترتيب الذي يريده رغم ان الطريقة المتفق عليها هي التسلسل من الاعلى الى الاسفل ليسهل على المبرمج فهم وتتبع المنطق الذي كتب به الكود. \n",
    "</div>"
   ]
  },
  {
   "cell_type": "markdown",
   "id": "f8137794",
   "metadata": {},
   "source": [
    "<div class=arabic><h2 class=title>خلايا تنسيق النص Markdown</h2></div>"
   ]
  },
  {
   "cell_type": "markdown",
   "id": "cce9a9cc",
   "metadata": {},
   "source": [
    "<div class=arabic>\n",
    "تسمح خلايا تنسيق النص بالقيام بالكثير من المهام التي تسهل على المبرمج كتابة تقارير وشروحات بطريقة احترافيه وجميلة. فيمكن من خلالها ادراج عناوين باحجام مختلفة والوان مختلفة وادراج صور ومقاطع فيديو وكتابة جداول وقوائم ومعادلات رياضية بطريقة احترافيه. وتستخدم وسوم Markdown ووسوم تنسيق صفحات الويب html ولغة ترميز latex لانجاز المهام السابقة. سوف نعود الى كل هذه الامكانيات ونتناولها بشي من التفصيل في نهاية هذا الفصل. \n",
    "</div>"
   ]
  },
  {
   "cell_type": "markdown",
   "id": "f5b33de0",
   "metadata": {},
   "source": [
    "<div class=arabic>\n",
    "كل ما اريدك ان تعرفه الان عن خلايا تنسيق النص هو انه لايوجد امامها كلمة In وقوسين مربعين كما هو الحال مع خلايا الكود. فالخلية التي تتلو هذا السطر هي خلية تنسيق نص كما هو واضح من القائمة المنسدلة التي اشرنا لها سابقا.\n",
    "</div>"
   ]
  },
  {
   "cell_type": "markdown",
   "id": "90331061",
   "metadata": {},
   "source": []
  },
  {
   "cell_type": "markdown",
   "id": "32013e79",
   "metadata": {},
   "source": [
    "<div class=arabic>\n",
    "    <h2 class=title>خلايا التنسيق الخاصة</h2>\n",
    "</div>"
   ]
  },
  {
   "cell_type": "markdown",
   "id": "22cb5732",
   "metadata": {},
   "source": [
    "<div class=arabic>\n",
    " لا تحتاج الى التعرف الى هذا النوع من الخلايا الان لان خلايا التنسيق السابقة تفي بالغرض في هذه المرحلة من تعلمنا للغة بايثون. وسوف تظهر لك هذه الخلايا مشابهة لخلايا تنسيق النص تماما ولايمكنك التفريق بينهما الا من خلال القائمة المنسدلة السابقة.\n",
    "</div>"
   ]
  },
  {
   "cell_type": "raw",
   "id": "a5f60d28",
   "metadata": {},
   "source": []
  },
  {
   "cell_type": "markdown",
   "id": "b7c8b8c8",
   "metadata": {},
   "source": [
    "<div class=arabic>\n",
    "تعلمنا سابقا انه يمكن التغيير بين انوع الخلايا الثلاث السابقة من خلال القائمة المنسدلة التي تظهر على شريط المهام ولكن لابد ان نعرفك على طريقة اسهل تعتمد على استخدام لوحة المفاتيح.\n",
    "</div>"
   ]
  },
  {
   "cell_type": "code",
   "execution_count": null,
   "id": "f54fd02d",
   "metadata": {},
   "outputs": [],
   "source": []
  }
 ],
 "metadata": {
  "kernelspec": {
   "display_name": "Python 3 (ipykernel)",
   "language": "python",
   "name": "python3"
  },
  "language_info": {
   "codemirror_mode": {
    "name": "ipython",
    "version": 3
   },
   "file_extension": ".py",
   "mimetype": "text/x-python",
   "name": "python",
   "nbconvert_exporter": "python",
   "pygments_lexer": "ipython3",
   "version": "3.8.10"
  }
 },
 "nbformat": 4,
 "nbformat_minor": 5
}
